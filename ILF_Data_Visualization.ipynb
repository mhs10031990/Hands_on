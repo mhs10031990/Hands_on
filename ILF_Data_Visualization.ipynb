{
 "cells": [
  {
   "cell_type": "markdown",
   "id": "632503b3",
   "metadata": {},
   "source": [
    "# Use Claims_Modeling Notebook template"
   ]
  },
  {
   "cell_type": "markdown",
   "id": "5b2b84af",
   "metadata": {},
   "source": [
    "## Import Snowpark Pandas for dumping csv to Snowflake table"
   ]
  },
  {
   "cell_type": "code",
   "execution_count": 13,
   "id": "31e7ad4a",
   "metadata": {},
   "outputs": [
    {
     "name": "stdout",
     "output_type": "stream",
     "text": [
      "\u001b[33mWARNING: The directory '/home/mosaic-ai/.cache/pip/http' or its parent directory is not owned by the current user and the cache has been disabled. Please check the permissions and owner of that directory. If executing pip with sudo, you may want sudo's -H flag.\u001b[0m\n",
      "\u001b[33mWARNING: The directory '/home/mosaic-ai/.cache/pip' or its parent directory is not owned by the current user and caching wheels has been disabled. check the permissions and owner of that directory. If executing pip with sudo, you may want sudo's -H flag.\u001b[0m\n",
      "\u001b[31mERROR: refractio 2.1.5.5 has requirement pandas==2.0.0, but you'll have pandas 2.0.3 which is incompatible.\u001b[0m\n",
      "\u001b[31mERROR: mlflow 2.6.0 has requirement packaging<24, but you'll have packaging 24.0 which is incompatible.\u001b[0m\n",
      "\u001b[31mERROR: mlflow 2.6.0 has requirement pyarrow<13,>=4.0.0, but you'll have pyarrow 16.0.0 which is incompatible.\u001b[0m\n",
      "\u001b[31mERROR: mlflow 2.6.0 has requirement pytz<2024, but you'll have pytz 2024.1 which is incompatible.\u001b[0m\n",
      "\u001b[31mERROR: snowflake-snowpark-python 1.9.0 has requirement cloudpickle<=2.0.0,>=1.6.0; python_version < \"3.11\", but you'll have cloudpickle 2.2.1 which is incompatible.\u001b[0m\n",
      "\u001b[31mERROR: refractml 1.0.4 has requirement cloudpickle==1.6.0, but you'll have cloudpickle 2.2.1 which is incompatible.\u001b[0m\n",
      "\u001b[31mERROR: refractml 1.0.4 has requirement PyYAML==6.0, but you'll have pyyaml 6.0.1 which is incompatible.\u001b[0m\n",
      "\u001b[31mERROR: refractml 1.0.4 has requirement urllib3==1.26.15, but you'll have urllib3 1.26.18 which is incompatible.\u001b[0m\n",
      "\u001b[31mERROR: mosaic-utils 1.0.2 has requirement scikit-learn==1.2.1; python_version >= \"3.8\", but you'll have scikit-learn 1.3.2 which is incompatible.\u001b[0m\n",
      "\u001b[31mERROR: snowflake-ml-python 1.0.11 has requirement packaging<24,>=20.9, but you'll have packaging 24.0 which is incompatible.\u001b[0m\n",
      "\u001b[31mERROR: snowflake-ml-python 1.0.11 has requirement pandas<2,>=1.0.0, but you'll have pandas 2.0.3 which is incompatible.\u001b[0m\n",
      "\u001b[31mERROR: snowflake-ml-python 1.0.11 has requirement xgboost<2,>=1.7.3, but you'll have xgboost 2.0.3 which is incompatible.\u001b[0m\n",
      "\u001b[31mERROR: openapi-schema-validator 0.6.2 has requirement jsonschema<5.0.0,>=4.19.1, but you'll have jsonschema 3.2.0 which is incompatible.\u001b[0m\n",
      "\u001b[31mERROR: mosaic-ai-serving 1.0.0 has requirement Flask==2.1.1; python_version >= \"3.7\", but you'll have flask 2.3.3 which is incompatible.\u001b[0m\n",
      "\u001b[31mERROR: mosaic-ai-serving 1.0.0 has requirement itsdangerous==2.0.1, but you'll have itsdangerous 2.1.2 which is incompatible.\u001b[0m\n",
      "\u001b[31mERROR: mosaic-ai-serving 1.0.0 has requirement Jinja2==3.0.3, but you'll have jinja2 3.1.3 which is incompatible.\u001b[0m\n",
      "\u001b[31mERROR: mosaic-ai-serving 1.0.0 has requirement matplotlib==3.6.0; python_version >= \"3.8\", but you'll have matplotlib 3.7.5 which is incompatible.\u001b[0m\n",
      "\u001b[31mERROR: mosaic-ai-client 1.0.0 has requirement matplotlib==3.1.1, but you'll have matplotlib 3.7.5 which is incompatible.\u001b[0m\n",
      "\u001b[31mERROR: jupyterlab 3.2.4 has requirement jupyter-server~=1.4, but you'll have jupyter-server 2.0.0a1 which is incompatible.\u001b[0m\n",
      "\u001b[31mERROR: jupyterlab-server 2.25.4 has requirement jsonschema>=4.18.0, but you'll have jsonschema 3.2.0 which is incompatible.\u001b[0m\n",
      "\u001b[33mWARNING: Target directory /tmp/pip_packages/typing_extensions.py already exists. Specify --upgrade to force replacement.\u001b[0m\n",
      "\u001b[33mWARNING: Target directory /tmp/pip_packages/typing_extensions-4.11.0.dist-info already exists. Specify --upgrade to force replacement.\u001b[0m\n",
      "\u001b[33mWARNING: Target directory /tmp/pip_packages/__pycache__ already exists. Specify --upgrade to force replacement.\u001b[0m\n",
      "\u001b[33mWARNING: Target directory /tmp/pip_packages/pytz already exists. Specify --upgrade to force replacement.\u001b[0m\n",
      "\u001b[33mWARNING: Target directory /tmp/pip_packages/pytz-2024.1.dist-info already exists. Specify --upgrade to force replacement.\u001b[0m\n",
      "\u001b[33mWARNING: Target directory /tmp/pip_packages/pycparser already exists. Specify --upgrade to force replacement.\u001b[0m\n",
      "\u001b[33mWARNING: Target directory /tmp/pip_packages/pycparser-2.22.dist-info already exists. Specify --upgrade to force replacement.\u001b[0m\n",
      "\u001b[33mWARNING: Target directory /tmp/pip_packages/_cffi_backend.cpython-38-x86_64-linux-gnu.so already exists. Specify --upgrade to force replacement.\u001b[0m\n",
      "\u001b[33mWARNING: Target directory /tmp/pip_packages/cffi already exists. Specify --upgrade to force replacement.\u001b[0m\n",
      "\u001b[33mWARNING: Target directory /tmp/pip_packages/cffi-1.16.0.dist-info already exists. Specify --upgrade to force replacement.\u001b[0m\n",
      "\u001b[33mWARNING: Target directory /tmp/pip_packages/asn1crypto already exists. Specify --upgrade to force replacement.\u001b[0m\n",
      "\u001b[33mWARNING: Target directory /tmp/pip_packages/asn1crypto-1.5.1.dist-info already exists. Specify --upgrade to force replacement.\u001b[0m\n",
      "\u001b[33mWARNING: Target directory /tmp/pip_packages/urllib3 already exists. Specify --upgrade to force replacement.\u001b[0m\n",
      "\u001b[33mWARNING: Target directory /tmp/pip_packages/urllib3-1.26.18.dist-info already exists. Specify --upgrade to force replacement.\u001b[0m\n",
      "\u001b[33mWARNING: Target directory /tmp/pip_packages/charset_normalizer already exists. Specify --upgrade to force replacement.\u001b[0m\n",
      "\u001b[33mWARNING: Target directory /tmp/pip_packages/charset_normalizer-3.3.2.dist-info already exists. Specify --upgrade to force replacement.\u001b[0m\n",
      "\u001b[33mWARNING: Target directory /tmp/pip_packages/certifi already exists. Specify --upgrade to force replacement.\u001b[0m\n",
      "\u001b[33mWARNING: Target directory /tmp/pip_packages/certifi-2024.2.2.dist-info already exists. Specify --upgrade to force replacement.\u001b[0m\n",
      "\u001b[33mWARNING: Target directory /tmp/pip_packages/idna already exists. Specify --upgrade to force replacement.\u001b[0m\n",
      "\u001b[33mWARNING: Target directory /tmp/pip_packages/idna-3.7.dist-info already exists. Specify --upgrade to force replacement.\u001b[0m\n",
      "\u001b[33mWARNING: Target directory /tmp/pip_packages/requests already exists. Specify --upgrade to force replacement.\u001b[0m\n",
      "\u001b[33mWARNING: Target directory /tmp/pip_packages/requests-2.31.0.dist-info already exists. Specify --upgrade to force replacement.\u001b[0m\n",
      "\u001b[33mWARNING: Target directory /tmp/pip_packages/tomlkit already exists. Specify --upgrade to force replacement.\u001b[0m\n",
      "\u001b[33mWARNING: Target directory /tmp/pip_packages/tomlkit-0.12.4.dist-info already exists. Specify --upgrade to force replacement.\u001b[0m\n",
      "\u001b[33mWARNING: Target directory /tmp/pip_packages/cryptography-42.0.6.dist-info already exists. Specify --upgrade to force replacement.\u001b[0m\n",
      "\u001b[33mWARNING: Target directory /tmp/pip_packages/cryptography already exists. Specify --upgrade to force replacement.\u001b[0m\n",
      "\u001b[33mWARNING: Target directory /tmp/pip_packages/packaging already exists. Specify --upgrade to force replacement.\u001b[0m\n",
      "\u001b[33mWARNING: Target directory /tmp/pip_packages/packaging-24.0.dist-info already exists. Specify --upgrade to force replacement.\u001b[0m\n",
      "\u001b[33mWARNING: Target directory /tmp/pip_packages/OpenSSL already exists. Specify --upgrade to force replacement.\u001b[0m\n",
      "\u001b[33mWARNING: Target directory /tmp/pip_packages/pyOpenSSL-24.1.0.dist-info already exists. Specify --upgrade to force replacement.\u001b[0m\n",
      "\u001b[33mWARNING: Target directory /tmp/pip_packages/filelock already exists. Specify --upgrade to force replacement.\u001b[0m\n",
      "\u001b[33mWARNING: Target directory /tmp/pip_packages/filelock-3.14.0.dist-info already exists. Specify --upgrade to force replacement.\u001b[0m\n",
      "\u001b[33mWARNING: Target directory /tmp/pip_packages/jwt already exists. Specify --upgrade to force replacement.\u001b[0m\n",
      "\u001b[33mWARNING: Target directory /tmp/pip_packages/PyJWT-2.8.0.dist-info already exists. Specify --upgrade to force replacement.\u001b[0m\n",
      "\u001b[33mWARNING: Target directory /tmp/pip_packages/platformdirs already exists. Specify --upgrade to force replacement.\u001b[0m\n",
      "\u001b[33mWARNING: Target directory /tmp/pip_packages/platformdirs-4.2.1.dist-info already exists. Specify --upgrade to force replacement.\u001b[0m\n",
      "\u001b[33mWARNING: Target directory /tmp/pip_packages/sortedcontainers already exists. Specify --upgrade to force replacement.\u001b[0m\n",
      "\u001b[33mWARNING: Target directory /tmp/pip_packages/sortedcontainers-2.4.0.dist-info already exists. Specify --upgrade to force replacement.\u001b[0m\n",
      "\u001b[33mWARNING: Target directory /tmp/pip_packages/numpy.libs already exists. Specify --upgrade to force replacement.\u001b[0m\n",
      "\u001b[33mWARNING: Target directory /tmp/pip_packages/numpy-1.24.4.dist-info already exists. Specify --upgrade to force replacement.\u001b[0m\n",
      "\u001b[33mWARNING: Target directory /tmp/pip_packages/numpy already exists. Specify --upgrade to force replacement.\u001b[0m\n",
      "\u001b[33mWARNING: Target directory /tmp/pip_packages/six.py already exists. Specify --upgrade to force replacement.\u001b[0m\n",
      "\u001b[33mWARNING: Target directory /tmp/pip_packages/six-1.16.0.dist-info already exists. Specify --upgrade to force replacement.\u001b[0m\n",
      "\u001b[33mWARNING: Target directory /tmp/pip_packages/dateutil already exists. Specify --upgrade to force replacement.\u001b[0m\n",
      "\u001b[33mWARNING: Target directory /tmp/pip_packages/python_dateutil-2.9.0.post0.dist-info already exists. Specify --upgrade to force replacement.\u001b[0m\n",
      "\u001b[33mWARNING: Target directory /tmp/pip_packages/tzdata already exists. Specify --upgrade to force replacement.\u001b[0m\n",
      "\u001b[33mWARNING: Target directory /tmp/pip_packages/tzdata-2024.1.dist-info already exists. Specify --upgrade to force replacement.\u001b[0m\n",
      "\u001b[33mWARNING: Target directory /tmp/pip_packages/pandas-2.0.3.dist-info already exists. Specify --upgrade to force replacement.\u001b[0m\n",
      "\u001b[33mWARNING: Target directory /tmp/pip_packages/pandas already exists. Specify --upgrade to force replacement.\u001b[0m\n",
      "\u001b[33mWARNING: Target directory /tmp/pip_packages/pyarrow-16.0.0.dist-info already exists. Specify --upgrade to force replacement.\u001b[0m\n",
      "\u001b[33mWARNING: Target directory /tmp/pip_packages/pyarrow already exists. Specify --upgrade to force replacement.\u001b[0m\n",
      "\u001b[33mWARNING: Target directory /tmp/pip_packages/snowflake already exists. Specify --upgrade to force replacement.\u001b[0m\n",
      "\u001b[33mWARNING: Target directory /tmp/pip_packages/snowflake_connector_python-3.10.0.dist-info already exists. Specify --upgrade to force replacement.\u001b[0m\n",
      "\u001b[33mWARNING: Target directory /tmp/pip_packages/bin already exists. Specify --upgrade to force replacement.\u001b[0m\n"
     ]
    },
    {
     "name": "stdout",
     "output_type": "stream",
     "text": [
      "\u001b[33mWARNING: You are using pip version 19.3.1; however, version 24.0 is available.\n",
      "You should consider upgrading via the 'pip install --upgrade pip' command.\u001b[0m\n",
      "\u001b[33mWARNING: You are using pip version 19.3.1; however, version 24.0 is available.\n",
      "You should consider upgrading via the 'pip install --upgrade pip' command.\u001b[0m\n",
      "\u001b[33mWARNING: The directory '/home/mosaic-ai/.cache/pip/http' or its parent directory is not owned by the current user and the cache has been disabled. Please check the permissions and owner of that directory. If executing pip with sudo, you may want sudo's -H flag.\u001b[0m\n",
      "\u001b[33mWARNING: The directory '/home/mosaic-ai/.cache/pip' or its parent directory is not owned by the current user and caching wheels has been disabled. check the permissions and owner of that directory. If executing pip with sudo, you may want sudo's -H flag.\u001b[0m\n",
      "\u001b[31mERROR: mlflow 2.6.0 has requirement packaging<24, but you'll have packaging 24.0 which is incompatible.\u001b[0m\n",
      "\u001b[31mERROR: mlflow 2.6.0 has requirement pytz<2024, but you'll have pytz 2024.1 which is incompatible.\u001b[0m\n",
      "\u001b[31mERROR: refractml 1.0.4 has requirement cloudpickle==1.6.0, but you'll have cloudpickle 2.0.0 which is incompatible.\u001b[0m\n",
      "\u001b[31mERROR: refractml 1.0.4 has requirement PyYAML==6.0, but you'll have pyyaml 6.0.1 which is incompatible.\u001b[0m\n",
      "\u001b[31mERROR: refractml 1.0.4 has requirement urllib3==1.26.15, but you'll have urllib3 1.26.18 which is incompatible.\u001b[0m\n",
      "\u001b[31mERROR: snowflake-ml-python 1.0.11 has requirement packaging<24,>=20.9, but you'll have packaging 24.0 which is incompatible.\u001b[0m\n",
      "\u001b[31mERROR: snowflake-ml-python 1.0.11 has requirement pandas<2,>=1.0.0, but you'll have pandas 2.0.3 which is incompatible.\u001b[0m\n",
      "\u001b[31mERROR: snowflake-ml-python 1.0.11 has requirement xgboost<2,>=1.7.3, but you'll have xgboost 2.0.3 which is incompatible.\u001b[0m\n",
      "\u001b[31mERROR: mosaic-ai-serving 1.0.0 has requirement Flask==2.1.1; python_version >= \"3.7\", but you'll have flask 2.3.3 which is incompatible.\u001b[0m\n",
      "\u001b[31mERROR: mosaic-ai-serving 1.0.0 has requirement itsdangerous==2.0.1, but you'll have itsdangerous 2.1.2 which is incompatible.\u001b[0m\n",
      "\u001b[31mERROR: mosaic-ai-serving 1.0.0 has requirement Jinja2==3.0.3, but you'll have jinja2 3.1.3 which is incompatible.\u001b[0m\n",
      "\u001b[31mERROR: mosaic-ai-serving 1.0.0 has requirement matplotlib==3.6.0; python_version >= \"3.8\", but you'll have matplotlib 3.7.5 which is incompatible.\u001b[0m\n",
      "\u001b[31mERROR: mosaic-ai-client 1.0.0 has requirement matplotlib==3.1.1, but you'll have matplotlib 3.7.5 which is incompatible.\u001b[0m\n",
      "\u001b[31mERROR: jupyterlab 3.2.4 has requirement jupyter-server~=1.4, but you'll have jupyter-server 2.0.0a1 which is incompatible.\u001b[0m\n",
      "\u001b[31mERROR: jupyterlab-server 2.25.4 has requirement jsonschema>=4.18.0, but you'll have jsonschema 3.2.0 which is incompatible.\u001b[0m\n",
      "\u001b[33mWARNING: You are using pip version 19.3.1; however, version 24.0 is available.\n",
      "You should consider upgrading via the 'pip install --upgrade pip' command.\u001b[0m\n",
      "\u001b[33mWARNING: The directory '/home/mosaic-ai/.cache/pip/http' or its parent directory is not owned by the current user and the cache has been disabled. Please check the permissions and owner of that directory. If executing pip with sudo, you may want sudo's -H flag.\u001b[0m\n",
      "\u001b[33mWARNING: The directory '/home/mosaic-ai/.cache/pip' or its parent directory is not owned by the current user and caching wheels has been disabled. check the permissions and owner of that directory. If executing pip with sudo, you may want sudo's -H flag.\u001b[0m\n",
      "\u001b[31mERROR: refractio 2.1.5.5 has requirement pandas==2.0.0, but you'll have pandas 2.0.3 which is incompatible.\u001b[0m\n",
      "\u001b[31mERROR: mlflow 2.6.0 has requirement packaging<24, but you'll have packaging 24.0 which is incompatible.\u001b[0m\n",
      "\u001b[31mERROR: mlflow 2.6.0 has requirement pytz<2024, but you'll have pytz 2024.1 which is incompatible.\u001b[0m\n",
      "\u001b[31mERROR: mosaic-utils 1.0.2 has requirement scikit-learn==1.2.1; python_version >= \"3.8\", but you'll have scikit-learn 1.3.2 which is incompatible.\u001b[0m\n",
      "\u001b[31mERROR: snowflake-ml-python 1.0.11 has requirement packaging<24,>=20.9, but you'll have packaging 24.0 which is incompatible.\u001b[0m\n",
      "\u001b[31mERROR: snowflake-ml-python 1.0.11 has requirement pandas<2,>=1.0.0, but you'll have pandas 2.0.3 which is incompatible.\u001b[0m\n",
      "\u001b[31mERROR: snowflake-ml-python 1.0.11 has requirement xgboost<2,>=1.7.3, but you'll have xgboost 2.0.3 which is incompatible.\u001b[0m\n",
      "\u001b[31mERROR: openapi-spec-validator 0.7.1 has requirement jsonschema<5.0.0,>=4.18.0, but you'll have jsonschema 3.2.0 which is incompatible.\u001b[0m\n",
      "\u001b[31mERROR: openapi-schema-validator 0.6.2 has requirement jsonschema<5.0.0,>=4.19.1, but you'll have jsonschema 3.2.0 which is incompatible.\u001b[0m\n",
      "\u001b[31mERROR: mosaic-ai-serving 1.0.0 has requirement Flask==2.1.1; python_version >= \"3.7\", but you'll have flask 2.3.3 which is incompatible.\u001b[0m\n",
      "\u001b[31mERROR: mosaic-ai-serving 1.0.0 has requirement itsdangerous==2.0.1, but you'll have itsdangerous 2.1.2 which is incompatible.\u001b[0m\n",
      "\u001b[31mERROR: mosaic-ai-serving 1.0.0 has requirement Jinja2==3.0.3, but you'll have jinja2 3.1.3 which is incompatible.\u001b[0m\n",
      "\u001b[31mERROR: mosaic-ai-serving 1.0.0 has requirement matplotlib==3.6.0; python_version >= \"3.8\", but you'll have matplotlib 3.7.5 which is incompatible.\u001b[0m\n",
      "\u001b[31mERROR: mosaic-ai-client 1.0.0 has requirement matplotlib==3.1.1, but you'll have matplotlib 3.7.5 which is incompatible.\u001b[0m\n",
      "\u001b[31mERROR: jupyterlab 3.2.4 has requirement jupyter-server~=1.4, but you'll have jupyter-server 2.0.0a1 which is incompatible.\u001b[0m\n",
      "\u001b[31mERROR: jupyterlab-server 2.25.4 has requirement jsonschema>=4.18.0, but you'll have jsonschema 3.2.0 which is incompatible.\u001b[0m\n",
      "\u001b[33mWARNING: Target directory /tmp/pip_packages/six.py already exists. Specify --upgrade to force replacement.\u001b[0m\n",
      "\u001b[33mWARNING: Target directory /tmp/pip_packages/six-1.16.0.dist-info already exists. Specify --upgrade to force replacement.\u001b[0m\n",
      "\u001b[33mWARNING: Target directory /tmp/pip_packages/__pycache__ already exists. Specify --upgrade to force replacement.\u001b[0m\n",
      "\u001b[33mWARNING: Target directory /tmp/pip_packages/dateutil already exists. Specify --upgrade to force replacement.\u001b[0m\n",
      "\u001b[33mWARNING: Target directory /tmp/pip_packages/python_dateutil-2.9.0.post0.dist-info already exists. Specify --upgrade to force replacement.\u001b[0m\n",
      "\u001b[33mWARNING: Target directory /tmp/pip_packages/packaging already exists. Specify --upgrade to force replacement.\u001b[0m\n",
      "\u001b[33mWARNING: Target directory /tmp/pip_packages/packaging-24.0.dist-info already exists. Specify --upgrade to force replacement.\u001b[0m\n",
      "\u001b[33mWARNING: Target directory /tmp/pip_packages/numpy.libs already exists. Specify --upgrade to force replacement.\u001b[0m\n",
      "\u001b[33mWARNING: Target directory /tmp/pip_packages/numpy-1.24.4.dist-info already exists. Specify --upgrade to force replacement.\u001b[0m\n",
      "\u001b[33mWARNING: Target directory /tmp/pip_packages/numpy already exists. Specify --upgrade to force replacement.\u001b[0m\n",
      "\u001b[33mWARNING: Target directory /tmp/pip_packages/pytz already exists. Specify --upgrade to force replacement.\u001b[0m\n",
      "\u001b[33mWARNING: Target directory /tmp/pip_packages/pytz-2024.1.dist-info already exists. Specify --upgrade to force replacement.\u001b[0m\n",
      "\u001b[33mWARNING: Target directory /tmp/pip_packages/tzdata already exists. Specify --upgrade to force replacement.\u001b[0m\n",
      "\u001b[33mWARNING: Target directory /tmp/pip_packages/tzdata-2024.1.dist-info already exists. Specify --upgrade to force replacement.\u001b[0m\n",
      "\u001b[33mWARNING: Target directory /tmp/pip_packages/pandas-2.0.3.dist-info already exists. Specify --upgrade to force replacement.\u001b[0m\n",
      "\u001b[33mWARNING: Target directory /tmp/pip_packages/pandas already exists. Specify --upgrade to force replacement.\u001b[0m\n",
      "\u001b[33mWARNING: Target directory /tmp/pip_packages/bin already exists. Specify --upgrade to force replacement.\u001b[0m\n",
      "\u001b[33mWARNING: You are using pip version 19.3.1; however, version 24.0 is available.\n",
      "You should consider upgrading via the 'pip install --upgrade pip' command.\u001b[0m\n",
      "\u001b[33mWARNING: The directory '/home/mosaic-ai/.cache/pip/http' or its parent directory is not owned by the current user and the cache has been disabled. Please check the permissions and owner of that directory. If executing pip with sudo, you may want sudo's -H flag.\u001b[0m\n",
      "\u001b[33mWARNING: The directory '/home/mosaic-ai/.cache/pip' or its parent directory is not owned by the current user and caching wheels has been disabled. check the permissions and owner of that directory. If executing pip with sudo, you may want sudo's -H flag.\u001b[0m\n"
     ]
    },
    {
     "name": "stdout",
     "output_type": "stream",
     "text": [
      "\u001b[31mERROR: mlflow 2.6.0 has requirement packaging<24, but you'll have packaging 24.0 which is incompatible.\u001b[0m\n",
      "\u001b[31mERROR: mlflow 2.6.0 has requirement pytz<2024, but you'll have pytz 2024.1 which is incompatible.\u001b[0m\n",
      "\u001b[31mERROR: snowflake-ml-python 1.0.11 has requirement packaging<24,>=20.9, but you'll have packaging 24.0 which is incompatible.\u001b[0m\n",
      "\u001b[31mERROR: snowflake-ml-python 1.0.11 has requirement pandas<2,>=1.0.0, but you'll have pandas 2.0.3 which is incompatible.\u001b[0m\n",
      "\u001b[31mERROR: snowflake-ml-python 1.0.11 has requirement xgboost<2,>=1.7.3, but you'll have xgboost 2.0.3 which is incompatible.\u001b[0m\n",
      "\u001b[31mERROR: mosaic-ai-serving 1.0.0 has requirement Flask==2.1.1; python_version >= \"3.7\", but you'll have flask 2.3.3 which is incompatible.\u001b[0m\n",
      "\u001b[31mERROR: mosaic-ai-serving 1.0.0 has requirement itsdangerous==2.0.1, but you'll have itsdangerous 2.1.2 which is incompatible.\u001b[0m\n",
      "\u001b[31mERROR: mosaic-ai-serving 1.0.0 has requirement Jinja2==3.0.3, but you'll have jinja2 3.1.3 which is incompatible.\u001b[0m\n",
      "\u001b[31mERROR: mosaic-ai-serving 1.0.0 has requirement matplotlib==3.6.0; python_version >= \"3.8\", but you'll have matplotlib 3.7.5 which is incompatible.\u001b[0m\n",
      "\u001b[31mERROR: mosaic-ai-client 1.0.0 has requirement matplotlib==3.1.1, but you'll have matplotlib 3.7.5 which is incompatible.\u001b[0m\n",
      "\u001b[31mERROR: jupyterlab 3.2.4 has requirement jupyter-server~=1.4, but you'll have jupyter-server 2.0.0a1 which is incompatible.\u001b[0m\n",
      "\u001b[31mERROR: jupyterlab-server 2.25.4 has requirement jsonschema>=4.18.0, but you'll have jsonschema 3.2.0 which is incompatible.\u001b[0m\n",
      "\u001b[33mWARNING: Target directory /tmp/pip_packages/packaging already exists. Specify --upgrade to force replacement.\u001b[0m\n",
      "\u001b[33mWARNING: Target directory /tmp/pip_packages/packaging-24.0.dist-info already exists. Specify --upgrade to force replacement.\u001b[0m\n",
      "\u001b[33mWARNING: Target directory /tmp/pip_packages/share already exists. Specify --upgrade to force replacement.\u001b[0m\n",
      "\u001b[33mWARNING: You are using pip version 19.3.1; however, version 24.0 is available.\n",
      "You should consider upgrading via the 'pip install --upgrade pip' command.\u001b[0m\n",
      "\u001b[33mWARNING: The directory '/home/mosaic-ai/.cache/pip/http' or its parent directory is not owned by the current user and the cache has been disabled. Please check the permissions and owner of that directory. If executing pip with sudo, you may want sudo's -H flag.\u001b[0m\n",
      "\u001b[33mWARNING: The directory '/home/mosaic-ai/.cache/pip' or its parent directory is not owned by the current user and caching wheels has been disabled. check the permissions and owner of that directory. If executing pip with sudo, you may want sudo's -H flag.\u001b[0m\n",
      "\u001b[31mERROR: mlflow 2.6.0 has requirement pytz<2024, but you'll have pytz 2024.1 which is incompatible.\u001b[0m\n",
      "\u001b[31mERROR: mosaic-utils 1.0.2 has requirement scikit-learn==1.2.1; python_version >= \"3.8\", but you'll have scikit-learn 1.3.2 which is incompatible.\u001b[0m\n",
      "\u001b[31mERROR: snowflake-ml-python 1.0.11 has requirement pandas<2,>=1.0.0, but you'll have pandas 2.0.3 which is incompatible.\u001b[0m\n",
      "\u001b[31mERROR: mosaic-ai-serving 1.0.0 has requirement Flask==2.1.1; python_version >= \"3.7\", but you'll have flask 2.3.3 which is incompatible.\u001b[0m\n",
      "\u001b[31mERROR: mosaic-ai-serving 1.0.0 has requirement itsdangerous==2.0.1, but you'll have itsdangerous 2.1.2 which is incompatible.\u001b[0m\n",
      "\u001b[31mERROR: mosaic-ai-serving 1.0.0 has requirement Jinja2==3.0.3, but you'll have jinja2 3.1.3 which is incompatible.\u001b[0m\n",
      "\u001b[31mERROR: mosaic-ai-serving 1.0.0 has requirement matplotlib==3.6.0; python_version >= \"3.8\", but you'll have matplotlib 3.7.5 which is incompatible.\u001b[0m\n",
      "\u001b[31mERROR: mosaic-ai-client 1.0.0 has requirement matplotlib==3.1.1, but you'll have matplotlib 3.7.5 which is incompatible.\u001b[0m\n",
      "\u001b[33mWARNING: You are using pip version 19.3.1; however, version 24.0 is available.\n",
      "You should consider upgrading via the 'pip install --upgrade pip' command.\u001b[0m\n",
      "\u001b[33mWARNING: The directory '/home/mosaic-ai/.cache/pip/http' or its parent directory is not owned by the current user and the cache has been disabled. Please check the permissions and owner of that directory. If executing pip with sudo, you may want sudo's -H flag.\u001b[0m\n",
      "\u001b[33mWARNING: The directory '/home/mosaic-ai/.cache/pip' or its parent directory is not owned by the current user and caching wheels has been disabled. check the permissions and owner of that directory. If executing pip with sudo, you may want sudo's -H flag.\u001b[0m\n",
      "\u001b[31mERROR: mlflow 2.6.0 has requirement pytz<2024, but you'll have pytz 2024.1 which is incompatible.\u001b[0m\n",
      "\u001b[31mERROR: mosaic-utils 1.0.2 has requirement scikit-learn==1.2.1; python_version >= \"3.8\", but you'll have scikit-learn 1.3.2 which is incompatible.\u001b[0m\n",
      "\u001b[31mERROR: snowflake-ml-python 1.0.11 has requirement pandas<2,>=1.0.0, but you'll have pandas 2.0.3 which is incompatible.\u001b[0m\n",
      "\u001b[31mERROR: snowflake-ml-python 1.0.11 has requirement xgboost<2,>=1.7.3, but you'll have xgboost 2.0.3 which is incompatible.\u001b[0m\n",
      "\u001b[31mERROR: mosaic-ai-serving 1.0.0 has requirement Flask==2.1.1; python_version >= \"3.7\", but you'll have flask 2.3.3 which is incompatible.\u001b[0m\n",
      "\u001b[31mERROR: mosaic-ai-serving 1.0.0 has requirement itsdangerous==2.0.1, but you'll have itsdangerous 2.1.2 which is incompatible.\u001b[0m\n",
      "\u001b[31mERROR: mosaic-ai-serving 1.0.0 has requirement Jinja2==3.0.3, but you'll have jinja2 3.1.3 which is incompatible.\u001b[0m\n",
      "\u001b[31mERROR: mosaic-ai-serving 1.0.0 has requirement matplotlib==3.6.0; python_version >= \"3.8\", but you'll have matplotlib 3.7.5 which is incompatible.\u001b[0m\n",
      "\u001b[31mERROR: mosaic-ai-client 1.0.0 has requirement matplotlib==3.1.1, but you'll have matplotlib 3.7.5 which is incompatible.\u001b[0m\n",
      "\u001b[33mWARNING: You are using pip version 19.3.1; however, version 24.0 is available.\n",
      "You should consider upgrading via the 'pip install --upgrade pip' command.\u001b[0m\n",
      "\u001b[33mWARNING: The directory '/home/mosaic-ai/.cache/pip/http' or its parent directory is not owned by the current user and the cache has been disabled. Please check the permissions and owner of that directory. If executing pip with sudo, you may want sudo's -H flag.\u001b[0m\n",
      "\u001b[33mWARNING: The directory '/home/mosaic-ai/.cache/pip' or its parent directory is not owned by the current user and caching wheels has been disabled. check the permissions and owner of that directory. If executing pip with sudo, you may want sudo's -H flag.\u001b[0m\n",
      "\u001b[31mERROR: refractio 2.1.5.5 has requirement pandas==2.0.0, but you'll have pandas 1.5.3 which is incompatible.\u001b[0m\n",
      "\u001b[31mERROR: mlflow 2.6.0 has requirement pytz<2024, but you'll have pytz 2024.1 which is incompatible.\u001b[0m\n",
      "\u001b[31mERROR: mosaic-utils 1.0.2 has requirement scikit-learn==1.2.1; python_version >= \"3.8\", but you'll have scikit-learn 1.3.2 which is incompatible.\u001b[0m\n",
      "\u001b[31mERROR: snowflake-ml-python 1.0.11 has requirement xgboost<2,>=1.7.3, but you'll have xgboost 2.0.3 which is incompatible.\u001b[0m\n",
      "\u001b[31mERROR: openapi-schema-validator 0.6.2 has requirement jsonschema<5.0.0,>=4.19.1, but you'll have jsonschema 3.2.0 which is incompatible.\u001b[0m\n",
      "\u001b[31mERROR: mosaic-ai-serving 1.0.0 has requirement Flask==2.1.1; python_version >= \"3.7\", but you'll have flask 2.3.3 which is incompatible.\u001b[0m\n",
      "\u001b[31mERROR: mosaic-ai-serving 1.0.0 has requirement itsdangerous==2.0.1, but you'll have itsdangerous 2.1.2 which is incompatible.\u001b[0m\n",
      "\u001b[31mERROR: mosaic-ai-serving 1.0.0 has requirement Jinja2==3.0.3, but you'll have jinja2 3.1.3 which is incompatible.\u001b[0m\n",
      "\u001b[31mERROR: mosaic-ai-serving 1.0.0 has requirement matplotlib==3.6.0; python_version >= \"3.8\", but you'll have matplotlib 3.7.5 which is incompatible.\u001b[0m\n",
      "\u001b[31mERROR: mosaic-ai-client 1.0.0 has requirement matplotlib==3.1.1, but you'll have matplotlib 3.7.5 which is incompatible.\u001b[0m\n",
      "\u001b[33mWARNING: You are using pip version 19.3.1; however, version 24.0 is available.\n",
      "You should consider upgrading via the 'pip install --upgrade pip' command.\u001b[0m\n",
      "\u001b[33mWARNING: The directory '/home/mosaic-ai/.cache/pip/http' or its parent directory is not owned by the current user and the cache has been disabled. Please check the permissions and owner of that directory. If executing pip with sudo, you may want sudo's -H flag.\u001b[0m\n",
      "\u001b[33mWARNING: The directory '/home/mosaic-ai/.cache/pip' or its parent directory is not owned by the current user and caching wheels has been disabled. check the permissions and owner of that directory. If executing pip with sudo, you may want sudo's -H flag.\u001b[0m\n"
     ]
    },
    {
     "name": "stdout",
     "output_type": "stream",
     "text": [
      "\u001b[31mERROR: mlflow 2.6.0 has requirement pytz<2024, but you'll have pytz 2024.1 which is incompatible.\u001b[0m\n",
      "\u001b[31mERROR: refractml 1.0.4 has requirement cloudpickle==1.6.0, but you'll have cloudpickle 2.2.1 which is incompatible.\u001b[0m\n",
      "\u001b[31mERROR: refractml 1.0.4 has requirement PyYAML==6.0, but you'll have pyyaml 6.0.1 which is incompatible.\u001b[0m\n",
      "\u001b[31mERROR: refractml 1.0.4 has requirement urllib3==1.26.15, but you'll have urllib3 1.26.18 which is incompatible.\u001b[0m\n",
      "\u001b[31mERROR: snowflake-ml-python 1.0.11 has requirement pandas<2,>=1.0.0, but you'll have pandas 2.0.3 which is incompatible.\u001b[0m\n",
      "\u001b[31mERROR: snowflake-ml-python 1.0.11 has requirement xgboost<2,>=1.7.3, but you'll have xgboost 2.0.3 which is incompatible.\u001b[0m\n",
      "\u001b[31mERROR: mosaic-ai-client 1.0.0 has requirement matplotlib==3.1.1, but you'll have matplotlib 3.7.5 which is incompatible.\u001b[0m\n",
      "\u001b[31mERROR: jupyterlab-server 2.25.4 has requirement jsonschema>=4.18.0, but you'll have jsonschema 3.2.0 which is incompatible.\u001b[0m\n",
      "\u001b[33mWARNING: You are using pip version 19.3.1; however, version 24.0 is available.\n",
      "You should consider upgrading via the 'pip install --upgrade pip' command.\u001b[0m\n",
      "\u001b[33mWARNING: The directory '/home/mosaic-ai/.cache/pip/http' or its parent directory is not owned by the current user and the cache has been disabled. Please check the permissions and owner of that directory. If executing pip with sudo, you may want sudo's -H flag.\u001b[0m\n",
      "\u001b[33mWARNING: The directory '/home/mosaic-ai/.cache/pip' or its parent directory is not owned by the current user and caching wheels has been disabled. check the permissions and owner of that directory. If executing pip with sudo, you may want sudo's -H flag.\u001b[0m\n",
      "\u001b[31mERROR: mlflow 2.6.0 has requirement pytz<2024, but you'll have pytz 2024.1 which is incompatible.\u001b[0m\n",
      "\u001b[31mERROR: snowflake-ml-python 1.0.11 has requirement pandas<2,>=1.0.0, but you'll have pandas 2.0.3 which is incompatible.\u001b[0m\n",
      "\u001b[31mERROR: snowflake-ml-python 1.0.11 has requirement xgboost<2,>=1.7.3, but you'll have xgboost 2.0.3 which is incompatible.\u001b[0m\n",
      "\u001b[31mERROR: mosaic-ai-serving 1.0.0 has requirement Flask==2.1.1; python_version >= \"3.7\", but you'll have flask 2.3.3 which is incompatible.\u001b[0m\n",
      "\u001b[31mERROR: mosaic-ai-serving 1.0.0 has requirement itsdangerous==2.0.1, but you'll have itsdangerous 2.1.2 which is incompatible.\u001b[0m\n",
      "\u001b[31mERROR: mosaic-ai-serving 1.0.0 has requirement Jinja2==3.0.3, but you'll have jinja2 3.1.3 which is incompatible.\u001b[0m\n",
      "\u001b[31mERROR: mosaic-ai-serving 1.0.0 has requirement matplotlib==3.6.0; python_version >= \"3.8\", but you'll have matplotlib 3.7.5 which is incompatible.\u001b[0m\n",
      "\u001b[31mERROR: mosaic-ai-client 1.0.0 has requirement matplotlib==3.1.1, but you'll have matplotlib 3.7.5 which is incompatible.\u001b[0m\n",
      "\u001b[31mERROR: jupyterlab 3.2.4 has requirement jupyter-server~=1.4, but you'll have jupyter-server 2.0.0a1 which is incompatible.\u001b[0m\n",
      "\u001b[31mERROR: jupyterlab-server 2.25.4 has requirement jsonschema>=4.18.0, but you'll have jsonschema 3.2.0 which is incompatible.\u001b[0m\n",
      "\u001b[33mWARNING: You are using pip version 19.3.1; however, version 24.0 is available.\n",
      "You should consider upgrading via the 'pip install --upgrade pip' command.\u001b[0m\n",
      "\u001b[33mWARNING: The directory '/home/mosaic-ai/.cache/pip/http' or its parent directory is not owned by the current user and the cache has been disabled. Please check the permissions and owner of that directory. If executing pip with sudo, you may want sudo's -H flag.\u001b[0m\n",
      "\u001b[33mWARNING: The directory '/home/mosaic-ai/.cache/pip' or its parent directory is not owned by the current user and caching wheels has been disabled. check the permissions and owner of that directory. If executing pip with sudo, you may want sudo's -H flag.\u001b[0m\n",
      "\u001b[31mERROR: mlflow 2.6.0 has requirement pytz<2024, but you'll have pytz 2024.1 which is incompatible.\u001b[0m\n",
      "\u001b[31mERROR: mosaic-utils 1.0.2 has requirement scikit-learn==1.2.1; python_version >= \"3.8\", but you'll have scikit-learn 1.3.0 which is incompatible.\u001b[0m\n",
      "\u001b[31mERROR: snowflake-ml-python 1.0.11 has requirement pandas<2,>=1.0.0, but you'll have pandas 2.0.3 which is incompatible.\u001b[0m\n",
      "\u001b[31mERROR: snowflake-ml-python 1.0.11 has requirement xgboost<2,>=1.7.3, but you'll have xgboost 2.0.3 which is incompatible.\u001b[0m\n",
      "\u001b[31mERROR: mosaic-ai-serving 1.0.0 has requirement Flask==2.1.1; python_version >= \"3.7\", but you'll have flask 2.3.3 which is incompatible.\u001b[0m\n",
      "\u001b[31mERROR: mosaic-ai-serving 1.0.0 has requirement itsdangerous==2.0.1, but you'll have itsdangerous 2.1.2 which is incompatible.\u001b[0m\n",
      "\u001b[31mERROR: mosaic-ai-serving 1.0.0 has requirement Jinja2==3.0.3, but you'll have jinja2 3.1.3 which is incompatible.\u001b[0m\n",
      "\u001b[31mERROR: mosaic-ai-serving 1.0.0 has requirement matplotlib==3.6.0; python_version >= \"3.8\", but you'll have matplotlib 3.7.5 which is incompatible.\u001b[0m\n",
      "\u001b[31mERROR: mosaic-ai-client 1.0.0 has requirement matplotlib==3.1.1, but you'll have matplotlib 3.7.5 which is incompatible.\u001b[0m\n",
      "\u001b[33mWARNING: You are using pip version 19.3.1; however, version 24.0 is available.\n",
      "You should consider upgrading via the 'pip install --upgrade pip' command.\u001b[0m\n",
      "\u001b[33mWARNING: The directory '/home/mosaic-ai/.cache/pip/http' or its parent directory is not owned by the current user and the cache has been disabled. Please check the permissions and owner of that directory. If executing pip with sudo, you may want sudo's -H flag.\u001b[0m\n",
      "\u001b[33mWARNING: The directory '/home/mosaic-ai/.cache/pip' or its parent directory is not owned by the current user and caching wheels has been disabled. check the permissions and owner of that directory. If executing pip with sudo, you may want sudo's -H flag.\u001b[0m\n",
      "\u001b[31mERROR: mlflow 2.6.0 has requirement pytz<2024, but you'll have pytz 2024.1 which is incompatible.\u001b[0m\n",
      "\u001b[31mERROR: snowflake-snowpark-python 1.9.0 has requirement cloudpickle<=2.0.0,>=1.6.0; python_version < \"3.11\", but you'll have cloudpickle 2.2.1 which is incompatible.\u001b[0m\n",
      "\u001b[31mERROR: snowflake-ml-python 1.0.11 has requirement pandas<2,>=1.0.0, but you'll have pandas 2.0.3 which is incompatible.\u001b[0m\n",
      "\u001b[31mERROR: snowflake-ml-python 1.0.11 has requirement xgboost<2,>=1.7.3, but you'll have xgboost 2.0.3 which is incompatible.\u001b[0m\n",
      "\u001b[33mWARNING: You are using pip version 19.3.1; however, version 24.0 is available.\n",
      "You should consider upgrading via the 'pip install --upgrade pip' command.\u001b[0m\n",
      "\u001b[33mWARNING: The directory '/home/mosaic-ai/.cache/pip/http' or its parent directory is not owned by the current user and the cache has been disabled. Please check the permissions and owner of that directory. If executing pip with sudo, you may want sudo's -H flag.\u001b[0m\n",
      "\u001b[33mWARNING: The directory '/home/mosaic-ai/.cache/pip' or its parent directory is not owned by the current user and caching wheels has been disabled. check the permissions and owner of that directory. If executing pip with sudo, you may want sudo's -H flag.\u001b[0m\n",
      "\u001b[31mERROR: pyopenssl 24.1.0 has requirement cryptography<43,>=41.0.5, but you'll have cryptography 39.0.0 which is incompatible.\u001b[0m\n",
      "\u001b[31mERROR: snowflake-ml-python 1.0.11 has requirement pandas<2,>=1.0.0, but you'll have pandas 2.0.3 which is incompatible.\u001b[0m\n",
      "\u001b[31mERROR: snowflake-ml-python 1.0.11 has requirement xgboost<2,>=1.7.3, but you'll have xgboost 2.0.3 which is incompatible.\u001b[0m\n",
      "\u001b[33mWARNING: You are using pip version 19.3.1; however, version 24.0 is available.\n",
      "You should consider upgrading via the 'pip install --upgrade pip' command.\u001b[0m\n",
      "\u001b[33mWARNING: The directory '/home/mosaic-ai/.cache/pip/http' or its parent directory is not owned by the current user and the cache has been disabled. Please check the permissions and owner of that directory. If executing pip with sudo, you may want sudo's -H flag.\u001b[0m\n",
      "\u001b[33mWARNING: The directory '/home/mosaic-ai/.cache/pip' or its parent directory is not owned by the current user and caching wheels has been disabled. check the permissions and owner of that directory. If executing pip with sudo, you may want sudo's -H flag.\u001b[0m\n",
      "\u001b[31mERROR: snowflake-ml-python 1.0.11 has requirement pandas<2,>=1.0.0, but you'll have pandas 2.0.3 which is incompatible.\u001b[0m\n",
      "\u001b[31mERROR: snowflake-ml-python 1.0.11 has requirement xgboost<2,>=1.7.3, but you'll have xgboost 2.0.3 which is incompatible.\u001b[0m\n",
      "\u001b[31mERROR: s3fs 2023.12.2 has requirement fsspec==2023.12.2, but you'll have fsspec 2023.9.2 which is incompatible.\u001b[0m\n"
     ]
    },
    {
     "name": "stdout",
     "output_type": "stream",
     "text": [
      "\u001b[33mWARNING: You are using pip version 19.3.1; however, version 24.0 is available.\r\n",
      "You should consider upgrading via the 'pip install --upgrade pip' command.\u001b[0m\r\n"
     ]
    }
   ],
   "source": [
    "!pip install --q \"snowflake-connector-python[pandas]\"\n",
    "!sudo pip install --q  snowflake-ml-python==1.0.11 -U\n",
    "!pip install --upgrade --q snowflake-snowpark-python==1.9.0\n",
    "!pip install --q seaborn\n",
    "!pip install --q plotly \n",
    "!pip install --upgrade --q xgboost==1.7.3\n",
    "!pip install --upgrade --q numpy==1.24.3\n",
    "!pip install --upgrade --q pandas==1.5.3\n",
    "!pip install --upgrade --q anyio==3.5.0\n",
    "!pip install --upgrade --q packaging==23.1\n",
    "!pip install --upgrade --q scikit-learn==1.3.0\n",
    "!pip install --upgrade --q typing-extensions==4.7.1\n",
    "!pip install --upgrade --q cryptography==39.0.0\n",
    "!pip install --upgrade --q fsspec==2023.9.2"
   ]
  },
  {
   "cell_type": "code",
   "execution_count": 1,
   "id": "4871a0ed",
   "metadata": {},
   "outputs": [
    {
     "name": "stderr",
     "output_type": "stream",
     "text": [
      "Matplotlib created a temporary cache directory at /tmp/matplotlib-xeg0jcby because the default path (/home/mosaic-ai/.cache/matplotlib) is not a writable directory; it is highly recommended to set the MPLCONFIGDIR environment variable to a writable directory, in particular to speed up the import of Matplotlib and to better support multiprocessing.\n",
      "Matplotlib is building the font cache; this may take a moment.\n"
     ]
    }
   ],
   "source": [
    "from snowflake.snowpark import Session\n",
    "from snowflake.ml.modeling.pipeline import Pipeline\n",
    "from snowflake.ml.modeling.xgboost import XGBRegressor\n",
    "from snowflake.ml.modeling.preprocessing import MinMaxScaler, OrdinalEncoder, OneHotEncoder\n",
    "# import seaborn as sns\n",
    "from sklearn.metrics import mean_absolute_percentage_error\n",
    "# Pandas Tools\n",
    "from snowflake.connector.pandas_tools import write_pandas\n",
    "# Data Science Libs\n",
    "import numpy as np\n",
    "import pandas as pd\n",
    "import matplotlib.pyplot as plt\n",
    "import seaborn as sns\n",
    "# create_temp_table warning suppresion\n",
    "import warnings; warnings.simplefilter('ignore')\n",
    "import configparser\n",
    "\n",
    "import plotly.express as px\n",
    "from plotly.subplots import make_subplots\n",
    "import plotly.figure_factory as ff "
   ]
  },
  {
   "cell_type": "markdown",
   "id": "6c5f49da",
   "metadata": {},
   "source": [
    "## Code to establish connection and read and dump csv as a snowflake table (handling null values before loading)"
   ]
  },
  {
   "cell_type": "code",
   "execution_count": 2,
   "id": "8a5fa270",
   "metadata": {},
   "outputs": [
    {
     "data": {
      "text/plain": [
       "['snowflake_connection.ini']"
      ]
     },
     "execution_count": 2,
     "metadata": {},
     "output_type": "execute_result"
    }
   ],
   "source": [
    "config = configparser.ConfigParser()\n",
    "config.read(\"snowflake_connection.ini\")"
   ]
  },
  {
   "cell_type": "code",
   "execution_count": 3,
   "id": "d933cdd5",
   "metadata": {},
   "outputs": [],
   "source": [
    "connection_parameters = {\n",
    "    \"user\": f'{config[\"Snowflake\"][\"user\"]}',\n",
    "    \"password\": f'{config[\"Snowflake\"][\"password\"]}',\n",
    "    #\"password\": os.getenv('snowflake_password'),\n",
    "    \"account\": f'{config[\"Snowflake\"][\"account\"]}',\n",
    "    #\"account\": os.getenv('snowflake_account'),\n",
    "    \"WAREHOUSE\": f'{config[\"Snowflake\"][\"WAREHOUSE\"]}',\n",
    "    \"DATABASE\": f'{config[\"Snowflake\"][\"DATABASE\"]}',\n",
    "    \"SCHEMA\": f'{config[\"Snowflake\"][\"SCHEMA\"]}'\n",
    "}"
   ]
  },
  {
   "cell_type": "code",
   "execution_count": 4,
   "id": "18e767bd",
   "metadata": {},
   "outputs": [
    {
     "name": "stdout",
     "output_type": "stream",
     "text": [
      "connection successful!\n"
     ]
    }
   ],
   "source": [
    "def snowflake_connector(conn):\n",
    "    try:\n",
    "        session = Session.builder.configs(conn).create()\n",
    "        print(\"connection successful!\")\n",
    "    except:\n",
    "        raise ValueError(\"error while connecting with db\")\n",
    "    return session\n",
    "\n",
    "session = snowflake_connector(connection_parameters)"
   ]
  },
  {
   "cell_type": "code",
   "execution_count": 5,
   "id": "c19cce94",
   "metadata": {},
   "outputs": [],
   "source": [
    "df = session.table(\"AUTO_INSURANCE_CLAIMS_DATA_PRODUCT\")"
   ]
  },
  {
   "cell_type": "code",
   "execution_count": 6,
   "id": "718222a3",
   "metadata": {},
   "outputs": [],
   "source": [
    "insurance_claim = df.to_pandas()"
   ]
  },
  {
   "cell_type": "markdown",
   "id": "9f35150b",
   "metadata": {},
   "source": [
    "# Shape of Insurance claims data"
   ]
  },
  {
   "cell_type": "code",
   "execution_count": 7,
   "id": "76652e4a",
   "metadata": {},
   "outputs": [
    {
     "data": {
      "text/plain": [
       "(234265, 40)"
      ]
     },
     "execution_count": 7,
     "metadata": {},
     "output_type": "execute_result"
    }
   ],
   "source": [
    "insurance_claim.shape"
   ]
  },
  {
   "cell_type": "markdown",
   "id": "6460a3d4",
   "metadata": {},
   "source": [
    "# Generic Information of Insurance claims data"
   ]
  },
  {
   "cell_type": "code",
   "execution_count": 8,
   "id": "0892eaca",
   "metadata": {
    "scrolled": true
   },
   "outputs": [
    {
     "name": "stdout",
     "output_type": "stream",
     "text": [
      "<class 'pandas.core.frame.DataFrame'>\n",
      "RangeIndex: 234265 entries, 0 to 234264\n",
      "Data columns (total 40 columns):\n",
      " #   Column                       Non-Null Count   Dtype  \n",
      "---  ------                       --------------   -----  \n",
      " 0   MONTHS_AS_CUSTOMER           234265 non-null  int16  \n",
      " 1   CUSTOMER_AGE                 234265 non-null  object \n",
      " 2   POLICY_NUMBER                234265 non-null  int32  \n",
      " 3   POLICY_BIND_DATE             234265 non-null  object \n",
      " 4   POLICY_STATE                 234265 non-null  object \n",
      " 5   POLICY_CSL                   234265 non-null  object \n",
      " 6   POLICY_DEDUCTABLE            234265 non-null  int16  \n",
      " 7   POLICY_ANNUAL_PREMIUM        234265 non-null  int16  \n",
      " 8   UMBRELLA_LIMIT               234265 non-null  int32  \n",
      " 9   INSURED_ZIP                  234265 non-null  object \n",
      " 10  INSURED_SEX                  234265 non-null  object \n",
      " 11  INSURED_EDUCATION_LEVEL      234265 non-null  object \n",
      " 12  INSURED_OCCUPATION           234265 non-null  object \n",
      " 13  INSURED_HOBBIES              234265 non-null  object \n",
      " 14  INSURED_RELATIONSHIP         234265 non-null  object \n",
      " 15  CAPITAL_GAINS                234265 non-null  int32  \n",
      " 16  CAPITAL_LOSS                 234265 non-null  int32  \n",
      " 17  INCIDENT_DATE                234265 non-null  object \n",
      " 18  INCIDENT_TYPE                234265 non-null  object \n",
      " 19  COLLISION_TYPE               234265 non-null  object \n",
      " 20  INCIDENT_SEVERITY            234265 non-null  object \n",
      " 21  AUTHORITIES_CONTACTED        234265 non-null  object \n",
      " 22  INCIDENT_STATE               234265 non-null  object \n",
      " 23  INCIDENT_CITY                234265 non-null  object \n",
      " 24  INCIDENT_LOCATION            234265 non-null  object \n",
      " 25  INCIDENT_HOUR_OF_THE_DAY     234265 non-null  int8   \n",
      " 26  INCIDENT_TIME_OF_DAY         234265 non-null  object \n",
      " 27  NUMBER_OF_VEHICLES_INVOLVED  234265 non-null  int8   \n",
      " 28  PROPERTY_DAMAGE              234265 non-null  object \n",
      " 29  BODILY_INJURIES              234265 non-null  int8   \n",
      " 30  WITNESSES                    234265 non-null  int8   \n",
      " 31  POLICE_REPORT_AVAILABLE      234265 non-null  object \n",
      " 32  TOTAL_CLAIM_AMOUNT_PAID      234265 non-null  float64\n",
      " 33  INJURY_CLAIM                 234265 non-null  float64\n",
      " 34  PROPERTY_CLAIM               234265 non-null  float64\n",
      " 35  VEHICLE_CLAIM                234265 non-null  float64\n",
      " 36  AUTO_MAKE                    234265 non-null  object \n",
      " 37  AUTO_MODEL                   234265 non-null  object \n",
      " 38  AUTO_YEAR                    234265 non-null  int16  \n",
      " 39  FRAUD_REPORTED               234265 non-null  object \n",
      "dtypes: float64(4), int16(4), int32(4), int8(4), object(24)\n",
      "memory usage: 56.3+ MB\n"
     ]
    }
   ],
   "source": [
    "insurance_claim.info()"
   ]
  },
  {
   "cell_type": "markdown",
   "id": "db57fa4f",
   "metadata": {},
   "source": [
    "# Description of Insurance claims data"
   ]
  },
  {
   "cell_type": "code",
   "execution_count": 9,
   "id": "5e7d8aaf",
   "metadata": {},
   "outputs": [
    {
     "data": {
      "text/html": [
       "<div>\n",
       "<style scoped>\n",
       "    .dataframe tbody tr th:only-of-type {\n",
       "        vertical-align: middle;\n",
       "    }\n",
       "\n",
       "    .dataframe tbody tr th {\n",
       "        vertical-align: top;\n",
       "    }\n",
       "\n",
       "    .dataframe thead th {\n",
       "        text-align: right;\n",
       "    }\n",
       "</style>\n",
       "<table border=\"1\" class=\"dataframe\">\n",
       "  <thead>\n",
       "    <tr style=\"text-align: right;\">\n",
       "      <th></th>\n",
       "      <th>MONTHS_AS_CUSTOMER</th>\n",
       "      <th>POLICY_NUMBER</th>\n",
       "      <th>POLICY_DEDUCTABLE</th>\n",
       "      <th>POLICY_ANNUAL_PREMIUM</th>\n",
       "      <th>UMBRELLA_LIMIT</th>\n",
       "      <th>CAPITAL_GAINS</th>\n",
       "      <th>CAPITAL_LOSS</th>\n",
       "      <th>INCIDENT_HOUR_OF_THE_DAY</th>\n",
       "      <th>NUMBER_OF_VEHICLES_INVOLVED</th>\n",
       "      <th>BODILY_INJURIES</th>\n",
       "      <th>WITNESSES</th>\n",
       "      <th>TOTAL_CLAIM_AMOUNT_PAID</th>\n",
       "      <th>INJURY_CLAIM</th>\n",
       "      <th>PROPERTY_CLAIM</th>\n",
       "      <th>VEHICLE_CLAIM</th>\n",
       "      <th>AUTO_YEAR</th>\n",
       "    </tr>\n",
       "  </thead>\n",
       "  <tbody>\n",
       "    <tr>\n",
       "      <th>count</th>\n",
       "      <td>234265.000000</td>\n",
       "      <td>234265.000000</td>\n",
       "      <td>234265.000000</td>\n",
       "      <td>234265.000000</td>\n",
       "      <td>2.342650e+05</td>\n",
       "      <td>234265.000000</td>\n",
       "      <td>234265.000000</td>\n",
       "      <td>234265.000000</td>\n",
       "      <td>234265.000000</td>\n",
       "      <td>234265.000000</td>\n",
       "      <td>234265.000000</td>\n",
       "      <td>234265.000000</td>\n",
       "      <td>234265.000000</td>\n",
       "      <td>234265.000000</td>\n",
       "      <td>234265.000000</td>\n",
       "      <td>234265.000000</td>\n",
       "    </tr>\n",
       "    <tr>\n",
       "      <th>mean</th>\n",
       "      <td>126.935091</td>\n",
       "      <td>455855.966764</td>\n",
       "      <td>1253.716919</td>\n",
       "      <td>1566.581397</td>\n",
       "      <td>5.196103e+06</td>\n",
       "      <td>47683.270121</td>\n",
       "      <td>-41024.589448</td>\n",
       "      <td>15.049657</td>\n",
       "      <td>1.476256</td>\n",
       "      <td>0.996500</td>\n",
       "      <td>1.500758</td>\n",
       "      <td>67245.407389</td>\n",
       "      <td>7735.250861</td>\n",
       "      <td>8539.701462</td>\n",
       "      <td>50970.455066</td>\n",
       "      <td>2004.857341</td>\n",
       "    </tr>\n",
       "    <tr>\n",
       "      <th>std</th>\n",
       "      <td>91.045672</td>\n",
       "      <td>17736.367557</td>\n",
       "      <td>534.953165</td>\n",
       "      <td>656.303803</td>\n",
       "      <td>2.963737e+06</td>\n",
       "      <td>27788.588777</td>\n",
       "      <td>23817.898425</td>\n",
       "      <td>5.858884</td>\n",
       "      <td>0.701641</td>\n",
       "      <td>0.817618</td>\n",
       "      <td>1.115194</td>\n",
       "      <td>18860.146419</td>\n",
       "      <td>7150.204814</td>\n",
       "      <td>7872.342302</td>\n",
       "      <td>15684.477045</td>\n",
       "      <td>6.058393</td>\n",
       "    </tr>\n",
       "    <tr>\n",
       "      <th>min</th>\n",
       "      <td>6.000000</td>\n",
       "      <td>425150.000000</td>\n",
       "      <td>301.000000</td>\n",
       "      <td>430.000000</td>\n",
       "      <td>0.000000e+00</td>\n",
       "      <td>0.000000</td>\n",
       "      <td>-111100.000000</td>\n",
       "      <td>0.000000</td>\n",
       "      <td>1.000000</td>\n",
       "      <td>0.000000</td>\n",
       "      <td>0.000000</td>\n",
       "      <td>21214.000000</td>\n",
       "      <td>300.000000</td>\n",
       "      <td>0.000000</td>\n",
       "      <td>20004.000000</td>\n",
       "      <td>1995.000000</td>\n",
       "    </tr>\n",
       "    <tr>\n",
       "      <th>25%</th>\n",
       "      <td>43.000000</td>\n",
       "      <td>440492.000000</td>\n",
       "      <td>794.000000</td>\n",
       "      <td>996.000000</td>\n",
       "      <td>3.074314e+06</td>\n",
       "      <td>23592.000000</td>\n",
       "      <td>-61528.000000</td>\n",
       "      <td>11.000000</td>\n",
       "      <td>1.000000</td>\n",
       "      <td>0.000000</td>\n",
       "      <td>1.000000</td>\n",
       "      <td>53424.000000</td>\n",
       "      <td>523.000000</td>\n",
       "      <td>1025.000000</td>\n",
       "      <td>37618.000000</td>\n",
       "      <td>2000.000000</td>\n",
       "    </tr>\n",
       "    <tr>\n",
       "      <th>50%</th>\n",
       "      <td>112.000000</td>\n",
       "      <td>455846.000000</td>\n",
       "      <td>1250.000000</td>\n",
       "      <td>1569.000000</td>\n",
       "      <td>5.367228e+06</td>\n",
       "      <td>47857.000000</td>\n",
       "      <td>-41248.000000</td>\n",
       "      <td>16.000000</td>\n",
       "      <td>1.000000</td>\n",
       "      <td>1.000000</td>\n",
       "      <td>2.000000</td>\n",
       "      <td>67752.000000</td>\n",
       "      <td>6064.000000</td>\n",
       "      <td>6218.000000</td>\n",
       "      <td>50923.000000</td>\n",
       "      <td>2005.000000</td>\n",
       "    </tr>\n",
       "    <tr>\n",
       "      <th>75%</th>\n",
       "      <td>197.000000</td>\n",
       "      <td>471213.000000</td>\n",
       "      <td>1698.000000</td>\n",
       "      <td>2134.000000</td>\n",
       "      <td>7.682851e+06</td>\n",
       "      <td>71510.000000</td>\n",
       "      <td>-20363.000000</td>\n",
       "      <td>20.000000</td>\n",
       "      <td>2.000000</td>\n",
       "      <td>2.000000</td>\n",
       "      <td>2.000000</td>\n",
       "      <td>81090.000000</td>\n",
       "      <td>14012.000000</td>\n",
       "      <td>15323.000000</td>\n",
       "      <td>64362.000000</td>\n",
       "      <td>2010.000000</td>\n",
       "    </tr>\n",
       "    <tr>\n",
       "      <th>max</th>\n",
       "      <td>328.000000</td>\n",
       "      <td>486590.000000</td>\n",
       "      <td>2430.000000</td>\n",
       "      <td>2700.000000</td>\n",
       "      <td>9.999929e+06</td>\n",
       "      <td>100500.000000</td>\n",
       "      <td>0.000000</td>\n",
       "      <td>23.000000</td>\n",
       "      <td>4.000000</td>\n",
       "      <td>2.000000</td>\n",
       "      <td>3.000000</td>\n",
       "      <td>121412.000000</td>\n",
       "      <td>21899.000000</td>\n",
       "      <td>26490.000000</td>\n",
       "      <td>81998.000000</td>\n",
       "      <td>2015.000000</td>\n",
       "    </tr>\n",
       "  </tbody>\n",
       "</table>\n",
       "</div>"
      ],
      "text/plain": [
       "       MONTHS_AS_CUSTOMER  POLICY_NUMBER  POLICY_DEDUCTABLE   \n",
       "count       234265.000000  234265.000000      234265.000000  \\\n",
       "mean           126.935091  455855.966764        1253.716919   \n",
       "std             91.045672   17736.367557         534.953165   \n",
       "min              6.000000  425150.000000         301.000000   \n",
       "25%             43.000000  440492.000000         794.000000   \n",
       "50%            112.000000  455846.000000        1250.000000   \n",
       "75%            197.000000  471213.000000        1698.000000   \n",
       "max            328.000000  486590.000000        2430.000000   \n",
       "\n",
       "       POLICY_ANNUAL_PREMIUM  UMBRELLA_LIMIT  CAPITAL_GAINS   CAPITAL_LOSS   \n",
       "count          234265.000000    2.342650e+05  234265.000000  234265.000000  \\\n",
       "mean             1566.581397    5.196103e+06   47683.270121  -41024.589448   \n",
       "std               656.303803    2.963737e+06   27788.588777   23817.898425   \n",
       "min               430.000000    0.000000e+00       0.000000 -111100.000000   \n",
       "25%               996.000000    3.074314e+06   23592.000000  -61528.000000   \n",
       "50%              1569.000000    5.367228e+06   47857.000000  -41248.000000   \n",
       "75%              2134.000000    7.682851e+06   71510.000000  -20363.000000   \n",
       "max              2700.000000    9.999929e+06  100500.000000       0.000000   \n",
       "\n",
       "       INCIDENT_HOUR_OF_THE_DAY  NUMBER_OF_VEHICLES_INVOLVED  BODILY_INJURIES   \n",
       "count             234265.000000                234265.000000    234265.000000  \\\n",
       "mean                  15.049657                     1.476256         0.996500   \n",
       "std                    5.858884                     0.701641         0.817618   \n",
       "min                    0.000000                     1.000000         0.000000   \n",
       "25%                   11.000000                     1.000000         0.000000   \n",
       "50%                   16.000000                     1.000000         1.000000   \n",
       "75%                   20.000000                     2.000000         2.000000   \n",
       "max                   23.000000                     4.000000         2.000000   \n",
       "\n",
       "           WITNESSES  TOTAL_CLAIM_AMOUNT_PAID   INJURY_CLAIM  PROPERTY_CLAIM   \n",
       "count  234265.000000            234265.000000  234265.000000   234265.000000  \\\n",
       "mean        1.500758             67245.407389    7735.250861     8539.701462   \n",
       "std         1.115194             18860.146419    7150.204814     7872.342302   \n",
       "min         0.000000             21214.000000     300.000000        0.000000   \n",
       "25%         1.000000             53424.000000     523.000000     1025.000000   \n",
       "50%         2.000000             67752.000000    6064.000000     6218.000000   \n",
       "75%         2.000000             81090.000000   14012.000000    15323.000000   \n",
       "max         3.000000            121412.000000   21899.000000    26490.000000   \n",
       "\n",
       "       VEHICLE_CLAIM      AUTO_YEAR  \n",
       "count  234265.000000  234265.000000  \n",
       "mean    50970.455066    2004.857341  \n",
       "std     15684.477045       6.058393  \n",
       "min     20004.000000    1995.000000  \n",
       "25%     37618.000000    2000.000000  \n",
       "50%     50923.000000    2005.000000  \n",
       "75%     64362.000000    2010.000000  \n",
       "max     81998.000000    2015.000000  "
      ]
     },
     "execution_count": 9,
     "metadata": {},
     "output_type": "execute_result"
    }
   ],
   "source": [
    "insurance_claim.describe()"
   ]
  },
  {
   "cell_type": "code",
   "execution_count": 10,
   "id": "569c3083",
   "metadata": {
    "scrolled": false
   },
   "outputs": [
    {
     "data": {
      "text/html": [
       "<div>\n",
       "<style scoped>\n",
       "    .dataframe tbody tr th:only-of-type {\n",
       "        vertical-align: middle;\n",
       "    }\n",
       "\n",
       "    .dataframe tbody tr th {\n",
       "        vertical-align: top;\n",
       "    }\n",
       "\n",
       "    .dataframe thead th {\n",
       "        text-align: right;\n",
       "    }\n",
       "</style>\n",
       "<table border=\"1\" class=\"dataframe\">\n",
       "  <thead>\n",
       "    <tr style=\"text-align: right;\">\n",
       "      <th></th>\n",
       "      <th>CUSTOMER_AGE</th>\n",
       "      <th>POLICY_BIND_DATE</th>\n",
       "      <th>POLICY_STATE</th>\n",
       "      <th>POLICY_CSL</th>\n",
       "      <th>INSURED_ZIP</th>\n",
       "      <th>INSURED_SEX</th>\n",
       "      <th>INSURED_EDUCATION_LEVEL</th>\n",
       "      <th>INSURED_OCCUPATION</th>\n",
       "      <th>INSURED_HOBBIES</th>\n",
       "      <th>INSURED_RELATIONSHIP</th>\n",
       "      <th>...</th>\n",
       "      <th>AUTHORITIES_CONTACTED</th>\n",
       "      <th>INCIDENT_STATE</th>\n",
       "      <th>INCIDENT_CITY</th>\n",
       "      <th>INCIDENT_LOCATION</th>\n",
       "      <th>INCIDENT_TIME_OF_DAY</th>\n",
       "      <th>PROPERTY_DAMAGE</th>\n",
       "      <th>POLICE_REPORT_AVAILABLE</th>\n",
       "      <th>AUTO_MAKE</th>\n",
       "      <th>AUTO_MODEL</th>\n",
       "      <th>FRAUD_REPORTED</th>\n",
       "    </tr>\n",
       "  </thead>\n",
       "  <tbody>\n",
       "    <tr>\n",
       "      <th>count</th>\n",
       "      <td>234265</td>\n",
       "      <td>234265</td>\n",
       "      <td>234265</td>\n",
       "      <td>234265</td>\n",
       "      <td>234265</td>\n",
       "      <td>234265</td>\n",
       "      <td>234265</td>\n",
       "      <td>234265</td>\n",
       "      <td>234265</td>\n",
       "      <td>234265</td>\n",
       "      <td>...</td>\n",
       "      <td>234265</td>\n",
       "      <td>234265</td>\n",
       "      <td>234265</td>\n",
       "      <td>234265</td>\n",
       "      <td>234265</td>\n",
       "      <td>234265</td>\n",
       "      <td>234265</td>\n",
       "      <td>234265</td>\n",
       "      <td>234265</td>\n",
       "      <td>234265</td>\n",
       "    </tr>\n",
       "    <tr>\n",
       "      <th>unique</th>\n",
       "      <td>51</td>\n",
       "      <td>10044</td>\n",
       "      <td>1</td>\n",
       "      <td>3</td>\n",
       "      <td>995</td>\n",
       "      <td>2</td>\n",
       "      <td>7</td>\n",
       "      <td>14</td>\n",
       "      <td>20</td>\n",
       "      <td>6</td>\n",
       "      <td>...</td>\n",
       "      <td>5</td>\n",
       "      <td>1</td>\n",
       "      <td>10</td>\n",
       "      <td>1032</td>\n",
       "      <td>4</td>\n",
       "      <td>3</td>\n",
       "      <td>3</td>\n",
       "      <td>14</td>\n",
       "      <td>39</td>\n",
       "      <td>2</td>\n",
       "    </tr>\n",
       "    <tr>\n",
       "      <th>top</th>\n",
       "      <td>33</td>\n",
       "      <td>11-06-2013</td>\n",
       "      <td>CT</td>\n",
       "      <td>100/300</td>\n",
       "      <td>431532</td>\n",
       "      <td>MALE</td>\n",
       "      <td>JD</td>\n",
       "      <td>prof-specialty</td>\n",
       "      <td>kayaking</td>\n",
       "      <td>unmarried</td>\n",
       "      <td>...</td>\n",
       "      <td>Police</td>\n",
       "      <td>CT</td>\n",
       "      <td>Hartford</td>\n",
       "      <td>St</td>\n",
       "      <td>Night Time</td>\n",
       "      <td>Property Damage</td>\n",
       "      <td>Police Report Available</td>\n",
       "      <td>Nissan</td>\n",
       "      <td>RAM</td>\n",
       "      <td>No Fraud Reported</td>\n",
       "    </tr>\n",
       "    <tr>\n",
       "      <th>freq</th>\n",
       "      <td>4910</td>\n",
       "      <td>67</td>\n",
       "      <td>234265</td>\n",
       "      <td>78564</td>\n",
       "      <td>337</td>\n",
       "      <td>117455</td>\n",
       "      <td>38426</td>\n",
       "      <td>27637</td>\n",
       "      <td>12104</td>\n",
       "      <td>39357</td>\n",
       "      <td>...</td>\n",
       "      <td>47433</td>\n",
       "      <td>234265</td>\n",
       "      <td>55768</td>\n",
       "      <td>13547</td>\n",
       "      <td>104477</td>\n",
       "      <td>132025</td>\n",
       "      <td>101965</td>\n",
       "      <td>20119</td>\n",
       "      <td>7953</td>\n",
       "      <td>199657</td>\n",
       "    </tr>\n",
       "  </tbody>\n",
       "</table>\n",
       "<p>4 rows × 24 columns</p>\n",
       "</div>"
      ],
      "text/plain": [
       "       CUSTOMER_AGE POLICY_BIND_DATE POLICY_STATE POLICY_CSL INSURED_ZIP   \n",
       "count        234265           234265       234265     234265      234265  \\\n",
       "unique           51            10044            1          3         995   \n",
       "top              33       11-06-2013           CT    100/300      431532   \n",
       "freq           4910               67       234265      78564         337   \n",
       "\n",
       "       INSURED_SEX INSURED_EDUCATION_LEVEL INSURED_OCCUPATION INSURED_HOBBIES   \n",
       "count       234265                  234265             234265          234265  \\\n",
       "unique           2                       7                 14              20   \n",
       "top           MALE                      JD     prof-specialty        kayaking   \n",
       "freq        117455                   38426              27637           12104   \n",
       "\n",
       "       INSURED_RELATIONSHIP  ... AUTHORITIES_CONTACTED INCIDENT_STATE   \n",
       "count                234265  ...                234265         234265  \\\n",
       "unique                    6  ...                     5              1   \n",
       "top               unmarried  ...                Police             CT   \n",
       "freq                  39357  ...                 47433         234265   \n",
       "\n",
       "       INCIDENT_CITY INCIDENT_LOCATION INCIDENT_TIME_OF_DAY  PROPERTY_DAMAGE   \n",
       "count         234265            234265               234265           234265  \\\n",
       "unique            10              1032                    4                3   \n",
       "top         Hartford                St           Night Time  Property Damage   \n",
       "freq           55768             13547               104477           132025   \n",
       "\n",
       "        POLICE_REPORT_AVAILABLE AUTO_MAKE AUTO_MODEL     FRAUD_REPORTED  \n",
       "count                    234265    234265     234265             234265  \n",
       "unique                        3        14         39                  2  \n",
       "top     Police Report Available    Nissan        RAM  No Fraud Reported  \n",
       "freq                     101965     20119       7953             199657  \n",
       "\n",
       "[4 rows x 24 columns]"
      ]
     },
     "execution_count": 10,
     "metadata": {},
     "output_type": "execute_result"
    }
   ],
   "source": [
    "insurance_claim.describe(include='O')"
   ]
  },
  {
   "cell_type": "markdown",
   "id": "d2fc0e30",
   "metadata": {},
   "source": [
    "# Check Null Values"
   ]
  },
  {
   "cell_type": "code",
   "execution_count": 11,
   "id": "73b0f3b9",
   "metadata": {
    "scrolled": true
   },
   "outputs": [
    {
     "data": {
      "text/plain": [
       "MONTHS_AS_CUSTOMER             0\n",
       "CUSTOMER_AGE                   0\n",
       "POLICY_NUMBER                  0\n",
       "POLICY_BIND_DATE               0\n",
       "POLICY_STATE                   0\n",
       "POLICY_CSL                     0\n",
       "POLICY_DEDUCTABLE              0\n",
       "POLICY_ANNUAL_PREMIUM          0\n",
       "UMBRELLA_LIMIT                 0\n",
       "INSURED_ZIP                    0\n",
       "INSURED_SEX                    0\n",
       "INSURED_EDUCATION_LEVEL        0\n",
       "INSURED_OCCUPATION             0\n",
       "INSURED_HOBBIES                0\n",
       "INSURED_RELATIONSHIP           0\n",
       "CAPITAL_GAINS                  0\n",
       "CAPITAL_LOSS                   0\n",
       "INCIDENT_DATE                  0\n",
       "INCIDENT_TYPE                  0\n",
       "COLLISION_TYPE                 0\n",
       "INCIDENT_SEVERITY              0\n",
       "AUTHORITIES_CONTACTED          0\n",
       "INCIDENT_STATE                 0\n",
       "INCIDENT_CITY                  0\n",
       "INCIDENT_LOCATION              0\n",
       "INCIDENT_HOUR_OF_THE_DAY       0\n",
       "INCIDENT_TIME_OF_DAY           0\n",
       "NUMBER_OF_VEHICLES_INVOLVED    0\n",
       "PROPERTY_DAMAGE                0\n",
       "BODILY_INJURIES                0\n",
       "WITNESSES                      0\n",
       "POLICE_REPORT_AVAILABLE        0\n",
       "TOTAL_CLAIM_AMOUNT_PAID        0\n",
       "INJURY_CLAIM                   0\n",
       "PROPERTY_CLAIM                 0\n",
       "VEHICLE_CLAIM                  0\n",
       "AUTO_MAKE                      0\n",
       "AUTO_MODEL                     0\n",
       "AUTO_YEAR                      0\n",
       "FRAUD_REPORTED                 0\n",
       "dtype: int64"
      ]
     },
     "execution_count": 11,
     "metadata": {},
     "output_type": "execute_result"
    }
   ],
   "source": [
    "insurance_claim.isnull().sum()"
   ]
  },
  {
   "cell_type": "markdown",
   "id": "27a17ce3",
   "metadata": {},
   "source": [
    "### Visualization "
   ]
  },
  {
   "cell_type": "code",
   "execution_count": 12,
   "id": "3b585742",
   "metadata": {},
   "outputs": [
    {
     "data": {
      "text/plain": [
       "MONTHS_AS_CUSTOMER             0.0\n",
       "CUSTOMER_AGE                   0.0\n",
       "POLICY_NUMBER                  0.0\n",
       "POLICY_BIND_DATE               0.0\n",
       "POLICY_STATE                   0.0\n",
       "POLICY_CSL                     0.0\n",
       "POLICY_DEDUCTABLE              0.0\n",
       "POLICY_ANNUAL_PREMIUM          0.0\n",
       "UMBRELLA_LIMIT                 0.0\n",
       "INSURED_ZIP                    0.0\n",
       "INSURED_SEX                    0.0\n",
       "INSURED_EDUCATION_LEVEL        0.0\n",
       "INSURED_OCCUPATION             0.0\n",
       "INSURED_HOBBIES                0.0\n",
       "INSURED_RELATIONSHIP           0.0\n",
       "CAPITAL_GAINS                  0.0\n",
       "CAPITAL_LOSS                   0.0\n",
       "INCIDENT_DATE                  0.0\n",
       "INCIDENT_TYPE                  0.0\n",
       "COLLISION_TYPE                 0.0\n",
       "INCIDENT_SEVERITY              0.0\n",
       "AUTHORITIES_CONTACTED          0.0\n",
       "INCIDENT_STATE                 0.0\n",
       "INCIDENT_CITY                  0.0\n",
       "INCIDENT_LOCATION              0.0\n",
       "INCIDENT_HOUR_OF_THE_DAY       0.0\n",
       "INCIDENT_TIME_OF_DAY           0.0\n",
       "NUMBER_OF_VEHICLES_INVOLVED    0.0\n",
       "PROPERTY_DAMAGE                0.0\n",
       "BODILY_INJURIES                0.0\n",
       "WITNESSES                      0.0\n",
       "POLICE_REPORT_AVAILABLE        0.0\n",
       "TOTAL_CLAIM_AMOUNT_PAID        0.0\n",
       "INJURY_CLAIM                   0.0\n",
       "PROPERTY_CLAIM                 0.0\n",
       "VEHICLE_CLAIM                  0.0\n",
       "AUTO_MAKE                      0.0\n",
       "AUTO_MODEL                     0.0\n",
       "AUTO_YEAR                      0.0\n",
       "FRAUD_REPORTED                 0.0\n",
       "dtype: float64"
      ]
     },
     "execution_count": 12,
     "metadata": {},
     "output_type": "execute_result"
    }
   ],
   "source": [
    "insurance_claim=insurance_claim.replace(\"?\",np.NaN)\n",
    "round(100*(insurance_claim.isnull().sum()/len(insurance_claim.index)),2)"
   ]
  },
  {
   "cell_type": "code",
   "execution_count": 14,
   "id": "50b89b8e",
   "metadata": {},
   "outputs": [
    {
     "data": {
      "text/plain": [
       "COLLISION_TYPE\n",
       "Rear Collision           36.71\n",
       "Front Collision          24.47\n",
       "Side Collision           24.41\n",
       "Details not Available    14.41\n",
       "Name: proportion, dtype: float64"
      ]
     },
     "execution_count": 14,
     "metadata": {},
     "output_type": "execute_result"
    }
   ],
   "source": [
    "### Checking unique values for collosion type\n",
    "round(100*(insurance_claim['COLLISION_TYPE'].value_counts(normalize=True,dropna=False)),2)"
   ]
  },
  {
   "cell_type": "code",
   "execution_count": 15,
   "id": "35c5264d",
   "metadata": {},
   "outputs": [],
   "source": [
    "### We can impute collosion type with mode i.e most occuring collosion type\n",
    "### imputing\n",
    "\n",
    "insurance_claim['COLLISION_TYPE']=insurance_claim['COLLISION_TYPE'].fillna(insurance_claim['COLLISION_TYPE'].mode()[0])"
   ]
  },
  {
   "cell_type": "code",
   "execution_count": 16,
   "id": "ce919695",
   "metadata": {},
   "outputs": [
    {
     "data": {
      "text/plain": [
       "PROPERTY_DAMAGE\n",
       "Property Damage          56.36\n",
       "No Property Damage       37.84\n",
       "Details not Available     5.80\n",
       "Name: proportion, dtype: float64"
      ]
     },
     "execution_count": 16,
     "metadata": {},
     "output_type": "execute_result"
    }
   ],
   "source": [
    "### Checking unique values for collosion type\n",
    "\n",
    "round(100*(insurance_claim['PROPERTY_DAMAGE'].value_counts(normalize=True,dropna=False)),2)"
   ]
  },
  {
   "cell_type": "code",
   "execution_count": 17,
   "id": "8e30aa24",
   "metadata": {},
   "outputs": [],
   "source": [
    "### If there was property loss,then the report would have been filed.So,we can consider missing value as \"NO\"\n",
    "###Imputing with \"NO\"\n",
    "\n",
    "insurance_claim['PROPERTY_DAMAGE']=insurance_claim['PROPERTY_DAMAGE'].fillna(\"NO\")"
   ]
  },
  {
   "cell_type": "code",
   "execution_count": 18,
   "id": "b4496948",
   "metadata": {},
   "outputs": [
    {
     "data": {
      "text/plain": [
       "POLICE_REPORT_AVAILABLE\n",
       "Police Report Available       43.53\n",
       "No Police Report Available    40.27\n",
       "Unknown                       16.20\n",
       "Name: proportion, dtype: float64"
      ]
     },
     "execution_count": 18,
     "metadata": {},
     "output_type": "execute_result"
    }
   ],
   "source": [
    "### Checking unique values for collosion type\n",
    "\n",
    "round(100*(insurance_claim['POLICE_REPORT_AVAILABLE'].value_counts(normalize=True,dropna=False)),2)"
   ]
  },
  {
   "cell_type": "code",
   "execution_count": 19,
   "id": "f602ec3b",
   "metadata": {},
   "outputs": [],
   "source": [
    "### If there was police reported,then the report would have been filed.So,we can consider missing value as \"NO\"\n",
    "###Imputing with \"NO\"\n",
    "\n",
    "insurance_claim['POLICE_REPORT_AVAILABLE']=insurance_claim['PROPERTY_DAMAGE'].fillna(\"NO\")"
   ]
  },
  {
   "cell_type": "code",
   "execution_count": 20,
   "id": "6b9f7154",
   "metadata": {},
   "outputs": [
    {
     "data": {
      "text/plain": [
       "MONTHS_AS_CUSTOMER             0.0\n",
       "CUSTOMER_AGE                   0.0\n",
       "POLICY_NUMBER                  0.0\n",
       "POLICY_BIND_DATE               0.0\n",
       "POLICY_STATE                   0.0\n",
       "POLICY_CSL                     0.0\n",
       "POLICY_DEDUCTABLE              0.0\n",
       "POLICY_ANNUAL_PREMIUM          0.0\n",
       "UMBRELLA_LIMIT                 0.0\n",
       "INSURED_ZIP                    0.0\n",
       "INSURED_SEX                    0.0\n",
       "INSURED_EDUCATION_LEVEL        0.0\n",
       "INSURED_OCCUPATION             0.0\n",
       "INSURED_HOBBIES                0.0\n",
       "INSURED_RELATIONSHIP           0.0\n",
       "CAPITAL_GAINS                  0.0\n",
       "CAPITAL_LOSS                   0.0\n",
       "INCIDENT_DATE                  0.0\n",
       "INCIDENT_TYPE                  0.0\n",
       "COLLISION_TYPE                 0.0\n",
       "INCIDENT_SEVERITY              0.0\n",
       "AUTHORITIES_CONTACTED          0.0\n",
       "INCIDENT_STATE                 0.0\n",
       "INCIDENT_CITY                  0.0\n",
       "INCIDENT_LOCATION              0.0\n",
       "INCIDENT_HOUR_OF_THE_DAY       0.0\n",
       "INCIDENT_TIME_OF_DAY           0.0\n",
       "NUMBER_OF_VEHICLES_INVOLVED    0.0\n",
       "PROPERTY_DAMAGE                0.0\n",
       "BODILY_INJURIES                0.0\n",
       "WITNESSES                      0.0\n",
       "POLICE_REPORT_AVAILABLE        0.0\n",
       "TOTAL_CLAIM_AMOUNT_PAID        0.0\n",
       "INJURY_CLAIM                   0.0\n",
       "PROPERTY_CLAIM                 0.0\n",
       "VEHICLE_CLAIM                  0.0\n",
       "AUTO_MAKE                      0.0\n",
       "AUTO_MODEL                     0.0\n",
       "AUTO_YEAR                      0.0\n",
       "FRAUD_REPORTED                 0.0\n",
       "dtype: float64"
      ]
     },
     "execution_count": 20,
     "metadata": {},
     "output_type": "execute_result"
    }
   ],
   "source": [
    "### Checking missing value again\n",
    "\n",
    "round(100*(insurance_claim.isnull().sum()/len(insurance_claim.index)),2)"
   ]
  },
  {
   "cell_type": "code",
   "execution_count": 22,
   "id": "77dd7dae",
   "metadata": {},
   "outputs": [],
   "source": [
    "### Dropping those column which are not much sighnificance in oir analysis\n",
    "\n",
    "insurance_claim.drop([\"INCIDENT_HOUR_OF_THE_DAY\",'INSURED_ZIP','POLICY_BIND_DATE','INCIDENT_LOCATION'],axis=1,inplace=True)"
   ]
  },
  {
   "cell_type": "code",
   "execution_count": 23,
   "id": "0324ad8c",
   "metadata": {},
   "outputs": [
    {
     "data": {
      "text/plain": [
       "(234265, 36)"
      ]
     },
     "execution_count": 23,
     "metadata": {},
     "output_type": "execute_result"
    }
   ],
   "source": [
    "### Checking shape of dataset again\n",
    "\n",
    "insurance_claim.shape"
   ]
  },
  {
   "cell_type": "code",
   "execution_count": 24,
   "id": "105bec69",
   "metadata": {},
   "outputs": [
    {
     "data": {
      "text/plain": [
       "MONTHS_AS_CUSTOMER               323\n",
       "CUSTOMER_AGE                      51\n",
       "POLICY_NUMBER                  61441\n",
       "POLICY_STATE                       1\n",
       "POLICY_CSL                         3\n",
       "POLICY_DEDUCTABLE               2121\n",
       "POLICY_ANNUAL_PREMIUM           2271\n",
       "UMBRELLA_LIMIT                 53101\n",
       "INSURED_SEX                        2\n",
       "INSURED_EDUCATION_LEVEL            7\n",
       "INSURED_OCCUPATION                14\n",
       "INSURED_HOBBIES                   20\n",
       "INSURED_RELATIONSHIP               6\n",
       "CAPITAL_GAINS                  45174\n",
       "CAPITAL_LOSS                   42927\n",
       "INCIDENT_DATE                   1003\n",
       "INCIDENT_TYPE                      4\n",
       "COLLISION_TYPE                     4\n",
       "INCIDENT_SEVERITY                  3\n",
       "AUTHORITIES_CONTACTED              5\n",
       "INCIDENT_STATE                     1\n",
       "INCIDENT_CITY                     10\n",
       "INCIDENT_TIME_OF_DAY               4\n",
       "NUMBER_OF_VEHICLES_INVOLVED        4\n",
       "PROPERTY_DAMAGE                    3\n",
       "BODILY_INJURIES                    3\n",
       "WITNESSES                          4\n",
       "POLICE_REPORT_AVAILABLE            3\n",
       "TOTAL_CLAIM_AMOUNT_PAID        41219\n",
       "INJURY_CLAIM                   18218\n",
       "PROPERTY_CLAIM                 19191\n",
       "VEHICLE_CLAIM                  37558\n",
       "AUTO_MAKE                         14\n",
       "AUTO_MODEL                        39\n",
       "AUTO_YEAR                         21\n",
       "FRAUD_REPORTED                     2\n",
       "dtype: int64"
      ]
     },
     "execution_count": 24,
     "metadata": {},
     "output_type": "execute_result"
    }
   ],
   "source": [
    "### Checking values for each column\n",
    "\n",
    "insurance_claim.nunique()"
   ]
  },
  {
   "cell_type": "code",
   "execution_count": 25,
   "id": "cb7db22d",
   "metadata": {},
   "outputs": [
    {
     "data": {
      "text/plain": [
       "0"
      ]
     },
     "execution_count": 25,
     "metadata": {},
     "output_type": "execute_result"
    }
   ],
   "source": [
    "### SANITY CHECK - Total claim must be equal to sum of \"injury_claim\",\"property_claim\",\"vehicle_claim\"\n",
    "\n",
    "insurance_claim[insurance_claim['TOTAL_CLAIM_AMOUNT_PAID'] != insurance_claim['INJURY_CLAIM']+insurance_claim['PROPERTY_CLAIM']+insurance_claim['VEHICLE_CLAIM']].shape[0]"
   ]
  },
  {
   "cell_type": "code",
   "execution_count": 32,
   "id": "ee237ef1",
   "metadata": {},
   "outputs": [
    {
     "name": "stdout",
     "output_type": "stream",
     "text": [
      "0\n",
      "0\n",
      "0\n",
      "0\n",
      "0\n",
      "0\n",
      "0\n",
      "0\n",
      "0\n"
     ]
    }
   ],
   "source": [
    "### Others sanity check\n",
    "print(insurance_claim[insurance_claim['MONTHS_AS_CUSTOMER']<0].shape[0])\n",
    "#print(insurance_claim[insurance_claim['CUSTOMER_AGE']<0].shape[0])\n",
    "print(insurance_claim[insurance_claim['POLICY_DEDUCTABLE']<0].shape[0])\n",
    "print(insurance_claim[insurance_claim['TOTAL_CLAIM_AMOUNT_PAID']<0].shape[0])\n",
    "print(insurance_claim[insurance_claim['UMBRELLA_LIMIT']<0].shape[0])\n",
    "print(insurance_claim[insurance_claim['CAPITAL_GAINS']<0].shape[0])\n",
    "print(insurance_claim[insurance_claim['NUMBER_OF_VEHICLES_INVOLVED']<0].shape[0])\n",
    "print(insurance_claim[insurance_claim['INJURY_CLAIM']<0].shape[0])\n",
    "print(insurance_claim[insurance_claim['PROPERTY_CLAIM']<0].shape[0])\n",
    "print(insurance_claim[insurance_claim['VEHICLE_CLAIM']<0].shape[0])"
   ]
  },
  {
   "cell_type": "code",
   "execution_count": 33,
   "id": "717aa5fd",
   "metadata": {},
   "outputs": [
    {
     "data": {
      "text/plain": [
       "MONTHS_AS_CUSTOMER               int16\n",
       "CUSTOMER_AGE                    object\n",
       "POLICY_NUMBER                    int32\n",
       "POLICY_STATE                    object\n",
       "POLICY_CSL                      object\n",
       "POLICY_DEDUCTABLE                int16\n",
       "POLICY_ANNUAL_PREMIUM            int16\n",
       "UMBRELLA_LIMIT                   int32\n",
       "INSURED_SEX                     object\n",
       "INSURED_EDUCATION_LEVEL         object\n",
       "INSURED_OCCUPATION              object\n",
       "INSURED_HOBBIES                 object\n",
       "INSURED_RELATIONSHIP            object\n",
       "CAPITAL_GAINS                    int32\n",
       "CAPITAL_LOSS                     int32\n",
       "INCIDENT_DATE                   object\n",
       "INCIDENT_TYPE                   object\n",
       "COLLISION_TYPE                  object\n",
       "INCIDENT_SEVERITY               object\n",
       "AUTHORITIES_CONTACTED           object\n",
       "INCIDENT_STATE                  object\n",
       "INCIDENT_CITY                   object\n",
       "INCIDENT_TIME_OF_DAY            object\n",
       "NUMBER_OF_VEHICLES_INVOLVED       int8\n",
       "PROPERTY_DAMAGE                 object\n",
       "BODILY_INJURIES                   int8\n",
       "WITNESSES                         int8\n",
       "POLICE_REPORT_AVAILABLE         object\n",
       "TOTAL_CLAIM_AMOUNT_PAID        float64\n",
       "INJURY_CLAIM                   float64\n",
       "PROPERTY_CLAIM                 float64\n",
       "VEHICLE_CLAIM                  float64\n",
       "AUTO_MAKE                       object\n",
       "AUTO_MODEL                      object\n",
       "AUTO_YEAR                        int16\n",
       "FRAUD_REPORTED                  object\n",
       "dtype: object"
      ]
     },
     "execution_count": 33,
     "metadata": {},
     "output_type": "execute_result"
    }
   ],
   "source": [
    "### Checking datatypes\n",
    "insurance_claim.dtypes"
   ]
  },
  {
   "cell_type": "code",
   "execution_count": 34,
   "id": "b0ffc5f4",
   "metadata": {},
   "outputs": [],
   "source": [
    "### changing Incident date into datetime format\n",
    "insurance_claim['INCIDENT_DATE']=pd.to_datetime(insurance_claim['INCIDENT_DATE'],format='%Y-%m-%d')\n",
    "\n",
    "### changing auto_year date into datetime format\n",
    "insurance_claim['AUTO_YEAR']=pd.to_datetime(insurance_claim['AUTO_YEAR'],format='%Y')"
   ]
  },
  {
   "cell_type": "code",
   "execution_count": 35,
   "id": "4b9712b7",
   "metadata": {},
   "outputs": [
    {
     "data": {
      "text/plain": [
       "['MONTHS_AS_CUSTOMER',\n",
       " 'POLICY_NUMBER',\n",
       " 'POLICY_DEDUCTABLE',\n",
       " 'POLICY_ANNUAL_PREMIUM',\n",
       " 'UMBRELLA_LIMIT',\n",
       " 'CAPITAL_GAINS',\n",
       " 'CAPITAL_LOSS',\n",
       " 'INCIDENT_DATE',\n",
       " 'NUMBER_OF_VEHICLES_INVOLVED',\n",
       " 'BODILY_INJURIES',\n",
       " 'WITNESSES',\n",
       " 'TOTAL_CLAIM_AMOUNT_PAID',\n",
       " 'INJURY_CLAIM',\n",
       " 'PROPERTY_CLAIM',\n",
       " 'VEHICLE_CLAIM',\n",
       " 'AUTO_YEAR']"
      ]
     },
     "execution_count": 35,
     "metadata": {},
     "output_type": "execute_result"
    }
   ],
   "source": [
    "# OUTLIER DETECTION\n",
    "insurance_claim.describe().columns.to_list()"
   ]
  },
  {
   "cell_type": "code",
   "execution_count": 36,
   "id": "fbf99bb0",
   "metadata": {},
   "outputs": [
    {
     "data": {
      "image/png": "[encoded data removed]",
      "text/plain": [
       "<Figure size 1440x1440 with 14 Axes>"
      ]
     },
     "metadata": {
      "needs_background": "light"
     },
     "output_type": "display_data"
    }
   ],
   "source": [
    "plt.figure(figsize=[20,20])\n",
    "\n",
    "\n",
    "num_col= ['MONTHS_AS_CUSTOMER','CUSTOMER_AGE','POLICY_DEDUCTABLE','POLICY_ANNUAL_PREMIUM','UMBRELLA_LIMIT','CAPITAL_GAINS','CAPITAL_LOSS','NUMBER_OF_VEHICLES_INVOLVED','BODILY_INJURIES','WITNESSES',\n",
    " 'TOTAL_CLAIM_AMOUNT_PAID','INJURY_CLAIM', 'PROPERTY_CLAIM', 'VEHICLE_CLAIM']\n",
    "\n",
    "c=1\n",
    "\n",
    "for i in num_col:\n",
    "    plt.subplot(4, 4, c)\n",
    "    plt.xlabel(i)\n",
    "    sns.boxplot(insurance_claim[i] , palette=\"Set2\")\n",
    "    c = c + 1\n",
    "    \n",
    "plt.show()\n"
   ]
  },
  {
   "cell_type": "code",
   "execution_count": null,
   "id": "81c590dd",
   "metadata": {},
   "outputs": [],
   "source": [
    "insurance_claim['police_report_available'].value_counts(normalize=True,dropna=False)"
   ]
  },
  {
   "cell_type": "code",
   "execution_count": null,
   "id": "c58dd6de",
   "metadata": {},
   "outputs": [],
   "source": [
    "### Intialize \"count\" column\n",
    "\n",
    "insurance_claim['count']=1"
   ]
  },
  {
   "cell_type": "markdown",
   "id": "8ac58c3a",
   "metadata": {},
   "source": [
    "# Exploratory Data Analysis"
   ]
  },
  {
   "cell_type": "code",
   "execution_count": null,
   "id": "1de94186",
   "metadata": {},
   "outputs": [],
   "source": [
    "#plt.figure(figsize=[5,4])\n",
    "fig = px.pie(insurance_claim,names='fraud_reported')\n",
    "fig.show()"
   ]
  },
  {
   "cell_type": "code",
   "execution_count": null,
   "id": "bbd9c490",
   "metadata": {},
   "outputs": [],
   "source": [
    "### Datasplitting into fraud and not fraud category\n",
    "\n",
    "insurance_claim_f=insurance_claim[insurance_claim['fraud_reported']=='Y']\n",
    "insurance_claim_nf=insurance_claim[insurance_claim['fraud_reported']=='N']"
   ]
  },
  {
   "cell_type": "code",
   "execution_count": null,
   "id": "3ffb41f4",
   "metadata": {},
   "outputs": [],
   "source": [
    "plt.figure(figsize=[15,20])\n",
    "num_col=insurance_claim.describe().columns.to_list()\n",
    "\n",
    "c=1\n",
    "\n",
    "for i in num_col:\n",
    "    plt.subplot(4, 4, c)\n",
    "    sns.distplot(insurance_claim_f[i],hist=False,label='Fraud')\n",
    "    sns.distplot(insurance_claim_nf[i],hist=False,label='Not-Fraud')\n",
    "    c = c + 1\n",
    "    plt.legend()    \n",
    "plt.show()"
   ]
  },
  {
   "cell_type": "code",
   "execution_count": null,
   "id": "97f27517",
   "metadata": {},
   "outputs": [],
   "source": [
    "fig = px.box(insurance_claim, x=\"policy_state\", y=\"total_claim_amount\", color=\"fraud_reported\")\n",
    "fig.show()"
   ]
  },
  {
   "cell_type": "code",
   "execution_count": null,
   "id": "d426a1fc",
   "metadata": {},
   "outputs": [],
   "source": [
    "fig=px.scatter(insurance_claim,x='policy_annual_premium',y='total_claim_amount',color='fraud_reported',marginal_x='histogram',marginal_y='histogram',trendline='ols')\n",
    "fig.show()"
   ]
  },
  {
   "cell_type": "code",
   "execution_count": null,
   "id": "80668df6",
   "metadata": {},
   "outputs": [],
   "source": [
    "fig=px.scatter(insurance_claim,x='policy_annual_premium',y='property_claim',color='fraud_reported')\n",
    "fig.show()"
   ]
  },
  {
   "cell_type": "code",
   "execution_count": null,
   "id": "2f2b74f0",
   "metadata": {},
   "outputs": [],
   "source": [
    "fig=px.scatter(insurance_claim,x='policy_annual_premium',y='vehicle_claim',color='fraud_reported')\n",
    "fig.show()"
   ]
  },
  {
   "cell_type": "code",
   "execution_count": null,
   "id": "2c3a1346",
   "metadata": {},
   "outputs": [],
   "source": [
    "fig=px.scatter(insurance_claim,x='policy_annual_premium',y='injury_claim',color='fraud_reported')\n",
    "fig.show()"
   ]
  },
  {
   "cell_type": "code",
   "execution_count": null,
   "id": "951deb64",
   "metadata": {},
   "outputs": [],
   "source": [
    "fig=px.scatter(insurance_claim,x='age',y='total_claim_amount',color='fraud_reported',marginal_x='box',marginal_y='violin',trendline='ols')\n",
    "fig.show()"
   ]
  },
  {
   "cell_type": "code",
   "execution_count": null,
   "id": "be48c819",
   "metadata": {},
   "outputs": [],
   "source": [
    "groupdf_is=insurance_claim.groupby(by=['insured_sex','fraud_reported']).count()\n",
    "groupdf_is.reset_index(inplace=True)\n",
    "groupdf_is=groupdf_is[['insured_sex','fraud_reported','count']]\n",
    "groupdf_is.head()"
   ]
  },
  {
   "cell_type": "code",
   "execution_count": null,
   "id": "853154c0",
   "metadata": {},
   "outputs": [],
   "source": [
    "fig=px.bar(groupdf_is,x='insured_sex',y='count',color='fraud_reported',text='count',pattern_shape_sequence=['|','/'],pattern_shape='fraud_reported')\n",
    "fig.show()"
   ]
  },
  {
   "cell_type": "code",
   "execution_count": null,
   "id": "a6a0a839",
   "metadata": {},
   "outputs": [],
   "source": [
    "groupdf_uu=insurance_claim.groupby(by=['umbrella_limit','fraud_reported']).count()\n",
    "groupdf_uu.reset_index(inplace=True)\n",
    "groupdf_uu=groupdf_uu[['umbrella_limit','fraud_reported','count']]\n",
    "groupdf_uu.head(3)"
   ]
  },
  {
   "cell_type": "code",
   "execution_count": null,
   "id": "b97444ae",
   "metadata": {},
   "outputs": [],
   "source": [
    "fig=px.bar(groupdf_uu,x='umbrella_limit',y='count',color='fraud_reported',text='count')\n",
    "fig.show()"
   ]
  },
  {
   "cell_type": "code",
   "execution_count": null,
   "id": "57b622d2",
   "metadata": {},
   "outputs": [],
   "source": [
    "groupdf_el=insurance_claim.groupby(by=['insured_education_level','fraud_reported']).count()\n",
    "groupdf_el.reset_index(inplace=True)\n",
    "groupdf_el=groupdf_el[['insured_education_level','fraud_reported','count']]\n",
    "groupdf_el.head()"
   ]
  },
  {
   "cell_type": "code",
   "execution_count": null,
   "id": "39c3adb8",
   "metadata": {},
   "outputs": [],
   "source": [
    "fig=px.bar(groupdf_el,x='insured_education_level',y='count',color='fraud_reported',text='count',title=\"Insurance Claim for different education Level\")\n",
    "fig.show()"
   ]
  },
  {
   "cell_type": "code",
   "execution_count": null,
   "id": "6d9ef4f3",
   "metadata": {},
   "outputs": [],
   "source": [
    "groupdf_ic=insurance_claim.groupby(by=['insured_occupation','fraud_reported']).count()\n",
    "groupdf_ic.reset_index(inplace=True)\n",
    "groupdf_ic=groupdf_ic[['insured_occupation','fraud_reported','count']]\n",
    "groupdf_ic.head()"
   ]
  },
  {
   "cell_type": "code",
   "execution_count": null,
   "id": "b13218e5",
   "metadata": {},
   "outputs": [],
   "source": [
    "fig=px.bar(groupdf_ic,x='insured_occupation',y='count',color='fraud_reported',text='count',title='Number of Claims diffrent Occupation')\n",
    "fig.show()"
   ]
  },
  {
   "cell_type": "code",
   "execution_count": null,
   "id": "450d8b07",
   "metadata": {},
   "outputs": [],
   "source": [
    "groupdf_h=insurance_claim.groupby(by=['insured_hobbies','fraud_reported']).count()\n",
    "groupdf_h.reset_index(inplace=True)\n",
    "groupdf_h=groupdf_h[['insured_hobbies','fraud_reported','count']]\n",
    "groupdf_h.head()"
   ]
  },
  {
   "cell_type": "code",
   "execution_count": null,
   "id": "94183e9f",
   "metadata": {},
   "outputs": [],
   "source": [
    "fig=px.bar(groupdf_h,x='insured_hobbies',y='count',color='fraud_reported',text='count',title=\"Hobby Wise claim\")\n",
    "fig.show()"
   ]
  },
  {
   "cell_type": "code",
   "execution_count": null,
   "id": "856f3681",
   "metadata": {},
   "outputs": [],
   "source": [
    "groupdf_rl=insurance_claim.groupby(by=['insured_relationship','fraud_reported']).count()\n",
    "groupdf_rl.reset_index(inplace=True)\n",
    "groupdf_rl=groupdf_rl[['insured_relationship','fraud_reported','count']]\n",
    "groupdf_rl.head()"
   ]
  },
  {
   "cell_type": "code",
   "execution_count": null,
   "id": "1aff7cad",
   "metadata": {},
   "outputs": [],
   "source": [
    "fig=px.bar(groupdf_rl,x='insured_relationship',y='count',color='fraud_reported',text='count')\n",
    "fig.show()"
   ]
  },
  {
   "cell_type": "code",
   "execution_count": null,
   "id": "329f8bfd",
   "metadata": {},
   "outputs": [],
   "source": [
    "groupdf_it=insurance_claim.groupby(by=['incident_type','fraud_reported']).count()\n",
    "groupdf_it.reset_index(inplace=True)\n",
    "groupdf_it=groupdf_it[['incident_type','fraud_reported','count']]\n",
    "groupdf_it.head()"
   ]
  },
  {
   "cell_type": "code",
   "execution_count": null,
   "id": "17076983",
   "metadata": {},
   "outputs": [],
   "source": [
    "fig=px.bar(groupdf_it,x='incident_type',y='count',color='fraud_reported',text='count',title=\"Number of claims Vs. Incident type\")\n",
    "fig.show()"
   ]
  },
  {
   "cell_type": "code",
   "execution_count": null,
   "id": "6d9bce3c",
   "metadata": {},
   "outputs": [],
   "source": [
    "groupdf_ct=insurance_claim.groupby(by=['collision_type','fraud_reported']).count()\n",
    "groupdf_ct.reset_index(inplace=True)\n",
    "groupdf_ct=groupdf_ct[['collision_type','fraud_reported','count']]\n",
    "groupdf_ct.head()"
   ]
  },
  {
   "cell_type": "code",
   "execution_count": null,
   "id": "c6415a58",
   "metadata": {},
   "outputs": [],
   "source": [
    "fig=px.bar(groupdf_ct,x='collision_type',y='count',color='fraud_reported',text='count',title=\"Nos. of Claim for different type of collision\")\n",
    "fig.show()"
   ]
  },
  {
   "cell_type": "code",
   "execution_count": null,
   "id": "e5530601",
   "metadata": {},
   "outputs": [],
   "source": [
    "groupdf_ins=insurance_claim.groupby(by=['incident_severity','fraud_reported']).count()\n",
    "groupdf_ins.reset_index(inplace=True)\n",
    "groupdf_ins=groupdf_ins[['incident_severity','fraud_reported','count']]\n",
    "groupdf_ins.head()"
   ]
  },
  {
   "cell_type": "code",
   "execution_count": null,
   "id": "ba2ce345",
   "metadata": {},
   "outputs": [],
   "source": [
    "fig=px.bar(groupdf_ins,x='incident_severity',y='count',color='fraud_reported',text='count',title=\"Number of claim Vs. Incident severity\")\n",
    "fig.show()"
   ]
  },
  {
   "cell_type": "code",
   "execution_count": null,
   "id": "b68f8806",
   "metadata": {},
   "outputs": [],
   "source": [
    "groupdf_ac=insurance_claim.groupby(by=['authorities_contacted','fraud_reported']).count()\n",
    "groupdf_ac.reset_index(inplace=True)\n",
    "groupdf_ac=groupdf_ac[['authorities_contacted','fraud_reported','count']]\n",
    "groupdf_ac.head()"
   ]
  },
  {
   "cell_type": "code",
   "execution_count": null,
   "id": "0c35ac1d",
   "metadata": {},
   "outputs": [],
   "source": [
    "fig=px.bar(groupdf_ac,x='authorities_contacted',y='count',color='fraud_reported',text='count')\n",
    "fig.show()"
   ]
  },
  {
   "cell_type": "code",
   "execution_count": null,
   "id": "61a7c1ab",
   "metadata": {},
   "outputs": [],
   "source": [
    "groupdf_st=insurance_claim.groupby(by=['incident_state','fraud_reported']).count()\n",
    "groupdf_st.reset_index(inplace=True)\n",
    "groupdf_st=groupdf_st[['incident_state','fraud_reported','count']]\n",
    "groupdf_st.head()"
   ]
  },
  {
   "cell_type": "code",
   "execution_count": null,
   "id": "65a4d4a3",
   "metadata": {},
   "outputs": [],
   "source": [
    "fig=px.bar(groupdf_st,x='incident_state',y='count',color='fraud_reported',text='count',title=\"Claims for different state\")\n",
    "fig.show()"
   ]
  },
  {
   "cell_type": "code",
   "execution_count": null,
   "id": "dd453fec",
   "metadata": {},
   "outputs": [],
   "source": [
    "groupdf_pd=insurance_claim.groupby(by=['property_damage','fraud_reported']).count()\n",
    "groupdf_pd.reset_index(inplace=True)\n",
    "groupdf_pd=groupdf_pd[['property_damage','fraud_reported','count']]\n",
    "groupdf_pd.head()"
   ]
  },
  {
   "cell_type": "code",
   "execution_count": null,
   "id": "82082fb4",
   "metadata": {},
   "outputs": [],
   "source": [
    "fig=px.bar(groupdf_pd,x='property_damage',y='count',color='fraud_reported',text='count')\n",
    "fig.show()"
   ]
  },
  {
   "cell_type": "code",
   "execution_count": null,
   "id": "c3e8ba36",
   "metadata": {},
   "outputs": [],
   "source": [
    "groupdf_w=insurance_claim.groupby(by=['witnesses','fraud_reported']).count()\n",
    "groupdf_w.reset_index(inplace=True)\n",
    "groupdf_w=groupdf_w[['witnesses','fraud_reported','count']]\n",
    "groupdf_w.head()"
   ]
  },
  {
   "cell_type": "code",
   "execution_count": null,
   "id": "a08ff9ae",
   "metadata": {},
   "outputs": [],
   "source": [
    "fig=px.bar(groupdf_w,x='witnesses',y='count',color='fraud_reported',text='count',title=\"Nos. of claims vs No. of witnesses\")\n",
    "fig.show()"
   ]
  },
  {
   "cell_type": "code",
   "execution_count": null,
   "id": "3b29b1f4",
   "metadata": {},
   "outputs": [],
   "source": [
    "groupdf_am=insurance_claim.groupby(by=['auto_make','fraud_reported']).count()\n",
    "groupdf_am.reset_index(inplace=True)\n",
    "groupdf_am=groupdf_am[['auto_make','fraud_reported','count']]\n",
    "groupdf_am.head()"
   ]
  },
  {
   "cell_type": "code",
   "execution_count": null,
   "id": "0672c243",
   "metadata": {},
   "outputs": [],
   "source": [
    "fig=px.bar(groupdf_am,x='auto_make',y='count',color='fraud_reported',text='count',title=\"Claims for different auto make\")\n",
    "fig.show()"
   ]
  },
  {
   "cell_type": "code",
   "execution_count": null,
   "id": "039697ef",
   "metadata": {},
   "outputs": [],
   "source": [
    "groupdf_atm=insurance_claim.groupby(by=['auto_model','fraud_reported']).count()\n",
    "groupdf_atm.reset_index(inplace=True)\n",
    "groupdf_atm=groupdf_atm[['auto_model','fraud_reported','count']]\n",
    "groupdf_atm.head()"
   ]
  },
  {
   "cell_type": "code",
   "execution_count": null,
   "id": "b0cded57",
   "metadata": {},
   "outputs": [],
   "source": [
    "fig=px.bar(groupdf_atm,x='auto_model',y='count',color='fraud_reported',text='count',title=\"Claims for diiferent auto model\")\n",
    "fig.show()"
   ]
  },
  {
   "cell_type": "code",
   "execution_count": null,
   "id": "009fc8cd",
   "metadata": {},
   "outputs": [],
   "source": [
    "groupdf_atmm=insurance_claim.groupby(by=['auto_make','auto_model','fraud_reported']).count()\n",
    "groupdf_atmm.reset_index(inplace=True)\n",
    "groupdf_atmm=groupdf_atmm[['auto_make','auto_model','fraud_reported','count']]\n",
    "groupdf_atmm['fraud_reported']=groupdf_atmm['fraud_reported'].apply(lambda x: 'Fraud Reported :YES' if x == 'Y' else 'Fraud Reported :NO')\n",
    "groupdf_atmm.head()"
   ]
  },
  {
   "cell_type": "code",
   "execution_count": null,
   "id": "62af50b0",
   "metadata": {},
   "outputs": [],
   "source": [
    "fig=px.bar(groupdf_atmm,x='auto_make',y='count',color='auto_model',text='count',hover_name='fraud_reported',title=\"Claims by Auto make amd Auto model\")\n",
    "fig.show()"
   ]
  },
  {
   "cell_type": "code",
   "execution_count": null,
   "id": "dd27d571",
   "metadata": {},
   "outputs": [],
   "source": [
    "plt.figure(figsize=[20,12])\n",
    "sns.heatmap(insurance_claim.corr(),annot=True,cmap=\"PiYG\")\n",
    "plt.show()"
   ]
  },
  {
   "cell_type": "code",
   "execution_count": null,
   "id": "144dfd38",
   "metadata": {},
   "outputs": [],
   "source": [
    "### Some feature showing strong correltion.\n",
    "### Plotting scatter plot for those\n",
    "\n",
    "plt.figure(figsize=[20,15])\n",
    "\n",
    "corr_df=insurance_claim[['months_as_customer', 'age','total_claim_amount', 'injury_claim','property_claim', 'vehicle_claim','fraud_reported']]\n",
    "sns.pairplot(corr_df,hue='fraud_reported',corner=True)\n",
    "plt.show()"
   ]
  },
  {
   "cell_type": "code",
   "execution_count": null,
   "id": "13ff901f",
   "metadata": {},
   "outputs": [],
   "source": [
    "fig=px.box(insurance_claim,x='insured_sex',y='total_claim_amount',color='fraud_reported',notched=True,template='plotly_dark')\n",
    "fig.show()"
   ]
  },
  {
   "cell_type": "code",
   "execution_count": null,
   "id": "05841e97",
   "metadata": {},
   "outputs": [],
   "source": [
    "fig=px.box(insurance_claim,x='insured_education_level',y='total_claim_amount',color='fraud_reported',notched=True,template='plotly_dark')\n",
    "fig.show()"
   ]
  },
  {
   "cell_type": "code",
   "execution_count": null,
   "id": "60f3e4a3",
   "metadata": {},
   "outputs": [],
   "source": [
    "fig=px.box(insurance_claim,x='insured_occupation',y='total_claim_amount',color='fraud_reported',notched=True,template='plotly_dark')\n",
    "fig.show()"
   ]
  },
  {
   "cell_type": "code",
   "execution_count": null,
   "id": "3026b8e8",
   "metadata": {},
   "outputs": [],
   "source": [
    "fig=px.box(insurance_claim,x='insured_hobbies',y='total_claim_amount',color='fraud_reported',notched=True,template='plotly_dark')\n",
    "fig.show()"
   ]
  },
  {
   "cell_type": "code",
   "execution_count": null,
   "id": "0254d6a0",
   "metadata": {},
   "outputs": [],
   "source": [
    "fig=px.box(insurance_claim,x='incident_type',y='total_claim_amount',color='fraud_reported',notched=True,template='plotly_dark')\n",
    "fig.show()"
   ]
  },
  {
   "cell_type": "code",
   "execution_count": null,
   "id": "8f1df966",
   "metadata": {},
   "outputs": [],
   "source": [
    "fig=px.box(insurance_claim,x='incident_severity',y='total_claim_amount',color='fraud_reported',notched=True,template='plotly_dark')\n",
    "fig.show()"
   ]
  },
  {
   "cell_type": "code",
   "execution_count": null,
   "id": "76f23594",
   "metadata": {},
   "outputs": [],
   "source": [
    "fig=px.box(insurance_claim,x='number_of_vehicles_involved',y='total_claim_amount',color='fraud_reported',notched=True,template='plotly_dark')\n",
    "fig.show()"
   ]
  },
  {
   "cell_type": "code",
   "execution_count": null,
   "id": "14c39469",
   "metadata": {},
   "outputs": [],
   "source": [
    "fig=px.box(insurance_claim,x='bodily_injuries',y='total_claim_amount',color='fraud_reported',notched=True,template='plotly_dark')\n",
    "fig.show()"
   ]
  },
  {
   "cell_type": "code",
   "execution_count": null,
   "id": "49edd0c0",
   "metadata": {},
   "outputs": [],
   "source": [
    "fig=px.box(insurance_claim,x='auto_make',y='total_claim_amount',color='fraud_reported',notched=True,template='plotly_dark')\n",
    "fig.show()"
   ]
  },
  {
   "cell_type": "code",
   "execution_count": null,
   "id": "4801b204",
   "metadata": {},
   "outputs": [],
   "source": [
    "fig=px.box(insurance_claim,x='auto_model',y='total_claim_amount',color='fraud_reported',notched=False,template='plotly_dark')\n",
    "fig.show()"
   ]
  },
  {
   "cell_type": "code",
   "execution_count": null,
   "id": "cbf112ad",
   "metadata": {},
   "outputs": [],
   "source": [
    "fig=px.box(insurance_claim,x='auto_year',y='total_claim_amount',color='fraud_reported',notched=False,template='plotly_dark')\n",
    "fig.show()"
   ]
  },
  {
   "cell_type": "code",
   "execution_count": null,
   "id": "30c0793b",
   "metadata": {},
   "outputs": [],
   "source": [
    "fig=px.box(insurance_claim,x='fraud_reported',y='total_claim_amount',notched=True,template='plotly_dark',points='all')\n",
    "fig.show()"
   ]
  },
  {
   "cell_type": "code",
   "execution_count": null,
   "id": "0e923f66",
   "metadata": {},
   "outputs": [],
   "source": [
    "fig=px.box(insurance_claim,x='fraud_reported',y='vehicle_claim',notched=True,template='plotly_dark',points='all')\n",
    "fig.show()"
   ]
  },
  {
   "cell_type": "code",
   "execution_count": null,
   "id": "a2cbef5d",
   "metadata": {},
   "outputs": [],
   "source": [
    "fig=px.box(insurance_claim,x='fraud_reported',y='total_claim_amount',color='insured_education_level',notched=True,template='plotly_dark')\n",
    "fig.show()"
   ]
  },
  {
   "cell_type": "code",
   "execution_count": null,
   "id": "8681aba8",
   "metadata": {},
   "outputs": [],
   "source": [
    "fig=px.box(insurance_claim,x='fraud_reported',y='total_claim_amount',color='insured_occupation',notched=True,template='plotly_dark')\n",
    "fig.show()"
   ]
  },
  {
   "cell_type": "code",
   "execution_count": null,
   "id": "3644e766",
   "metadata": {},
   "outputs": [],
   "source": [
    "### Make column \"fraud flag\" i.e 1 for yes and 0 for no\n",
    "\n",
    "insurance_claim['fraud_flag']=insurance_claim['fraud_reported'].apply(lambda x: 1 if x=='Y' else 0)"
   ]
  },
  {
   "cell_type": "code",
   "execution_count": null,
   "id": "4560a3c5",
   "metadata": {},
   "outputs": [],
   "source": [
    "grp1=insurance_claim.groupby(['insured_occupation'])['fraud_flag'].mean()\n",
    "grp1=pd.DataFrame(grp1)\n",
    "grp1.reset_index(inplace=True)\n",
    "grp1['fraud_flag']=grp1['fraud_flag'].apply(lambda x: 100*x)\n",
    "grp1['fraud_flag']=grp1['fraud_flag'].apply(lambda x: round(x,2))\n",
    "grp1['fraud_flag'] = grp1['fraud_flag'].apply(lambda x: \"{}{}\".format(x,'%'))\n",
    "grp1.rename(columns={'fraud_flag':'Fraud percentage'},inplace=True)\n",
    "grp1.head(10)"
   ]
  },
  {
   "cell_type": "code",
   "execution_count": null,
   "id": "23f228cd",
   "metadata": {},
   "outputs": [],
   "source": [
    "fig=px.bar(grp1,x='insured_occupation',y='Fraud percentage',color='insured_occupation',log_y=True,title='Fraud percentage:Occupation wise',text='Fraud percentage')\n",
    "fig.update_traces(textposition='outside')\n",
    "fig.show()"
   ]
  },
  {
   "cell_type": "code",
   "execution_count": null,
   "id": "5119df7b",
   "metadata": {},
   "outputs": [],
   "source": [
    "grp2=insurance_claim.groupby(['insured_education_level'])['fraud_flag'].mean()\n",
    "grp2=pd.DataFrame(grp2)\n",
    "grp2.reset_index(inplace=True)\n",
    "grp2['fraud_flag']=grp2['fraud_flag'].apply(lambda x: 100*x)\n",
    "grp2['fraud_flag']=grp2['fraud_flag'].apply(lambda x: round(x,2))\n",
    "grp2['fraud_flag'] = grp2['fraud_flag'].apply(lambda x: \"{}{}\".format(x,'%'))\n",
    "grp2.rename(columns={'fraud_flag':'Fraud percentage'},inplace=True)\n",
    "grp2.head()"
   ]
  },
  {
   "cell_type": "code",
   "execution_count": null,
   "id": "e0b3dda6",
   "metadata": {},
   "outputs": [],
   "source": [
    "fig=px.bar(grp2,x='insured_education_level',y='Fraud percentage',color='insured_education_level',log_y=True,title='Fraud percentage:Education-Level wise',text='Fraud percentage')\n",
    "fig.update_traces(textposition='outside')\n",
    "fig.show()"
   ]
  },
  {
   "cell_type": "code",
   "execution_count": null,
   "id": "ba7ab6e5",
   "metadata": {},
   "outputs": [],
   "source": [
    "grp3=insurance_claim.groupby(['insured_sex'])['fraud_flag'].mean()\n",
    "grp3=pd.DataFrame(grp3)\n",
    "grp3.reset_index(inplace=True)\n",
    "grp3['fraud_flag']=grp3['fraud_flag'].apply(lambda x: 100*x)\n",
    "grp3['fraud_flag']=grp3['fraud_flag'].apply(lambda x: round(x,2))\n",
    "grp3['fraud_flag'] = grp3['fraud_flag'].apply(lambda x: \"{}{}\".format(x,'%'))\n",
    "grp3.rename(columns={'fraud_flag':'Fraud percentage'},inplace=True)\n",
    "grp3.head()"
   ]
  },
  {
   "cell_type": "code",
   "execution_count": null,
   "id": "df7307ef",
   "metadata": {},
   "outputs": [],
   "source": [
    "fig=px.bar(grp3,x='insured_sex',y='Fraud percentage',color='insured_sex',log_y=True,title='Fraud percentage:State wise',text='Fraud percentage')\n",
    "fig.update_traces(textposition='outside')\n",
    "fig.show()"
   ]
  },
  {
   "cell_type": "code",
   "execution_count": null,
   "id": "ea17db2b",
   "metadata": {},
   "outputs": [],
   "source": [
    "grp4=insurance_claim.groupby(['auto_make'])['fraud_flag'].mean()\n",
    "grp4=pd.DataFrame(grp4)\n",
    "grp4.reset_index(inplace=True)\n",
    "grp4['fraud_flag']=grp4['fraud_flag'].apply(lambda x: 100*x)\n",
    "grp4['fraud_flag']=grp4['fraud_flag'].apply(lambda x: round(x,2))\n",
    "grp4['fraud_flag'] = grp4['fraud_flag'].apply(lambda x: \"{}{}\".format(x,'%'))\n",
    "grp4.rename(columns={'fraud_flag':'Fraud percentage'},inplace=True)\n",
    "grp4.head()"
   ]
  },
  {
   "cell_type": "code",
   "execution_count": null,
   "id": "05081fee",
   "metadata": {},
   "outputs": [],
   "source": [
    "fig=px.bar(grp4,x='auto_make',y='Fraud percentage',color='auto_make',log_y=True,title='Fraud percentage:Auto_Make wise',text='Fraud percentage')\n",
    "fig.update_traces(textposition='outside')\n",
    "fig.show()"
   ]
  },
  {
   "cell_type": "code",
   "execution_count": null,
   "id": "90a4628f",
   "metadata": {},
   "outputs": [],
   "source": [
    "grp5=insurance_claim.groupby(['auto_model'])['fraud_flag'].mean()\n",
    "grp5=pd.DataFrame(grp5)\n",
    "grp5.reset_index(inplace=True)\n",
    "grp5['fraud_flag']=grp5['fraud_flag'].apply(lambda x: 100*x)\n",
    "grp5['fraud_flag']=grp5['fraud_flag'].apply(lambda x: round(x,2))\n",
    "grp5['fraud_flag'] = grp5['fraud_flag'].apply(lambda x: \"{}{}\".format(x,'%'))\n",
    "grp5.rename(columns={'fraud_flag':'Fraud percentage'},inplace=True)\n",
    "grp5.head()"
   ]
  },
  {
   "cell_type": "code",
   "execution_count": null,
   "id": "5d255578",
   "metadata": {},
   "outputs": [],
   "source": [
    "fig=px.bar(grp5,x='auto_model',y='Fraud percentage',color='auto_model',log_y=True,title='Fraud percentage:Auto_Model wise',text='Fraud percentage')\n",
    "fig.update_traces(textposition='outside',textfont_size=20)\n",
    "fig.show()"
   ]
  },
  {
   "cell_type": "code",
   "execution_count": null,
   "id": "b413a832",
   "metadata": {},
   "outputs": [],
   "source": [
    "fig=px.sunburst(insurance_claim,path=['auto_make','auto_model'])\n",
    "fig.show()"
   ]
  },
  {
   "cell_type": "code",
   "execution_count": null,
   "id": "4d621dd7",
   "metadata": {},
   "outputs": [],
   "source": [
    "fig=px.treemap(insurance_claim,path=[px.Constant(\"All Car Brand\"),'auto_make','auto_model'],values='count')\n",
    "fig.show()"
   ]
  },
  {
   "cell_type": "code",
   "execution_count": null,
   "id": "3adf548e",
   "metadata": {},
   "outputs": [],
   "source": [
    "claim_sex_edu=pd.pivot_table(data=insurance_claim,index='insured_sex',columns='insured_education_level',values='fraud_flag')\n",
    "claim_sex_edu"
   ]
  },
  {
   "cell_type": "code",
   "execution_count": null,
   "id": "f073e3e3",
   "metadata": {},
   "outputs": [],
   "source": [
    "plt.figure(figsize=[11,7])\n",
    "sns.heatmap(claim_sex_edu,annot=True,cmap='RdYlGn_r')\n",
    "plt.title(\"Fraud correlaton between betwwen insured_sex and insured_education_level\")\n",
    "plt.show()"
   ]
  },
  {
   "cell_type": "code",
   "execution_count": null,
   "id": "5fc5cc90",
   "metadata": {},
   "outputs": [],
   "source": [
    "claim_sex_ocu=pd.pivot_table(data=insurance_claim,index='insured_sex',columns='insured_occupation',values='fraud_flag')\n",
    "claim_sex_ocu"
   ]
  },
  {
   "cell_type": "code",
   "execution_count": null,
   "id": "ad037aa1",
   "metadata": {},
   "outputs": [],
   "source": [
    "plt.figure(figsize=[15,9])\n",
    "sns.heatmap(claim_sex_ocu,annot=True,cmap='RdYlGn_r')\n",
    "plt.title(\"Fraud correlaton between betwwen insured_sex and insured_occupation_level\")\n",
    "plt.show()"
   ]
  },
  {
   "cell_type": "code",
   "execution_count": null,
   "id": "5b854e68",
   "metadata": {},
   "outputs": [],
   "source": [
    "claim_edu_ocu=pd.pivot_table(data=insurance_claim,index='insured_education_level',columns='insured_occupation',values='fraud_flag')\n",
    "claim_edu_ocu"
   ]
  },
  {
   "cell_type": "code",
   "execution_count": null,
   "id": "ab08f4db",
   "metadata": {},
   "outputs": [],
   "source": [
    "plt.figure(figsize=[15,9])\n",
    "sns.heatmap(claim_edu_ocu,annot=True,cmap='RdYlGn_r')\n",
    "plt.title(\"Fraud correlaton between betwwen insured_occupation and insured_education_level\")\n",
    "plt.show()"
   ]
  }
 ],
 "metadata": {
  "kernelspec": {
   "display_name": "Python 3",
   "language": "python",
   "name": "python3"
  },
  "language_info": {
   "codemirror_mode": {
    "name": "ipython",
    "version": 3
   },
   "file_extension": ".py",
   "mimetype": "text/x-python",
   "name": "python",
   "nbconvert_exporter": "python",
   "pygments_lexer": "ipython3",
   "version": "3.8.18"
  }
 },
 "nbformat": 4,
 "nbformat_minor": 5
}
