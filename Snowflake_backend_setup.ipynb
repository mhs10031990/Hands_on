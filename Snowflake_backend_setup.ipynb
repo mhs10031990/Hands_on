{
 "cells": [
  {
   "cell_type": "code",
   "execution_count": 1,
   "id": "6ac4e036",
   "metadata": {},
   "outputs": [],
   "source": [
    "from snowflake.snowpark.session import Session\n",
    "import subprocess"
   ]
  },
  {
   "cell_type": "code",
   "execution_count": null,
   "id": "8781db8a",
   "metadata": {},
   "outputs": [],
   "source": [
    "local_file_path = \"/notebooks/notebooks/customer_data.csv\"\n",
    "stage_location = \"my_stage_location\"\n",
    "snowsql_put_command = [\n",
    "    \"snowsql\",\n",
    "    \"-u\", \"MANISH\",\n",
    "    \"-a\", \"ug94937.us-east4\",\n",
    "    \"-d\", \"FDC_DATA_MANISH\",\n",
    "    \"-s\", \"PUBLIC\",\n",
    "    \"-w\", \"FOSFOR_FDC\",\n",
    "    \"-r\", \"MANISH\",\n",
    "    \"-o\", \"output_format=csv\",\n",
    "    \"-o\", \"quiet=true\",\n",
    "    \"-o\", \"header=false\",\n",
    "    \"--execute\", f\"PUT file://{local_file_path} @{stage_location}\"\n",
    "]\n",
    "subprocess.run(snowsql_put_command)"
   ]
  },
  {
   "cell_type": "code",
   "execution_count": null,
   "id": "9619df7e",
   "metadata": {},
   "outputs": [],
   "source": []
  },
  {
   "cell_type": "code",
   "execution_count": null,
   "id": "bc4319e8",
   "metadata": {},
   "outputs": [],
   "source": []
  },
  {
   "cell_type": "code",
   "execution_count": null,
   "id": "4d8c0588",
   "metadata": {},
   "outputs": [],
   "source": []
  },
  {
   "cell_type": "code",
   "execution_count": null,
   "id": "b1a152c6",
   "metadata": {},
   "outputs": [],
   "source": []
  },
  {
   "cell_type": "code",
   "execution_count": null,
   "id": "6b1f4133",
   "metadata": {},
   "outputs": [],
   "source": []
  }
 ],
 "metadata": {
  "kernelspec": {
   "display_name": "Python 3",
   "language": "python",
   "name": "python3"
  },
  "language_info": {
   "codemirror_mode": {
    "name": "ipython",
    "version": 3
   },
   "file_extension": ".py",
   "mimetype": "text/x-python",
   "name": "python",
   "nbconvert_exporter": "python",
   "pygments_lexer": "ipython3",
   "version": "3.9.18"
  }
 },
 "nbformat": 4,
 "nbformat_minor": 5
}
