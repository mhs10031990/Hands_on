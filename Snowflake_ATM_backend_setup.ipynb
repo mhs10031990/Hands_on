{
 "cells": [
  {
   "cell_type": "code",
   "execution_count": 1,
   "id": "d5d275d1-7e03-49f8-84af-9910d8a95634",
   "metadata": {},
   "outputs": [],
   "source": [
    "from snowflake.snowpark.session import Session\n",
    "import pandas as pd\n",
    "import subprocess"
   ]
  },
  {
   "cell_type": "code",
   "execution_count": 2,
   "id": "506c3798",
   "metadata": {},
   "outputs": [],
   "source": [
    "#Import all snowflake connection details from template variables.\n",
    "db_user = 'MANISH'\n",
    "db_password = 'Password@2023'\n",
    "db_account = 'ug94937.us-east4.gcp'\n",
    "db_database =  'FDC_BANKING_FS'\n",
    "db_role = 'MANISH'\n",
    "db_warehouse = 'FOSFOR_SOLUTIONS_WH'\n",
    "db_schema = 'PUBLIC'"
   ]
  },
  {
   "cell_type": "code",
   "execution_count": 3,
   "id": "01cf64c1",
   "metadata": {},
   "outputs": [],
   "source": [
    "from snowflake.snowpark.session import Session\n",
    "connection_params = {\n",
    "    'user': db_user,\n",
    "    'password': db_password,\n",
    "    'account': db_account,\n",
    "    'warehouse': db_warehouse,\n",
    "    'database': db_database,\n",
    "    'schema': db_schema,\n",
    "    'role': db_role\n",
    "}\n",
    "session1 = Session.builder.configs(connection_params).create()"
   ]
  },
  {
   "cell_type": "code",
   "execution_count": 4,
   "id": "952bd79c",
   "metadata": {},
   "outputs": [
    {
     "data": {
      "text/plain": [
       "[Row(status='Statement executed successfully.')]"
      ]
     },
     "execution_count": 4,
     "metadata": {},
     "output_type": "execute_result"
    }
   ],
   "source": [
    "session1.sql('use warehouse FOSFOR_SOLUTIONS_WH;').collect()\n",
    "session1.sql('use database FDC_BANKING_FS;').collect()\n",
    "session1.sql('use schema FDC_BANKING_FS.PUBLIC;').collect()"
   ]
  },
  {
   "cell_type": "code",
   "execution_count": 5,
   "id": "39b55bb4",
   "metadata": {},
   "outputs": [],
   "source": [
    "atm = pd.read_csv('/data/atms_data.csv')"
   ]
  },
  {
   "cell_type": "code",
   "execution_count": 6,
   "id": "68246ef8",
   "metadata": {},
   "outputs": [
    {
     "data": {
      "text/plain": [
       "(420, 4)"
      ]
     },
     "execution_count": 6,
     "metadata": {},
     "output_type": "execute_result"
    }
   ],
   "source": [
    "atm.shape"
   ]
  },
  {
   "cell_type": "code",
   "execution_count": 31,
   "id": "2b4ec1e8",
   "metadata": {},
   "outputs": [],
   "source": [
    "atm.columns = ['atm_id', 'max_capacity', 'bank_id', 'state']"
   ]
  },
  {
   "cell_type": "code",
   "execution_count": 32,
   "id": "75688e26",
   "metadata": {},
   "outputs": [
    {
     "data": {
      "text/html": [
       "<div>\n",
       "<style scoped>\n",
       "    .dataframe tbody tr th:only-of-type {\n",
       "        vertical-align: middle;\n",
       "    }\n",
       "\n",
       "    .dataframe tbody tr th {\n",
       "        vertical-align: top;\n",
       "    }\n",
       "\n",
       "    .dataframe thead th {\n",
       "        text-align: right;\n",
       "    }\n",
       "</style>\n",
       "<table border=\"1\" class=\"dataframe\">\n",
       "  <thead>\n",
       "    <tr style=\"text-align: right;\">\n",
       "      <th></th>\n",
       "      <th>atm_id</th>\n",
       "      <th>max_capacity</th>\n",
       "      <th>bank_id</th>\n",
       "      <th>state</th>\n",
       "    </tr>\n",
       "  </thead>\n",
       "  <tbody>\n",
       "    <tr>\n",
       "      <th>0</th>\n",
       "      <td>SPCN2020</td>\n",
       "      <td>2640000.0</td>\n",
       "      <td>1</td>\n",
       "      <td>Michigan</td>\n",
       "    </tr>\n",
       "    <tr>\n",
       "      <th>1</th>\n",
       "      <td>SPCN2021</td>\n",
       "      <td>2640000.0</td>\n",
       "      <td>1</td>\n",
       "      <td>Florida</td>\n",
       "    </tr>\n",
       "    <tr>\n",
       "      <th>2</th>\n",
       "      <td>SPCN2022</td>\n",
       "      <td>2640000.0</td>\n",
       "      <td>1</td>\n",
       "      <td>Nebraska</td>\n",
       "    </tr>\n",
       "    <tr>\n",
       "      <th>3</th>\n",
       "      <td>SPCN2023</td>\n",
       "      <td>2640000.0</td>\n",
       "      <td>1</td>\n",
       "      <td>Kansas</td>\n",
       "    </tr>\n",
       "    <tr>\n",
       "      <th>4</th>\n",
       "      <td>SPCN2024</td>\n",
       "      <td>2640000.0</td>\n",
       "      <td>1</td>\n",
       "      <td>New Hampshire</td>\n",
       "    </tr>\n",
       "  </tbody>\n",
       "</table>\n",
       "</div>"
      ],
      "text/plain": [
       "     atm_id  max_capacity  bank_id          state\n",
       "0  SPCN2020     2640000.0        1       Michigan\n",
       "1  SPCN2021     2640000.0        1        Florida\n",
       "2  SPCN2022     2640000.0        1       Nebraska\n",
       "3  SPCN2023     2640000.0        1         Kansas\n",
       "4  SPCN2024     2640000.0        1  New Hampshire"
      ]
     },
     "execution_count": 32,
     "metadata": {},
     "output_type": "execute_result"
    }
   ],
   "source": [
    "atm.head()"
   ]
  },
  {
   "cell_type": "code",
   "execution_count": 33,
   "id": "3c782169",
   "metadata": {},
   "outputs": [
    {
     "data": {
      "text/plain": [
       "atm_id          0\n",
       "max_capacity    0\n",
       "bank_id         0\n",
       "state           0\n",
       "dtype: int64"
      ]
     },
     "execution_count": 33,
     "metadata": {},
     "output_type": "execute_result"
    }
   ],
   "source": [
    "atm.isnull().sum()"
   ]
  },
  {
   "cell_type": "code",
   "execution_count": 34,
   "id": "b29c89c3",
   "metadata": {},
   "outputs": [],
   "source": [
    "sf_atm=session1.createDataFrame(\n",
    "        atm.values.tolist(),\n",
    "        schema=atm.columns.tolist())\n",
    "sf_atm.write.mode(\"overwrite\").save_as_table(\"FDC_BANKING_FS.PUBLIC.ATM_MASTER\")"
   ]
  },
  {
   "cell_type": "code",
   "execution_count": 10,
   "id": "a6bc5477",
   "metadata": {},
   "outputs": [],
   "source": [
    "banks = pd.read_csv('/data/banks_data.csv')"
   ]
  },
  {
   "cell_type": "code",
   "execution_count": 36,
   "id": "b6c8af17",
   "metadata": {},
   "outputs": [],
   "source": [
    "banks.columns = ['bank_id', 'bank_name']"
   ]
  },
  {
   "cell_type": "code",
   "execution_count": 37,
   "id": "ec2f25f1",
   "metadata": {},
   "outputs": [
    {
     "data": {
      "text/html": [
       "<div>\n",
       "<style scoped>\n",
       "    .dataframe tbody tr th:only-of-type {\n",
       "        vertical-align: middle;\n",
       "    }\n",
       "\n",
       "    .dataframe tbody tr th {\n",
       "        vertical-align: top;\n",
       "    }\n",
       "\n",
       "    .dataframe thead th {\n",
       "        text-align: right;\n",
       "    }\n",
       "</style>\n",
       "<table border=\"1\" class=\"dataframe\">\n",
       "  <thead>\n",
       "    <tr style=\"text-align: right;\">\n",
       "      <th></th>\n",
       "      <th>bank_id</th>\n",
       "      <th>bank_name</th>\n",
       "    </tr>\n",
       "  </thead>\n",
       "  <tbody>\n",
       "    <tr>\n",
       "      <th>0</th>\n",
       "      <td>1</td>\n",
       "      <td>Wells Fargo</td>\n",
       "    </tr>\n",
       "    <tr>\n",
       "      <th>1</th>\n",
       "      <td>2</td>\n",
       "      <td>BNY Mellon</td>\n",
       "    </tr>\n",
       "    <tr>\n",
       "      <th>2</th>\n",
       "      <td>3</td>\n",
       "      <td>Citibank</td>\n",
       "    </tr>\n",
       "  </tbody>\n",
       "</table>\n",
       "</div>"
      ],
      "text/plain": [
       "   bank_id    bank_name\n",
       "0        1  Wells Fargo\n",
       "1        2   BNY Mellon\n",
       "2        3     Citibank"
      ]
     },
     "execution_count": 37,
     "metadata": {},
     "output_type": "execute_result"
    }
   ],
   "source": [
    "banks.head()"
   ]
  },
  {
   "cell_type": "code",
   "execution_count": 38,
   "id": "a93401ac",
   "metadata": {},
   "outputs": [
    {
     "data": {
      "text/plain": [
       "(3, 2)"
      ]
     },
     "execution_count": 38,
     "metadata": {},
     "output_type": "execute_result"
    }
   ],
   "source": [
    "banks.shape"
   ]
  },
  {
   "cell_type": "code",
   "execution_count": 39,
   "id": "cd878334",
   "metadata": {},
   "outputs": [
    {
     "data": {
      "text/plain": [
       "bank_id      0\n",
       "bank_name    0\n",
       "dtype: int64"
      ]
     },
     "execution_count": 39,
     "metadata": {},
     "output_type": "execute_result"
    }
   ],
   "source": [
    "banks.isnull().sum()"
   ]
  },
  {
   "cell_type": "code",
   "execution_count": 40,
   "id": "31898ee0",
   "metadata": {},
   "outputs": [],
   "source": [
    "sf_banks=session1.createDataFrame(\n",
    "        banks.values.tolist(),\n",
    "        schema=banks.columns.tolist())\n",
    "sf_banks.write.mode(\"overwrite\").save_as_table(\"FDC_BANKING_FS.PUBLIC.BANK_MASTER\")"
   ]
  },
  {
   "cell_type": "code",
   "execution_count": 16,
   "id": "8850d415",
   "metadata": {},
   "outputs": [],
   "source": [
    "day_data = pd.read_csv('/data/day_data.csv')"
   ]
  },
  {
   "cell_type": "code",
   "execution_count": 17,
   "id": "99ff9cd5",
   "metadata": {},
   "outputs": [
    {
     "name": "stdout",
     "output_type": "stream",
     "text": [
      "<class 'pandas.core.frame.DataFrame'>\n",
      "RangeIndex: 783 entries, 0 to 782\n",
      "Data columns (total 3 columns):\n",
      " #   Column      Non-Null Count  Dtype \n",
      "---  ------      --------------  ----- \n",
      " 0   caldate     783 non-null    object\n",
      " 1   weekday     783 non-null    object\n",
      " 2   holiday     783 non-null    bool  \n",
      "dtypes: bool(1), object(2)\n",
      "memory usage: 13.1+ KB\n"
     ]
    }
   ],
   "source": [
    "day_data.info()"
   ]
  },
  {
   "cell_type": "code",
   "execution_count": 20,
   "id": "ce2f9c0c",
   "metadata": {},
   "outputs": [],
   "source": [
    "day_data.columns = ['date', 'weekday', 'holiday']"
   ]
  },
  {
   "cell_type": "code",
   "execution_count": 21,
   "id": "fb7e510a",
   "metadata": {},
   "outputs": [
    {
     "data": {
      "text/plain": [
       "date       0\n",
       "weekday    0\n",
       "holiday    0\n",
       "dtype: int64"
      ]
     },
     "execution_count": 21,
     "metadata": {},
     "output_type": "execute_result"
    }
   ],
   "source": [
    "day_data.isnull().sum()"
   ]
  },
  {
   "cell_type": "code",
   "execution_count": 22,
   "id": "350141fe",
   "metadata": {},
   "outputs": [],
   "source": [
    "sf_day_data=session1.createDataFrame(\n",
    "        day_data.values.tolist(),\n",
    "        schema=day_data.columns.tolist())\n",
    "sf_day_data.write.mode(\"overwrite\").save_as_table(\"FDC_BANKING_FS.PUBLIC.DATE_MASTER\")"
   ]
  },
  {
   "cell_type": "code",
   "execution_count": 23,
   "id": "88fdf73d",
   "metadata": {},
   "outputs": [],
   "source": [
    "transaction = pd.read_csv('/data/transaction_data.csv')"
   ]
  },
  {
   "cell_type": "code",
   "execution_count": 26,
   "id": "99ab31ab",
   "metadata": {},
   "outputs": [],
   "source": [
    "transaction.columns = ['ATMID', 'date', 'Dispense', 'DT', 'CountTotalTxn']"
   ]
  },
  {
   "cell_type": "code",
   "execution_count": 27,
   "id": "5d3666a1",
   "metadata": {},
   "outputs": [
    {
     "data": {
      "text/html": [
       "<div>\n",
       "<style scoped>\n",
       "    .dataframe tbody tr th:only-of-type {\n",
       "        vertical-align: middle;\n",
       "    }\n",
       "\n",
       "    .dataframe tbody tr th {\n",
       "        vertical-align: top;\n",
       "    }\n",
       "\n",
       "    .dataframe thead th {\n",
       "        text-align: right;\n",
       "    }\n",
       "</style>\n",
       "<table border=\"1\" class=\"dataframe\">\n",
       "  <thead>\n",
       "    <tr style=\"text-align: right;\">\n",
       "      <th></th>\n",
       "      <th>ATMID</th>\n",
       "      <th>date</th>\n",
       "      <th>Dispense</th>\n",
       "      <th>DT</th>\n",
       "      <th>CountTotalTxn</th>\n",
       "    </tr>\n",
       "  </thead>\n",
       "  <tbody>\n",
       "    <tr>\n",
       "      <th>0</th>\n",
       "      <td>SPCN2020</td>\n",
       "      <td>2021-01-01</td>\n",
       "      <td>508050.0</td>\n",
       "      <td>0.0</td>\n",
       "      <td>141.0</td>\n",
       "    </tr>\n",
       "    <tr>\n",
       "      <th>1</th>\n",
       "      <td>SPCN2020</td>\n",
       "      <td>2021-01-02</td>\n",
       "      <td>467280.0</td>\n",
       "      <td>3.0</td>\n",
       "      <td>117.0</td>\n",
       "    </tr>\n",
       "    <tr>\n",
       "      <th>2</th>\n",
       "      <td>SPCN2020</td>\n",
       "      <td>2021-01-03</td>\n",
       "      <td>400140.0</td>\n",
       "      <td>0.0</td>\n",
       "      <td>115.0</td>\n",
       "    </tr>\n",
       "    <tr>\n",
       "      <th>3</th>\n",
       "      <td>SPCN2020</td>\n",
       "      <td>2021-01-04</td>\n",
       "      <td>148140.0</td>\n",
       "      <td>151.0</td>\n",
       "      <td>58.0</td>\n",
       "    </tr>\n",
       "    <tr>\n",
       "      <th>4</th>\n",
       "      <td>SPCN2020</td>\n",
       "      <td>2021-01-05</td>\n",
       "      <td>360270.0</td>\n",
       "      <td>0.0</td>\n",
       "      <td>98.0</td>\n",
       "    </tr>\n",
       "  </tbody>\n",
       "</table>\n",
       "</div>"
      ],
      "text/plain": [
       "      ATMID        date  Dispense     DT  CountTotalTxn\n",
       "0  SPCN2020  2021-01-01  508050.0    0.0          141.0\n",
       "1  SPCN2020  2021-01-02  467280.0    3.0          117.0\n",
       "2  SPCN2020  2021-01-03  400140.0    0.0          115.0\n",
       "3  SPCN2020  2021-01-04  148140.0  151.0           58.0\n",
       "4  SPCN2020  2021-01-05  360270.0    0.0           98.0"
      ]
     },
     "execution_count": 27,
     "metadata": {},
     "output_type": "execute_result"
    }
   ],
   "source": [
    "transaction.head()"
   ]
  },
  {
   "cell_type": "code",
   "execution_count": 28,
   "id": "e2c4e561",
   "metadata": {},
   "outputs": [
    {
     "data": {
      "text/plain": [
       "ATMID            0\n",
       "date             0\n",
       "Dispense         0\n",
       "DT               0\n",
       "CountTotalTxn    0\n",
       "dtype: int64"
      ]
     },
     "execution_count": 28,
     "metadata": {},
     "output_type": "execute_result"
    }
   ],
   "source": [
    "transaction.isnull().sum()"
   ]
  },
  {
   "cell_type": "code",
   "execution_count": 29,
   "id": "54b53913",
   "metadata": {},
   "outputs": [],
   "source": [
    "sf_transaction=session1.createDataFrame(\n",
    "        transaction.values.tolist(),\n",
    "        schema=transaction.columns.tolist())\n",
    "sf_transaction.write.mode(\"overwrite\").save_as_table(\"FDC_BANKING_FS.PUBLIC.TRANSACTION_MASTER\")"
   ]
  }
 ],
 "metadata": {
  "kernelspec": {
   "display_name": "Python 3",
   "language": "python",
   "name": "python3"
  },
  "language_info": {
   "codemirror_mode": {
    "name": "ipython",
    "version": 3
   },
   "file_extension": ".py",
   "mimetype": "text/x-python",
   "name": "python",
   "nbconvert_exporter": "python",
   "pygments_lexer": "ipython3",
   "version": "3.8.18"
  }
 },
 "nbformat": 4,
 "nbformat_minor": 5
}
