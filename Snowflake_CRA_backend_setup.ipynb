{
 "cells": [
  {
   "cell_type": "markdown",
   "id": "632503b3",
   "metadata": {},
   "source": [
    "# Use Credit Risk Analytics Template"
   ]
  },
  {
   "cell_type": "markdown",
   "id": "5b2b84af",
   "metadata": {},
   "source": [
    "## Import Snowpark Pandas for dumping csv to Snowflake table"
   ]
  },
  {
   "cell_type": "code",
   "execution_count": null,
   "id": "5575101f",
   "metadata": {
    "scrolled": true
   },
   "outputs": [],
   "source": [
    "#!pip install \"snowflake-connector-python[pandas]\""
   ]
  },
  {
   "cell_type": "code",
   "execution_count": 1,
   "id": "6ac4e036",
   "metadata": {},
   "outputs": [],
   "source": [
    "from snowflake.snowpark.session import Session\n",
    "import pandas as pd\n",
    "import subprocess"
   ]
  },
  {
   "cell_type": "markdown",
   "id": "a467fcee",
   "metadata": {},
   "source": [
    "# Code to read Credit Risk Analytics local files and dump the same into Snowflake"
   ]
  },
  {
   "cell_type": "code",
   "execution_count": 2,
   "id": "a31bd13d",
   "metadata": {},
   "outputs": [],
   "source": [
    "df_app_train = pd.read_csv(\"/data/application_train.csv\")"
   ]
  },
  {
   "cell_type": "code",
   "execution_count": 3,
   "id": "75d3347e",
   "metadata": {},
   "outputs": [
    {
     "data": {
      "text/plain": [
       "(307511, 122)"
      ]
     },
     "execution_count": 3,
     "metadata": {},
     "output_type": "execute_result"
    }
   ],
   "source": [
    "df_app_train.shape"
   ]
  },
  {
   "cell_type": "code",
   "execution_count": null,
   "id": "c0e92f31",
   "metadata": {},
   "outputs": [],
   "source": [
    "df_install = pd.read_csv(\"/data/installments_payments.csv\")"
   ]
  },
  {
   "cell_type": "code",
   "execution_count": null,
   "id": "1b2b1acb",
   "metadata": {},
   "outputs": [],
   "source": [
    "df_cc_balance = pd.read_csv(\"/data/credit_card_balance.csv\")"
   ]
  },
  {
   "cell_type": "code",
   "execution_count": 2,
   "id": "78156811",
   "metadata": {},
   "outputs": [],
   "source": [
    "df_prev_app = pd.read_csv(\"/data/previous_application.csv\")"
   ]
  },
  {
   "cell_type": "code",
   "execution_count": 2,
   "id": "0528a7ab",
   "metadata": {},
   "outputs": [],
   "source": [
    "df_bureau_bal = pd.read_csv(\"/data/bureau_balance.csv\")"
   ]
  },
  {
   "cell_type": "code",
   "execution_count": null,
   "id": "dbd785f2",
   "metadata": {},
   "outputs": [],
   "source": [
    "df_bureau = pd.read_csv(\"/data/bureau.csv\")"
   ]
  },
  {
   "cell_type": "code",
   "execution_count": 2,
   "id": "3b0034a0",
   "metadata": {},
   "outputs": [],
   "source": [
    "df_POS_CASH = pd.read_csv(\"/data/POS_CASH_balance.csv\")"
   ]
  },
  {
   "cell_type": "code",
   "execution_count": 3,
   "id": "109a9ab3",
   "metadata": {},
   "outputs": [
    {
     "name": "stdout",
     "output_type": "stream",
     "text": [
      "bureau_balance  (27299925, 3)\n"
     ]
    }
   ],
   "source": [
    "print (\"bureau_balance \", df_bureau_bal.shape)"
   ]
  },
  {
   "cell_type": "markdown",
   "id": "c7c535f3",
   "metadata": {},
   "source": [
    "# Split the Bureau Balance due to huge volume throwing DEAD KERNEL issue while uploading on snowflake"
   ]
  },
  {
   "cell_type": "code",
   "execution_count": 4,
   "id": "150152c6",
   "metadata": {},
   "outputs": [],
   "source": [
    "import numpy as np\n",
    "df_bureau_bal1, df_bureau_bal2,df_bureau_bal3 = np.array_split(df_bureau_bal, 3)"
   ]
  },
  {
   "cell_type": "code",
   "execution_count": 5,
   "id": "3d85e322",
   "metadata": {},
   "outputs": [
    {
     "name": "stdout",
     "output_type": "stream",
     "text": [
      "bureau_balance_1  (9099975, 3)\n",
      "bureau_balance_2  (9099975, 3)\n",
      "bureau_balance_3  (9099975, 3)\n"
     ]
    }
   ],
   "source": [
    "print (\"bureau_balance_1 \", df_bureau_bal1.shape)\n",
    "print (\"bureau_balance_2 \", df_bureau_bal2.shape)\n",
    "print (\"bureau_balance_3 \", df_bureau_bal2.shape)"
   ]
  },
  {
   "cell_type": "code",
   "execution_count": 6,
   "id": "d895eee8",
   "metadata": {},
   "outputs": [],
   "source": [
    "df_bureau_bal1.to_csv('/data/df_bureau_bal1.csv', index=False)\n",
    "df_bureau_bal2.to_csv('/data/df_bureau_bal2.csv', index=False)\n",
    "df_bureau_bal3.to_csv('/data/df_bureau_bal3.csv', index=False)"
   ]
  },
  {
   "cell_type": "code",
   "execution_count": null,
   "id": "36b5208b",
   "metadata": {},
   "outputs": [],
   "source": [
    "print (\"installments_payments \", df_install.shape)\n",
    "print (\"credit_card_balance \", df_cc_balance.shape)\n",
    "print (\"previous_application \", df_prev_app.shape)\n",
    "print (\"bureau_balance \", df_bureau_bal.shape)\n",
    "print (\"bureau \", df_bureau.shape)\n",
    "print (\"POS_CASH_balance \", df_POS_CASH.shape)"
   ]
  },
  {
   "cell_type": "markdown",
   "id": "472a54e7",
   "metadata": {},
   "source": [
    "# Code to establish connection and  dump csv as a snowflake table in FDC setup"
   ]
  },
  {
   "cell_type": "code",
   "execution_count": 4,
   "id": "d2eb8f24",
   "metadata": {},
   "outputs": [],
   "source": [
    "#Import all snowflake connection details from template variables.\n",
    "db_user = 'MANISH'\n",
    "db_password = 'Password@2023'\n",
    "db_account = 'ug94937.us-east4.gcp'\n",
    "db_database =  'FDC_DATA_MANISH'\n",
    "db_role = 'MANISH'\n",
    "db_warehouse = 'FOSFOR_SOLUTIONS_WH'\n",
    "db_schema = 'PUBLIC'"
   ]
  },
  {
   "cell_type": "code",
   "execution_count": 5,
   "id": "e2e3edb6",
   "metadata": {},
   "outputs": [],
   "source": [
    "from snowflake.snowpark.session import Session\n",
    "connection_params = {\n",
    "    'user': db_user,\n",
    "    'password': db_password,\n",
    "    'account': db_account,\n",
    "    'warehouse': db_warehouse,\n",
    "    'database': db_database,\n",
    "    'schema': db_schema,\n",
    "    'role': db_role\n",
    "}\n",
    "session1 = Session.builder.configs(connection_params).create()"
   ]
  },
  {
   "cell_type": "code",
   "execution_count": 6,
   "id": "8f39118d",
   "metadata": {},
   "outputs": [
    {
     "data": {
      "text/plain": [
       "[Row(status='Statement executed successfully.')]"
      ]
     },
     "execution_count": 6,
     "metadata": {},
     "output_type": "execute_result"
    }
   ],
   "source": [
    "session1.sql('use warehouse FOSFOR_SOLUTIONS_WH;').collect()\n",
    "session1.sql('use database FDC_DATA_MANISH;').collect()\n",
    "session1.sql('use schema FDC_DATA_MANISH.PUBLIC;').collect()"
   ]
  },
  {
   "cell_type": "markdown",
   "id": "fb164265",
   "metadata": {},
   "source": [
    "# Upload Application train data on snowflake"
   ]
  },
  {
   "cell_type": "code",
   "execution_count": 12,
   "id": "49301b88",
   "metadata": {},
   "outputs": [],
   "source": [
    "df_app_train['FONDKAPREMONT_MODE'].fillna(\"Nan values\", inplace=True)\n",
    "df_app_train['HOUSETYPE_MODE'].fillna(\"Nan values\", inplace=True)"
   ]
  },
  {
   "cell_type": "code",
   "execution_count": 13,
   "id": "c3a274a8",
   "metadata": {},
   "outputs": [
    {
     "ename": "TypeError",
     "evalue": "field WALLSMATERIAL_MODE: Cannot merge type <class 'snowflake.snowpark.types.StringType'> and <class 'snowflake.snowpark.types.FloatType'>",
     "output_type": "error",
     "traceback": [
      "\u001b[0;31m---------------------------------------------------------------------------\u001b[0m",
      "\u001b[0;31mTypeError\u001b[0m                                 Traceback (most recent call last)",
      "Cell \u001b[0;32mIn[13], line 1\u001b[0m\n\u001b[0;32m----> 1\u001b[0m sf_df_app_train\u001b[38;5;241m=\u001b[39m\u001b[43msession1\u001b[49m\u001b[38;5;241;43m.\u001b[39;49m\u001b[43mcreateDataFrame\u001b[49m\u001b[43m(\u001b[49m\n\u001b[1;32m      2\u001b[0m \u001b[43m        \u001b[49m\u001b[43mdf_app_train\u001b[49m\u001b[38;5;241;43m.\u001b[39;49m\u001b[43mvalues\u001b[49m\u001b[38;5;241;43m.\u001b[39;49m\u001b[43mtolist\u001b[49m\u001b[43m(\u001b[49m\u001b[43m)\u001b[49m\u001b[43m,\u001b[49m\n\u001b[1;32m      3\u001b[0m \u001b[43m        \u001b[49m\u001b[43mschema\u001b[49m\u001b[38;5;241;43m=\u001b[39;49m\u001b[43mdf_app_train\u001b[49m\u001b[38;5;241;43m.\u001b[39;49m\u001b[43mcolumns\u001b[49m\u001b[38;5;241;43m.\u001b[39;49m\u001b[43mtolist\u001b[49m\u001b[43m(\u001b[49m\u001b[43m)\u001b[49m\u001b[43m)\u001b[49m\n\u001b[1;32m      4\u001b[0m sf_df_app_train\u001b[38;5;241m.\u001b[39mwrite\u001b[38;5;241m.\u001b[39mmode(\u001b[38;5;124m\"\u001b[39m\u001b[38;5;124moverwrite\u001b[39m\u001b[38;5;124m\"\u001b[39m)\u001b[38;5;241m.\u001b[39msave_as_table(\u001b[38;5;124m\"\u001b[39m\u001b[38;5;124mFDC_DATA_MANISH.PUBLIC.CRA_APPLICATION_TRAIN\u001b[39m\u001b[38;5;124m\"\u001b[39m)\n",
      "File \u001b[0;32m/opt/conda/lib/python3.8/site-packages/snowflake/snowpark/session.py:1403\u001b[0m, in \u001b[0;36mSession.create_dataframe\u001b[0;34m(self, data, schema)\u001b[0m\n\u001b[1;32m   1401\u001b[0m     \u001b[38;5;28;01mif\u001b[39;00m \u001b[38;5;28misinstance\u001b[39m(schema, \u001b[38;5;28mlist\u001b[39m):\n\u001b[1;32m   1402\u001b[0m         names \u001b[38;5;241m=\u001b[39m schema\n\u001b[0;32m-> 1403\u001b[0m     new_schema \u001b[38;5;241m=\u001b[39m \u001b[43mreduce\u001b[49m\u001b[43m(\u001b[49m\n\u001b[1;32m   1404\u001b[0m \u001b[43m        \u001b[49m\u001b[43mmerge_type\u001b[49m\u001b[43m,\u001b[49m\n\u001b[1;32m   1405\u001b[0m \u001b[43m        \u001b[49m\u001b[43m(\u001b[49m\u001b[43minfer_schema\u001b[49m\u001b[43m(\u001b[49m\u001b[43mrow\u001b[49m\u001b[43m,\u001b[49m\u001b[43m \u001b[49m\u001b[43mnames\u001b[49m\u001b[43m)\u001b[49m\u001b[43m \u001b[49m\u001b[38;5;28;43;01mfor\u001b[39;49;00m\u001b[43m \u001b[49m\u001b[43mrow\u001b[49m\u001b[43m \u001b[49m\u001b[38;5;129;43;01min\u001b[39;49;00m\u001b[43m \u001b[49m\u001b[43mdata\u001b[49m\u001b[43m)\u001b[49m\u001b[43m,\u001b[49m\n\u001b[1;32m   1406\u001b[0m \u001b[43m    \u001b[49m\u001b[43m)\u001b[49m\n\u001b[1;32m   1407\u001b[0m \u001b[38;5;28;01mif\u001b[39;00m \u001b[38;5;28mlen\u001b[39m(new_schema\u001b[38;5;241m.\u001b[39mfields) \u001b[38;5;241m==\u001b[39m \u001b[38;5;241m0\u001b[39m:\n\u001b[1;32m   1408\u001b[0m     \u001b[38;5;28;01mraise\u001b[39;00m \u001b[38;5;167;01mValueError\u001b[39;00m(\n\u001b[1;32m   1409\u001b[0m         \u001b[38;5;124m\"\u001b[39m\u001b[38;5;124mThe provided schema or inferred schema cannot be None or empty\u001b[39m\u001b[38;5;124m\"\u001b[39m\n\u001b[1;32m   1410\u001b[0m     )\n",
      "File \u001b[0;32m/opt/conda/lib/python3.8/site-packages/snowflake/snowpark/_internal/type_utils.py:335\u001b[0m, in \u001b[0;36mmerge_type\u001b[0;34m(a, b, name)\u001b[0m\n\u001b[1;32m    333\u001b[0m \u001b[38;5;28;01mif\u001b[39;00m \u001b[38;5;28misinstance\u001b[39m(a, StructType):\n\u001b[1;32m    334\u001b[0m     nfs \u001b[38;5;241m=\u001b[39m {f\u001b[38;5;241m.\u001b[39mname: f\u001b[38;5;241m.\u001b[39mdatatype \u001b[38;5;28;01mfor\u001b[39;00m f \u001b[38;5;129;01min\u001b[39;00m b\u001b[38;5;241m.\u001b[39mfields}\n\u001b[0;32m--> 335\u001b[0m     fields \u001b[38;5;241m=\u001b[39m [\n\u001b[1;32m    336\u001b[0m         StructField(\n\u001b[1;32m    337\u001b[0m             f\u001b[38;5;241m.\u001b[39mname,\n\u001b[1;32m    338\u001b[0m             merge_type(\n\u001b[1;32m    339\u001b[0m                 f\u001b[38;5;241m.\u001b[39mdatatype,\n\u001b[1;32m    340\u001b[0m                 nfs\u001b[38;5;241m.\u001b[39mget(f\u001b[38;5;241m.\u001b[39mname, NullType()),\n\u001b[1;32m    341\u001b[0m                 name\u001b[38;5;241m=\u001b[39m\u001b[38;5;124mf\u001b[39m\u001b[38;5;124m\"\u001b[39m\u001b[38;5;124mfield \u001b[39m\u001b[38;5;132;01m{\u001b[39;00mf\u001b[38;5;241m.\u001b[39mname\u001b[38;5;132;01m}\u001b[39;00m\u001b[38;5;124m in \u001b[39m\u001b[38;5;132;01m{\u001b[39;00mname\u001b[38;5;132;01m}\u001b[39;00m\u001b[38;5;124m\"\u001b[39m \u001b[38;5;28;01mif\u001b[39;00m name \u001b[38;5;28;01melse\u001b[39;00m \u001b[38;5;124mf\u001b[39m\u001b[38;5;124m\"\u001b[39m\u001b[38;5;124mfield \u001b[39m\u001b[38;5;132;01m{\u001b[39;00mf\u001b[38;5;241m.\u001b[39mname\u001b[38;5;132;01m}\u001b[39;00m\u001b[38;5;124m\"\u001b[39m,\n\u001b[1;32m    342\u001b[0m             ),\n\u001b[1;32m    343\u001b[0m         )\n\u001b[1;32m    344\u001b[0m         \u001b[38;5;28;01mfor\u001b[39;00m f \u001b[38;5;129;01min\u001b[39;00m a\u001b[38;5;241m.\u001b[39mfields\n\u001b[1;32m    345\u001b[0m     ]\n\u001b[1;32m    346\u001b[0m     names \u001b[38;5;241m=\u001b[39m {f\u001b[38;5;241m.\u001b[39mname \u001b[38;5;28;01mfor\u001b[39;00m f \u001b[38;5;129;01min\u001b[39;00m fields}\n\u001b[1;32m    347\u001b[0m     \u001b[38;5;28;01mfor\u001b[39;00m n \u001b[38;5;129;01min\u001b[39;00m nfs:\n",
      "File \u001b[0;32m/opt/conda/lib/python3.8/site-packages/snowflake/snowpark/_internal/type_utils.py:338\u001b[0m, in \u001b[0;36m<listcomp>\u001b[0;34m(.0)\u001b[0m\n\u001b[1;32m    333\u001b[0m \u001b[38;5;28;01mif\u001b[39;00m \u001b[38;5;28misinstance\u001b[39m(a, StructType):\n\u001b[1;32m    334\u001b[0m     nfs \u001b[38;5;241m=\u001b[39m {f\u001b[38;5;241m.\u001b[39mname: f\u001b[38;5;241m.\u001b[39mdatatype \u001b[38;5;28;01mfor\u001b[39;00m f \u001b[38;5;129;01min\u001b[39;00m b\u001b[38;5;241m.\u001b[39mfields}\n\u001b[1;32m    335\u001b[0m     fields \u001b[38;5;241m=\u001b[39m [\n\u001b[1;32m    336\u001b[0m         StructField(\n\u001b[1;32m    337\u001b[0m             f\u001b[38;5;241m.\u001b[39mname,\n\u001b[0;32m--> 338\u001b[0m             \u001b[43mmerge_type\u001b[49m\u001b[43m(\u001b[49m\n\u001b[1;32m    339\u001b[0m \u001b[43m                \u001b[49m\u001b[43mf\u001b[49m\u001b[38;5;241;43m.\u001b[39;49m\u001b[43mdatatype\u001b[49m\u001b[43m,\u001b[49m\n\u001b[1;32m    340\u001b[0m \u001b[43m                \u001b[49m\u001b[43mnfs\u001b[49m\u001b[38;5;241;43m.\u001b[39;49m\u001b[43mget\u001b[49m\u001b[43m(\u001b[49m\u001b[43mf\u001b[49m\u001b[38;5;241;43m.\u001b[39;49m\u001b[43mname\u001b[49m\u001b[43m,\u001b[49m\u001b[43m \u001b[49m\u001b[43mNullType\u001b[49m\u001b[43m(\u001b[49m\u001b[43m)\u001b[49m\u001b[43m)\u001b[49m\u001b[43m,\u001b[49m\n\u001b[1;32m    341\u001b[0m \u001b[43m                \u001b[49m\u001b[43mname\u001b[49m\u001b[38;5;241;43m=\u001b[39;49m\u001b[38;5;124;43mf\u001b[39;49m\u001b[38;5;124;43m\"\u001b[39;49m\u001b[38;5;124;43mfield \u001b[39;49m\u001b[38;5;132;43;01m{\u001b[39;49;00m\u001b[43mf\u001b[49m\u001b[38;5;241;43m.\u001b[39;49m\u001b[43mname\u001b[49m\u001b[38;5;132;43;01m}\u001b[39;49;00m\u001b[38;5;124;43m in \u001b[39;49m\u001b[38;5;132;43;01m{\u001b[39;49;00m\u001b[43mname\u001b[49m\u001b[38;5;132;43;01m}\u001b[39;49;00m\u001b[38;5;124;43m\"\u001b[39;49m\u001b[43m \u001b[49m\u001b[38;5;28;43;01mif\u001b[39;49;00m\u001b[43m \u001b[49m\u001b[43mname\u001b[49m\u001b[43m \u001b[49m\u001b[38;5;28;43;01melse\u001b[39;49;00m\u001b[43m \u001b[49m\u001b[38;5;124;43mf\u001b[39;49m\u001b[38;5;124;43m\"\u001b[39;49m\u001b[38;5;124;43mfield \u001b[39;49m\u001b[38;5;132;43;01m{\u001b[39;49;00m\u001b[43mf\u001b[49m\u001b[38;5;241;43m.\u001b[39;49m\u001b[43mname\u001b[49m\u001b[38;5;132;43;01m}\u001b[39;49;00m\u001b[38;5;124;43m\"\u001b[39;49m\u001b[43m,\u001b[49m\n\u001b[1;32m    342\u001b[0m \u001b[43m            \u001b[49m\u001b[43m)\u001b[49m,\n\u001b[1;32m    343\u001b[0m         )\n\u001b[1;32m    344\u001b[0m         \u001b[38;5;28;01mfor\u001b[39;00m f \u001b[38;5;129;01min\u001b[39;00m a\u001b[38;5;241m.\u001b[39mfields\n\u001b[1;32m    345\u001b[0m     ]\n\u001b[1;32m    346\u001b[0m     names \u001b[38;5;241m=\u001b[39m {f\u001b[38;5;241m.\u001b[39mname \u001b[38;5;28;01mfor\u001b[39;00m f \u001b[38;5;129;01min\u001b[39;00m fields}\n\u001b[1;32m    347\u001b[0m     \u001b[38;5;28;01mfor\u001b[39;00m n \u001b[38;5;129;01min\u001b[39;00m nfs:\n",
      "File \u001b[0;32m/opt/conda/lib/python3.8/site-packages/snowflake/snowpark/_internal/type_utils.py:330\u001b[0m, in \u001b[0;36mmerge_type\u001b[0;34m(a, b, name)\u001b[0m\n\u001b[1;32m    328\u001b[0m     \u001b[38;5;28;01mif\u001b[39;00m name:\n\u001b[1;32m    329\u001b[0m         err_msg \u001b[38;5;241m=\u001b[39m \u001b[38;5;124mf\u001b[39m\u001b[38;5;124m\"\u001b[39m\u001b[38;5;132;01m{\u001b[39;00mname\u001b[38;5;132;01m}\u001b[39;00m\u001b[38;5;124m: \u001b[39m\u001b[38;5;132;01m{\u001b[39;00merr_msg\u001b[38;5;132;01m}\u001b[39;00m\u001b[38;5;124m\"\u001b[39m\n\u001b[0;32m--> 330\u001b[0m     \u001b[38;5;28;01mraise\u001b[39;00m \u001b[38;5;167;01mTypeError\u001b[39;00m(err_msg)\n\u001b[1;32m    332\u001b[0m \u001b[38;5;66;03m# same type\u001b[39;00m\n\u001b[1;32m    333\u001b[0m \u001b[38;5;28;01mif\u001b[39;00m \u001b[38;5;28misinstance\u001b[39m(a, StructType):\n",
      "\u001b[0;31mTypeError\u001b[0m: field WALLSMATERIAL_MODE: Cannot merge type <class 'snowflake.snowpark.types.StringType'> and <class 'snowflake.snowpark.types.FloatType'>"
     ]
    }
   ],
   "source": [
    "sf_df_app_train=session1.createDataFrame(\n",
    "        df_app_train.values.tolist(),\n",
    "        schema=df_app_train.columns.tolist())\n",
    "sf_df_app_train.write.mode(\"overwrite\").save_as_table(\"FDC_DATA_MANISH.PUBLIC.CRA_APPLICATION_TRAIN\")"
   ]
  },
  {
   "cell_type": "markdown",
   "id": "aabdd291",
   "metadata": {},
   "source": [
    "# Upload Installments Payments data on snowflake"
   ]
  },
  {
   "cell_type": "code",
   "execution_count": null,
   "id": "aed81f8a",
   "metadata": {
    "scrolled": false
   },
   "outputs": [],
   "source": [
    "sf_df_install=session1.createDataFrame(\n",
    "        df_install.values.tolist(),\n",
    "        schema=df_install.columns.tolist())\n",
    "sf_df_install.write.mode(\"overwrite\").save_as_table(\"FDC_DATA_MANISH.PUBLIC.CRA_installments_payments\")"
   ]
  },
  {
   "cell_type": "markdown",
   "id": "1d615c67",
   "metadata": {},
   "source": [
    "# Upload Credit Card Balance data on snowflake"
   ]
  },
  {
   "cell_type": "code",
   "execution_count": null,
   "id": "7f53ada2",
   "metadata": {},
   "outputs": [],
   "source": [
    "sf_df_cc_balance=session1.createDataFrame(\n",
    "        df_cc_balance.values.tolist(),\n",
    "        schema=df_cc_balance.columns.tolist())\n",
    "sf_df_cc_balance.write.mode(\"overwrite\").save_as_table(\"FDC_DATA_MANISH.PUBLIC.CRA_credit_card_balance\")"
   ]
  },
  {
   "cell_type": "markdown",
   "id": "c63acba4",
   "metadata": {},
   "source": [
    "# Handle NaN values and Upload Previous Application data on snowflake"
   ]
  },
  {
   "cell_type": "code",
   "execution_count": 6,
   "id": "0ba44080",
   "metadata": {},
   "outputs": [
    {
     "name": "stdout",
     "output_type": "stream",
     "text": [
      "<class 'pandas.core.frame.DataFrame'>\n",
      "RangeIndex: 1670214 entries, 0 to 1670213\n",
      "Data columns (total 37 columns):\n",
      " #   Column                       Non-Null Count    Dtype  \n",
      "---  ------                       --------------    -----  \n",
      " 0   SK_ID_PREV                   1670214 non-null  int64  \n",
      " 1   SK_ID_CURR                   1670214 non-null  int64  \n",
      " 2   NAME_CONTRACT_TYPE           1670214 non-null  object \n",
      " 3   AMT_ANNUITY                  1297979 non-null  float64\n",
      " 4   AMT_APPLICATION              1670214 non-null  float64\n",
      " 5   AMT_CREDIT                   1670213 non-null  float64\n",
      " 6   AMT_DOWN_PAYMENT             774370 non-null   float64\n",
      " 7   AMT_GOODS_PRICE              1284699 non-null  float64\n",
      " 8   WEEKDAY_APPR_PROCESS_START   1670214 non-null  object \n",
      " 9   HOUR_APPR_PROCESS_START      1670214 non-null  int64  \n",
      " 10  FLAG_LAST_APPL_PER_CONTRACT  1670214 non-null  object \n",
      " 11  NFLAG_LAST_APPL_IN_DAY       1670214 non-null  int64  \n",
      " 12  RATE_DOWN_PAYMENT            774370 non-null   float64\n",
      " 13  RATE_INTEREST_PRIMARY        5951 non-null     float64\n",
      " 14  RATE_INTEREST_PRIVILEGED     5951 non-null     float64\n",
      " 15  NAME_CASH_LOAN_PURPOSE       1670214 non-null  object \n",
      " 16  NAME_CONTRACT_STATUS         1670214 non-null  object \n",
      " 17  DAYS_DECISION                1670214 non-null  int64  \n",
      " 18  NAME_PAYMENT_TYPE            1670214 non-null  object \n",
      " 19  CODE_REJECT_REASON           1670214 non-null  object \n",
      " 20  NAME_TYPE_SUITE              849809 non-null   object \n",
      " 21  NAME_CLIENT_TYPE             1670214 non-null  object \n",
      " 22  NAME_GOODS_CATEGORY          1670214 non-null  object \n",
      " 23  NAME_PORTFOLIO               1670214 non-null  object \n",
      " 24  NAME_PRODUCT_TYPE            1670214 non-null  object \n",
      " 25  CHANNEL_TYPE                 1670214 non-null  object \n",
      " 26  SELLERPLACE_AREA             1670214 non-null  int64  \n",
      " 27  NAME_SELLER_INDUSTRY         1670214 non-null  object \n",
      " 28  CNT_PAYMENT                  1297984 non-null  float64\n",
      " 29  NAME_YIELD_GROUP             1670214 non-null  object \n",
      " 30  PRODUCT_COMBINATION          1669868 non-null  object \n",
      " 31  DAYS_FIRST_DRAWING           997149 non-null   float64\n",
      " 32  DAYS_FIRST_DUE               997149 non-null   float64\n",
      " 33  DAYS_LAST_DUE_1ST_VERSION    997149 non-null   float64\n",
      " 34  DAYS_LAST_DUE                997149 non-null   float64\n",
      " 35  DAYS_TERMINATION             997149 non-null   float64\n",
      " 36  NFLAG_INSURED_ON_APPROVAL    997149 non-null   float64\n",
      "dtypes: float64(15), int64(6), object(16)\n",
      "memory usage: 471.5+ MB\n"
     ]
    }
   ],
   "source": [
    "df_prev_app.info()"
   ]
  },
  {
   "cell_type": "code",
   "execution_count": 10,
   "id": "62f5ed5a",
   "metadata": {
    "scrolled": true
   },
   "outputs": [
    {
     "data": {
      "text/plain": [
       "NAME_TYPE_SUITE\n",
       "nan                820405\n",
       "Unaccompanied      508970\n",
       "Family             213263\n",
       "Spouse, partner     67069\n",
       "Children            31566\n",
       "Other_B             17624\n",
       "Other_A              9077\n",
       "Group of people      2240\n",
       "Name: count, dtype: int64"
      ]
     },
     "execution_count": 10,
     "metadata": {},
     "output_type": "execute_result"
    }
   ],
   "source": [
    "df_prev_app['NAME_TYPE_SUITE'].value_counts()"
   ]
  },
  {
   "cell_type": "code",
   "execution_count": 17,
   "id": "e60bab92",
   "metadata": {
    "scrolled": true
   },
   "outputs": [],
   "source": [
    "df_prev_app['NAME_TYPE_SUITE'].fillna(\"Nan values\", inplace=True)"
   ]
  },
  {
   "cell_type": "code",
   "execution_count": 22,
   "id": "82a9f67d",
   "metadata": {
    "scrolled": true
   },
   "outputs": [
    {
     "data": {
      "text/plain": [
       "NAME_TYPE_SUITE\n",
       "Nan Values         820405\n",
       "Unaccompanied      508970\n",
       "Family             213263\n",
       "Spouse, partner     67069\n",
       "Children            31566\n",
       "Other_B             17624\n",
       "Other_A              9077\n",
       "Group of people      2240\n",
       "Name: count, dtype: int64"
      ]
     },
     "execution_count": 22,
     "metadata": {},
     "output_type": "execute_result"
    }
   ],
   "source": [
    "df_prev_app['NAME_TYPE_SUITE'].value_counts()"
   ]
  },
  {
   "cell_type": "code",
   "execution_count": 26,
   "id": "c6423469",
   "metadata": {},
   "outputs": [],
   "source": [
    "df_prev_app['PRODUCT_COMBINATION'].fillna(\"Nan Values\", inplace=True)"
   ]
  },
  {
   "cell_type": "code",
   "execution_count": 27,
   "id": "d89c534e",
   "metadata": {},
   "outputs": [
    {
     "data": {
      "text/plain": [
       "PRODUCT_COMBINATION\n",
       "Cash                              285990\n",
       "POS household with interest       263622\n",
       "POS mobile with interest          220670\n",
       "Cash X-Sell: middle               143883\n",
       "Cash X-Sell: low                  130248\n",
       "Card Street                       112582\n",
       "POS industry with interest         98833\n",
       "POS household without interest     82908\n",
       "Card X-Sell                        80582\n",
       "Cash Street: high                  59639\n",
       "Cash X-Sell: high                  59301\n",
       "Cash Street: middle                34658\n",
       "Cash Street: low                   33834\n",
       "POS mobile without interest        24082\n",
       "POS other with interest            23879\n",
       "POS industry without interest      12602\n",
       "POS others without interest         2555\n",
       "Nan Values                           346\n",
       "Name: count, dtype: int64"
      ]
     },
     "execution_count": 27,
     "metadata": {},
     "output_type": "execute_result"
    }
   ],
   "source": [
    "df_prev_app['PRODUCT_COMBINATION'].value_counts()"
   ]
  },
  {
   "cell_type": "code",
   "execution_count": 28,
   "id": "63f7a311",
   "metadata": {},
   "outputs": [],
   "source": [
    "sf_df_prev_app=session1.createDataFrame(\n",
    "        df_prev_app.values.tolist(),\n",
    "        schema=df_prev_app.columns.tolist())\n",
    "sf_df_prev_app.write.mode(\"overwrite\").save_as_table(\"FDC_DATA_MANISH.PUBLIC.CRA_previous_application\")"
   ]
  },
  {
   "cell_type": "markdown",
   "id": "5c609e91",
   "metadata": {},
   "source": [
    "# Upload Bureau Balance data files on snowflake"
   ]
  },
  {
   "cell_type": "code",
   "execution_count": 10,
   "id": "1b4fe132",
   "metadata": {},
   "outputs": [],
   "source": [
    "sf_df_bureau_bal1=session1.createDataFrame(\n",
    "        df_bureau_bal1.values.tolist(),\n",
    "        schema=df_bureau_bal1.columns.tolist())\n",
    "sf_df_bureau_bal1.write.mode(\"overwrite\").save_as_table(\"FDC_DATA_MANISH.PUBLIC.CRA_bureau_balance\")"
   ]
  },
  {
   "cell_type": "code",
   "execution_count": 5,
   "id": "c8776dda",
   "metadata": {},
   "outputs": [],
   "source": [
    "#df_bureau_bal2 = pd.read_csv(\"/data/df_bureau_bal2.csv\")\n",
    "sf_df_bureau_bal2=session1.createDataFrame(\n",
    "        df_bureau_bal2.values.tolist(),\n",
    "        schema=df_bureau_bal2.columns.tolist())\n",
    "sf_df_bureau_bal2.write.mode(\"append\").save_as_table(\"FDC_DATA_MANISH.PUBLIC.CRA_bureau_balance\")"
   ]
  },
  {
   "cell_type": "code",
   "execution_count": 5,
   "id": "9165178f",
   "metadata": {},
   "outputs": [],
   "source": [
    "#df_bureau_bal3 = pd.read_csv(\"/data/df_bureau_bal3.csv\")\n",
    "sf_df_bureau_bal3=session1.createDataFrame(\n",
    "        df_bureau_bal3.values.tolist(),\n",
    "        schema=df_bureau_bal3.columns.tolist())\n",
    "sf_df_bureau_bal3.write.mode(\"append\").save_as_table(\"FDC_DATA_MANISH.PUBLIC.CRA_bureau_balance\")"
   ]
  },
  {
   "cell_type": "markdown",
   "id": "34647ebf",
   "metadata": {},
   "source": [
    "# Upload Bureau data on snowflake"
   ]
  },
  {
   "cell_type": "code",
   "execution_count": null,
   "id": "ba2f62eb",
   "metadata": {},
   "outputs": [],
   "source": [
    "sf_df_bureau=session1.createDataFrame(\n",
    "        df_bureau.values.tolist(),\n",
    "        schema=df_bureau.columns.tolist())\n",
    "sf_df_bureau.write.mode(\"overwrite\").save_as_table(\"FDC_DATA_MANISH.PUBLIC.CRA_bureau\")"
   ]
  },
  {
   "cell_type": "markdown",
   "id": "1f767d19",
   "metadata": {},
   "source": [
    "# Upload POS CASH Balance data on snowflake"
   ]
  },
  {
   "cell_type": "code",
   "execution_count": 6,
   "id": "3b23e8da",
   "metadata": {},
   "outputs": [],
   "source": [
    "sf_df_POS_CASH=session1.createDataFrame(\n",
    "        df_POS_CASH.values.tolist(),\n",
    "        schema=df_POS_CASH.columns.tolist())\n",
    "sf_df_POS_CASH.write.mode(\"overwrite\").save_as_table(\"FDC_DATA_MANISH.PUBLIC.CRA_POS_CASH_balance\")"
   ]
  }
 ],
 "metadata": {
  "kernelspec": {
   "display_name": "Python 3",
   "language": "python",
   "name": "python3"
  },
  "language_info": {
   "codemirror_mode": {
    "name": "ipython",
    "version": 3
   },
   "file_extension": ".py",
   "mimetype": "text/x-python",
   "name": "python",
   "nbconvert_exporter": "python",
   "pygments_lexer": "ipython3",
   "version": "3.8.18"
  }
 },
 "nbformat": 4,
 "nbformat_minor": 5
}
