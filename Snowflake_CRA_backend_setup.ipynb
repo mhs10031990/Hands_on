{
 "cells": [
  {
   "cell_type": "markdown",
   "id": "632503b3",
   "metadata": {},
   "source": [
    "# Use Credit Risk Analytics"
   ]
  },
  {
   "cell_type": "markdown",
   "id": "5b2b84af",
   "metadata": {},
   "source": [
    "## Import Snowpark Pandas for dumping csv to Snowflake table"
   ]
  },
  {
   "cell_type": "code",
   "execution_count": 2,
   "id": "5575101f",
   "metadata": {
    "scrolled": true
   },
   "outputs": [],
   "source": [
    "#!pip install \"snowflake-connector-python[pandas]\""
   ]
  },
  {
   "cell_type": "code",
   "execution_count": 1,
   "id": "6ac4e036",
   "metadata": {},
   "outputs": [],
   "source": [
    "from snowflake.snowpark.session import Session\n",
    "import pandas as pd\n",
    "import subprocess"
   ]
  },
  {
   "cell_type": "markdown",
   "id": "a467fcee",
   "metadata": {},
   "source": [
    "# Code to read Credit Risk Analytics local files and dump the same into Snowflake"
   ]
  },
  {
   "cell_type": "code",
   "execution_count": 3,
   "id": "c0e92f31",
   "metadata": {},
   "outputs": [],
   "source": [
    "df_install = pd.read_csv(\"/data/installments_payments.csv\")"
   ]
  },
  {
   "cell_type": "code",
   "execution_count": 4,
   "id": "1b2b1acb",
   "metadata": {},
   "outputs": [],
   "source": [
    "df_cc_balance = pd.read_csv(\"/data/credit_card_balance.csv\")"
   ]
  },
  {
   "cell_type": "code",
   "execution_count": 6,
   "id": "78156811",
   "metadata": {},
   "outputs": [],
   "source": [
    "df_prev_app = pd.read_csv(\"/data/previous_application.csv\")"
   ]
  },
  {
   "cell_type": "code",
   "execution_count": null,
   "id": "0528a7ab",
   "metadata": {},
   "outputs": [],
   "source": [
    "df_bureau_bal = pd.read_csv(\"/data/bureau_balance.csv\")"
   ]
  },
  {
   "cell_type": "code",
   "execution_count": 7,
   "id": "dbd785f2",
   "metadata": {},
   "outputs": [],
   "source": [
    "df_bureau = pd.read_csv(\"/data/bureau.csv\")"
   ]
  },
  {
   "cell_type": "code",
   "execution_count": 1,
   "id": "3b0034a0",
   "metadata": {},
   "outputs": [
    {
     "ename": "NameError",
     "evalue": "name 'pd' is not defined",
     "output_type": "error",
     "traceback": [
      "\u001b[0;31m---------------------------------------------------------------------------\u001b[0m",
      "\u001b[0;31mNameError\u001b[0m                                 Traceback (most recent call last)",
      "Cell \u001b[0;32mIn[1], line 1\u001b[0m\n\u001b[0;32m----> 1\u001b[0m df_POS_CASH \u001b[38;5;241m=\u001b[39m \u001b[43mpd\u001b[49m\u001b[38;5;241m.\u001b[39mread_csv(\u001b[38;5;124m\"\u001b[39m\u001b[38;5;124m/data/POS_CASH_balance.csv\u001b[39m\u001b[38;5;124m\"\u001b[39m)\n",
      "\u001b[0;31mNameError\u001b[0m: name 'pd' is not defined"
     ]
    }
   ],
   "source": [
    "df_POS_CASH = pd.read_csv(\"/data/POS_CASH_balance.csv\")"
   ]
  },
  {
   "cell_type": "code",
   "execution_count": null,
   "id": "36b5208b",
   "metadata": {},
   "outputs": [],
   "source": [
    "print (\"installments_payments \", df_install.shape)\n",
    "print (\"credit_card_balance \", df_cc_balance.shape)\n",
    "print (\"previous_application \", df_prev_app.shape)\n",
    "print (\"bureau_balance \", df_bureau_bal.shape)\n",
    "print (\"bureau \", df_bureau.shape)\n",
    "print (\"POS_CASH_balance \", df_POS_CASH.shape)"
   ]
  },
  {
   "cell_type": "markdown",
   "id": "472a54e7",
   "metadata": {},
   "source": [
    "# Code to establish connection and  dump csv as a snowflake table in FDC setup"
   ]
  },
  {
   "cell_type": "code",
   "execution_count": 56,
   "id": "d2eb8f24",
   "metadata": {},
   "outputs": [],
   "source": [
    "#Import all snowflake connection details from template variables.\n",
    "db_user = 'MANISH'\n",
    "db_password = 'Password@2023'\n",
    "db_account = 'ug94937.us-east4.gcp'\n",
    "db_database =  'FDC_DATA_MANISH'\n",
    "db_role = 'MANISH'\n",
    "db_warehouse = 'FOSFOR_SOLUTIONS_WH'\n",
    "db_schema = 'PUBLIC'"
   ]
  },
  {
   "cell_type": "code",
   "execution_count": 57,
   "id": "e2e3edb6",
   "metadata": {},
   "outputs": [],
   "source": [
    "from snowflake.snowpark.session import Session\n",
    "connection_params = {\n",
    "    'user': db_user,\n",
    "    'password': db_password,\n",
    "    'account': db_account,\n",
    "    'warehouse': db_warehouse,\n",
    "    'database': db_database,\n",
    "    'schema': db_schema,\n",
    "    'role': db_role\n",
    "}\n",
    "session1 = Session.builder.configs(connection_params).create()"
   ]
  },
  {
   "cell_type": "code",
   "execution_count": 58,
   "id": "8f39118d",
   "metadata": {},
   "outputs": [
    {
     "data": {
      "text/plain": [
       "[Row(status='Statement executed successfully.')]"
      ]
     },
     "execution_count": 58,
     "metadata": {},
     "output_type": "execute_result"
    }
   ],
   "source": [
    "session1.sql('use warehouse FOSFOR_SOLUTIONS_WH;').collect()\n",
    "session1.sql('use database FDC_DATA_MANISH;').collect()\n",
    "session1.sql('use schema FDC_DATA_MANISH.PUBLIC;').collect()"
   ]
  },
  {
   "cell_type": "code",
   "execution_count": 59,
   "id": "aed81f8a",
   "metadata": {
    "scrolled": false
   },
   "outputs": [],
   "source": [
    "DF_STG_CUSTOMER=session1.createDataFrame(\n",
    "        STG_CUSTOMER.values.tolist(),\n",
    "        schema=STG_CUSTOMER.columns.tolist())\n",
    "DF_STG_CUSTOMER.write.mode(\"overwrite\").save_as_table(\"FDC_DATA_MANISH.PUBLIC.ILF_STG_CUSTOMER\")"
   ]
  },
  {
   "cell_type": "code",
   "execution_count": 61,
   "id": "7f53ada2",
   "metadata": {},
   "outputs": [],
   "source": [
    "DF_STG_CLAIM=session1.createDataFrame(\n",
    "        STG_CLAIM.values.tolist(),\n",
    "        schema=STG_CLAIM.columns.tolist())\n",
    "DF_STG_CLAIM.write.mode(\"overwrite\").save_as_table(\"FDC_DATA_MANISH.PUBLIC.ILF_STG_CLAIM\")"
   ]
  },
  {
   "cell_type": "code",
   "execution_count": 62,
   "id": "63f7a311",
   "metadata": {},
   "outputs": [],
   "source": [
    "DF_STG_INCIDENT=session1.createDataFrame(\n",
    "        STG_INCIDENT.values.tolist(),\n",
    "        schema=STG_INCIDENT.columns.tolist())\n",
    "DF_STG_INCIDENT.write.mode(\"overwrite\").save_as_table(\"FDC_DATA_MANISH.PUBLIC.ILF_STG_INCIDENT\")"
   ]
  },
  {
   "cell_type": "code",
   "execution_count": 63,
   "id": "1b4fe132",
   "metadata": {},
   "outputs": [],
   "source": [
    "DF_STG_HARMONIZE_AI_CLAIMS=session1.createDataFrame(\n",
    "        STG_HARMONIZE_AI_CLAIMS.values.tolist(),\n",
    "        schema=STG_HARMONIZE_AI_CLAIMS.columns.tolist())\n",
    "DF_STG_HARMONIZE_AI_CLAIMS.write.mode(\"overwrite\").save_as_table(\"FDC_DATA_MANISH.PUBLIC.ILF_STG_HARMONIZE_AI_CLAIMS\")"
   ]
  },
  {
   "cell_type": "code",
   "execution_count": 64,
   "id": "ba2f62eb",
   "metadata": {},
   "outputs": [],
   "source": [
    "DF_STG_POLICY=session1.createDataFrame(\n",
    "        STG_POLICY.values.tolist(),\n",
    "        schema=STG_POLICY.columns.tolist())\n",
    "DF_STG_POLICY.write.mode(\"overwrite\").save_as_table(\"FDC_DATA_MANISH.PUBLIC.STG_POLICY\")"
   ]
  },
  {
   "cell_type": "code",
   "execution_count": 65,
   "id": "3b23e8da",
   "metadata": {},
   "outputs": [],
   "source": [
    "DF_STG_CLAIM=session1.createDataFrame(\n",
    "        STG_CLAIM.values.tolist(),\n",
    "        schema=STG_CLAIM.columns.tolist())\n",
    "DF_STG_CLAIM.write.mode(\"overwrite\").save_as_table(\"FDC_DATA_MANISH.PUBLIC.STG_CLAIM\")"
   ]
  }
 ],
 "metadata": {
  "kernelspec": {
   "display_name": "Python 3",
   "language": "python",
   "name": "python3"
  },
  "language_info": {
   "codemirror_mode": {
    "name": "ipython",
    "version": 3
   },
   "file_extension": ".py",
   "mimetype": "text/x-python",
   "name": "python",
   "nbconvert_exporter": "python",
   "pygments_lexer": "ipython3",
   "version": "3.8.18"
  }
 },
 "nbformat": 4,
 "nbformat_minor": 5
}
