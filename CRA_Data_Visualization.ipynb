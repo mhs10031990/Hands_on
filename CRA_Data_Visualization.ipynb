{
 "cells": [
  {
   "cell_type": "code",
   "execution_count": null,
   "id": "67aa1c3a",
   "metadata": {
    "scrolled": true
   },
   "outputs": [
    {
     "name": "stdout",
     "output_type": "stream",
     "text": [
      "\u001b[33mWARNING: The directory '/home/mosaic-ai/.cache/pip/http' or its parent directory is not owned by the current user and the cache has been disabled. Please check the permissions and owner of that directory. If executing pip with sudo, you may want sudo's -H flag.\u001b[0m\n",
      "\u001b[33mWARNING: The directory '/home/mosaic-ai/.cache/pip' or its parent directory is not owned by the current user and caching wheels has been disabled. check the permissions and owner of that directory. If executing pip with sudo, you may want sudo's -H flag.\u001b[0m\n",
      "\u001b[31mERROR: snowflake-ml-python 1.0.1 has requirement packaging<24,>=20.9, but you'll have packaging 24.0 which is incompatible.\u001b[0m\n",
      "\u001b[31mERROR: snowflake-ml-python 1.0.1 has requirement pandas<2,>=1.0.0, but you'll have pandas 2.0.3 which is incompatible.\u001b[0m\n",
      "\u001b[31mERROR: snowflake-ml-python 1.0.1 has requirement snowflake-snowpark-python<2,>=1.4.0, but you'll have snowflake-snowpark-python 1.0.0 which is incompatible.\u001b[0m\n",
      "\u001b[31mERROR: openapi-spec-validator 0.7.1 has requirement jsonschema<5.0.0,>=4.18.0, but you'll have jsonschema 3.2.0 which is incompatible.\u001b[0m\n",
      "\u001b[31mERROR: openapi-schema-validator 0.6.2 has requirement jsonschema<5.0.0,>=4.19.1, but you'll have jsonschema 3.2.0 which is incompatible.\u001b[0m\n",
      "\u001b[31mERROR: mosaic-ai-serving 1.0.0 has requirement Flask==2.1.1; python_version >= \"3.7\", but you'll have flask 2.2.5 which is incompatible.\u001b[0m\n",
      "\u001b[31mERROR: mosaic-ai-serving 1.0.0 has requirement matplotlib==3.6.0; python_version >= \"3.8\", but you'll have matplotlib 3.7.5 which is incompatible.\u001b[0m\n",
      "\u001b[31mERROR: mosaic-ai-client 1.0.0 has requirement matplotlib==3.1.1, but you'll have matplotlib 3.7.5 which is incompatible.\u001b[0m\n",
      "\u001b[31mERROR: jupyterlab 3.2.4 has requirement jupyter-server~=1.4, but you'll have jupyter-server 2.0.0a1 which is incompatible.\u001b[0m\n",
      "\u001b[31mERROR: jupyterlab-server 2.25.4 has requirement jsonschema>=4.18.0, but you'll have jsonschema 3.2.0 which is incompatible.\u001b[0m\n"
     ]
    }
   ],
   "source": [
    "!pip install --q seaborn"
   ]
  },
  {
   "cell_type": "code",
   "execution_count": null,
   "id": "4c0fc206",
   "metadata": {},
   "outputs": [],
   "source": [
    "from snowflake.snowpark import Session"
   ]
  },
  {
   "cell_type": "code",
   "execution_count": null,
   "id": "f1224449",
   "metadata": {},
   "outputs": [],
   "source": [
    "import numpy as np\n",
    "import pandas as pd\n",
    "import matplotlib.pyplot as plt\n",
    "import seaborn as sns\n",
    "# create_temp_table warning suppresion\n",
    "import warnings; warnings.simplefilter('ignore')\n",
    "import configparser"
   ]
  },
  {
   "cell_type": "markdown",
   "id": "466dfbb0",
   "metadata": {},
   "source": [
    "# Code to establish connection and read data from Snowflake"
   ]
  },
  {
   "cell_type": "code",
   "execution_count": null,
   "id": "9c530a40",
   "metadata": {},
   "outputs": [],
   "source": [
    "config = configparser.ConfigParser()\n",
    "config.read(\"snowflake_connection.ini\")"
   ]
  },
  {
   "cell_type": "code",
   "execution_count": null,
   "id": "73a75e95",
   "metadata": {},
   "outputs": [],
   "source": [
    "connection_parameters = {\n",
    "    \"user\": f'{config[\"Snowflake\"][\"user\"]}',\n",
    "    \"password\": f'{config[\"Snowflake\"][\"password\"]}',\n",
    "    #\"password\": os.getenv('snowflake_password'),\n",
    "    \"account\": f'{config[\"Snowflake\"][\"account\"]}',\n",
    "    #\"account\": os.getenv('snowflake_account'),\n",
    "    \"WAREHOUSE\": f'{config[\"Snowflake\"][\"WAREHOUSE\"]}',\n",
    "    \"DATABASE\": f'{config[\"Snowflake\"][\"DATABASE\"]}',\n",
    "    \"SCHEMA\": f'{config[\"Snowflake\"][\"SCHEMA\"]}'\n",
    "}"
   ]
  },
  {
   "cell_type": "code",
   "execution_count": null,
   "id": "6530ea96",
   "metadata": {},
   "outputs": [],
   "source": [
    "def snowflake_connector(conn):\n",
    "    try:\n",
    "        session = Session.builder.configs(conn).create()\n",
    "        print(\"connection successful!\")\n",
    "    except:\n",
    "        raise ValueError(\"error while connecting with db\")\n",
    "    return session\n",
    "\n",
    "session = snowflake_connector(connection_parameters)"
   ]
  },
  {
   "cell_type": "code",
   "execution_count": null,
   "id": "8c4d05d5",
   "metadata": {},
   "outputs": [],
   "source": [
    "application_train_sf  = session.table(\"CRA_APPLICATION_TRAIN_DETAILS\")\n",
    "application_test_sf  = session.table(\"CRA_APPLICATION_TEST_DETAILS\")\n",
    "bureau_sf  = session.table(\"CRA_BUREAU_DETAILS\")\n",
    "bureau_balance_sf  = session.table(\"CRA_BUREAU_BALANCE_DETAILS\")\n",
    "credit_card_balance_sf  = session.table(\"CRA_CREDIT_CARD_BALANCE_DETAILS\")\n",
    "installments_payments_sf  = session.table(\"CRA_INSTALLMENTS_PAYMENTS_DETAILS\")\n",
    "previous_application_sf  = session.table(\"CRA_PREVIOUS_APPLICATION_DETAILS\")\n",
    "POS_CASH_balance_sf  = session.table(\"CRA_POS_CASH_BALANCE_DETAILS\")"
   ]
  },
  {
   "cell_type": "markdown",
   "id": "a17f66f2",
   "metadata": {},
   "source": [
    "# Convert Snowflake data into Pandas dataframes"
   ]
  },
  {
   "cell_type": "code",
   "execution_count": null,
   "id": "74e0c149",
   "metadata": {},
   "outputs": [],
   "source": [
    "application_train = application_train_sf.to_pandas()"
   ]
  },
  {
   "cell_type": "code",
   "execution_count": null,
   "id": "1bcd4106",
   "metadata": {},
   "outputs": [],
   "source": [
    "application_test = application_test_sf.to_pandas()"
   ]
  },
  {
   "cell_type": "code",
   "execution_count": null,
   "id": "887ea3c1",
   "metadata": {},
   "outputs": [],
   "source": [
    "bureau = bureau_sf.to_pandas()"
   ]
  },
  {
   "cell_type": "code",
   "execution_count": null,
   "id": "8bb6ebbf",
   "metadata": {},
   "outputs": [],
   "source": [
    "bureau_balance = bureau_balance_sf.to_pandas()"
   ]
  },
  {
   "cell_type": "code",
   "execution_count": null,
   "id": "3ad7e835",
   "metadata": {},
   "outputs": [],
   "source": [
    "credit_card_balance = credit_card_balance_sf.to_pandas()"
   ]
  },
  {
   "cell_type": "code",
   "execution_count": null,
   "id": "302aa3fd",
   "metadata": {},
   "outputs": [],
   "source": [
    "installments_payments = installments_payments_sf.to_pandas()"
   ]
  },
  {
   "cell_type": "code",
   "execution_count": null,
   "id": "44f545ba",
   "metadata": {},
   "outputs": [],
   "source": [
    "previous_application = previous_application_sf.to_pandas()"
   ]
  },
  {
   "cell_type": "code",
   "execution_count": null,
   "id": "bc869c32",
   "metadata": {},
   "outputs": [],
   "source": [
    "POS_CASH_balance = POS_CASH_balance_sf.to_pandas()"
   ]
  },
  {
   "cell_type": "markdown",
   "id": "53fdc731",
   "metadata": {},
   "source": [
    "# Glimpse of Rows and Columns of each dataset"
   ]
  },
  {
   "cell_type": "code",
   "execution_count": null,
   "id": "6bde4ed6",
   "metadata": {},
   "outputs": [],
   "source": [
    "print(\"application_train -  rows:\",application_train.shape[0],\" columns:\", application_train.shape[1])\n",
    "print(\"application_test -  rows:\",application_test.shape[0],\" columns:\", application_test.shape[1])\n",
    "print(\"bureau -  rows:\",bureau.shape[0],\" columns:\", bureau.shape[1])\n",
    "print(\"bureau_balance -  rows:\",bureau_balance.shape[0],\" columns:\", bureau_balance.shape[1])\n",
    "print(\"credit_card_balance -  rows:\",credit_card_balance.shape[0],\" columns:\", credit_card_balance.shape[1])\n",
    "print(\"installments_payments -  rows:\",installments_payments.shape[0],\" columns:\", installments_payments.shape[1])\n",
    "print(\"previous_application -  rows:\",previous_application.shape[0],\" columns:\", previous_application.shape[1])\n",
    "print(\"POS_CASH_balance -  rows:\",POS_CASH_balance.shape[0],\" columns:\", POS_CASH_balance.shape[1])"
   ]
  },
  {
   "cell_type": "markdown",
   "id": "85afe9ee",
   "metadata": {},
   "source": [
    "# Sample Data of each dataset"
   ]
  },
  {
   "cell_type": "code",
   "execution_count": null,
   "id": "0a5334d8",
   "metadata": {
    "scrolled": true
   },
   "outputs": [],
   "source": [
    "application_train.head()"
   ]
  },
  {
   "cell_type": "code",
   "execution_count": null,
   "id": "2d763600",
   "metadata": {},
   "outputs": [],
   "source": [
    "application_test.head()"
   ]
  },
  {
   "cell_type": "code",
   "execution_count": null,
   "id": "ef94d7d0",
   "metadata": {},
   "outputs": [],
   "source": [
    "bureau.head()"
   ]
  },
  {
   "cell_type": "code",
   "execution_count": null,
   "id": "66e8ec3b",
   "metadata": {},
   "outputs": [],
   "source": [
    "bureau_balance.head()"
   ]
  },
  {
   "cell_type": "code",
   "execution_count": null,
   "id": "f2468eeb",
   "metadata": {},
   "outputs": [],
   "source": [
    "credit_card_balance.head()"
   ]
  },
  {
   "cell_type": "code",
   "execution_count": null,
   "id": "ef8fdf98",
   "metadata": {
    "scrolled": true
   },
   "outputs": [],
   "source": [
    "installments_payments.head()"
   ]
  },
  {
   "cell_type": "code",
   "execution_count": null,
   "id": "783487cf",
   "metadata": {},
   "outputs": [],
   "source": [
    "previous_application.head()"
   ]
  },
  {
   "cell_type": "code",
   "execution_count": null,
   "id": "6ff332d8",
   "metadata": {},
   "outputs": [],
   "source": [
    "POS_CASH_balance.head()"
   ]
  },
  {
   "cell_type": "markdown",
   "id": "a8c9af27",
   "metadata": {},
   "source": [
    "# Check Missing Values"
   ]
  },
  {
   "cell_type": "code",
   "execution_count": null,
   "id": "5b0834e4",
   "metadata": {},
   "outputs": [],
   "source": [
    "def missing_data(data):\n",
    "    total = data.isnull().sum().sort_values(ascending = False)\n",
    "    percent = (data.isnull().sum()/data.isnull().count()*100).sort_values(ascending = False)\n",
    "    return pd.concat([total, percent], axis=1, keys=['Total', 'Percent'])"
   ]
  },
  {
   "cell_type": "code",
   "execution_count": null,
   "id": "24134b87",
   "metadata": {
    "scrolled": true
   },
   "outputs": [],
   "source": [
    "missing_data(application_train).head(10)"
   ]
  },
  {
   "cell_type": "code",
   "execution_count": null,
   "id": "c5fcae18",
   "metadata": {},
   "outputs": [],
   "source": [
    "missing_data(application_test).head(10)"
   ]
  },
  {
   "cell_type": "code",
   "execution_count": null,
   "id": "1fce49bc",
   "metadata": {},
   "outputs": [],
   "source": [
    "missing_data(bureau)"
   ]
  },
  {
   "cell_type": "code",
   "execution_count": null,
   "id": "1bcc9f25",
   "metadata": {},
   "outputs": [],
   "source": [
    "missing_data(bureau_balance)"
   ]
  },
  {
   "cell_type": "code",
   "execution_count": null,
   "id": "b7dc5784",
   "metadata": {},
   "outputs": [],
   "source": [
    "missing_data(credit_card_balance)"
   ]
  },
  {
   "cell_type": "code",
   "execution_count": null,
   "id": "4bdd3dd4",
   "metadata": {},
   "outputs": [],
   "source": [
    "missing_data(installments_payments)"
   ]
  },
  {
   "cell_type": "code",
   "execution_count": null,
   "id": "c595f2dd",
   "metadata": {
    "scrolled": true
   },
   "outputs": [],
   "source": [
    "missing_data(previous_application).head(20)"
   ]
  },
  {
   "cell_type": "code",
   "execution_count": null,
   "id": "bc0f0dcf",
   "metadata": {},
   "outputs": [],
   "source": [
    "missing_data(POS_CASH_balance)"
   ]
  },
  {
   "cell_type": "markdown",
   "id": "aa1265fa",
   "metadata": {},
   "source": [
    "# Check Data Unbalance"
   ]
  },
  {
   "cell_type": "code",
   "execution_count": null,
   "id": "307dc7e0",
   "metadata": {},
   "outputs": [],
   "source": [
    "temp = application_train[\"TARGET\"].value_counts()\n",
    "df = pd.DataFrame({'labels': temp.index,\n",
    "                   'values': temp.values\n",
    "                  })\n",
    "plt.figure(figsize = (6,6))\n",
    "plt.title('Application loans repayed - train dataset')\n",
    "sns.set_color_codes(\"pastel\")\n",
    "sns.barplot(x = 'labels', y=\"values\", data=df)\n",
    "locs, labels = plt.xticks()\n",
    "plt.show()"
   ]
  }
 ],
 "metadata": {
  "kernelspec": {
   "display_name": "Python 3",
   "language": "python",
   "name": "python3"
  },
  "language_info": {
   "codemirror_mode": {
    "name": "ipython",
    "version": 3
   },
   "file_extension": ".py",
   "mimetype": "text/x-python",
   "name": "python",
   "nbconvert_exporter": "python",
   "pygments_lexer": "ipython3",
   "version": "3.8.18"
  }
 },
 "nbformat": 4,
 "nbformat_minor": 5
}
