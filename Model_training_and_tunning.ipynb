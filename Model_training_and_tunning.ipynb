{
 "cells": [
  {
   "cell_type": "markdown",
   "id": "3567f716",
   "metadata": {},
   "source": [
    "# Use Snowpark_OpenAI Notebook template"
   ]
  },
  {
   "cell_type": "code",
   "execution_count": 1,
   "id": "1abde6de",
   "metadata": {},
   "outputs": [
    {
     "data": {
      "text/plain": [
       "['Collecting snowflake-connector-python[pandas]',\n",
       " '  Using cached https://files.pythonhosted.org/packages/f8/c7/03d2ca5e460acb3a31d70ee17584fbc6fe828a52c9f83bbb20a392b8988b/snowflake_connector_python-3.7.1-cp39-cp39-manylinux_2_17_x86_64.manylinux2014_x86_64.whl',\n",
       " 'Collecting requests<3.0.0',\n",
       " '  Using cached https://files.pythonhosted.org/packages/70/8e/0e2d847013cb52cd35b38c009bb167a1a26b2ce6cd6965bf26b47bc0bf44/requests-2.31.0-py3-none-any.whl',\n",
       " 'Collecting tomlkit',\n",
       " '  Using cached https://files.pythonhosted.org/packages/07/fa/c96545d741f2fd47f565e4e06bfef0962add790cb9c2289d900102b55eca/tomlkit-0.12.4-py3-none-any.whl',\n",
       " 'Collecting cryptography<43.0.0,>=3.1.0',\n",
       " '  Using cached https://files.pythonhosted.org/packages/d4/fa/057f9d7a5364c86ccb6a4bd4e5c58920dcb66532be0cc21da3f9c7617ec3/cryptography-42.0.5-cp39-abi3-manylinux_2_17_x86_64.manylinux2014_x86_64.whl',\n",
       " 'Collecting urllib3<2.0.0,>=1.21.1; python_version < \"3.10\"',\n",
       " '  Using cached https://files.pythonhosted.org/packages/b0/53/aa91e163dcfd1e5b82d8a890ecf13314e3e149c05270cc644581f77f17fd/urllib3-1.26.18-py2.py3-none-any.whl',\n",
       " 'Collecting cffi<2.0.0,>=1.9',\n",
       " '  Using cached https://files.pythonhosted.org/packages/ea/ac/e9e77bc385729035143e54cc8c4785bd480eaca9df17565963556b0b7a93/cffi-1.16.0-cp39-cp39-manylinux_2_17_x86_64.manylinux2014_x86_64.whl',\n",
       " 'Collecting certifi>=2017.4.17',\n",
       " '  Using cached https://files.pythonhosted.org/packages/ba/06/a07f096c664aeb9f01624f858c3add0a4e913d6c96257acb4fce61e7de14/certifi-2024.2.2-py3-none-any.whl',\n",
       " 'Collecting platformdirs<4.0.0,>=2.6.0',\n",
       " '  Using cached https://files.pythonhosted.org/packages/56/29/3ec311dc18804409ecf0d2b09caa976f3ae6215559306b5b530004e11156/platformdirs-3.11.0-py3-none-any.whl',\n",
       " 'Collecting filelock<4,>=3.5',\n",
       " '  Using cached https://files.pythonhosted.org/packages/8b/69/acdf492db27dea7be5c63053230130e0574fd8a376de3555d5f8bbc3d3ad/filelock-3.13.3-py3-none-any.whl',\n",
       " 'Collecting pyOpenSSL<25.0.0,>=16.2.0',\n",
       " '  Using cached https://files.pythonhosted.org/packages/54/a7/2104f674a5a6845b04c8ff01659becc6b8978ca410b82b94287e0b1e018b/pyOpenSSL-24.1.0-py3-none-any.whl',\n",
       " 'Collecting pyjwt<3.0.0',\n",
       " '  Using cached https://files.pythonhosted.org/packages/2b/4f/e04a8067c7c96c364cef7ef73906504e2f40d690811c021e1a1901473a19/PyJWT-2.8.0-py3-none-any.whl',\n",
       " 'Collecting packaging',\n",
       " '  Using cached https://files.pythonhosted.org/packages/49/df/1fceb2f8900f8639e278b056416d49134fb8d84c5942ffaa01ad34782422/packaging-24.0-py3-none-any.whl',\n",
       " 'Collecting idna<4,>=2.5',\n",
       " '  Using cached https://files.pythonhosted.org/packages/c2/e7/a82b05cf63a603df6e68d59ae6a68bf5064484a0718ea5033660af4b54a9/idna-3.6-py3-none-any.whl',\n",
       " 'Collecting typing-extensions<5,>=4.3',\n",
       " '  Using cached https://files.pythonhosted.org/packages/01/f3/936e209267d6ef7510322191003885de524fc48d1b43269810cd589ceaf5/typing_extensions-4.11.0-py3-none-any.whl',\n",
       " 'Collecting sortedcontainers>=2.4.0',\n",
       " '  Using cached https://files.pythonhosted.org/packages/32/46/9cb0e58b2deb7f82b84065f37f3bffeb12413f947f9388e4cac22c4621ce/sortedcontainers-2.4.0-py2.py3-none-any.whl',\n",
       " 'Collecting charset-normalizer<4,>=2',\n",
       " '  Using cached https://files.pythonhosted.org/packages/98/69/5d8751b4b670d623aa7a47bef061d69c279e9f922f6705147983aa76c3ce/charset_normalizer-3.3.2-cp39-cp39-manylinux_2_17_x86_64.manylinux2014_x86_64.whl',\n",
       " 'Collecting pytz',\n",
       " '  Using cached https://files.pythonhosted.org/packages/9c/3d/a121f284241f08268b21359bd425f7d4825cffc5ac5cd0e1b3d82ffd2b10/pytz-2024.1-py2.py3-none-any.whl',\n",
       " 'Collecting asn1crypto<2.0.0,>0.24.0',\n",
       " '  Using cached https://files.pythonhosted.org/packages/c9/7f/09065fd9e27da0eda08b4d6897f1c13535066174cc023af248fc2a8d5e5a/asn1crypto-1.5.1-py2.py3-none-any.whl',\n",
       " 'Collecting pandas<3.0.0,>=1.0.0; extra == \"pandas\"',\n",
       " '  Using cached https://files.pythonhosted.org/packages/1a/5e/71bb0eef0dc543f7516d9ddeca9ee8dc98207043784e3f7e6c08b4a6b3d9/pandas-2.2.1-cp39-cp39-manylinux_2_17_x86_64.manylinux2014_x86_64.whl',\n",
       " 'Collecting pyarrow; extra == \"pandas\"',\n",
       " '  Using cached https://files.pythonhosted.org/packages/c2/9d/b5d4666d78bab32b80275d86043a127d2197431c711a53291b5c94637844/pyarrow-15.0.2-cp39-cp39-manylinux_2_17_x86_64.manylinux2014_x86_64.whl',\n",
       " 'Collecting pycparser',\n",
       " '  Using cached https://files.pythonhosted.org/packages/13/a3/a812df4e2dd5696d1f351d58b8fe16a405b234ad2886a0dab9183fb78109/pycparser-2.22-py3-none-any.whl',\n",
       " 'Collecting python-dateutil>=2.8.2',\n",
       " '  Using cached https://files.pythonhosted.org/packages/ec/57/56b9bcc3c9c6a792fcbaf139543cee77261f3651ca9da0c93f5c1221264b/python_dateutil-2.9.0.post0-py2.py3-none-any.whl',\n",
       " 'Collecting tzdata>=2022.7',\n",
       " '  Using cached https://files.pythonhosted.org/packages/65/58/f9c9e6be752e9fcb8b6a0ee9fb87e6e7a1f6bcab2cdc73f02bb7ba91ada0/tzdata-2024.1-py2.py3-none-any.whl',\n",
       " 'Collecting numpy<2,>=1.22.4; python_version < \"3.11\"',\n",
       " '  Using cached https://files.pythonhosted.org/packages/54/30/c2a907b9443cf42b90c17ad10c1e8fa801975f01cb9764f3f8eb8aea638b/numpy-1.26.4-cp39-cp39-manylinux_2_17_x86_64.manylinux2014_x86_64.whl',\n",
       " 'Collecting six>=1.5',\n",
       " '  Using cached https://files.pythonhosted.org/packages/d9/5a/e7c31adbe875f2abbb91bd84cf2dc52d792b5a01506781dbcf25c91daf11/six-1.16.0-py2.py3-none-any.whl',\n",
       " \"ERROR: snowflake-ml-python 1.0.10 has requirement packaging<24,>=20.9, but you'll have packaging 24.0 which is incompatible.\",\n",
       " \"ERROR: snowflake-ml-python 1.0.10 has requirement pandas<2,>=1.0.0, but you'll have pandas 2.2.1 which is incompatible.\",\n",
       " \"ERROR: snowflake-ml-python 1.0.10 has requirement xgboost<2,>=1.7.3, but you'll have xgboost 2.0.3 which is incompatible.\",\n",
       " \"ERROR: jupyterlab 3.2.4 has requirement jupyter-server~=1.4, but you'll have jupyter-server 2.0.0a1 which is incompatible.\",\n",
       " \"ERROR: jupyterlab-server 2.25.3 has requirement jsonschema>=4.18.0, but you'll have jsonschema 3.2.0 which is incompatible.\",\n",
       " 'Installing collected packages: charset-normalizer, certifi, idna, urllib3, requests, tomlkit, pycparser, cffi, cryptography, platformdirs, filelock, pyOpenSSL, pyjwt, packaging, typing-extensions, sortedcontainers, pytz, asn1crypto, six, python-dateutil, tzdata, numpy, pandas, pyarrow, snowflake-connector-python',\n",
       " 'Successfully installed asn1crypto-1.5.1 certifi-2024.2.2 cffi-1.16.0 charset-normalizer-3.3.2 cryptography-42.0.5 filelock-3.13.3 idna-3.6 numpy-1.26.4 packaging-24.0 pandas-2.2.1 platformdirs-3.11.0 pyOpenSSL-24.1.0 pyarrow-15.0.2 pycparser-2.22 pyjwt-2.8.0 python-dateutil-2.9.0.post0 pytz-2024.1 requests-2.31.0 six-1.16.0 snowflake-connector-python-3.7.1 sortedcontainers-2.4.0 tomlkit-0.12.4 typing-extensions-4.11.0 tzdata-2024.1 urllib3-1.26.18',\n",
       " 'WARNING: Target directory /tmp/pip_packages/charset_normalizer already exists. Specify --upgrade to force replacement.',\n",
       " 'WARNING: Target directory /tmp/pip_packages/charset_normalizer-3.3.2.dist-info already exists. Specify --upgrade to force replacement.',\n",
       " 'WARNING: Target directory /tmp/pip_packages/certifi already exists. Specify --upgrade to force replacement.',\n",
       " 'WARNING: Target directory /tmp/pip_packages/certifi-2024.2.2.dist-info already exists. Specify --upgrade to force replacement.',\n",
       " 'WARNING: Target directory /tmp/pip_packages/idna already exists. Specify --upgrade to force replacement.',\n",
       " 'WARNING: Target directory /tmp/pip_packages/idna-3.6.dist-info already exists. Specify --upgrade to force replacement.',\n",
       " 'WARNING: Target directory /tmp/pip_packages/urllib3 already exists. Specify --upgrade to force replacement.',\n",
       " 'WARNING: Target directory /tmp/pip_packages/urllib3-1.26.18.dist-info already exists. Specify --upgrade to force replacement.',\n",
       " 'WARNING: Target directory /tmp/pip_packages/requests already exists. Specify --upgrade to force replacement.',\n",
       " 'WARNING: Target directory /tmp/pip_packages/requests-2.31.0.dist-info already exists. Specify --upgrade to force replacement.',\n",
       " 'WARNING: Target directory /tmp/pip_packages/tomlkit already exists. Specify --upgrade to force replacement.',\n",
       " 'WARNING: Target directory /tmp/pip_packages/tomlkit-0.12.4.dist-info already exists. Specify --upgrade to force replacement.',\n",
       " 'WARNING: Target directory /tmp/pip_packages/pycparser already exists. Specify --upgrade to force replacement.',\n",
       " 'WARNING: Target directory /tmp/pip_packages/pycparser-2.22.dist-info already exists. Specify --upgrade to force replacement.',\n",
       " 'WARNING: Target directory /tmp/pip_packages/_cffi_backend.cpython-39-x86_64-linux-gnu.so already exists. Specify --upgrade to force replacement.',\n",
       " 'WARNING: Target directory /tmp/pip_packages/cffi already exists. Specify --upgrade to force replacement.',\n",
       " 'WARNING: Target directory /tmp/pip_packages/cffi-1.16.0.dist-info already exists. Specify --upgrade to force replacement.',\n",
       " 'WARNING: Target directory /tmp/pip_packages/cryptography-42.0.5.dist-info already exists. Specify --upgrade to force replacement.',\n",
       " 'WARNING: Target directory /tmp/pip_packages/cryptography already exists. Specify --upgrade to force replacement.',\n",
       " 'WARNING: Target directory /tmp/pip_packages/platformdirs already exists. Specify --upgrade to force replacement.',\n",
       " 'WARNING: Target directory /tmp/pip_packages/platformdirs-3.11.0.dist-info already exists. Specify --upgrade to force replacement.',\n",
       " 'WARNING: Target directory /tmp/pip_packages/filelock already exists. Specify --upgrade to force replacement.',\n",
       " 'WARNING: Target directory /tmp/pip_packages/filelock-3.13.3.dist-info already exists. Specify --upgrade to force replacement.',\n",
       " 'WARNING: Target directory /tmp/pip_packages/OpenSSL already exists. Specify --upgrade to force replacement.',\n",
       " 'WARNING: Target directory /tmp/pip_packages/pyOpenSSL-24.1.0.dist-info already exists. Specify --upgrade to force replacement.',\n",
       " 'WARNING: Target directory /tmp/pip_packages/jwt already exists. Specify --upgrade to force replacement.',\n",
       " 'WARNING: Target directory /tmp/pip_packages/PyJWT-2.8.0.dist-info already exists. Specify --upgrade to force replacement.',\n",
       " 'WARNING: Target directory /tmp/pip_packages/packaging already exists. Specify --upgrade to force replacement.',\n",
       " 'WARNING: Target directory /tmp/pip_packages/packaging-24.0.dist-info already exists. Specify --upgrade to force replacement.',\n",
       " 'WARNING: Target directory /tmp/pip_packages/typing_extensions.py already exists. Specify --upgrade to force replacement.',\n",
       " 'WARNING: Target directory /tmp/pip_packages/typing_extensions-4.11.0.dist-info already exists. Specify --upgrade to force replacement.',\n",
       " 'WARNING: Target directory /tmp/pip_packages/__pycache__ already exists. Specify --upgrade to force replacement.',\n",
       " 'WARNING: Target directory /tmp/pip_packages/sortedcontainers already exists. Specify --upgrade to force replacement.',\n",
       " 'WARNING: Target directory /tmp/pip_packages/sortedcontainers-2.4.0.dist-info already exists. Specify --upgrade to force replacement.',\n",
       " 'WARNING: Target directory /tmp/pip_packages/pytz already exists. Specify --upgrade to force replacement.',\n",
       " 'WARNING: Target directory /tmp/pip_packages/pytz-2024.1.dist-info already exists. Specify --upgrade to force replacement.',\n",
       " 'WARNING: Target directory /tmp/pip_packages/asn1crypto already exists. Specify --upgrade to force replacement.',\n",
       " 'WARNING: Target directory /tmp/pip_packages/asn1crypto-1.5.1.dist-info already exists. Specify --upgrade to force replacement.',\n",
       " 'WARNING: Target directory /tmp/pip_packages/six.py already exists. Specify --upgrade to force replacement.',\n",
       " 'WARNING: Target directory /tmp/pip_packages/six-1.16.0.dist-info already exists. Specify --upgrade to force replacement.',\n",
       " 'WARNING: Target directory /tmp/pip_packages/dateutil already exists. Specify --upgrade to force replacement.',\n",
       " 'WARNING: Target directory /tmp/pip_packages/python_dateutil-2.9.0.post0.dist-info already exists. Specify --upgrade to force replacement.',\n",
       " 'WARNING: Target directory /tmp/pip_packages/tzdata already exists. Specify --upgrade to force replacement.',\n",
       " 'WARNING: Target directory /tmp/pip_packages/tzdata-2024.1.dist-info already exists. Specify --upgrade to force replacement.',\n",
       " 'WARNING: Target directory /tmp/pip_packages/numpy already exists. Specify --upgrade to force replacement.',\n",
       " 'WARNING: Target directory /tmp/pip_packages/numpy-1.26.4.dist-info already exists. Specify --upgrade to force replacement.',\n",
       " 'WARNING: Target directory /tmp/pip_packages/numpy.libs already exists. Specify --upgrade to force replacement.',\n",
       " 'WARNING: Target directory /tmp/pip_packages/pandas-2.2.1.dist-info already exists. Specify --upgrade to force replacement.',\n",
       " 'WARNING: Target directory /tmp/pip_packages/pandas already exists. Specify --upgrade to force replacement.',\n",
       " 'WARNING: Target directory /tmp/pip_packages/pyarrow already exists. Specify --upgrade to force replacement.',\n",
       " 'WARNING: Target directory /tmp/pip_packages/pyarrow-15.0.2.dist-info already exists. Specify --upgrade to force replacement.',\n",
       " 'WARNING: Target directory /tmp/pip_packages/snowflake already exists. Specify --upgrade to force replacement.',\n",
       " 'WARNING: Target directory /tmp/pip_packages/snowflake_connector_python-3.7.1.dist-info already exists. Specify --upgrade to force replacement.',\n",
       " 'WARNING: Target directory /tmp/pip_packages/bin already exists. Specify --upgrade to force replacement.',\n",
       " 'WARNING: You are using pip version 19.3.1; however, version 24.0 is available.',\n",
       " \"You should consider upgrading via the 'pip install --upgrade pip' command.\"]"
      ]
     },
     "execution_count": 1,
     "metadata": {},
     "output_type": "execute_result"
    }
   ],
   "source": [
    "!!pip install \"snowflake-connector-python[pandas]\""
   ]
  },
  {
   "cell_type": "code",
   "execution_count": 2,
   "id": "bb76c445",
   "metadata": {},
   "outputs": [
    {
     "name": "stdout",
     "output_type": "stream",
     "text": [
      "\u001b[31mERROR: snowflake-ml-python 1.0.10 has requirement packaging<24,>=20.9, but you'll have packaging 24.0 which is incompatible.\u001b[0m\n",
      "\u001b[31mERROR: snowflake-ml-python 1.0.10 has requirement pandas<2,>=1.0.0, but you'll have pandas 2.2.1 which is incompatible.\u001b[0m\n",
      "\u001b[31mERROR: snowflake-ml-python 1.0.10 has requirement xgboost<2,>=1.7.3, but you'll have xgboost 2.0.3 which is incompatible.\u001b[0m\n",
      "\u001b[31mERROR: jupyterlab 3.2.4 has requirement jupyter-server~=1.4, but you'll have jupyter-server 2.0.0a1 which is incompatible.\u001b[0m\n",
      "\u001b[31mERROR: jupyterlab-server 2.25.3 has requirement jsonschema>=4.18.0, but you'll have jsonschema 3.2.0 which is incompatible.\u001b[0m\n",
      "\u001b[33mWARNING: Target directory /tmp/pip_packages/fontTools already exists. Specify --upgrade to force replacement.\u001b[0m\n",
      "\u001b[33mWARNING: Target directory /tmp/pip_packages/fonttools-4.51.0.dist-info already exists. Specify --upgrade to force replacement.\u001b[0m\n",
      "\u001b[33mWARNING: Target directory /tmp/pip_packages/packaging already exists. Specify --upgrade to force replacement.\u001b[0m\n",
      "\u001b[33mWARNING: Target directory /tmp/pip_packages/packaging-24.0.dist-info already exists. Specify --upgrade to force replacement.\u001b[0m\n",
      "\u001b[33mWARNING: Target directory /tmp/pip_packages/kiwisolver-1.4.5.dist-info already exists. Specify --upgrade to force replacement.\u001b[0m\n",
      "\u001b[33mWARNING: Target directory /tmp/pip_packages/kiwisolver already exists. Specify --upgrade to force replacement.\u001b[0m\n",
      "\u001b[33mWARNING: Target directory /tmp/pip_packages/pillow.libs already exists. Specify --upgrade to force replacement.\u001b[0m\n",
      "\u001b[33mWARNING: Target directory /tmp/pip_packages/PIL already exists. Specify --upgrade to force replacement.\u001b[0m\n",
      "\u001b[33mWARNING: Target directory /tmp/pip_packages/pillow-10.3.0.dist-info already exists. Specify --upgrade to force replacement.\u001b[0m\n",
      "\u001b[33mWARNING: Target directory /tmp/pip_packages/zipp already exists. Specify --upgrade to force replacement.\u001b[0m\n",
      "\u001b[33mWARNING: Target directory /tmp/pip_packages/zipp-3.18.1.dist-info already exists. Specify --upgrade to force replacement.\u001b[0m\n",
      "\u001b[33mWARNING: Target directory /tmp/pip_packages/importlib_resources already exists. Specify --upgrade to force replacement.\u001b[0m\n",
      "\u001b[33mWARNING: Target directory /tmp/pip_packages/importlib_resources-6.4.0.dist-info already exists. Specify --upgrade to force replacement.\u001b[0m\n",
      "\u001b[33mWARNING: Target directory /tmp/pip_packages/numpy already exists. Specify --upgrade to force replacement.\u001b[0m\n",
      "\u001b[33mWARNING: Target directory /tmp/pip_packages/numpy-1.26.4.dist-info already exists. Specify --upgrade to force replacement.\u001b[0m\n",
      "\u001b[33mWARNING: Target directory /tmp/pip_packages/numpy.libs already exists. Specify --upgrade to force replacement.\u001b[0m\n",
      "\u001b[33mWARNING: Target directory /tmp/pip_packages/six.py already exists. Specify --upgrade to force replacement.\u001b[0m\n",
      "\u001b[33mWARNING: Target directory /tmp/pip_packages/six-1.16.0.dist-info already exists. Specify --upgrade to force replacement.\u001b[0m\n",
      "\u001b[33mWARNING: Target directory /tmp/pip_packages/__pycache__ already exists. Specify --upgrade to force replacement.\u001b[0m\n",
      "\u001b[33mWARNING: Target directory /tmp/pip_packages/dateutil already exists. Specify --upgrade to force replacement.\u001b[0m\n",
      "\u001b[33mWARNING: Target directory /tmp/pip_packages/python_dateutil-2.9.0.post0.dist-info already exists. Specify --upgrade to force replacement.\u001b[0m\n",
      "\u001b[33mWARNING: Target directory /tmp/pip_packages/cycler already exists. Specify --upgrade to force replacement.\u001b[0m\n",
      "\u001b[33mWARNING: Target directory /tmp/pip_packages/cycler-0.12.1.dist-info already exists. Specify --upgrade to force replacement.\u001b[0m\n",
      "\u001b[33mWARNING: Target directory /tmp/pip_packages/pyparsing already exists. Specify --upgrade to force replacement.\u001b[0m\n",
      "\u001b[33mWARNING: Target directory /tmp/pip_packages/pyparsing-3.1.2.dist-info already exists. Specify --upgrade to force replacement.\u001b[0m\n",
      "\u001b[33mWARNING: Target directory /tmp/pip_packages/contourpy already exists. Specify --upgrade to force replacement.\u001b[0m\n",
      "\u001b[33mWARNING: Target directory /tmp/pip_packages/contourpy-1.2.1.dist-info already exists. Specify --upgrade to force replacement.\u001b[0m\n",
      "\u001b[33mWARNING: Target directory /tmp/pip_packages/pylab.py already exists. Specify --upgrade to force replacement.\u001b[0m\n",
      "\u001b[33mWARNING: Target directory /tmp/pip_packages/matplotlib-3.8.4.dist-info already exists. Specify --upgrade to force replacement.\u001b[0m\n",
      "\u001b[33mWARNING: Target directory /tmp/pip_packages/matplotlib already exists. Specify --upgrade to force replacement.\u001b[0m\n",
      "\u001b[33mWARNING: Target directory /tmp/pip_packages/mpl_toolkits already exists. Specify --upgrade to force replacement.\u001b[0m\n",
      "\u001b[33mWARNING: Target directory /tmp/pip_packages/tzdata already exists. Specify --upgrade to force replacement.\u001b[0m\n",
      "\u001b[33mWARNING: Target directory /tmp/pip_packages/tzdata-2024.1.dist-info already exists. Specify --upgrade to force replacement.\u001b[0m\n",
      "\u001b[33mWARNING: Target directory /tmp/pip_packages/pytz already exists. Specify --upgrade to force replacement.\u001b[0m\n",
      "\u001b[33mWARNING: Target directory /tmp/pip_packages/pytz-2024.1.dist-info already exists. Specify --upgrade to force replacement.\u001b[0m\n",
      "\u001b[33mWARNING: Target directory /tmp/pip_packages/pandas-2.2.1.dist-info already exists. Specify --upgrade to force replacement.\u001b[0m\n",
      "\u001b[33mWARNING: Target directory /tmp/pip_packages/pandas already exists. Specify --upgrade to force replacement.\u001b[0m\n",
      "\u001b[33mWARNING: Target directory /tmp/pip_packages/seaborn already exists. Specify --upgrade to force replacement.\u001b[0m\n",
      "\u001b[33mWARNING: Target directory /tmp/pip_packages/seaborn-0.13.2.dist-info already exists. Specify --upgrade to force replacement.\u001b[0m\n",
      "\u001b[33mWARNING: Target directory /tmp/pip_packages/scipy-1.13.0.dist-info already exists. Specify --upgrade to force replacement.\u001b[0m\n",
      "\u001b[33mWARNING: Target directory /tmp/pip_packages/scipy already exists. Specify --upgrade to force replacement.\u001b[0m\n",
      "\u001b[33mWARNING: Target directory /tmp/pip_packages/scipy.libs already exists. Specify --upgrade to force replacement.\u001b[0m\n",
      "\u001b[33mWARNING: Target directory /tmp/pip_packages/xgboost already exists. Specify --upgrade to force replacement.\u001b[0m\n",
      "\u001b[33mWARNING: Target directory /tmp/pip_packages/xgboost-2.0.3.dist-info already exists. Specify --upgrade to force replacement.\u001b[0m\n",
      "\u001b[33mWARNING: Target directory /tmp/pip_packages/xgboost.libs already exists. Specify --upgrade to force replacement.\u001b[0m\n",
      "\u001b[33mWARNING: Target directory /tmp/pip_packages/share already exists. Specify --upgrade to force replacement.\u001b[0m\n",
      "\u001b[33mWARNING: Target directory /tmp/pip_packages/bin already exists. Specify --upgrade to force replacement.\u001b[0m\n",
      "\u001b[33mWARNING: You are using pip version 19.3.1; however, version 24.0 is available.\n",
      "You should consider upgrading via the 'pip install --upgrade pip' command.\u001b[0m\n"
     ]
    }
   ],
   "source": [
    "!pip install -q matplotlib seaborn xgboost"
   ]
  },
  {
   "cell_type": "code",
   "execution_count": 37,
   "id": "71828059",
   "metadata": {},
   "outputs": [],
   "source": [
    "import pandas as pd # package for high-performance, easy-to-use data structures and data analysis\n",
    "import numpy as np # fundamental package for scientific computing with Python\n",
    "import matplotlib\n",
    "import matplotlib.pyplot as plt # for plotting\n",
    "\n",
    "import seaborn as sns # for making plots with seaborn\n",
    "color = sns.color_palette()\n",
    "\n",
    "from sklearn.impute import SimpleImputer\n",
    "from sklearn.preprocessing import StandardScaler\n",
    "\n",
    "import datetime\n",
    "\n",
    "# Preprocessing, modelling and evaluating\n",
    "from sklearn import preprocessing\n",
    "from sklearn.model_selection import train_test_split\n",
    "from sklearn.metrics import confusion_matrix, roc_auc_score, classification_report, accuracy_score,precision_score,recall_score,f1_score,matthews_corrcoef\n",
    "from sklearn.model_selection import StratifiedKFold, cross_val_score, KFold\n",
    "from xgboost import XGBClassifier\n",
    "import xgboost as xgb\n",
    "from sklearn.ensemble import RandomForestClassifier\n",
    "from sklearn.linear_model import LogisticRegression\n",
    "from sklearn.discriminant_analysis import LinearDiscriminantAnalysis as LDA"
   ]
  },
  {
   "cell_type": "markdown",
   "id": "d3c89eec",
   "metadata": {},
   "source": [
    "# Read Customer and Payment data from Snowflake respective tables"
   ]
  },
  {
   "cell_type": "code",
   "execution_count": 2,
   "id": "b7b0ac24",
   "metadata": {},
   "outputs": [],
   "source": [
    "#Import all snowflake connection details from template variables.\n",
    "\n",
    "db_user = os.getenv('sf_user')\n",
    "db_password =  'Password@2023' #os.getenv('sf_password')\n",
    "db_account = os.getenv('sf_account')\n",
    "db_database =  os.getenv('sf_db')\n",
    "db_role = os.getenv('sf_role')\n",
    "db_warehouse = 'FOSFOR_FDC'\n",
    "db_schema = 'PUBLIC'"
   ]
  },
  {
   "cell_type": "code",
   "execution_count": 3,
   "id": "57fd2c13",
   "metadata": {},
   "outputs": [],
   "source": [
    "from snowflake.snowpark.session import Session\n",
    "connection_params = {\n",
    "    'user': db_user,\n",
    "    'password': db_password,\n",
    "    'account': db_account,\n",
    "    'warehouse': db_warehouse,\n",
    "    'database': db_database,\n",
    "    'schema': db_schema,\n",
    "    'role': db_role\n",
    "}\n",
    "session = Session.builder.configs(connection_params).create()"
   ]
  },
  {
   "cell_type": "code",
   "execution_count": 4,
   "id": "aeade4c2",
   "metadata": {},
   "outputs": [],
   "source": [
    "session.sql('use warehouse FOSFOR_FDC;').collect()\n",
    "session.sql('use database FDC_DATA_MANISH;').collect()\n",
    "session.sql('use schema FDC_DATA_MANISH.PUBLIC;').collect()\n",
    "\n",
    "cc_customer = session.table('FDC_DATA_MANISH.PUBLIC.CC_CUSTOMER_DATA').to_pandas()\n",
    "cc_payment = session.table('FDC_DATA_MANISH.PUBLIC.CC_PAYMENT_DATA').to_pandas()"
   ]
  },
  {
   "cell_type": "markdown",
   "id": "a96b5eb9",
   "metadata": {},
   "source": [
    "# Reverse Data Engineering to get Raw data"
   ]
  },
  {
   "cell_type": "code",
   "execution_count": 5,
   "id": "5ca9bfeb",
   "metadata": {},
   "outputs": [],
   "source": [
    "cc_customer['FEA_2'] = cc_customer['FEA_2'].replace([0],np.nan)"
   ]
  },
  {
   "cell_type": "code",
   "execution_count": 6,
   "id": "46d98153",
   "metadata": {},
   "outputs": [],
   "source": [
    "cc_payment['PROD_LIMIT'] = cc_payment['PROD_LIMIT'].replace([0],np.nan)\n",
    "cc_payment['HIGHEST_BALANCE'] = cc_payment['HIGHEST_BALANCE'].replace([0],np.nan)\n",
    "\n",
    "cc_payment['UPDATE_DATE'] = cc_payment['UPDATE_DATE'].replace(['31/12/9999'],np.nan)\n",
    "cc_payment['REPORT_DATE'] = cc_payment['REPORT_DATE'].replace(['31/12/9999'],np.nan)"
   ]
  },
  {
   "cell_type": "markdown",
   "id": "84ce78ee",
   "metadata": {},
   "source": [
    "# Check Missing Value/data"
   ]
  },
  {
   "cell_type": "code",
   "execution_count": 7,
   "id": "2c134ec1",
   "metadata": {},
   "outputs": [],
   "source": [
    "# checking missing data\n",
    "def get_missing_data(df):\n",
    "    total = df.isnull().sum().sort_values(ascending = False)\n",
    "    percent = (df.isnull().sum()/df.isnull().count()*100).sort_values(ascending = False)\n",
    "    percent = round(percent,2)\n",
    "    missing_df  = pd.concat([total, percent], axis=1, keys=['Total', 'Percent'])\n",
    "    print( missing_df.head(20))\n",
    "    return None"
   ]
  },
  {
   "cell_type": "code",
   "execution_count": 8,
   "id": "c685b8ab",
   "metadata": {},
   "outputs": [
    {
     "name": "stdout",
     "output_type": "stream",
     "text": [
      "        Total  Percent\n",
      "FEA_2     149    13.24\n",
      "LABEL       0     0.00\n",
      "ID          0     0.00\n",
      "FEA_1       0     0.00\n",
      "FEA_3       0     0.00\n",
      "FEA_4       0     0.00\n",
      "FEA_5       0     0.00\n",
      "FEA_6       0     0.00\n",
      "FEA_7       0     0.00\n",
      "FEA_8       0     0.00\n",
      "FEA_9       0     0.00\n",
      "FEA_10      0     0.00\n",
      "FEA_11      0     0.00\n"
     ]
    }
   ],
   "source": [
    "get_missing_data(cc_customer)"
   ]
  },
  {
   "cell_type": "code",
   "execution_count": 9,
   "id": "8fc716e1",
   "metadata": {},
   "outputs": [
    {
     "name": "stdout",
     "output_type": "stream",
     "text": [
      "                 Total  Percent\n",
      "PROD_LIMIT        6118    74.16\n",
      "REPORT_DATE       1114    13.50\n",
      "HIGHEST_BALANCE    409     4.96\n",
      "UPDATE_DATE         26     0.32\n",
      "OVD_T3               0     0.00\n",
      "OVD_T2               0     0.00\n",
      "OVD_T1               0     0.00\n",
      "ID                   0     0.00\n",
      "PROD_CODE            0     0.00\n",
      "PAY_NORMAL           0     0.00\n",
      "OVD_SUM              0     0.00\n",
      "NEW_BALANCE          0     0.00\n"
     ]
    }
   ],
   "source": [
    "get_missing_data(cc_payment)"
   ]
  },
  {
   "cell_type": "code",
   "execution_count": 10,
   "id": "68989326",
   "metadata": {},
   "outputs": [],
   "source": [
    "def data_profile(df):\n",
    "    stats = []\n",
    "    for col in df.columns:\n",
    "        stats.append((col, df[col].nunique(), df[col].isnull().sum() * 100 / df.shape[0], df[col].value_counts(normalize=True, dropna=False).values[0] * 100, df[col].dtype))\n",
    "\n",
    "    stats_df = pd.DataFrame(stats, columns=['Feature', 'Unique_values', 'Percentage of missing values', 'Percentage of values in the biggest category', 'type'])\n",
    "    stats_df.sort_values('Percentage of missing values', ascending=True)\n",
    "    return stats_df"
   ]
  },
  {
   "cell_type": "code",
   "execution_count": 11,
   "id": "0bfc25cd",
   "metadata": {},
   "outputs": [
    {
     "data": {
      "text/html": [
       "<div>\n",
       "<style scoped>\n",
       "    .dataframe tbody tr th:only-of-type {\n",
       "        vertical-align: middle;\n",
       "    }\n",
       "\n",
       "    .dataframe tbody tr th {\n",
       "        vertical-align: top;\n",
       "    }\n",
       "\n",
       "    .dataframe thead th {\n",
       "        text-align: right;\n",
       "    }\n",
       "</style>\n",
       "<table border=\"1\" class=\"dataframe\">\n",
       "  <thead>\n",
       "    <tr style=\"text-align: right;\">\n",
       "      <th></th>\n",
       "      <th>Feature</th>\n",
       "      <th>Unique_values</th>\n",
       "      <th>Percentage of missing values</th>\n",
       "      <th>Percentage of values in the biggest category</th>\n",
       "      <th>type</th>\n",
       "    </tr>\n",
       "  </thead>\n",
       "  <tbody>\n",
       "    <tr>\n",
       "      <th>0</th>\n",
       "      <td>LABEL</td>\n",
       "      <td>2</td>\n",
       "      <td>0.000000</td>\n",
       "      <td>80.000000</td>\n",
       "      <td>float64</td>\n",
       "    </tr>\n",
       "    <tr>\n",
       "      <th>1</th>\n",
       "      <td>ID</td>\n",
       "      <td>1125</td>\n",
       "      <td>0.000000</td>\n",
       "      <td>0.088889</td>\n",
       "      <td>float64</td>\n",
       "    </tr>\n",
       "    <tr>\n",
       "      <th>2</th>\n",
       "      <td>FEA_1</td>\n",
       "      <td>6</td>\n",
       "      <td>0.000000</td>\n",
       "      <td>42.311111</td>\n",
       "      <td>float64</td>\n",
       "    </tr>\n",
       "    <tr>\n",
       "      <th>3</th>\n",
       "      <td>FEA_2</td>\n",
       "      <td>158</td>\n",
       "      <td>13.244444</td>\n",
       "      <td>13.244444</td>\n",
       "      <td>float64</td>\n",
       "    </tr>\n",
       "    <tr>\n",
       "      <th>4</th>\n",
       "      <td>FEA_3</td>\n",
       "      <td>3</td>\n",
       "      <td>0.000000</td>\n",
       "      <td>60.800000</td>\n",
       "      <td>float64</td>\n",
       "    </tr>\n",
       "    <tr>\n",
       "      <th>5</th>\n",
       "      <td>FEA_4</td>\n",
       "      <td>229</td>\n",
       "      <td>0.000000</td>\n",
       "      <td>3.022222</td>\n",
       "      <td>float64</td>\n",
       "    </tr>\n",
       "    <tr>\n",
       "      <th>6</th>\n",
       "      <td>FEA_5</td>\n",
       "      <td>2</td>\n",
       "      <td>0.000000</td>\n",
       "      <td>92.888889</td>\n",
       "      <td>float64</td>\n",
       "    </tr>\n",
       "    <tr>\n",
       "      <th>7</th>\n",
       "      <td>FEA_6</td>\n",
       "      <td>10</td>\n",
       "      <td>0.000000</td>\n",
       "      <td>41.333333</td>\n",
       "      <td>float64</td>\n",
       "    </tr>\n",
       "    <tr>\n",
       "      <th>8</th>\n",
       "      <td>FEA_7</td>\n",
       "      <td>10</td>\n",
       "      <td>0.000000</td>\n",
       "      <td>61.244444</td>\n",
       "      <td>float64</td>\n",
       "    </tr>\n",
       "    <tr>\n",
       "      <th>9</th>\n",
       "      <td>FEA_8</td>\n",
       "      <td>52</td>\n",
       "      <td>0.000000</td>\n",
       "      <td>8.711111</td>\n",
       "      <td>float64</td>\n",
       "    </tr>\n",
       "    <tr>\n",
       "      <th>10</th>\n",
       "      <td>FEA_9</td>\n",
       "      <td>5</td>\n",
       "      <td>0.000000</td>\n",
       "      <td>46.311111</td>\n",
       "      <td>float64</td>\n",
       "    </tr>\n",
       "    <tr>\n",
       "      <th>11</th>\n",
       "      <td>FEA_10</td>\n",
       "      <td>280</td>\n",
       "      <td>0.000000</td>\n",
       "      <td>11.377778</td>\n",
       "      <td>float64</td>\n",
       "    </tr>\n",
       "    <tr>\n",
       "      <th>12</th>\n",
       "      <td>FEA_11</td>\n",
       "      <td>266</td>\n",
       "      <td>0.000000</td>\n",
       "      <td>36.177778</td>\n",
       "      <td>float64</td>\n",
       "    </tr>\n",
       "  </tbody>\n",
       "</table>\n",
       "</div>"
      ],
      "text/plain": [
       "   Feature  Unique_values  Percentage of missing values  \\\n",
       "0    LABEL              2                      0.000000   \n",
       "1       ID           1125                      0.000000   \n",
       "2    FEA_1              6                      0.000000   \n",
       "3    FEA_2            158                     13.244444   \n",
       "4    FEA_3              3                      0.000000   \n",
       "5    FEA_4            229                      0.000000   \n",
       "6    FEA_5              2                      0.000000   \n",
       "7    FEA_6             10                      0.000000   \n",
       "8    FEA_7             10                      0.000000   \n",
       "9    FEA_8             52                      0.000000   \n",
       "10   FEA_9              5                      0.000000   \n",
       "11  FEA_10            280                      0.000000   \n",
       "12  FEA_11            266                      0.000000   \n",
       "\n",
       "    Percentage of values in the biggest category     type  \n",
       "0                                      80.000000  float64  \n",
       "1                                       0.088889  float64  \n",
       "2                                      42.311111  float64  \n",
       "3                                      13.244444  float64  \n",
       "4                                      60.800000  float64  \n",
       "5                                       3.022222  float64  \n",
       "6                                      92.888889  float64  \n",
       "7                                      41.333333  float64  \n",
       "8                                      61.244444  float64  \n",
       "9                                       8.711111  float64  \n",
       "10                                     46.311111  float64  \n",
       "11                                     11.377778  float64  \n",
       "12                                     36.177778  float64  "
      ]
     },
     "execution_count": 11,
     "metadata": {},
     "output_type": "execute_result"
    }
   ],
   "source": [
    "data_profile(cc_customer)"
   ]
  },
  {
   "cell_type": "code",
   "execution_count": 12,
   "id": "c90f4518",
   "metadata": {},
   "outputs": [
    {
     "data": {
      "text/html": [
       "<div>\n",
       "<style scoped>\n",
       "    .dataframe tbody tr th:only-of-type {\n",
       "        vertical-align: middle;\n",
       "    }\n",
       "\n",
       "    .dataframe tbody tr th {\n",
       "        vertical-align: top;\n",
       "    }\n",
       "\n",
       "    .dataframe thead th {\n",
       "        text-align: right;\n",
       "    }\n",
       "</style>\n",
       "<table border=\"1\" class=\"dataframe\">\n",
       "  <thead>\n",
       "    <tr style=\"text-align: right;\">\n",
       "      <th></th>\n",
       "      <th>Feature</th>\n",
       "      <th>Unique_values</th>\n",
       "      <th>Percentage of missing values</th>\n",
       "      <th>Percentage of values in the biggest category</th>\n",
       "      <th>type</th>\n",
       "    </tr>\n",
       "  </thead>\n",
       "  <tbody>\n",
       "    <tr>\n",
       "      <th>0</th>\n",
       "      <td>ID</td>\n",
       "      <td>1125</td>\n",
       "      <td>0.000000</td>\n",
       "      <td>0.666667</td>\n",
       "      <td>int32</td>\n",
       "    </tr>\n",
       "    <tr>\n",
       "      <th>1</th>\n",
       "      <td>OVD_T1</td>\n",
       "      <td>21</td>\n",
       "      <td>0.000000</td>\n",
       "      <td>90.606061</td>\n",
       "      <td>int8</td>\n",
       "    </tr>\n",
       "    <tr>\n",
       "      <th>2</th>\n",
       "      <td>OVD_T2</td>\n",
       "      <td>16</td>\n",
       "      <td>0.000000</td>\n",
       "      <td>95.587879</td>\n",
       "      <td>int8</td>\n",
       "    </tr>\n",
       "    <tr>\n",
       "      <th>3</th>\n",
       "      <td>OVD_T3</td>\n",
       "      <td>33</td>\n",
       "      <td>0.000000</td>\n",
       "      <td>96.763636</td>\n",
       "      <td>int8</td>\n",
       "    </tr>\n",
       "    <tr>\n",
       "      <th>4</th>\n",
       "      <td>OVD_SUM</td>\n",
       "      <td>393</td>\n",
       "      <td>0.000000</td>\n",
       "      <td>88.848485</td>\n",
       "      <td>int16</td>\n",
       "    </tr>\n",
       "    <tr>\n",
       "      <th>5</th>\n",
       "      <td>PAY_NORMAL</td>\n",
       "      <td>37</td>\n",
       "      <td>0.000000</td>\n",
       "      <td>11.030303</td>\n",
       "      <td>int8</td>\n",
       "    </tr>\n",
       "    <tr>\n",
       "      <th>6</th>\n",
       "      <td>PROD_CODE</td>\n",
       "      <td>21</td>\n",
       "      <td>0.000000</td>\n",
       "      <td>54.824242</td>\n",
       "      <td>int8</td>\n",
       "    </tr>\n",
       "    <tr>\n",
       "      <th>7</th>\n",
       "      <td>PROD_LIMIT</td>\n",
       "      <td>321</td>\n",
       "      <td>74.157576</td>\n",
       "      <td>74.157576</td>\n",
       "      <td>float64</td>\n",
       "    </tr>\n",
       "    <tr>\n",
       "      <th>8</th>\n",
       "      <td>UPDATE_DATE</td>\n",
       "      <td>3041</td>\n",
       "      <td>0.315152</td>\n",
       "      <td>0.315152</td>\n",
       "      <td>object</td>\n",
       "    </tr>\n",
       "    <tr>\n",
       "      <th>9</th>\n",
       "      <td>NEW_BALANCE</td>\n",
       "      <td>3939</td>\n",
       "      <td>0.000000</td>\n",
       "      <td>46.836364</td>\n",
       "      <td>float64</td>\n",
       "    </tr>\n",
       "    <tr>\n",
       "      <th>10</th>\n",
       "      <td>HIGHEST_BALANCE</td>\n",
       "      <td>5140</td>\n",
       "      <td>4.957576</td>\n",
       "      <td>4.957576</td>\n",
       "      <td>float64</td>\n",
       "    </tr>\n",
       "    <tr>\n",
       "      <th>11</th>\n",
       "      <td>REPORT_DATE</td>\n",
       "      <td>1862</td>\n",
       "      <td>13.503030</td>\n",
       "      <td>13.503030</td>\n",
       "      <td>object</td>\n",
       "    </tr>\n",
       "  </tbody>\n",
       "</table>\n",
       "</div>"
      ],
      "text/plain": [
       "            Feature  Unique_values  Percentage of missing values  \\\n",
       "0                ID           1125                      0.000000   \n",
       "1            OVD_T1             21                      0.000000   \n",
       "2            OVD_T2             16                      0.000000   \n",
       "3            OVD_T3             33                      0.000000   \n",
       "4           OVD_SUM            393                      0.000000   \n",
       "5        PAY_NORMAL             37                      0.000000   \n",
       "6         PROD_CODE             21                      0.000000   \n",
       "7        PROD_LIMIT            321                     74.157576   \n",
       "8       UPDATE_DATE           3041                      0.315152   \n",
       "9       NEW_BALANCE           3939                      0.000000   \n",
       "10  HIGHEST_BALANCE           5140                      4.957576   \n",
       "11      REPORT_DATE           1862                     13.503030   \n",
       "\n",
       "    Percentage of values in the biggest category     type  \n",
       "0                                       0.666667    int32  \n",
       "1                                      90.606061     int8  \n",
       "2                                      95.587879     int8  \n",
       "3                                      96.763636     int8  \n",
       "4                                      88.848485    int16  \n",
       "5                                      11.030303     int8  \n",
       "6                                      54.824242     int8  \n",
       "7                                      74.157576  float64  \n",
       "8                                       0.315152   object  \n",
       "9                                      46.836364  float64  \n",
       "10                                      4.957576  float64  \n",
       "11                                     13.503030   object  "
      ]
     },
     "execution_count": 12,
     "metadata": {},
     "output_type": "execute_result"
    }
   ],
   "source": [
    "data_profile(cc_payment)"
   ]
  },
  {
   "cell_type": "code",
   "execution_count": 13,
   "id": "21a17bc1",
   "metadata": {},
   "outputs": [],
   "source": [
    "cc_customer['FEA_2'] = cc_customer['FEA_2'].replace([np.nan],cc_customer['FEA_2'].mean())"
   ]
  },
  {
   "cell_type": "code",
   "execution_count": 14,
   "id": "bc2eba65",
   "metadata": {
    "scrolled": false
   },
   "outputs": [],
   "source": [
    "cc_payment['HIGHEST_BALANCE'] = cc_payment['HIGHEST_BALANCE'].replace([np.nan],0)"
   ]
  },
  {
   "cell_type": "code",
   "execution_count": 15,
   "id": "045b1af2",
   "metadata": {},
   "outputs": [
    {
     "data": {
      "text/plain": [
       "Index(['LABEL', 'ID', 'FEA_1', 'FEA_2', 'FEA_3', 'FEA_4', 'FEA_5', 'FEA_6',\n",
       "       'FEA_7', 'FEA_8', 'FEA_9', 'FEA_10', 'FEA_11'],\n",
       "      dtype='object')"
      ]
     },
     "execution_count": 15,
     "metadata": {},
     "output_type": "execute_result"
    }
   ],
   "source": [
    "cc_customer.columns"
   ]
  },
  {
   "cell_type": "code",
   "execution_count": 16,
   "id": "0c6d31e0",
   "metadata": {},
   "outputs": [],
   "source": [
    "Total_features=['FEA_1', 'FEA_2', 'FEA_3', 'FEA_4', 'FEA_5', 'FEA_6',\n",
    "       'FEA_7', 'FEA_8', 'FEA_9', 'FEA_10', 'FEA_11']"
   ]
  },
  {
   "cell_type": "code",
   "execution_count": 17,
   "id": "6408c62d",
   "metadata": {},
   "outputs": [],
   "source": [
    "cat_features = ['FEA_3','FEA_5','FEA_6','FEA_9']\n",
    "num_features = ['FEA_1','FEA_2','FEA_4','FEA_7','FEA_8','FEA_10','FEA_11']"
   ]
  },
  {
   "cell_type": "code",
   "execution_count": 18,
   "id": "d751d001",
   "metadata": {},
   "outputs": [],
   "source": [
    "def standerdisation(df,num_cols):\n",
    "# copy of datasets\n",
    "    df_stand = df.copy()\n",
    "\n",
    "    # apply standardization on numerical features\n",
    "    for i in num_cols:\n",
    "\n",
    "        # fit on training data column\n",
    "        scale = StandardScaler().fit(df_stand[[i]])\n",
    "\n",
    "        # transform the training data column\n",
    "        df_stand[i] = scale.transform(df_stand[[i]])\n",
    "        \n",
    "    return df_stand"
   ]
  },
  {
   "cell_type": "code",
   "execution_count": 19,
   "id": "2c1d9d3a",
   "metadata": {},
   "outputs": [],
   "source": [
    "cc_customer_std =  standerdisation(cc_customer,num_features)"
   ]
  },
  {
   "cell_type": "code",
   "execution_count": 20,
   "id": "7e4ca6e5",
   "metadata": {},
   "outputs": [],
   "source": [
    "feat_cols=[cols for cols  in cc_customer_std.columns if cols not in ['LABEL','ID']]"
   ]
  },
  {
   "cell_type": "markdown",
   "id": "df6c657c",
   "metadata": {},
   "source": [
    "# Preparing data for model"
   ]
  },
  {
   "cell_type": "code",
   "execution_count": 21,
   "id": "457f8a6a",
   "metadata": {},
   "outputs": [],
   "source": [
    "X_train, X_test, y_train, y_test=train_test_split(cc_customer_std[feat_cols],cc_customer_std[['LABEL']],test_size=0.15)"
   ]
  },
  {
   "cell_type": "code",
   "execution_count": 24,
   "id": "c3dcad7d",
   "metadata": {
    "scrolled": true
   },
   "outputs": [
    {
     "data": {
      "text/html": [
       "<div>\n",
       "<style scoped>\n",
       "    .dataframe tbody tr th:only-of-type {\n",
       "        vertical-align: middle;\n",
       "    }\n",
       "\n",
       "    .dataframe tbody tr th {\n",
       "        vertical-align: top;\n",
       "    }\n",
       "\n",
       "    .dataframe thead th {\n",
       "        text-align: right;\n",
       "    }\n",
       "</style>\n",
       "<table border=\"1\" class=\"dataframe\">\n",
       "  <thead>\n",
       "    <tr style=\"text-align: right;\">\n",
       "      <th></th>\n",
       "      <th>index</th>\n",
       "      <th>FEA_1</th>\n",
       "      <th>FEA_2</th>\n",
       "      <th>FEA_3</th>\n",
       "      <th>FEA_4</th>\n",
       "      <th>FEA_5</th>\n",
       "      <th>FEA_6</th>\n",
       "      <th>FEA_7</th>\n",
       "      <th>FEA_8</th>\n",
       "      <th>FEA_9</th>\n",
       "      <th>FEA_10</th>\n",
       "      <th>FEA_11</th>\n",
       "    </tr>\n",
       "  </thead>\n",
       "  <tbody>\n",
       "    <tr>\n",
       "      <th>0</th>\n",
       "      <td>0</td>\n",
       "      <td>1.097352</td>\n",
       "      <td>0.416866</td>\n",
       "      <td>3.0</td>\n",
       "      <td>0.091809</td>\n",
       "      <td>2.0</td>\n",
       "      <td>11.0</td>\n",
       "      <td>0.056269</td>\n",
       "      <td>0.183361</td>\n",
       "      <td>3.0</td>\n",
       "      <td>-0.087361</td>\n",
       "      <td>0.233161</td>\n",
       "    </tr>\n",
       "    <tr>\n",
       "      <th>1</th>\n",
       "      <td>1</td>\n",
       "      <td>1.097352</td>\n",
       "      <td>0.510247</td>\n",
       "      <td>3.0</td>\n",
       "      <td>4.288361</td>\n",
       "      <td>2.0</td>\n",
       "      <td>11.0</td>\n",
       "      <td>1.403133</td>\n",
       "      <td>-1.318688</td>\n",
       "      <td>5.0</td>\n",
       "      <td>-0.686229</td>\n",
       "      <td>2.241331</td>\n",
       "    </tr>\n",
       "    <tr>\n",
       "      <th>2</th>\n",
       "      <td>2</td>\n",
       "      <td>-0.349070</td>\n",
       "      <td>-0.143420</td>\n",
       "      <td>1.0</td>\n",
       "      <td>0.238858</td>\n",
       "      <td>2.0</td>\n",
       "      <td>15.0</td>\n",
       "      <td>-1.964028</td>\n",
       "      <td>0.850939</td>\n",
       "      <td>4.0</td>\n",
       "      <td>1.871948</td>\n",
       "      <td>0.555094</td>\n",
       "    </tr>\n",
       "    <tr>\n",
       "      <th>3</th>\n",
       "      <td>3</td>\n",
       "      <td>1.097352</td>\n",
       "      <td>-0.765960</td>\n",
       "      <td>3.0</td>\n",
       "      <td>-0.564256</td>\n",
       "      <td>1.0</td>\n",
       "      <td>11.0</td>\n",
       "      <td>1.403133</td>\n",
       "      <td>-0.484216</td>\n",
       "      <td>4.0</td>\n",
       "      <td>-0.686065</td>\n",
       "      <td>0.584161</td>\n",
       "    </tr>\n",
       "    <tr>\n",
       "      <th>4</th>\n",
       "      <td>4</td>\n",
       "      <td>1.097352</td>\n",
       "      <td>-0.890468</td>\n",
       "      <td>3.0</td>\n",
       "      <td>-0.654748</td>\n",
       "      <td>2.0</td>\n",
       "      <td>11.0</td>\n",
       "      <td>0.056269</td>\n",
       "      <td>0.934386</td>\n",
       "      <td>4.0</td>\n",
       "      <td>-0.685862</td>\n",
       "      <td>-1.190396</td>\n",
       "    </tr>\n",
       "  </tbody>\n",
       "</table>\n",
       "</div>"
      ],
      "text/plain": [
       "   index     FEA_1     FEA_2  FEA_3     FEA_4  FEA_5  FEA_6     FEA_7  \\\n",
       "0      0  1.097352  0.416866    3.0  0.091809    2.0   11.0  0.056269   \n",
       "1      1  1.097352  0.510247    3.0  4.288361    2.0   11.0  1.403133   \n",
       "2      2 -0.349070 -0.143420    1.0  0.238858    2.0   15.0 -1.964028   \n",
       "3      3  1.097352 -0.765960    3.0 -0.564256    1.0   11.0  1.403133   \n",
       "4      4  1.097352 -0.890468    3.0 -0.654748    2.0   11.0  0.056269   \n",
       "\n",
       "      FEA_8  FEA_9    FEA_10    FEA_11  \n",
       "0  0.183361    3.0 -0.087361  0.233161  \n",
       "1 -1.318688    5.0 -0.686229  2.241331  \n",
       "2  0.850939    4.0  1.871948  0.555094  \n",
       "3 -0.484216    4.0 -0.686065  0.584161  \n",
       "4  0.934386    4.0 -0.685862 -1.190396  "
      ]
     },
     "execution_count": 24,
     "metadata": {},
     "output_type": "execute_result"
    }
   ],
   "source": [
    "X_train.head()"
   ]
  },
  {
   "cell_type": "code",
   "execution_count": 25,
   "id": "ed941045",
   "metadata": {},
   "outputs": [
    {
     "data": {
      "text/html": [
       "<div>\n",
       "<style scoped>\n",
       "    .dataframe tbody tr th:only-of-type {\n",
       "        vertical-align: middle;\n",
       "    }\n",
       "\n",
       "    .dataframe tbody tr th {\n",
       "        vertical-align: top;\n",
       "    }\n",
       "\n",
       "    .dataframe thead th {\n",
       "        text-align: right;\n",
       "    }\n",
       "</style>\n",
       "<table border=\"1\" class=\"dataframe\">\n",
       "  <thead>\n",
       "    <tr style=\"text-align: right;\">\n",
       "      <th></th>\n",
       "      <th>index</th>\n",
       "      <th>LABEL</th>\n",
       "    </tr>\n",
       "  </thead>\n",
       "  <tbody>\n",
       "    <tr>\n",
       "      <th>0</th>\n",
       "      <td>0</td>\n",
       "      <td>0.0</td>\n",
       "    </tr>\n",
       "    <tr>\n",
       "      <th>1</th>\n",
       "      <td>1</td>\n",
       "      <td>1.0</td>\n",
       "    </tr>\n",
       "    <tr>\n",
       "      <th>2</th>\n",
       "      <td>2</td>\n",
       "      <td>0.0</td>\n",
       "    </tr>\n",
       "    <tr>\n",
       "      <th>3</th>\n",
       "      <td>3</td>\n",
       "      <td>0.0</td>\n",
       "    </tr>\n",
       "    <tr>\n",
       "      <th>4</th>\n",
       "      <td>4</td>\n",
       "      <td>0.0</td>\n",
       "    </tr>\n",
       "  </tbody>\n",
       "</table>\n",
       "</div>"
      ],
      "text/plain": [
       "   index  LABEL\n",
       "0      0    0.0\n",
       "1      1    1.0\n",
       "2      2    0.0\n",
       "3      3    0.0\n",
       "4      4    0.0"
      ]
     },
     "execution_count": 25,
     "metadata": {},
     "output_type": "execute_result"
    }
   ],
   "source": [
    "y_train.head()"
   ]
  },
  {
   "cell_type": "code",
   "execution_count": 26,
   "id": "44d683f6",
   "metadata": {},
   "outputs": [
    {
     "name": "stdout",
     "output_type": "stream",
     "text": [
      "Shape of Train features :- (956, 12)\n",
      "Shape of Test features  :- (169, 12)\n",
      "Shape of Train Target   :- (956, 2)\n",
      "Shape of Test Target    :- (169, 2)\n"
     ]
    }
   ],
   "source": [
    "X_train.reset_index(inplace=True)\n",
    "X_test.reset_index(inplace=True)\n",
    "y_train.reset_index(inplace=True)\n",
    "y_test.reset_index(inplace=True)\n",
    "\n",
    "X_train.drop(columns=['index'],axis=1,inplace=True)\n",
    "X_test.drop(columns=['index'],axis=1,inplace=True)\n",
    "y_train.drop(columns=['index'],axis=1,inplace=True)\n",
    "y_test.drop(columns=['index'],axis=1,inplace=True)\n",
    "\n",
    "print('Shape of Train features :-',X_train.shape)\n",
    "print('Shape of Test features  :-',X_test.shape)\n",
    "\n",
    "print('Shape of Train Target   :-',y_train.shape)\n",
    "print('Shape of Test Target    :-',y_test.shape)\n",
    "y_train = y_train['LABEL'].copy()\n",
    "y_test = y_test['LABEL'].copy()"
   ]
  },
  {
   "cell_type": "markdown",
   "id": "db3aa106",
   "metadata": {},
   "source": [
    "# Random Forest Classifier"
   ]
  },
  {
   "cell_type": "code",
   "execution_count": 38,
   "id": "0c77fe39",
   "metadata": {},
   "outputs": [],
   "source": [
    "forest_model = RandomForestClassifier(random_state=1)\n",
    "forest_model.fit(X_train, y_train)\n",
    "y_pred =forest_model.predict(X_test)"
   ]
  },
  {
   "cell_type": "code",
   "execution_count": 39,
   "id": "ae5033e0",
   "metadata": {
    "scrolled": true
   },
   "outputs": [
    {
     "data": {
      "image/png": "[encoded data removed]",
      "text/plain": [
       "<Figure size 432x288 with 2 Axes>"
      ]
     },
     "metadata": {
      "needs_background": "light"
     },
     "output_type": "display_data"
    }
   ],
   "source": [
    "n_errors = (y_pred != y_test).sum()\n",
    "LABELS = ['GOOD', 'BAD']\n",
    "conf_matrix = confusion_matrix(y_test, y_pred.round())\n",
    "plt.figure(figsize=(6, 4))\n",
    "sns.heatmap(conf_matrix, xticklabels=LABELS, yticklabels=LABELS, annot=True, fmt=\"d\");\n",
    "plt.title(\"Confusion matrix\")\n",
    "plt.ylabel('True class')\n",
    "plt.xlabel('Predicted class')\n",
    "plt.show()"
   ]
  },
  {
   "cell_type": "markdown",
   "id": "eb90bd9a",
   "metadata": {},
   "source": [
    "# XGBoost"
   ]
  },
  {
   "cell_type": "code",
   "execution_count": 40,
   "id": "d83a6899",
   "metadata": {},
   "outputs": [],
   "source": [
    "xgb_model = XGBClassifier(random_state=1)\n",
    "xgb_model.fit(X_train, y_train)\n",
    "y_pred =xgb_model.predict(X_test)"
   ]
  },
  {
   "cell_type": "code",
   "execution_count": 41,
   "id": "e530401c",
   "metadata": {},
   "outputs": [
    {
     "data": {
      "image/png": "[encoded data removed]",
      "text/plain": [
       "<Figure size 432x288 with 2 Axes>"
      ]
     },
     "metadata": {
      "needs_background": "light"
     },
     "output_type": "display_data"
    }
   ],
   "source": [
    "n_errors = (y_pred != y_test).sum()\n",
    "LABELS = ['GOOD', 'BAD']\n",
    "conf_matrix = confusion_matrix(y_test, y_pred.round())\n",
    "plt.figure(figsize=(6, 4))\n",
    "sns.heatmap(conf_matrix, xticklabels=LABELS, yticklabels=LABELS, annot=True, fmt=\"d\");\n",
    "plt.title(\"Confusion matrix\")\n",
    "plt.ylabel('True class')\n",
    "plt.xlabel('Predicted class')\n",
    "plt.show()"
   ]
  },
  {
   "cell_type": "markdown",
   "id": "598b1cbe",
   "metadata": {},
   "source": [
    "# Defining Hyperparameters for Model"
   ]
  },
  {
   "cell_type": "code",
   "execution_count": 68,
   "id": "c75ca582",
   "metadata": {},
   "outputs": [],
   "source": [
    "n_estimators = [5,20,50,100,200] # number of trees in the random forest\n",
    "max_depth = [int(x) for x in np.linspace(5, 20, num = 5)] # maximum number of levels allowed in each decision tree\n",
    "min_samples_split = [2, 6, 10, 50, 100] # minimum sample number to split a node\n",
    "min_samples_leaf = [1, 3, 4,5,10] # minimum sample number that can be stored in a leaf node\n",
    "bootstrap = [True, False] # method used to sample data points\n",
    "\n",
    "random_grid = {'n_estimators': n_estimators,\n",
    "'max_depth': max_depth,\n",
    "'min_samples_split': min_samples_split,\n",
    "'min_samples_leaf': min_samples_leaf,\n",
    "'bootstrap': bootstrap}"
   ]
  },
  {
   "cell_type": "code",
   "execution_count": 69,
   "id": "4ae12ca7",
   "metadata": {},
   "outputs": [],
   "source": [
    "rf = RandomForestClassifier()"
   ]
  },
  {
   "cell_type": "code",
   "execution_count": 66,
   "id": "87aa07db",
   "metadata": {},
   "outputs": [],
   "source": [
    "from sklearn.model_selection import RandomizedSearchCV\n",
    "rf_random = RandomizedSearchCV(estimator = rf,param_distributions = random_grid,\n",
    "               n_iter = 100, cv = 5, verbose=2, random_state=35, n_jobs = -1)"
   ]
  },
  {
   "cell_type": "code",
   "execution_count": 67,
   "id": "660dd425",
   "metadata": {},
   "outputs": [
    {
     "name": "stdout",
     "output_type": "stream",
     "text": [
      "Fitting 5 folds for each of 100 candidates, totalling 500 fits\n"
     ]
    },
    {
     "name": "stderr",
     "output_type": "stream",
     "text": [
      "/opt/conda/lib/python3.9/site-packages/sklearn/model_selection/_validation.py:425: FitFailedWarning: \n",
      "235 fits failed out of a total of 500.\n",
      "The score on these train-test partitions for these parameters will be set to nan.\n",
      "If these failures are not expected, you can try to debug them by setting error_score='raise'.\n",
      "\n",
      "Below are more details about the failures:\n",
      "--------------------------------------------------------------------------------\n",
      "95 fits failed with the following error:\n",
      "Traceback (most recent call last):\n",
      "  File \"/opt/conda/lib/python3.9/site-packages/sklearn/model_selection/_validation.py\", line 729, in _fit_and_score\n",
      "    estimator.fit(X_train, y_train, **fit_params)\n",
      "  File \"/opt/conda/lib/python3.9/site-packages/sklearn/base.py\", line 1145, in wrapper\n",
      "    estimator._validate_params()\n",
      "  File \"/opt/conda/lib/python3.9/site-packages/sklearn/base.py\", line 638, in _validate_params\n",
      "    validate_parameter_constraints(\n",
      "  File \"/opt/conda/lib/python3.9/site-packages/sklearn/utils/_param_validation.py\", line 96, in validate_parameter_constraints\n",
      "    raise InvalidParameterError(\n",
      "sklearn.utils._param_validation.InvalidParameterError: The 'max_features' parameter of RandomForestClassifier must be an int in the range [1, inf), a float in the range (0.0, 1.0], a str among {'sqrt', 'log2'} or None. Got 'auto' instead.\n",
      "\n",
      "--------------------------------------------------------------------------------\n",
      "140 fits failed with the following error:\n",
      "Traceback (most recent call last):\n",
      "  File \"/opt/conda/lib/python3.9/site-packages/sklearn/model_selection/_validation.py\", line 729, in _fit_and_score\n",
      "    estimator.fit(X_train, y_train, **fit_params)\n",
      "  File \"/opt/conda/lib/python3.9/site-packages/sklearn/base.py\", line 1145, in wrapper\n",
      "    estimator._validate_params()\n",
      "  File \"/opt/conda/lib/python3.9/site-packages/sklearn/base.py\", line 638, in _validate_params\n",
      "    validate_parameter_constraints(\n",
      "  File \"/opt/conda/lib/python3.9/site-packages/sklearn/utils/_param_validation.py\", line 96, in validate_parameter_constraints\n",
      "    raise InvalidParameterError(\n",
      "sklearn.utils._param_validation.InvalidParameterError: The 'max_features' parameter of RandomForestClassifier must be an int in the range [1, inf), a float in the range (0.0, 1.0], a str among {'log2', 'sqrt'} or None. Got 'auto' instead.\n",
      "\n",
      "  warnings.warn(some_fits_failed_message, FitFailedWarning)\n",
      "/opt/conda/lib/python3.9/site-packages/sklearn/model_selection/_search.py:979: UserWarning: One or more of the test scores are non-finite: [       nan 0.79392997        nan        nan        nan        nan\n",
      "        nan 0.79602967        nan 0.79393543 0.79498255 0.79707134\n",
      "        nan 0.79916558        nan        nan 0.79916558        nan\n",
      " 0.79707679        nan 0.78868892 0.79916558        nan        nan\n",
      "        nan 0.79288285 0.79708224 0.77090969        nan        nan\n",
      " 0.7928774  0.79707679 0.79916558        nan 0.80124891        nan\n",
      "        nan 0.79916558        nan 0.79497164        nan        nan\n",
      " 0.79811846        nan 0.79392997 0.79916558 0.79393543 0.78661649\n",
      "        nan 0.78136998 0.79916558        nan        nan 0.79602421\n",
      " 0.79916558 0.79706588        nan        nan 0.79288831 0.79916558\n",
      "        nan 0.79707134        nan 0.79916558 0.79916558        nan\n",
      " 0.798113   0.79602967        nan 0.79916558        nan        nan\n",
      "        nan        nan 0.79916558        nan 0.79078861 0.7876418\n",
      " 0.8002127  0.79811846 0.7792812  0.79916558 0.79811846        nan\n",
      "        nan        nan 0.79707134 0.79184119 0.79184119 0.79916558\n",
      " 0.79602967 0.79707134        nan 0.79916558 0.79916558        nan\n",
      "        nan        nan        nan        nan]\n",
      "  warnings.warn(\n"
     ]
    },
    {
     "data": {
      "text/html": [
       "<style>#sk-container-id-7 {color: black;}#sk-container-id-7 pre{padding: 0;}#sk-container-id-7 div.sk-toggleable {background-color: white;}#sk-container-id-7 label.sk-toggleable__label {cursor: pointer;display: block;width: 100%;margin-bottom: 0;padding: 0.3em;box-sizing: border-box;text-align: center;}#sk-container-id-7 label.sk-toggleable__label-arrow:before {content: \"▸\";float: left;margin-right: 0.25em;color: #696969;}#sk-container-id-7 label.sk-toggleable__label-arrow:hover:before {color: black;}#sk-container-id-7 div.sk-estimator:hover label.sk-toggleable__label-arrow:before {color: black;}#sk-container-id-7 div.sk-toggleable__content {max-height: 0;max-width: 0;overflow: hidden;text-align: left;background-color: #f0f8ff;}#sk-container-id-7 div.sk-toggleable__content pre {margin: 0.2em;color: black;border-radius: 0.25em;background-color: #f0f8ff;}#sk-container-id-7 input.sk-toggleable__control:checked~div.sk-toggleable__content {max-height: 200px;max-width: 100%;overflow: auto;}#sk-container-id-7 input.sk-toggleable__control:checked~label.sk-toggleable__label-arrow:before {content: \"▾\";}#sk-container-id-7 div.sk-estimator input.sk-toggleable__control:checked~label.sk-toggleable__label {background-color: #d4ebff;}#sk-container-id-7 div.sk-label input.sk-toggleable__control:checked~label.sk-toggleable__label {background-color: #d4ebff;}#sk-container-id-7 input.sk-hidden--visually {border: 0;clip: rect(1px 1px 1px 1px);clip: rect(1px, 1px, 1px, 1px);height: 1px;margin: -1px;overflow: hidden;padding: 0;position: absolute;width: 1px;}#sk-container-id-7 div.sk-estimator {font-family: monospace;background-color: #f0f8ff;border: 1px dotted black;border-radius: 0.25em;box-sizing: border-box;margin-bottom: 0.5em;}#sk-container-id-7 div.sk-estimator:hover {background-color: #d4ebff;}#sk-container-id-7 div.sk-parallel-item::after {content: \"\";width: 100%;border-bottom: 1px solid gray;flex-grow: 1;}#sk-container-id-7 div.sk-label:hover label.sk-toggleable__label {background-color: #d4ebff;}#sk-container-id-7 div.sk-serial::before {content: \"\";position: absolute;border-left: 1px solid gray;box-sizing: border-box;top: 0;bottom: 0;left: 50%;z-index: 0;}#sk-container-id-7 div.sk-serial {display: flex;flex-direction: column;align-items: center;background-color: white;padding-right: 0.2em;padding-left: 0.2em;position: relative;}#sk-container-id-7 div.sk-item {position: relative;z-index: 1;}#sk-container-id-7 div.sk-parallel {display: flex;align-items: stretch;justify-content: center;background-color: white;position: relative;}#sk-container-id-7 div.sk-item::before, #sk-container-id-7 div.sk-parallel-item::before {content: \"\";position: absolute;border-left: 1px solid gray;box-sizing: border-box;top: 0;bottom: 0;left: 50%;z-index: -1;}#sk-container-id-7 div.sk-parallel-item {display: flex;flex-direction: column;z-index: 1;position: relative;background-color: white;}#sk-container-id-7 div.sk-parallel-item:first-child::after {align-self: flex-end;width: 50%;}#sk-container-id-7 div.sk-parallel-item:last-child::after {align-self: flex-start;width: 50%;}#sk-container-id-7 div.sk-parallel-item:only-child::after {width: 0;}#sk-container-id-7 div.sk-dashed-wrapped {border: 1px dashed gray;margin: 0 0.4em 0.5em 0.4em;box-sizing: border-box;padding-bottom: 0.4em;background-color: white;}#sk-container-id-7 div.sk-label label {font-family: monospace;font-weight: bold;display: inline-block;line-height: 1.2em;}#sk-container-id-7 div.sk-label-container {text-align: center;}#sk-container-id-7 div.sk-container {/* jupyter's `normalize.less` sets `[hidden] { display: none; }` but bootstrap.min.css set `[hidden] { display: none !important; }` so we also need the `!important` here to be able to override the default hidden behavior on the sphinx rendered scikit-learn.org. See: https://github.com/scikit-learn/scikit-learn/issues/21755 */display: inline-block !important;position: relative;}#sk-container-id-7 div.sk-text-repr-fallback {display: none;}</style><div id=\"sk-container-id-7\" class=\"sk-top-container\"><div class=\"sk-text-repr-fallback\"><pre>RandomizedSearchCV(cv=5, estimator=RandomForestClassifier(), n_iter=100,\n",
       "                   n_jobs=-1,\n",
       "                   param_distributions={&#x27;bootstrap&#x27;: [True, False],\n",
       "                                        &#x27;max_depth&#x27;: [5, 8, 12, 16, 20],\n",
       "                                        &#x27;max_features&#x27;: [&#x27;auto&#x27;, &#x27;sqrt&#x27;],\n",
       "                                        &#x27;min_samples_leaf&#x27;: [1, 3, 4, 5, 10],\n",
       "                                        &#x27;min_samples_split&#x27;: [2, 6, 10, 50,\n",
       "                                                              100],\n",
       "                                        &#x27;n_estimators&#x27;: [5, 20, 50, 100, 200]},\n",
       "                   random_state=35, verbose=2)</pre><b>In a Jupyter environment, please rerun this cell to show the HTML representation or trust the notebook. <br />On GitHub, the HTML representation is unable to render, please try loading this page with nbviewer.org.</b></div><div class=\"sk-container\" hidden><div class=\"sk-item sk-dashed-wrapped\"><div class=\"sk-label-container\"><div class=\"sk-label sk-toggleable\"><input class=\"sk-toggleable__control sk-hidden--visually\" id=\"sk-estimator-id-13\" type=\"checkbox\" ><label for=\"sk-estimator-id-13\" class=\"sk-toggleable__label sk-toggleable__label-arrow\">RandomizedSearchCV</label><div class=\"sk-toggleable__content\"><pre>RandomizedSearchCV(cv=5, estimator=RandomForestClassifier(), n_iter=100,\n",
       "                   n_jobs=-1,\n",
       "                   param_distributions={&#x27;bootstrap&#x27;: [True, False],\n",
       "                                        &#x27;max_depth&#x27;: [5, 8, 12, 16, 20],\n",
       "                                        &#x27;max_features&#x27;: [&#x27;auto&#x27;, &#x27;sqrt&#x27;],\n",
       "                                        &#x27;min_samples_leaf&#x27;: [1, 3, 4, 5, 10],\n",
       "                                        &#x27;min_samples_split&#x27;: [2, 6, 10, 50,\n",
       "                                                              100],\n",
       "                                        &#x27;n_estimators&#x27;: [5, 20, 50, 100, 200]},\n",
       "                   random_state=35, verbose=2)</pre></div></div></div><div class=\"sk-parallel\"><div class=\"sk-parallel-item\"><div class=\"sk-item\"><div class=\"sk-label-container\"><div class=\"sk-label sk-toggleable\"><input class=\"sk-toggleable__control sk-hidden--visually\" id=\"sk-estimator-id-14\" type=\"checkbox\" ><label for=\"sk-estimator-id-14\" class=\"sk-toggleable__label sk-toggleable__label-arrow\">estimator: RandomForestClassifier</label><div class=\"sk-toggleable__content\"><pre>RandomForestClassifier()</pre></div></div></div><div class=\"sk-serial\"><div class=\"sk-item\"><div class=\"sk-estimator sk-toggleable\"><input class=\"sk-toggleable__control sk-hidden--visually\" id=\"sk-estimator-id-15\" type=\"checkbox\" ><label for=\"sk-estimator-id-15\" class=\"sk-toggleable__label sk-toggleable__label-arrow\">RandomForestClassifier</label><div class=\"sk-toggleable__content\"><pre>RandomForestClassifier()</pre></div></div></div></div></div></div></div></div></div></div>"
      ],
      "text/plain": [
       "RandomizedSearchCV(cv=5, estimator=RandomForestClassifier(), n_iter=100,\n",
       "                   n_jobs=-1,\n",
       "                   param_distributions={'bootstrap': [True, False],\n",
       "                                        'max_depth': [5, 8, 12, 16, 20],\n",
       "                                        'max_features': ['auto', 'sqrt'],\n",
       "                                        'min_samples_leaf': [1, 3, 4, 5, 10],\n",
       "                                        'min_samples_split': [2, 6, 10, 50,\n",
       "                                                              100],\n",
       "                                        'n_estimators': [5, 20, 50, 100, 200]},\n",
       "                   random_state=35, verbose=2)"
      ]
     },
     "execution_count": 67,
     "metadata": {},
     "output_type": "execute_result"
    }
   ],
   "source": [
    "rf_random.fit(X_train, y_train)"
   ]
  },
  {
   "cell_type": "code",
   "execution_count": 60,
   "id": "af1beb2e",
   "metadata": {},
   "outputs": [
    {
     "name": "stdout",
     "output_type": "stream",
     "text": [
      "Random grid:  {'n_estimators': [5, 20, 50, 100, 200], 'max_features': ['auto', 'sqrt'], 'max_depth': [10, 14, 19, 24, 28, 33, 38, 43, 47, 52, 57, 62, 66, 71, 76, 81, 85, 90, 95, 100], 'min_samples_split': [2, 6, 10, 50, 100], 'min_samples_leaf': [1, 3, 4, 5, 10], 'bootstrap': [True, False]} \n",
      "\n",
      "Best Parameters:  {'n_estimators': 5, 'min_samples_split': 50, 'min_samples_leaf': 10, 'max_features': 'sqrt', 'max_depth': 66, 'bootstrap': False}  \n",
      "\n"
     ]
    }
   ],
   "source": [
    "print ('Random grid: ', random_grid, '\\n')\n",
    "# print the best parameters\n",
    "print ('Best Parameters: ', rf_random.best_params_, ' \\n')"
   ]
  },
  {
   "cell_type": "code",
   "execution_count": 62,
   "id": "923389c5",
   "metadata": {
    "scrolled": true
   },
   "outputs": [
    {
     "data": {
      "text/html": [
       "<style>#sk-container-id-6 {color: black;}#sk-container-id-6 pre{padding: 0;}#sk-container-id-6 div.sk-toggleable {background-color: white;}#sk-container-id-6 label.sk-toggleable__label {cursor: pointer;display: block;width: 100%;margin-bottom: 0;padding: 0.3em;box-sizing: border-box;text-align: center;}#sk-container-id-6 label.sk-toggleable__label-arrow:before {content: \"▸\";float: left;margin-right: 0.25em;color: #696969;}#sk-container-id-6 label.sk-toggleable__label-arrow:hover:before {color: black;}#sk-container-id-6 div.sk-estimator:hover label.sk-toggleable__label-arrow:before {color: black;}#sk-container-id-6 div.sk-toggleable__content {max-height: 0;max-width: 0;overflow: hidden;text-align: left;background-color: #f0f8ff;}#sk-container-id-6 div.sk-toggleable__content pre {margin: 0.2em;color: black;border-radius: 0.25em;background-color: #f0f8ff;}#sk-container-id-6 input.sk-toggleable__control:checked~div.sk-toggleable__content {max-height: 200px;max-width: 100%;overflow: auto;}#sk-container-id-6 input.sk-toggleable__control:checked~label.sk-toggleable__label-arrow:before {content: \"▾\";}#sk-container-id-6 div.sk-estimator input.sk-toggleable__control:checked~label.sk-toggleable__label {background-color: #d4ebff;}#sk-container-id-6 div.sk-label input.sk-toggleable__control:checked~label.sk-toggleable__label {background-color: #d4ebff;}#sk-container-id-6 input.sk-hidden--visually {border: 0;clip: rect(1px 1px 1px 1px);clip: rect(1px, 1px, 1px, 1px);height: 1px;margin: -1px;overflow: hidden;padding: 0;position: absolute;width: 1px;}#sk-container-id-6 div.sk-estimator {font-family: monospace;background-color: #f0f8ff;border: 1px dotted black;border-radius: 0.25em;box-sizing: border-box;margin-bottom: 0.5em;}#sk-container-id-6 div.sk-estimator:hover {background-color: #d4ebff;}#sk-container-id-6 div.sk-parallel-item::after {content: \"\";width: 100%;border-bottom: 1px solid gray;flex-grow: 1;}#sk-container-id-6 div.sk-label:hover label.sk-toggleable__label {background-color: #d4ebff;}#sk-container-id-6 div.sk-serial::before {content: \"\";position: absolute;border-left: 1px solid gray;box-sizing: border-box;top: 0;bottom: 0;left: 50%;z-index: 0;}#sk-container-id-6 div.sk-serial {display: flex;flex-direction: column;align-items: center;background-color: white;padding-right: 0.2em;padding-left: 0.2em;position: relative;}#sk-container-id-6 div.sk-item {position: relative;z-index: 1;}#sk-container-id-6 div.sk-parallel {display: flex;align-items: stretch;justify-content: center;background-color: white;position: relative;}#sk-container-id-6 div.sk-item::before, #sk-container-id-6 div.sk-parallel-item::before {content: \"\";position: absolute;border-left: 1px solid gray;box-sizing: border-box;top: 0;bottom: 0;left: 50%;z-index: -1;}#sk-container-id-6 div.sk-parallel-item {display: flex;flex-direction: column;z-index: 1;position: relative;background-color: white;}#sk-container-id-6 div.sk-parallel-item:first-child::after {align-self: flex-end;width: 50%;}#sk-container-id-6 div.sk-parallel-item:last-child::after {align-self: flex-start;width: 50%;}#sk-container-id-6 div.sk-parallel-item:only-child::after {width: 0;}#sk-container-id-6 div.sk-dashed-wrapped {border: 1px dashed gray;margin: 0 0.4em 0.5em 0.4em;box-sizing: border-box;padding-bottom: 0.4em;background-color: white;}#sk-container-id-6 div.sk-label label {font-family: monospace;font-weight: bold;display: inline-block;line-height: 1.2em;}#sk-container-id-6 div.sk-label-container {text-align: center;}#sk-container-id-6 div.sk-container {/* jupyter's `normalize.less` sets `[hidden] { display: none; }` but bootstrap.min.css set `[hidden] { display: none !important; }` so we also need the `!important` here to be able to override the default hidden behavior on the sphinx rendered scikit-learn.org. See: https://github.com/scikit-learn/scikit-learn/issues/21755 */display: inline-block !important;position: relative;}#sk-container-id-6 div.sk-text-repr-fallback {display: none;}</style><div id=\"sk-container-id-6\" class=\"sk-top-container\"><div class=\"sk-text-repr-fallback\"><pre>RandomForestClassifier(bootstrap=False, max_depth=66, min_samples_leaf=10,\n",
       "                       min_samples_split=50, n_estimators=5)</pre><b>In a Jupyter environment, please rerun this cell to show the HTML representation or trust the notebook. <br />On GitHub, the HTML representation is unable to render, please try loading this page with nbviewer.org.</b></div><div class=\"sk-container\" hidden><div class=\"sk-item\"><div class=\"sk-estimator sk-toggleable\"><input class=\"sk-toggleable__control sk-hidden--visually\" id=\"sk-estimator-id-12\" type=\"checkbox\" checked><label for=\"sk-estimator-id-12\" class=\"sk-toggleable__label sk-toggleable__label-arrow\">RandomForestClassifier</label><div class=\"sk-toggleable__content\"><pre>RandomForestClassifier(bootstrap=False, max_depth=66, min_samples_leaf=10,\n",
       "                       min_samples_split=50, n_estimators=5)</pre></div></div></div></div></div>"
      ],
      "text/plain": [
       "RandomForestClassifier(bootstrap=False, max_depth=66, min_samples_leaf=10,\n",
       "                       min_samples_split=50, n_estimators=5)"
      ]
     },
     "execution_count": 62,
     "metadata": {},
     "output_type": "execute_result"
    }
   ],
   "source": [
    "#Use the best parameter\n",
    "randmf = RandomForestClassifier(n_estimators = 5, min_samples_split = 50, min_samples_leaf= 10, max_features = 'sqrt', max_depth= 66, bootstrap=False) \n",
    "randmf.fit( X_train, y_train) "
   ]
  },
  {
   "cell_type": "code",
   "execution_count": 63,
   "id": "887c8dcc",
   "metadata": {},
   "outputs": [
    {
     "data": {
      "image/png": "[encoded data removed]",
      "text/plain": [
       "<Figure size 432x288 with 2 Axes>"
      ]
     },
     "metadata": {
      "needs_background": "light"
     },
     "output_type": "display_data"
    }
   ],
   "source": [
    "y_pred =randmf.predict(X_test)\n",
    "n_errors = (y_pred != y_test).sum()\n",
    "LABELS = ['GOOD', 'BAD']\n",
    "conf_matrix = confusion_matrix(y_test, y_pred.round())\n",
    "plt.figure(figsize=(6, 4))\n",
    "sns.heatmap(conf_matrix, xticklabels=LABELS, yticklabels=LABELS, annot=True, fmt=\"d\");\n",
    "plt.title(\"Confusion matrix\")\n",
    "plt.ylabel('True class')\n",
    "plt.xlabel('Predicted class')\n",
    "plt.show()"
   ]
  }
 ],
 "metadata": {
  "kernelspec": {
   "display_name": "Python 3",
   "language": "python",
   "name": "python3"
  },
  "language_info": {
   "codemirror_mode": {
    "name": "ipython",
    "version": 3
   },
   "file_extension": ".py",
   "mimetype": "text/x-python",
   "name": "python",
   "nbconvert_exporter": "python",
   "pygments_lexer": "ipython3",
   "version": "3.9.18"
  }
 },
 "nbformat": 4,
 "nbformat_minor": 5
}
