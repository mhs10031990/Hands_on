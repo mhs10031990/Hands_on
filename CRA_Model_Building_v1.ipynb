{
 "cells": [
  {
   "cell_type": "code",
   "execution_count": 7,
   "id": "d8bd62d3",
   "metadata": {},
   "outputs": [],
   "source": [
    "from snowflake.snowpark import Session\n",
    "import configparser"
   ]
  },
  {
   "cell_type": "code",
   "execution_count": 2,
   "id": "32837b36",
   "metadata": {},
   "outputs": [
    {
     "name": "stderr",
     "output_type": "stream",
     "text": [
      "Matplotlib created a temporary config/cache directory at /tmp/matplotlib-x366r5vt because the default path (/home/mosaic-ai/.cache/matplotlib) is not a writable directory; it is highly recommended to set the MPLCONFIGDIR environment variable to a writable directory, in particular to speed up the import of Matplotlib and to better support multiprocessing.\n"
     ]
    }
   ],
   "source": [
    "import pandas as pd\n",
    "import numpy as np\n",
    "import matplotlib.pyplot as plt\n",
    "import matplotlib\n",
    "from sklearn.ensemble import RandomForestClassifier\n",
    "from sklearn.model_selection import StratifiedKFold\n",
    "from sklearn.metrics import roc_curve, auc\n",
    "%matplotlib inline\n",
    "matplotlib.rcParams.update({'font.size': 20})"
   ]
  },
  {
   "cell_type": "markdown",
   "id": "d22ce04b",
   "metadata": {},
   "source": [
    "# Code to establish connection and read data from Snowflake"
   ]
  },
  {
   "cell_type": "code",
   "execution_count": 8,
   "id": "c256fe2a",
   "metadata": {},
   "outputs": [
    {
     "data": {
      "text/plain": [
       "['snowflake_connection.ini']"
      ]
     },
     "execution_count": 8,
     "metadata": {},
     "output_type": "execute_result"
    }
   ],
   "source": [
    "config = configparser.ConfigParser()\n",
    "config.read(\"snowflake_connection.ini\")"
   ]
  },
  {
   "cell_type": "code",
   "execution_count": 9,
   "id": "4864e1cb",
   "metadata": {},
   "outputs": [],
   "source": [
    "connection_parameters = {\n",
    "    \"user\": f'{config[\"Snowflake\"][\"user\"]}',\n",
    "    \"password\": f'{config[\"Snowflake\"][\"password\"]}',\n",
    "    #\"password\": os.getenv('snowflake_password'),\n",
    "    \"account\": f'{config[\"Snowflake\"][\"account\"]}',\n",
    "    #\"account\": os.getenv('snowflake_account'),\n",
    "    \"WAREHOUSE\": f'{config[\"Snowflake\"][\"WAREHOUSE\"]}',\n",
    "    \"DATABASE\": f'{config[\"Snowflake\"][\"DATABASE\"]}',\n",
    "    \"SCHEMA\": f'{config[\"Snowflake\"][\"SCHEMA\"]}'\n",
    "}"
   ]
  },
  {
   "cell_type": "code",
   "execution_count": 11,
   "id": "94d0200d",
   "metadata": {},
   "outputs": [
    {
     "name": "stdout",
     "output_type": "stream",
     "text": [
      "connection successful!\n"
     ]
    }
   ],
   "source": [
    "def snowflake_connector(conn):\n",
    "    try:\n",
    "        session = Session.builder.configs(conn).create()\n",
    "        print(\"connection successful!\")\n",
    "    except:\n",
    "        raise ValueError(\"error while connecting with db\")\n",
    "    return session\n",
    "\n",
    "session = snowflake_connector(connection_parameters)"
   ]
  },
  {
   "cell_type": "code",
   "execution_count": 17,
   "id": "8ebc2b66",
   "metadata": {},
   "outputs": [],
   "source": [
    "application_train_sf  = session.table(\"CRA_APPLICATION_TRAIN_DETAILS\")\n",
    "application_test_sf  = session.table(\"CRA_APPLICATION_TEST_DETAILS\")\n",
    "bureau_sf  = session.table(\"CRA_BUREAU_DETAILS\")\n",
    "bureau_balance_sf  = session.table(\"CRA_BUREAU_BALANCE_DETAILS\")\n",
    "credit_card_balance_sf  = session.table(\"CRA_CREDIT_CARD_BALANCE_DETAILS\")\n",
    "installments_payments_sf  = session.table(\"CRA_INSTALLMENTS_PAYMENTS_DETAILS\")\n",
    "previous_application_sf  = session.table(\"CRA_PREVIOUS_APPLICATION_DETAILS\")\n",
    "POS_CASH_balance_sf  = session.table(\"CRA_POS_CASH_BALANCE_DETAILS\")"
   ]
  },
  {
   "cell_type": "markdown",
   "id": "bd0b4b30",
   "metadata": {},
   "source": [
    "# Convert Snowflake data into Pandas dataframes"
   ]
  },
  {
   "cell_type": "code",
   "execution_count": 18,
   "id": "8b65c096",
   "metadata": {},
   "outputs": [],
   "source": [
    "df = application_train_sf.to_pandas()\n",
    "df_bureau = bureau_sf.to_pandas()\n",
    "df_previous_app = previous_application_sf.to_pandas()\n",
    "df_installments = installments_payments_sf.to_pandas()"
   ]
  },
  {
   "cell_type": "code",
   "execution_count": 19,
   "id": "8f1a2832",
   "metadata": {
    "scrolled": true
   },
   "outputs": [
    {
     "data": {
      "text/html": [
       "<div>\n",
       "<style scoped>\n",
       "    .dataframe tbody tr th:only-of-type {\n",
       "        vertical-align: middle;\n",
       "    }\n",
       "\n",
       "    .dataframe tbody tr th {\n",
       "        vertical-align: top;\n",
       "    }\n",
       "\n",
       "    .dataframe thead th {\n",
       "        text-align: right;\n",
       "    }\n",
       "</style>\n",
       "<table border=\"1\" class=\"dataframe\">\n",
       "  <thead>\n",
       "    <tr style=\"text-align: right;\">\n",
       "      <th></th>\n",
       "      <th>SK_ID_CURR</th>\n",
       "      <th>BUREAU_MAX_DAYS_CREDIT</th>\n",
       "      <th>BUREAU_MAX_DAYS_CREDIT_ENDDATE</th>\n",
       "      <th>BUREAU_MAX_DAYS_ENDDATE_FACT</th>\n",
       "    </tr>\n",
       "  </thead>\n",
       "  <tbody>\n",
       "    <tr>\n",
       "      <th>38229</th>\n",
       "      <td>203447</td>\n",
       "      <td>-265.0</td>\n",
       "      <td>1561.0</td>\n",
       "      <td>-231.0</td>\n",
       "    </tr>\n",
       "    <tr>\n",
       "      <th>29402</th>\n",
       "      <td>454911</td>\n",
       "      <td>-720.0</td>\n",
       "      <td>-364.0</td>\n",
       "      <td>-690.0</td>\n",
       "    </tr>\n",
       "    <tr>\n",
       "      <th>241834</th>\n",
       "      <td>174923</td>\n",
       "      <td>-134.0</td>\n",
       "      <td>844.0</td>\n",
       "      <td>-491.0</td>\n",
       "    </tr>\n",
       "  </tbody>\n",
       "</table>\n",
       "</div>"
      ],
      "text/plain": [
       "        SK_ID_CURR  BUREAU_MAX_DAYS_CREDIT  BUREAU_MAX_DAYS_CREDIT_ENDDATE  \\\n",
       "38229       203447                  -265.0                          1561.0   \n",
       "29402       454911                  -720.0                          -364.0   \n",
       "241834      174923                  -134.0                           844.0   \n",
       "\n",
       "        BUREAU_MAX_DAYS_ENDDATE_FACT  \n",
       "38229                         -231.0  \n",
       "29402                         -690.0  \n",
       "241834                        -491.0  "
      ]
     },
     "execution_count": 19,
     "metadata": {},
     "output_type": "execute_result"
    }
   ],
   "source": [
    "key = 'SK_ID_CURR'\n",
    "bureau_cols = ['DAYS_CREDIT', 'DAYS_CREDIT_ENDDATE', 'DAYS_ENDDATE_FACT']\n",
    "bureau_cols_max = ['BUREAU_MAX_' + c for c in bureau_cols]\n",
    "\n",
    "df = pd.merge(\n",
    "    left=df,\n",
    "    right=df_bureau[[key] + bureau_cols].groupby(key).max().rename(\n",
    "        columns=dict(zip(bureau_cols, bureau_cols_max))),\n",
    "    left_on=key,\n",
    "    right_index=True, \n",
    "    how='left'\n",
    ")\n",
    "\n",
    "# Example: sample of 3 loans\n",
    "df[[key] + bureau_cols_max].sample(3)"
   ]
  },
  {
   "cell_type": "code",
   "execution_count": 20,
   "id": "b701a6fb",
   "metadata": {},
   "outputs": [
    {
     "data": {
      "text/html": [
       "<div>\n",
       "<style scoped>\n",
       "    .dataframe tbody tr th:only-of-type {\n",
       "        vertical-align: middle;\n",
       "    }\n",
       "\n",
       "    .dataframe tbody tr th {\n",
       "        vertical-align: top;\n",
       "    }\n",
       "\n",
       "    .dataframe thead th {\n",
       "        text-align: right;\n",
       "    }\n",
       "</style>\n",
       "<table border=\"1\" class=\"dataframe\">\n",
       "  <thead>\n",
       "    <tr style=\"text-align: right;\">\n",
       "      <th></th>\n",
       "      <th>SK_ID_CURR</th>\n",
       "      <th>SK_ID_PREV</th>\n",
       "      <th>AMT_PAYMENT</th>\n",
       "    </tr>\n",
       "  </thead>\n",
       "  <tbody>\n",
       "    <tr>\n",
       "      <th>1531913</th>\n",
       "      <td>365597</td>\n",
       "      <td>2027447</td>\n",
       "      <td>14459.94</td>\n",
       "    </tr>\n",
       "    <tr>\n",
       "      <th>1616475</th>\n",
       "      <td>365597</td>\n",
       "      <td>1459607</td>\n",
       "      <td>5489.73</td>\n",
       "    </tr>\n",
       "  </tbody>\n",
       "</table>\n",
       "</div>"
      ],
      "text/plain": [
       "         SK_ID_CURR  SK_ID_PREV  AMT_PAYMENT\n",
       "1531913      365597     2027447     14459.94\n",
       "1616475      365597     1459607      5489.73"
      ]
     },
     "execution_count": 20,
     "metadata": {},
     "output_type": "execute_result"
    }
   ],
   "source": [
    "key_prev = 'SK_ID_PREV'\n",
    "payment_cols = ['AMT_PAYMENT']\n",
    "\n",
    "# Min payment for all previous loans\n",
    "df_previous_app = pd.merge(\n",
    "    left=df_previous_app,\n",
    "    right=df_installments[[key_prev] + payment_cols].groupby(key_prev).min(),\n",
    "    left_on=key_prev,\n",
    "    right_index=True,\n",
    "    how='left'\n",
    ")\n",
    "\n",
    "# Example: SK_ID_CURR #365597\n",
    "df_previous_app[[key] + [key_prev] + payment_cols][df_previous_app.SK_ID_CURR == 365597]"
   ]
  },
  {
   "cell_type": "code",
   "execution_count": 22,
   "id": "d0044c4d",
   "metadata": {},
   "outputs": [
    {
     "ename": "KeyError",
     "evalue": "\"['PREV_SUM_MIN_AMT_PAYMENT', 'PREV_MEAN_MIN_AMT_PAYMENT'] not in index\"",
     "output_type": "error",
     "traceback": [
      "\u001b[0;31m---------------------------------------------------------------------------\u001b[0m",
      "\u001b[0;31mKeyError\u001b[0m                                  Traceback (most recent call last)",
      "Cell \u001b[0;32mIn[22], line 17\u001b[0m\n\u001b[1;32m      8\u001b[0m df \u001b[38;5;241m=\u001b[39m pd\u001b[38;5;241m.\u001b[39mmerge(\n\u001b[1;32m      9\u001b[0m     left\u001b[38;5;241m=\u001b[39mdf,\n\u001b[1;32m     10\u001b[0m     right\u001b[38;5;241m=\u001b[39mdf_prev_agg,\n\u001b[0;32m   (...)\u001b[0m\n\u001b[1;32m     13\u001b[0m     how\u001b[38;5;241m=\u001b[39m\u001b[38;5;124m'\u001b[39m\u001b[38;5;124mleft\u001b[39m\u001b[38;5;124m'\u001b[39m\n\u001b[1;32m     14\u001b[0m )\n\u001b[1;32m     16\u001b[0m \u001b[38;5;66;03m# Example: SK_ID_CURR #365597\u001b[39;00m\n\u001b[0;32m---> 17\u001b[0m \u001b[43mdf\u001b[49m\u001b[43m[\u001b[49m\u001b[43m[\u001b[49m\u001b[43mkey\u001b[49m\u001b[43m]\u001b[49m\u001b[43m \u001b[49m\u001b[38;5;241;43m+\u001b[39;49m\u001b[43m \u001b[49m\u001b[43mprev_agg_cols\u001b[49m\u001b[43m]\u001b[49m[df\u001b[38;5;241m.\u001b[39mSK_ID_CURR \u001b[38;5;241m==\u001b[39m \u001b[38;5;241m365597\u001b[39m]\n",
      "File \u001b[0;32m/opt/conda/lib/python3.8/site-packages/pandas/core/frame.py:3767\u001b[0m, in \u001b[0;36mDataFrame.__getitem__\u001b[0;34m(self, key)\u001b[0m\n\u001b[1;32m   3765\u001b[0m     \u001b[38;5;28;01mif\u001b[39;00m is_iterator(key):\n\u001b[1;32m   3766\u001b[0m         key \u001b[38;5;241m=\u001b[39m \u001b[38;5;28mlist\u001b[39m(key)\n\u001b[0;32m-> 3767\u001b[0m     indexer \u001b[38;5;241m=\u001b[39m \u001b[38;5;28;43mself\u001b[39;49m\u001b[38;5;241;43m.\u001b[39;49m\u001b[43mcolumns\u001b[49m\u001b[38;5;241;43m.\u001b[39;49m\u001b[43m_get_indexer_strict\u001b[49m\u001b[43m(\u001b[49m\u001b[43mkey\u001b[49m\u001b[43m,\u001b[49m\u001b[43m \u001b[49m\u001b[38;5;124;43m\"\u001b[39;49m\u001b[38;5;124;43mcolumns\u001b[39;49m\u001b[38;5;124;43m\"\u001b[39;49m\u001b[43m)\u001b[49m[\u001b[38;5;241m1\u001b[39m]\n\u001b[1;32m   3769\u001b[0m \u001b[38;5;66;03m# take() does not accept boolean indexers\u001b[39;00m\n\u001b[1;32m   3770\u001b[0m \u001b[38;5;28;01mif\u001b[39;00m \u001b[38;5;28mgetattr\u001b[39m(indexer, \u001b[38;5;124m\"\u001b[39m\u001b[38;5;124mdtype\u001b[39m\u001b[38;5;124m\"\u001b[39m, \u001b[38;5;28;01mNone\u001b[39;00m) \u001b[38;5;241m==\u001b[39m \u001b[38;5;28mbool\u001b[39m:\n",
      "File \u001b[0;32m/opt/conda/lib/python3.8/site-packages/pandas/core/indexes/base.py:5877\u001b[0m, in \u001b[0;36mIndex._get_indexer_strict\u001b[0;34m(self, key, axis_name)\u001b[0m\n\u001b[1;32m   5874\u001b[0m \u001b[38;5;28;01melse\u001b[39;00m:\n\u001b[1;32m   5875\u001b[0m     keyarr, indexer, new_indexer \u001b[38;5;241m=\u001b[39m \u001b[38;5;28mself\u001b[39m\u001b[38;5;241m.\u001b[39m_reindex_non_unique(keyarr)\n\u001b[0;32m-> 5877\u001b[0m \u001b[38;5;28;43mself\u001b[39;49m\u001b[38;5;241;43m.\u001b[39;49m\u001b[43m_raise_if_missing\u001b[49m\u001b[43m(\u001b[49m\u001b[43mkeyarr\u001b[49m\u001b[43m,\u001b[49m\u001b[43m \u001b[49m\u001b[43mindexer\u001b[49m\u001b[43m,\u001b[49m\u001b[43m \u001b[49m\u001b[43maxis_name\u001b[49m\u001b[43m)\u001b[49m\n\u001b[1;32m   5879\u001b[0m keyarr \u001b[38;5;241m=\u001b[39m \u001b[38;5;28mself\u001b[39m\u001b[38;5;241m.\u001b[39mtake(indexer)\n\u001b[1;32m   5880\u001b[0m \u001b[38;5;28;01mif\u001b[39;00m \u001b[38;5;28misinstance\u001b[39m(key, Index):\n\u001b[1;32m   5881\u001b[0m     \u001b[38;5;66;03m# GH 42790 - Preserve name from an Index\u001b[39;00m\n",
      "File \u001b[0;32m/opt/conda/lib/python3.8/site-packages/pandas/core/indexes/base.py:5941\u001b[0m, in \u001b[0;36mIndex._raise_if_missing\u001b[0;34m(self, key, indexer, axis_name)\u001b[0m\n\u001b[1;32m   5938\u001b[0m     \u001b[38;5;28;01mraise\u001b[39;00m \u001b[38;5;167;01mKeyError\u001b[39;00m(\u001b[38;5;124mf\u001b[39m\u001b[38;5;124m\"\u001b[39m\u001b[38;5;124mNone of [\u001b[39m\u001b[38;5;132;01m{\u001b[39;00mkey\u001b[38;5;132;01m}\u001b[39;00m\u001b[38;5;124m] are in the [\u001b[39m\u001b[38;5;132;01m{\u001b[39;00maxis_name\u001b[38;5;132;01m}\u001b[39;00m\u001b[38;5;124m]\u001b[39m\u001b[38;5;124m\"\u001b[39m)\n\u001b[1;32m   5940\u001b[0m not_found \u001b[38;5;241m=\u001b[39m \u001b[38;5;28mlist\u001b[39m(ensure_index(key)[missing_mask\u001b[38;5;241m.\u001b[39mnonzero()[\u001b[38;5;241m0\u001b[39m]]\u001b[38;5;241m.\u001b[39munique())\n\u001b[0;32m-> 5941\u001b[0m \u001b[38;5;28;01mraise\u001b[39;00m \u001b[38;5;167;01mKeyError\u001b[39;00m(\u001b[38;5;124mf\u001b[39m\u001b[38;5;124m\"\u001b[39m\u001b[38;5;132;01m{\u001b[39;00mnot_found\u001b[38;5;132;01m}\u001b[39;00m\u001b[38;5;124m not in index\u001b[39m\u001b[38;5;124m\"\u001b[39m)\n",
      "\u001b[0;31mKeyError\u001b[0m: \"['PREV_SUM_MIN_AMT_PAYMENT', 'PREV_MEAN_MIN_AMT_PAYMENT'] not in index\""
     ]
    }
   ],
   "source": [
    "key = 'SK_ID_CURR'\n",
    "prev_agg_cols = ['PREV_SUM_MIN_AMT_PAYMENT', 'PREV_MEAN_MIN_AMT_PAYMENT']\n",
    "\n",
    "# Sum and mean of minimum payments across all previous loans\n",
    "df_prev_agg = df_previous_app[[key] + payment_cols].groupby(key).agg(['sum', 'mean']);\n",
    "df_prev_agg.columns = prev_agg_cols\n",
    "\n",
    "df = pd.merge(\n",
    "    left=df,\n",
    "    right=df_prev_agg,\n",
    "    left_on=key,\n",
    "    right_index=True,\n",
    "    how='left'\n",
    ")\n",
    "\n",
    "# Example: SK_ID_CURR #365597\n",
    "df[[key] + prev_agg_cols][df.SK_ID_CURR == 365597]"
   ]
  },
  {
   "cell_type": "code",
   "execution_count": null,
   "id": "1fa75f25",
   "metadata": {},
   "outputs": [],
   "source": [
    "base_cols = ['EXT_SOURCE_1', 'EXT_SOURCE_2', 'EXT_SOURCE_3',\n",
    "                'DAYS_BIRTH', 'AMT_CREDIT', 'AMT_ANNUITY',\n",
    "                'DAYS_EMPLOYED', 'AMT_GOODS_PRICE', 'DAYS_ID_PUBLISH',\n",
    "                'OWN_CAR_AGE'\n",
    "               ]\n",
    "feature_cols = base_cols + bureau_cols_max + prev_agg_cols\n",
    "y = df.TARGET\n",
    "X = df[feature_cols]\n",
    "X = X.fillna(value=X.mean())\n",
    "\n",
    "# Example: SK_ID_CURR #365597\n",
    "X[df.SK_ID_CURR == 365597].transpose()"
   ]
  },
  {
   "cell_type": "code",
   "execution_count": null,
   "id": "00fac5a8",
   "metadata": {},
   "outputs": [],
   "source": []
  },
  {
   "cell_type": "code",
   "execution_count": null,
   "id": "2de6965a",
   "metadata": {},
   "outputs": [],
   "source": []
  },
  {
   "cell_type": "code",
   "execution_count": null,
   "id": "86c06e82",
   "metadata": {},
   "outputs": [],
   "source": []
  },
  {
   "cell_type": "code",
   "execution_count": null,
   "id": "d569004f",
   "metadata": {},
   "outputs": [],
   "source": []
  },
  {
   "cell_type": "code",
   "execution_count": null,
   "id": "f0b12d9d",
   "metadata": {},
   "outputs": [],
   "source": []
  },
  {
   "cell_type": "code",
   "execution_count": null,
   "id": "5520a422",
   "metadata": {},
   "outputs": [],
   "source": []
  }
 ],
 "metadata": {
  "kernelspec": {
   "display_name": "Python 3",
   "language": "python",
   "name": "python3"
  },
  "language_info": {
   "codemirror_mode": {
    "name": "ipython",
    "version": 3
   },
   "file_extension": ".py",
   "mimetype": "text/x-python",
   "name": "python",
   "nbconvert_exporter": "python",
   "pygments_lexer": "ipython3",
   "version": "3.8.18"
  }
 },
 "nbformat": 4,
 "nbformat_minor": 5
}
