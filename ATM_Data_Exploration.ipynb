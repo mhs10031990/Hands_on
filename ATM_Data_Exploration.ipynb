{
 "cells": [
  {
   "cell_type": "code",
   "execution_count": 2,
   "id": "d5d275d1-7e03-49f8-84af-9910d8a95634",
   "metadata": {},
   "outputs": [
    {
     "name": "stdout",
     "output_type": "stream",
     "text": [
      "\u001b[33mWARNING: The directory '/home/mosaic-ai/.cache/pip/http' or its parent directory is not owned by the current user and the cache has been disabled. Please check the permissions and owner of that directory. If executing pip with sudo, you may want sudo's -H flag.\u001b[0m\n",
      "\u001b[33mWARNING: The directory '/home/mosaic-ai/.cache/pip' or its parent directory is not owned by the current user and caching wheels has been disabled. check the permissions and owner of that directory. If executing pip with sudo, you may want sudo's -H flag.\u001b[0m\n",
      "Collecting fosforio[snowflake]\n",
      "  Downloading https://files.pythonhosted.org/packages/39/85/527779b1003babb2deff0438e746d6b7ef8140d5c07f8d4992edcf758f3e/fosforio-1.0.1-py3-none-any.whl\n",
      "Collecting pandas==2.0.0\n",
      "\u001b[?25l  Downloading https://files.pythonhosted.org/packages/23/c0/4b71d4a9fbfe2fbe3e379bebc22bc935e4d09b7802899a5ac1b90bf090bb/pandas-2.0.0-cp38-cp38-manylinux_2_17_x86_64.manylinux2014_x86_64.whl (12.3MB)\n",
      "\u001b[K     |████████████████████████████████| 12.3MB 5.8MB/s eta 0:00:01��████▉   | 11.1MB 5.8MB/s eta 0:00:01\n",
      "\u001b[?25hCollecting snowflake-connector-python[pandas]==3.6.0; extra == \"snowflake\"\n",
      "\u001b[?25l  Downloading https://files.pythonhosted.org/packages/45/c9/b15f5a5652fa52dbb9a15c86a8d117d52a3d4630626f6a1bbf7e2675583f/snowflake_connector_python-3.6.0-cp38-cp38-manylinux_2_17_x86_64.manylinux2014_x86_64.whl (2.5MB)\n",
      "\u001b[K     |████████████████████████████████| 2.5MB 45.5MB/s eta 0:00:01\n",
      "\u001b[?25hCollecting python-dateutil>=2.8.2\n",
      "\u001b[?25l  Downloading https://files.pythonhosted.org/packages/ec/57/56b9bcc3c9c6a792fcbaf139543cee77261f3651ca9da0c93f5c1221264b/python_dateutil-2.9.0.post0-py2.py3-none-any.whl (229kB)\n",
      "\u001b[K     |████████████████████████████████| 235kB 58.1MB/s eta 0:00:01\n",
      "\u001b[?25hCollecting tzdata>=2022.1\n",
      "\u001b[?25l  Downloading https://files.pythonhosted.org/packages/65/58/f9c9e6be752e9fcb8b6a0ee9fb87e6e7a1f6bcab2cdc73f02bb7ba91ada0/tzdata-2024.1-py2.py3-none-any.whl (345kB)\n",
      "\u001b[K     |████████████████████████████████| 348kB 43.9MB/s eta 0:00:01\n",
      "\u001b[?25hCollecting numpy>=1.20.3; python_version < \"3.10\"\n",
      "\u001b[?25l  Downloading https://files.pythonhosted.org/packages/98/5d/5738903efe0ecb73e51eb44feafba32bdba2081263d40c5043568ff60faf/numpy-1.24.4-cp38-cp38-manylinux_2_17_x86_64.manylinux2014_x86_64.whl (17.3MB)\n",
      "\u001b[K     |████████████████████████████████| 17.3MB 54.0MB/s eta 0:00:01\n",
      "\u001b[?25hCollecting pytz>=2020.1\n",
      "\u001b[?25l  Downloading https://files.pythonhosted.org/packages/9c/3d/a121f284241f08268b21359bd425f7d4825cffc5ac5cd0e1b3d82ffd2b10/pytz-2024.1-py2.py3-none-any.whl (505kB)\n",
      "\u001b[K     |████████████████████████████████| 512kB 53.5MB/s eta 0:00:01\n",
      "\u001b[?25hCollecting pyjwt<3.0.0\n",
      "  Downloading https://files.pythonhosted.org/packages/2b/4f/e04a8067c7c96c364cef7ef73906504e2f40d690811c021e1a1901473a19/PyJWT-2.8.0-py3-none-any.whl\n",
      "Collecting filelock<4,>=3.5\n",
      "  Downloading https://files.pythonhosted.org/packages/41/24/0b023b6537dfc9bae2c779353998e3e99ac7dfff4222fc6126650e93c3f3/filelock-3.14.0-py3-none-any.whl\n",
      "Collecting cryptography<42.0.0,>=3.1.0\n",
      "\u001b[?25l  Downloading https://files.pythonhosted.org/packages/14/fd/dd5bd6ab0d12476ebca579cbfd48d31bd90fa28fa257b209df585dcf62a0/cryptography-41.0.7-cp37-abi3-manylinux_2_17_x86_64.manylinux2014_x86_64.whl (4.4MB)\n",
      "\u001b[K     |████████████████████████████████| 4.4MB 51.5MB/s eta 0:00:01\n",
      "\u001b[?25hCollecting certifi>=2017.4.17\n",
      "\u001b[?25l  Downloading https://files.pythonhosted.org/packages/ba/06/a07f096c664aeb9f01624f858c3add0a4e913d6c96257acb4fce61e7de14/certifi-2024.2.2-py3-none-any.whl (163kB)\n",
      "\u001b[K     |████████████████████████████████| 163kB 55.5MB/s eta 0:00:01\n",
      "\u001b[?25hCollecting urllib3<2.0.0,>=1.21.1; python_version < \"3.10\"\n",
      "\u001b[?25l  Downloading https://files.pythonhosted.org/packages/b0/53/aa91e163dcfd1e5b82d8a890ecf13314e3e149c05270cc644581f77f17fd/urllib3-1.26.18-py2.py3-none-any.whl (143kB)\n",
      "\u001b[K     |████████████████████████████████| 153kB 53.6MB/s eta 0:00:01\n",
      "\u001b[?25hCollecting requests<3.0.0\n",
      "\u001b[?25l  Downloading https://files.pythonhosted.org/packages/70/8e/0e2d847013cb52cd35b38c009bb167a1a26b2ce6cd6965bf26b47bc0bf44/requests-2.31.0-py3-none-any.whl (62kB)\n",
      "\u001b[K     |████████████████████████████████| 71kB 47.4MB/s eta 0:00:01\n",
      "\u001b[?25hCollecting charset-normalizer<4,>=2\n",
      "\u001b[?25l  Downloading https://files.pythonhosted.org/packages/3d/09/d82fe4a34c5f0585f9ea1df090e2a71eb9bb1e469723053e1ee9f57c16f3/charset_normalizer-3.3.2-cp38-cp38-manylinux_2_17_x86_64.manylinux2014_x86_64.whl (141kB)\n",
      "\u001b[K     |████████████████████████████████| 143kB 53.9MB/s eta 0:00:01\n",
      "\u001b[?25hCollecting asn1crypto<2.0.0,>0.24.0\n",
      "\u001b[?25l  Downloading https://files.pythonhosted.org/packages/c9/7f/09065fd9e27da0eda08b4d6897f1c13535066174cc023af248fc2a8d5e5a/asn1crypto-1.5.1-py2.py3-none-any.whl (105kB)\n",
      "\u001b[K     |████████████████████████████████| 112kB 55.7MB/s eta 0:00:01\n",
      "\u001b[?25hCollecting idna<4,>=2.5\n",
      "\u001b[?25l  Downloading https://files.pythonhosted.org/packages/e5/3e/741d8c82801c347547f8a2a06aa57dbb1992be9e948df2ea0eda2c8b79e8/idna-3.7-py3-none-any.whl (66kB)\n",
      "\u001b[K     |████████████████████████████████| 71kB 52.1MB/s eta 0:00:01\n",
      "\u001b[?25hCollecting typing-extensions<5,>=4.3\n",
      "  Downloading https://files.pythonhosted.org/packages/01/f3/936e209267d6ef7510322191003885de524fc48d1b43269810cd589ceaf5/typing_extensions-4.11.0-py3-none-any.whl\n",
      "Collecting cffi<2.0.0,>=1.9\n",
      "\u001b[?25l  Downloading https://files.pythonhosted.org/packages/f1/c9/326611aa83e16b13b6db4dbb73b5455c668159a003c4c2f0c3bcb2ddabaf/cffi-1.16.0-cp38-cp38-manylinux_2_17_x86_64.manylinux2014_x86_64.whl (444kB)\n",
      "\u001b[K     |████████████████████████████████| 450kB 52.1MB/s eta 0:00:01\n",
      "\u001b[?25hCollecting packaging\n",
      "\u001b[?25l  Downloading https://files.pythonhosted.org/packages/49/df/1fceb2f8900f8639e278b056416d49134fb8d84c5942ffaa01ad34782422/packaging-24.0-py3-none-any.whl (53kB)\n",
      "\u001b[K     |████████████████████████████████| 61kB 53.0MB/s eta 0:00:01\n",
      "\u001b[?25hCollecting tomlkit\n",
      "  Downloading https://files.pythonhosted.org/packages/73/6d/b5406752c4e4ba86692b22fab0afed8b48f16bdde8f92e1d852976b61dc6/tomlkit-0.12.5-py3-none-any.whl\n",
      "Collecting pyOpenSSL<24.0.0,>=16.2.0\n",
      "\u001b[?25l  Downloading https://files.pythonhosted.org/packages/db/de/007b832ad7a95e6a73745609bbe123c407aa2c46bb0b8f765c8718294e7f/pyOpenSSL-23.3.0-py3-none-any.whl (58kB)\n",
      "\u001b[K     |████████████████████████████████| 61kB 41.8MB/s eta 0:00:01\n",
      "\u001b[?25hCollecting sortedcontainers>=2.4.0\n",
      "  Downloading https://files.pythonhosted.org/packages/32/46/9cb0e58b2deb7f82b84065f37f3bffeb12413f947f9388e4cac22c4621ce/sortedcontainers-2.4.0-py2.py3-none-any.whl\n",
      "Collecting platformdirs<4.0.0,>=2.6.0\n",
      "  Downloading https://files.pythonhosted.org/packages/56/29/3ec311dc18804409ecf0d2b09caa976f3ae6215559306b5b530004e11156/platformdirs-3.11.0-py3-none-any.whl\n",
      "Collecting pyarrow; extra == \"pandas\"\n",
      "\u001b[?25l  Downloading https://files.pythonhosted.org/packages/6e/e8/ae66b4aa457143329e5677149afe552e3e0d1062582ef688b9cce444e7c7/pyarrow-16.1.0-cp38-cp38-manylinux_2_17_x86_64.manylinux2014_x86_64.whl (41.0MB)\n",
      "\u001b[K     |████████████████████████████████| 41.1MB 51.2MB/s eta 0:00:01\n",
      "\u001b[?25hCollecting six>=1.5\n",
      "  Downloading https://files.pythonhosted.org/packages/d9/5a/e7c31adbe875f2abbb91bd84cf2dc52d792b5a01506781dbcf25c91daf11/six-1.16.0-py2.py3-none-any.whl\n",
      "Collecting pycparser\n",
      "\u001b[?25l  Downloading https://files.pythonhosted.org/packages/13/a3/a812df4e2dd5696d1f351d58b8fe16a405b234ad2886a0dab9183fb78109/pycparser-2.22-py3-none-any.whl (117kB)\n",
      "\u001b[K     |████████████████████████████████| 122kB 49.6MB/s eta 0:00:01\n",
      "\u001b[31mERROR: snowflake-snowpark-python 1.0.0 has requirement snowflake-connector-python<3.0.0,>=2.7.12, but you'll have snowflake-connector-python 3.6.0 which is incompatible.\u001b[0m\n",
      "\u001b[31mERROR: snowflake-ml-python 1.0.1 has requirement cryptography<39.0.0,>=3.1.0, but you'll have cryptography 41.0.7 which is incompatible.\u001b[0m\n",
      "\u001b[31mERROR: snowflake-ml-python 1.0.1 has requirement packaging<24,>=20.9, but you'll have packaging 24.0 which is incompatible.\u001b[0m\n",
      "\u001b[31mERROR: snowflake-ml-python 1.0.1 has requirement pandas<2,>=1.0.0, but you'll have pandas 2.0.0 which is incompatible.\u001b[0m\n",
      "\u001b[31mERROR: snowflake-ml-python 1.0.1 has requirement snowflake-snowpark-python<2,>=1.4.0, but you'll have snowflake-snowpark-python 1.0.0 which is incompatible.\u001b[0m\n",
      "\u001b[31mERROR: openapi-schema-validator 0.6.2 has requirement jsonschema<5.0.0,>=4.19.1, but you'll have jsonschema 3.2.0 which is incompatible.\u001b[0m\n",
      "\u001b[31mERROR: mosaic-ai-serving 1.0.0 has requirement Flask==2.1.1; python_version >= \"3.7\", but you'll have flask 2.2.5 which is incompatible.\u001b[0m\n",
      "\u001b[31mERROR: mosaic-ai-serving 1.0.0 has requirement Jinja2==3.0.3, but you'll have jinja2 3.1.4 which is incompatible.\u001b[0m\n",
      "\u001b[31mERROR: mosaic-ai-serving 1.0.0 has requirement matplotlib==3.6.0; python_version >= \"3.8\", but you'll have matplotlib 3.7.5 which is incompatible.\u001b[0m\n",
      "\u001b[31mERROR: mosaic-ai-client 1.0.0 has requirement matplotlib==3.1.1, but you'll have matplotlib 3.7.5 which is incompatible.\u001b[0m\n",
      "\u001b[31mERROR: jupyterlab 3.2.4 has requirement jupyter-server~=1.4, but you'll have jupyter-server 2.0.0a1 which is incompatible.\u001b[0m\n",
      "\u001b[31mERROR: jupyterlab-server 2.25.4 has requirement jsonschema>=4.18.0, but you'll have jsonschema 3.2.0 which is incompatible.\u001b[0m\n",
      "\u001b[?25hInstalling collected packages: six, python-dateutil, tzdata, numpy, pytz, pandas, pyjwt, filelock, pycparser, cffi, cryptography, certifi, urllib3, charset-normalizer, idna, requests, asn1crypto, typing-extensions, packaging, tomlkit, pyOpenSSL, sortedcontainers, platformdirs, pyarrow, snowflake-connector-python, fosforio\n"
     ]
    },
    {
     "name": "stdout",
     "output_type": "stream",
     "text": [
      "Successfully installed asn1crypto-1.5.1 certifi-2024.2.2 cffi-1.16.0 charset-normalizer-3.3.2 cryptography-41.0.7 filelock-3.14.0 fosforio-1.0.1 idna-3.7 numpy-1.24.4 packaging-24.0 pandas-2.0.0 platformdirs-3.11.0 pyOpenSSL-23.3.0 pyarrow-16.1.0 pycparser-2.22 pyjwt-2.8.0 python-dateutil-2.9.0.post0 pytz-2024.1 requests-2.31.0 six-1.16.0 snowflake-connector-python-3.6.0 sortedcontainers-2.4.0 tomlkit-0.12.5 typing-extensions-4.11.0 tzdata-2024.1 urllib3-1.26.18\n",
      "\u001b[33mWARNING: You are using pip version 19.3.1; however, version 24.0 is available.\n",
      "You should consider upgrading via the 'pip install --upgrade pip' command.\u001b[0m\n"
     ]
    }
   ],
   "source": [
    "!pip install --q fosforio[snowflake]"
   ]
  },
  {
   "cell_type": "code",
   "execution_count": 8,
   "id": "519a90fb",
   "metadata": {},
   "outputs": [],
   "source": [
    "from fosforio import snowflake"
   ]
  },
  {
   "cell_type": "code",
   "execution_count": 6,
   "id": "7a51cc2d",
   "metadata": {},
   "outputs": [
    {
     "name": "stdout",
     "output_type": "stream",
     "text": [
      "User name picked from OS env: manishh.singh@fosfor.com\n",
      "Fetching connections created by manishh.singh@fosfor.com user\n",
      "Connection names fetched ['FDC_SNOWFLAKE', 'FDC_SNOWFLAKE', 'FDC_SNOWFLAKE', 'FDC_SNOWFLAKE'], created by manishh.singh@fosfor.com\n",
      "Exception occurred in getting snowflake connection: 'connectionSources'\n"
     ]
    }
   ],
   "source": [
    "# To get snowflake connection object with a default snowflake connection created by the user, if available.\n",
    "snowflake.get_connection()\n",
    "\n",
    "# To get snowflake connection object with a specific connection name\n",
    "#snowflake.get_connection(connection_name=\"FDC_SNOWFLAKE\")"
   ]
  },
  {
   "cell_type": "markdown",
   "id": "abe25ace",
   "metadata": {},
   "source": [
    "# ATM Meta data"
   ]
  },
  {
   "cell_type": "code",
   "execution_count": 12,
   "id": "5afa4b2e",
   "metadata": {},
   "outputs": [],
   "source": [
    "# To read a specific dataset published from a snowflake connection\n",
    "df_atm = snowflake.get_dataframe(\"ATM_METADATA\")"
   ]
  },
  {
   "cell_type": "code",
   "execution_count": 13,
   "id": "6afc3c99",
   "metadata": {},
   "outputs": [
    {
     "data": {
      "text/plain": [
       "(420, 6)"
      ]
     },
     "execution_count": 13,
     "metadata": {},
     "output_type": "execute_result"
    }
   ],
   "source": [
    "df_atm.shape"
   ]
  },
  {
   "cell_type": "code",
   "execution_count": 14,
   "id": "cbec60c0",
   "metadata": {
    "scrolled": true
   },
   "outputs": [
    {
     "name": "stdout",
     "output_type": "stream",
     "text": [
      "<class 'pandas.core.frame.DataFrame'>\n",
      "RangeIndex: 420 entries, 0 to 419\n",
      "Data columns (total 6 columns):\n",
      " #   Column        Non-Null Count  Dtype         \n",
      "---  ------        --------------  -----         \n",
      " 0   ATM_ID        420 non-null    object        \n",
      " 1   MAX_CAPACITY  420 non-null    float64       \n",
      " 2   BANK_ID       420 non-null    int8          \n",
      " 3   STATE         420 non-null    object        \n",
      " 4   CREATED_BY    420 non-null    object        \n",
      " 5   CREATED_AT    420 non-null    datetime64[ns]\n",
      "dtypes: datetime64[ns](1), float64(1), int8(1), object(3)\n",
      "memory usage: 16.9+ KB\n"
     ]
    }
   ],
   "source": [
    "df_atm.info()"
   ]
  },
  {
   "cell_type": "code",
   "execution_count": 15,
   "id": "9cb8a275",
   "metadata": {
    "scrolled": true
   },
   "outputs": [
    {
     "data": {
      "text/html": [
       "<div>\n",
       "<style scoped>\n",
       "    .dataframe tbody tr th:only-of-type {\n",
       "        vertical-align: middle;\n",
       "    }\n",
       "\n",
       "    .dataframe tbody tr th {\n",
       "        vertical-align: top;\n",
       "    }\n",
       "\n",
       "    .dataframe thead th {\n",
       "        text-align: right;\n",
       "    }\n",
       "</style>\n",
       "<table border=\"1\" class=\"dataframe\">\n",
       "  <thead>\n",
       "    <tr style=\"text-align: right;\">\n",
       "      <th></th>\n",
       "      <th>MAX_CAPACITY</th>\n",
       "      <th>BANK_ID</th>\n",
       "      <th>CREATED_AT</th>\n",
       "    </tr>\n",
       "  </thead>\n",
       "  <tbody>\n",
       "    <tr>\n",
       "      <th>count</th>\n",
       "      <td>4.200000e+02</td>\n",
       "      <td>420.00000</td>\n",
       "      <td>420</td>\n",
       "    </tr>\n",
       "    <tr>\n",
       "      <th>mean</th>\n",
       "      <td>3.300000e+06</td>\n",
       "      <td>2.00000</td>\n",
       "      <td>2024-05-14 07:43:27</td>\n",
       "    </tr>\n",
       "    <tr>\n",
       "      <th>min</th>\n",
       "      <td>2.420000e+06</td>\n",
       "      <td>1.00000</td>\n",
       "      <td>2024-05-14 07:43:27</td>\n",
       "    </tr>\n",
       "    <tr>\n",
       "      <th>25%</th>\n",
       "      <td>2.860000e+06</td>\n",
       "      <td>1.00000</td>\n",
       "      <td>2024-05-14 07:43:27</td>\n",
       "    </tr>\n",
       "    <tr>\n",
       "      <th>50%</th>\n",
       "      <td>3.520000e+06</td>\n",
       "      <td>2.00000</td>\n",
       "      <td>2024-05-14 07:43:27</td>\n",
       "    </tr>\n",
       "    <tr>\n",
       "      <th>75%</th>\n",
       "      <td>3.520000e+06</td>\n",
       "      <td>3.00000</td>\n",
       "      <td>2024-05-14 07:43:27</td>\n",
       "    </tr>\n",
       "    <tr>\n",
       "      <th>max</th>\n",
       "      <td>3.740000e+06</td>\n",
       "      <td>3.00000</td>\n",
       "      <td>2024-05-14 07:43:27</td>\n",
       "    </tr>\n",
       "    <tr>\n",
       "      <th>std</th>\n",
       "      <td>3.845215e+05</td>\n",
       "      <td>0.81747</td>\n",
       "      <td>NaN</td>\n",
       "    </tr>\n",
       "  </tbody>\n",
       "</table>\n",
       "</div>"
      ],
      "text/plain": [
       "       MAX_CAPACITY    BANK_ID           CREATED_AT\n",
       "count  4.200000e+02  420.00000                  420\n",
       "mean   3.300000e+06    2.00000  2024-05-14 07:43:27\n",
       "min    2.420000e+06    1.00000  2024-05-14 07:43:27\n",
       "25%    2.860000e+06    1.00000  2024-05-14 07:43:27\n",
       "50%    3.520000e+06    2.00000  2024-05-14 07:43:27\n",
       "75%    3.520000e+06    3.00000  2024-05-14 07:43:27\n",
       "max    3.740000e+06    3.00000  2024-05-14 07:43:27\n",
       "std    3.845215e+05    0.81747                  NaN"
      ]
     },
     "execution_count": 15,
     "metadata": {},
     "output_type": "execute_result"
    }
   ],
   "source": [
    "df_atm.describe()"
   ]
  },
  {
   "cell_type": "code",
   "execution_count": 16,
   "id": "20f90b7f",
   "metadata": {
    "scrolled": true
   },
   "outputs": [
    {
     "data": {
      "text/html": [
       "<div>\n",
       "<style scoped>\n",
       "    .dataframe tbody tr th:only-of-type {\n",
       "        vertical-align: middle;\n",
       "    }\n",
       "\n",
       "    .dataframe tbody tr th {\n",
       "        vertical-align: top;\n",
       "    }\n",
       "\n",
       "    .dataframe thead th {\n",
       "        text-align: right;\n",
       "    }\n",
       "</style>\n",
       "<table border=\"1\" class=\"dataframe\">\n",
       "  <thead>\n",
       "    <tr style=\"text-align: right;\">\n",
       "      <th></th>\n",
       "      <th>ATM_ID</th>\n",
       "      <th>MAX_CAPACITY</th>\n",
       "      <th>BANK_ID</th>\n",
       "      <th>STATE</th>\n",
       "      <th>CREATED_BY</th>\n",
       "      <th>CREATED_AT</th>\n",
       "    </tr>\n",
       "  </thead>\n",
       "  <tbody>\n",
       "    <tr>\n",
       "      <th>0</th>\n",
       "      <td>SPCN2020</td>\n",
       "      <td>2640000.0</td>\n",
       "      <td>1</td>\n",
       "      <td>Michigan</td>\n",
       "      <td>manishh.singh@fosfor.com</td>\n",
       "      <td>2024-05-14 07:43:27</td>\n",
       "    </tr>\n",
       "    <tr>\n",
       "      <th>1</th>\n",
       "      <td>TBH00000303920</td>\n",
       "      <td>3520000.0</td>\n",
       "      <td>3</td>\n",
       "      <td>Minnesota</td>\n",
       "      <td>manishh.singh@fosfor.com</td>\n",
       "      <td>2024-05-14 07:43:27</td>\n",
       "    </tr>\n",
       "    <tr>\n",
       "      <th>2</th>\n",
       "      <td>TBH00000303919</td>\n",
       "      <td>3520000.0</td>\n",
       "      <td>3</td>\n",
       "      <td>Hawaii</td>\n",
       "      <td>manishh.singh@fosfor.com</td>\n",
       "      <td>2024-05-14 07:43:27</td>\n",
       "    </tr>\n",
       "    <tr>\n",
       "      <th>3</th>\n",
       "      <td>TBH00000303918</td>\n",
       "      <td>3520000.0</td>\n",
       "      <td>3</td>\n",
       "      <td>Utah</td>\n",
       "      <td>manishh.singh@fosfor.com</td>\n",
       "      <td>2024-05-14 07:43:27</td>\n",
       "    </tr>\n",
       "    <tr>\n",
       "      <th>4</th>\n",
       "      <td>TBH00000303917</td>\n",
       "      <td>3520000.0</td>\n",
       "      <td>3</td>\n",
       "      <td>Oregon</td>\n",
       "      <td>manishh.singh@fosfor.com</td>\n",
       "      <td>2024-05-14 07:43:27</td>\n",
       "    </tr>\n",
       "  </tbody>\n",
       "</table>\n",
       "</div>"
      ],
      "text/plain": [
       "           ATM_ID  MAX_CAPACITY  BANK_ID      STATE                CREATED_BY  \\\n",
       "0        SPCN2020     2640000.0        1   Michigan  manishh.singh@fosfor.com   \n",
       "1  TBH00000303920     3520000.0        3  Minnesota  manishh.singh@fosfor.com   \n",
       "2  TBH00000303919     3520000.0        3     Hawaii  manishh.singh@fosfor.com   \n",
       "3  TBH00000303918     3520000.0        3       Utah  manishh.singh@fosfor.com   \n",
       "4  TBH00000303917     3520000.0        3     Oregon  manishh.singh@fosfor.com   \n",
       "\n",
       "           CREATED_AT  \n",
       "0 2024-05-14 07:43:27  \n",
       "1 2024-05-14 07:43:27  \n",
       "2 2024-05-14 07:43:27  \n",
       "3 2024-05-14 07:43:27  \n",
       "4 2024-05-14 07:43:27  "
      ]
     },
     "execution_count": 16,
     "metadata": {},
     "output_type": "execute_result"
    }
   ],
   "source": [
    "df_atm.head()"
   ]
  },
  {
   "cell_type": "code",
   "execution_count": 18,
   "id": "3c525575",
   "metadata": {
    "scrolled": false
   },
   "outputs": [
    {
     "data": {
      "text/plain": [
       "ATM_ID          0\n",
       "MAX_CAPACITY    0\n",
       "BANK_ID         0\n",
       "STATE           0\n",
       "CREATED_BY      0\n",
       "CREATED_AT      0\n",
       "dtype: int64"
      ]
     },
     "execution_count": 18,
     "metadata": {},
     "output_type": "execute_result"
    }
   ],
   "source": [
    "df_atm.isnull().sum()"
   ]
  },
  {
   "cell_type": "code",
   "execution_count": 21,
   "id": "a9e48e5e",
   "metadata": {
    "scrolled": true
   },
   "outputs": [
    {
     "name": "stdout",
     "output_type": "stream",
     "text": [
      "------------------------------------------------\n",
      "ATM_ID  ->  420\n",
      "------------------------------------------------\n",
      "STATE  ->  50\n"
     ]
    }
   ],
   "source": [
    "cols = ['ATM_ID','STATE']\n",
    "for col in cols:\n",
    "    print (\"------------------------------------------------\")\n",
    "    print (col, \" -> \",df_atm[col].nunique())"
   ]
  },
  {
   "cell_type": "markdown",
   "id": "b503ddd3",
   "metadata": {},
   "source": [
    "# BANKS Meta data"
   ]
  },
  {
   "cell_type": "code",
   "execution_count": 22,
   "id": "aab257f9",
   "metadata": {},
   "outputs": [],
   "source": [
    "# To read a specific dataset published from a snowflake connection\n",
    "df_bank = snowflake.get_dataframe(\"BANK_METADATA\")"
   ]
  },
  {
   "cell_type": "code",
   "execution_count": 23,
   "id": "a4c2cd69",
   "metadata": {},
   "outputs": [
    {
     "data": {
      "text/plain": [
       "(3, 4)"
      ]
     },
     "execution_count": 23,
     "metadata": {},
     "output_type": "execute_result"
    }
   ],
   "source": [
    "df_bank.shape"
   ]
  },
  {
   "cell_type": "code",
   "execution_count": 24,
   "id": "e24cf7ed",
   "metadata": {},
   "outputs": [
    {
     "name": "stdout",
     "output_type": "stream",
     "text": [
      "<class 'pandas.core.frame.DataFrame'>\n",
      "RangeIndex: 3 entries, 0 to 2\n",
      "Data columns (total 4 columns):\n",
      " #   Column      Non-Null Count  Dtype         \n",
      "---  ------      --------------  -----         \n",
      " 0   BANK_ID     3 non-null      int8          \n",
      " 1   BANK_NAME   3 non-null      object        \n",
      " 2   CREATED_BY  3 non-null      object        \n",
      " 3   CREATED_AT  3 non-null      datetime64[ns]\n",
      "dtypes: datetime64[ns](1), int8(1), object(2)\n",
      "memory usage: 203.0+ bytes\n"
     ]
    }
   ],
   "source": [
    "df_bank.info()"
   ]
  },
  {
   "cell_type": "code",
   "execution_count": 25,
   "id": "eabad596",
   "metadata": {},
   "outputs": [
    {
     "data": {
      "text/html": [
       "<div>\n",
       "<style scoped>\n",
       "    .dataframe tbody tr th:only-of-type {\n",
       "        vertical-align: middle;\n",
       "    }\n",
       "\n",
       "    .dataframe tbody tr th {\n",
       "        vertical-align: top;\n",
       "    }\n",
       "\n",
       "    .dataframe thead th {\n",
       "        text-align: right;\n",
       "    }\n",
       "</style>\n",
       "<table border=\"1\" class=\"dataframe\">\n",
       "  <thead>\n",
       "    <tr style=\"text-align: right;\">\n",
       "      <th></th>\n",
       "      <th>BANK_ID</th>\n",
       "      <th>CREATED_AT</th>\n",
       "    </tr>\n",
       "  </thead>\n",
       "  <tbody>\n",
       "    <tr>\n",
       "      <th>count</th>\n",
       "      <td>3.0</td>\n",
       "      <td>3</td>\n",
       "    </tr>\n",
       "    <tr>\n",
       "      <th>mean</th>\n",
       "      <td>2.0</td>\n",
       "      <td>2024-05-14 07:47:20</td>\n",
       "    </tr>\n",
       "    <tr>\n",
       "      <th>min</th>\n",
       "      <td>1.0</td>\n",
       "      <td>2024-05-14 07:47:20</td>\n",
       "    </tr>\n",
       "    <tr>\n",
       "      <th>25%</th>\n",
       "      <td>1.5</td>\n",
       "      <td>2024-05-14 07:47:20</td>\n",
       "    </tr>\n",
       "    <tr>\n",
       "      <th>50%</th>\n",
       "      <td>2.0</td>\n",
       "      <td>2024-05-14 07:47:20</td>\n",
       "    </tr>\n",
       "    <tr>\n",
       "      <th>75%</th>\n",
       "      <td>2.5</td>\n",
       "      <td>2024-05-14 07:47:20</td>\n",
       "    </tr>\n",
       "    <tr>\n",
       "      <th>max</th>\n",
       "      <td>3.0</td>\n",
       "      <td>2024-05-14 07:47:20</td>\n",
       "    </tr>\n",
       "    <tr>\n",
       "      <th>std</th>\n",
       "      <td>1.0</td>\n",
       "      <td>NaN</td>\n",
       "    </tr>\n",
       "  </tbody>\n",
       "</table>\n",
       "</div>"
      ],
      "text/plain": [
       "       BANK_ID           CREATED_AT\n",
       "count      3.0                    3\n",
       "mean       2.0  2024-05-14 07:47:20\n",
       "min        1.0  2024-05-14 07:47:20\n",
       "25%        1.5  2024-05-14 07:47:20\n",
       "50%        2.0  2024-05-14 07:47:20\n",
       "75%        2.5  2024-05-14 07:47:20\n",
       "max        3.0  2024-05-14 07:47:20\n",
       "std        1.0                  NaN"
      ]
     },
     "execution_count": 25,
     "metadata": {},
     "output_type": "execute_result"
    }
   ],
   "source": [
    "df_bank.describe()"
   ]
  },
  {
   "cell_type": "code",
   "execution_count": 26,
   "id": "5ead74e7",
   "metadata": {
    "scrolled": true
   },
   "outputs": [
    {
     "data": {
      "text/html": [
       "<div>\n",
       "<style scoped>\n",
       "    .dataframe tbody tr th:only-of-type {\n",
       "        vertical-align: middle;\n",
       "    }\n",
       "\n",
       "    .dataframe tbody tr th {\n",
       "        vertical-align: top;\n",
       "    }\n",
       "\n",
       "    .dataframe thead th {\n",
       "        text-align: right;\n",
       "    }\n",
       "</style>\n",
       "<table border=\"1\" class=\"dataframe\">\n",
       "  <thead>\n",
       "    <tr style=\"text-align: right;\">\n",
       "      <th></th>\n",
       "      <th>BANK_ID</th>\n",
       "      <th>BANK_NAME</th>\n",
       "      <th>CREATED_BY</th>\n",
       "      <th>CREATED_AT</th>\n",
       "    </tr>\n",
       "  </thead>\n",
       "  <tbody>\n",
       "    <tr>\n",
       "      <th>0</th>\n",
       "      <td>1</td>\n",
       "      <td>Wells Fargo</td>\n",
       "      <td>manishh.singh@fosfor.com</td>\n",
       "      <td>2024-05-14 07:47:20</td>\n",
       "    </tr>\n",
       "    <tr>\n",
       "      <th>1</th>\n",
       "      <td>2</td>\n",
       "      <td>BNY Mellon</td>\n",
       "      <td>manishh.singh@fosfor.com</td>\n",
       "      <td>2024-05-14 07:47:20</td>\n",
       "    </tr>\n",
       "    <tr>\n",
       "      <th>2</th>\n",
       "      <td>3</td>\n",
       "      <td>Citibank</td>\n",
       "      <td>manishh.singh@fosfor.com</td>\n",
       "      <td>2024-05-14 07:47:20</td>\n",
       "    </tr>\n",
       "  </tbody>\n",
       "</table>\n",
       "</div>"
      ],
      "text/plain": [
       "   BANK_ID    BANK_NAME                CREATED_BY          CREATED_AT\n",
       "0        1  Wells Fargo  manishh.singh@fosfor.com 2024-05-14 07:47:20\n",
       "1        2   BNY Mellon  manishh.singh@fosfor.com 2024-05-14 07:47:20\n",
       "2        3     Citibank  manishh.singh@fosfor.com 2024-05-14 07:47:20"
      ]
     },
     "execution_count": 26,
     "metadata": {},
     "output_type": "execute_result"
    }
   ],
   "source": [
    "df_bank.head()"
   ]
  },
  {
   "cell_type": "code",
   "execution_count": 27,
   "id": "06ba1433",
   "metadata": {},
   "outputs": [
    {
     "data": {
      "text/plain": [
       "BANK_ID       0\n",
       "BANK_NAME     0\n",
       "CREATED_BY    0\n",
       "CREATED_AT    0\n",
       "dtype: int64"
      ]
     },
     "execution_count": 27,
     "metadata": {},
     "output_type": "execute_result"
    }
   ],
   "source": [
    "df_bank.isnull().sum()"
   ]
  },
  {
   "cell_type": "code",
   "execution_count": 28,
   "id": "f90b4950",
   "metadata": {},
   "outputs": [
    {
     "name": "stdout",
     "output_type": "stream",
     "text": [
      "------------------------------------------------\n",
      "BANK_NAME  ->  3\n"
     ]
    }
   ],
   "source": [
    "cols = ['BANK_NAME']\n",
    "for col in cols:\n",
    "    print (\"------------------------------------------------\")\n",
    "    print (col, \" -> \",df_bank[col].nunique())"
   ]
  },
  {
   "cell_type": "code",
   "execution_count": 29,
   "id": "9ae497b5",
   "metadata": {},
   "outputs": [],
   "source": [
    "# DATE Metadata"
   ]
  },
  {
   "cell_type": "code",
   "execution_count": 30,
   "id": "e4f4cf75",
   "metadata": {},
   "outputs": [],
   "source": [
    "# To read a specific dataset published from a snowflake connection\n",
    "df_date = snowflake.get_dataframe(\"DATE_METADATA\")"
   ]
  },
  {
   "cell_type": "code",
   "execution_count": 31,
   "id": "bda2108c",
   "metadata": {},
   "outputs": [
    {
     "data": {
      "text/plain": [
       "(783, 5)"
      ]
     },
     "execution_count": 31,
     "metadata": {},
     "output_type": "execute_result"
    }
   ],
   "source": [
    "df_date.shape"
   ]
  },
  {
   "cell_type": "code",
   "execution_count": 32,
   "id": "04911cdc",
   "metadata": {},
   "outputs": [
    {
     "name": "stdout",
     "output_type": "stream",
     "text": [
      "<class 'pandas.core.frame.DataFrame'>\n",
      "RangeIndex: 783 entries, 0 to 782\n",
      "Data columns (total 5 columns):\n",
      " #   Column      Non-Null Count  Dtype         \n",
      "---  ------      --------------  -----         \n",
      " 0   DATE        783 non-null    object        \n",
      " 1   WEEKDAY     783 non-null    object        \n",
      " 2   HOLIDAY     783 non-null    bool          \n",
      " 3   CREATED_BY  783 non-null    object        \n",
      " 4   CREATED_AT  783 non-null    datetime64[ns]\n",
      "dtypes: bool(1), datetime64[ns](1), object(3)\n",
      "memory usage: 25.4+ KB\n"
     ]
    }
   ],
   "source": [
    "df_date.info()"
   ]
  },
  {
   "cell_type": "code",
   "execution_count": 33,
   "id": "d2eb4c3a",
   "metadata": {},
   "outputs": [
    {
     "data": {
      "text/html": [
       "<div>\n",
       "<style scoped>\n",
       "    .dataframe tbody tr th:only-of-type {\n",
       "        vertical-align: middle;\n",
       "    }\n",
       "\n",
       "    .dataframe tbody tr th {\n",
       "        vertical-align: top;\n",
       "    }\n",
       "\n",
       "    .dataframe thead th {\n",
       "        text-align: right;\n",
       "    }\n",
       "</style>\n",
       "<table border=\"1\" class=\"dataframe\">\n",
       "  <thead>\n",
       "    <tr style=\"text-align: right;\">\n",
       "      <th></th>\n",
       "      <th>CREATED_AT</th>\n",
       "    </tr>\n",
       "  </thead>\n",
       "  <tbody>\n",
       "    <tr>\n",
       "      <th>count</th>\n",
       "      <td>783</td>\n",
       "    </tr>\n",
       "    <tr>\n",
       "      <th>mean</th>\n",
       "      <td>2024-05-14 07:43:32.999999488</td>\n",
       "    </tr>\n",
       "    <tr>\n",
       "      <th>min</th>\n",
       "      <td>2024-05-14 07:43:33</td>\n",
       "    </tr>\n",
       "    <tr>\n",
       "      <th>25%</th>\n",
       "      <td>2024-05-14 07:43:33</td>\n",
       "    </tr>\n",
       "    <tr>\n",
       "      <th>50%</th>\n",
       "      <td>2024-05-14 07:43:33</td>\n",
       "    </tr>\n",
       "    <tr>\n",
       "      <th>75%</th>\n",
       "      <td>2024-05-14 07:43:33</td>\n",
       "    </tr>\n",
       "    <tr>\n",
       "      <th>max</th>\n",
       "      <td>2024-05-14 07:43:33</td>\n",
       "    </tr>\n",
       "  </tbody>\n",
       "</table>\n",
       "</div>"
      ],
      "text/plain": [
       "                          CREATED_AT\n",
       "count                            783\n",
       "mean   2024-05-14 07:43:32.999999488\n",
       "min              2024-05-14 07:43:33\n",
       "25%              2024-05-14 07:43:33\n",
       "50%              2024-05-14 07:43:33\n",
       "75%              2024-05-14 07:43:33\n",
       "max              2024-05-14 07:43:33"
      ]
     },
     "execution_count": 33,
     "metadata": {},
     "output_type": "execute_result"
    }
   ],
   "source": [
    "df_date.describe()"
   ]
  },
  {
   "cell_type": "code",
   "execution_count": 34,
   "id": "936e90d0",
   "metadata": {},
   "outputs": [
    {
     "data": {
      "text/html": [
       "<div>\n",
       "<style scoped>\n",
       "    .dataframe tbody tr th:only-of-type {\n",
       "        vertical-align: middle;\n",
       "    }\n",
       "\n",
       "    .dataframe tbody tr th {\n",
       "        vertical-align: top;\n",
       "    }\n",
       "\n",
       "    .dataframe thead th {\n",
       "        text-align: right;\n",
       "    }\n",
       "</style>\n",
       "<table border=\"1\" class=\"dataframe\">\n",
       "  <thead>\n",
       "    <tr style=\"text-align: right;\">\n",
       "      <th></th>\n",
       "      <th>DATE</th>\n",
       "      <th>WEEKDAY</th>\n",
       "      <th>HOLIDAY</th>\n",
       "      <th>CREATED_BY</th>\n",
       "      <th>CREATED_AT</th>\n",
       "    </tr>\n",
       "  </thead>\n",
       "  <tbody>\n",
       "    <tr>\n",
       "      <th>0</th>\n",
       "      <td>2021-01-01</td>\n",
       "      <td>weekend</td>\n",
       "      <td>True</td>\n",
       "      <td>manishh.singh@fosfor.com</td>\n",
       "      <td>2024-05-14 07:43:33</td>\n",
       "    </tr>\n",
       "    <tr>\n",
       "      <th>1</th>\n",
       "      <td>2023-02-22</td>\n",
       "      <td>weekday</td>\n",
       "      <td>False</td>\n",
       "      <td>manishh.singh@fosfor.com</td>\n",
       "      <td>2024-05-14 07:43:33</td>\n",
       "    </tr>\n",
       "    <tr>\n",
       "      <th>2</th>\n",
       "      <td>2023-02-21</td>\n",
       "      <td>weekday</td>\n",
       "      <td>False</td>\n",
       "      <td>manishh.singh@fosfor.com</td>\n",
       "      <td>2024-05-14 07:43:33</td>\n",
       "    </tr>\n",
       "    <tr>\n",
       "      <th>3</th>\n",
       "      <td>2023-02-20</td>\n",
       "      <td>weekday</td>\n",
       "      <td>True</td>\n",
       "      <td>manishh.singh@fosfor.com</td>\n",
       "      <td>2024-05-14 07:43:33</td>\n",
       "    </tr>\n",
       "    <tr>\n",
       "      <th>4</th>\n",
       "      <td>2023-02-19</td>\n",
       "      <td>weekday</td>\n",
       "      <td>False</td>\n",
       "      <td>manishh.singh@fosfor.com</td>\n",
       "      <td>2024-05-14 07:43:33</td>\n",
       "    </tr>\n",
       "  </tbody>\n",
       "</table>\n",
       "</div>"
      ],
      "text/plain": [
       "         DATE  WEEKDAY  HOLIDAY                CREATED_BY          CREATED_AT\n",
       "0  2021-01-01  weekend     True  manishh.singh@fosfor.com 2024-05-14 07:43:33\n",
       "1  2023-02-22  weekday    False  manishh.singh@fosfor.com 2024-05-14 07:43:33\n",
       "2  2023-02-21  weekday    False  manishh.singh@fosfor.com 2024-05-14 07:43:33\n",
       "3  2023-02-20  weekday     True  manishh.singh@fosfor.com 2024-05-14 07:43:33\n",
       "4  2023-02-19  weekday    False  manishh.singh@fosfor.com 2024-05-14 07:43:33"
      ]
     },
     "execution_count": 34,
     "metadata": {},
     "output_type": "execute_result"
    }
   ],
   "source": [
    "df_date.head()"
   ]
  },
  {
   "cell_type": "code",
   "execution_count": 35,
   "id": "17c0ec00",
   "metadata": {
    "scrolled": true
   },
   "outputs": [
    {
     "data": {
      "text/plain": [
       "DATE          0\n",
       "WEEKDAY       0\n",
       "HOLIDAY       0\n",
       "CREATED_BY    0\n",
       "CREATED_AT    0\n",
       "dtype: int64"
      ]
     },
     "execution_count": 35,
     "metadata": {},
     "output_type": "execute_result"
    }
   ],
   "source": [
    "df_date.isnull().sum()"
   ]
  },
  {
   "cell_type": "code",
   "execution_count": 36,
   "id": "80ef0496",
   "metadata": {
    "scrolled": true
   },
   "outputs": [
    {
     "name": "stdout",
     "output_type": "stream",
     "text": [
      "------------------------------------------------\n",
      "DATE  ->  783\n",
      "------------------------------------------------\n",
      "WEEKDAY  ->  2\n",
      "------------------------------------------------\n",
      "HOLIDAY  ->  2\n"
     ]
    }
   ],
   "source": [
    "cols = ['DATE','WEEKDAY','HOLIDAY']\n",
    "for col in cols:\n",
    "    print (\"------------------------------------------------\")\n",
    "    print (col, \" -> \",df_date[col].nunique())"
   ]
  },
  {
   "cell_type": "markdown",
   "id": "7d957388",
   "metadata": {},
   "source": [
    "# TRANSACTION METADATA"
   ]
  },
  {
   "cell_type": "code",
   "execution_count": 37,
   "id": "b3cc9944",
   "metadata": {},
   "outputs": [],
   "source": [
    "# To read a specific dataset published from a snowflake connection\n",
    "df_trans = snowflake.get_dataframe(\"TRANSACTION_METADATA\")"
   ]
  },
  {
   "cell_type": "code",
   "execution_count": 38,
   "id": "9b03cde0",
   "metadata": {},
   "outputs": [
    {
     "data": {
      "text/plain": [
       "(328860, 7)"
      ]
     },
     "execution_count": 38,
     "metadata": {},
     "output_type": "execute_result"
    }
   ],
   "source": [
    "df_trans.shape"
   ]
  },
  {
   "cell_type": "code",
   "execution_count": 39,
   "id": "bf43b6ae",
   "metadata": {},
   "outputs": [
    {
     "name": "stdout",
     "output_type": "stream",
     "text": [
      "<class 'pandas.core.frame.DataFrame'>\n",
      "RangeIndex: 328860 entries, 0 to 328859\n",
      "Data columns (total 7 columns):\n",
      " #   Column         Non-Null Count   Dtype         \n",
      "---  ------         --------------   -----         \n",
      " 0   ATMID          328860 non-null  object        \n",
      " 1   DATE           328860 non-null  object        \n",
      " 2   DISPENSE       328860 non-null  float64       \n",
      " 3   DT             328860 non-null  float64       \n",
      " 4   COUNTTOTALTXN  328860 non-null  float64       \n",
      " 5   CREATED_BY     328860 non-null  object        \n",
      " 6   CREATED_AT     328860 non-null  datetime64[ns]\n",
      "dtypes: datetime64[ns](1), float64(3), object(3)\n",
      "memory usage: 17.6+ MB\n"
     ]
    }
   ],
   "source": [
    "df_trans.info()"
   ]
  },
  {
   "cell_type": "code",
   "execution_count": 40,
   "id": "096b8dbf",
   "metadata": {},
   "outputs": [
    {
     "data": {
      "text/html": [
       "<div>\n",
       "<style scoped>\n",
       "    .dataframe tbody tr th:only-of-type {\n",
       "        vertical-align: middle;\n",
       "    }\n",
       "\n",
       "    .dataframe tbody tr th {\n",
       "        vertical-align: top;\n",
       "    }\n",
       "\n",
       "    .dataframe thead th {\n",
       "        text-align: right;\n",
       "    }\n",
       "</style>\n",
       "<table border=\"1\" class=\"dataframe\">\n",
       "  <thead>\n",
       "    <tr style=\"text-align: right;\">\n",
       "      <th></th>\n",
       "      <th>DISPENSE</th>\n",
       "      <th>DT</th>\n",
       "      <th>COUNTTOTALTXN</th>\n",
       "      <th>CREATED_AT</th>\n",
       "    </tr>\n",
       "  </thead>\n",
       "  <tbody>\n",
       "    <tr>\n",
       "      <th>count</th>\n",
       "      <td>3.288600e+05</td>\n",
       "      <td>328860.000000</td>\n",
       "      <td>328860.000000</td>\n",
       "      <td>328860</td>\n",
       "    </tr>\n",
       "    <tr>\n",
       "      <th>mean</th>\n",
       "      <td>3.217324e+05</td>\n",
       "      <td>126.453506</td>\n",
       "      <td>83.735632</td>\n",
       "      <td>2024-05-14 07:43:40.000001280</td>\n",
       "    </tr>\n",
       "    <tr>\n",
       "      <th>min</th>\n",
       "      <td>0.000000e+00</td>\n",
       "      <td>0.000000</td>\n",
       "      <td>0.000000</td>\n",
       "      <td>2024-05-14 07:43:40</td>\n",
       "    </tr>\n",
       "    <tr>\n",
       "      <th>25%</th>\n",
       "      <td>7.227000e+04</td>\n",
       "      <td>0.000000</td>\n",
       "      <td>22.000000</td>\n",
       "      <td>2024-05-14 07:43:40</td>\n",
       "    </tr>\n",
       "    <tr>\n",
       "      <th>50%</th>\n",
       "      <td>2.866500e+05</td>\n",
       "      <td>0.000000</td>\n",
       "      <td>78.000000</td>\n",
       "      <td>2024-05-14 07:43:40</td>\n",
       "    </tr>\n",
       "    <tr>\n",
       "      <th>75%</th>\n",
       "      <td>4.904100e+05</td>\n",
       "      <td>37.000000</td>\n",
       "      <td>124.000000</td>\n",
       "      <td>2024-05-14 07:43:40</td>\n",
       "    </tr>\n",
       "    <tr>\n",
       "      <th>max</th>\n",
       "      <td>1.936620e+06</td>\n",
       "      <td>1296.000000</td>\n",
       "      <td>504.000000</td>\n",
       "      <td>2024-05-14 07:43:40</td>\n",
       "    </tr>\n",
       "    <tr>\n",
       "      <th>std</th>\n",
       "      <td>2.818005e+05</td>\n",
       "      <td>305.196984</td>\n",
       "      <td>71.546692</td>\n",
       "      <td>NaN</td>\n",
       "    </tr>\n",
       "  </tbody>\n",
       "</table>\n",
       "</div>"
      ],
      "text/plain": [
       "           DISPENSE             DT  COUNTTOTALTXN  \\\n",
       "count  3.288600e+05  328860.000000  328860.000000   \n",
       "mean   3.217324e+05     126.453506      83.735632   \n",
       "min    0.000000e+00       0.000000       0.000000   \n",
       "25%    7.227000e+04       0.000000      22.000000   \n",
       "50%    2.866500e+05       0.000000      78.000000   \n",
       "75%    4.904100e+05      37.000000     124.000000   \n",
       "max    1.936620e+06    1296.000000     504.000000   \n",
       "std    2.818005e+05     305.196984      71.546692   \n",
       "\n",
       "                          CREATED_AT  \n",
       "count                         328860  \n",
       "mean   2024-05-14 07:43:40.000001280  \n",
       "min              2024-05-14 07:43:40  \n",
       "25%              2024-05-14 07:43:40  \n",
       "50%              2024-05-14 07:43:40  \n",
       "75%              2024-05-14 07:43:40  \n",
       "max              2024-05-14 07:43:40  \n",
       "std                              NaN  "
      ]
     },
     "execution_count": 40,
     "metadata": {},
     "output_type": "execute_result"
    }
   ],
   "source": [
    "df_trans.describe()"
   ]
  },
  {
   "cell_type": "code",
   "execution_count": 41,
   "id": "231f0d30",
   "metadata": {},
   "outputs": [
    {
     "data": {
      "text/html": [
       "<div>\n",
       "<style scoped>\n",
       "    .dataframe tbody tr th:only-of-type {\n",
       "        vertical-align: middle;\n",
       "    }\n",
       "\n",
       "    .dataframe tbody tr th {\n",
       "        vertical-align: top;\n",
       "    }\n",
       "\n",
       "    .dataframe thead th {\n",
       "        text-align: right;\n",
       "    }\n",
       "</style>\n",
       "<table border=\"1\" class=\"dataframe\">\n",
       "  <thead>\n",
       "    <tr style=\"text-align: right;\">\n",
       "      <th></th>\n",
       "      <th>ATMID</th>\n",
       "      <th>DATE</th>\n",
       "      <th>DISPENSE</th>\n",
       "      <th>DT</th>\n",
       "      <th>COUNTTOTALTXN</th>\n",
       "      <th>CREATED_BY</th>\n",
       "      <th>CREATED_AT</th>\n",
       "    </tr>\n",
       "  </thead>\n",
       "  <tbody>\n",
       "    <tr>\n",
       "      <th>0</th>\n",
       "      <td>TBH000274025</td>\n",
       "      <td>2023-01-29</td>\n",
       "      <td>225180.0</td>\n",
       "      <td>0.0</td>\n",
       "      <td>90.0</td>\n",
       "      <td>manishh.singh@fosfor.com</td>\n",
       "      <td>2024-05-14 07:43:40</td>\n",
       "    </tr>\n",
       "    <tr>\n",
       "      <th>1</th>\n",
       "      <td>TBH000274025</td>\n",
       "      <td>2023-01-30</td>\n",
       "      <td>262440.0</td>\n",
       "      <td>0.0</td>\n",
       "      <td>117.0</td>\n",
       "      <td>manishh.singh@fosfor.com</td>\n",
       "      <td>2024-05-14 07:43:40</td>\n",
       "    </tr>\n",
       "    <tr>\n",
       "      <th>2</th>\n",
       "      <td>TBH000274025</td>\n",
       "      <td>2023-01-31</td>\n",
       "      <td>561150.0</td>\n",
       "      <td>0.0</td>\n",
       "      <td>160.0</td>\n",
       "      <td>manishh.singh@fosfor.com</td>\n",
       "      <td>2024-05-14 07:43:40</td>\n",
       "    </tr>\n",
       "    <tr>\n",
       "      <th>3</th>\n",
       "      <td>TBH000274025</td>\n",
       "      <td>2023-02-01</td>\n",
       "      <td>437220.0</td>\n",
       "      <td>0.0</td>\n",
       "      <td>129.0</td>\n",
       "      <td>manishh.singh@fosfor.com</td>\n",
       "      <td>2024-05-14 07:43:40</td>\n",
       "    </tr>\n",
       "    <tr>\n",
       "      <th>4</th>\n",
       "      <td>TBH000274025</td>\n",
       "      <td>2023-02-02</td>\n",
       "      <td>360900.0</td>\n",
       "      <td>0.0</td>\n",
       "      <td>119.0</td>\n",
       "      <td>manishh.singh@fosfor.com</td>\n",
       "      <td>2024-05-14 07:43:40</td>\n",
       "    </tr>\n",
       "  </tbody>\n",
       "</table>\n",
       "</div>"
      ],
      "text/plain": [
       "          ATMID        DATE  DISPENSE   DT  COUNTTOTALTXN  \\\n",
       "0  TBH000274025  2023-01-29  225180.0  0.0           90.0   \n",
       "1  TBH000274025  2023-01-30  262440.0  0.0          117.0   \n",
       "2  TBH000274025  2023-01-31  561150.0  0.0          160.0   \n",
       "3  TBH000274025  2023-02-01  437220.0  0.0          129.0   \n",
       "4  TBH000274025  2023-02-02  360900.0  0.0          119.0   \n",
       "\n",
       "                 CREATED_BY          CREATED_AT  \n",
       "0  manishh.singh@fosfor.com 2024-05-14 07:43:40  \n",
       "1  manishh.singh@fosfor.com 2024-05-14 07:43:40  \n",
       "2  manishh.singh@fosfor.com 2024-05-14 07:43:40  \n",
       "3  manishh.singh@fosfor.com 2024-05-14 07:43:40  \n",
       "4  manishh.singh@fosfor.com 2024-05-14 07:43:40  "
      ]
     },
     "execution_count": 41,
     "metadata": {},
     "output_type": "execute_result"
    }
   ],
   "source": [
    "df_trans.head()"
   ]
  },
  {
   "cell_type": "code",
   "execution_count": 42,
   "id": "8dd5694f",
   "metadata": {},
   "outputs": [
    {
     "data": {
      "text/plain": [
       "ATMID            0\n",
       "DATE             0\n",
       "DISPENSE         0\n",
       "DT               0\n",
       "COUNTTOTALTXN    0\n",
       "CREATED_BY       0\n",
       "CREATED_AT       0\n",
       "dtype: int64"
      ]
     },
     "execution_count": 42,
     "metadata": {},
     "output_type": "execute_result"
    }
   ],
   "source": [
    "df_trans.isnull().sum()"
   ]
  },
  {
   "cell_type": "code",
   "execution_count": 44,
   "id": "2d61d215",
   "metadata": {},
   "outputs": [
    {
     "name": "stdout",
     "output_type": "stream",
     "text": [
      "------------------------------------------------\n",
      "ATMID  ->  420\n",
      "------------------------------------------------\n",
      "DATE  ->  783\n",
      "------------------------------------------------\n",
      "DISPENSE  ->  5497\n",
      "------------------------------------------------\n",
      "DT  ->  1022\n",
      "------------------------------------------------\n",
      "COUNTTOTALTXN  ->  381\n"
     ]
    }
   ],
   "source": [
    "cols = ['ATMID','DATE','DISPENSE','DT','COUNTTOTALTXN']\n",
    "for col in cols:\n",
    "    print (\"------------------------------------------------\")\n",
    "    print (col, \" -> \",df_trans[col].nunique())"
   ]
  },
  {
   "cell_type": "code",
   "execution_count": null,
   "id": "e14e57cc",
   "metadata": {},
   "outputs": [],
   "source": []
  }
 ],
 "metadata": {
  "kernelspec": {
   "display_name": "Python 3",
   "language": "python",
   "name": "python3"
  },
  "language_info": {
   "codemirror_mode": {
    "name": "ipython",
    "version": 3
   },
   "file_extension": ".py",
   "mimetype": "text/x-python",
   "name": "python",
   "nbconvert_exporter": "python",
   "pygments_lexer": "ipython3",
   "version": "3.8.18"
  }
 },
 "nbformat": 4,
 "nbformat_minor": 5
}
