{
 "cells": [
  {
   "cell_type": "code",
   "execution_count": 2,
   "id": "2b26659e",
   "metadata": {},
   "outputs": [
    {
     "name": "stdout",
     "output_type": "stream",
     "text": [
      "\u001b[33mWARNING: The directory '/home/mosaic-ai/.cache/pip/http' or its parent directory is not owned by the current user and the cache has been disabled. Please check the permissions and owner of that directory. If executing pip with sudo, you may want sudo's -H flag.\u001b[0m\n",
      "\u001b[33mWARNING: The directory '/home/mosaic-ai/.cache/pip' or its parent directory is not owned by the current user and caching wheels has been disabled. check the permissions and owner of that directory. If executing pip with sudo, you may want sudo's -H flag.\u001b[0m\n",
      "\u001b[33m  WARNING: Building wheel for shutils failed: [Errno 13] Permission denied: '/home/mosaic-ai/.cache/pip/wheels'\u001b[0m\n",
      "\u001b[31mERROR: snowflake-snowpark-python 1.0.0 has requirement snowflake-connector-python<3.0.0,>=2.7.12, but you'll have snowflake-connector-python 3.6.0 which is incompatible.\u001b[0m\n",
      "\u001b[31mERROR: snowflake-ml-python 1.0.1 has requirement packaging<24,>=20.9, but you'll have packaging 24.0 which is incompatible.\u001b[0m\n",
      "\u001b[31mERROR: snowflake-ml-python 1.0.1 has requirement pandas<2,>=1.0.0, but you'll have pandas 2.0.3 which is incompatible.\u001b[0m\n",
      "\u001b[31mERROR: snowflake-ml-python 1.0.1 has requirement snowflake-snowpark-python<2,>=1.4.0, but you'll have snowflake-snowpark-python 1.0.0 which is incompatible.\u001b[0m\n",
      "\u001b[31mERROR: mosaic-ai-client 1.0.0 has requirement matplotlib==3.1.1, but you'll have matplotlib 3.6.0 which is incompatible.\u001b[0m\n",
      "\u001b[31mERROR: jupyterlab-server 2.25.4 has requirement jsonschema>=4.18.0, but you'll have jsonschema 3.2.0 which is incompatible.\u001b[0m\n",
      "\u001b[33mWARNING: Target directory /tmp/pip_packages/cloudpickle already exists. Specify --upgrade to force replacement.\u001b[0m\n",
      "\u001b[33mWARNING: Target directory /tmp/pip_packages/cloudpickle-1.6.0.dist-info already exists. Specify --upgrade to force replacement.\u001b[0m\n",
      "\u001b[33mWARNING: Target directory /tmp/pip_packages/backports already exists. Specify --upgrade to force replacement.\u001b[0m\n",
      "\u001b[33mWARNING: Target directory /tmp/pip_packages/configparser-7.0.0.dist-info already exists. Specify --upgrade to force replacement.\u001b[0m\n",
      "\u001b[33mWARNING: Target directory /tmp/pip_packages/pymysql already exists. Specify --upgrade to force replacement.\u001b[0m\n",
      "\u001b[33mWARNING: Target directory /tmp/pip_packages/PyMySQL-1.1.0.dist-info already exists. Specify --upgrade to force replacement.\u001b[0m\n",
      "\u001b[33mWARNING: Target directory /tmp/pip_packages/shutils already exists. Specify --upgrade to force replacement.\u001b[0m\n",
      "\u001b[33mWARNING: Target directory /tmp/pip_packages/shutils-0.1.0-py3.8.egg-info already exists. Specify --upgrade to force replacement.\u001b[0m\n",
      "\u001b[33mWARNING: Target directory /tmp/pip_packages/urllib3 already exists. Specify --upgrade to force replacement.\u001b[0m\n",
      "\u001b[33mWARNING: Target directory /tmp/pip_packages/urllib3-1.26.15.dist-info already exists. Specify --upgrade to force replacement.\u001b[0m\n",
      "\u001b[33mWARNING: Target directory /tmp/pip_packages/PyYAML-6.0.dist-info already exists. Specify --upgrade to force replacement.\u001b[0m\n",
      "\u001b[33mWARNING: Target directory /tmp/pip_packages/_yaml already exists. Specify --upgrade to force replacement.\u001b[0m\n",
      "\u001b[33mWARNING: Target directory /tmp/pip_packages/yaml already exists. Specify --upgrade to force replacement.\u001b[0m\n",
      "\u001b[33mWARNING: Target directory /tmp/pip_packages/charset_normalizer already exists. Specify --upgrade to force replacement.\u001b[0m\n",
      "\u001b[33mWARNING: Target directory /tmp/pip_packages/charset_normalizer-3.3.2.dist-info already exists. Specify --upgrade to force replacement.\u001b[0m\n",
      "\u001b[33mWARNING: Target directory /tmp/pip_packages/certifi already exists. Specify --upgrade to force replacement.\u001b[0m\n",
      "\u001b[33mWARNING: Target directory /tmp/pip_packages/certifi-2024.2.2.dist-info already exists. Specify --upgrade to force replacement.\u001b[0m\n",
      "\u001b[33mWARNING: Target directory /tmp/pip_packages/idna already exists. Specify --upgrade to force replacement.\u001b[0m\n",
      "\u001b[33mWARNING: Target directory /tmp/pip_packages/idna-3.7.dist-info already exists. Specify --upgrade to force replacement.\u001b[0m\n",
      "\u001b[33mWARNING: Target directory /tmp/pip_packages/requests already exists. Specify --upgrade to force replacement.\u001b[0m\n",
      "\u001b[33mWARNING: Target directory /tmp/pip_packages/requests-2.31.0.dist-info already exists. Specify --upgrade to force replacement.\u001b[0m\n",
      "\u001b[33mWARNING: Target directory /tmp/pip_packages/requests_toolbelt already exists. Specify --upgrade to force replacement.\u001b[0m\n",
      "\u001b[33mWARNING: Target directory /tmp/pip_packages/requests_toolbelt-0.9.1.dist-info already exists. Specify --upgrade to force replacement.\u001b[0m\n",
      "\u001b[33mWARNING: Target directory /tmp/pip_packages/threadpoolctl.py already exists. Specify --upgrade to force replacement.\u001b[0m\n",
      "\u001b[33mWARNING: Target directory /tmp/pip_packages/threadpoolctl-3.5.0.dist-info already exists. Specify --upgrade to force replacement.\u001b[0m\n",
      "\u001b[33mWARNING: Target directory /tmp/pip_packages/__pycache__ already exists. Specify --upgrade to force replacement.\u001b[0m\n",
      "\u001b[33mWARNING: Target directory /tmp/pip_packages/joblib already exists. Specify --upgrade to force replacement.\u001b[0m\n",
      "\u001b[33mWARNING: Target directory /tmp/pip_packages/joblib-1.4.2.dist-info already exists. Specify --upgrade to force replacement.\u001b[0m\n",
      "\u001b[33mWARNING: Target directory /tmp/pip_packages/numpy.libs already exists. Specify --upgrade to force replacement.\u001b[0m\n",
      "\u001b[33mWARNING: Target directory /tmp/pip_packages/numpy-1.24.4.dist-info already exists. Specify --upgrade to force replacement.\u001b[0m\n",
      "\u001b[33mWARNING: Target directory /tmp/pip_packages/numpy already exists. Specify --upgrade to force replacement.\u001b[0m\n",
      "\u001b[33mWARNING: Target directory /tmp/pip_packages/scipy already exists. Specify --upgrade to force replacement.\u001b[0m\n",
      "\u001b[33mWARNING: Target directory /tmp/pip_packages/scipy.libs already exists. Specify --upgrade to force replacement.\u001b[0m\n",
      "\u001b[33mWARNING: Target directory /tmp/pip_packages/scipy-1.10.1.dist-info already exists. Specify --upgrade to force replacement.\u001b[0m\n",
      "\u001b[33mWARNING: Target directory /tmp/pip_packages/sklearn already exists. Specify --upgrade to force replacement.\u001b[0m\n",
      "\u001b[33mWARNING: Target directory /tmp/pip_packages/scikit_learn.libs already exists. Specify --upgrade to force replacement.\u001b[0m\n",
      "\u001b[33mWARNING: Target directory /tmp/pip_packages/scikit_learn-1.2.1.dist-info already exists. Specify --upgrade to force replacement.\u001b[0m\n",
      "\u001b[33mWARNING: Target directory /tmp/pip_packages/mosaic_utils already exists. Specify --upgrade to force replacement.\u001b[0m\n",
      "\u001b[33mWARNING: Target directory /tmp/pip_packages/mosaic_utils-1.0.2.dist-info already exists. Specify --upgrade to force replacement.\u001b[0m\n",
      "\u001b[33mWARNING: Target directory /tmp/pip_packages/refractml already exists. Specify --upgrade to force replacement.\u001b[0m\n",
      "\u001b[33mWARNING: Target directory /tmp/pip_packages/tests already exists. Specify --upgrade to force replacement.\u001b[0m\n",
      "\u001b[33mWARNING: Target directory /tmp/pip_packages/refractml-1.0.4.dist-info already exists. Specify --upgrade to force replacement.\u001b[0m\n",
      "\u001b[33mWARNING: Target directory /tmp/pip_packages/bin already exists. Specify --upgrade to force replacement.\u001b[0m\n",
      "\u001b[33mWARNING: You are using pip version 19.3.1; however, version 24.0 is available.\n",
      "You should consider upgrading via the 'pip install --upgrade pip' command.\u001b[0m\n"
     ]
    }
   ],
   "source": [
    "!pip install --q refractml"
   ]
  },
  {
   "cell_type": "code",
   "execution_count": 3,
   "id": "1afd8123",
   "metadata": {},
   "outputs": [
    {
     "name": "stdout",
     "output_type": "stream",
     "text": [
      "\u001b[33mWARNING: The directory '/home/mosaic-ai/.cache/pip/http' or its parent directory is not owned by the current user and the cache has been disabled. Please check the permissions and owner of that directory. If executing pip with sudo, you may want sudo's -H flag.\u001b[0m\n",
      "\u001b[33mWARNING: The directory '/home/mosaic-ai/.cache/pip' or its parent directory is not owned by the current user and caching wheels has been disabled. check the permissions and owner of that directory. If executing pip with sudo, you may want sudo's -H flag.\u001b[0m\n",
      "\u001b[31mERROR: snowflake-ml-python 1.0.1 has requirement packaging<24,>=20.9, but you'll have packaging 24.0 which is incompatible.\u001b[0m\n",
      "\u001b[31mERROR: snowflake-ml-python 1.0.1 has requirement pandas<2,>=1.0.0, but you'll have pandas 2.0.3 which is incompatible.\u001b[0m\n",
      "\u001b[31mERROR: snowflake-ml-python 1.0.1 has requirement snowflake-snowpark-python<2,>=1.4.0, but you'll have snowflake-snowpark-python 1.0.0 which is incompatible.\u001b[0m\n",
      "\u001b[31mERROR: snowflake-ml-python 1.0.1 has requirement xgboost<2,>=1.7.3, but you'll have xgboost 2.0.3 which is incompatible.\u001b[0m\n",
      "\u001b[33mWARNING: Target directory /tmp/pip_packages/numpy.libs already exists. Specify --upgrade to force replacement.\u001b[0m\n",
      "\u001b[33mWARNING: Target directory /tmp/pip_packages/numpy-1.24.4.dist-info already exists. Specify --upgrade to force replacement.\u001b[0m\n",
      "\u001b[33mWARNING: Target directory /tmp/pip_packages/numpy already exists. Specify --upgrade to force replacement.\u001b[0m\n",
      "\u001b[33mWARNING: Target directory /tmp/pip_packages/scipy already exists. Specify --upgrade to force replacement.\u001b[0m\n",
      "\u001b[33mWARNING: Target directory /tmp/pip_packages/scipy.libs already exists. Specify --upgrade to force replacement.\u001b[0m\n",
      "\u001b[33mWARNING: Target directory /tmp/pip_packages/scipy-1.10.1.dist-info already exists. Specify --upgrade to force replacement.\u001b[0m\n",
      "\u001b[33mWARNING: Target directory /tmp/pip_packages/bin already exists. Specify --upgrade to force replacement.\u001b[0m\n",
      "\u001b[33mWARNING: You are using pip version 19.3.1; however, version 24.0 is available.\n",
      "You should consider upgrading via the 'pip install --upgrade pip' command.\u001b[0m\n"
     ]
    }
   ],
   "source": [
    "!pip install --q xgboost"
   ]
  },
  {
   "cell_type": "code",
   "execution_count": 4,
   "id": "08b4f5f8",
   "metadata": {},
   "outputs": [
    {
     "name": "stdout",
     "output_type": "stream",
     "text": [
      "\u001b[33mWARNING: The directory '/home/mosaic-ai/.cache/pip/http' or its parent directory is not owned by the current user and the cache has been disabled. Please check the permissions and owner of that directory. If executing pip with sudo, you may want sudo's -H flag.\u001b[0m\n",
      "\u001b[33mWARNING: The directory '/home/mosaic-ai/.cache/pip' or its parent directory is not owned by the current user and caching wheels has been disabled. check the permissions and owner of that directory. If executing pip with sudo, you may want sudo's -H flag.\u001b[0m\n",
      "\u001b[31mERROR: snowflake-ml-python 1.0.1 has requirement packaging<24,>=20.9, but you'll have packaging 24.0 which is incompatible.\u001b[0m\n",
      "\u001b[31mERROR: snowflake-ml-python 1.0.1 has requirement pandas<2,>=1.0.0, but you'll have pandas 2.0.3 which is incompatible.\u001b[0m\n",
      "\u001b[31mERROR: snowflake-ml-python 1.0.1 has requirement snowflake-snowpark-python<2,>=1.4.0, but you'll have snowflake-snowpark-python 1.0.0 which is incompatible.\u001b[0m\n",
      "\u001b[31mERROR: snowflake-ml-python 1.0.1 has requirement xgboost<2,>=1.7.3, but you'll have xgboost 2.0.3 which is incompatible.\u001b[0m\n",
      "\u001b[31mERROR: openapi-spec-validator 0.7.1 has requirement jsonschema<5.0.0,>=4.18.0, but you'll have jsonschema 3.2.0 which is incompatible.\u001b[0m\n",
      "\u001b[31mERROR: openapi-schema-validator 0.6.2 has requirement jsonschema<5.0.0,>=4.19.1, but you'll have jsonschema 3.2.0 which is incompatible.\u001b[0m\n",
      "\u001b[31mERROR: mosaic-ai-serving 1.0.0 has requirement Flask==2.1.1; python_version >= \"3.7\", but you'll have flask 2.2.5 which is incompatible.\u001b[0m\n",
      "\u001b[31mERROR: mosaic-ai-serving 1.0.0 has requirement matplotlib==3.6.0; python_version >= \"3.8\", but you'll have matplotlib 3.7.5 which is incompatible.\u001b[0m\n",
      "\u001b[31mERROR: mosaic-ai-client 1.0.0 has requirement matplotlib==3.1.1, but you'll have matplotlib 3.7.5 which is incompatible.\u001b[0m\n",
      "\u001b[31mERROR: jupyterlab 3.2.4 has requirement jupyter-server~=1.4, but you'll have jupyter-server 2.0.0a1 which is incompatible.\u001b[0m\n",
      "\u001b[31mERROR: jupyterlab-server 2.25.4 has requirement jsonschema>=4.18.0, but you'll have jsonschema 3.2.0 which is incompatible.\u001b[0m\n",
      "\u001b[33mWARNING: Target directory /tmp/pip_packages/numpy.libs already exists. Specify --upgrade to force replacement.\u001b[0m\n",
      "\u001b[33mWARNING: Target directory /tmp/pip_packages/numpy-1.24.4.dist-info already exists. Specify --upgrade to force replacement.\u001b[0m\n",
      "\u001b[33mWARNING: Target directory /tmp/pip_packages/numpy already exists. Specify --upgrade to force replacement.\u001b[0m\n",
      "\u001b[33mWARNING: Target directory /tmp/pip_packages/__pycache__ already exists. Specify --upgrade to force replacement.\u001b[0m\n",
      "\u001b[33mWARNING: Target directory /tmp/pip_packages/scipy already exists. Specify --upgrade to force replacement.\u001b[0m\n",
      "\u001b[33mWARNING: Target directory /tmp/pip_packages/scipy.libs already exists. Specify --upgrade to force replacement.\u001b[0m\n",
      "\u001b[33mWARNING: Target directory /tmp/pip_packages/scipy-1.10.1.dist-info already exists. Specify --upgrade to force replacement.\u001b[0m\n",
      "\u001b[33mWARNING: Target directory /tmp/pip_packages/bin already exists. Specify --upgrade to force replacement.\u001b[0m\n",
      "\u001b[33mWARNING: You are using pip version 19.3.1; however, version 24.0 is available.\n",
      "You should consider upgrading via the 'pip install --upgrade pip' command.\u001b[0m\n"
     ]
    }
   ],
   "source": [
    "!pip install --q catboost"
   ]
  },
  {
   "cell_type": "code",
   "execution_count": 1,
   "id": "d8bd62d3",
   "metadata": {},
   "outputs": [],
   "source": [
    "from snowflake.snowpark import Session\n",
    "import configparser"
   ]
  },
  {
   "cell_type": "code",
   "execution_count": 2,
   "id": "32837b36",
   "metadata": {},
   "outputs": [],
   "source": [
    "import pandas as pd\n",
    "import numpy as np\n",
    "from scipy.stats import skew\n",
    "import xgboost as xgb\n",
    "from sklearn.model_selection import KFold\n",
    "from sklearn.ensemble import ExtraTreesClassifier\n",
    "from sklearn.ensemble import RandomForestClassifier\n",
    "from sklearn.metrics import mean_squared_error, recall_score, precision_score, f1_score, roc_auc_score, confusion_matrix\n",
    "from sklearn.linear_model import LogisticRegression\n",
    "from math import sqrt\n",
    "from sklearn.metrics import roc_auc_score\n",
    "from sklearn.model_selection import KFold\n",
    "from catboost import CatBoostClassifier\n",
    "import gc"
   ]
  },
  {
   "cell_type": "code",
   "execution_count": 3,
   "id": "1efa78b0",
   "metadata": {},
   "outputs": [
    {
     "name": "stderr",
     "output_type": "stream",
     "text": [
      "/opt/conda/lib/python3.8/site-packages/_distutils_hack/__init__.py:33: UserWarning: Setuptools is replacing distutils.\n",
      "  warnings.warn(\"Setuptools is replacing distutils.\")\n"
     ]
    }
   ],
   "source": [
    "from refractml import *\n",
    "from refractml.constants import MLModelFlavours\n",
    "import requests"
   ]
  },
  {
   "cell_type": "code",
   "execution_count": 4,
   "id": "b8078d4c",
   "metadata": {},
   "outputs": [],
   "source": [
    "NFOLDS = 3\n",
    "SEED = 0\n",
    "NROWS = None"
   ]
  },
  {
   "cell_type": "markdown",
   "id": "d22ce04b",
   "metadata": {},
   "source": [
    "# Code to establish connection and read data from Snowflake"
   ]
  },
  {
   "cell_type": "code",
   "execution_count": 5,
   "id": "c256fe2a",
   "metadata": {},
   "outputs": [
    {
     "data": {
      "text/plain": [
       "['snowflake_connection.ini']"
      ]
     },
     "execution_count": 5,
     "metadata": {},
     "output_type": "execute_result"
    }
   ],
   "source": [
    "config = configparser.ConfigParser()\n",
    "config.read(\"snowflake_connection.ini\")"
   ]
  },
  {
   "cell_type": "code",
   "execution_count": 6,
   "id": "4864e1cb",
   "metadata": {},
   "outputs": [],
   "source": [
    "connection_parameters = {\n",
    "    \"user\": f'{config[\"Snowflake\"][\"user\"]}',\n",
    "    \"password\": f'{config[\"Snowflake\"][\"password\"]}',\n",
    "    #\"password\": os.getenv('snowflake_password'),\n",
    "    \"account\": f'{config[\"Snowflake\"][\"account\"]}',\n",
    "    #\"account\": os.getenv('snowflake_account'),\n",
    "    \"WAREHOUSE\": f'{config[\"Snowflake\"][\"WAREHOUSE\"]}',\n",
    "    \"DATABASE\": f'{config[\"Snowflake\"][\"DATABASE\"]}',\n",
    "    \"SCHEMA\": f'{config[\"Snowflake\"][\"SCHEMA\"]}'\n",
    "}"
   ]
  },
  {
   "cell_type": "code",
   "execution_count": 7,
   "id": "94d0200d",
   "metadata": {},
   "outputs": [
    {
     "name": "stdout",
     "output_type": "stream",
     "text": [
      "connection successful!\n"
     ]
    }
   ],
   "source": [
    "def snowflake_connector(conn):\n",
    "    try:\n",
    "        session = Session.builder.configs(conn).create()\n",
    "        print(\"connection successful!\")\n",
    "    except:\n",
    "        raise ValueError(\"error while connecting with db\")\n",
    "    return session\n",
    "\n",
    "session = snowflake_connector(connection_parameters)"
   ]
  },
  {
   "cell_type": "code",
   "execution_count": 8,
   "id": "8ebc2b66",
   "metadata": {},
   "outputs": [],
   "source": [
    "application_train_sf  = session.table(\"CRA_APPLICATION_TRAIN_DETAILS\")\n",
    "application_test_sf  = session.table(\"CRA_APPLICATION_TEST_DETAILS\")\n",
    "previous_application_sf  = session.table(\"CRA_PREVIOUS_APPLICATION_DETAILS\")"
   ]
  },
  {
   "cell_type": "markdown",
   "id": "bd0b4b30",
   "metadata": {},
   "source": [
    "# Convert Snowflake data into Pandas dataframes"
   ]
  },
  {
   "cell_type": "code",
   "execution_count": 9,
   "id": "8b65c096",
   "metadata": {},
   "outputs": [],
   "source": [
    "data = application_train_sf.to_pandas()\n",
    "test = application_test_sf.to_pandas()\n",
    "prev = previous_application_sf.to_pandas()"
   ]
  },
  {
   "cell_type": "code",
   "execution_count": 10,
   "id": "07ded794",
   "metadata": {},
   "outputs": [],
   "source": [
    "data.drop(['CREATED_BY','CREATED_AT'], axis=1, inplace=True)\n",
    "test.drop(['CREATED_BY','CREATED_AT'], axis=1, inplace=True)\n",
    "prev.drop(['CREATED_BY','CREATED_AT'], axis=1, inplace=True)"
   ]
  },
  {
   "cell_type": "code",
   "execution_count": 11,
   "id": "8f1a2832",
   "metadata": {
    "scrolled": true
   },
   "outputs": [],
   "source": [
    "categorical_feats = [\n",
    "    f for f in data.columns if data[f].dtype == 'object'\n",
    "]"
   ]
  },
  {
   "cell_type": "code",
   "execution_count": 12,
   "id": "a9f1651c",
   "metadata": {},
   "outputs": [],
   "source": [
    "for f_ in categorical_feats:\n",
    "    data[f_], indexer = pd.factorize(data[f_])\n",
    "    test[f_] = indexer.get_indexer(test[f_])"
   ]
  },
  {
   "cell_type": "code",
   "execution_count": 13,
   "id": "d7d8cf18",
   "metadata": {},
   "outputs": [],
   "source": [
    "gc.enable()\n",
    "\n",
    "y_train = data['TARGET']\n",
    "del data['TARGET']"
   ]
  },
  {
   "cell_type": "code",
   "execution_count": 14,
   "id": "a77babae",
   "metadata": {},
   "outputs": [],
   "source": [
    "prev_cat_features = [\n",
    "    f_ for f_ in prev.columns if prev[f_].dtype == 'object'\n",
    "]\n",
    "for f_ in prev_cat_features:\n",
    "    prev[f_], _ = pd.factorize(prev[f_])"
   ]
  },
  {
   "cell_type": "code",
   "execution_count": 15,
   "id": "8f752203",
   "metadata": {},
   "outputs": [],
   "source": [
    "avg_prev = prev.groupby('SK_ID_CURR').mean()\n",
    "cnt_prev = prev[['SK_ID_CURR', 'SK_ID_PREV']].groupby('SK_ID_CURR').count()\n",
    "avg_prev['nb_app'] = cnt_prev['SK_ID_PREV']\n",
    "del avg_prev['SK_ID_PREV']"
   ]
  },
  {
   "cell_type": "code",
   "execution_count": 16,
   "id": "87527ee2",
   "metadata": {},
   "outputs": [],
   "source": [
    "x_train = data.merge(right=avg_prev.reset_index(), how='left', on='SK_ID_CURR')\n",
    "x_test = test.merge(right=avg_prev.reset_index(), how='left', on='SK_ID_CURR')\n",
    "\n",
    "x_train = x_train.fillna(0)\n",
    "x_test= x_test.fillna(0)\n",
    "\n",
    "ntrain = x_train.shape[0]\n",
    "ntest = x_test.shape[0]"
   ]
  },
  {
   "cell_type": "code",
   "execution_count": 17,
   "id": "93e01200",
   "metadata": {},
   "outputs": [],
   "source": [
    "excluded_feats = ['SK_ID_CURR']\n",
    "features = [f_ for f_ in x_train.columns if f_ not in excluded_feats]"
   ]
  },
  {
   "cell_type": "code",
   "execution_count": 18,
   "id": "3d847db3",
   "metadata": {},
   "outputs": [],
   "source": [
    "x_train = x_train[features]\n",
    "x_test = x_test[features]\n",
    "\n",
    "kf = KFold(n_splits = NFOLDS, shuffle=True, random_state=SEED)"
   ]
  },
  {
   "cell_type": "code",
   "execution_count": 33,
   "id": "9ab19ee5",
   "metadata": {},
   "outputs": [],
   "source": [
    "class SklearnWrapper(object):\n",
    "    def __init__(self, clf, seed=0, params=None):\n",
    "        params['random_state'] = seed\n",
    "        self.clf = clf(**params)\n",
    "\n",
    "    def train(self, x_train, y_train):\n",
    "        self.clf.fit(x_train, y_train)\n",
    "\n",
    "    def predict(self, x):\n",
    "        return self.clf.predict(x)\n",
    "\n",
    "    def predict_proba(self, x):\n",
    "        return self.clf.predict_proba(x)[:,1]"
   ]
  },
  {
   "cell_type": "code",
   "execution_count": 34,
   "id": "3a44758c",
   "metadata": {},
   "outputs": [],
   "source": [
    "class CatboostWrapper(object):\n",
    "    def __init__(self, clf, seed=0, params=None):\n",
    "        params['random_seed'] = seed\n",
    "        self.clf = clf(**params)\n",
    "\n",
    "    def train(self, x_train, y_train):\n",
    "        self.clf.fit(x_train, y_train)\n",
    "\n",
    "    def predict(self, x):\n",
    "        return self.clf.predict(x)\n",
    "    \n",
    "    def predict_proba(self, x):\n",
    "        return self.clf.predict_proba(x)[:,1]"
   ]
  },
  {
   "cell_type": "code",
   "execution_count": 35,
   "id": "6a3a5d8b",
   "metadata": {},
   "outputs": [],
   "source": [
    "class XgbWrapper(object):\n",
    "    def __init__(self, seed=0, params=None):\n",
    "        self.param = params\n",
    "        self.param['seed'] = seed\n",
    "        self.nrounds = params.pop('nrounds', 250)\n",
    "\n",
    "    def train(self, x_train, y_train):\n",
    "        dtrain = xgb.DMatrix(x_train, label=y_train)\n",
    "        self.gbdt = xgb.train(self.param, dtrain, self.nrounds)\n",
    "\n",
    "    def predict(self, x):\n",
    "        return self.gbdt.predict(xgb.DMatrix(x))\n",
    "    \n",
    "    def predict_proba(self, x):\n",
    "        return self.gbdt.predict_proba(xgb.DMatrix(x))[:,1]"
   ]
  },
  {
   "cell_type": "code",
   "execution_count": 22,
   "id": "604c71ce",
   "metadata": {},
   "outputs": [],
   "source": [
    "def get_oof(clf):\n",
    "    oof_train = np.zeros((ntrain,))\n",
    "    oof_test = np.zeros((ntest,))\n",
    "    oof_test_skf = np.empty((NFOLDS, ntest))\n",
    "\n",
    "    for i, (train_index, test_index) in enumerate(kf.split(x_train)):\n",
    "        x_tr = x_train.loc[train_index]\n",
    "        y_tr = y_train.loc[train_index]\n",
    "        x_te = x_train.loc[test_index]\n",
    "\n",
    "        clf.train(x_tr, y_tr)\n",
    "\n",
    "        oof_train[test_index] = clf.predict(x_te)\n",
    "        oof_test_skf[i, :] = clf.predict(x_test)\n",
    "\n",
    "    oof_test[:] = oof_test_skf.mean(axis=0)\n",
    "    return oof_train.reshape(-1, 1), oof_test.reshape(-1, 1)"
   ]
  },
  {
   "cell_type": "code",
   "execution_count": 78,
   "id": "ff5f6e63",
   "metadata": {},
   "outputs": [],
   "source": [
    "et_params = {\n",
    "    'n_jobs': 16,\n",
    "    'n_estimators': 200,\n",
    "    'max_features': 0.5,\n",
    "    'max_depth': 12,\n",
    "    'min_samples_leaf': 2,\n",
    "    'random_state':0\n",
    "}"
   ]
  },
  {
   "cell_type": "code",
   "execution_count": 79,
   "id": "9ee53240",
   "metadata": {},
   "outputs": [],
   "source": [
    "rf_params = {\n",
    "    'n_jobs': 16,\n",
    "    'n_estimators': 200,\n",
    "    'max_features': 0.2,\n",
    "    'max_depth': 12,\n",
    "    'min_samples_leaf': 2,\n",
    "    'random_state':0\n",
    "}"
   ]
  },
  {
   "cell_type": "code",
   "execution_count": 80,
   "id": "78415a71",
   "metadata": {},
   "outputs": [],
   "source": [
    "xgb_params = {\n",
    "    'seed': 0,\n",
    "    'colsample_bytree': 0.7,\n",
    "    'silent': 1,\n",
    "    'subsample': 0.7,\n",
    "    'learning_rate': 0.075,\n",
    "    'objective': 'binary:logistic',\n",
    "    'max_depth': 4,\n",
    "    'num_parallel_tree': 1,\n",
    "    'min_child_weight': 1,\n",
    "    'nrounds': 200\n",
    "}"
   ]
  },
  {
   "cell_type": "code",
   "execution_count": 81,
   "id": "14272538",
   "metadata": {},
   "outputs": [],
   "source": [
    "catboost_params = {\n",
    "    'iterations': 200,\n",
    "    'learning_rate': 0.5,\n",
    "    'depth': 3,\n",
    "    'l2_leaf_reg': 40,\n",
    "    'bootstrap_type': 'Bernoulli',\n",
    "    'subsample': 0.7,\n",
    "    'scale_pos_weight': 5,\n",
    "    'eval_metric': 'AUC',\n",
    "    'od_type': 'Iter',\n",
    "    'allow_writing_files': False,\n",
    "    'random_seed':0\n",
    "}"
   ]
  },
  {
   "cell_type": "code",
   "execution_count": 27,
   "id": "cb755482",
   "metadata": {},
   "outputs": [],
   "source": [
    "#xg = XgbWrapper(seed=SEED, params=xgb_params)\n",
    "#et = SklearnWrapper(clf=ExtraTreesClassifier, seed=SEED, params=et_params)\n",
    "#rf = SklearnWrapper(clf=RandomForestClassifier, seed=SEED, params=rf_params)\n",
    "#cb = CatboostWrapper(clf= CatBoostClassifier, seed = SEED, params=catboost_params)"
   ]
  },
  {
   "cell_type": "markdown",
   "id": "35afc22b",
   "metadata": {},
   "source": [
    "# XGBoost Classifier"
   ]
  },
  {
   "cell_type": "code",
   "execution_count": 61,
   "id": "093fa990",
   "metadata": {
    "scrolled": false
   },
   "outputs": [],
   "source": [
    "#xg_oof_train, xg_oof_test = get_oof(xg)"
   ]
  },
  {
   "cell_type": "code",
   "execution_count": 62,
   "id": "aca797ec",
   "metadata": {},
   "outputs": [
    {
     "name": "stderr",
     "output_type": "stream",
     "text": [
      "/tmp/pip_packages/xgboost/core.py:160: UserWarning: [09:48:08] WARNING: /workspace/src/learner.cc:742: \n",
      "Parameters: { \"silent\" } are not used.\n",
      "\n",
      "  warnings.warn(smsg, UserWarning)\n"
     ]
    }
   ],
   "source": [
    "param = xgb_params\n",
    "param['seed'] = 0\n",
    "nrounds = 250\n",
    "\n",
    "dtrain = xgb.DMatrix(x_train, label=y_train)\n",
    "gbdt = xgb.train(param, dtrain, nrounds)"
   ]
  },
  {
   "cell_type": "code",
   "execution_count": null,
   "id": "1cee3385",
   "metadata": {},
   "outputs": [],
   "source": [
    "#y_prob = gbdt.predict(xgb.DMatrix(x))\n",
    "#y_pred = np.round(y_prob)"
   ]
  },
  {
   "cell_type": "code",
   "execution_count": 64,
   "id": "f135b19a",
   "metadata": {},
   "outputs": [],
   "source": [
    "y_prob = gbdt.predict(xgb.DMatrix(x_train))"
   ]
  },
  {
   "cell_type": "code",
   "execution_count": 65,
   "id": "96952f88",
   "metadata": {},
   "outputs": [],
   "source": [
    "y_pred = np.round(y_prob)"
   ]
  },
  {
   "cell_type": "code",
   "execution_count": 66,
   "id": "3a52451d",
   "metadata": {},
   "outputs": [
    {
     "data": {
      "text/plain": [
       "array([0.0574903 , 0.0402197 , 0.08202588, ..., 0.07238798, 0.04120503,\n",
       "       0.116495  ], dtype=float32)"
      ]
     },
     "execution_count": 66,
     "metadata": {},
     "output_type": "execute_result"
    }
   ],
   "source": [
    "y_prob"
   ]
  },
  {
   "cell_type": "code",
   "execution_count": 67,
   "id": "fbbb7005",
   "metadata": {},
   "outputs": [
    {
     "data": {
      "text/plain": [
       "array([0., 0., 0., ..., 0., 0., 0.], dtype=float32)"
      ]
     },
     "execution_count": 67,
     "metadata": {},
     "output_type": "execute_result"
    }
   ],
   "source": [
    "y_pred"
   ]
  },
  {
   "cell_type": "code",
   "execution_count": 75,
   "id": "c152d938",
   "metadata": {},
   "outputs": [],
   "source": [
    "@scoring_func\n",
    "def score(model, request):\n",
    "    payload_dict = request.json[\"payload\"]\n",
    "    data = pd.DataFrame(payload_dict,index=[0])\n",
    "    y_pred = model.predict(xgb.DMatrix(data))\n",
    "    #y_prob = model.predict_proba(xgb.DMatrix(data))[:,1]\n",
    "    temp_dict = {\"Prediction: \": np.round(y_pred), \"Probability: \": y_pred }\n",
    "    return temp_dict"
   ]
  },
  {
   "cell_type": "code",
   "execution_count": 69,
   "id": "58ec086d",
   "metadata": {
    "scrolled": false
   },
   "outputs": [
    {
     "data": {
      "text/plain": [
       "{'NAME_CONTRACT_TYPE_x': 0.0,\n",
       " 'CODE_GENDER': 0.0,\n",
       " 'FLAG_OWN_CAR': 0.0,\n",
       " 'FLAG_OWN_REALTY': 0.0,\n",
       " 'CNT_CHILDREN': 1.0,\n",
       " 'AMT_INCOME_TOTAL': 270000.0,\n",
       " 'AMT_CREDIT_x': 1288350.0,\n",
       " 'AMT_ANNUITY_x': 37669.5,\n",
       " 'AMT_GOODS_PRICE_x': 1125000.0,\n",
       " 'NAME_TYPE_SUITE_x': 0.0,\n",
       " 'NAME_INCOME_TYPE': 0.0,\n",
       " 'NAME_EDUCATION_TYPE': 0.0,\n",
       " 'NAME_FAMILY_STATUS': 0.0,\n",
       " 'NAME_HOUSING_TYPE': 0.0,\n",
       " 'REGION_POPULATION_RELATIVE': 0.02461,\n",
       " 'DAYS_BIRTH': -13625.0,\n",
       " 'DAYS_EMPLOYED': -1725.0,\n",
       " 'DAYS_REGISTRATION': -3376.0,\n",
       " 'DAYS_ID_PUBLISH': -5593.0,\n",
       " 'OWN_CAR_AGE': 0.0,\n",
       " 'FLAG_MOBIL': 1.0,\n",
       " 'FLAG_EMP_PHONE': 1.0,\n",
       " 'FLAG_WORK_PHONE': 1.0,\n",
       " 'FLAG_CONT_MOBILE': 1.0,\n",
       " 'FLAG_PHONE': 0.0,\n",
       " 'FLAG_EMAIL': 0.0,\n",
       " 'OCCUPATION_TYPE': 0.0,\n",
       " 'CNT_FAM_MEMBERS': 3.0,\n",
       " 'REGION_RATING_CLIENT': 2.0,\n",
       " 'REGION_RATING_CLIENT_W_CITY': 2.0,\n",
       " 'WEEKDAY_APPR_PROCESS_START_x': 0.0,\n",
       " 'HOUR_APPR_PROCESS_START_x': 14.0,\n",
       " 'REG_REGION_NOT_LIVE_REGION': 0.0,\n",
       " 'REG_REGION_NOT_WORK_REGION': 0.0,\n",
       " 'LIVE_REGION_NOT_WORK_REGION': 0.0,\n",
       " 'REG_CITY_NOT_LIVE_CITY': 0.0,\n",
       " 'REG_CITY_NOT_WORK_CITY': 0.0,\n",
       " 'LIVE_CITY_NOT_WORK_CITY': 0.0,\n",
       " 'ORGANIZATION_TYPE': 0.0,\n",
       " 'EXT_SOURCE_1': 0.0,\n",
       " 'EXT_SOURCE_2': 0.6451581998707777,\n",
       " 'EXT_SOURCE_3': 0.4561097392782771,\n",
       " 'APARTMENTS_AVG': 0.0,\n",
       " 'BASEMENTAREA_AVG': 0.0,\n",
       " 'YEARS_BEGINEXPLUATATION_AVG': 0.0,\n",
       " 'YEARS_BUILD_AVG': 0.0,\n",
       " 'COMMONAREA_AVG': 0.0,\n",
       " 'ELEVATORS_AVG': 0.0,\n",
       " 'ENTRANCES_AVG': 0.0,\n",
       " 'FLOORSMAX_AVG': 0.0,\n",
       " 'FLOORSMIN_AVG': 0.0,\n",
       " 'LANDAREA_AVG': 0.0,\n",
       " 'LIVINGAPARTMENTS_AVG': 0.0,\n",
       " 'LIVINGAREA_AVG': 0.0,\n",
       " 'NONLIVINGAPARTMENTS_AVG': 0.0,\n",
       " 'NONLIVINGAREA_AVG': 0.0,\n",
       " 'APARTMENTS_MODE': 0.0,\n",
       " 'BASEMENTAREA_MODE': 0.0,\n",
       " 'YEARS_BEGINEXPLUATATION_MODE': 0.0,\n",
       " 'YEARS_BUILD_MODE': 0.0,\n",
       " 'COMMONAREA_MODE': 0.0,\n",
       " 'ELEVATORS_MODE': 0.0,\n",
       " 'ENTRANCES_MODE': 0.0,\n",
       " 'FLOORSMAX_MODE': 0.0,\n",
       " 'FLOORSMIN_MODE': 0.0,\n",
       " 'LANDAREA_MODE': 0.0,\n",
       " 'LIVINGAPARTMENTS_MODE': 0.0,\n",
       " 'LIVINGAREA_MODE': 0.0,\n",
       " 'NONLIVINGAPARTMENTS_MODE': 0.0,\n",
       " 'NONLIVINGAREA_MODE': 0.0,\n",
       " 'APARTMENTS_MEDI': 0.0,\n",
       " 'BASEMENTAREA_MEDI': 0.0,\n",
       " 'YEARS_BEGINEXPLUATATION_MEDI': 0.0,\n",
       " 'YEARS_BUILD_MEDI': 0.0,\n",
       " 'COMMONAREA_MEDI': 0.0,\n",
       " 'ELEVATORS_MEDI': 0.0,\n",
       " 'ENTRANCES_MEDI': 0.0,\n",
       " 'FLOORSMAX_MEDI': 0.0,\n",
       " 'FLOORSMIN_MEDI': 0.0,\n",
       " 'LANDAREA_MEDI': 0.0,\n",
       " 'LIVINGAPARTMENTS_MEDI': 0.0,\n",
       " 'LIVINGAREA_MEDI': 0.0,\n",
       " 'NONLIVINGAPARTMENTS_MEDI': 0.0,\n",
       " 'NONLIVINGAREA_MEDI': 0.0,\n",
       " 'FONDKAPREMONT_MODE': 0.0,\n",
       " 'HOUSETYPE_MODE': 0.0,\n",
       " 'TOTALAREA_MODE': 0.0,\n",
       " 'WALLSMATERIAL_MODE': 0.0,\n",
       " 'EMERGENCYSTATE_MODE': 0.0,\n",
       " 'OBS_30_CNT_SOCIAL_CIRCLE': 2.0,\n",
       " 'DEF_30_CNT_SOCIAL_CIRCLE': 0.0,\n",
       " 'OBS_60_CNT_SOCIAL_CIRCLE': 2.0,\n",
       " 'DEF_60_CNT_SOCIAL_CIRCLE': 0.0,\n",
       " 'DAYS_LAST_PHONE_CHANGE': -1424.0,\n",
       " 'FLAG_DOCUMENT_2': 0.0,\n",
       " 'FLAG_DOCUMENT_3': 1.0,\n",
       " 'FLAG_DOCUMENT_4': 0.0,\n",
       " 'FLAG_DOCUMENT_5': 0.0,\n",
       " 'FLAG_DOCUMENT_6': 0.0,\n",
       " 'FLAG_DOCUMENT_7': 0.0,\n",
       " 'FLAG_DOCUMENT_8': 0.0,\n",
       " 'FLAG_DOCUMENT_9': 0.0,\n",
       " 'FLAG_DOCUMENT_10': 0.0,\n",
       " 'FLAG_DOCUMENT_11': 0.0,\n",
       " 'FLAG_DOCUMENT_12': 0.0,\n",
       " 'FLAG_DOCUMENT_13': 0.0,\n",
       " 'FLAG_DOCUMENT_14': 0.0,\n",
       " 'FLAG_DOCUMENT_15': 0.0,\n",
       " 'FLAG_DOCUMENT_16': 0.0,\n",
       " 'FLAG_DOCUMENT_17': 0.0,\n",
       " 'FLAG_DOCUMENT_18': 0.0,\n",
       " 'FLAG_DOCUMENT_19': 0.0,\n",
       " 'FLAG_DOCUMENT_20': 0.0,\n",
       " 'FLAG_DOCUMENT_21': 0.0,\n",
       " 'AMT_REQ_CREDIT_BUREAU_HOUR': 0.0,\n",
       " 'AMT_REQ_CREDIT_BUREAU_DAY': 0.0,\n",
       " 'AMT_REQ_CREDIT_BUREAU_WEEK': 0.0,\n",
       " 'AMT_REQ_CREDIT_BUREAU_MON': 0.0,\n",
       " 'AMT_REQ_CREDIT_BUREAU_QRT': 0.0,\n",
       " 'AMT_REQ_CREDIT_BUREAU_YEAR': 0.0,\n",
       " 'NAME_CONTRACT_TYPE_y': 2.0,\n",
       " 'AMT_ANNUITY_y': 5830.927500000001,\n",
       " 'AMT_APPLICATION': 35964.0,\n",
       " 'AMT_CREDIT_y': 32982.42857142857,\n",
       " 'AMT_DOWN_PAYMENT': 3319.0714285714284,\n",
       " 'AMT_GOODS_PRICE_y': 35964.0,\n",
       " 'WEEKDAY_APPR_PROCESS_START_y': 2.7142857142857144,\n",
       " 'HOUR_APPR_PROCESS_START_y': 14.285714285714286,\n",
       " 'FLAG_LAST_APPL_PER_CONTRACT': 0.0,\n",
       " 'NFLAG_LAST_APPL_IN_DAY': 1.0,\n",
       " 'RATE_DOWN_PAYMENT': 0.1036883274097268,\n",
       " 'RATE_INTEREST_PRIMARY': 0.0,\n",
       " 'RATE_INTEREST_PRIVILEGED': 0.0,\n",
       " 'NAME_CASH_LOAN_PURPOSE': 1.0,\n",
       " 'NAME_CONTRACT_STATUS': 0.2857142857142857,\n",
       " 'DAYS_DECISION': -1509.142857142857,\n",
       " 'NAME_PAYMENT_TYPE': 0.5714285714285714,\n",
       " 'CODE_REJECT_REASON': 0.14285714285714285,\n",
       " 'NAME_TYPE_SUITE_y': 1.0,\n",
       " 'NAME_CLIENT_TYPE': 0.42857142857142855,\n",
       " 'NAME_GOODS_CATEGORY': 4.142857142857143,\n",
       " 'NAME_PORTFOLIO': 2.7142857142857144,\n",
       " 'NAME_PRODUCT_TYPE': 1.0,\n",
       " 'CHANNEL_TYPE': 1.7142857142857142,\n",
       " 'SELLERPLACE_AREA': 50.142857142857146,\n",
       " 'NAME_SELLER_INDUSTRY': 2.4285714285714284,\n",
       " 'CNT_PAYMENT': 6.5,\n",
       " 'NAME_YIELD_GROUP': 1.7142857142857142,\n",
       " 'PRODUCT_COMBINATION': 8.714285714285714,\n",
       " 'DAYS_FIRST_DRAWING': 365243.0,\n",
       " 'DAYS_FIRST_DUE': -1356.6666666666667,\n",
       " 'DAYS_LAST_DUE_1ST_VERSION': -1191.6666666666667,\n",
       " 'DAYS_LAST_DUE': -1226.6666666666667,\n",
       " 'DAYS_TERMINATION': -1220.5,\n",
       " 'NFLAG_INSURED_ON_APPROVAL': 0.0,\n",
       " 'nb_app': 7.0}"
      ]
     },
     "execution_count": 69,
     "metadata": {},
     "output_type": "execute_result"
    }
   ],
   "source": [
    "payload  = x_train.iloc[0].to_dict()\n",
    "payload"
   ]
  },
  {
   "cell_type": "code",
   "execution_count": 70,
   "id": "6e066dcb",
   "metadata": {},
   "outputs": [
    {
     "name": "stdout",
     "output_type": "stream",
     "text": [
      "{ \"payload\":  {'NAME_CONTRACT_TYPE_x': 0.0, 'CODE_GENDER': 0.0, 'FLAG_OWN_CAR': 0.0, 'FLAG_OWN_REALTY': 0.0, 'CNT_CHILDREN': 1.0, 'AMT_INCOME_TOTAL': 270000.0, 'AMT_CREDIT_x': 1288350.0, 'AMT_ANNUITY_x': 37669.5, 'AMT_GOODS_PRICE_x': 1125000.0, 'NAME_TYPE_SUITE_x': 0.0, 'NAME_INCOME_TYPE': 0.0, 'NAME_EDUCATION_TYPE': 0.0, 'NAME_FAMILY_STATUS': 0.0, 'NAME_HOUSING_TYPE': 0.0, 'REGION_POPULATION_RELATIVE': 0.02461, 'DAYS_BIRTH': -13625.0, 'DAYS_EMPLOYED': -1725.0, 'DAYS_REGISTRATION': -3376.0, 'DAYS_ID_PUBLISH': -5593.0, 'OWN_CAR_AGE': 0.0, 'FLAG_MOBIL': 1.0, 'FLAG_EMP_PHONE': 1.0, 'FLAG_WORK_PHONE': 1.0, 'FLAG_CONT_MOBILE': 1.0, 'FLAG_PHONE': 0.0, 'FLAG_EMAIL': 0.0, 'OCCUPATION_TYPE': 0.0, 'CNT_FAM_MEMBERS': 3.0, 'REGION_RATING_CLIENT': 2.0, 'REGION_RATING_CLIENT_W_CITY': 2.0, 'WEEKDAY_APPR_PROCESS_START_x': 0.0, 'HOUR_APPR_PROCESS_START_x': 14.0, 'REG_REGION_NOT_LIVE_REGION': 0.0, 'REG_REGION_NOT_WORK_REGION': 0.0, 'LIVE_REGION_NOT_WORK_REGION': 0.0, 'REG_CITY_NOT_LIVE_CITY': 0.0, 'REG_CITY_NOT_WORK_CITY': 0.0, 'LIVE_CITY_NOT_WORK_CITY': 0.0, 'ORGANIZATION_TYPE': 0.0, 'EXT_SOURCE_1': 0.0, 'EXT_SOURCE_2': 0.6451581998707777, 'EXT_SOURCE_3': 0.4561097392782771, 'APARTMENTS_AVG': 0.0, 'BASEMENTAREA_AVG': 0.0, 'YEARS_BEGINEXPLUATATION_AVG': 0.0, 'YEARS_BUILD_AVG': 0.0, 'COMMONAREA_AVG': 0.0, 'ELEVATORS_AVG': 0.0, 'ENTRANCES_AVG': 0.0, 'FLOORSMAX_AVG': 0.0, 'FLOORSMIN_AVG': 0.0, 'LANDAREA_AVG': 0.0, 'LIVINGAPARTMENTS_AVG': 0.0, 'LIVINGAREA_AVG': 0.0, 'NONLIVINGAPARTMENTS_AVG': 0.0, 'NONLIVINGAREA_AVG': 0.0, 'APARTMENTS_MODE': 0.0, 'BASEMENTAREA_MODE': 0.0, 'YEARS_BEGINEXPLUATATION_MODE': 0.0, 'YEARS_BUILD_MODE': 0.0, 'COMMONAREA_MODE': 0.0, 'ELEVATORS_MODE': 0.0, 'ENTRANCES_MODE': 0.0, 'FLOORSMAX_MODE': 0.0, 'FLOORSMIN_MODE': 0.0, 'LANDAREA_MODE': 0.0, 'LIVINGAPARTMENTS_MODE': 0.0, 'LIVINGAREA_MODE': 0.0, 'NONLIVINGAPARTMENTS_MODE': 0.0, 'NONLIVINGAREA_MODE': 0.0, 'APARTMENTS_MEDI': 0.0, 'BASEMENTAREA_MEDI': 0.0, 'YEARS_BEGINEXPLUATATION_MEDI': 0.0, 'YEARS_BUILD_MEDI': 0.0, 'COMMONAREA_MEDI': 0.0, 'ELEVATORS_MEDI': 0.0, 'ENTRANCES_MEDI': 0.0, 'FLOORSMAX_MEDI': 0.0, 'FLOORSMIN_MEDI': 0.0, 'LANDAREA_MEDI': 0.0, 'LIVINGAPARTMENTS_MEDI': 0.0, 'LIVINGAREA_MEDI': 0.0, 'NONLIVINGAPARTMENTS_MEDI': 0.0, 'NONLIVINGAREA_MEDI': 0.0, 'FONDKAPREMONT_MODE': 0.0, 'HOUSETYPE_MODE': 0.0, 'TOTALAREA_MODE': 0.0, 'WALLSMATERIAL_MODE': 0.0, 'EMERGENCYSTATE_MODE': 0.0, 'OBS_30_CNT_SOCIAL_CIRCLE': 2.0, 'DEF_30_CNT_SOCIAL_CIRCLE': 0.0, 'OBS_60_CNT_SOCIAL_CIRCLE': 2.0, 'DEF_60_CNT_SOCIAL_CIRCLE': 0.0, 'DAYS_LAST_PHONE_CHANGE': -1424.0, 'FLAG_DOCUMENT_2': 0.0, 'FLAG_DOCUMENT_3': 1.0, 'FLAG_DOCUMENT_4': 0.0, 'FLAG_DOCUMENT_5': 0.0, 'FLAG_DOCUMENT_6': 0.0, 'FLAG_DOCUMENT_7': 0.0, 'FLAG_DOCUMENT_8': 0.0, 'FLAG_DOCUMENT_9': 0.0, 'FLAG_DOCUMENT_10': 0.0, 'FLAG_DOCUMENT_11': 0.0, 'FLAG_DOCUMENT_12': 0.0, 'FLAG_DOCUMENT_13': 0.0, 'FLAG_DOCUMENT_14': 0.0, 'FLAG_DOCUMENT_15': 0.0, 'FLAG_DOCUMENT_16': 0.0, 'FLAG_DOCUMENT_17': 0.0, 'FLAG_DOCUMENT_18': 0.0, 'FLAG_DOCUMENT_19': 0.0, 'FLAG_DOCUMENT_20': 0.0, 'FLAG_DOCUMENT_21': 0.0, 'AMT_REQ_CREDIT_BUREAU_HOUR': 0.0, 'AMT_REQ_CREDIT_BUREAU_DAY': 0.0, 'AMT_REQ_CREDIT_BUREAU_WEEK': 0.0, 'AMT_REQ_CREDIT_BUREAU_MON': 0.0, 'AMT_REQ_CREDIT_BUREAU_QRT': 0.0, 'AMT_REQ_CREDIT_BUREAU_YEAR': 0.0, 'NAME_CONTRACT_TYPE_y': 2.0, 'AMT_ANNUITY_y': 5830.927500000001, 'AMT_APPLICATION': 35964.0, 'AMT_CREDIT_y': 32982.42857142857, 'AMT_DOWN_PAYMENT': 3319.0714285714284, 'AMT_GOODS_PRICE_y': 35964.0, 'WEEKDAY_APPR_PROCESS_START_y': 2.7142857142857144, 'HOUR_APPR_PROCESS_START_y': 14.285714285714286, 'FLAG_LAST_APPL_PER_CONTRACT': 0.0, 'NFLAG_LAST_APPL_IN_DAY': 1.0, 'RATE_DOWN_PAYMENT': 0.1036883274097268, 'RATE_INTEREST_PRIMARY': 0.0, 'RATE_INTEREST_PRIVILEGED': 0.0, 'NAME_CASH_LOAN_PURPOSE': 1.0, 'NAME_CONTRACT_STATUS': 0.2857142857142857, 'DAYS_DECISION': -1509.142857142857, 'NAME_PAYMENT_TYPE': 0.5714285714285714, 'CODE_REJECT_REASON': 0.14285714285714285, 'NAME_TYPE_SUITE_y': 1.0, 'NAME_CLIENT_TYPE': 0.42857142857142855, 'NAME_GOODS_CATEGORY': 4.142857142857143, 'NAME_PORTFOLIO': 2.7142857142857144, 'NAME_PRODUCT_TYPE': 1.0, 'CHANNEL_TYPE': 1.7142857142857142, 'SELLERPLACE_AREA': 50.142857142857146, 'NAME_SELLER_INDUSTRY': 2.4285714285714284, 'CNT_PAYMENT': 6.5, 'NAME_YIELD_GROUP': 1.7142857142857142, 'PRODUCT_COMBINATION': 8.714285714285714, 'DAYS_FIRST_DRAWING': 365243.0, 'DAYS_FIRST_DUE': -1356.6666666666667, 'DAYS_LAST_DUE_1ST_VERSION': -1191.6666666666667, 'DAYS_LAST_DUE': -1226.6666666666667, 'DAYS_TERMINATION': -1220.5, 'NFLAG_INSURED_ON_APPROVAL': 0.0, 'nb_app': 7.0} }\n"
     ]
    }
   ],
   "source": [
    "print ('{ \"payload\": ', payload, \"}\")"
   ]
  },
  {
   "cell_type": "code",
   "execution_count": 76,
   "id": "3765ef37",
   "metadata": {},
   "outputs": [
    {
     "data": {
      "text/plain": [
       "{'Prediction: ': array([0.], dtype=float32),\n",
       " 'Probability: ': array([0.0574903], dtype=float32)}"
      ]
     },
     "execution_count": 76,
     "metadata": {},
     "output_type": "execute_result"
    }
   ],
   "source": [
    "req = requests.Request()\n",
    "req.json = {\"payload\":payload}\n",
    "y_req = req\n",
    "score(gbdt, y_req)"
   ]
  },
  {
   "cell_type": "code",
   "execution_count": 77,
   "id": "2b8ece8a",
   "metadata": {},
   "outputs": [
    {
     "name": "stdout",
     "output_type": "stream",
     "text": [
      "Calculating build time metrics\n",
      "\n",
      "Progress: ██████████████████████████████████████████████████████████████████████ 100.0%\n"
     ]
    },
    {
     "data": {
      "application/vnd.jupyter.widget-view+json": {
       "model_id": "453735adf8fe45e58a68c06e8eed83b8",
       "version_major": 2,
       "version_minor": 0
      },
      "text/plain": [
       "VBox(children=(HTML(value='<style>.grad_1{background: #2468a4;} .grad_2{ color:white; background: #2468a4;}</s…"
      ]
     },
     "metadata": {},
     "output_type": "display_data"
    }
   ],
   "source": [
    "## registering the model in refract.\n",
    "model_reg = register_model(gbdt,\n",
    "               score, \n",
    "               name=\"CRA_XGBoost_Model\", \n",
    "               description=\"Credit Risk XGBoost Model\",\n",
    "               flavour=MLModelFlavours.sklearn,\n",
    "               model_type=\"classification\",\n",
    "               init_script=\"pip install snowflake-ml-python==1.0.11\",\n",
    "               y_true=y_train,\n",
    "               y_pred=y_pred,\n",
    "               prob=y_prob,\n",
    "               features=x_train.columns,\n",
    "               input_type=\"json\", \n",
    "               explain_ai=True,\n",
    "               x_train=x_train, \n",
    "               x_test=x_train, \n",
    "               y_train=y_train.tolist(),\n",
    "               y_test=y_train.tolist(),\n",
    "               feature_names=x_train.columns.tolist(),\n",
    "               original_features=x_train.columns.tolist(),\n",
    "               feature_ids=x_train.columns,\n",
    "               kyd=True, kyd_score = True)"
   ]
  },
  {
   "cell_type": "markdown",
   "id": "2b53aee1",
   "metadata": {},
   "source": [
    "# RandomForest Classifier"
   ]
  },
  {
   "cell_type": "code",
   "execution_count": 83,
   "id": "3e8372cd",
   "metadata": {},
   "outputs": [
    {
     "data": {
      "text/html": [
       "<style>#sk-container-id-1 {color: black;background-color: white;}#sk-container-id-1 pre{padding: 0;}#sk-container-id-1 div.sk-toggleable {background-color: white;}#sk-container-id-1 label.sk-toggleable__label {cursor: pointer;display: block;width: 100%;margin-bottom: 0;padding: 0.3em;box-sizing: border-box;text-align: center;}#sk-container-id-1 label.sk-toggleable__label-arrow:before {content: \"▸\";float: left;margin-right: 0.25em;color: #696969;}#sk-container-id-1 label.sk-toggleable__label-arrow:hover:before {color: black;}#sk-container-id-1 div.sk-estimator:hover label.sk-toggleable__label-arrow:before {color: black;}#sk-container-id-1 div.sk-toggleable__content {max-height: 0;max-width: 0;overflow: hidden;text-align: left;background-color: #f0f8ff;}#sk-container-id-1 div.sk-toggleable__content pre {margin: 0.2em;color: black;border-radius: 0.25em;background-color: #f0f8ff;}#sk-container-id-1 input.sk-toggleable__control:checked~div.sk-toggleable__content {max-height: 200px;max-width: 100%;overflow: auto;}#sk-container-id-1 input.sk-toggleable__control:checked~label.sk-toggleable__label-arrow:before {content: \"▾\";}#sk-container-id-1 div.sk-estimator input.sk-toggleable__control:checked~label.sk-toggleable__label {background-color: #d4ebff;}#sk-container-id-1 div.sk-label input.sk-toggleable__control:checked~label.sk-toggleable__label {background-color: #d4ebff;}#sk-container-id-1 input.sk-hidden--visually {border: 0;clip: rect(1px 1px 1px 1px);clip: rect(1px, 1px, 1px, 1px);height: 1px;margin: -1px;overflow: hidden;padding: 0;position: absolute;width: 1px;}#sk-container-id-1 div.sk-estimator {font-family: monospace;background-color: #f0f8ff;border: 1px dotted black;border-radius: 0.25em;box-sizing: border-box;margin-bottom: 0.5em;}#sk-container-id-1 div.sk-estimator:hover {background-color: #d4ebff;}#sk-container-id-1 div.sk-parallel-item::after {content: \"\";width: 100%;border-bottom: 1px solid gray;flex-grow: 1;}#sk-container-id-1 div.sk-label:hover label.sk-toggleable__label {background-color: #d4ebff;}#sk-container-id-1 div.sk-serial::before {content: \"\";position: absolute;border-left: 1px solid gray;box-sizing: border-box;top: 0;bottom: 0;left: 50%;z-index: 0;}#sk-container-id-1 div.sk-serial {display: flex;flex-direction: column;align-items: center;background-color: white;padding-right: 0.2em;padding-left: 0.2em;position: relative;}#sk-container-id-1 div.sk-item {position: relative;z-index: 1;}#sk-container-id-1 div.sk-parallel {display: flex;align-items: stretch;justify-content: center;background-color: white;position: relative;}#sk-container-id-1 div.sk-item::before, #sk-container-id-1 div.sk-parallel-item::before {content: \"\";position: absolute;border-left: 1px solid gray;box-sizing: border-box;top: 0;bottom: 0;left: 50%;z-index: -1;}#sk-container-id-1 div.sk-parallel-item {display: flex;flex-direction: column;z-index: 1;position: relative;background-color: white;}#sk-container-id-1 div.sk-parallel-item:first-child::after {align-self: flex-end;width: 50%;}#sk-container-id-1 div.sk-parallel-item:last-child::after {align-self: flex-start;width: 50%;}#sk-container-id-1 div.sk-parallel-item:only-child::after {width: 0;}#sk-container-id-1 div.sk-dashed-wrapped {border: 1px dashed gray;margin: 0 0.4em 0.5em 0.4em;box-sizing: border-box;padding-bottom: 0.4em;background-color: white;}#sk-container-id-1 div.sk-label label {font-family: monospace;font-weight: bold;display: inline-block;line-height: 1.2em;}#sk-container-id-1 div.sk-label-container {text-align: center;}#sk-container-id-1 div.sk-container {/* jupyter's `normalize.less` sets `[hidden] { display: none; }` but bootstrap.min.css set `[hidden] { display: none !important; }` so we also need the `!important` here to be able to override the default hidden behavior on the sphinx rendered scikit-learn.org. See: https://github.com/scikit-learn/scikit-learn/issues/21755 */display: inline-block !important;position: relative;}#sk-container-id-1 div.sk-text-repr-fallback {display: none;}</style><div id=\"sk-container-id-1\" class=\"sk-top-container\"><div class=\"sk-text-repr-fallback\"><pre>RandomForestClassifier(max_depth=12, max_features=0.2, min_samples_leaf=2,\n",
       "                       n_estimators=200, n_jobs=16, random_state=0)</pre><b>In a Jupyter environment, please rerun this cell to show the HTML representation or trust the notebook. <br />On GitHub, the HTML representation is unable to render, please try loading this page with nbviewer.org.</b></div><div class=\"sk-container\" hidden><div class=\"sk-item\"><div class=\"sk-estimator sk-toggleable\"><input class=\"sk-toggleable__control sk-hidden--visually\" id=\"sk-estimator-id-1\" type=\"checkbox\" checked><label for=\"sk-estimator-id-1\" class=\"sk-toggleable__label sk-toggleable__label-arrow\">RandomForestClassifier</label><div class=\"sk-toggleable__content\"><pre>RandomForestClassifier(max_depth=12, max_features=0.2, min_samples_leaf=2,\n",
       "                       n_estimators=200, n_jobs=16, random_state=0)</pre></div></div></div></div></div>"
      ],
      "text/plain": [
       "RandomForestClassifier(max_depth=12, max_features=0.2, min_samples_leaf=2,\n",
       "                       n_estimators=200, n_jobs=16, random_state=0)"
      ]
     },
     "execution_count": 83,
     "metadata": {},
     "output_type": "execute_result"
    }
   ],
   "source": [
    "RFC = RandomForestClassifier(**rf_params)\n",
    "RFC.fit(x_train, y_train)"
   ]
  },
  {
   "cell_type": "code",
   "execution_count": 85,
   "id": "3f38a701",
   "metadata": {},
   "outputs": [],
   "source": [
    "y_pred = RFC.predict(x_train)"
   ]
  },
  {
   "cell_type": "code",
   "execution_count": 86,
   "id": "ec54d46d",
   "metadata": {},
   "outputs": [],
   "source": [
    "y_prob = RFC.predict_proba(x_train)[:,1]"
   ]
  },
  {
   "cell_type": "code",
   "execution_count": 87,
   "id": "03601605",
   "metadata": {},
   "outputs": [
    {
     "data": {
      "text/plain": [
       "array([0, 0, 0, ..., 0, 0, 0], dtype=int8)"
      ]
     },
     "execution_count": 87,
     "metadata": {},
     "output_type": "execute_result"
    }
   ],
   "source": [
    "y_pred"
   ]
  },
  {
   "cell_type": "code",
   "execution_count": 88,
   "id": "4a90acbf",
   "metadata": {},
   "outputs": [
    {
     "data": {
      "text/plain": [
       "array([0.05953402, 0.04038833, 0.05930782, ..., 0.06358363, 0.04462819,\n",
       "       0.15885422])"
      ]
     },
     "execution_count": 88,
     "metadata": {},
     "output_type": "execute_result"
    }
   ],
   "source": [
    "y_prob"
   ]
  },
  {
   "cell_type": "code",
   "execution_count": 92,
   "id": "e238f2f5",
   "metadata": {},
   "outputs": [],
   "source": [
    "@scoring_func\n",
    "def score(model, request):\n",
    "    payload_dict = request.json[\"payload\"]\n",
    "    data = pd.DataFrame(payload_dict,index=[0])\n",
    "    y_pred = model.predict(data)\n",
    "    y_prob = model.predict_proba(data)[:,1]\n",
    "    temp_dict = {\"Prediction: \": np.round(y_pred), \"Probability: \": y_prob }\n",
    "    return temp_dict"
   ]
  },
  {
   "cell_type": "code",
   "execution_count": 90,
   "id": "b7714300",
   "metadata": {},
   "outputs": [
    {
     "name": "stdout",
     "output_type": "stream",
     "text": [
      "{ \"payload\":  {'NAME_CONTRACT_TYPE_x': 0.0, 'CODE_GENDER': 0.0, 'FLAG_OWN_CAR': 0.0, 'FLAG_OWN_REALTY': 0.0, 'CNT_CHILDREN': 1.0, 'AMT_INCOME_TOTAL': 270000.0, 'AMT_CREDIT_x': 1288350.0, 'AMT_ANNUITY_x': 37669.5, 'AMT_GOODS_PRICE_x': 1125000.0, 'NAME_TYPE_SUITE_x': 0.0, 'NAME_INCOME_TYPE': 0.0, 'NAME_EDUCATION_TYPE': 0.0, 'NAME_FAMILY_STATUS': 0.0, 'NAME_HOUSING_TYPE': 0.0, 'REGION_POPULATION_RELATIVE': 0.02461, 'DAYS_BIRTH': -13625.0, 'DAYS_EMPLOYED': -1725.0, 'DAYS_REGISTRATION': -3376.0, 'DAYS_ID_PUBLISH': -5593.0, 'OWN_CAR_AGE': 0.0, 'FLAG_MOBIL': 1.0, 'FLAG_EMP_PHONE': 1.0, 'FLAG_WORK_PHONE': 1.0, 'FLAG_CONT_MOBILE': 1.0, 'FLAG_PHONE': 0.0, 'FLAG_EMAIL': 0.0, 'OCCUPATION_TYPE': 0.0, 'CNT_FAM_MEMBERS': 3.0, 'REGION_RATING_CLIENT': 2.0, 'REGION_RATING_CLIENT_W_CITY': 2.0, 'WEEKDAY_APPR_PROCESS_START_x': 0.0, 'HOUR_APPR_PROCESS_START_x': 14.0, 'REG_REGION_NOT_LIVE_REGION': 0.0, 'REG_REGION_NOT_WORK_REGION': 0.0, 'LIVE_REGION_NOT_WORK_REGION': 0.0, 'REG_CITY_NOT_LIVE_CITY': 0.0, 'REG_CITY_NOT_WORK_CITY': 0.0, 'LIVE_CITY_NOT_WORK_CITY': 0.0, 'ORGANIZATION_TYPE': 0.0, 'EXT_SOURCE_1': 0.0, 'EXT_SOURCE_2': 0.6451581998707777, 'EXT_SOURCE_3': 0.4561097392782771, 'APARTMENTS_AVG': 0.0, 'BASEMENTAREA_AVG': 0.0, 'YEARS_BEGINEXPLUATATION_AVG': 0.0, 'YEARS_BUILD_AVG': 0.0, 'COMMONAREA_AVG': 0.0, 'ELEVATORS_AVG': 0.0, 'ENTRANCES_AVG': 0.0, 'FLOORSMAX_AVG': 0.0, 'FLOORSMIN_AVG': 0.0, 'LANDAREA_AVG': 0.0, 'LIVINGAPARTMENTS_AVG': 0.0, 'LIVINGAREA_AVG': 0.0, 'NONLIVINGAPARTMENTS_AVG': 0.0, 'NONLIVINGAREA_AVG': 0.0, 'APARTMENTS_MODE': 0.0, 'BASEMENTAREA_MODE': 0.0, 'YEARS_BEGINEXPLUATATION_MODE': 0.0, 'YEARS_BUILD_MODE': 0.0, 'COMMONAREA_MODE': 0.0, 'ELEVATORS_MODE': 0.0, 'ENTRANCES_MODE': 0.0, 'FLOORSMAX_MODE': 0.0, 'FLOORSMIN_MODE': 0.0, 'LANDAREA_MODE': 0.0, 'LIVINGAPARTMENTS_MODE': 0.0, 'LIVINGAREA_MODE': 0.0, 'NONLIVINGAPARTMENTS_MODE': 0.0, 'NONLIVINGAREA_MODE': 0.0, 'APARTMENTS_MEDI': 0.0, 'BASEMENTAREA_MEDI': 0.0, 'YEARS_BEGINEXPLUATATION_MEDI': 0.0, 'YEARS_BUILD_MEDI': 0.0, 'COMMONAREA_MEDI': 0.0, 'ELEVATORS_MEDI': 0.0, 'ENTRANCES_MEDI': 0.0, 'FLOORSMAX_MEDI': 0.0, 'FLOORSMIN_MEDI': 0.0, 'LANDAREA_MEDI': 0.0, 'LIVINGAPARTMENTS_MEDI': 0.0, 'LIVINGAREA_MEDI': 0.0, 'NONLIVINGAPARTMENTS_MEDI': 0.0, 'NONLIVINGAREA_MEDI': 0.0, 'FONDKAPREMONT_MODE': 0.0, 'HOUSETYPE_MODE': 0.0, 'TOTALAREA_MODE': 0.0, 'WALLSMATERIAL_MODE': 0.0, 'EMERGENCYSTATE_MODE': 0.0, 'OBS_30_CNT_SOCIAL_CIRCLE': 2.0, 'DEF_30_CNT_SOCIAL_CIRCLE': 0.0, 'OBS_60_CNT_SOCIAL_CIRCLE': 2.0, 'DEF_60_CNT_SOCIAL_CIRCLE': 0.0, 'DAYS_LAST_PHONE_CHANGE': -1424.0, 'FLAG_DOCUMENT_2': 0.0, 'FLAG_DOCUMENT_3': 1.0, 'FLAG_DOCUMENT_4': 0.0, 'FLAG_DOCUMENT_5': 0.0, 'FLAG_DOCUMENT_6': 0.0, 'FLAG_DOCUMENT_7': 0.0, 'FLAG_DOCUMENT_8': 0.0, 'FLAG_DOCUMENT_9': 0.0, 'FLAG_DOCUMENT_10': 0.0, 'FLAG_DOCUMENT_11': 0.0, 'FLAG_DOCUMENT_12': 0.0, 'FLAG_DOCUMENT_13': 0.0, 'FLAG_DOCUMENT_14': 0.0, 'FLAG_DOCUMENT_15': 0.0, 'FLAG_DOCUMENT_16': 0.0, 'FLAG_DOCUMENT_17': 0.0, 'FLAG_DOCUMENT_18': 0.0, 'FLAG_DOCUMENT_19': 0.0, 'FLAG_DOCUMENT_20': 0.0, 'FLAG_DOCUMENT_21': 0.0, 'AMT_REQ_CREDIT_BUREAU_HOUR': 0.0, 'AMT_REQ_CREDIT_BUREAU_DAY': 0.0, 'AMT_REQ_CREDIT_BUREAU_WEEK': 0.0, 'AMT_REQ_CREDIT_BUREAU_MON': 0.0, 'AMT_REQ_CREDIT_BUREAU_QRT': 0.0, 'AMT_REQ_CREDIT_BUREAU_YEAR': 0.0, 'NAME_CONTRACT_TYPE_y': 2.0, 'AMT_ANNUITY_y': 5830.927500000001, 'AMT_APPLICATION': 35964.0, 'AMT_CREDIT_y': 32982.42857142857, 'AMT_DOWN_PAYMENT': 3319.0714285714284, 'AMT_GOODS_PRICE_y': 35964.0, 'WEEKDAY_APPR_PROCESS_START_y': 2.7142857142857144, 'HOUR_APPR_PROCESS_START_y': 14.285714285714286, 'FLAG_LAST_APPL_PER_CONTRACT': 0.0, 'NFLAG_LAST_APPL_IN_DAY': 1.0, 'RATE_DOWN_PAYMENT': 0.1036883274097268, 'RATE_INTEREST_PRIMARY': 0.0, 'RATE_INTEREST_PRIVILEGED': 0.0, 'NAME_CASH_LOAN_PURPOSE': 1.0, 'NAME_CONTRACT_STATUS': 0.2857142857142857, 'DAYS_DECISION': -1509.142857142857, 'NAME_PAYMENT_TYPE': 0.5714285714285714, 'CODE_REJECT_REASON': 0.14285714285714285, 'NAME_TYPE_SUITE_y': 1.0, 'NAME_CLIENT_TYPE': 0.42857142857142855, 'NAME_GOODS_CATEGORY': 4.142857142857143, 'NAME_PORTFOLIO': 2.7142857142857144, 'NAME_PRODUCT_TYPE': 1.0, 'CHANNEL_TYPE': 1.7142857142857142, 'SELLERPLACE_AREA': 50.142857142857146, 'NAME_SELLER_INDUSTRY': 2.4285714285714284, 'CNT_PAYMENT': 6.5, 'NAME_YIELD_GROUP': 1.7142857142857142, 'PRODUCT_COMBINATION': 8.714285714285714, 'DAYS_FIRST_DRAWING': 365243.0, 'DAYS_FIRST_DUE': -1356.6666666666667, 'DAYS_LAST_DUE_1ST_VERSION': -1191.6666666666667, 'DAYS_LAST_DUE': -1226.6666666666667, 'DAYS_TERMINATION': -1220.5, 'NFLAG_INSURED_ON_APPROVAL': 0.0, 'nb_app': 7.0} }\n"
     ]
    }
   ],
   "source": [
    "payload  = x_train.iloc[0].to_dict()\n",
    "print ('{ \"payload\": ', payload, \"}\")"
   ]
  },
  {
   "cell_type": "code",
   "execution_count": 93,
   "id": "5fb05d79",
   "metadata": {},
   "outputs": [
    {
     "data": {
      "text/plain": [
       "{'Prediction: ': array([0], dtype=int8), 'Probability: ': array([0.05953402])}"
      ]
     },
     "execution_count": 93,
     "metadata": {},
     "output_type": "execute_result"
    }
   ],
   "source": [
    "req = requests.Request()\n",
    "req.json = {\"payload\":payload}\n",
    "y_req = req\n",
    "score(RFC, y_req)"
   ]
  },
  {
   "cell_type": "code",
   "execution_count": 94,
   "id": "f34a9390",
   "metadata": {},
   "outputs": [
    {
     "name": "stdout",
     "output_type": "stream",
     "text": [
      "Calculating build time metrics\n",
      "\n",
      "Progress: ██████████████████████████████████████████████████████████████████████ 100.0%\n"
     ]
    },
    {
     "data": {
      "application/vnd.jupyter.widget-view+json": {
       "model_id": "e6e6ec7534554cbbb2dcb392a2cd83fa",
       "version_major": 2,
       "version_minor": 0
      },
      "text/plain": [
       "VBox(children=(HTML(value='<style>.grad_1{background: #2468a4;} .grad_2{ color:white; background: #2468a4;}</s…"
      ]
     },
     "metadata": {},
     "output_type": "display_data"
    }
   ],
   "source": [
    "## registering the model in refract.\n",
    "model_reg = register_model(RFC,\n",
    "               score, \n",
    "               name=\"CRA_RandomForest_Model\", \n",
    "               description=\"Credit Risk RandomForest Model\",\n",
    "               flavour=MLModelFlavours.sklearn,\n",
    "               model_type=\"classification\",\n",
    "               init_script=\"pip install snowflake-ml-python==1.0.11\",\n",
    "               y_true=y_train,\n",
    "               y_pred=y_pred,\n",
    "               prob=y_prob,\n",
    "               features=x_train.columns,\n",
    "               input_type=\"json\", \n",
    "               explain_ai=True,\n",
    "               x_train=x_train, \n",
    "               x_test=x_train, \n",
    "               y_train=y_train.tolist(),\n",
    "               y_test=y_train.tolist(),\n",
    "               feature_names=x_train.columns.tolist(),\n",
    "               original_features=x_train.columns.tolist(),\n",
    "               feature_ids=x_train.columns,\n",
    "               kyd=True, kyd_score = True)"
   ]
  },
  {
   "cell_type": "markdown",
   "id": "f57882b5",
   "metadata": {},
   "source": [
    "# Extra Tree Classifier"
   ]
  },
  {
   "cell_type": "code",
   "execution_count": 95,
   "id": "387ba3ab",
   "metadata": {},
   "outputs": [
    {
     "data": {
      "text/html": [
       "<style>#sk-container-id-2 {color: black;background-color: white;}#sk-container-id-2 pre{padding: 0;}#sk-container-id-2 div.sk-toggleable {background-color: white;}#sk-container-id-2 label.sk-toggleable__label {cursor: pointer;display: block;width: 100%;margin-bottom: 0;padding: 0.3em;box-sizing: border-box;text-align: center;}#sk-container-id-2 label.sk-toggleable__label-arrow:before {content: \"▸\";float: left;margin-right: 0.25em;color: #696969;}#sk-container-id-2 label.sk-toggleable__label-arrow:hover:before {color: black;}#sk-container-id-2 div.sk-estimator:hover label.sk-toggleable__label-arrow:before {color: black;}#sk-container-id-2 div.sk-toggleable__content {max-height: 0;max-width: 0;overflow: hidden;text-align: left;background-color: #f0f8ff;}#sk-container-id-2 div.sk-toggleable__content pre {margin: 0.2em;color: black;border-radius: 0.25em;background-color: #f0f8ff;}#sk-container-id-2 input.sk-toggleable__control:checked~div.sk-toggleable__content {max-height: 200px;max-width: 100%;overflow: auto;}#sk-container-id-2 input.sk-toggleable__control:checked~label.sk-toggleable__label-arrow:before {content: \"▾\";}#sk-container-id-2 div.sk-estimator input.sk-toggleable__control:checked~label.sk-toggleable__label {background-color: #d4ebff;}#sk-container-id-2 div.sk-label input.sk-toggleable__control:checked~label.sk-toggleable__label {background-color: #d4ebff;}#sk-container-id-2 input.sk-hidden--visually {border: 0;clip: rect(1px 1px 1px 1px);clip: rect(1px, 1px, 1px, 1px);height: 1px;margin: -1px;overflow: hidden;padding: 0;position: absolute;width: 1px;}#sk-container-id-2 div.sk-estimator {font-family: monospace;background-color: #f0f8ff;border: 1px dotted black;border-radius: 0.25em;box-sizing: border-box;margin-bottom: 0.5em;}#sk-container-id-2 div.sk-estimator:hover {background-color: #d4ebff;}#sk-container-id-2 div.sk-parallel-item::after {content: \"\";width: 100%;border-bottom: 1px solid gray;flex-grow: 1;}#sk-container-id-2 div.sk-label:hover label.sk-toggleable__label {background-color: #d4ebff;}#sk-container-id-2 div.sk-serial::before {content: \"\";position: absolute;border-left: 1px solid gray;box-sizing: border-box;top: 0;bottom: 0;left: 50%;z-index: 0;}#sk-container-id-2 div.sk-serial {display: flex;flex-direction: column;align-items: center;background-color: white;padding-right: 0.2em;padding-left: 0.2em;position: relative;}#sk-container-id-2 div.sk-item {position: relative;z-index: 1;}#sk-container-id-2 div.sk-parallel {display: flex;align-items: stretch;justify-content: center;background-color: white;position: relative;}#sk-container-id-2 div.sk-item::before, #sk-container-id-2 div.sk-parallel-item::before {content: \"\";position: absolute;border-left: 1px solid gray;box-sizing: border-box;top: 0;bottom: 0;left: 50%;z-index: -1;}#sk-container-id-2 div.sk-parallel-item {display: flex;flex-direction: column;z-index: 1;position: relative;background-color: white;}#sk-container-id-2 div.sk-parallel-item:first-child::after {align-self: flex-end;width: 50%;}#sk-container-id-2 div.sk-parallel-item:last-child::after {align-self: flex-start;width: 50%;}#sk-container-id-2 div.sk-parallel-item:only-child::after {width: 0;}#sk-container-id-2 div.sk-dashed-wrapped {border: 1px dashed gray;margin: 0 0.4em 0.5em 0.4em;box-sizing: border-box;padding-bottom: 0.4em;background-color: white;}#sk-container-id-2 div.sk-label label {font-family: monospace;font-weight: bold;display: inline-block;line-height: 1.2em;}#sk-container-id-2 div.sk-label-container {text-align: center;}#sk-container-id-2 div.sk-container {/* jupyter's `normalize.less` sets `[hidden] { display: none; }` but bootstrap.min.css set `[hidden] { display: none !important; }` so we also need the `!important` here to be able to override the default hidden behavior on the sphinx rendered scikit-learn.org. See: https://github.com/scikit-learn/scikit-learn/issues/21755 */display: inline-block !important;position: relative;}#sk-container-id-2 div.sk-text-repr-fallback {display: none;}</style><div id=\"sk-container-id-2\" class=\"sk-top-container\"><div class=\"sk-text-repr-fallback\"><pre>ExtraTreesClassifier(max_depth=12, max_features=0.5, min_samples_leaf=2,\n",
       "                     n_estimators=200, n_jobs=16, random_state=0)</pre><b>In a Jupyter environment, please rerun this cell to show the HTML representation or trust the notebook. <br />On GitHub, the HTML representation is unable to render, please try loading this page with nbviewer.org.</b></div><div class=\"sk-container\" hidden><div class=\"sk-item\"><div class=\"sk-estimator sk-toggleable\"><input class=\"sk-toggleable__control sk-hidden--visually\" id=\"sk-estimator-id-2\" type=\"checkbox\" checked><label for=\"sk-estimator-id-2\" class=\"sk-toggleable__label sk-toggleable__label-arrow\">ExtraTreesClassifier</label><div class=\"sk-toggleable__content\"><pre>ExtraTreesClassifier(max_depth=12, max_features=0.5, min_samples_leaf=2,\n",
       "                     n_estimators=200, n_jobs=16, random_state=0)</pre></div></div></div></div></div>"
      ],
      "text/plain": [
       "ExtraTreesClassifier(max_depth=12, max_features=0.5, min_samples_leaf=2,\n",
       "                     n_estimators=200, n_jobs=16, random_state=0)"
      ]
     },
     "execution_count": 95,
     "metadata": {},
     "output_type": "execute_result"
    }
   ],
   "source": [
    "ETC = ExtraTreesClassifier(**et_params)\n",
    "ETC.fit(x_train, y_train)"
   ]
  },
  {
   "cell_type": "code",
   "execution_count": 96,
   "id": "9ef843de",
   "metadata": {},
   "outputs": [],
   "source": [
    "y_pred = ETC.predict(x_train)\n",
    "y_prob = ETC.predict_proba(x_train)[:,1]"
   ]
  },
  {
   "cell_type": "code",
   "execution_count": 97,
   "id": "54ce7a14",
   "metadata": {},
   "outputs": [
    {
     "data": {
      "text/plain": [
       "array([0, 0, 0, ..., 0, 0, 0], dtype=int8)"
      ]
     },
     "execution_count": 97,
     "metadata": {},
     "output_type": "execute_result"
    }
   ],
   "source": [
    "y_pred"
   ]
  },
  {
   "cell_type": "code",
   "execution_count": 98,
   "id": "d6f5599c",
   "metadata": {},
   "outputs": [
    {
     "data": {
      "text/plain": [
       "array([0.06163793, 0.03988874, 0.05960309, ..., 0.09010163, 0.0393106 ,\n",
       "       0.21154737])"
      ]
     },
     "execution_count": 98,
     "metadata": {},
     "output_type": "execute_result"
    }
   ],
   "source": [
    "y_prob"
   ]
  },
  {
   "cell_type": "code",
   "execution_count": 99,
   "id": "77128874",
   "metadata": {},
   "outputs": [],
   "source": [
    "@scoring_func\n",
    "def score(model, request):\n",
    "    payload_dict = request.json[\"payload\"]\n",
    "    data = pd.DataFrame(payload_dict,index=[0])\n",
    "    y_pred = model.predict(data)\n",
    "    y_prob = model.predict_proba(data)[:,1]\n",
    "    temp_dict = {\"Prediction: \": np.round(y_pred), \"Probability: \": y_prob }\n",
    "    return temp_dict"
   ]
  },
  {
   "cell_type": "code",
   "execution_count": 100,
   "id": "01aa6184",
   "metadata": {},
   "outputs": [
    {
     "name": "stdout",
     "output_type": "stream",
     "text": [
      "{ \"payload\":  {'NAME_CONTRACT_TYPE_x': 0.0, 'CODE_GENDER': 0.0, 'FLAG_OWN_CAR': 0.0, 'FLAG_OWN_REALTY': 0.0, 'CNT_CHILDREN': 1.0, 'AMT_INCOME_TOTAL': 270000.0, 'AMT_CREDIT_x': 1288350.0, 'AMT_ANNUITY_x': 37669.5, 'AMT_GOODS_PRICE_x': 1125000.0, 'NAME_TYPE_SUITE_x': 0.0, 'NAME_INCOME_TYPE': 0.0, 'NAME_EDUCATION_TYPE': 0.0, 'NAME_FAMILY_STATUS': 0.0, 'NAME_HOUSING_TYPE': 0.0, 'REGION_POPULATION_RELATIVE': 0.02461, 'DAYS_BIRTH': -13625.0, 'DAYS_EMPLOYED': -1725.0, 'DAYS_REGISTRATION': -3376.0, 'DAYS_ID_PUBLISH': -5593.0, 'OWN_CAR_AGE': 0.0, 'FLAG_MOBIL': 1.0, 'FLAG_EMP_PHONE': 1.0, 'FLAG_WORK_PHONE': 1.0, 'FLAG_CONT_MOBILE': 1.0, 'FLAG_PHONE': 0.0, 'FLAG_EMAIL': 0.0, 'OCCUPATION_TYPE': 0.0, 'CNT_FAM_MEMBERS': 3.0, 'REGION_RATING_CLIENT': 2.0, 'REGION_RATING_CLIENT_W_CITY': 2.0, 'WEEKDAY_APPR_PROCESS_START_x': 0.0, 'HOUR_APPR_PROCESS_START_x': 14.0, 'REG_REGION_NOT_LIVE_REGION': 0.0, 'REG_REGION_NOT_WORK_REGION': 0.0, 'LIVE_REGION_NOT_WORK_REGION': 0.0, 'REG_CITY_NOT_LIVE_CITY': 0.0, 'REG_CITY_NOT_WORK_CITY': 0.0, 'LIVE_CITY_NOT_WORK_CITY': 0.0, 'ORGANIZATION_TYPE': 0.0, 'EXT_SOURCE_1': 0.0, 'EXT_SOURCE_2': 0.6451581998707777, 'EXT_SOURCE_3': 0.4561097392782771, 'APARTMENTS_AVG': 0.0, 'BASEMENTAREA_AVG': 0.0, 'YEARS_BEGINEXPLUATATION_AVG': 0.0, 'YEARS_BUILD_AVG': 0.0, 'COMMONAREA_AVG': 0.0, 'ELEVATORS_AVG': 0.0, 'ENTRANCES_AVG': 0.0, 'FLOORSMAX_AVG': 0.0, 'FLOORSMIN_AVG': 0.0, 'LANDAREA_AVG': 0.0, 'LIVINGAPARTMENTS_AVG': 0.0, 'LIVINGAREA_AVG': 0.0, 'NONLIVINGAPARTMENTS_AVG': 0.0, 'NONLIVINGAREA_AVG': 0.0, 'APARTMENTS_MODE': 0.0, 'BASEMENTAREA_MODE': 0.0, 'YEARS_BEGINEXPLUATATION_MODE': 0.0, 'YEARS_BUILD_MODE': 0.0, 'COMMONAREA_MODE': 0.0, 'ELEVATORS_MODE': 0.0, 'ENTRANCES_MODE': 0.0, 'FLOORSMAX_MODE': 0.0, 'FLOORSMIN_MODE': 0.0, 'LANDAREA_MODE': 0.0, 'LIVINGAPARTMENTS_MODE': 0.0, 'LIVINGAREA_MODE': 0.0, 'NONLIVINGAPARTMENTS_MODE': 0.0, 'NONLIVINGAREA_MODE': 0.0, 'APARTMENTS_MEDI': 0.0, 'BASEMENTAREA_MEDI': 0.0, 'YEARS_BEGINEXPLUATATION_MEDI': 0.0, 'YEARS_BUILD_MEDI': 0.0, 'COMMONAREA_MEDI': 0.0, 'ELEVATORS_MEDI': 0.0, 'ENTRANCES_MEDI': 0.0, 'FLOORSMAX_MEDI': 0.0, 'FLOORSMIN_MEDI': 0.0, 'LANDAREA_MEDI': 0.0, 'LIVINGAPARTMENTS_MEDI': 0.0, 'LIVINGAREA_MEDI': 0.0, 'NONLIVINGAPARTMENTS_MEDI': 0.0, 'NONLIVINGAREA_MEDI': 0.0, 'FONDKAPREMONT_MODE': 0.0, 'HOUSETYPE_MODE': 0.0, 'TOTALAREA_MODE': 0.0, 'WALLSMATERIAL_MODE': 0.0, 'EMERGENCYSTATE_MODE': 0.0, 'OBS_30_CNT_SOCIAL_CIRCLE': 2.0, 'DEF_30_CNT_SOCIAL_CIRCLE': 0.0, 'OBS_60_CNT_SOCIAL_CIRCLE': 2.0, 'DEF_60_CNT_SOCIAL_CIRCLE': 0.0, 'DAYS_LAST_PHONE_CHANGE': -1424.0, 'FLAG_DOCUMENT_2': 0.0, 'FLAG_DOCUMENT_3': 1.0, 'FLAG_DOCUMENT_4': 0.0, 'FLAG_DOCUMENT_5': 0.0, 'FLAG_DOCUMENT_6': 0.0, 'FLAG_DOCUMENT_7': 0.0, 'FLAG_DOCUMENT_8': 0.0, 'FLAG_DOCUMENT_9': 0.0, 'FLAG_DOCUMENT_10': 0.0, 'FLAG_DOCUMENT_11': 0.0, 'FLAG_DOCUMENT_12': 0.0, 'FLAG_DOCUMENT_13': 0.0, 'FLAG_DOCUMENT_14': 0.0, 'FLAG_DOCUMENT_15': 0.0, 'FLAG_DOCUMENT_16': 0.0, 'FLAG_DOCUMENT_17': 0.0, 'FLAG_DOCUMENT_18': 0.0, 'FLAG_DOCUMENT_19': 0.0, 'FLAG_DOCUMENT_20': 0.0, 'FLAG_DOCUMENT_21': 0.0, 'AMT_REQ_CREDIT_BUREAU_HOUR': 0.0, 'AMT_REQ_CREDIT_BUREAU_DAY': 0.0, 'AMT_REQ_CREDIT_BUREAU_WEEK': 0.0, 'AMT_REQ_CREDIT_BUREAU_MON': 0.0, 'AMT_REQ_CREDIT_BUREAU_QRT': 0.0, 'AMT_REQ_CREDIT_BUREAU_YEAR': 0.0, 'NAME_CONTRACT_TYPE_y': 2.0, 'AMT_ANNUITY_y': 5830.927500000001, 'AMT_APPLICATION': 35964.0, 'AMT_CREDIT_y': 32982.42857142857, 'AMT_DOWN_PAYMENT': 3319.0714285714284, 'AMT_GOODS_PRICE_y': 35964.0, 'WEEKDAY_APPR_PROCESS_START_y': 2.7142857142857144, 'HOUR_APPR_PROCESS_START_y': 14.285714285714286, 'FLAG_LAST_APPL_PER_CONTRACT': 0.0, 'NFLAG_LAST_APPL_IN_DAY': 1.0, 'RATE_DOWN_PAYMENT': 0.1036883274097268, 'RATE_INTEREST_PRIMARY': 0.0, 'RATE_INTEREST_PRIVILEGED': 0.0, 'NAME_CASH_LOAN_PURPOSE': 1.0, 'NAME_CONTRACT_STATUS': 0.2857142857142857, 'DAYS_DECISION': -1509.142857142857, 'NAME_PAYMENT_TYPE': 0.5714285714285714, 'CODE_REJECT_REASON': 0.14285714285714285, 'NAME_TYPE_SUITE_y': 1.0, 'NAME_CLIENT_TYPE': 0.42857142857142855, 'NAME_GOODS_CATEGORY': 4.142857142857143, 'NAME_PORTFOLIO': 2.7142857142857144, 'NAME_PRODUCT_TYPE': 1.0, 'CHANNEL_TYPE': 1.7142857142857142, 'SELLERPLACE_AREA': 50.142857142857146, 'NAME_SELLER_INDUSTRY': 2.4285714285714284, 'CNT_PAYMENT': 6.5, 'NAME_YIELD_GROUP': 1.7142857142857142, 'PRODUCT_COMBINATION': 8.714285714285714, 'DAYS_FIRST_DRAWING': 365243.0, 'DAYS_FIRST_DUE': -1356.6666666666667, 'DAYS_LAST_DUE_1ST_VERSION': -1191.6666666666667, 'DAYS_LAST_DUE': -1226.6666666666667, 'DAYS_TERMINATION': -1220.5, 'NFLAG_INSURED_ON_APPROVAL': 0.0, 'nb_app': 7.0} }\n"
     ]
    }
   ],
   "source": [
    "payload  = x_train.iloc[0].to_dict()\n",
    "print ('{ \"payload\": ', payload, \"}\")"
   ]
  },
  {
   "cell_type": "code",
   "execution_count": 101,
   "id": "670c30b2",
   "metadata": {},
   "outputs": [
    {
     "data": {
      "text/plain": [
       "{'Prediction: ': array([0], dtype=int8), 'Probability: ': array([0.06163793])}"
      ]
     },
     "execution_count": 101,
     "metadata": {},
     "output_type": "execute_result"
    }
   ],
   "source": [
    "req = requests.Request()\n",
    "req.json = {\"payload\":payload}\n",
    "y_req = req\n",
    "score(ETC, y_req)"
   ]
  },
  {
   "cell_type": "code",
   "execution_count": null,
   "id": "b8d5fa14",
   "metadata": {},
   "outputs": [],
   "source": [
    "## registering the model in refract.\n",
    "model_reg = register_model(ETC,\n",
    "               score, \n",
    "               name=\"CRA_ExtraTree_Model\", \n",
    "               description=\"Credit Risk ExtraTreeClassifier Model\",\n",
    "               flavour=MLModelFlavours.sklearn,\n",
    "               model_type=\"classification\",\n",
    "               init_script=\"pip install snowflake-ml-python==1.0.11\",\n",
    "               y_true=y_train,\n",
    "               y_pred=y_pred,\n",
    "               prob=y_prob,\n",
    "               features=x_train.columns,\n",
    "               input_type=\"json\", \n",
    "               explain_ai=True,\n",
    "               x_train=x_train, \n",
    "               x_test=x_train, \n",
    "               y_train=y_train.tolist(),\n",
    "               y_test=y_train.tolist(),\n",
    "               feature_names=x_train.columns.tolist(),\n",
    "               original_features=x_train.columns.tolist(),\n",
    "               feature_ids=x_train.columns,\n",
    "               kyd=True, kyd_score = True)"
   ]
  },
  {
   "cell_type": "markdown",
   "id": "c46bc7c0",
   "metadata": {},
   "source": [
    "# CATBoost Classifier"
   ]
  },
  {
   "cell_type": "code",
   "execution_count": null,
   "id": "a943bd8b",
   "metadata": {},
   "outputs": [],
   "source": [
    "CBC = CatBoostClassifier(**catboost_params)\n",
    "CBC.fit(x_train, y_train)"
   ]
  },
  {
   "cell_type": "code",
   "execution_count": null,
   "id": "da49b0b4",
   "metadata": {},
   "outputs": [],
   "source": [
    "y_pred = CBC.predict(x_train)\n",
    "y_prob = CBC.predict_proba(x_train)[:,1]"
   ]
  },
  {
   "cell_type": "code",
   "execution_count": null,
   "id": "33ec1666",
   "metadata": {},
   "outputs": [],
   "source": [
    "y_pred"
   ]
  },
  {
   "cell_type": "code",
   "execution_count": null,
   "id": "80b7153e",
   "metadata": {},
   "outputs": [],
   "source": [
    "y_prob"
   ]
  },
  {
   "cell_type": "code",
   "execution_count": null,
   "id": "05e3dc57",
   "metadata": {},
   "outputs": [],
   "source": [
    "@scoring_func\n",
    "def score(model, request):\n",
    "    payload_dict = request.json[\"payload\"]\n",
    "    data = pd.DataFrame(payload_dict,index=[0])\n",
    "    y_pred = model.predict(data)\n",
    "    y_prob = model.predict_proba(data)[:,1]\n",
    "    temp_dict = {\"Prediction: \": np.round(y_pred), \"Probability: \": y_prob }\n",
    "    return temp_dict"
   ]
  },
  {
   "cell_type": "code",
   "execution_count": null,
   "id": "fcb196fe",
   "metadata": {},
   "outputs": [],
   "source": [
    "payload  = x_train.iloc[0].to_dict()\n",
    "print ('{ \"payload\": ', payload, \"}\")"
   ]
  },
  {
   "cell_type": "code",
   "execution_count": null,
   "id": "decbeb53",
   "metadata": {},
   "outputs": [],
   "source": [
    "req = requests.Request()\n",
    "req.json = {\"payload\":payload}\n",
    "y_req = req\n",
    "score(CBC, y_req)"
   ]
  },
  {
   "cell_type": "code",
   "execution_count": null,
   "id": "b6e8aead",
   "metadata": {},
   "outputs": [],
   "source": [
    "## registering the model in refract.\n",
    "model_reg = register_model(CBC,\n",
    "               score, \n",
    "               name=\"CRA_CATBoost_Model\", \n",
    "               description=\"Credit Risk CATBoost Model\",\n",
    "               flavour=MLModelFlavours.sklearn,\n",
    "               model_type=\"classification\",\n",
    "               init_script=\"pip install snowflake-ml-python==1.0.11\",\n",
    "               y_true=y_train,\n",
    "               y_pred=y_pred,\n",
    "               prob=y_prob,\n",
    "               features=x_train.columns,\n",
    "               input_type=\"json\", \n",
    "               explain_ai=True,\n",
    "               x_train=x_train, \n",
    "               x_test=x_train, \n",
    "               y_train=y_train.tolist(),\n",
    "               y_test=y_train.tolist(),\n",
    "               feature_names=x_train.columns.tolist(),\n",
    "               original_features=x_train.columns.tolist(),\n",
    "               feature_ids=x_train.columns,\n",
    "               kyd=True, kyd_score = True)"
   ]
  },
  {
   "cell_type": "markdown",
   "id": "4cb7a8b7",
   "metadata": {},
   "source": [
    "# STACKING Models"
   ]
  },
  {
   "cell_type": "code",
   "execution_count": null,
   "id": "862fc95d",
   "metadata": {},
   "outputs": [],
   "source": [
    "x_train_XGB = XGB.predict(xgb.DMatrix(x_train))\n",
    "x_train_RFC = RFC.predict_proba(x_train)\n",
    "x_train_ETC = ETC.predict_proba(x_train)\n",
    "x_train_CBC = CBC.predict_proba(x_train)"
   ]
  },
  {
   "cell_type": "code",
   "execution_count": null,
   "id": "7ba9b05a",
   "metadata": {},
   "outputs": [],
   "source": [
    "x_test_XGB = XGB.predict(xgb.DMatrix(x_test))\n",
    "x_test_RFC = RFC.predict_proba(x_test)\n",
    "x_test_ETC = ETC.predict_proba(x_test)\n",
    "x_test_CBC = CBC.predict_proba(x_test)"
   ]
  },
  {
   "cell_type": "code",
   "execution_count": 102,
   "id": "29974030",
   "metadata": {},
   "outputs": [],
   "source": [
    "x_train = np.concatenate((x_train_XGB, x_train_RFC, x_train_ETC, x_train_CBC), axis=1)\n",
    "x_test = np.concatenate((x_test_XGB, x_test_RFC, x_test_ETC, x_test_CBC), axis=1)"
   ]
  },
  {
   "cell_type": "code",
   "execution_count": 103,
   "id": "aebcc721",
   "metadata": {},
   "outputs": [
    {
     "name": "stdout",
     "output_type": "stream",
     "text": [
      "(307511, 4),(48744, 4)\n"
     ]
    }
   ],
   "source": [
    "print(\"{},{}\".format(x_train.shape, x_test.shape))"
   ]
  },
  {
   "cell_type": "code",
   "execution_count": 119,
   "id": "ac9a9b67",
   "metadata": {},
   "outputs": [
    {
     "data": {
      "text/html": [
       "<style>#sk-container-id-2 {color: black;}#sk-container-id-2 pre{padding: 0;}#sk-container-id-2 div.sk-toggleable {background-color: white;}#sk-container-id-2 label.sk-toggleable__label {cursor: pointer;display: block;width: 100%;margin-bottom: 0;padding: 0.3em;box-sizing: border-box;text-align: center;}#sk-container-id-2 label.sk-toggleable__label-arrow:before {content: \"▸\";float: left;margin-right: 0.25em;color: #696969;}#sk-container-id-2 label.sk-toggleable__label-arrow:hover:before {color: black;}#sk-container-id-2 div.sk-estimator:hover label.sk-toggleable__label-arrow:before {color: black;}#sk-container-id-2 div.sk-toggleable__content {max-height: 0;max-width: 0;overflow: hidden;text-align: left;background-color: #f0f8ff;}#sk-container-id-2 div.sk-toggleable__content pre {margin: 0.2em;color: black;border-radius: 0.25em;background-color: #f0f8ff;}#sk-container-id-2 input.sk-toggleable__control:checked~div.sk-toggleable__content {max-height: 200px;max-width: 100%;overflow: auto;}#sk-container-id-2 input.sk-toggleable__control:checked~label.sk-toggleable__label-arrow:before {content: \"▾\";}#sk-container-id-2 div.sk-estimator input.sk-toggleable__control:checked~label.sk-toggleable__label {background-color: #d4ebff;}#sk-container-id-2 div.sk-label input.sk-toggleable__control:checked~label.sk-toggleable__label {background-color: #d4ebff;}#sk-container-id-2 input.sk-hidden--visually {border: 0;clip: rect(1px 1px 1px 1px);clip: rect(1px, 1px, 1px, 1px);height: 1px;margin: -1px;overflow: hidden;padding: 0;position: absolute;width: 1px;}#sk-container-id-2 div.sk-estimator {font-family: monospace;background-color: #f0f8ff;border: 1px dotted black;border-radius: 0.25em;box-sizing: border-box;margin-bottom: 0.5em;}#sk-container-id-2 div.sk-estimator:hover {background-color: #d4ebff;}#sk-container-id-2 div.sk-parallel-item::after {content: \"\";width: 100%;border-bottom: 1px solid gray;flex-grow: 1;}#sk-container-id-2 div.sk-label:hover label.sk-toggleable__label {background-color: #d4ebff;}#sk-container-id-2 div.sk-serial::before {content: \"\";position: absolute;border-left: 1px solid gray;box-sizing: border-box;top: 0;bottom: 0;left: 50%;z-index: 0;}#sk-container-id-2 div.sk-serial {display: flex;flex-direction: column;align-items: center;background-color: white;padding-right: 0.2em;padding-left: 0.2em;position: relative;}#sk-container-id-2 div.sk-item {position: relative;z-index: 1;}#sk-container-id-2 div.sk-parallel {display: flex;align-items: stretch;justify-content: center;background-color: white;position: relative;}#sk-container-id-2 div.sk-item::before, #sk-container-id-2 div.sk-parallel-item::before {content: \"\";position: absolute;border-left: 1px solid gray;box-sizing: border-box;top: 0;bottom: 0;left: 50%;z-index: -1;}#sk-container-id-2 div.sk-parallel-item {display: flex;flex-direction: column;z-index: 1;position: relative;background-color: white;}#sk-container-id-2 div.sk-parallel-item:first-child::after {align-self: flex-end;width: 50%;}#sk-container-id-2 div.sk-parallel-item:last-child::after {align-self: flex-start;width: 50%;}#sk-container-id-2 div.sk-parallel-item:only-child::after {width: 0;}#sk-container-id-2 div.sk-dashed-wrapped {border: 1px dashed gray;margin: 0 0.4em 0.5em 0.4em;box-sizing: border-box;padding-bottom: 0.4em;background-color: white;}#sk-container-id-2 div.sk-label label {font-family: monospace;font-weight: bold;display: inline-block;line-height: 1.2em;}#sk-container-id-2 div.sk-label-container {text-align: center;}#sk-container-id-2 div.sk-container {/* jupyter's `normalize.less` sets `[hidden] { display: none; }` but bootstrap.min.css set `[hidden] { display: none !important; }` so we also need the `!important` here to be able to override the default hidden behavior on the sphinx rendered scikit-learn.org. See: https://github.com/scikit-learn/scikit-learn/issues/21755 */display: inline-block !important;position: relative;}#sk-container-id-2 div.sk-text-repr-fallback {display: none;}</style><div id=\"sk-container-id-2\" class=\"sk-top-container\"><div class=\"sk-text-repr-fallback\"><pre>RandomForestClassifier()</pre><b>In a Jupyter environment, please rerun this cell to show the HTML representation or trust the notebook. <br />On GitHub, the HTML representation is unable to render, please try loading this page with nbviewer.org.</b></div><div class=\"sk-container\" hidden><div class=\"sk-item\"><div class=\"sk-estimator sk-toggleable\"><input class=\"sk-toggleable__control sk-hidden--visually\" id=\"sk-estimator-id-2\" type=\"checkbox\" checked><label for=\"sk-estimator-id-2\" class=\"sk-toggleable__label sk-toggleable__label-arrow\">RandomForestClassifier</label><div class=\"sk-toggleable__content\"><pre>RandomForestClassifier()</pre></div></div></div></div></div>"
      ],
      "text/plain": [
       "RandomForestClassifier()"
      ]
     },
     "execution_count": 119,
     "metadata": {},
     "output_type": "execute_result"
    }
   ],
   "source": [
    "RFC_Stack = RandomForestClassifier()\n",
    "RFC_Stack.fit(x_train,y_train)"
   ]
  },
  {
   "cell_type": "code",
   "execution_count": 120,
   "id": "6f3aa01f",
   "metadata": {},
   "outputs": [],
   "source": [
    "y_pred = RFC_Stack.predict(x_train)\n",
    "y_prob = RFC_Stack.predict_proba(x_train)"
   ]
  },
  {
   "cell_type": "code",
   "execution_count": 124,
   "id": "2bacd8eb",
   "metadata": {},
   "outputs": [
    {
     "data": {
      "text/plain": [
       "24825"
      ]
     },
     "execution_count": 124,
     "metadata": {},
     "output_type": "execute_result"
    }
   ],
   "source": [
    "y_pred"
   ]
  },
  {
   "cell_type": "code",
   "execution_count": 121,
   "id": "88f62f18",
   "metadata": {},
   "outputs": [
    {
     "data": {
      "text/plain": [
       "24803"
      ]
     },
     "execution_count": 121,
     "metadata": {},
     "output_type": "execute_result"
    }
   ],
   "source": [
    "y_prob"
   ]
  },
  {
   "cell_type": "code",
   "execution_count": null,
   "id": "ae78588d",
   "metadata": {},
   "outputs": [],
   "source": [
    "@scoring_func\n",
    "def score(model, request):\n",
    "    payload_dict = request.json[\"payload\"]\n",
    "    data = pd.DataFrame(payload_dict,index=[0])\n",
    "    \n",
    "    data_XGB = XGB.predict(xgb.DMatrix(data))\n",
    "    data_RFC = RFC.predict_proba(data)\n",
    "    data_ETC = ETC.predict_proba(data)\n",
    "    data_CBC = CBC.predict_proba(data)\n",
    "    \n",
    "    data = np.concatenate((data_XGB, data_RFC, data_ETC, data_CBC), axis=1)\n",
    "    \n",
    "    y_pred = model.predict(data)\n",
    "    y_prob = model.predict_proba(data)[:,1]\n",
    "    temp_dict = {\"Prediction: \": np.round(y_pred), \"Probability: \": y_prob }\n",
    "    return temp_dict"
   ]
  },
  {
   "cell_type": "code",
   "execution_count": null,
   "id": "c1fbcb01",
   "metadata": {},
   "outputs": [],
   "source": [
    "payload  = x_train.iloc[0].to_dict()\n",
    "print ('{ \"payload\": ', payload, \"}\")"
   ]
  },
  {
   "cell_type": "code",
   "execution_count": null,
   "id": "64be3c6c",
   "metadata": {},
   "outputs": [],
   "source": [
    "req = requests.Request()\n",
    "req.json = {\"payload\":payload}\n",
    "y_req = req\n",
    "score(RFC_Stack, y_req)"
   ]
  },
  {
   "cell_type": "code",
   "execution_count": null,
   "id": "5dc08f0a",
   "metadata": {},
   "outputs": [],
   "source": [
    "## registering the model in refract.\n",
    "model_reg = register_model(RFC_Stack,\n",
    "               score, \n",
    "               name=\"CRA_Stacked_Model\", \n",
    "               description=\"Credit Risk Stacked RandomForest Model\",\n",
    "               flavour=MLModelFlavours.sklearn,\n",
    "               model_type=\"classification\",\n",
    "               init_script=\"pip install snowflake-ml-python==1.0.11\",\n",
    "               y_true=y_train,\n",
    "               y_pred=y_pred,\n",
    "               prob=y_prob,\n",
    "               features=x_train.columns,\n",
    "               input_type=\"json\", \n",
    "               explain_ai=True,\n",
    "               x_train=x_train, \n",
    "               x_test=x_train, \n",
    "               y_train=y_train.tolist(),\n",
    "               y_test=y_train.tolist(),\n",
    "               feature_names=x_train.columns.tolist(),\n",
    "               original_features=x_train.columns.tolist(),\n",
    "               feature_ids=x_train.columns,\n",
    "               kyd=True, kyd_score = True)"
   ]
  }
 ],
 "metadata": {
  "kernelspec": {
   "display_name": "Python 3",
   "language": "python",
   "name": "python3"
  },
  "language_info": {
   "codemirror_mode": {
    "name": "ipython",
    "version": 3
   },
   "file_extension": ".py",
   "mimetype": "text/x-python",
   "name": "python",
   "nbconvert_exporter": "python",
   "pygments_lexer": "ipython3",
   "version": "3.8.18"
  }
 },
 "nbformat": 4,
 "nbformat_minor": 5
}
