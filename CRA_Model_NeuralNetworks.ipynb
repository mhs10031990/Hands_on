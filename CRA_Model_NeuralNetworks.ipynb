{
 "cells": [
  {
   "cell_type": "code",
   "execution_count": 1,
   "id": "1afd8123",
   "metadata": {},
   "outputs": [
    {
     "name": "stdout",
     "output_type": "stream",
     "text": [
      "\u001b[33mWARNING: The directory '/home/mosaic-ai/.cache/pip/http' or its parent directory is not owned by the current user and the cache has been disabled. Please check the permissions and owner of that directory. If executing pip with sudo, you may want sudo's -H flag.\u001b[0m\n",
      "\u001b[33mWARNING: The directory '/home/mosaic-ai/.cache/pip' or its parent directory is not owned by the current user and caching wheels has been disabled. check the permissions and owner of that directory. If executing pip with sudo, you may want sudo's -H flag.\u001b[0m\n",
      "Collecting tensorflow\n",
      "\u001b[?25l  Downloading https://files.pythonhosted.org/packages/c2/20/b15abac0be474f12cf51a104c9dd935b053081b502c103e9e947e8be7b84/tensorflow-2.13.1-cp38-cp38-manylinux_2_17_x86_64.manylinux2014_x86_64.whl (479.6MB)\n",
      "\u001b[K     |████████████████████████████████| 479.6MB 55.9MB/s eta 0:00:01��███▎    | 409.6MB 58.7MB/s eta 0:00:02     |███████████████████████████████▌| 472.5MB 55.9MB/s eta 0:00:01\n",
      "\u001b[?25hCollecting libclang>=13.0.0\n",
      "\u001b[?25l  Downloading https://files.pythonhosted.org/packages/1d/fc/716c1e62e512ef1c160e7984a73a5fc7df45166f2ff3f254e71c58076f7c/libclang-18.1.1-py2.py3-none-manylinux2010_x86_64.whl (24.5MB)\n",
      "\u001b[K     |████████████████████████████████| 24.5MB 45.5MB/s eta 0:00:01\n",
      "\u001b[?25hCollecting numpy<=1.24.3,>=1.22\n",
      "\u001b[?25l  Downloading https://files.pythonhosted.org/packages/8b/d9/814a619ab84d8eb0d95e08d4c723e665f1e694b5a6068ca505a61bdc3745/numpy-1.24.3-cp38-cp38-manylinux_2_17_x86_64.manylinux2014_x86_64.whl (17.3MB)\n",
      "\u001b[K     |████████████████████████████████| 17.3MB 46.7MB/s eta 0:00:01\n",
      "\u001b[?25hCollecting typing-extensions<4.6.0,>=3.6.6\n",
      "  Downloading https://files.pythonhosted.org/packages/31/25/5abcd82372d3d4a3932e1fa8c3dbf9efac10cc7c0d16e78467460571b404/typing_extensions-4.5.0-py3-none-any.whl\n",
      "Collecting opt-einsum>=2.3.2\n",
      "\u001b[?25l  Downloading https://files.pythonhosted.org/packages/bc/19/404708a7e54ad2798907210462fd950c3442ea51acc8790f3da48d2bee8b/opt_einsum-3.3.0-py3-none-any.whl (65kB)\n",
      "\u001b[K     |████████████████████████████████| 71kB 49.5MB/s eta 0:00:01\n",
      "\u001b[?25hCollecting flatbuffers>=23.1.21\n",
      "  Downloading https://files.pythonhosted.org/packages/41/f0/7e988a019bc54b2dbd0ad4182ef2d53488bb02e58694cd79d61369e85900/flatbuffers-24.3.25-py2.py3-none-any.whl\n",
      "Collecting google-pasta>=0.1.1\n",
      "\u001b[?25l  Downloading https://files.pythonhosted.org/packages/a3/de/c648ef6835192e6e2cc03f40b19eeda4382c49b5bafb43d88b931c4c74ac/google_pasta-0.2.0-py3-none-any.whl (57kB)\n",
      "\u001b[K     |████████████████████████████████| 61kB 45.7MB/s eta 0:00:01\n",
      "\u001b[?25hCollecting termcolor>=1.1.0\n",
      "  Downloading https://files.pythonhosted.org/packages/d9/5f/8c716e47b3a50cbd7c146f45881e11d9414def768b7cd9c5e6650ec2a80a/termcolor-2.4.0-py3-none-any.whl\n",
      "Collecting keras<2.14,>=2.13.1\n",
      "\u001b[?25l  Downloading https://files.pythonhosted.org/packages/2e/f3/19da7511b45e80216cbbd9467137b2d28919c58ba1ccb971435cb631e470/keras-2.13.1-py3-none-any.whl (1.7MB)\n",
      "\u001b[K     |████████████████████████████████| 1.7MB 47.6MB/s eta 0:00:01\n",
      "\u001b[?25hCollecting gast<=0.4.0,>=0.2.1\n",
      "  Downloading https://files.pythonhosted.org/packages/b6/48/583c032b79ae5b3daa02225a675aeb673e58d2cb698e78510feceb11958c/gast-0.4.0-py3-none-any.whl\n",
      "Collecting protobuf!=4.21.0,!=4.21.1,!=4.21.2,!=4.21.3,!=4.21.4,!=4.21.5,<5.0.0dev,>=3.20.3\n",
      "\u001b[?25l  Downloading https://files.pythonhosted.org/packages/15/db/7f731524fe0e56c6b2eb57d05b55d3badd80ef7d1f1ed59db191b2fdd8ab/protobuf-4.25.3-cp37-abi3-manylinux2014_x86_64.whl (294kB)\n",
      "\u001b[K     |████████████████████████████████| 296kB 53.5MB/s eta 0:00:01\n",
      "\u001b[?25hCollecting setuptools\n",
      "\u001b[?25l  Downloading https://files.pythonhosted.org/packages/f7/29/13965af254e3373bceae8fb9a0e6ea0d0e571171b80d6646932131d6439b/setuptools-69.5.1-py3-none-any.whl (894kB)\n",
      "\u001b[K     |████████████████████████████████| 901kB 47.6MB/s eta 0:00:01\n",
      "\u001b[?25hCollecting wrapt>=1.11.0\n",
      "\u001b[?25l  Downloading https://files.pythonhosted.org/packages/ef/c6/56e718e2c58a4078518c14d97e531ef1e9e8a5c1ddafdc0d264a92be1a1a/wrapt-1.16.0-cp38-cp38-manylinux_2_5_x86_64.manylinux1_x86_64.manylinux_2_17_x86_64.manylinux2014_x86_64.whl (83kB)\n",
      "\u001b[K     |████████████████████████████████| 92kB 52.7MB/s eta 0:00:01\n",
      "\u001b[?25hCollecting astunparse>=1.6.0\n",
      "  Downloading https://files.pythonhosted.org/packages/2b/03/13dde6512ad7b4557eb792fbcf0c653af6076b81e5941d36ec61f7ce6028/astunparse-1.6.3-py2.py3-none-any.whl\n",
      "Collecting tensorboard<2.14,>=2.13\n",
      "\u001b[?25l  Downloading https://files.pythonhosted.org/packages/67/f2/e8be5599634ff063fa2c59b7b51636815909d5140a26df9f02ce5d99b81a/tensorboard-2.13.0-py3-none-any.whl (5.6MB)\n",
      "\u001b[K     |████████████████████████████████| 5.6MB 45.8MB/s eta 0:00:01\n",
      "\u001b[?25hCollecting h5py>=2.9.0\n",
      "\u001b[?25l  Downloading https://files.pythonhosted.org/packages/86/43/fd0bd74462b3c3fb35d98568935d3e5a435c8ec24d45ef408ac8869166af/h5py-3.11.0-cp38-cp38-manylinux_2_17_x86_64.manylinux2014_x86_64.whl (5.3MB)\n",
      "\u001b[K     |████████████████████████████████| 5.3MB 46.9MB/s eta 0:00:01\n",
      "\u001b[?25hCollecting grpcio<2.0,>=1.24.3\n",
      "\u001b[?25l  Downloading https://files.pythonhosted.org/packages/99/98/1d8d1e7509be046157bf089e9b8938cbb0dd014df745c2ab107a1e350820/grpcio-1.63.0-cp38-cp38-manylinux_2_17_x86_64.manylinux2014_x86_64.whl (5.6MB)\n",
      "\u001b[K     |████████████████████████████████| 5.6MB 49.1MB/s eta 0:00:01\n",
      "\u001b[?25hCollecting tensorflow-estimator<2.14,>=2.13.0\n",
      "\u001b[?25l  Downloading https://files.pythonhosted.org/packages/72/5c/c318268d96791c6222ad7df1651bbd1b2409139afeb6f468c0f327177016/tensorflow_estimator-2.13.0-py2.py3-none-any.whl (440kB)\n",
      "\u001b[K     |████████████████████████████████| 450kB 50.5MB/s eta 0:00:01\n",
      "\u001b[?25hCollecting packaging\n",
      "\u001b[?25l  Downloading https://files.pythonhosted.org/packages/49/df/1fceb2f8900f8639e278b056416d49134fb8d84c5942ffaa01ad34782422/packaging-24.0-py3-none-any.whl (53kB)\n",
      "\u001b[K     |████████████████████████████████| 61kB 45.0MB/s eta 0:00:01\n",
      "\u001b[?25hCollecting six>=1.12.0\n",
      "  Downloading https://files.pythonhosted.org/packages/d9/5a/e7c31adbe875f2abbb91bd84cf2dc52d792b5a01506781dbcf25c91daf11/six-1.16.0-py2.py3-none-any.whl\n",
      "Collecting tensorflow-io-gcs-filesystem>=0.23.1; platform_machine != \"arm64\" or platform_system != \"Darwin\"\n",
      "\u001b[?25l  Downloading https://files.pythonhosted.org/packages/25/f6/0f259f41abaa489f185e16d397d5f5a5973970d4677c7d39456cea6f4453/tensorflow_io_gcs_filesystem-0.34.0-cp38-cp38-manylinux_2_12_x86_64.manylinux2010_x86_64.whl (2.4MB)\n",
      "\u001b[K     |████████████████████████████████| 2.4MB 49.3MB/s eta 0:00:01\n",
      "\u001b[?25hCollecting absl-py>=1.0.0\n",
      "\u001b[?25l  Downloading https://files.pythonhosted.org/packages/a2/ad/e0d3c824784ff121c03cc031f944bc7e139a8f1870ffd2845cc2dd76f6c4/absl_py-2.1.0-py3-none-any.whl (133kB)\n",
      "\u001b[K     |████████████████████████████████| 143kB 50.6MB/s eta 0:00:01\n",
      "\u001b[?25hCollecting wheel<1.0,>=0.23.0\n",
      "\u001b[?25l  Downloading https://files.pythonhosted.org/packages/7d/cd/d7460c9a869b16c3dd4e1e403cce337df165368c71d6af229a74699622ce/wheel-0.43.0-py3-none-any.whl (65kB)\n",
      "\u001b[K     |████████████████████████████████| 71kB 47.7MB/s eta 0:00:01\n",
      "\u001b[?25hCollecting tensorboard-data-server<0.8.0,>=0.7.0\n",
      "  Downloading https://files.pythonhosted.org/packages/7a/13/e503968fefabd4c6b2650af21e110aa8466fe21432cd7c43a84577a89438/tensorboard_data_server-0.7.2-py3-none-any.whl\n",
      "Collecting google-auth<3,>=1.6.3\n",
      "\u001b[?25l  Downloading https://files.pythonhosted.org/packages/9e/8d/ddbcf81ec751d8ee5fd18ac11ff38a0e110f39dfbf105e6d9db69d556dd0/google_auth-2.29.0-py2.py3-none-any.whl (189kB)\n",
      "\u001b[K     |████████████████████████████████| 194kB 21.2MB/s eta 0:00:01\n",
      "\u001b[?25hCollecting werkzeug>=1.0.1\n",
      "\u001b[?25l  Downloading https://files.pythonhosted.org/packages/e3/23/c9843d7550092ae7ad380611c238f44afef66f58f76c1dab7dcf313e4339/werkzeug-3.0.2-py3-none-any.whl (226kB)\n",
      "\u001b[K     |████████████████████████████████| 235kB 51.7MB/s eta 0:00:01\n",
      "\u001b[?25hCollecting requests<3,>=2.21.0\n",
      "\u001b[?25l  Downloading https://files.pythonhosted.org/packages/70/8e/0e2d847013cb52cd35b38c009bb167a1a26b2ce6cd6965bf26b47bc0bf44/requests-2.31.0-py3-none-any.whl (62kB)\n",
      "\u001b[K     |████████████████████████████████| 71kB 48.7MB/s eta 0:00:01\n",
      "\u001b[?25hCollecting markdown>=2.6.8\n",
      "\u001b[?25l  Downloading https://files.pythonhosted.org/packages/fc/b3/0c0c994fe49cd661084f8d5dc06562af53818cc0abefaca35bdc894577c3/Markdown-3.6-py3-none-any.whl (105kB)\n",
      "\u001b[K     |████████████████████████████████| 112kB 52.1MB/s eta 0:00:01\n"
     ]
    },
    {
     "name": "stdout",
     "output_type": "stream",
     "text": [
      "\u001b[?25hCollecting google-auth-oauthlib<1.1,>=0.5\n",
      "  Downloading https://files.pythonhosted.org/packages/4a/07/8d9a8186e6768b55dfffeb57c719bc03770cf8a970a074616ae6f9e26a57/google_auth_oauthlib-1.0.0-py2.py3-none-any.whl\n",
      "Collecting rsa<5,>=3.1.4\n",
      "  Downloading https://files.pythonhosted.org/packages/49/97/fa78e3d2f65c02c8e1268b9aba606569fe97f6c8f7c2d74394553347c145/rsa-4.9-py3-none-any.whl\n",
      "Collecting pyasn1-modules>=0.2.1\n",
      "\u001b[?25l  Downloading https://files.pythonhosted.org/packages/13/68/8906226b15ef38e71dc926c321d2fe99de8048e9098b5dfd38343011c886/pyasn1_modules-0.4.0-py3-none-any.whl (181kB)\n",
      "\u001b[K     |████████████████████████████████| 184kB 53.6MB/s eta 0:00:01\n",
      "\u001b[?25hCollecting cachetools<6.0,>=2.0.0\n",
      "  Downloading https://files.pythonhosted.org/packages/fb/2b/a64c2d25a37aeb921fddb929111413049fc5f8b9a4c1aefaffaafe768d54/cachetools-5.3.3-py3-none-any.whl\n",
      "Collecting MarkupSafe>=2.1.1\n",
      "  Downloading https://files.pythonhosted.org/packages/c7/bd/50319665ce81bb10e90d1cf76f9e1aa269ea6f7fa30ab4521f14d122a3df/MarkupSafe-2.1.5-cp38-cp38-manylinux_2_17_x86_64.manylinux2014_x86_64.whl\n",
      "Collecting certifi>=2017.4.17\n",
      "\u001b[?25l  Downloading https://files.pythonhosted.org/packages/ba/06/a07f096c664aeb9f01624f858c3add0a4e913d6c96257acb4fce61e7de14/certifi-2024.2.2-py3-none-any.whl (163kB)\n",
      "\u001b[K     |████████████████████████████████| 163kB 51.2MB/s eta 0:00:01\n",
      "\u001b[?25hCollecting charset-normalizer<4,>=2\n",
      "\u001b[?25l  Downloading https://files.pythonhosted.org/packages/3d/09/d82fe4a34c5f0585f9ea1df090e2a71eb9bb1e469723053e1ee9f57c16f3/charset_normalizer-3.3.2-cp38-cp38-manylinux_2_17_x86_64.manylinux2014_x86_64.whl (141kB)\n",
      "\u001b[K     |████████████████████████████████| 143kB 53.1MB/s eta 0:00:01\n",
      "\u001b[?25hCollecting idna<4,>=2.5\n",
      "\u001b[?25l  Downloading https://files.pythonhosted.org/packages/e5/3e/741d8c82801c347547f8a2a06aa57dbb1992be9e948df2ea0eda2c8b79e8/idna-3.7-py3-none-any.whl (66kB)\n",
      "\u001b[K     |████████████████████████████████| 71kB 46.4MB/s eta 0:00:01\n",
      "\u001b[?25hCollecting urllib3<3,>=1.21.1\n",
      "\u001b[?25l  Downloading https://files.pythonhosted.org/packages/a2/73/a68704750a7679d0b6d3ad7aa8d4da8e14e151ae82e6fee774e6e0d05ec8/urllib3-2.2.1-py3-none-any.whl (121kB)\n",
      "\u001b[K     |████████████████████████████████| 122kB 53.6MB/s eta 0:00:01\n",
      "\u001b[?25hCollecting importlib-metadata>=4.4; python_version < \"3.10\"\n",
      "  Downloading https://files.pythonhosted.org/packages/2d/0a/679461c511447ffaf176567d5c496d1de27cbe34a87df6677d7171b2fbd4/importlib_metadata-7.1.0-py3-none-any.whl\n",
      "Collecting requests-oauthlib>=0.7.0\n",
      "  Downloading https://files.pythonhosted.org/packages/3b/5d/63d4ae3b9daea098d5d6f5da83984853c1bbacd5dc826764b249fe119d24/requests_oauthlib-2.0.0-py2.py3-none-any.whl\n",
      "Collecting pyasn1>=0.1.3\n",
      "\u001b[?25l  Downloading https://files.pythonhosted.org/packages/23/7e/5f50d07d5e70a2addbccd90ac2950f81d1edd0783630651d9268d7f1db49/pyasn1-0.6.0-py2.py3-none-any.whl (85kB)\n",
      "\u001b[K     |████████████████████████████████| 92kB 51.5MB/s eta 0:00:01\n",
      "\u001b[?25hCollecting zipp>=0.5\n",
      "  Downloading https://files.pythonhosted.org/packages/c2/0a/ba9d0ee9536d3ef73a3448e931776e658b36f128d344e175bc32b092a8bf/zipp-3.18.1-py3-none-any.whl\n",
      "Collecting oauthlib>=3.0.0\n",
      "\u001b[?25l  Downloading https://files.pythonhosted.org/packages/7e/80/cab10959dc1faead58dc8384a781dfbf93cb4d33d50988f7a69f1b7c9bbe/oauthlib-3.2.2-py3-none-any.whl (151kB)\n",
      "\u001b[K     |████████████████████████████████| 153kB 50.3MB/s eta 0:00:01\n",
      "\u001b[31mERROR: snowflake-snowpark-python 1.0.0 has requirement snowflake-connector-python<3.0.0,>=2.7.12, but you'll have snowflake-connector-python 3.6.0 which is incompatible.\u001b[0m\n",
      "\u001b[31mERROR: snowflake-ml-python 1.0.1 has requirement absl-py<2,>=0.15, but you'll have absl-py 2.1.0 which is incompatible.\u001b[0m\n",
      "\u001b[31mERROR: snowflake-ml-python 1.0.1 has requirement packaging<24,>=20.9, but you'll have packaging 24.0 which is incompatible.\u001b[0m\n",
      "\u001b[31mERROR: snowflake-ml-python 1.0.1 has requirement pandas<2,>=1.0.0, but you'll have pandas 2.0.3 which is incompatible.\u001b[0m\n",
      "\u001b[31mERROR: snowflake-ml-python 1.0.1 has requirement snowflake-snowpark-python<2,>=1.4.0, but you'll have snowflake-snowpark-python 1.0.0 which is incompatible.\u001b[0m\n",
      "\u001b[31mERROR: snowflake-connector-python 3.6.0 has requirement urllib3<2.0.0,>=1.21.1; python_version < \"3.10\", but you'll have urllib3 2.2.1 which is incompatible.\u001b[0m\n",
      "\u001b[31mERROR: openapi-schema-validator 0.6.2 has requirement jsonschema<5.0.0,>=4.19.1, but you'll have jsonschema 3.2.0 which is incompatible.\u001b[0m\n",
      "\u001b[31mERROR: mosaic-ai-client 1.0.0 has requirement matplotlib==3.1.1, but you'll have matplotlib 3.6.0 which is incompatible.\u001b[0m\n",
      "\u001b[31mERROR: jupyterlab 3.2.4 has requirement jupyter-server~=1.4, but you'll have jupyter-server 2.0.0a1 which is incompatible.\u001b[0m\n",
      "\u001b[31mERROR: jupyterlab-server 2.25.4 has requirement jsonschema>=4.18.0, but you'll have jsonschema 3.2.0 which is incompatible.\u001b[0m\n",
      "\u001b[?25hInstalling collected packages: libclang, numpy, typing-extensions, opt-einsum, flatbuffers, six, google-pasta, termcolor, keras, gast, protobuf, setuptools, wrapt, wheel, astunparse, tensorboard-data-server, grpcio, absl-py, pyasn1, rsa, pyasn1-modules, cachetools, google-auth, MarkupSafe, werkzeug, certifi, charset-normalizer, idna, urllib3, requests, zipp, importlib-metadata, markdown, oauthlib, requests-oauthlib, google-auth-oauthlib, tensorboard, h5py, tensorflow-estimator, packaging, tensorflow-io-gcs-filesystem, tensorflow\n",
      "Successfully installed MarkupSafe-2.1.5 absl-py-2.1.0 astunparse-1.6.3 cachetools-5.3.3 certifi-2024.2.2 charset-normalizer-3.3.2 flatbuffers-24.3.25 gast-0.4.0 google-auth-2.29.0 google-auth-oauthlib-1.0.0 google-pasta-0.2.0 grpcio-1.63.0 h5py-3.11.0 idna-3.7 importlib-metadata-7.1.0 keras-2.13.1 libclang-18.1.1 markdown-3.6 numpy-1.24.3 oauthlib-3.2.2 opt-einsum-3.3.0 packaging-24.0 protobuf-4.25.3 pyasn1-0.6.0 pyasn1-modules-0.4.0 requests-2.31.0 requests-oauthlib-2.0.0 rsa-4.9 setuptools-69.5.1 six-1.16.0 tensorboard-2.13.0 tensorboard-data-server-0.7.2 tensorflow-2.13.1 tensorflow-estimator-2.13.0 tensorflow-io-gcs-filesystem-0.34.0 termcolor-2.4.0 typing-extensions-4.5.0 urllib3-2.2.1 werkzeug-3.0.2 wheel-0.43.0 wrapt-1.16.0 zipp-3.18.1\n",
      "\u001b[33mWARNING: You are using pip version 19.3.1; however, version 24.0 is available.\n",
      "You should consider upgrading via the 'pip install --upgrade pip' command.\u001b[0m\n"
     ]
    }
   ],
   "source": [
    "!pip install tensorflow"
   ]
  },
  {
   "cell_type": "code",
   "execution_count": 1,
   "id": "d8bd62d3",
   "metadata": {},
   "outputs": [],
   "source": [
    "from snowflake.snowpark import Session\n",
    "import configparser"
   ]
  },
  {
   "cell_type": "code",
   "execution_count": 3,
   "id": "32837b36",
   "metadata": {},
   "outputs": [],
   "source": [
    "import gc\n",
    "import pandas as pd\n",
    "import numpy as np\n",
    "import tensorflow as tf\n",
    "from sklearn.preprocessing import LabelEncoder, MinMaxScaler, StandardScaler\n",
    "from sklearn.model_selection import train_test_split\n",
    "from sklearn.metrics import roc_auc_score, roc_curve, precision_recall_curve, confusion_matrix\n",
    "import matplotlib.pyplot as plt\n",
    "%matplotlib inline"
   ]
  },
  {
   "cell_type": "code",
   "execution_count": 9,
   "id": "9aa9e5fa",
   "metadata": {},
   "outputs": [],
   "source": [
    "sample_size = None"
   ]
  },
  {
   "cell_type": "markdown",
   "id": "d22ce04b",
   "metadata": {},
   "source": [
    "# Code to establish connection and read data from Snowflake"
   ]
  },
  {
   "cell_type": "code",
   "execution_count": 4,
   "id": "c256fe2a",
   "metadata": {},
   "outputs": [
    {
     "data": {
      "text/plain": [
       "['snowflake_connection.ini']"
      ]
     },
     "execution_count": 4,
     "metadata": {},
     "output_type": "execute_result"
    }
   ],
   "source": [
    "config = configparser.ConfigParser()\n",
    "config.read(\"snowflake_connection.ini\")"
   ]
  },
  {
   "cell_type": "code",
   "execution_count": 5,
   "id": "4864e1cb",
   "metadata": {},
   "outputs": [],
   "source": [
    "connection_parameters = {\n",
    "    \"user\": f'{config[\"Snowflake\"][\"user\"]}',\n",
    "    \"password\": f'{config[\"Snowflake\"][\"password\"]}',\n",
    "    #\"password\": os.getenv('snowflake_password'),\n",
    "    \"account\": f'{config[\"Snowflake\"][\"account\"]}',\n",
    "    #\"account\": os.getenv('snowflake_account'),\n",
    "    \"WAREHOUSE\": f'{config[\"Snowflake\"][\"WAREHOUSE\"]}',\n",
    "    \"DATABASE\": f'{config[\"Snowflake\"][\"DATABASE\"]}',\n",
    "    \"SCHEMA\": f'{config[\"Snowflake\"][\"SCHEMA\"]}'\n",
    "}"
   ]
  },
  {
   "cell_type": "code",
   "execution_count": 6,
   "id": "94d0200d",
   "metadata": {},
   "outputs": [
    {
     "name": "stdout",
     "output_type": "stream",
     "text": [
      "connection successful!\n"
     ]
    }
   ],
   "source": [
    "def snowflake_connector(conn):\n",
    "    try:\n",
    "        session = Session.builder.configs(conn).create()\n",
    "        print(\"connection successful!\")\n",
    "    except:\n",
    "        raise ValueError(\"error while connecting with db\")\n",
    "    return session\n",
    "\n",
    "session = snowflake_connector(connection_parameters)"
   ]
  },
  {
   "cell_type": "code",
   "execution_count": 8,
   "id": "8ebc2b66",
   "metadata": {},
   "outputs": [],
   "source": [
    "application_train_sf  = session.table(\"CRA_APPLICATION_TRAIN_DETAILS\")\n",
    "application_test_sf  = session.table(\"CRA_APPLICATION_TEST_DETAILS\")\n",
    "bureau_sf  = session.table(\"CRA_BUREAU_DETAILS\")\n",
    "bureau_balance_sf  = session.table(\"CRA_BUREAU_BALANCE_DETAILS\")\n",
    "credit_card_balance_sf  = session.table(\"CRA_CREDIT_CARD_BALANCE_DETAILS\")\n",
    "installments_payments_sf  = session.table(\"CRA_INSTALLMENTS_PAYMENTS_DETAILS\")\n",
    "previous_application_sf  = session.table(\"CRA_PREVIOUS_APPLICATION_DETAILS\")\n",
    "POS_CASH_balance_sf  = session.table(\"CRA_POS_CASH_BALANCE_DETAILS\")"
   ]
  },
  {
   "cell_type": "markdown",
   "id": "bd0b4b30",
   "metadata": {},
   "source": [
    "# Convert Snowflake data into Pandas dataframes"
   ]
  },
  {
   "cell_type": "code",
   "execution_count": 10,
   "id": "8b65c096",
   "metadata": {},
   "outputs": [],
   "source": [
    "app_train_df  = application_train_sf.to_pandas()"
   ]
  },
  {
   "cell_type": "code",
   "execution_count": 11,
   "id": "045f532c",
   "metadata": {},
   "outputs": [],
   "source": [
    "app_test_df  = application_test_sf.to_pandas()"
   ]
  },
  {
   "cell_type": "code",
   "execution_count": 12,
   "id": "c38b01ab",
   "metadata": {},
   "outputs": [],
   "source": [
    "bureau_df  = bureau_sf.to_pandas()"
   ]
  },
  {
   "cell_type": "code",
   "execution_count": 14,
   "id": "3b528d13",
   "metadata": {},
   "outputs": [],
   "source": [
    "bureau_balance_df  = bureau_balance_sf.to_pandas()"
   ]
  },
  {
   "cell_type": "code",
   "execution_count": null,
   "id": "097766d9",
   "metadata": {},
   "outputs": [],
   "source": [
    "credit_card_df  = credit_card_balance_sf.to_pandas()"
   ]
  },
  {
   "cell_type": "code",
   "execution_count": null,
   "id": "f7860301",
   "metadata": {},
   "outputs": [],
   "source": [
    "install_df = installments_payments_sf.to_pandas()"
   ]
  },
  {
   "cell_type": "code",
   "execution_count": null,
   "id": "9df48962",
   "metadata": {},
   "outputs": [],
   "source": [
    "prev_app_df = previous_application_sf.to_pandas()"
   ]
  },
  {
   "cell_type": "code",
   "execution_count": null,
   "id": "c917076e",
   "metadata": {},
   "outputs": [],
   "source": [
    "pos_cash_df  = POS_CASH_balance_sf.to_pandas()"
   ]
  },
  {
   "cell_type": "code",
   "execution_count": 53,
   "id": "07ded794",
   "metadata": {},
   "outputs": [],
   "source": [
    "data.drop(['CREATED_BY','CREATED_AT'], axis=1, inplace=True)\n",
    "test.drop(['CREATED_BY','CREATED_AT'], axis=1, inplace=True)\n",
    "prev.drop(['CREATED_BY','CREATED_AT'], axis=1, inplace=True)"
   ]
  },
  {
   "cell_type": "code",
   "execution_count": 54,
   "id": "8f1a2832",
   "metadata": {
    "scrolled": true
   },
   "outputs": [],
   "source": [
    "categorical_feats = [\n",
    "    f for f in data.columns if data[f].dtype == 'object'\n",
    "]"
   ]
  },
  {
   "cell_type": "code",
   "execution_count": 55,
   "id": "a9f1651c",
   "metadata": {},
   "outputs": [],
   "source": [
    "for f_ in categorical_feats:\n",
    "    data[f_], indexer = pd.factorize(data[f_])\n",
    "    test[f_] = indexer.get_indexer(test[f_])"
   ]
  },
  {
   "cell_type": "code",
   "execution_count": 56,
   "id": "d7d8cf18",
   "metadata": {},
   "outputs": [],
   "source": [
    "gc.enable()\n",
    "\n",
    "y_train = data['TARGET']\n",
    "del data['TARGET']"
   ]
  },
  {
   "cell_type": "code",
   "execution_count": 57,
   "id": "a77babae",
   "metadata": {},
   "outputs": [],
   "source": [
    "prev_cat_features = [\n",
    "    f_ for f_ in prev.columns if prev[f_].dtype == 'object'\n",
    "]\n",
    "for f_ in prev_cat_features:\n",
    "    prev[f_], _ = pd.factorize(prev[f_])"
   ]
  },
  {
   "cell_type": "code",
   "execution_count": 58,
   "id": "8f752203",
   "metadata": {},
   "outputs": [],
   "source": [
    "avg_prev = prev.groupby('SK_ID_CURR').mean()\n",
    "cnt_prev = prev[['SK_ID_CURR', 'SK_ID_PREV']].groupby('SK_ID_CURR').count()\n",
    "avg_prev['nb_app'] = cnt_prev['SK_ID_PREV']\n",
    "del avg_prev['SK_ID_PREV']"
   ]
  },
  {
   "cell_type": "code",
   "execution_count": 59,
   "id": "87527ee2",
   "metadata": {},
   "outputs": [],
   "source": [
    "x_train = data.merge(right=avg_prev.reset_index(), how='left', on='SK_ID_CURR')\n",
    "x_test = test.merge(right=avg_prev.reset_index(), how='left', on='SK_ID_CURR')\n",
    "\n",
    "x_train = x_train.fillna(0)\n",
    "x_test= x_test.fillna(0)\n",
    "\n",
    "ntrain = x_train.shape[0]\n",
    "ntest = x_test.shape[0]"
   ]
  },
  {
   "cell_type": "code",
   "execution_count": 61,
   "id": "93e01200",
   "metadata": {},
   "outputs": [],
   "source": [
    "excluded_feats = ['SK_ID_CURR']\n",
    "features = [f_ for f_ in x_train.columns if f_ not in excluded_feats]"
   ]
  },
  {
   "cell_type": "code",
   "execution_count": 62,
   "id": "3d847db3",
   "metadata": {},
   "outputs": [],
   "source": [
    "x_train = x_train[features]\n",
    "x_test = x_test[features]\n",
    "\n",
    "kf = KFold(n_splits = NFOLDS, shuffle=True, random_state=SEED)"
   ]
  },
  {
   "cell_type": "code",
   "execution_count": 63,
   "id": "9ab19ee5",
   "metadata": {},
   "outputs": [],
   "source": [
    "class SklearnWrapper(object):\n",
    "    def __init__(self, clf, seed=0, params=None):\n",
    "        params['random_state'] = seed\n",
    "        self.clf = clf(**params)\n",
    "\n",
    "    def train(self, x_train, y_train):\n",
    "        self.clf.fit(x_train, y_train)\n",
    "\n",
    "    def predict(self, x):\n",
    "        return self.clf.predict_proba(x)[:,1]"
   ]
  },
  {
   "cell_type": "code",
   "execution_count": 64,
   "id": "3a44758c",
   "metadata": {},
   "outputs": [],
   "source": [
    "class CatboostWrapper(object):\n",
    "    def __init__(self, clf, seed=0, params=None):\n",
    "        params['random_seed'] = seed\n",
    "        self.clf = clf(**params)\n",
    "\n",
    "    def train(self, x_train, y_train):\n",
    "        self.clf.fit(x_train, y_train)\n",
    "\n",
    "    def predict(self, x):\n",
    "        return self.clf.predict_proba(x)[:,1]"
   ]
  },
  {
   "cell_type": "code",
   "execution_count": 65,
   "id": "6a3a5d8b",
   "metadata": {},
   "outputs": [],
   "source": [
    "class XgbWrapper(object):\n",
    "    def __init__(self, seed=0, params=None):\n",
    "        self.param = params\n",
    "        self.param['seed'] = seed\n",
    "        self.nrounds = params.pop('nrounds', 250)\n",
    "\n",
    "    def train(self, x_train, y_train):\n",
    "        dtrain = xgb.DMatrix(x_train, label=y_train)\n",
    "        self.gbdt = xgb.train(self.param, dtrain, self.nrounds)\n",
    "\n",
    "    def predict(self, x):\n",
    "        return self.gbdt.predict(xgb.DMatrix(x))"
   ]
  },
  {
   "cell_type": "code",
   "execution_count": 66,
   "id": "604c71ce",
   "metadata": {},
   "outputs": [],
   "source": [
    "def get_oof(clf):\n",
    "    oof_train = np.zeros((ntrain,))\n",
    "    oof_test = np.zeros((ntest,))\n",
    "    oof_test_skf = np.empty((NFOLDS, ntest))\n",
    "\n",
    "    for i, (train_index, test_index) in enumerate(kf.split(x_train)):\n",
    "        x_tr = x_train.loc[train_index]\n",
    "        y_tr = y_train.loc[train_index]\n",
    "        x_te = x_train.loc[test_index]\n",
    "\n",
    "        clf.train(x_tr, y_tr)\n",
    "\n",
    "        oof_train[test_index] = clf.predict(x_te)\n",
    "        oof_test_skf[i, :] = clf.predict(x_test)\n",
    "\n",
    "    oof_test[:] = oof_test_skf.mean(axis=0)\n",
    "    return oof_train.reshape(-1, 1), oof_test.reshape(-1, 1)"
   ]
  },
  {
   "cell_type": "code",
   "execution_count": 67,
   "id": "ff5f6e63",
   "metadata": {},
   "outputs": [],
   "source": [
    "et_params = {\n",
    "    'n_jobs': 16,\n",
    "    'n_estimators': 200,\n",
    "    'max_features': 0.5,\n",
    "    'max_depth': 12,\n",
    "    'min_samples_leaf': 2,\n",
    "}"
   ]
  },
  {
   "cell_type": "code",
   "execution_count": 68,
   "id": "9ee53240",
   "metadata": {},
   "outputs": [],
   "source": [
    "rf_params = {\n",
    "    'n_jobs': 16,\n",
    "    'n_estimators': 200,\n",
    "    'max_features': 0.2,\n",
    "    'max_depth': 12,\n",
    "    'min_samples_leaf': 2,\n",
    "}"
   ]
  },
  {
   "cell_type": "code",
   "execution_count": 69,
   "id": "78415a71",
   "metadata": {},
   "outputs": [],
   "source": [
    "xgb_params = {\n",
    "    'seed': 0,\n",
    "    'colsample_bytree': 0.7,\n",
    "    'silent': 1,\n",
    "    'subsample': 0.7,\n",
    "    'learning_rate': 0.075,\n",
    "    'objective': 'binary:logistic',\n",
    "    'max_depth': 4,\n",
    "    'num_parallel_tree': 1,\n",
    "    'min_child_weight': 1,\n",
    "    'nrounds': 200\n",
    "}"
   ]
  },
  {
   "cell_type": "code",
   "execution_count": 70,
   "id": "14272538",
   "metadata": {},
   "outputs": [],
   "source": [
    "catboost_params = {\n",
    "    'iterations': 200,\n",
    "    'learning_rate': 0.5,\n",
    "    'depth': 3,\n",
    "    'l2_leaf_reg': 40,\n",
    "    'bootstrap_type': 'Bernoulli',\n",
    "    'subsample': 0.7,\n",
    "    'scale_pos_weight': 5,\n",
    "    'eval_metric': 'AUC',\n",
    "    'od_type': 'Iter',\n",
    "    'allow_writing_files': False\n",
    "}"
   ]
  },
  {
   "cell_type": "code",
   "execution_count": 71,
   "id": "cb755482",
   "metadata": {},
   "outputs": [],
   "source": [
    "xg = XgbWrapper(seed=SEED, params=xgb_params)\n",
    "et = SklearnWrapper(clf=ExtraTreesClassifier, seed=SEED, params=et_params)\n",
    "rf = SklearnWrapper(clf=RandomForestClassifier, seed=SEED, params=rf_params)\n",
    "cb = CatboostWrapper(clf= CatBoostClassifier, seed = SEED, params=catboost_params)"
   ]
  },
  {
   "cell_type": "code",
   "execution_count": 72,
   "id": "093fa990",
   "metadata": {},
   "outputs": [
    {
     "name": "stderr",
     "output_type": "stream",
     "text": [
      "/tmp/pip_packages/xgboost/core.py:160: UserWarning: [03:52:56] WARNING: /workspace/src/learner.cc:742: \n",
      "Parameters: { \"silent\" } are not used.\n",
      "\n",
      "  warnings.warn(smsg, UserWarning)\n",
      "/tmp/pip_packages/xgboost/core.py:160: UserWarning: [03:53:22] WARNING: /workspace/src/learner.cc:742: \n",
      "Parameters: { \"silent\" } are not used.\n",
      "\n",
      "  warnings.warn(smsg, UserWarning)\n",
      "/tmp/pip_packages/xgboost/core.py:160: UserWarning: [03:53:49] WARNING: /workspace/src/learner.cc:742: \n",
      "Parameters: { \"silent\" } are not used.\n",
      "\n",
      "  warnings.warn(smsg, UserWarning)\n"
     ]
    },
    {
     "name": "stdout",
     "output_type": "stream",
     "text": [
      "0:\ttotal: 160ms\tremaining: 31.8s\n",
      "1:\ttotal: 269ms\tremaining: 26.7s\n",
      "2:\ttotal: 356ms\tremaining: 23.4s\n",
      "3:\ttotal: 473ms\tremaining: 23.2s\n",
      "4:\ttotal: 570ms\tremaining: 22.2s\n",
      "5:\ttotal: 694ms\tremaining: 22.4s\n",
      "6:\ttotal: 825ms\tremaining: 22.8s\n",
      "7:\ttotal: 921ms\tremaining: 22.1s\n",
      "8:\ttotal: 1.03s\tremaining: 21.8s\n",
      "9:\ttotal: 1.14s\tremaining: 21.7s\n",
      "10:\ttotal: 1.25s\tremaining: 21.4s\n",
      "11:\ttotal: 1.34s\tremaining: 21s\n",
      "12:\ttotal: 1.44s\tremaining: 20.7s\n",
      "13:\ttotal: 1.55s\tremaining: 20.6s\n",
      "14:\ttotal: 1.66s\tremaining: 20.5s\n",
      "15:\ttotal: 1.75s\tremaining: 20.1s\n",
      "16:\ttotal: 1.85s\tremaining: 19.9s\n",
      "17:\ttotal: 1.94s\tremaining: 19.6s\n",
      "18:\ttotal: 2.03s\tremaining: 19.4s\n",
      "19:\ttotal: 2.13s\tremaining: 19.2s\n",
      "20:\ttotal: 2.23s\tremaining: 19s\n",
      "21:\ttotal: 2.33s\tremaining: 18.9s\n",
      "22:\ttotal: 2.41s\tremaining: 18.5s\n",
      "23:\ttotal: 2.53s\tremaining: 18.5s\n",
      "24:\ttotal: 2.62s\tremaining: 18.3s\n",
      "25:\ttotal: 2.7s\tremaining: 18.1s\n",
      "26:\ttotal: 2.81s\tremaining: 18s\n",
      "27:\ttotal: 2.9s\tremaining: 17.8s\n",
      "28:\ttotal: 2.99s\tremaining: 17.6s\n",
      "29:\ttotal: 3.09s\tremaining: 17.5s\n",
      "30:\ttotal: 3.18s\tremaining: 17.3s\n",
      "31:\ttotal: 3.28s\tremaining: 17.2s\n",
      "32:\ttotal: 3.38s\tremaining: 17.1s\n",
      "33:\ttotal: 3.47s\tremaining: 17s\n",
      "34:\ttotal: 3.59s\tremaining: 16.9s\n",
      "35:\ttotal: 3.69s\tremaining: 16.8s\n",
      "36:\ttotal: 3.77s\tremaining: 16.6s\n",
      "37:\ttotal: 3.86s\tremaining: 16.5s\n",
      "38:\ttotal: 3.94s\tremaining: 16.3s\n",
      "39:\ttotal: 4.04s\tremaining: 16.2s\n",
      "40:\ttotal: 4.13s\tremaining: 16s\n",
      "41:\ttotal: 4.22s\tremaining: 15.9s\n",
      "42:\ttotal: 4.33s\tremaining: 15.8s\n",
      "43:\ttotal: 4.46s\tremaining: 15.8s\n",
      "44:\ttotal: 4.54s\tremaining: 15.7s\n",
      "45:\ttotal: 4.62s\tremaining: 15.5s\n",
      "46:\ttotal: 4.7s\tremaining: 15.3s\n",
      "47:\ttotal: 4.81s\tremaining: 15.2s\n",
      "48:\ttotal: 4.89s\tremaining: 15.1s\n",
      "49:\ttotal: 4.99s\tremaining: 15s\n",
      "50:\ttotal: 5.06s\tremaining: 14.8s\n",
      "51:\ttotal: 5.14s\tremaining: 14.6s\n",
      "52:\ttotal: 5.22s\tremaining: 14.5s\n",
      "53:\ttotal: 5.32s\tremaining: 14.4s\n",
      "54:\ttotal: 5.4s\tremaining: 14.2s\n",
      "55:\ttotal: 5.49s\tremaining: 14.1s\n",
      "56:\ttotal: 5.58s\tremaining: 14s\n",
      "57:\ttotal: 5.68s\tremaining: 13.9s\n",
      "58:\ttotal: 5.77s\tremaining: 13.8s\n",
      "59:\ttotal: 5.85s\tremaining: 13.7s\n",
      "60:\ttotal: 5.94s\tremaining: 13.5s\n",
      "61:\ttotal: 6.01s\tremaining: 13.4s\n",
      "62:\ttotal: 6.11s\tremaining: 13.3s\n",
      "63:\ttotal: 6.19s\tremaining: 13.2s\n",
      "64:\ttotal: 6.27s\tremaining: 13s\n",
      "65:\ttotal: 6.34s\tremaining: 12.9s\n",
      "66:\ttotal: 6.43s\tremaining: 12.8s\n",
      "67:\ttotal: 6.5s\tremaining: 12.6s\n",
      "68:\ttotal: 6.58s\tremaining: 12.5s\n",
      "69:\ttotal: 6.68s\tremaining: 12.4s\n",
      "70:\ttotal: 6.76s\tremaining: 12.3s\n",
      "71:\ttotal: 6.85s\tremaining: 12.2s\n",
      "72:\ttotal: 6.95s\tremaining: 12.1s\n",
      "73:\ttotal: 7.04s\tremaining: 12s\n",
      "74:\ttotal: 7.14s\tremaining: 11.9s\n",
      "75:\ttotal: 7.22s\tremaining: 11.8s\n",
      "76:\ttotal: 7.33s\tremaining: 11.7s\n",
      "77:\ttotal: 7.41s\tremaining: 11.6s\n",
      "78:\ttotal: 7.5s\tremaining: 11.5s\n",
      "79:\ttotal: 7.64s\tremaining: 11.5s\n",
      "80:\ttotal: 7.72s\tremaining: 11.3s\n",
      "81:\ttotal: 7.79s\tremaining: 11.2s\n",
      "82:\ttotal: 7.88s\tremaining: 11.1s\n",
      "83:\ttotal: 7.99s\tremaining: 11s\n",
      "84:\ttotal: 8.1s\tremaining: 11s\n",
      "85:\ttotal: 8.19s\tremaining: 10.9s\n",
      "86:\ttotal: 8.27s\tremaining: 10.7s\n",
      "87:\ttotal: 8.36s\tremaining: 10.6s\n",
      "88:\ttotal: 8.44s\tremaining: 10.5s\n",
      "89:\ttotal: 8.52s\tremaining: 10.4s\n",
      "90:\ttotal: 8.62s\tremaining: 10.3s\n",
      "91:\ttotal: 8.71s\tremaining: 10.2s\n",
      "92:\ttotal: 8.79s\tremaining: 10.1s\n",
      "93:\ttotal: 8.87s\tremaining: 10s\n",
      "94:\ttotal: 8.97s\tremaining: 9.92s\n",
      "95:\ttotal: 9.06s\tremaining: 9.81s\n",
      "96:\ttotal: 9.16s\tremaining: 9.72s\n",
      "97:\ttotal: 9.22s\tremaining: 9.6s\n",
      "98:\ttotal: 9.3s\tremaining: 9.49s\n",
      "99:\ttotal: 9.38s\tremaining: 9.38s\n",
      "100:\ttotal: 9.49s\tremaining: 9.3s\n",
      "101:\ttotal: 9.64s\tremaining: 9.26s\n",
      "102:\ttotal: 9.76s\tremaining: 9.19s\n",
      "103:\ttotal: 9.9s\tremaining: 9.14s\n",
      "104:\ttotal: 10s\tremaining: 9.07s\n",
      "105:\ttotal: 10.2s\tremaining: 9.03s\n",
      "106:\ttotal: 10.3s\tremaining: 8.94s\n",
      "107:\ttotal: 10.4s\tremaining: 8.84s\n",
      "108:\ttotal: 10.5s\tremaining: 8.74s\n",
      "109:\ttotal: 10.6s\tremaining: 8.64s\n",
      "110:\ttotal: 10.7s\tremaining: 8.56s\n",
      "111:\ttotal: 10.8s\tremaining: 8.47s\n",
      "112:\ttotal: 10.9s\tremaining: 8.37s\n",
      "113:\ttotal: 11s\tremaining: 8.27s\n",
      "114:\ttotal: 11.1s\tremaining: 8.17s\n",
      "115:\ttotal: 11.2s\tremaining: 8.08s\n",
      "116:\ttotal: 11.3s\tremaining: 7.99s\n",
      "117:\ttotal: 11.4s\tremaining: 7.89s\n",
      "118:\ttotal: 11.5s\tremaining: 7.8s\n",
      "119:\ttotal: 11.5s\tremaining: 7.69s\n",
      "120:\ttotal: 11.6s\tremaining: 7.6s\n",
      "121:\ttotal: 11.7s\tremaining: 7.49s\n",
      "122:\ttotal: 11.8s\tremaining: 7.39s\n",
      "123:\ttotal: 11.9s\tremaining: 7.29s\n",
      "124:\ttotal: 12s\tremaining: 7.2s\n",
      "125:\ttotal: 12.2s\tremaining: 7.14s\n",
      "126:\ttotal: 12.2s\tremaining: 7.04s\n",
      "127:\ttotal: 12.3s\tremaining: 6.93s\n",
      "128:\ttotal: 12.4s\tremaining: 6.84s\n",
      "129:\ttotal: 12.6s\tremaining: 6.77s\n",
      "130:\ttotal: 12.7s\tremaining: 6.67s\n",
      "131:\ttotal: 12.8s\tremaining: 6.57s\n",
      "132:\ttotal: 12.8s\tremaining: 6.47s\n",
      "133:\ttotal: 12.9s\tremaining: 6.38s\n",
      "134:\ttotal: 13s\tremaining: 6.28s\n",
      "135:\ttotal: 13.1s\tremaining: 6.18s\n",
      "136:\ttotal: 13.2s\tremaining: 6.08s\n",
      "137:\ttotal: 13.3s\tremaining: 5.99s\n",
      "138:\ttotal: 13.4s\tremaining: 5.89s\n",
      "139:\ttotal: 13.5s\tremaining: 5.8s\n",
      "140:\ttotal: 13.6s\tremaining: 5.69s\n",
      "141:\ttotal: 13.7s\tremaining: 5.6s\n",
      "142:\ttotal: 13.8s\tremaining: 5.5s\n",
      "143:\ttotal: 13.9s\tremaining: 5.4s\n",
      "144:\ttotal: 14s\tremaining: 5.31s\n",
      "145:\ttotal: 14.1s\tremaining: 5.21s\n",
      "146:\ttotal: 14.2s\tremaining: 5.11s\n",
      "147:\ttotal: 14.3s\tremaining: 5.01s\n",
      "148:\ttotal: 14.4s\tremaining: 4.92s\n",
      "149:\ttotal: 14.4s\tremaining: 4.82s\n",
      "150:\ttotal: 14.5s\tremaining: 4.71s\n",
      "151:\ttotal: 14.6s\tremaining: 4.62s\n",
      "152:\ttotal: 14.7s\tremaining: 4.51s\n",
      "153:\ttotal: 14.8s\tremaining: 4.41s\n",
      "154:\ttotal: 14.9s\tremaining: 4.32s\n",
      "155:\ttotal: 15s\tremaining: 4.22s\n",
      "156:\ttotal: 15s\tremaining: 4.12s\n",
      "157:\ttotal: 15.1s\tremaining: 4.02s\n",
      "158:\ttotal: 15.2s\tremaining: 3.92s\n",
      "159:\ttotal: 15.3s\tremaining: 3.82s\n",
      "160:\ttotal: 15.4s\tremaining: 3.73s\n",
      "161:\ttotal: 15.5s\tremaining: 3.63s\n",
      "162:\ttotal: 15.6s\tremaining: 3.53s\n",
      "163:\ttotal: 15.6s\tremaining: 3.43s\n",
      "164:\ttotal: 15.7s\tremaining: 3.33s\n",
      "165:\ttotal: 15.8s\tremaining: 3.24s\n",
      "166:\ttotal: 15.9s\tremaining: 3.14s\n",
      "167:\ttotal: 16s\tremaining: 3.04s\n",
      "168:\ttotal: 16.1s\tremaining: 2.95s\n",
      "169:\ttotal: 16.1s\tremaining: 2.85s\n",
      "170:\ttotal: 16.2s\tremaining: 2.75s\n",
      "171:\ttotal: 16.3s\tremaining: 2.65s\n",
      "172:\ttotal: 16.4s\tremaining: 2.56s\n",
      "173:\ttotal: 16.5s\tremaining: 2.46s\n",
      "174:\ttotal: 16.6s\tremaining: 2.37s\n",
      "175:\ttotal: 16.7s\tremaining: 2.27s\n",
      "176:\ttotal: 16.8s\tremaining: 2.18s\n",
      "177:\ttotal: 16.9s\tremaining: 2.08s\n",
      "178:\ttotal: 16.9s\tremaining: 1.99s\n",
      "179:\ttotal: 17s\tremaining: 1.89s\n",
      "180:\ttotal: 17.1s\tremaining: 1.79s\n",
      "181:\ttotal: 17.2s\tremaining: 1.7s\n",
      "182:\ttotal: 17.3s\tremaining: 1.6s\n",
      "183:\ttotal: 17.4s\tremaining: 1.51s\n",
      "184:\ttotal: 17.5s\tremaining: 1.42s\n",
      "185:\ttotal: 17.6s\tremaining: 1.32s\n",
      "186:\ttotal: 17.6s\tremaining: 1.23s\n",
      "187:\ttotal: 17.7s\tremaining: 1.13s\n",
      "188:\ttotal: 17.8s\tremaining: 1.04s\n",
      "189:\ttotal: 17.9s\tremaining: 943ms\n",
      "190:\ttotal: 18s\tremaining: 849ms\n",
      "191:\ttotal: 18.1s\tremaining: 755ms\n",
      "192:\ttotal: 18.2s\tremaining: 660ms\n",
      "193:\ttotal: 18.3s\tremaining: 566ms\n",
      "194:\ttotal: 18.4s\tremaining: 471ms\n",
      "195:\ttotal: 18.5s\tremaining: 377ms\n",
      "196:\ttotal: 18.6s\tremaining: 283ms\n",
      "197:\ttotal: 18.7s\tremaining: 189ms\n",
      "198:\ttotal: 18.8s\tremaining: 94.3ms\n",
      "199:\ttotal: 18.8s\tremaining: 0us\n",
      "0:\ttotal: 137ms\tremaining: 27.2s\n",
      "1:\ttotal: 236ms\tremaining: 23.4s\n",
      "2:\ttotal: 348ms\tremaining: 22.8s\n",
      "3:\ttotal: 452ms\tremaining: 22.1s\n",
      "4:\ttotal: 552ms\tremaining: 21.5s\n",
      "5:\ttotal: 645ms\tremaining: 20.8s\n",
      "6:\ttotal: 729ms\tremaining: 20.1s\n",
      "7:\ttotal: 818ms\tremaining: 19.6s\n",
      "8:\ttotal: 910ms\tremaining: 19.3s\n",
      "9:\ttotal: 1.02s\tremaining: 19.4s\n",
      "10:\ttotal: 1.12s\tremaining: 19.3s\n",
      "11:\ttotal: 1.23s\tremaining: 19.3s\n",
      "12:\ttotal: 1.3s\tremaining: 18.8s\n",
      "13:\ttotal: 1.39s\tremaining: 18.4s\n",
      "14:\ttotal: 1.49s\tremaining: 18.3s\n",
      "15:\ttotal: 1.58s\tremaining: 18.1s\n",
      "16:\ttotal: 1.67s\tremaining: 18s\n",
      "17:\ttotal: 1.79s\tremaining: 18.1s\n",
      "18:\ttotal: 1.92s\tremaining: 18.3s\n",
      "19:\ttotal: 2.03s\tremaining: 18.3s\n",
      "20:\ttotal: 2.12s\tremaining: 18.1s\n",
      "21:\ttotal: 2.22s\tremaining: 18s\n",
      "22:\ttotal: 2.31s\tremaining: 17.8s\n",
      "23:\ttotal: 2.43s\tremaining: 17.8s\n",
      "24:\ttotal: 2.5s\tremaining: 17.5s\n",
      "25:\ttotal: 2.6s\tremaining: 17.4s\n",
      "26:\ttotal: 2.7s\tremaining: 17.3s\n",
      "27:\ttotal: 2.79s\tremaining: 17.1s\n",
      "28:\ttotal: 2.88s\tremaining: 17s\n",
      "29:\ttotal: 2.96s\tremaining: 16.8s\n",
      "30:\ttotal: 3.06s\tremaining: 16.7s\n",
      "31:\ttotal: 3.15s\tremaining: 16.5s\n",
      "32:\ttotal: 3.25s\tremaining: 16.4s\n",
      "33:\ttotal: 3.34s\tremaining: 16.3s\n",
      "34:\ttotal: 3.45s\tremaining: 16.3s\n",
      "35:\ttotal: 3.54s\tremaining: 16.1s\n",
      "36:\ttotal: 3.62s\tremaining: 15.9s\n",
      "37:\ttotal: 3.73s\tremaining: 15.9s\n",
      "38:\ttotal: 3.84s\tremaining: 15.9s\n",
      "39:\ttotal: 3.93s\tremaining: 15.7s\n",
      "40:\ttotal: 4s\tremaining: 15.5s\n",
      "41:\ttotal: 4.09s\tremaining: 15.4s\n"
     ]
    },
    {
     "name": "stdout",
     "output_type": "stream",
     "text": [
      "42:\ttotal: 4.21s\tremaining: 15.4s\n",
      "43:\ttotal: 4.32s\tremaining: 15.3s\n",
      "44:\ttotal: 4.44s\tremaining: 15.3s\n",
      "45:\ttotal: 4.52s\tremaining: 15.1s\n",
      "46:\ttotal: 4.61s\tremaining: 15s\n",
      "47:\ttotal: 4.7s\tremaining: 14.9s\n",
      "48:\ttotal: 4.79s\tremaining: 14.8s\n",
      "49:\ttotal: 4.88s\tremaining: 14.6s\n",
      "50:\ttotal: 4.97s\tremaining: 14.5s\n",
      "51:\ttotal: 5.05s\tremaining: 14.4s\n",
      "52:\ttotal: 5.13s\tremaining: 14.2s\n",
      "53:\ttotal: 5.21s\tremaining: 14.1s\n",
      "54:\ttotal: 5.31s\tremaining: 14s\n",
      "55:\ttotal: 5.4s\tremaining: 13.9s\n",
      "56:\ttotal: 5.49s\tremaining: 13.8s\n",
      "57:\ttotal: 5.57s\tremaining: 13.6s\n",
      "58:\ttotal: 5.66s\tremaining: 13.5s\n",
      "59:\ttotal: 5.75s\tremaining: 13.4s\n",
      "60:\ttotal: 5.83s\tremaining: 13.3s\n",
      "61:\ttotal: 5.91s\tremaining: 13.2s\n",
      "62:\ttotal: 6.02s\tremaining: 13.1s\n",
      "63:\ttotal: 6.12s\tremaining: 13s\n",
      "64:\ttotal: 6.25s\tremaining: 13s\n",
      "65:\ttotal: 6.34s\tremaining: 12.9s\n",
      "66:\ttotal: 6.44s\tremaining: 12.8s\n",
      "67:\ttotal: 6.55s\tremaining: 12.7s\n",
      "68:\ttotal: 6.66s\tremaining: 12.6s\n",
      "69:\ttotal: 6.75s\tremaining: 12.5s\n",
      "70:\ttotal: 6.86s\tremaining: 12.5s\n",
      "71:\ttotal: 6.94s\tremaining: 12.3s\n",
      "72:\ttotal: 7.01s\tremaining: 12.2s\n",
      "73:\ttotal: 7.09s\tremaining: 12.1s\n",
      "74:\ttotal: 7.16s\tremaining: 11.9s\n",
      "75:\ttotal: 7.25s\tremaining: 11.8s\n",
      "76:\ttotal: 7.33s\tremaining: 11.7s\n",
      "77:\ttotal: 7.42s\tremaining: 11.6s\n",
      "78:\ttotal: 7.51s\tremaining: 11.5s\n",
      "79:\ttotal: 7.59s\tremaining: 11.4s\n",
      "80:\ttotal: 7.67s\tremaining: 11.3s\n",
      "81:\ttotal: 7.75s\tremaining: 11.2s\n",
      "82:\ttotal: 7.82s\tremaining: 11s\n",
      "83:\ttotal: 7.91s\tremaining: 10.9s\n",
      "84:\ttotal: 8.01s\tremaining: 10.8s\n",
      "85:\ttotal: 8.11s\tremaining: 10.7s\n",
      "86:\ttotal: 8.2s\tremaining: 10.7s\n",
      "87:\ttotal: 8.28s\tremaining: 10.5s\n",
      "88:\ttotal: 8.37s\tremaining: 10.4s\n",
      "89:\ttotal: 8.46s\tremaining: 10.3s\n",
      "90:\ttotal: 8.56s\tremaining: 10.3s\n",
      "91:\ttotal: 8.64s\tremaining: 10.1s\n",
      "92:\ttotal: 8.71s\tremaining: 10s\n",
      "93:\ttotal: 8.86s\tremaining: 9.99s\n",
      "94:\ttotal: 8.95s\tremaining: 9.89s\n",
      "95:\ttotal: 9.05s\tremaining: 9.8s\n",
      "96:\ttotal: 9.13s\tremaining: 9.7s\n",
      "97:\ttotal: 9.21s\tremaining: 9.59s\n",
      "98:\ttotal: 9.3s\tremaining: 9.49s\n",
      "99:\ttotal: 9.38s\tremaining: 9.38s\n",
      "100:\ttotal: 9.45s\tremaining: 9.27s\n",
      "101:\ttotal: 9.53s\tremaining: 9.16s\n",
      "102:\ttotal: 9.62s\tremaining: 9.06s\n",
      "103:\ttotal: 9.72s\tremaining: 8.97s\n",
      "104:\ttotal: 9.83s\tremaining: 8.89s\n",
      "105:\ttotal: 9.94s\tremaining: 8.82s\n",
      "106:\ttotal: 10s\tremaining: 8.73s\n",
      "107:\ttotal: 10.1s\tremaining: 8.63s\n",
      "108:\ttotal: 10.2s\tremaining: 8.54s\n",
      "109:\ttotal: 10.3s\tremaining: 8.44s\n",
      "110:\ttotal: 10.4s\tremaining: 8.34s\n",
      "111:\ttotal: 10.5s\tremaining: 8.26s\n",
      "112:\ttotal: 10.6s\tremaining: 8.17s\n",
      "113:\ttotal: 10.7s\tremaining: 8.07s\n",
      "114:\ttotal: 10.8s\tremaining: 7.99s\n",
      "115:\ttotal: 10.9s\tremaining: 7.88s\n",
      "116:\ttotal: 11s\tremaining: 7.78s\n",
      "117:\ttotal: 11s\tremaining: 7.68s\n",
      "118:\ttotal: 11.2s\tremaining: 7.6s\n",
      "119:\ttotal: 11.3s\tremaining: 7.51s\n",
      "120:\ttotal: 11.4s\tremaining: 7.42s\n",
      "121:\ttotal: 11.4s\tremaining: 7.31s\n",
      "122:\ttotal: 11.5s\tremaining: 7.21s\n",
      "123:\ttotal: 11.6s\tremaining: 7.11s\n",
      "124:\ttotal: 11.7s\tremaining: 7.01s\n",
      "125:\ttotal: 11.8s\tremaining: 6.92s\n",
      "126:\ttotal: 11.9s\tremaining: 6.82s\n",
      "127:\ttotal: 12s\tremaining: 6.73s\n",
      "128:\ttotal: 12.1s\tremaining: 6.64s\n",
      "129:\ttotal: 12.1s\tremaining: 6.54s\n",
      "130:\ttotal: 12.2s\tremaining: 6.45s\n",
      "131:\ttotal: 12.3s\tremaining: 6.35s\n",
      "132:\ttotal: 12.4s\tremaining: 6.25s\n",
      "133:\ttotal: 12.5s\tremaining: 6.16s\n",
      "134:\ttotal: 12.6s\tremaining: 6.07s\n",
      "135:\ttotal: 12.7s\tremaining: 5.99s\n",
      "136:\ttotal: 12.8s\tremaining: 5.89s\n",
      "137:\ttotal: 12.9s\tremaining: 5.79s\n",
      "138:\ttotal: 13s\tremaining: 5.69s\n",
      "139:\ttotal: 13.1s\tremaining: 5.6s\n",
      "140:\ttotal: 13.2s\tremaining: 5.51s\n",
      "141:\ttotal: 13.2s\tremaining: 5.41s\n",
      "142:\ttotal: 13.3s\tremaining: 5.31s\n",
      "143:\ttotal: 13.4s\tremaining: 5.21s\n",
      "144:\ttotal: 13.5s\tremaining: 5.12s\n",
      "145:\ttotal: 13.6s\tremaining: 5.02s\n",
      "146:\ttotal: 13.7s\tremaining: 4.93s\n",
      "147:\ttotal: 13.8s\tremaining: 4.84s\n",
      "148:\ttotal: 13.8s\tremaining: 4.74s\n",
      "149:\ttotal: 13.9s\tremaining: 4.64s\n",
      "150:\ttotal: 14s\tremaining: 4.55s\n",
      "151:\ttotal: 14.1s\tremaining: 4.45s\n",
      "152:\ttotal: 14.2s\tremaining: 4.36s\n",
      "153:\ttotal: 14.3s\tremaining: 4.26s\n",
      "154:\ttotal: 14.3s\tremaining: 4.16s\n",
      "155:\ttotal: 14.4s\tremaining: 4.07s\n",
      "156:\ttotal: 14.5s\tremaining: 3.98s\n",
      "157:\ttotal: 14.6s\tremaining: 3.88s\n",
      "158:\ttotal: 14.7s\tremaining: 3.79s\n",
      "159:\ttotal: 14.8s\tremaining: 3.7s\n",
      "160:\ttotal: 14.9s\tremaining: 3.6s\n",
      "161:\ttotal: 15s\tremaining: 3.51s\n",
      "162:\ttotal: 15s\tremaining: 3.41s\n",
      "163:\ttotal: 15.2s\tremaining: 3.33s\n",
      "164:\ttotal: 15.3s\tremaining: 3.24s\n",
      "165:\ttotal: 15.4s\tremaining: 3.14s\n",
      "166:\ttotal: 15.4s\tremaining: 3.05s\n",
      "167:\ttotal: 15.5s\tremaining: 2.96s\n",
      "168:\ttotal: 15.6s\tremaining: 2.86s\n",
      "169:\ttotal: 15.7s\tremaining: 2.77s\n",
      "170:\ttotal: 15.8s\tremaining: 2.67s\n",
      "171:\ttotal: 15.8s\tremaining: 2.58s\n",
      "172:\ttotal: 15.9s\tremaining: 2.49s\n",
      "173:\ttotal: 16s\tremaining: 2.39s\n",
      "174:\ttotal: 16.1s\tremaining: 2.3s\n",
      "175:\ttotal: 16.2s\tremaining: 2.21s\n",
      "176:\ttotal: 16.3s\tremaining: 2.11s\n",
      "177:\ttotal: 16.3s\tremaining: 2.02s\n",
      "178:\ttotal: 16.4s\tremaining: 1.93s\n",
      "179:\ttotal: 16.5s\tremaining: 1.83s\n",
      "180:\ttotal: 16.6s\tremaining: 1.74s\n",
      "181:\ttotal: 16.7s\tremaining: 1.66s\n",
      "182:\ttotal: 16.8s\tremaining: 1.56s\n",
      "183:\ttotal: 16.9s\tremaining: 1.47s\n",
      "184:\ttotal: 17s\tremaining: 1.38s\n",
      "185:\ttotal: 17.1s\tremaining: 1.29s\n",
      "186:\ttotal: 17.2s\tremaining: 1.19s\n",
      "187:\ttotal: 17.3s\tremaining: 1.1s\n",
      "188:\ttotal: 17.4s\tremaining: 1.01s\n",
      "189:\ttotal: 17.5s\tremaining: 921ms\n",
      "190:\ttotal: 17.6s\tremaining: 828ms\n",
      "191:\ttotal: 17.7s\tremaining: 736ms\n",
      "192:\ttotal: 17.7s\tremaining: 643ms\n",
      "193:\ttotal: 17.8s\tremaining: 551ms\n",
      "194:\ttotal: 17.9s\tremaining: 459ms\n",
      "195:\ttotal: 18s\tremaining: 367ms\n",
      "196:\ttotal: 18.1s\tremaining: 276ms\n",
      "197:\ttotal: 18.2s\tremaining: 184ms\n",
      "198:\ttotal: 18.3s\tremaining: 92.1ms\n",
      "199:\ttotal: 18.4s\tremaining: 0us\n",
      "0:\ttotal: 127ms\tremaining: 25.2s\n",
      "1:\ttotal: 222ms\tremaining: 22s\n",
      "2:\ttotal: 324ms\tremaining: 21.3s\n",
      "3:\ttotal: 426ms\tremaining: 20.9s\n",
      "4:\ttotal: 513ms\tremaining: 20s\n",
      "5:\ttotal: 608ms\tremaining: 19.6s\n",
      "6:\ttotal: 697ms\tremaining: 19.2s\n",
      "7:\ttotal: 781ms\tremaining: 18.7s\n",
      "8:\ttotal: 890ms\tremaining: 18.9s\n",
      "9:\ttotal: 976ms\tremaining: 18.5s\n",
      "10:\ttotal: 1.1s\tremaining: 19s\n",
      "11:\ttotal: 1.21s\tremaining: 19s\n",
      "12:\ttotal: 1.28s\tremaining: 18.5s\n",
      "13:\ttotal: 1.39s\tremaining: 18.5s\n",
      "14:\ttotal: 1.5s\tremaining: 18.4s\n",
      "15:\ttotal: 1.61s\tremaining: 18.5s\n",
      "16:\ttotal: 1.71s\tremaining: 18.4s\n",
      "17:\ttotal: 1.8s\tremaining: 18.2s\n",
      "18:\ttotal: 1.89s\tremaining: 18s\n",
      "19:\ttotal: 1.99s\tremaining: 17.9s\n",
      "20:\ttotal: 2.08s\tremaining: 17.7s\n",
      "21:\ttotal: 2.2s\tremaining: 17.8s\n",
      "22:\ttotal: 2.28s\tremaining: 17.5s\n",
      "23:\ttotal: 2.38s\tremaining: 17.5s\n",
      "24:\ttotal: 2.47s\tremaining: 17.3s\n",
      "25:\ttotal: 2.55s\tremaining: 17.1s\n",
      "26:\ttotal: 2.66s\tremaining: 17s\n",
      "27:\ttotal: 2.75s\tremaining: 16.9s\n",
      "28:\ttotal: 2.85s\tremaining: 16.8s\n",
      "29:\ttotal: 2.93s\tremaining: 16.6s\n",
      "30:\ttotal: 3s\tremaining: 16.4s\n",
      "31:\ttotal: 3.08s\tremaining: 16.2s\n",
      "32:\ttotal: 3.17s\tremaining: 16s\n",
      "33:\ttotal: 3.27s\tremaining: 15.9s\n",
      "34:\ttotal: 3.36s\tremaining: 15.8s\n",
      "35:\ttotal: 3.49s\tremaining: 15.9s\n",
      "36:\ttotal: 3.57s\tremaining: 15.7s\n",
      "37:\ttotal: 3.66s\tremaining: 15.6s\n",
      "38:\ttotal: 3.75s\tremaining: 15.5s\n",
      "39:\ttotal: 3.84s\tremaining: 15.4s\n",
      "40:\ttotal: 3.92s\tremaining: 15.2s\n",
      "41:\ttotal: 4.01s\tremaining: 15.1s\n",
      "42:\ttotal: 4.09s\tremaining: 14.9s\n",
      "43:\ttotal: 4.2s\tremaining: 14.9s\n",
      "44:\ttotal: 4.28s\tremaining: 14.7s\n",
      "45:\ttotal: 4.36s\tremaining: 14.6s\n",
      "46:\ttotal: 4.47s\tremaining: 14.6s\n",
      "47:\ttotal: 4.55s\tremaining: 14.4s\n",
      "48:\ttotal: 4.68s\tremaining: 14.4s\n",
      "49:\ttotal: 4.76s\tremaining: 14.3s\n",
      "50:\ttotal: 4.86s\tremaining: 14.2s\n",
      "51:\ttotal: 4.94s\tremaining: 14.1s\n",
      "52:\ttotal: 5.04s\tremaining: 14s\n",
      "53:\ttotal: 5.11s\tremaining: 13.8s\n",
      "54:\ttotal: 5.21s\tremaining: 13.7s\n",
      "55:\ttotal: 5.31s\tremaining: 13.7s\n",
      "56:\ttotal: 5.39s\tremaining: 13.5s\n",
      "57:\ttotal: 5.48s\tremaining: 13.4s\n",
      "58:\ttotal: 5.56s\tremaining: 13.3s\n",
      "59:\ttotal: 5.64s\tremaining: 13.2s\n",
      "60:\ttotal: 5.72s\tremaining: 13s\n",
      "61:\ttotal: 5.79s\tremaining: 12.9s\n",
      "62:\ttotal: 5.89s\tremaining: 12.8s\n",
      "63:\ttotal: 5.99s\tremaining: 12.7s\n",
      "64:\ttotal: 6.06s\tremaining: 12.6s\n",
      "65:\ttotal: 6.15s\tremaining: 12.5s\n",
      "66:\ttotal: 6.27s\tremaining: 12.4s\n",
      "67:\ttotal: 6.34s\tremaining: 12.3s\n",
      "68:\ttotal: 6.42s\tremaining: 12.2s\n",
      "69:\ttotal: 6.53s\tremaining: 12.1s\n",
      "70:\ttotal: 6.62s\tremaining: 12s\n",
      "71:\ttotal: 6.7s\tremaining: 11.9s\n",
      "72:\ttotal: 6.81s\tremaining: 11.8s\n",
      "73:\ttotal: 6.88s\tremaining: 11.7s\n",
      "74:\ttotal: 6.96s\tremaining: 11.6s\n",
      "75:\ttotal: 7.05s\tremaining: 11.5s\n",
      "76:\ttotal: 7.14s\tremaining: 11.4s\n",
      "77:\ttotal: 7.23s\tremaining: 11.3s\n",
      "78:\ttotal: 7.31s\tremaining: 11.2s\n",
      "79:\ttotal: 7.38s\tremaining: 11.1s\n",
      "80:\ttotal: 7.45s\tremaining: 11s\n",
      "81:\ttotal: 7.56s\tremaining: 10.9s\n",
      "82:\ttotal: 7.68s\tremaining: 10.8s\n"
     ]
    },
    {
     "name": "stdout",
     "output_type": "stream",
     "text": [
      "83:\ttotal: 7.79s\tremaining: 10.8s\n",
      "84:\ttotal: 7.87s\tremaining: 10.6s\n",
      "85:\ttotal: 7.97s\tremaining: 10.6s\n",
      "86:\ttotal: 8.06s\tremaining: 10.5s\n",
      "87:\ttotal: 8.13s\tremaining: 10.4s\n",
      "88:\ttotal: 8.22s\tremaining: 10.3s\n",
      "89:\ttotal: 8.3s\tremaining: 10.1s\n",
      "90:\ttotal: 8.38s\tremaining: 10s\n",
      "91:\ttotal: 8.46s\tremaining: 9.93s\n",
      "92:\ttotal: 8.54s\tremaining: 9.83s\n",
      "93:\ttotal: 8.67s\tremaining: 9.78s\n",
      "94:\ttotal: 8.76s\tremaining: 9.68s\n",
      "95:\ttotal: 8.85s\tremaining: 9.59s\n",
      "96:\ttotal: 8.93s\tremaining: 9.48s\n",
      "97:\ttotal: 9.02s\tremaining: 9.39s\n",
      "98:\ttotal: 9.09s\tremaining: 9.28s\n",
      "99:\ttotal: 9.15s\tremaining: 9.15s\n",
      "100:\ttotal: 9.27s\tremaining: 9.08s\n",
      "101:\ttotal: 9.35s\tremaining: 8.98s\n",
      "102:\ttotal: 9.44s\tremaining: 8.89s\n",
      "103:\ttotal: 9.53s\tremaining: 8.79s\n",
      "104:\ttotal: 9.62s\tremaining: 8.7s\n",
      "105:\ttotal: 9.8s\tremaining: 8.69s\n",
      "106:\ttotal: 9.91s\tremaining: 8.62s\n",
      "107:\ttotal: 9.99s\tremaining: 8.51s\n",
      "108:\ttotal: 10.1s\tremaining: 8.44s\n",
      "109:\ttotal: 10.2s\tremaining: 8.36s\n",
      "110:\ttotal: 10.3s\tremaining: 8.25s\n",
      "111:\ttotal: 10.4s\tremaining: 8.15s\n",
      "112:\ttotal: 10.5s\tremaining: 8.06s\n",
      "113:\ttotal: 10.6s\tremaining: 7.98s\n",
      "114:\ttotal: 10.7s\tremaining: 7.88s\n",
      "115:\ttotal: 10.7s\tremaining: 7.78s\n",
      "116:\ttotal: 10.8s\tremaining: 7.68s\n",
      "117:\ttotal: 10.9s\tremaining: 7.58s\n",
      "118:\ttotal: 11s\tremaining: 7.51s\n",
      "119:\ttotal: 11.1s\tremaining: 7.4s\n",
      "120:\ttotal: 11.2s\tremaining: 7.3s\n",
      "121:\ttotal: 11.3s\tremaining: 7.2s\n",
      "122:\ttotal: 11.4s\tremaining: 7.11s\n",
      "123:\ttotal: 11.4s\tremaining: 7.01s\n",
      "124:\ttotal: 11.6s\tremaining: 6.95s\n",
      "125:\ttotal: 11.7s\tremaining: 6.86s\n",
      "126:\ttotal: 11.8s\tremaining: 6.75s\n",
      "127:\ttotal: 11.9s\tremaining: 6.67s\n",
      "128:\ttotal: 11.9s\tremaining: 6.57s\n",
      "129:\ttotal: 12s\tremaining: 6.48s\n",
      "130:\ttotal: 12.1s\tremaining: 6.39s\n",
      "131:\ttotal: 12.2s\tremaining: 6.29s\n",
      "132:\ttotal: 12.3s\tremaining: 6.19s\n",
      "133:\ttotal: 12.4s\tremaining: 6.09s\n",
      "134:\ttotal: 12.5s\tremaining: 6.01s\n",
      "135:\ttotal: 12.6s\tremaining: 5.91s\n",
      "136:\ttotal: 12.7s\tremaining: 5.83s\n",
      "137:\ttotal: 12.8s\tremaining: 5.74s\n",
      "138:\ttotal: 12.9s\tremaining: 5.64s\n",
      "139:\ttotal: 13s\tremaining: 5.57s\n",
      "140:\ttotal: 13.1s\tremaining: 5.47s\n",
      "141:\ttotal: 13.2s\tremaining: 5.38s\n",
      "142:\ttotal: 13.3s\tremaining: 5.29s\n",
      "143:\ttotal: 13.3s\tremaining: 5.19s\n",
      "144:\ttotal: 13.4s\tremaining: 5.09s\n",
      "145:\ttotal: 13.5s\tremaining: 5s\n",
      "146:\ttotal: 13.6s\tremaining: 4.91s\n",
      "147:\ttotal: 13.7s\tremaining: 4.81s\n",
      "148:\ttotal: 13.8s\tremaining: 4.71s\n",
      "149:\ttotal: 13.9s\tremaining: 4.62s\n",
      "150:\ttotal: 13.9s\tremaining: 4.53s\n",
      "151:\ttotal: 14s\tremaining: 4.43s\n",
      "152:\ttotal: 14.1s\tremaining: 4.33s\n",
      "153:\ttotal: 14.2s\tremaining: 4.24s\n",
      "154:\ttotal: 14.3s\tremaining: 4.15s\n",
      "155:\ttotal: 14.4s\tremaining: 4.05s\n",
      "156:\ttotal: 14.5s\tremaining: 3.96s\n",
      "157:\ttotal: 14.6s\tremaining: 3.87s\n",
      "158:\ttotal: 14.7s\tremaining: 3.78s\n",
      "159:\ttotal: 14.7s\tremaining: 3.68s\n",
      "160:\ttotal: 14.8s\tremaining: 3.58s\n",
      "161:\ttotal: 14.9s\tremaining: 3.49s\n",
      "162:\ttotal: 15s\tremaining: 3.39s\n",
      "163:\ttotal: 15s\tremaining: 3.3s\n",
      "164:\ttotal: 15.1s\tremaining: 3.21s\n",
      "165:\ttotal: 15.2s\tremaining: 3.11s\n",
      "166:\ttotal: 15.3s\tremaining: 3.02s\n",
      "167:\ttotal: 15.4s\tremaining: 2.92s\n",
      "168:\ttotal: 15.4s\tremaining: 2.83s\n",
      "169:\ttotal: 15.5s\tremaining: 2.74s\n",
      "170:\ttotal: 15.6s\tremaining: 2.65s\n",
      "171:\ttotal: 15.7s\tremaining: 2.55s\n",
      "172:\ttotal: 15.8s\tremaining: 2.46s\n",
      "173:\ttotal: 15.9s\tremaining: 2.37s\n",
      "174:\ttotal: 16s\tremaining: 2.28s\n",
      "175:\ttotal: 16s\tremaining: 2.19s\n",
      "176:\ttotal: 16.1s\tremaining: 2.09s\n",
      "177:\ttotal: 16.2s\tremaining: 2s\n",
      "178:\ttotal: 16.3s\tremaining: 1.91s\n",
      "179:\ttotal: 16.3s\tremaining: 1.81s\n",
      "180:\ttotal: 16.4s\tremaining: 1.73s\n",
      "181:\ttotal: 16.5s\tremaining: 1.63s\n",
      "182:\ttotal: 16.6s\tremaining: 1.54s\n",
      "183:\ttotal: 16.7s\tremaining: 1.45s\n",
      "184:\ttotal: 16.8s\tremaining: 1.36s\n",
      "185:\ttotal: 16.9s\tremaining: 1.27s\n",
      "186:\ttotal: 17s\tremaining: 1.18s\n",
      "187:\ttotal: 17.1s\tremaining: 1.09s\n",
      "188:\ttotal: 17.2s\tremaining: 998ms\n",
      "189:\ttotal: 17.2s\tremaining: 907ms\n",
      "190:\ttotal: 17.3s\tremaining: 817ms\n",
      "191:\ttotal: 17.4s\tremaining: 725ms\n",
      "192:\ttotal: 17.5s\tremaining: 635ms\n",
      "193:\ttotal: 17.6s\tremaining: 544ms\n",
      "194:\ttotal: 17.7s\tremaining: 454ms\n",
      "195:\ttotal: 17.8s\tremaining: 363ms\n",
      "196:\ttotal: 17.9s\tremaining: 272ms\n",
      "197:\ttotal: 17.9s\tremaining: 181ms\n",
      "198:\ttotal: 18s\tremaining: 90.5ms\n",
      "199:\ttotal: 18.1s\tremaining: 0us\n"
     ]
    }
   ],
   "source": [
    "xg_oof_train, xg_oof_test = get_oof(xg)\n",
    "et_oof_train, et_oof_test = get_oof(et)\n",
    "rf_oof_train, rf_oof_test = get_oof(rf)\n",
    "cb_oof_train, cb_oof_test = get_oof(cb)"
   ]
  },
  {
   "cell_type": "code",
   "execution_count": 100,
   "id": "ed7c6db4",
   "metadata": {},
   "outputs": [
    {
     "name": "stdout",
     "output_type": "stream",
     "text": [
      "XGBoost-CV Recall-Score: 0.020503524672708964\n",
      "Extra Tree-CV Recall-Score: 0.00016112789526686808\n",
      "RandomForest-CV Recall-Score: 0.0002014098690835851\n",
      "CatBoost-CV Recall-Score: 0.38328298086606244\n"
     ]
    }
   ],
   "source": [
    "print(\"XGBoost-CV Recall-Score: {}\".format((recall_score(y_train, np.round(xg_oof_train)))))\n",
    "print(\"Extra Tree-CV Recall-Score: {}\".format((recall_score(y_train, np.round(et_oof_train)))))\n",
    "print(\"RandomForest-CV Recall-Score: {}\".format((recall_score(y_train, np.round(rf_oof_train)))))\n",
    "print(\"CatBoost-CV Recall-Score: {}\".format((recall_score(y_train, np.round(cb_oof_train)))))"
   ]
  },
  {
   "cell_type": "code",
   "execution_count": 101,
   "id": "21d1073a",
   "metadata": {},
   "outputs": [
    {
     "name": "stdout",
     "output_type": "stream",
     "text": [
      "XGBoost-CV Precision-Score: 0.5520607375271149\n",
      "Extra Tree-CV Precision-Score: 0.8\n",
      "RandomForest-CV Precision-Score: 0.8333333333333334\n",
      "CatBoost-CV Precision-Score: 0.2610568481123793\n"
     ]
    }
   ],
   "source": [
    "print(\"XGBoost-CV Precision-Score: {}\".format((precision_score(y_train, np.round(xg_oof_train)))))\n",
    "print(\"Extra Tree-CV Precision-Score: {}\".format((precision_score(y_train, np.round(et_oof_train)))))\n",
    "print(\"RandomForest-CV Precision-Score: {}\".format((precision_score(y_train, np.round(rf_oof_train)))))\n",
    "print(\"CatBoost-CV Precision-Score: {}\".format((precision_score(y_train, np.round(cb_oof_train)))))"
   ]
  },
  {
   "cell_type": "code",
   "execution_count": 98,
   "id": "fbd92ee1",
   "metadata": {},
   "outputs": [
    {
     "name": "stdout",
     "output_type": "stream",
     "text": [
      "XGBoost-CV F1-Score: 0.03953858701984697\n",
      "Extra Tree-CV F1-Score: 0.0003221908981071284\n",
      "RandomForest-CV F1-Score: 0.0004027224034473038\n",
      "CatBoost-CV F1-Score: 0.31057725262350466\n"
     ]
    }
   ],
   "source": [
    "print(\"XGBoost-CV F1-Score: {}\".format((f1_score(y_train, np.round(xg_oof_train)))))\n",
    "print(\"Extra Tree-CV F1-Score: {}\".format((f1_score(y_train, np.round(et_oof_train)))))\n",
    "print(\"RandomForest-CV F1-Score: {}\".format((f1_score(y_train, np.round(rf_oof_train)))))\n",
    "print(\"CatBoost-CV F1-Score: {}\".format((f1_score(y_train, np.round(cb_oof_train)))))"
   ]
  },
  {
   "cell_type": "code",
   "execution_count": 99,
   "id": "598b0958",
   "metadata": {},
   "outputs": [
    {
     "name": "stdout",
     "output_type": "stream",
     "text": [
      "XGBoost-CV AUC-Score: 0.5095212698464541\n",
      "Extra Tree-CV AUC-Score: 0.5000787952006845\n",
      "RandomForest-CV AUC-Score: 0.5000989361875929\n",
      "CatBoost-CV AUC-Score: 0.6440038288579975\n"
     ]
    }
   ],
   "source": [
    "print(\"XGBoost-CV AUC-Score: {}\".format((roc_auc_score(y_train, np.round(xg_oof_train)))))\n",
    "print(\"Extra Tree-CV AUC-Score: {}\".format((roc_auc_score(y_train, np.round(et_oof_train)))))\n",
    "print(\"RandomForest-CV AUC-Score: {}\".format((roc_auc_score(y_train, np.round(rf_oof_train)))))\n",
    "print(\"CatBoost-CV AUC-Score: {}\".format((roc_auc_score(y_train, np.round(cb_oof_train)))))"
   ]
  },
  {
   "cell_type": "code",
   "execution_count": 102,
   "id": "29974030",
   "metadata": {},
   "outputs": [],
   "source": [
    "x_train = np.concatenate((xg_oof_train, et_oof_train, rf_oof_train, cb_oof_train), axis=1)\n",
    "x_test = np.concatenate((xg_oof_test, et_oof_test, rf_oof_test, cb_oof_test), axis=1)"
   ]
  },
  {
   "cell_type": "code",
   "execution_count": 103,
   "id": "aebcc721",
   "metadata": {},
   "outputs": [
    {
     "name": "stdout",
     "output_type": "stream",
     "text": [
      "(307511, 4),(48744, 4)\n"
     ]
    }
   ],
   "source": [
    "print(\"{},{}\".format(x_train.shape, x_test.shape))"
   ]
  },
  {
   "cell_type": "code",
   "execution_count": 119,
   "id": "ac9a9b67",
   "metadata": {},
   "outputs": [
    {
     "data": {
      "text/html": [
       "<style>#sk-container-id-2 {color: black;}#sk-container-id-2 pre{padding: 0;}#sk-container-id-2 div.sk-toggleable {background-color: white;}#sk-container-id-2 label.sk-toggleable__label {cursor: pointer;display: block;width: 100%;margin-bottom: 0;padding: 0.3em;box-sizing: border-box;text-align: center;}#sk-container-id-2 label.sk-toggleable__label-arrow:before {content: \"▸\";float: left;margin-right: 0.25em;color: #696969;}#sk-container-id-2 label.sk-toggleable__label-arrow:hover:before {color: black;}#sk-container-id-2 div.sk-estimator:hover label.sk-toggleable__label-arrow:before {color: black;}#sk-container-id-2 div.sk-toggleable__content {max-height: 0;max-width: 0;overflow: hidden;text-align: left;background-color: #f0f8ff;}#sk-container-id-2 div.sk-toggleable__content pre {margin: 0.2em;color: black;border-radius: 0.25em;background-color: #f0f8ff;}#sk-container-id-2 input.sk-toggleable__control:checked~div.sk-toggleable__content {max-height: 200px;max-width: 100%;overflow: auto;}#sk-container-id-2 input.sk-toggleable__control:checked~label.sk-toggleable__label-arrow:before {content: \"▾\";}#sk-container-id-2 div.sk-estimator input.sk-toggleable__control:checked~label.sk-toggleable__label {background-color: #d4ebff;}#sk-container-id-2 div.sk-label input.sk-toggleable__control:checked~label.sk-toggleable__label {background-color: #d4ebff;}#sk-container-id-2 input.sk-hidden--visually {border: 0;clip: rect(1px 1px 1px 1px);clip: rect(1px, 1px, 1px, 1px);height: 1px;margin: -1px;overflow: hidden;padding: 0;position: absolute;width: 1px;}#sk-container-id-2 div.sk-estimator {font-family: monospace;background-color: #f0f8ff;border: 1px dotted black;border-radius: 0.25em;box-sizing: border-box;margin-bottom: 0.5em;}#sk-container-id-2 div.sk-estimator:hover {background-color: #d4ebff;}#sk-container-id-2 div.sk-parallel-item::after {content: \"\";width: 100%;border-bottom: 1px solid gray;flex-grow: 1;}#sk-container-id-2 div.sk-label:hover label.sk-toggleable__label {background-color: #d4ebff;}#sk-container-id-2 div.sk-serial::before {content: \"\";position: absolute;border-left: 1px solid gray;box-sizing: border-box;top: 0;bottom: 0;left: 50%;z-index: 0;}#sk-container-id-2 div.sk-serial {display: flex;flex-direction: column;align-items: center;background-color: white;padding-right: 0.2em;padding-left: 0.2em;position: relative;}#sk-container-id-2 div.sk-item {position: relative;z-index: 1;}#sk-container-id-2 div.sk-parallel {display: flex;align-items: stretch;justify-content: center;background-color: white;position: relative;}#sk-container-id-2 div.sk-item::before, #sk-container-id-2 div.sk-parallel-item::before {content: \"\";position: absolute;border-left: 1px solid gray;box-sizing: border-box;top: 0;bottom: 0;left: 50%;z-index: -1;}#sk-container-id-2 div.sk-parallel-item {display: flex;flex-direction: column;z-index: 1;position: relative;background-color: white;}#sk-container-id-2 div.sk-parallel-item:first-child::after {align-self: flex-end;width: 50%;}#sk-container-id-2 div.sk-parallel-item:last-child::after {align-self: flex-start;width: 50%;}#sk-container-id-2 div.sk-parallel-item:only-child::after {width: 0;}#sk-container-id-2 div.sk-dashed-wrapped {border: 1px dashed gray;margin: 0 0.4em 0.5em 0.4em;box-sizing: border-box;padding-bottom: 0.4em;background-color: white;}#sk-container-id-2 div.sk-label label {font-family: monospace;font-weight: bold;display: inline-block;line-height: 1.2em;}#sk-container-id-2 div.sk-label-container {text-align: center;}#sk-container-id-2 div.sk-container {/* jupyter's `normalize.less` sets `[hidden] { display: none; }` but bootstrap.min.css set `[hidden] { display: none !important; }` so we also need the `!important` here to be able to override the default hidden behavior on the sphinx rendered scikit-learn.org. See: https://github.com/scikit-learn/scikit-learn/issues/21755 */display: inline-block !important;position: relative;}#sk-container-id-2 div.sk-text-repr-fallback {display: none;}</style><div id=\"sk-container-id-2\" class=\"sk-top-container\"><div class=\"sk-text-repr-fallback\"><pre>RandomForestClassifier()</pre><b>In a Jupyter environment, please rerun this cell to show the HTML representation or trust the notebook. <br />On GitHub, the HTML representation is unable to render, please try loading this page with nbviewer.org.</b></div><div class=\"sk-container\" hidden><div class=\"sk-item\"><div class=\"sk-estimator sk-toggleable\"><input class=\"sk-toggleable__control sk-hidden--visually\" id=\"sk-estimator-id-2\" type=\"checkbox\" checked><label for=\"sk-estimator-id-2\" class=\"sk-toggleable__label sk-toggleable__label-arrow\">RandomForestClassifier</label><div class=\"sk-toggleable__content\"><pre>RandomForestClassifier()</pre></div></div></div></div></div>"
      ],
      "text/plain": [
       "RandomForestClassifier()"
      ]
     },
     "execution_count": 119,
     "metadata": {},
     "output_type": "execute_result"
    }
   ],
   "source": [
    "logistic_regression = RandomForestClassifier()\n",
    "logistic_regression.fit(x_train,y_train)"
   ]
  },
  {
   "cell_type": "code",
   "execution_count": 120,
   "id": "6f3aa01f",
   "metadata": {},
   "outputs": [],
   "source": [
    "y_log_train = logistic_regression.predict(x_train)"
   ]
  },
  {
   "cell_type": "code",
   "execution_count": 124,
   "id": "2bacd8eb",
   "metadata": {},
   "outputs": [
    {
     "data": {
      "text/plain": [
       "24825"
      ]
     },
     "execution_count": 124,
     "metadata": {},
     "output_type": "execute_result"
    }
   ],
   "source": [
    "sum(y_train)"
   ]
  },
  {
   "cell_type": "code",
   "execution_count": 121,
   "id": "88f62f18",
   "metadata": {},
   "outputs": [
    {
     "data": {
      "text/plain": [
       "24803"
      ]
     },
     "execution_count": 121,
     "metadata": {},
     "output_type": "execute_result"
    }
   ],
   "source": [
    "sum(y_log_train)"
   ]
  },
  {
   "cell_type": "code",
   "execution_count": 126,
   "id": "5a6bdafd",
   "metadata": {},
   "outputs": [
    {
     "name": "stdout",
     "output_type": "stream",
     "text": [
      "RandomForest-Stacking Recall-Score: 0.9991137965760323\n",
      "RandomForest-Stacking Precision-Score: 1.0\n",
      "RandomForest-Stacking F1-Score: 0.9995567018618523\n",
      "RandomForest-Stacking AUC-Score: 0.9995568982880161\n"
     ]
    }
   ],
   "source": [
    "print(\"RandomForest-Stacking Recall-Score: {}\".format((recall_score(y_train, y_log_train))))\n",
    "print(\"RandomForest-Stacking Precision-Score: {}\".format((precision_score(y_train, y_log_train))))\n",
    "print(\"RandomForest-Stacking F1-Score: {}\".format((f1_score(y_train, y_log_train))))\n",
    "print(\"RandomForest-Stacking AUC-Score: {}\".format((roc_auc_score(y_train, y_log_train))))"
   ]
  },
  {
   "cell_type": "code",
   "execution_count": 127,
   "id": "b54c0f98",
   "metadata": {
    "scrolled": true
   },
   "outputs": [
    {
     "name": "stdout",
     "output_type": "stream",
     "text": [
      "RandomForest-Stacking AUC-Score: [[282686      0]\n",
      " [    22  24803]]\n"
     ]
    }
   ],
   "source": [
    "print(\"RandomForest-Stacking AUC-Score: {}\".format((confusion_matrix(y_train, y_log_train))))"
   ]
  },
  {
   "cell_type": "code",
   "execution_count": null,
   "id": "c1fbcb01",
   "metadata": {},
   "outputs": [],
   "source": []
  }
 ],
 "metadata": {
  "kernelspec": {
   "display_name": "Python 3",
   "language": "python",
   "name": "python3"
  },
  "language_info": {
   "codemirror_mode": {
    "name": "ipython",
    "version": 3
   },
   "file_extension": ".py",
   "mimetype": "text/x-python",
   "name": "python",
   "nbconvert_exporter": "python",
   "pygments_lexer": "ipython3",
   "version": "3.8.18"
  }
 },
 "nbformat": 4,
 "nbformat_minor": 5
}
