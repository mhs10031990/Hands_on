{
 "cells": [
  {
   "cell_type": "code",
   "execution_count": 1,
   "id": "4d0eda97",
   "metadata": {},
   "outputs": [],
   "source": [
    "from snowflake.snowpark import Session\n",
    "# create_temp_table warning suppresion\n",
    "import warnings; warnings.simplefilter('ignore')\n",
    "import configparser\n",
    "\n",
    "import pandas as pd"
   ]
  },
  {
   "cell_type": "code",
   "execution_count": 2,
   "id": "949cda4a",
   "metadata": {},
   "outputs": [
    {
     "data": {
      "text/plain": [
       "['snowflake_connection.ini']"
      ]
     },
     "execution_count": 2,
     "metadata": {},
     "output_type": "execute_result"
    }
   ],
   "source": [
    "config = configparser.ConfigParser()\n",
    "config.read(\"snowflake_connection.ini\")"
   ]
  },
  {
   "cell_type": "code",
   "execution_count": 3,
   "id": "cbbca99b",
   "metadata": {},
   "outputs": [],
   "source": [
    "connection_parameters = {\n",
    "    \"user\": f'{config[\"Snowflake\"][\"user\"]}',\n",
    "    \"password\": f'{config[\"Snowflake\"][\"password\"]}',\n",
    "    #\"password\": os.getenv('snowflake_password'),\n",
    "    \"account\": f'{config[\"Snowflake\"][\"account\"]}',\n",
    "    #\"account\": os.getenv('snowflake_account'),\n",
    "    \"WAREHOUSE\": f'{config[\"Snowflake\"][\"WAREHOUSE\"]}',\n",
    "    \"DATABASE\": f'{config[\"Snowflake\"][\"DATABASE\"]}',\n",
    "    \"SCHEMA\": f'{config[\"Snowflake\"][\"SCHEMA\"]}'\n",
    "}"
   ]
  },
  {
   "cell_type": "code",
   "execution_count": 4,
   "id": "a8752adb",
   "metadata": {},
   "outputs": [
    {
     "name": "stdout",
     "output_type": "stream",
     "text": [
      "connection successful!\n"
     ]
    }
   ],
   "source": [
    "def snowflake_connector(conn):\n",
    "    try:\n",
    "        session = Session.builder.configs(conn).create()\n",
    "        print(\"connection successful!\")\n",
    "    except:\n",
    "        raise ValueError(\"error while connecting with db\")\n",
    "    return session\n",
    "\n",
    "session = snowflake_connector(connection_parameters)"
   ]
  },
  {
   "cell_type": "code",
   "execution_count": 5,
   "id": "d6ef7fdb",
   "metadata": {},
   "outputs": [],
   "source": [
    "df =  pd.read_csv('/data/Lumin_Dump_CreditRiskAnalytics_v1.csv')"
   ]
  },
  {
   "cell_type": "code",
   "execution_count": 6,
   "id": "5c4bf07c",
   "metadata": {},
   "outputs": [],
   "source": [
    "df['APPL_MONTH'] = pd.to_datetime(df['APPL_MONTH'], format='ISO8601')"
   ]
  },
  {
   "cell_type": "code",
   "execution_count": 7,
   "id": "14511c6b",
   "metadata": {},
   "outputs": [],
   "source": [
    "df['HOUSETYPE_MODE'].fillna('Missing', inplace=True)\n",
    "df['WALLSMATERIAL_MODE'].fillna('Missing', inplace=True)\n",
    "df['EMERGENCYSTATE_MODE'].fillna('Missing', inplace=True)\n",
    "df['OCCUPATION_TYPE'].fillna('Missing', inplace=True)\n",
    "df['FONDKAPREMONT_MODE'].fillna('Missing', inplace=True)\n",
    "df['NAME_TYPE_SUITE'].fillna('Missing', inplace=True)"
   ]
  },
  {
   "cell_type": "code",
   "execution_count": 8,
   "id": "7d42049c",
   "metadata": {},
   "outputs": [],
   "source": [
    "df['RECORD_COUNT'] = df['RECORD_COUNT'].apply(str)\n",
    "df['APPL_MONTH'] = df['APPL_MONTH'].apply(str)\n",
    "df['SK_ID_CURR'] = df['SK_ID_CURR'].apply(str)\n",
    "df['TARGET'] = df['TARGET'].apply(str)\n",
    "df['FLAG_MOBIL'] = df['FLAG_MOBIL'].apply(str)\n",
    "df['FLAG_EMP_PHONE'] = df['FLAG_EMP_PHONE'].apply(str)\n",
    "df['FLAG_WORK_PHONE'] = df['FLAG_WORK_PHONE'].apply(str)\n",
    "df['FLAG_CONT_MOBILE'] = df['FLAG_CONT_MOBILE'].apply(str)\n",
    "df['FLAG_PHONE'] = df['FLAG_PHONE'].apply(str)\n",
    "df['FLAG_EMAIL'] = df['FLAG_EMAIL'].apply(str)\n",
    "df['REGION_RATING_CLIENT_W_CITY'] = df['REGION_RATING_CLIENT_W_CITY'].apply(str)\n",
    "df['HOUR_APPR_PROCESS_START'] = df['HOUR_APPR_PROCESS_START'].apply(str)\n",
    "df['REG_REGION_NOT_LIVE_REGION'] = df['REG_REGION_NOT_LIVE_REGION'].apply(str)\n",
    "df['REG_REGION_NOT_WORK_REGION'] = df['REG_REGION_NOT_WORK_REGION'].apply(str)\n",
    "df['LIVE_REGION_NOT_WORK_REGION'] = df['LIVE_REGION_NOT_WORK_REGION'].apply(str)\n",
    "df['REG_CITY_NOT_LIVE_CITY'] = df['REG_CITY_NOT_LIVE_CITY'].apply(str)\n",
    "df['REG_CITY_NOT_WORK_CITY'] = df['REG_CITY_NOT_WORK_CITY'].apply(str)\n",
    "df['LIVE_CITY_NOT_WORK_CITY'] = df['LIVE_CITY_NOT_WORK_CITY'].apply(str)\n",
    "df['EXT_SOURCE_1'] = df['EXT_SOURCE_1'].apply(str)\n",
    "df['EXT_SOURCE_2'] = df['EXT_SOURCE_2'].apply(str)\n",
    "df['YEARS_BUILD_MEDI'] = df['YEARS_BUILD_MEDI'].apply(str)\n",
    "df['COMMONAREA_MEDI'] = df['COMMONAREA_MEDI'].apply(str)\n",
    "df['ELEVATORS_MEDI'] = df['ELEVATORS_MEDI'].apply(str)\n",
    "df['ENTRANCES_MEDI'] = df['ENTRANCES_MEDI'].apply(str)\n",
    "df['FLOORSMAX_MEDI'] = df['FLOORSMAX_MEDI'].apply(str)\n",
    "df['FLOORSMIN_MEDI'] = df['FLOORSMIN_MEDI'].apply(str)\n",
    "df['LANDAREA_MEDI'] = df['LANDAREA_MEDI'].apply(str)\n",
    "df['LIVINGAPARTMENTS_MEDI'] = df['LIVINGAPARTMENTS_MEDI'].apply(str)\n",
    "df['LIVINGAREA_MEDI'] = df['LIVINGAREA_MEDI'].apply(str)\n",
    "df['NONLIVINGAPARTMENTS_MEDI'] = df['NONLIVINGAPARTMENTS_MEDI'].apply(str)\n",
    "df['NONLIVINGAREA_MEDI'] = df['NONLIVINGAREA_MEDI'].apply(str)\n",
    "df['TOTALAREA_MODE'] = df['TOTALAREA_MODE'].apply(str)\n",
    "df['DAYS_LAST_PHONE_CHANGE'] = df['DAYS_LAST_PHONE_CHANGE'].apply(str)\n",
    "df['AMT_REQ_CREDIT_BUREAU_HOUR'] = df['AMT_REQ_CREDIT_BUREAU_HOUR'].apply(str)\n",
    "df['AMT_REQ_CREDIT_BUREAU_DAY'] = df['AMT_REQ_CREDIT_BUREAU_DAY'].apply(str)\n",
    "df['AMT_REQ_CREDIT_BUREAU_WEEK'] = df['AMT_REQ_CREDIT_BUREAU_WEEK'].apply(str)\n",
    "df['AMT_REQ_CREDIT_BUREAU_MON'] = df['AMT_REQ_CREDIT_BUREAU_MON'].apply(str)\n",
    "df['AMT_REQ_CREDIT_BUREAU_QRT'] = df['AMT_REQ_CREDIT_BUREAU_QRT'].apply(str)\n",
    "df['OBS_30_CNT_SOCIAL_CIRCLE'] = df['OBS_30_CNT_SOCIAL_CIRCLE'].apply(str)\n",
    "df['DEF_30_CNT_SOCIAL_CIRCLE'] = df['DEF_30_CNT_SOCIAL_CIRCLE'].apply(str)"
   ]
  },
  {
   "cell_type": "code",
   "execution_count": 10,
   "id": "d25b1f51",
   "metadata": {},
   "outputs": [],
   "source": [
    "df.fillna(0, inplace=True)"
   ]
  },
  {
   "cell_type": "code",
   "execution_count": 11,
   "id": "bc2e3e6f",
   "metadata": {},
   "outputs": [],
   "source": [
    "df_snowflake=session.createDataFrame(\n",
    "        df.values.tolist(),\n",
    "        schema=df.columns.tolist())\n",
    "df_snowflake.write.mode(\"overwrite\").save_as_table(\"FDC_DATA_MANISH.PUBLIC.CRA_APPLICATION_OUTPUT_DECISION_V1\")"
   ]
  },
  {
   "cell_type": "code",
   "execution_count": 12,
   "id": "32a6e1f2",
   "metadata": {},
   "outputs": [],
   "source": [
    "df =  pd.read_csv('/data/Lumin_Dump_CreditRiskAnalytics_v2.csv')"
   ]
  },
  {
   "cell_type": "code",
   "execution_count": 13,
   "id": "efd1c354",
   "metadata": {},
   "outputs": [],
   "source": [
    "df['APPL_MONTH'] = pd.to_datetime(df['APPL_MONTH'], format='ISO8601')"
   ]
  },
  {
   "cell_type": "code",
   "execution_count": 14,
   "id": "cf0f3dc9",
   "metadata": {},
   "outputs": [],
   "source": [
    "df['HOUSETYPE_MODE'].fillna('Missing', inplace=True)\n",
    "df['WALLSMATERIAL_MODE'].fillna('Missing', inplace=True)\n",
    "df['EMERGENCYSTATE_MODE'].fillna('Missing', inplace=True)\n",
    "df['OCCUPATION_TYPE'].fillna('Missing', inplace=True)\n",
    "df['FONDKAPREMONT_MODE'].fillna('Missing', inplace=True)\n",
    "df['NAME_TYPE_SUITE'].fillna('Missing', inplace=True)"
   ]
  },
  {
   "cell_type": "code",
   "execution_count": 15,
   "id": "c4ecfc4d",
   "metadata": {},
   "outputs": [],
   "source": [
    "df['RECORD_COUNT'] = df['RECORD_COUNT'].apply(str)\n",
    "df['APPL_MONTH'] = df['APPL_MONTH'].apply(str)\n",
    "df['SK_ID_CURR'] = df['SK_ID_CURR'].apply(str)\n",
    "df['TARGET'] = df['TARGET'].apply(str)\n",
    "df['FLAG_MOBIL'] = df['FLAG_MOBIL'].apply(str)\n",
    "df['FLAG_EMP_PHONE'] = df['FLAG_EMP_PHONE'].apply(str)\n",
    "df['FLAG_WORK_PHONE'] = df['FLAG_WORK_PHONE'].apply(str)\n",
    "df['FLAG_CONT_MOBILE'] = df['FLAG_CONT_MOBILE'].apply(str)\n",
    "df['FLAG_PHONE'] = df['FLAG_PHONE'].apply(str)\n",
    "df['FLAG_EMAIL'] = df['FLAG_EMAIL'].apply(str)\n",
    "df['REGION_RATING_CLIENT_W_CITY'] = df['REGION_RATING_CLIENT_W_CITY'].apply(str)\n",
    "df['HOUR_APPR_PROCESS_START'] = df['HOUR_APPR_PROCESS_START'].apply(str)\n",
    "df['REG_REGION_NOT_LIVE_REGION'] = df['REG_REGION_NOT_LIVE_REGION'].apply(str)\n",
    "df['REG_REGION_NOT_WORK_REGION'] = df['REG_REGION_NOT_WORK_REGION'].apply(str)\n",
    "df['LIVE_REGION_NOT_WORK_REGION'] = df['LIVE_REGION_NOT_WORK_REGION'].apply(str)\n",
    "df['REG_CITY_NOT_LIVE_CITY'] = df['REG_CITY_NOT_LIVE_CITY'].apply(str)\n",
    "df['REG_CITY_NOT_WORK_CITY'] = df['REG_CITY_NOT_WORK_CITY'].apply(str)\n",
    "df['LIVE_CITY_NOT_WORK_CITY'] = df['LIVE_CITY_NOT_WORK_CITY'].apply(str)\n",
    "df['EXT_SOURCE_1'] = df['EXT_SOURCE_1'].apply(str)\n",
    "df['EXT_SOURCE_2'] = df['EXT_SOURCE_2'].apply(str)\n",
    "df['YEARS_BUILD_MEDI'] = df['YEARS_BUILD_MEDI'].apply(str)\n",
    "df['COMMONAREA_MEDI'] = df['COMMONAREA_MEDI'].apply(str)\n",
    "df['ELEVATORS_MEDI'] = df['ELEVATORS_MEDI'].apply(str)\n",
    "df['ENTRANCES_MEDI'] = df['ENTRANCES_MEDI'].apply(str)\n",
    "df['FLOORSMAX_MEDI'] = df['FLOORSMAX_MEDI'].apply(str)\n",
    "df['FLOORSMIN_MEDI'] = df['FLOORSMIN_MEDI'].apply(str)\n",
    "df['LANDAREA_MEDI'] = df['LANDAREA_MEDI'].apply(str)\n",
    "df['LIVINGAPARTMENTS_MEDI'] = df['LIVINGAPARTMENTS_MEDI'].apply(str)\n",
    "df['LIVINGAREA_MEDI'] = df['LIVINGAREA_MEDI'].apply(str)\n",
    "df['NONLIVINGAPARTMENTS_MEDI'] = df['NONLIVINGAPARTMENTS_MEDI'].apply(str)\n",
    "df['NONLIVINGAREA_MEDI'] = df['NONLIVINGAREA_MEDI'].apply(str)\n",
    "df['TOTALAREA_MODE'] = df['TOTALAREA_MODE'].apply(str)\n",
    "df['DAYS_LAST_PHONE_CHANGE'] = df['DAYS_LAST_PHONE_CHANGE'].apply(str)\n",
    "df['AMT_REQ_CREDIT_BUREAU_HOUR'] = df['AMT_REQ_CREDIT_BUREAU_HOUR'].apply(str)\n",
    "df['AMT_REQ_CREDIT_BUREAU_DAY'] = df['AMT_REQ_CREDIT_BUREAU_DAY'].apply(str)\n",
    "df['AMT_REQ_CREDIT_BUREAU_WEEK'] = df['AMT_REQ_CREDIT_BUREAU_WEEK'].apply(str)\n",
    "df['AMT_REQ_CREDIT_BUREAU_MON'] = df['AMT_REQ_CREDIT_BUREAU_MON'].apply(str)\n",
    "df['AMT_REQ_CREDIT_BUREAU_QRT'] = df['AMT_REQ_CREDIT_BUREAU_QRT'].apply(str)\n",
    "df['OBS_30_CNT_SOCIAL_CIRCLE'] = df['OBS_30_CNT_SOCIAL_CIRCLE'].apply(str)\n",
    "df['DEF_30_CNT_SOCIAL_CIRCLE'] = df['DEF_30_CNT_SOCIAL_CIRCLE'].apply(str)"
   ]
  },
  {
   "cell_type": "code",
   "execution_count": 16,
   "id": "2a72b106",
   "metadata": {},
   "outputs": [],
   "source": [
    "df.fillna(0, inplace=True)"
   ]
  },
  {
   "cell_type": "code",
   "execution_count": 17,
   "id": "e1d0971f",
   "metadata": {},
   "outputs": [],
   "source": [
    "df_snowflake=session.createDataFrame(\n",
    "        df.values.tolist(),\n",
    "        schema=df.columns.tolist())\n",
    "df_snowflake.write.mode(\"overwrite\").save_as_table(\"FDC_DATA_MANISH.PUBLIC.CRA_APPLICATION_OUTPUT_DECISION_v2\")"
   ]
  },
  {
   "cell_type": "markdown",
   "id": "1c862cf4",
   "metadata": {},
   "source": [
    "## Once the tables are ready, please execute below query on snowflake to create APPLICATION_DATE as DATE\n",
    "\n",
    "ALTER TABLE FDC_DATA_MANISH.PUBLIC.CRA_APPLICATION_OUTPUT_DECISION_v1 ADD COLUMN APPLICATION_DATE DATE\n",
    "UPDATE FDC_DATA_MANISH.PUBLIC.CRA_APPLICATION_OUTPUT_DECISION_v1 SET APPLICATION_DATE = TRY_TO_DATE(APPL_MONTH, 'dd-mm-yyyy')\n",
    "\n",
    "ALTER TABLE FDC_DATA_MANISH.PUBLIC.CRA_APPLICATION_OUTPUT_DECISION_v2 ADD COLUMN APPLICATION_DATE DATE;\n",
    "UPDATE FDC_DATA_MANISH.PUBLIC.CRA_APPLICATION_OUTPUT_DECISION_v2 SET APPLICATION_DATE = TRY_TO_DATE(APPL_MONTH, 'dd-mm-yyyy');"
   ]
  }
 ],
 "metadata": {
  "kernelspec": {
   "display_name": "Python 3",
   "language": "python",
   "name": "python3"
  },
  "language_info": {
   "codemirror_mode": {
    "name": "ipython",
    "version": 3
   },
   "file_extension": ".py",
   "mimetype": "text/x-python",
   "name": "python",
   "nbconvert_exporter": "python",
   "pygments_lexer": "ipython3",
   "version": "3.8.18"
  }
 },
 "nbformat": 4,
 "nbformat_minor": 5
}
