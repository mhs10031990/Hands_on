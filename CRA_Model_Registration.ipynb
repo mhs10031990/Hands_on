{
 "cells": [
  {
   "cell_type": "code",
   "execution_count": 2,
   "id": "2b26659e",
   "metadata": {},
   "outputs": [
    {
     "name": "stdout",
     "output_type": "stream",
     "text": [
      "\u001b[33mWARNING: The directory '/home/mosaic-ai/.cache/pip/http' or its parent directory is not owned by the current user and the cache has been disabled. Please check the permissions and owner of that directory. If executing pip with sudo, you may want sudo's -H flag.\u001b[0m\n",
      "\u001b[33mWARNING: The directory '/home/mosaic-ai/.cache/pip' or its parent directory is not owned by the current user and caching wheels has been disabled. check the permissions and owner of that directory. If executing pip with sudo, you may want sudo's -H flag.\u001b[0m\n",
      "\u001b[33m  WARNING: Building wheel for shutils failed: [Errno 13] Permission denied: '/home/mosaic-ai/.cache/pip/wheels'\u001b[0m\n",
      "\u001b[31mERROR: snowflake-snowpark-python 1.0.0 has requirement snowflake-connector-python<3.0.0,>=2.7.12, but you'll have snowflake-connector-python 3.6.0 which is incompatible.\u001b[0m\n",
      "\u001b[31mERROR: snowflake-ml-python 1.0.1 has requirement packaging<24,>=20.9, but you'll have packaging 24.0 which is incompatible.\u001b[0m\n",
      "\u001b[31mERROR: snowflake-ml-python 1.0.1 has requirement pandas<2,>=1.0.0, but you'll have pandas 2.0.3 which is incompatible.\u001b[0m\n",
      "\u001b[31mERROR: snowflake-ml-python 1.0.1 has requirement snowflake-snowpark-python<2,>=1.4.0, but you'll have snowflake-snowpark-python 1.0.0 which is incompatible.\u001b[0m\n",
      "\u001b[31mERROR: mosaic-ai-client 1.0.0 has requirement matplotlib==3.1.1, but you'll have matplotlib 3.6.0 which is incompatible.\u001b[0m\n",
      "\u001b[31mERROR: jupyterlab-server 2.25.4 has requirement jsonschema>=4.18.0, but you'll have jsonschema 3.2.0 which is incompatible.\u001b[0m\n",
      "\u001b[33mWARNING: Target directory /tmp/pip_packages/cloudpickle already exists. Specify --upgrade to force replacement.\u001b[0m\n",
      "\u001b[33mWARNING: Target directory /tmp/pip_packages/cloudpickle-1.6.0.dist-info already exists. Specify --upgrade to force replacement.\u001b[0m\n",
      "\u001b[33mWARNING: Target directory /tmp/pip_packages/backports already exists. Specify --upgrade to force replacement.\u001b[0m\n",
      "\u001b[33mWARNING: Target directory /tmp/pip_packages/configparser-7.0.0.dist-info already exists. Specify --upgrade to force replacement.\u001b[0m\n",
      "\u001b[33mWARNING: Target directory /tmp/pip_packages/pymysql already exists. Specify --upgrade to force replacement.\u001b[0m\n",
      "\u001b[33mWARNING: Target directory /tmp/pip_packages/PyMySQL-1.1.0.dist-info already exists. Specify --upgrade to force replacement.\u001b[0m\n",
      "\u001b[33mWARNING: Target directory /tmp/pip_packages/shutils already exists. Specify --upgrade to force replacement.\u001b[0m\n",
      "\u001b[33mWARNING: Target directory /tmp/pip_packages/shutils-0.1.0-py3.8.egg-info already exists. Specify --upgrade to force replacement.\u001b[0m\n",
      "\u001b[33mWARNING: Target directory /tmp/pip_packages/urllib3 already exists. Specify --upgrade to force replacement.\u001b[0m\n",
      "\u001b[33mWARNING: Target directory /tmp/pip_packages/urllib3-1.26.15.dist-info already exists. Specify --upgrade to force replacement.\u001b[0m\n",
      "\u001b[33mWARNING: Target directory /tmp/pip_packages/PyYAML-6.0.dist-info already exists. Specify --upgrade to force replacement.\u001b[0m\n",
      "\u001b[33mWARNING: Target directory /tmp/pip_packages/_yaml already exists. Specify --upgrade to force replacement.\u001b[0m\n",
      "\u001b[33mWARNING: Target directory /tmp/pip_packages/yaml already exists. Specify --upgrade to force replacement.\u001b[0m\n",
      "\u001b[33mWARNING: Target directory /tmp/pip_packages/charset_normalizer already exists. Specify --upgrade to force replacement.\u001b[0m\n",
      "\u001b[33mWARNING: Target directory /tmp/pip_packages/charset_normalizer-3.3.2.dist-info already exists. Specify --upgrade to force replacement.\u001b[0m\n",
      "\u001b[33mWARNING: Target directory /tmp/pip_packages/certifi already exists. Specify --upgrade to force replacement.\u001b[0m\n",
      "\u001b[33mWARNING: Target directory /tmp/pip_packages/certifi-2024.2.2.dist-info already exists. Specify --upgrade to force replacement.\u001b[0m\n",
      "\u001b[33mWARNING: Target directory /tmp/pip_packages/idna already exists. Specify --upgrade to force replacement.\u001b[0m\n",
      "\u001b[33mWARNING: Target directory /tmp/pip_packages/idna-3.7.dist-info already exists. Specify --upgrade to force replacement.\u001b[0m\n",
      "\u001b[33mWARNING: Target directory /tmp/pip_packages/requests already exists. Specify --upgrade to force replacement.\u001b[0m\n",
      "\u001b[33mWARNING: Target directory /tmp/pip_packages/requests-2.31.0.dist-info already exists. Specify --upgrade to force replacement.\u001b[0m\n",
      "\u001b[33mWARNING: Target directory /tmp/pip_packages/requests_toolbelt already exists. Specify --upgrade to force replacement.\u001b[0m\n",
      "\u001b[33mWARNING: Target directory /tmp/pip_packages/requests_toolbelt-0.9.1.dist-info already exists. Specify --upgrade to force replacement.\u001b[0m\n",
      "\u001b[33mWARNING: Target directory /tmp/pip_packages/threadpoolctl.py already exists. Specify --upgrade to force replacement.\u001b[0m\n",
      "\u001b[33mWARNING: Target directory /tmp/pip_packages/threadpoolctl-3.5.0.dist-info already exists. Specify --upgrade to force replacement.\u001b[0m\n",
      "\u001b[33mWARNING: Target directory /tmp/pip_packages/__pycache__ already exists. Specify --upgrade to force replacement.\u001b[0m\n",
      "\u001b[33mWARNING: Target directory /tmp/pip_packages/joblib already exists. Specify --upgrade to force replacement.\u001b[0m\n",
      "\u001b[33mWARNING: Target directory /tmp/pip_packages/joblib-1.4.2.dist-info already exists. Specify --upgrade to force replacement.\u001b[0m\n",
      "\u001b[33mWARNING: Target directory /tmp/pip_packages/numpy.libs already exists. Specify --upgrade to force replacement.\u001b[0m\n",
      "\u001b[33mWARNING: Target directory /tmp/pip_packages/numpy-1.24.4.dist-info already exists. Specify --upgrade to force replacement.\u001b[0m\n",
      "\u001b[33mWARNING: Target directory /tmp/pip_packages/numpy already exists. Specify --upgrade to force replacement.\u001b[0m\n",
      "\u001b[33mWARNING: Target directory /tmp/pip_packages/scipy already exists. Specify --upgrade to force replacement.\u001b[0m\n",
      "\u001b[33mWARNING: Target directory /tmp/pip_packages/scipy.libs already exists. Specify --upgrade to force replacement.\u001b[0m\n",
      "\u001b[33mWARNING: Target directory /tmp/pip_packages/scipy-1.10.1.dist-info already exists. Specify --upgrade to force replacement.\u001b[0m\n",
      "\u001b[33mWARNING: Target directory /tmp/pip_packages/sklearn already exists. Specify --upgrade to force replacement.\u001b[0m\n",
      "\u001b[33mWARNING: Target directory /tmp/pip_packages/scikit_learn.libs already exists. Specify --upgrade to force replacement.\u001b[0m\n",
      "\u001b[33mWARNING: Target directory /tmp/pip_packages/scikit_learn-1.2.1.dist-info already exists. Specify --upgrade to force replacement.\u001b[0m\n",
      "\u001b[33mWARNING: Target directory /tmp/pip_packages/mosaic_utils already exists. Specify --upgrade to force replacement.\u001b[0m\n",
      "\u001b[33mWARNING: Target directory /tmp/pip_packages/mosaic_utils-1.0.2.dist-info already exists. Specify --upgrade to force replacement.\u001b[0m\n",
      "\u001b[33mWARNING: Target directory /tmp/pip_packages/refractml already exists. Specify --upgrade to force replacement.\u001b[0m\n",
      "\u001b[33mWARNING: Target directory /tmp/pip_packages/tests already exists. Specify --upgrade to force replacement.\u001b[0m\n",
      "\u001b[33mWARNING: Target directory /tmp/pip_packages/refractml-1.0.4.dist-info already exists. Specify --upgrade to force replacement.\u001b[0m\n",
      "\u001b[33mWARNING: Target directory /tmp/pip_packages/bin already exists. Specify --upgrade to force replacement.\u001b[0m\n",
      "\u001b[33mWARNING: You are using pip version 19.3.1; however, version 24.0 is available.\n",
      "You should consider upgrading via the 'pip install --upgrade pip' command.\u001b[0m\n"
     ]
    }
   ],
   "source": [
    "!pip install --q refractml"
   ]
  },
  {
   "cell_type": "code",
   "execution_count": 3,
   "id": "1afd8123",
   "metadata": {},
   "outputs": [
    {
     "name": "stdout",
     "output_type": "stream",
     "text": [
      "\u001b[33mWARNING: The directory '/home/mosaic-ai/.cache/pip/http' or its parent directory is not owned by the current user and the cache has been disabled. Please check the permissions and owner of that directory. If executing pip with sudo, you may want sudo's -H flag.\u001b[0m\n",
      "\u001b[33mWARNING: The directory '/home/mosaic-ai/.cache/pip' or its parent directory is not owned by the current user and caching wheels has been disabled. check the permissions and owner of that directory. If executing pip with sudo, you may want sudo's -H flag.\u001b[0m\n",
      "\u001b[31mERROR: snowflake-ml-python 1.0.1 has requirement packaging<24,>=20.9, but you'll have packaging 24.0 which is incompatible.\u001b[0m\n",
      "\u001b[31mERROR: snowflake-ml-python 1.0.1 has requirement pandas<2,>=1.0.0, but you'll have pandas 2.0.3 which is incompatible.\u001b[0m\n",
      "\u001b[31mERROR: snowflake-ml-python 1.0.1 has requirement snowflake-snowpark-python<2,>=1.4.0, but you'll have snowflake-snowpark-python 1.0.0 which is incompatible.\u001b[0m\n",
      "\u001b[31mERROR: snowflake-ml-python 1.0.1 has requirement xgboost<2,>=1.7.3, but you'll have xgboost 2.0.3 which is incompatible.\u001b[0m\n",
      "\u001b[33mWARNING: Target directory /tmp/pip_packages/numpy.libs already exists. Specify --upgrade to force replacement.\u001b[0m\n",
      "\u001b[33mWARNING: Target directory /tmp/pip_packages/numpy-1.24.4.dist-info already exists. Specify --upgrade to force replacement.\u001b[0m\n",
      "\u001b[33mWARNING: Target directory /tmp/pip_packages/numpy already exists. Specify --upgrade to force replacement.\u001b[0m\n",
      "\u001b[33mWARNING: Target directory /tmp/pip_packages/scipy already exists. Specify --upgrade to force replacement.\u001b[0m\n",
      "\u001b[33mWARNING: Target directory /tmp/pip_packages/scipy.libs already exists. Specify --upgrade to force replacement.\u001b[0m\n",
      "\u001b[33mWARNING: Target directory /tmp/pip_packages/scipy-1.10.1.dist-info already exists. Specify --upgrade to force replacement.\u001b[0m\n",
      "\u001b[33mWARNING: Target directory /tmp/pip_packages/bin already exists. Specify --upgrade to force replacement.\u001b[0m\n",
      "\u001b[33mWARNING: You are using pip version 19.3.1; however, version 24.0 is available.\n",
      "You should consider upgrading via the 'pip install --upgrade pip' command.\u001b[0m\n"
     ]
    }
   ],
   "source": [
    "!pip install --q xgboost"
   ]
  },
  {
   "cell_type": "code",
   "execution_count": 4,
   "id": "08b4f5f8",
   "metadata": {},
   "outputs": [
    {
     "name": "stdout",
     "output_type": "stream",
     "text": [
      "\u001b[33mWARNING: The directory '/home/mosaic-ai/.cache/pip/http' or its parent directory is not owned by the current user and the cache has been disabled. Please check the permissions and owner of that directory. If executing pip with sudo, you may want sudo's -H flag.\u001b[0m\n",
      "\u001b[33mWARNING: The directory '/home/mosaic-ai/.cache/pip' or its parent directory is not owned by the current user and caching wheels has been disabled. check the permissions and owner of that directory. If executing pip with sudo, you may want sudo's -H flag.\u001b[0m\n",
      "\u001b[31mERROR: snowflake-ml-python 1.0.1 has requirement packaging<24,>=20.9, but you'll have packaging 24.0 which is incompatible.\u001b[0m\n",
      "\u001b[31mERROR: snowflake-ml-python 1.0.1 has requirement pandas<2,>=1.0.0, but you'll have pandas 2.0.3 which is incompatible.\u001b[0m\n",
      "\u001b[31mERROR: snowflake-ml-python 1.0.1 has requirement snowflake-snowpark-python<2,>=1.4.0, but you'll have snowflake-snowpark-python 1.0.0 which is incompatible.\u001b[0m\n",
      "\u001b[31mERROR: snowflake-ml-python 1.0.1 has requirement xgboost<2,>=1.7.3, but you'll have xgboost 2.0.3 which is incompatible.\u001b[0m\n",
      "\u001b[31mERROR: openapi-spec-validator 0.7.1 has requirement jsonschema<5.0.0,>=4.18.0, but you'll have jsonschema 3.2.0 which is incompatible.\u001b[0m\n",
      "\u001b[31mERROR: openapi-schema-validator 0.6.2 has requirement jsonschema<5.0.0,>=4.19.1, but you'll have jsonschema 3.2.0 which is incompatible.\u001b[0m\n",
      "\u001b[31mERROR: mosaic-ai-serving 1.0.0 has requirement Flask==2.1.1; python_version >= \"3.7\", but you'll have flask 2.2.5 which is incompatible.\u001b[0m\n",
      "\u001b[31mERROR: mosaic-ai-serving 1.0.0 has requirement matplotlib==3.6.0; python_version >= \"3.8\", but you'll have matplotlib 3.7.5 which is incompatible.\u001b[0m\n",
      "\u001b[31mERROR: mosaic-ai-client 1.0.0 has requirement matplotlib==3.1.1, but you'll have matplotlib 3.7.5 which is incompatible.\u001b[0m\n",
      "\u001b[31mERROR: jupyterlab 3.2.4 has requirement jupyter-server~=1.4, but you'll have jupyter-server 2.0.0a1 which is incompatible.\u001b[0m\n",
      "\u001b[31mERROR: jupyterlab-server 2.25.4 has requirement jsonschema>=4.18.0, but you'll have jsonschema 3.2.0 which is incompatible.\u001b[0m\n",
      "\u001b[33mWARNING: Target directory /tmp/pip_packages/numpy.libs already exists. Specify --upgrade to force replacement.\u001b[0m\n",
      "\u001b[33mWARNING: Target directory /tmp/pip_packages/numpy-1.24.4.dist-info already exists. Specify --upgrade to force replacement.\u001b[0m\n",
      "\u001b[33mWARNING: Target directory /tmp/pip_packages/numpy already exists. Specify --upgrade to force replacement.\u001b[0m\n",
      "\u001b[33mWARNING: Target directory /tmp/pip_packages/__pycache__ already exists. Specify --upgrade to force replacement.\u001b[0m\n",
      "\u001b[33mWARNING: Target directory /tmp/pip_packages/scipy already exists. Specify --upgrade to force replacement.\u001b[0m\n",
      "\u001b[33mWARNING: Target directory /tmp/pip_packages/scipy.libs already exists. Specify --upgrade to force replacement.\u001b[0m\n",
      "\u001b[33mWARNING: Target directory /tmp/pip_packages/scipy-1.10.1.dist-info already exists. Specify --upgrade to force replacement.\u001b[0m\n",
      "\u001b[33mWARNING: Target directory /tmp/pip_packages/bin already exists. Specify --upgrade to force replacement.\u001b[0m\n",
      "\u001b[33mWARNING: You are using pip version 19.3.1; however, version 24.0 is available.\n",
      "You should consider upgrading via the 'pip install --upgrade pip' command.\u001b[0m\n"
     ]
    }
   ],
   "source": [
    "!pip install --q catboost"
   ]
  },
  {
   "cell_type": "code",
   "execution_count": 1,
   "id": "d8bd62d3",
   "metadata": {},
   "outputs": [],
   "source": [
    "from snowflake.snowpark import Session\n",
    "import configparser"
   ]
  },
  {
   "cell_type": "code",
   "execution_count": 2,
   "id": "32837b36",
   "metadata": {},
   "outputs": [],
   "source": [
    "import pandas as pd\n",
    "import numpy as np\n",
    "from scipy.stats import skew\n",
    "import xgboost as xgb\n",
    "from sklearn.model_selection import KFold\n",
    "from sklearn.ensemble import ExtraTreesClassifier\n",
    "from sklearn.ensemble import RandomForestClassifier\n",
    "from sklearn.metrics import mean_squared_error, recall_score, precision_score, f1_score, roc_auc_score, confusion_matrix\n",
    "from sklearn.linear_model import LogisticRegression\n",
    "from math import sqrt\n",
    "from sklearn.metrics import roc_auc_score\n",
    "from sklearn.model_selection import KFold\n",
    "from catboost import CatBoostClassifier\n",
    "import gc"
   ]
  },
  {
   "cell_type": "code",
   "execution_count": 3,
   "id": "1efa78b0",
   "metadata": {},
   "outputs": [
    {
     "name": "stderr",
     "output_type": "stream",
     "text": [
      "/opt/conda/lib/python3.8/site-packages/_distutils_hack/__init__.py:33: UserWarning: Setuptools is replacing distutils.\n",
      "  warnings.warn(\"Setuptools is replacing distutils.\")\n"
     ]
    }
   ],
   "source": [
    "from refractml import *\n",
    "from refractml.constants import MLModelFlavours\n",
    "import requests"
   ]
  },
  {
   "cell_type": "code",
   "execution_count": 4,
   "id": "b8078d4c",
   "metadata": {},
   "outputs": [],
   "source": [
    "NFOLDS = 3\n",
    "SEED = 0\n",
    "NROWS = None"
   ]
  },
  {
   "cell_type": "markdown",
   "id": "d22ce04b",
   "metadata": {},
   "source": [
    "# Code to establish connection and read data from Snowflake"
   ]
  },
  {
   "cell_type": "code",
   "execution_count": 5,
   "id": "c256fe2a",
   "metadata": {},
   "outputs": [
    {
     "data": {
      "text/plain": [
       "['snowflake_connection.ini']"
      ]
     },
     "execution_count": 5,
     "metadata": {},
     "output_type": "execute_result"
    }
   ],
   "source": [
    "config = configparser.ConfigParser()\n",
    "config.read(\"snowflake_connection.ini\")"
   ]
  },
  {
   "cell_type": "code",
   "execution_count": 6,
   "id": "4864e1cb",
   "metadata": {},
   "outputs": [],
   "source": [
    "connection_parameters = {\n",
    "    \"user\": f'{config[\"Snowflake\"][\"user\"]}',\n",
    "    \"password\": f'{config[\"Snowflake\"][\"password\"]}',\n",
    "    #\"password\": os.getenv('snowflake_password'),\n",
    "    \"account\": f'{config[\"Snowflake\"][\"account\"]}',\n",
    "    #\"account\": os.getenv('snowflake_account'),\n",
    "    \"WAREHOUSE\": f'{config[\"Snowflake\"][\"WAREHOUSE\"]}',\n",
    "    \"DATABASE\": f'{config[\"Snowflake\"][\"DATABASE\"]}',\n",
    "    \"SCHEMA\": f'{config[\"Snowflake\"][\"SCHEMA\"]}'\n",
    "}"
   ]
  },
  {
   "cell_type": "code",
   "execution_count": 7,
   "id": "94d0200d",
   "metadata": {},
   "outputs": [
    {
     "name": "stdout",
     "output_type": "stream",
     "text": [
      "connection successful!\n"
     ]
    }
   ],
   "source": [
    "def snowflake_connector(conn):\n",
    "    try:\n",
    "        session = Session.builder.configs(conn).create()\n",
    "        print(\"connection successful!\")\n",
    "    except:\n",
    "        raise ValueError(\"error while connecting with db\")\n",
    "    return session\n",
    "\n",
    "session = snowflake_connector(connection_parameters)"
   ]
  },
  {
   "cell_type": "code",
   "execution_count": 8,
   "id": "8ebc2b66",
   "metadata": {},
   "outputs": [],
   "source": [
    "application_train_sf  = session.table(\"CRA_APPLICATION_TRAIN_DETAILS\")\n",
    "application_test_sf  = session.table(\"CRA_APPLICATION_TEST_DETAILS\")\n",
    "previous_application_sf  = session.table(\"CRA_PREVIOUS_APPLICATION_DETAILS\")"
   ]
  },
  {
   "cell_type": "markdown",
   "id": "bd0b4b30",
   "metadata": {},
   "source": [
    "# Convert Snowflake data into Pandas dataframes"
   ]
  },
  {
   "cell_type": "code",
   "execution_count": 9,
   "id": "8b65c096",
   "metadata": {},
   "outputs": [],
   "source": [
    "data = application_train_sf.to_pandas()\n",
    "test = application_test_sf.to_pandas()\n",
    "prev = previous_application_sf.to_pandas()"
   ]
  },
  {
   "cell_type": "code",
   "execution_count": 10,
   "id": "07ded794",
   "metadata": {},
   "outputs": [],
   "source": [
    "data.drop(['CREATED_BY','CREATED_AT'], axis=1, inplace=True)\n",
    "test.drop(['CREATED_BY','CREATED_AT'], axis=1, inplace=True)\n",
    "prev.drop(['CREATED_BY','CREATED_AT'], axis=1, inplace=True)"
   ]
  },
  {
   "cell_type": "code",
   "execution_count": 11,
   "id": "8f1a2832",
   "metadata": {
    "scrolled": true
   },
   "outputs": [],
   "source": [
    "categorical_feats = [\n",
    "    f for f in data.columns if data[f].dtype == 'object'\n",
    "]"
   ]
  },
  {
   "cell_type": "code",
   "execution_count": 12,
   "id": "a9f1651c",
   "metadata": {},
   "outputs": [],
   "source": [
    "for f_ in categorical_feats:\n",
    "    data[f_], indexer = pd.factorize(data[f_])\n",
    "    test[f_] = indexer.get_indexer(test[f_])"
   ]
  },
  {
   "cell_type": "code",
   "execution_count": 13,
   "id": "d7d8cf18",
   "metadata": {},
   "outputs": [],
   "source": [
    "gc.enable()\n",
    "\n",
    "y_train = data['TARGET']\n",
    "del data['TARGET']"
   ]
  },
  {
   "cell_type": "code",
   "execution_count": 14,
   "id": "a77babae",
   "metadata": {},
   "outputs": [],
   "source": [
    "prev_cat_features = [\n",
    "    f_ for f_ in prev.columns if prev[f_].dtype == 'object'\n",
    "]\n",
    "for f_ in prev_cat_features:\n",
    "    prev[f_], _ = pd.factorize(prev[f_])"
   ]
  },
  {
   "cell_type": "code",
   "execution_count": 15,
   "id": "8f752203",
   "metadata": {},
   "outputs": [],
   "source": [
    "avg_prev = prev.groupby('SK_ID_CURR').mean()\n",
    "cnt_prev = prev[['SK_ID_CURR', 'SK_ID_PREV']].groupby('SK_ID_CURR').count()\n",
    "avg_prev['nb_app'] = cnt_prev['SK_ID_PREV']\n",
    "del avg_prev['SK_ID_PREV']"
   ]
  },
  {
   "cell_type": "code",
   "execution_count": 16,
   "id": "87527ee2",
   "metadata": {},
   "outputs": [],
   "source": [
    "x_train = data.merge(right=avg_prev.reset_index(), how='left', on='SK_ID_CURR')\n",
    "x_test = test.merge(right=avg_prev.reset_index(), how='left', on='SK_ID_CURR')\n",
    "\n",
    "x_train = x_train.fillna(0)\n",
    "x_test= x_test.fillna(0)\n",
    "\n",
    "ntrain = x_train.shape[0]\n",
    "ntest = x_test.shape[0]"
   ]
  },
  {
   "cell_type": "code",
   "execution_count": 17,
   "id": "93e01200",
   "metadata": {},
   "outputs": [],
   "source": [
    "excluded_feats = ['SK_ID_CURR']\n",
    "features = [f_ for f_ in x_train.columns if f_ not in excluded_feats]"
   ]
  },
  {
   "cell_type": "code",
   "execution_count": 18,
   "id": "3d847db3",
   "metadata": {},
   "outputs": [],
   "source": [
    "x_train = x_train[features]\n",
    "x_test = x_test[features]\n",
    "\n",
    "kf = KFold(n_splits = NFOLDS, shuffle=True, random_state=SEED)"
   ]
  },
  {
   "cell_type": "code",
   "execution_count": 33,
   "id": "9ab19ee5",
   "metadata": {},
   "outputs": [],
   "source": [
    "class SklearnWrapper(object):\n",
    "    def __init__(self, clf, seed=0, params=None):\n",
    "        params['random_state'] = seed\n",
    "        self.clf = clf(**params)\n",
    "\n",
    "    def train(self, x_train, y_train):\n",
    "        self.clf.fit(x_train, y_train)\n",
    "\n",
    "    def predict(self, x):\n",
    "        return self.clf.predict(x)\n",
    "\n",
    "    def predict_proba(self, x):\n",
    "        return self.clf.predict_proba(x)[:,1]"
   ]
  },
  {
   "cell_type": "code",
   "execution_count": 34,
   "id": "3a44758c",
   "metadata": {},
   "outputs": [],
   "source": [
    "class CatboostWrapper(object):\n",
    "    def __init__(self, clf, seed=0, params=None):\n",
    "        params['random_seed'] = seed\n",
    "        self.clf = clf(**params)\n",
    "\n",
    "    def train(self, x_train, y_train):\n",
    "        self.clf.fit(x_train, y_train)\n",
    "\n",
    "    def predict(self, x):\n",
    "        return self.clf.predict(x)\n",
    "    \n",
    "    def predict_proba(self, x):\n",
    "        return self.clf.predict_proba(x)[:,1]"
   ]
  },
  {
   "cell_type": "code",
   "execution_count": 35,
   "id": "6a3a5d8b",
   "metadata": {},
   "outputs": [],
   "source": [
    "class XgbWrapper(object):\n",
    "    def __init__(self, seed=0, params=None):\n",
    "        self.param = params\n",
    "        self.param['seed'] = seed\n",
    "        self.nrounds = params.pop('nrounds', 250)\n",
    "\n",
    "    def train(self, x_train, y_train):\n",
    "        dtrain = xgb.DMatrix(x_train, label=y_train)\n",
    "        self.gbdt = xgb.train(self.param, dtrain, self.nrounds)\n",
    "\n",
    "    def predict(self, x):\n",
    "        return self.gbdt.predict(xgb.DMatrix(x))\n",
    "    \n",
    "    def predict_proba(self, x):\n",
    "        return self.gbdt.predict_proba(xgb.DMatrix(x))[:,1]"
   ]
  },
  {
   "cell_type": "code",
   "execution_count": 22,
   "id": "604c71ce",
   "metadata": {},
   "outputs": [],
   "source": [
    "def get_oof(clf):\n",
    "    oof_train = np.zeros((ntrain,))\n",
    "    oof_test = np.zeros((ntest,))\n",
    "    oof_test_skf = np.empty((NFOLDS, ntest))\n",
    "\n",
    "    for i, (train_index, test_index) in enumerate(kf.split(x_train)):\n",
    "        x_tr = x_train.loc[train_index]\n",
    "        y_tr = y_train.loc[train_index]\n",
    "        x_te = x_train.loc[test_index]\n",
    "\n",
    "        clf.train(x_tr, y_tr)\n",
    "\n",
    "        oof_train[test_index] = clf.predict(x_te)\n",
    "        oof_test_skf[i, :] = clf.predict(x_test)\n",
    "\n",
    "    oof_test[:] = oof_test_skf.mean(axis=0)\n",
    "    return oof_train.reshape(-1, 1), oof_test.reshape(-1, 1)"
   ]
  },
  {
   "cell_type": "code",
   "execution_count": 78,
   "id": "ff5f6e63",
   "metadata": {},
   "outputs": [],
   "source": [
    "et_params = {\n",
    "    'n_jobs': 16,\n",
    "    'n_estimators': 200,\n",
    "    'max_features': 0.5,\n",
    "    'max_depth': 12,\n",
    "    'min_samples_leaf': 2,\n",
    "    'random_state':0\n",
    "}"
   ]
  },
  {
   "cell_type": "code",
   "execution_count": 79,
   "id": "9ee53240",
   "metadata": {},
   "outputs": [],
   "source": [
    "rf_params = {\n",
    "    'n_jobs': 16,\n",
    "    'n_estimators': 200,\n",
    "    'max_features': 0.2,\n",
    "    'max_depth': 12,\n",
    "    'min_samples_leaf': 2,\n",
    "    'random_state':0\n",
    "}"
   ]
  },
  {
   "cell_type": "code",
   "execution_count": 80,
   "id": "78415a71",
   "metadata": {},
   "outputs": [],
   "source": [
    "xgb_params = {\n",
    "    'seed': 0,\n",
    "    'colsample_bytree': 0.7,\n",
    "    'silent': 1,\n",
    "    'subsample': 0.7,\n",
    "    'learning_rate': 0.075,\n",
    "    'objective': 'binary:logistic',\n",
    "    'max_depth': 4,\n",
    "    'num_parallel_tree': 1,\n",
    "    'min_child_weight': 1,\n",
    "    'nrounds': 200\n",
    "}"
   ]
  },
  {
   "cell_type": "code",
   "execution_count": 81,
   "id": "14272538",
   "metadata": {},
   "outputs": [],
   "source": [
    "catboost_params = {\n",
    "    'iterations': 200,\n",
    "    'learning_rate': 0.5,\n",
    "    'depth': 3,\n",
    "    'l2_leaf_reg': 40,\n",
    "    'bootstrap_type': 'Bernoulli',\n",
    "    'subsample': 0.7,\n",
    "    'scale_pos_weight': 5,\n",
    "    'eval_metric': 'AUC',\n",
    "    'od_type': 'Iter',\n",
    "    'allow_writing_files': False,\n",
    "    'random_seed':0\n",
    "}"
   ]
  },
  {
   "cell_type": "code",
   "execution_count": 27,
   "id": "cb755482",
   "metadata": {},
   "outputs": [],
   "source": [
    "#xg = XgbWrapper(seed=SEED, params=xgb_params)\n",
    "#et = SklearnWrapper(clf=ExtraTreesClassifier, seed=SEED, params=et_params)\n",
    "#rf = SklearnWrapper(clf=RandomForestClassifier, seed=SEED, params=rf_params)\n",
    "#cb = CatboostWrapper(clf= CatBoostClassifier, seed = SEED, params=catboost_params)"
   ]
  },
  {
   "cell_type": "markdown",
   "id": "35afc22b",
   "metadata": {},
   "source": [
    "# XGBoost Classifier"
   ]
  },
  {
   "cell_type": "code",
   "execution_count": 61,
   "id": "093fa990",
   "metadata": {
    "scrolled": false
   },
   "outputs": [],
   "source": [
    "#xg_oof_train, xg_oof_test = get_oof(xg)"
   ]
  },
  {
   "cell_type": "code",
   "execution_count": 62,
   "id": "3f8696e6",
   "metadata": {},
   "outputs": [
    {
     "name": "stderr",
     "output_type": "stream",
     "text": [
      "/tmp/pip_packages/xgboost/core.py:160: UserWarning: [09:48:08] WARNING: /workspace/src/learner.cc:742: \n",
      "Parameters: { \"silent\" } are not used.\n",
      "\n",
      "  warnings.warn(smsg, UserWarning)\n"
     ]
    }
   ],
   "source": [
    "param = xgb_params\n",
    "param['seed'] = 0\n",
    "nrounds = 250\n",
    "\n",
    "dtrain = xgb.DMatrix(x_train, label=y_train)\n",
    "gbdt = xgb.train(param, dtrain, nrounds)"
   ]
  },
  {
   "cell_type": "code",
   "execution_count": null,
   "id": "2295e4d0",
   "metadata": {},
   "outputs": [],
   "source": [
    "#y_prob = gbdt.predict(xgb.DMatrix(x))\n",
    "#y_pred = np.round(y_prob)"
   ]
  },
  {
   "cell_type": "code",
   "execution_count": 64,
   "id": "aa56e81d",
   "metadata": {},
   "outputs": [],
   "source": [
    "y_prob = gbdt.predict(xgb.DMatrix(x_train))"
   ]
  },
  {
   "cell_type": "code",
   "execution_count": 65,
   "id": "fdd3e9f6",
   "metadata": {},
   "outputs": [],
   "source": [
    "y_pred = np.round(y_prob)"
   ]
  },
  {
   "cell_type": "code",
   "execution_count": 66,
   "id": "f6d8376e",
   "metadata": {},
   "outputs": [
    {
     "data": {
      "text/plain": [
       "array([0.0574903 , 0.0402197 , 0.08202588, ..., 0.07238798, 0.04120503,\n",
       "       0.116495  ], dtype=float32)"
      ]
     },
     "execution_count": 66,
     "metadata": {},
     "output_type": "execute_result"
    }
   ],
   "source": [
    "y_prob"
   ]
  },
  {
   "cell_type": "code",
   "execution_count": 67,
   "id": "db387bcd",
   "metadata": {},
   "outputs": [
    {
     "data": {
      "text/plain": [
       "array([0., 0., 0., ..., 0., 0., 0.], dtype=float32)"
      ]
     },
     "execution_count": 67,
     "metadata": {},
     "output_type": "execute_result"
    }
   ],
   "source": [
    "y_pred"
   ]
  },
  {
   "cell_type": "code",
   "execution_count": 75,
   "id": "c152d938",
   "metadata": {},
   "outputs": [],
   "source": [
    "@scoring_func\n",
    "def score(model, request):\n",
    "    payload_dict = request.json[\"payload\"]\n",
    "    data = pd.DataFrame(payload_dict,index=[0])\n",
    "    y_pred = model.predict(xgb.DMatrix(data))\n",
    "    #y_prob = model.predict_proba(xgb.DMatrix(data))[:,1]\n",
    "    temp_dict = {\"Prediction: \": np.round(y_pred), \"Probability: \": y_pred }\n",
    "    return temp_dict"
   ]
  },
  {
   "cell_type": "code",
   "execution_count": 69,
   "id": "58ec086d",
   "metadata": {
    "scrolled": false
   },
   "outputs": [
    {
     "data": {
      "text/plain": [
       "{'NAME_CONTRACT_TYPE_x': 0.0,\n",
       " 'CODE_GENDER': 0.0,\n",
       " 'FLAG_OWN_CAR': 0.0,\n",
       " 'FLAG_OWN_REALTY': 0.0,\n",
       " 'CNT_CHILDREN': 1.0,\n",
       " 'AMT_INCOME_TOTAL': 270000.0,\n",
       " 'AMT_CREDIT_x': 1288350.0,\n",
       " 'AMT_ANNUITY_x': 37669.5,\n",
       " 'AMT_GOODS_PRICE_x': 1125000.0,\n",
       " 'NAME_TYPE_SUITE_x': 0.0,\n",
       " 'NAME_INCOME_TYPE': 0.0,\n",
       " 'NAME_EDUCATION_TYPE': 0.0,\n",
       " 'NAME_FAMILY_STATUS': 0.0,\n",
       " 'NAME_HOUSING_TYPE': 0.0,\n",
       " 'REGION_POPULATION_RELATIVE': 0.02461,\n",
       " 'DAYS_BIRTH': -13625.0,\n",
       " 'DAYS_EMPLOYED': -1725.0,\n",
       " 'DAYS_REGISTRATION': -3376.0,\n",
       " 'DAYS_ID_PUBLISH': -5593.0,\n",
       " 'OWN_CAR_AGE': 0.0,\n",
       " 'FLAG_MOBIL': 1.0,\n",
       " 'FLAG_EMP_PHONE': 1.0,\n",
       " 'FLAG_WORK_PHONE': 1.0,\n",
       " 'FLAG_CONT_MOBILE': 1.0,\n",
       " 'FLAG_PHONE': 0.0,\n",
       " 'FLAG_EMAIL': 0.0,\n",
       " 'OCCUPATION_TYPE': 0.0,\n",
       " 'CNT_FAM_MEMBERS': 3.0,\n",
       " 'REGION_RATING_CLIENT': 2.0,\n",
       " 'REGION_RATING_CLIENT_W_CITY': 2.0,\n",
       " 'WEEKDAY_APPR_PROCESS_START_x': 0.0,\n",
       " 'HOUR_APPR_PROCESS_START_x': 14.0,\n",
       " 'REG_REGION_NOT_LIVE_REGION': 0.0,\n",
       " 'REG_REGION_NOT_WORK_REGION': 0.0,\n",
       " 'LIVE_REGION_NOT_WORK_REGION': 0.0,\n",
       " 'REG_CITY_NOT_LIVE_CITY': 0.0,\n",
       " 'REG_CITY_NOT_WORK_CITY': 0.0,\n",
       " 'LIVE_CITY_NOT_WORK_CITY': 0.0,\n",
       " 'ORGANIZATION_TYPE': 0.0,\n",
       " 'EXT_SOURCE_1': 0.0,\n",
       " 'EXT_SOURCE_2': 0.6451581998707777,\n",
       " 'EXT_SOURCE_3': 0.4561097392782771,\n",
       " 'APARTMENTS_AVG': 0.0,\n",
       " 'BASEMENTAREA_AVG': 0.0,\n",
       " 'YEARS_BEGINEXPLUATATION_AVG': 0.0,\n",
       " 'YEARS_BUILD_AVG': 0.0,\n",
       " 'COMMONAREA_AVG': 0.0,\n",
       " 'ELEVATORS_AVG': 0.0,\n",
       " 'ENTRANCES_AVG': 0.0,\n",
       " 'FLOORSMAX_AVG': 0.0,\n",
       " 'FLOORSMIN_AVG': 0.0,\n",
       " 'LANDAREA_AVG': 0.0,\n",
       " 'LIVINGAPARTMENTS_AVG': 0.0,\n",
       " 'LIVINGAREA_AVG': 0.0,\n",
       " 'NONLIVINGAPARTMENTS_AVG': 0.0,\n",
       " 'NONLIVINGAREA_AVG': 0.0,\n",
       " 'APARTMENTS_MODE': 0.0,\n",
       " 'BASEMENTAREA_MODE': 0.0,\n",
       " 'YEARS_BEGINEXPLUATATION_MODE': 0.0,\n",
       " 'YEARS_BUILD_MODE': 0.0,\n",
       " 'COMMONAREA_MODE': 0.0,\n",
       " 'ELEVATORS_MODE': 0.0,\n",
       " 'ENTRANCES_MODE': 0.0,\n",
       " 'FLOORSMAX_MODE': 0.0,\n",
       " 'FLOORSMIN_MODE': 0.0,\n",
       " 'LANDAREA_MODE': 0.0,\n",
       " 'LIVINGAPARTMENTS_MODE': 0.0,\n",
       " 'LIVINGAREA_MODE': 0.0,\n",
       " 'NONLIVINGAPARTMENTS_MODE': 0.0,\n",
       " 'NONLIVINGAREA_MODE': 0.0,\n",
       " 'APARTMENTS_MEDI': 0.0,\n",
       " 'BASEMENTAREA_MEDI': 0.0,\n",
       " 'YEARS_BEGINEXPLUATATION_MEDI': 0.0,\n",
       " 'YEARS_BUILD_MEDI': 0.0,\n",
       " 'COMMONAREA_MEDI': 0.0,\n",
       " 'ELEVATORS_MEDI': 0.0,\n",
       " 'ENTRANCES_MEDI': 0.0,\n",
       " 'FLOORSMAX_MEDI': 0.0,\n",
       " 'FLOORSMIN_MEDI': 0.0,\n",
       " 'LANDAREA_MEDI': 0.0,\n",
       " 'LIVINGAPARTMENTS_MEDI': 0.0,\n",
       " 'LIVINGAREA_MEDI': 0.0,\n",
       " 'NONLIVINGAPARTMENTS_MEDI': 0.0,\n",
       " 'NONLIVINGAREA_MEDI': 0.0,\n",
       " 'FONDKAPREMONT_MODE': 0.0,\n",
       " 'HOUSETYPE_MODE': 0.0,\n",
       " 'TOTALAREA_MODE': 0.0,\n",
       " 'WALLSMATERIAL_MODE': 0.0,\n",
       " 'EMERGENCYSTATE_MODE': 0.0,\n",
       " 'OBS_30_CNT_SOCIAL_CIRCLE': 2.0,\n",
       " 'DEF_30_CNT_SOCIAL_CIRCLE': 0.0,\n",
       " 'OBS_60_CNT_SOCIAL_CIRCLE': 2.0,\n",
       " 'DEF_60_CNT_SOCIAL_CIRCLE': 0.0,\n",
       " 'DAYS_LAST_PHONE_CHANGE': -1424.0,\n",
       " 'FLAG_DOCUMENT_2': 0.0,\n",
       " 'FLAG_DOCUMENT_3': 1.0,\n",
       " 'FLAG_DOCUMENT_4': 0.0,\n",
       " 'FLAG_DOCUMENT_5': 0.0,\n",
       " 'FLAG_DOCUMENT_6': 0.0,\n",
       " 'FLAG_DOCUMENT_7': 0.0,\n",
       " 'FLAG_DOCUMENT_8': 0.0,\n",
       " 'FLAG_DOCUMENT_9': 0.0,\n",
       " 'FLAG_DOCUMENT_10': 0.0,\n",
       " 'FLAG_DOCUMENT_11': 0.0,\n",
       " 'FLAG_DOCUMENT_12': 0.0,\n",
       " 'FLAG_DOCUMENT_13': 0.0,\n",
       " 'FLAG_DOCUMENT_14': 0.0,\n",
       " 'FLAG_DOCUMENT_15': 0.0,\n",
       " 'FLAG_DOCUMENT_16': 0.0,\n",
       " 'FLAG_DOCUMENT_17': 0.0,\n",
       " 'FLAG_DOCUMENT_18': 0.0,\n",
       " 'FLAG_DOCUMENT_19': 0.0,\n",
       " 'FLAG_DOCUMENT_20': 0.0,\n",
       " 'FLAG_DOCUMENT_21': 0.0,\n",
       " 'AMT_REQ_CREDIT_BUREAU_HOUR': 0.0,\n",
       " 'AMT_REQ_CREDIT_BUREAU_DAY': 0.0,\n",
       " 'AMT_REQ_CREDIT_BUREAU_WEEK': 0.0,\n",
       " 'AMT_REQ_CREDIT_BUREAU_MON': 0.0,\n",
       " 'AMT_REQ_CREDIT_BUREAU_QRT': 0.0,\n",
       " 'AMT_REQ_CREDIT_BUREAU_YEAR': 0.0,\n",
       " 'NAME_CONTRACT_TYPE_y': 2.0,\n",
       " 'AMT_ANNUITY_y': 5830.927500000001,\n",
       " 'AMT_APPLICATION': 35964.0,\n",
       " 'AMT_CREDIT_y': 32982.42857142857,\n",
       " 'AMT_DOWN_PAYMENT': 3319.0714285714284,\n",
       " 'AMT_GOODS_PRICE_y': 35964.0,\n",
       " 'WEEKDAY_APPR_PROCESS_START_y': 2.7142857142857144,\n",
       " 'HOUR_APPR_PROCESS_START_y': 14.285714285714286,\n",
       " 'FLAG_LAST_APPL_PER_CONTRACT': 0.0,\n",
       " 'NFLAG_LAST_APPL_IN_DAY': 1.0,\n",
       " 'RATE_DOWN_PAYMENT': 0.1036883274097268,\n",
       " 'RATE_INTEREST_PRIMARY': 0.0,\n",
       " 'RATE_INTEREST_PRIVILEGED': 0.0,\n",
       " 'NAME_CASH_LOAN_PURPOSE': 1.0,\n",
       " 'NAME_CONTRACT_STATUS': 0.2857142857142857,\n",
       " 'DAYS_DECISION': -1509.142857142857,\n",
       " 'NAME_PAYMENT_TYPE': 0.5714285714285714,\n",
       " 'CODE_REJECT_REASON': 0.14285714285714285,\n",
       " 'NAME_TYPE_SUITE_y': 1.0,\n",
       " 'NAME_CLIENT_TYPE': 0.42857142857142855,\n",
       " 'NAME_GOODS_CATEGORY': 4.142857142857143,\n",
       " 'NAME_PORTFOLIO': 2.7142857142857144,\n",
       " 'NAME_PRODUCT_TYPE': 1.0,\n",
       " 'CHANNEL_TYPE': 1.7142857142857142,\n",
       " 'SELLERPLACE_AREA': 50.142857142857146,\n",
       " 'NAME_SELLER_INDUSTRY': 2.4285714285714284,\n",
       " 'CNT_PAYMENT': 6.5,\n",
       " 'NAME_YIELD_GROUP': 1.7142857142857142,\n",
       " 'PRODUCT_COMBINATION': 8.714285714285714,\n",
       " 'DAYS_FIRST_DRAWING': 365243.0,\n",
       " 'DAYS_FIRST_DUE': -1356.6666666666667,\n",
       " 'DAYS_LAST_DUE_1ST_VERSION': -1191.6666666666667,\n",
       " 'DAYS_LAST_DUE': -1226.6666666666667,\n",
       " 'DAYS_TERMINATION': -1220.5,\n",
       " 'NFLAG_INSURED_ON_APPROVAL': 0.0,\n",
       " 'nb_app': 7.0}"
      ]
     },
     "execution_count": 69,
     "metadata": {},
     "output_type": "execute_result"
    }
   ],
   "source": [
    "payload  = x_train.iloc[0].to_dict()\n",
    "payload"
   ]
  },
  {
   "cell_type": "code",
   "execution_count": 70,
   "id": "c0c7cdfb",
   "metadata": {},
   "outputs": [
    {
     "name": "stdout",
     "output_type": "stream",
     "text": [
      "{ \"payload\":  {'NAME_CONTRACT_TYPE_x': 0.0, 'CODE_GENDER': 0.0, 'FLAG_OWN_CAR': 0.0, 'FLAG_OWN_REALTY': 0.0, 'CNT_CHILDREN': 1.0, 'AMT_INCOME_TOTAL': 270000.0, 'AMT_CREDIT_x': 1288350.0, 'AMT_ANNUITY_x': 37669.5, 'AMT_GOODS_PRICE_x': 1125000.0, 'NAME_TYPE_SUITE_x': 0.0, 'NAME_INCOME_TYPE': 0.0, 'NAME_EDUCATION_TYPE': 0.0, 'NAME_FAMILY_STATUS': 0.0, 'NAME_HOUSING_TYPE': 0.0, 'REGION_POPULATION_RELATIVE': 0.02461, 'DAYS_BIRTH': -13625.0, 'DAYS_EMPLOYED': -1725.0, 'DAYS_REGISTRATION': -3376.0, 'DAYS_ID_PUBLISH': -5593.0, 'OWN_CAR_AGE': 0.0, 'FLAG_MOBIL': 1.0, 'FLAG_EMP_PHONE': 1.0, 'FLAG_WORK_PHONE': 1.0, 'FLAG_CONT_MOBILE': 1.0, 'FLAG_PHONE': 0.0, 'FLAG_EMAIL': 0.0, 'OCCUPATION_TYPE': 0.0, 'CNT_FAM_MEMBERS': 3.0, 'REGION_RATING_CLIENT': 2.0, 'REGION_RATING_CLIENT_W_CITY': 2.0, 'WEEKDAY_APPR_PROCESS_START_x': 0.0, 'HOUR_APPR_PROCESS_START_x': 14.0, 'REG_REGION_NOT_LIVE_REGION': 0.0, 'REG_REGION_NOT_WORK_REGION': 0.0, 'LIVE_REGION_NOT_WORK_REGION': 0.0, 'REG_CITY_NOT_LIVE_CITY': 0.0, 'REG_CITY_NOT_WORK_CITY': 0.0, 'LIVE_CITY_NOT_WORK_CITY': 0.0, 'ORGANIZATION_TYPE': 0.0, 'EXT_SOURCE_1': 0.0, 'EXT_SOURCE_2': 0.6451581998707777, 'EXT_SOURCE_3': 0.4561097392782771, 'APARTMENTS_AVG': 0.0, 'BASEMENTAREA_AVG': 0.0, 'YEARS_BEGINEXPLUATATION_AVG': 0.0, 'YEARS_BUILD_AVG': 0.0, 'COMMONAREA_AVG': 0.0, 'ELEVATORS_AVG': 0.0, 'ENTRANCES_AVG': 0.0, 'FLOORSMAX_AVG': 0.0, 'FLOORSMIN_AVG': 0.0, 'LANDAREA_AVG': 0.0, 'LIVINGAPARTMENTS_AVG': 0.0, 'LIVINGAREA_AVG': 0.0, 'NONLIVINGAPARTMENTS_AVG': 0.0, 'NONLIVINGAREA_AVG': 0.0, 'APARTMENTS_MODE': 0.0, 'BASEMENTAREA_MODE': 0.0, 'YEARS_BEGINEXPLUATATION_MODE': 0.0, 'YEARS_BUILD_MODE': 0.0, 'COMMONAREA_MODE': 0.0, 'ELEVATORS_MODE': 0.0, 'ENTRANCES_MODE': 0.0, 'FLOORSMAX_MODE': 0.0, 'FLOORSMIN_MODE': 0.0, 'LANDAREA_MODE': 0.0, 'LIVINGAPARTMENTS_MODE': 0.0, 'LIVINGAREA_MODE': 0.0, 'NONLIVINGAPARTMENTS_MODE': 0.0, 'NONLIVINGAREA_MODE': 0.0, 'APARTMENTS_MEDI': 0.0, 'BASEMENTAREA_MEDI': 0.0, 'YEARS_BEGINEXPLUATATION_MEDI': 0.0, 'YEARS_BUILD_MEDI': 0.0, 'COMMONAREA_MEDI': 0.0, 'ELEVATORS_MEDI': 0.0, 'ENTRANCES_MEDI': 0.0, 'FLOORSMAX_MEDI': 0.0, 'FLOORSMIN_MEDI': 0.0, 'LANDAREA_MEDI': 0.0, 'LIVINGAPARTMENTS_MEDI': 0.0, 'LIVINGAREA_MEDI': 0.0, 'NONLIVINGAPARTMENTS_MEDI': 0.0, 'NONLIVINGAREA_MEDI': 0.0, 'FONDKAPREMONT_MODE': 0.0, 'HOUSETYPE_MODE': 0.0, 'TOTALAREA_MODE': 0.0, 'WALLSMATERIAL_MODE': 0.0, 'EMERGENCYSTATE_MODE': 0.0, 'OBS_30_CNT_SOCIAL_CIRCLE': 2.0, 'DEF_30_CNT_SOCIAL_CIRCLE': 0.0, 'OBS_60_CNT_SOCIAL_CIRCLE': 2.0, 'DEF_60_CNT_SOCIAL_CIRCLE': 0.0, 'DAYS_LAST_PHONE_CHANGE': -1424.0, 'FLAG_DOCUMENT_2': 0.0, 'FLAG_DOCUMENT_3': 1.0, 'FLAG_DOCUMENT_4': 0.0, 'FLAG_DOCUMENT_5': 0.0, 'FLAG_DOCUMENT_6': 0.0, 'FLAG_DOCUMENT_7': 0.0, 'FLAG_DOCUMENT_8': 0.0, 'FLAG_DOCUMENT_9': 0.0, 'FLAG_DOCUMENT_10': 0.0, 'FLAG_DOCUMENT_11': 0.0, 'FLAG_DOCUMENT_12': 0.0, 'FLAG_DOCUMENT_13': 0.0, 'FLAG_DOCUMENT_14': 0.0, 'FLAG_DOCUMENT_15': 0.0, 'FLAG_DOCUMENT_16': 0.0, 'FLAG_DOCUMENT_17': 0.0, 'FLAG_DOCUMENT_18': 0.0, 'FLAG_DOCUMENT_19': 0.0, 'FLAG_DOCUMENT_20': 0.0, 'FLAG_DOCUMENT_21': 0.0, 'AMT_REQ_CREDIT_BUREAU_HOUR': 0.0, 'AMT_REQ_CREDIT_BUREAU_DAY': 0.0, 'AMT_REQ_CREDIT_BUREAU_WEEK': 0.0, 'AMT_REQ_CREDIT_BUREAU_MON': 0.0, 'AMT_REQ_CREDIT_BUREAU_QRT': 0.0, 'AMT_REQ_CREDIT_BUREAU_YEAR': 0.0, 'NAME_CONTRACT_TYPE_y': 2.0, 'AMT_ANNUITY_y': 5830.927500000001, 'AMT_APPLICATION': 35964.0, 'AMT_CREDIT_y': 32982.42857142857, 'AMT_DOWN_PAYMENT': 3319.0714285714284, 'AMT_GOODS_PRICE_y': 35964.0, 'WEEKDAY_APPR_PROCESS_START_y': 2.7142857142857144, 'HOUR_APPR_PROCESS_START_y': 14.285714285714286, 'FLAG_LAST_APPL_PER_CONTRACT': 0.0, 'NFLAG_LAST_APPL_IN_DAY': 1.0, 'RATE_DOWN_PAYMENT': 0.1036883274097268, 'RATE_INTEREST_PRIMARY': 0.0, 'RATE_INTEREST_PRIVILEGED': 0.0, 'NAME_CASH_LOAN_PURPOSE': 1.0, 'NAME_CONTRACT_STATUS': 0.2857142857142857, 'DAYS_DECISION': -1509.142857142857, 'NAME_PAYMENT_TYPE': 0.5714285714285714, 'CODE_REJECT_REASON': 0.14285714285714285, 'NAME_TYPE_SUITE_y': 1.0, 'NAME_CLIENT_TYPE': 0.42857142857142855, 'NAME_GOODS_CATEGORY': 4.142857142857143, 'NAME_PORTFOLIO': 2.7142857142857144, 'NAME_PRODUCT_TYPE': 1.0, 'CHANNEL_TYPE': 1.7142857142857142, 'SELLERPLACE_AREA': 50.142857142857146, 'NAME_SELLER_INDUSTRY': 2.4285714285714284, 'CNT_PAYMENT': 6.5, 'NAME_YIELD_GROUP': 1.7142857142857142, 'PRODUCT_COMBINATION': 8.714285714285714, 'DAYS_FIRST_DRAWING': 365243.0, 'DAYS_FIRST_DUE': -1356.6666666666667, 'DAYS_LAST_DUE_1ST_VERSION': -1191.6666666666667, 'DAYS_LAST_DUE': -1226.6666666666667, 'DAYS_TERMINATION': -1220.5, 'NFLAG_INSURED_ON_APPROVAL': 0.0, 'nb_app': 7.0} }\n"
     ]
    }
   ],
   "source": [
    "print ('{ \"payload\": ', payload, \"}\")"
   ]
  },
  {
   "cell_type": "code",
   "execution_count": 76,
   "id": "3765ef37",
   "metadata": {},
   "outputs": [
    {
     "data": {
      "text/plain": [
       "{'Prediction: ': array([0.], dtype=float32),\n",
       " 'Probability: ': array([0.0574903], dtype=float32)}"
      ]
     },
     "execution_count": 76,
     "metadata": {},
     "output_type": "execute_result"
    }
   ],
   "source": [
    "req = requests.Request()\n",
    "req.json = {\"payload\":payload}\n",
    "y_req = req\n",
    "score(gbdt, y_req)"
   ]
  },
  {
   "cell_type": "code",
   "execution_count": 77,
   "id": "2b8ece8a",
   "metadata": {},
   "outputs": [
    {
     "name": "stdout",
     "output_type": "stream",
     "text": [
      "Calculating build time metrics\n",
      "\n",
      "Progress: ██████████████████████████████████████████████████████████████████████ 100.0%\n"
     ]
    },
    {
     "data": {
      "application/vnd.jupyter.widget-view+json": {
       "model_id": "453735adf8fe45e58a68c06e8eed83b8",
       "version_major": 2,
       "version_minor": 0
      },
      "text/plain": [
       "VBox(children=(HTML(value='<style>.grad_1{background: #2468a4;} .grad_2{ color:white; background: #2468a4;}</s…"
      ]
     },
     "metadata": {},
     "output_type": "display_data"
    }
   ],
   "source": [
    "## registering the model in refract.\n",
    "model_reg = register_model(gbdt,\n",
    "               score, \n",
    "               name=\"CRA_XGBoost_Model\", \n",
    "               description=\"Credit Risk XGBoost Model\",\n",
    "               flavour=MLModelFlavours.sklearn,\n",
    "               model_type=\"classification\",\n",
    "               init_script=\"pip install snowflake-ml-python==1.0.11\",\n",
    "               y_true=y_train,\n",
    "               y_pred=y_pred,\n",
    "               prob=y_prob,\n",
    "               features=x_train.columns,\n",
    "               input_type=\"json\", \n",
    "               explain_ai=True,\n",
    "               x_train=x_train, \n",
    "               x_test=x_train, \n",
    "               y_train=y_train.tolist(),\n",
    "               y_test=y_train.tolist(),\n",
    "               feature_names=x_train.columns.tolist(),\n",
    "               original_features=x_train.columns.tolist(),\n",
    "               feature_ids=x_train.columns,\n",
    "               kyd=True, kyd_score = True)"
   ]
  },
  {
   "cell_type": "markdown",
   "id": "b7cd62d1",
   "metadata": {},
   "source": [
    "# RandomForest Classifier"
   ]
  },
  {
   "cell_type": "code",
   "execution_count": 83,
   "id": "cbe805f0",
   "metadata": {},
   "outputs": [
    {
     "data": {
      "text/html": [
       "<style>#sk-container-id-1 {color: black;background-color: white;}#sk-container-id-1 pre{padding: 0;}#sk-container-id-1 div.sk-toggleable {background-color: white;}#sk-container-id-1 label.sk-toggleable__label {cursor: pointer;display: block;width: 100%;margin-bottom: 0;padding: 0.3em;box-sizing: border-box;text-align: center;}#sk-container-id-1 label.sk-toggleable__label-arrow:before {content: \"▸\";float: left;margin-right: 0.25em;color: #696969;}#sk-container-id-1 label.sk-toggleable__label-arrow:hover:before {color: black;}#sk-container-id-1 div.sk-estimator:hover label.sk-toggleable__label-arrow:before {color: black;}#sk-container-id-1 div.sk-toggleable__content {max-height: 0;max-width: 0;overflow: hidden;text-align: left;background-color: #f0f8ff;}#sk-container-id-1 div.sk-toggleable__content pre {margin: 0.2em;color: black;border-radius: 0.25em;background-color: #f0f8ff;}#sk-container-id-1 input.sk-toggleable__control:checked~div.sk-toggleable__content {max-height: 200px;max-width: 100%;overflow: auto;}#sk-container-id-1 input.sk-toggleable__control:checked~label.sk-toggleable__label-arrow:before {content: \"▾\";}#sk-container-id-1 div.sk-estimator input.sk-toggleable__control:checked~label.sk-toggleable__label {background-color: #d4ebff;}#sk-container-id-1 div.sk-label input.sk-toggleable__control:checked~label.sk-toggleable__label {background-color: #d4ebff;}#sk-container-id-1 input.sk-hidden--visually {border: 0;clip: rect(1px 1px 1px 1px);clip: rect(1px, 1px, 1px, 1px);height: 1px;margin: -1px;overflow: hidden;padding: 0;position: absolute;width: 1px;}#sk-container-id-1 div.sk-estimator {font-family: monospace;background-color: #f0f8ff;border: 1px dotted black;border-radius: 0.25em;box-sizing: border-box;margin-bottom: 0.5em;}#sk-container-id-1 div.sk-estimator:hover {background-color: #d4ebff;}#sk-container-id-1 div.sk-parallel-item::after {content: \"\";width: 100%;border-bottom: 1px solid gray;flex-grow: 1;}#sk-container-id-1 div.sk-label:hover label.sk-toggleable__label {background-color: #d4ebff;}#sk-container-id-1 div.sk-serial::before {content: \"\";position: absolute;border-left: 1px solid gray;box-sizing: border-box;top: 0;bottom: 0;left: 50%;z-index: 0;}#sk-container-id-1 div.sk-serial {display: flex;flex-direction: column;align-items: center;background-color: white;padding-right: 0.2em;padding-left: 0.2em;position: relative;}#sk-container-id-1 div.sk-item {position: relative;z-index: 1;}#sk-container-id-1 div.sk-parallel {display: flex;align-items: stretch;justify-content: center;background-color: white;position: relative;}#sk-container-id-1 div.sk-item::before, #sk-container-id-1 div.sk-parallel-item::before {content: \"\";position: absolute;border-left: 1px solid gray;box-sizing: border-box;top: 0;bottom: 0;left: 50%;z-index: -1;}#sk-container-id-1 div.sk-parallel-item {display: flex;flex-direction: column;z-index: 1;position: relative;background-color: white;}#sk-container-id-1 div.sk-parallel-item:first-child::after {align-self: flex-end;width: 50%;}#sk-container-id-1 div.sk-parallel-item:last-child::after {align-self: flex-start;width: 50%;}#sk-container-id-1 div.sk-parallel-item:only-child::after {width: 0;}#sk-container-id-1 div.sk-dashed-wrapped {border: 1px dashed gray;margin: 0 0.4em 0.5em 0.4em;box-sizing: border-box;padding-bottom: 0.4em;background-color: white;}#sk-container-id-1 div.sk-label label {font-family: monospace;font-weight: bold;display: inline-block;line-height: 1.2em;}#sk-container-id-1 div.sk-label-container {text-align: center;}#sk-container-id-1 div.sk-container {/* jupyter's `normalize.less` sets `[hidden] { display: none; }` but bootstrap.min.css set `[hidden] { display: none !important; }` so we also need the `!important` here to be able to override the default hidden behavior on the sphinx rendered scikit-learn.org. See: https://github.com/scikit-learn/scikit-learn/issues/21755 */display: inline-block !important;position: relative;}#sk-container-id-1 div.sk-text-repr-fallback {display: none;}</style><div id=\"sk-container-id-1\" class=\"sk-top-container\"><div class=\"sk-text-repr-fallback\"><pre>RandomForestClassifier(max_depth=12, max_features=0.2, min_samples_leaf=2,\n",
       "                       n_estimators=200, n_jobs=16, random_state=0)</pre><b>In a Jupyter environment, please rerun this cell to show the HTML representation or trust the notebook. <br />On GitHub, the HTML representation is unable to render, please try loading this page with nbviewer.org.</b></div><div class=\"sk-container\" hidden><div class=\"sk-item\"><div class=\"sk-estimator sk-toggleable\"><input class=\"sk-toggleable__control sk-hidden--visually\" id=\"sk-estimator-id-1\" type=\"checkbox\" checked><label for=\"sk-estimator-id-1\" class=\"sk-toggleable__label sk-toggleable__label-arrow\">RandomForestClassifier</label><div class=\"sk-toggleable__content\"><pre>RandomForestClassifier(max_depth=12, max_features=0.2, min_samples_leaf=2,\n",
       "                       n_estimators=200, n_jobs=16, random_state=0)</pre></div></div></div></div></div>"
      ],
      "text/plain": [
       "RandomForestClassifier(max_depth=12, max_features=0.2, min_samples_leaf=2,\n",
       "                       n_estimators=200, n_jobs=16, random_state=0)"
      ]
     },
     "execution_count": 83,
     "metadata": {},
     "output_type": "execute_result"
    }
   ],
   "source": [
    "RFC = RandomForestClassifier(**rf_params)\n",
    "RFC.fit(x_train, y_train)"
   ]
  },
  {
   "cell_type": "code",
   "execution_count": 85,
   "id": "801928bf",
   "metadata": {},
   "outputs": [],
   "source": [
    "y_pred = RFC.predict(x_train)"
   ]
  },
  {
   "cell_type": "code",
   "execution_count": 86,
   "id": "76494e25",
   "metadata": {},
   "outputs": [],
   "source": [
    "y_prob = RFC.predict_proba(x_train)[:,1]"
   ]
  },
  {
   "cell_type": "code",
   "execution_count": 87,
   "id": "c2823485",
   "metadata": {},
   "outputs": [
    {
     "data": {
      "text/plain": [
       "array([0, 0, 0, ..., 0, 0, 0], dtype=int8)"
      ]
     },
     "execution_count": 87,
     "metadata": {},
     "output_type": "execute_result"
    }
   ],
   "source": [
    "y_pred"
   ]
  },
  {
   "cell_type": "code",
   "execution_count": 88,
   "id": "acc3e690",
   "metadata": {},
   "outputs": [
    {
     "data": {
      "text/plain": [
       "array([0.05953402, 0.04038833, 0.05930782, ..., 0.06358363, 0.04462819,\n",
       "       0.15885422])"
      ]
     },
     "execution_count": 88,
     "metadata": {},
     "output_type": "execute_result"
    }
   ],
   "source": [
    "y_prob"
   ]
  },
  {
   "cell_type": "code",
   "execution_count": 92,
   "id": "b7cb8105",
   "metadata": {},
   "outputs": [],
   "source": [
    "@scoring_func\n",
    "def score(model, request):\n",
    "    payload_dict = request.json[\"payload\"]\n",
    "    data = pd.DataFrame(payload_dict,index=[0])\n",
    "    y_pred = model.predict(data)\n",
    "    y_prob = model.predict_proba(data)[:,1]\n",
    "    temp_dict = {\"Prediction: \": np.round(y_pred), \"Probability: \": y_prob }\n",
    "    return temp_dict"
   ]
  },
  {
   "cell_type": "code",
   "execution_count": 90,
   "id": "840e6f4f",
   "metadata": {},
   "outputs": [
    {
     "name": "stdout",
     "output_type": "stream",
     "text": [
      "{ \"payload\":  {'NAME_CONTRACT_TYPE_x': 0.0, 'CODE_GENDER': 0.0, 'FLAG_OWN_CAR': 0.0, 'FLAG_OWN_REALTY': 0.0, 'CNT_CHILDREN': 1.0, 'AMT_INCOME_TOTAL': 270000.0, 'AMT_CREDIT_x': 1288350.0, 'AMT_ANNUITY_x': 37669.5, 'AMT_GOODS_PRICE_x': 1125000.0, 'NAME_TYPE_SUITE_x': 0.0, 'NAME_INCOME_TYPE': 0.0, 'NAME_EDUCATION_TYPE': 0.0, 'NAME_FAMILY_STATUS': 0.0, 'NAME_HOUSING_TYPE': 0.0, 'REGION_POPULATION_RELATIVE': 0.02461, 'DAYS_BIRTH': -13625.0, 'DAYS_EMPLOYED': -1725.0, 'DAYS_REGISTRATION': -3376.0, 'DAYS_ID_PUBLISH': -5593.0, 'OWN_CAR_AGE': 0.0, 'FLAG_MOBIL': 1.0, 'FLAG_EMP_PHONE': 1.0, 'FLAG_WORK_PHONE': 1.0, 'FLAG_CONT_MOBILE': 1.0, 'FLAG_PHONE': 0.0, 'FLAG_EMAIL': 0.0, 'OCCUPATION_TYPE': 0.0, 'CNT_FAM_MEMBERS': 3.0, 'REGION_RATING_CLIENT': 2.0, 'REGION_RATING_CLIENT_W_CITY': 2.0, 'WEEKDAY_APPR_PROCESS_START_x': 0.0, 'HOUR_APPR_PROCESS_START_x': 14.0, 'REG_REGION_NOT_LIVE_REGION': 0.0, 'REG_REGION_NOT_WORK_REGION': 0.0, 'LIVE_REGION_NOT_WORK_REGION': 0.0, 'REG_CITY_NOT_LIVE_CITY': 0.0, 'REG_CITY_NOT_WORK_CITY': 0.0, 'LIVE_CITY_NOT_WORK_CITY': 0.0, 'ORGANIZATION_TYPE': 0.0, 'EXT_SOURCE_1': 0.0, 'EXT_SOURCE_2': 0.6451581998707777, 'EXT_SOURCE_3': 0.4561097392782771, 'APARTMENTS_AVG': 0.0, 'BASEMENTAREA_AVG': 0.0, 'YEARS_BEGINEXPLUATATION_AVG': 0.0, 'YEARS_BUILD_AVG': 0.0, 'COMMONAREA_AVG': 0.0, 'ELEVATORS_AVG': 0.0, 'ENTRANCES_AVG': 0.0, 'FLOORSMAX_AVG': 0.0, 'FLOORSMIN_AVG': 0.0, 'LANDAREA_AVG': 0.0, 'LIVINGAPARTMENTS_AVG': 0.0, 'LIVINGAREA_AVG': 0.0, 'NONLIVINGAPARTMENTS_AVG': 0.0, 'NONLIVINGAREA_AVG': 0.0, 'APARTMENTS_MODE': 0.0, 'BASEMENTAREA_MODE': 0.0, 'YEARS_BEGINEXPLUATATION_MODE': 0.0, 'YEARS_BUILD_MODE': 0.0, 'COMMONAREA_MODE': 0.0, 'ELEVATORS_MODE': 0.0, 'ENTRANCES_MODE': 0.0, 'FLOORSMAX_MODE': 0.0, 'FLOORSMIN_MODE': 0.0, 'LANDAREA_MODE': 0.0, 'LIVINGAPARTMENTS_MODE': 0.0, 'LIVINGAREA_MODE': 0.0, 'NONLIVINGAPARTMENTS_MODE': 0.0, 'NONLIVINGAREA_MODE': 0.0, 'APARTMENTS_MEDI': 0.0, 'BASEMENTAREA_MEDI': 0.0, 'YEARS_BEGINEXPLUATATION_MEDI': 0.0, 'YEARS_BUILD_MEDI': 0.0, 'COMMONAREA_MEDI': 0.0, 'ELEVATORS_MEDI': 0.0, 'ENTRANCES_MEDI': 0.0, 'FLOORSMAX_MEDI': 0.0, 'FLOORSMIN_MEDI': 0.0, 'LANDAREA_MEDI': 0.0, 'LIVINGAPARTMENTS_MEDI': 0.0, 'LIVINGAREA_MEDI': 0.0, 'NONLIVINGAPARTMENTS_MEDI': 0.0, 'NONLIVINGAREA_MEDI': 0.0, 'FONDKAPREMONT_MODE': 0.0, 'HOUSETYPE_MODE': 0.0, 'TOTALAREA_MODE': 0.0, 'WALLSMATERIAL_MODE': 0.0, 'EMERGENCYSTATE_MODE': 0.0, 'OBS_30_CNT_SOCIAL_CIRCLE': 2.0, 'DEF_30_CNT_SOCIAL_CIRCLE': 0.0, 'OBS_60_CNT_SOCIAL_CIRCLE': 2.0, 'DEF_60_CNT_SOCIAL_CIRCLE': 0.0, 'DAYS_LAST_PHONE_CHANGE': -1424.0, 'FLAG_DOCUMENT_2': 0.0, 'FLAG_DOCUMENT_3': 1.0, 'FLAG_DOCUMENT_4': 0.0, 'FLAG_DOCUMENT_5': 0.0, 'FLAG_DOCUMENT_6': 0.0, 'FLAG_DOCUMENT_7': 0.0, 'FLAG_DOCUMENT_8': 0.0, 'FLAG_DOCUMENT_9': 0.0, 'FLAG_DOCUMENT_10': 0.0, 'FLAG_DOCUMENT_11': 0.0, 'FLAG_DOCUMENT_12': 0.0, 'FLAG_DOCUMENT_13': 0.0, 'FLAG_DOCUMENT_14': 0.0, 'FLAG_DOCUMENT_15': 0.0, 'FLAG_DOCUMENT_16': 0.0, 'FLAG_DOCUMENT_17': 0.0, 'FLAG_DOCUMENT_18': 0.0, 'FLAG_DOCUMENT_19': 0.0, 'FLAG_DOCUMENT_20': 0.0, 'FLAG_DOCUMENT_21': 0.0, 'AMT_REQ_CREDIT_BUREAU_HOUR': 0.0, 'AMT_REQ_CREDIT_BUREAU_DAY': 0.0, 'AMT_REQ_CREDIT_BUREAU_WEEK': 0.0, 'AMT_REQ_CREDIT_BUREAU_MON': 0.0, 'AMT_REQ_CREDIT_BUREAU_QRT': 0.0, 'AMT_REQ_CREDIT_BUREAU_YEAR': 0.0, 'NAME_CONTRACT_TYPE_y': 2.0, 'AMT_ANNUITY_y': 5830.927500000001, 'AMT_APPLICATION': 35964.0, 'AMT_CREDIT_y': 32982.42857142857, 'AMT_DOWN_PAYMENT': 3319.0714285714284, 'AMT_GOODS_PRICE_y': 35964.0, 'WEEKDAY_APPR_PROCESS_START_y': 2.7142857142857144, 'HOUR_APPR_PROCESS_START_y': 14.285714285714286, 'FLAG_LAST_APPL_PER_CONTRACT': 0.0, 'NFLAG_LAST_APPL_IN_DAY': 1.0, 'RATE_DOWN_PAYMENT': 0.1036883274097268, 'RATE_INTEREST_PRIMARY': 0.0, 'RATE_INTEREST_PRIVILEGED': 0.0, 'NAME_CASH_LOAN_PURPOSE': 1.0, 'NAME_CONTRACT_STATUS': 0.2857142857142857, 'DAYS_DECISION': -1509.142857142857, 'NAME_PAYMENT_TYPE': 0.5714285714285714, 'CODE_REJECT_REASON': 0.14285714285714285, 'NAME_TYPE_SUITE_y': 1.0, 'NAME_CLIENT_TYPE': 0.42857142857142855, 'NAME_GOODS_CATEGORY': 4.142857142857143, 'NAME_PORTFOLIO': 2.7142857142857144, 'NAME_PRODUCT_TYPE': 1.0, 'CHANNEL_TYPE': 1.7142857142857142, 'SELLERPLACE_AREA': 50.142857142857146, 'NAME_SELLER_INDUSTRY': 2.4285714285714284, 'CNT_PAYMENT': 6.5, 'NAME_YIELD_GROUP': 1.7142857142857142, 'PRODUCT_COMBINATION': 8.714285714285714, 'DAYS_FIRST_DRAWING': 365243.0, 'DAYS_FIRST_DUE': -1356.6666666666667, 'DAYS_LAST_DUE_1ST_VERSION': -1191.6666666666667, 'DAYS_LAST_DUE': -1226.6666666666667, 'DAYS_TERMINATION': -1220.5, 'NFLAG_INSURED_ON_APPROVAL': 0.0, 'nb_app': 7.0} }\n"
     ]
    }
   ],
   "source": [
    "payload  = x_train.iloc[0].to_dict()\n",
    "print ('{ \"payload\": ', payload, \"}\")"
   ]
  },
  {
   "cell_type": "code",
   "execution_count": 93,
   "id": "8ff6507b",
   "metadata": {},
   "outputs": [
    {
     "data": {
      "text/plain": [
       "{'Prediction: ': array([0], dtype=int8), 'Probability: ': array([0.05953402])}"
      ]
     },
     "execution_count": 93,
     "metadata": {},
     "output_type": "execute_result"
    }
   ],
   "source": [
    "req = requests.Request()\n",
    "req.json = {\"payload\":payload}\n",
    "y_req = req\n",
    "score(RFC, y_req)"
   ]
  },
  {
   "cell_type": "code",
   "execution_count": 94,
   "id": "e0a69503",
   "metadata": {},
   "outputs": [
    {
     "name": "stdout",
     "output_type": "stream",
     "text": [
      "Calculating build time metrics\n",
      "\n",
      "Progress: ██████████████████████████████████████████████████████████████████████ 100.0%\n"
     ]
    },
    {
     "data": {
      "application/vnd.jupyter.widget-view+json": {
       "model_id": "e6e6ec7534554cbbb2dcb392a2cd83fa",
       "version_major": 2,
       "version_minor": 0
      },
      "text/plain": [
       "VBox(children=(HTML(value='<style>.grad_1{background: #2468a4;} .grad_2{ color:white; background: #2468a4;}</s…"
      ]
     },
     "metadata": {},
     "output_type": "display_data"
    }
   ],
   "source": [
    "## registering the model in refract.\n",
    "model_reg = register_model(RFC,\n",
    "               score, \n",
    "               name=\"CRA_RandomForest_Model\", \n",
    "               description=\"Credit Risk RandomForest Model\",\n",
    "               flavour=MLModelFlavours.sklearn,\n",
    "               model_type=\"classification\",\n",
    "               init_script=\"pip install snowflake-ml-python==1.0.11\",\n",
    "               y_true=y_train,\n",
    "               y_pred=y_pred,\n",
    "               prob=y_prob,\n",
    "               features=x_train.columns,\n",
    "               input_type=\"json\", \n",
    "               explain_ai=True,\n",
    "               x_train=x_train, \n",
    "               x_test=x_train, \n",
    "               y_train=y_train.tolist(),\n",
    "               y_test=y_train.tolist(),\n",
    "               feature_names=x_train.columns.tolist(),\n",
    "               original_features=x_train.columns.tolist(),\n",
    "               feature_ids=x_train.columns,\n",
    "               kyd=True, kyd_score = True)"
   ]
  },
  {
   "cell_type": "markdown",
   "id": "bc0819a1",
   "metadata": {},
   "source": [
    "# Extra Tree Classifier"
   ]
  },
  {
   "cell_type": "code",
   "execution_count": 95,
   "id": "24a84b77",
   "metadata": {},
   "outputs": [
    {
     "data": {
      "text/html": [
       "<style>#sk-container-id-2 {color: black;background-color: white;}#sk-container-id-2 pre{padding: 0;}#sk-container-id-2 div.sk-toggleable {background-color: white;}#sk-container-id-2 label.sk-toggleable__label {cursor: pointer;display: block;width: 100%;margin-bottom: 0;padding: 0.3em;box-sizing: border-box;text-align: center;}#sk-container-id-2 label.sk-toggleable__label-arrow:before {content: \"▸\";float: left;margin-right: 0.25em;color: #696969;}#sk-container-id-2 label.sk-toggleable__label-arrow:hover:before {color: black;}#sk-container-id-2 div.sk-estimator:hover label.sk-toggleable__label-arrow:before {color: black;}#sk-container-id-2 div.sk-toggleable__content {max-height: 0;max-width: 0;overflow: hidden;text-align: left;background-color: #f0f8ff;}#sk-container-id-2 div.sk-toggleable__content pre {margin: 0.2em;color: black;border-radius: 0.25em;background-color: #f0f8ff;}#sk-container-id-2 input.sk-toggleable__control:checked~div.sk-toggleable__content {max-height: 200px;max-width: 100%;overflow: auto;}#sk-container-id-2 input.sk-toggleable__control:checked~label.sk-toggleable__label-arrow:before {content: \"▾\";}#sk-container-id-2 div.sk-estimator input.sk-toggleable__control:checked~label.sk-toggleable__label {background-color: #d4ebff;}#sk-container-id-2 div.sk-label input.sk-toggleable__control:checked~label.sk-toggleable__label {background-color: #d4ebff;}#sk-container-id-2 input.sk-hidden--visually {border: 0;clip: rect(1px 1px 1px 1px);clip: rect(1px, 1px, 1px, 1px);height: 1px;margin: -1px;overflow: hidden;padding: 0;position: absolute;width: 1px;}#sk-container-id-2 div.sk-estimator {font-family: monospace;background-color: #f0f8ff;border: 1px dotted black;border-radius: 0.25em;box-sizing: border-box;margin-bottom: 0.5em;}#sk-container-id-2 div.sk-estimator:hover {background-color: #d4ebff;}#sk-container-id-2 div.sk-parallel-item::after {content: \"\";width: 100%;border-bottom: 1px solid gray;flex-grow: 1;}#sk-container-id-2 div.sk-label:hover label.sk-toggleable__label {background-color: #d4ebff;}#sk-container-id-2 div.sk-serial::before {content: \"\";position: absolute;border-left: 1px solid gray;box-sizing: border-box;top: 0;bottom: 0;left: 50%;z-index: 0;}#sk-container-id-2 div.sk-serial {display: flex;flex-direction: column;align-items: center;background-color: white;padding-right: 0.2em;padding-left: 0.2em;position: relative;}#sk-container-id-2 div.sk-item {position: relative;z-index: 1;}#sk-container-id-2 div.sk-parallel {display: flex;align-items: stretch;justify-content: center;background-color: white;position: relative;}#sk-container-id-2 div.sk-item::before, #sk-container-id-2 div.sk-parallel-item::before {content: \"\";position: absolute;border-left: 1px solid gray;box-sizing: border-box;top: 0;bottom: 0;left: 50%;z-index: -1;}#sk-container-id-2 div.sk-parallel-item {display: flex;flex-direction: column;z-index: 1;position: relative;background-color: white;}#sk-container-id-2 div.sk-parallel-item:first-child::after {align-self: flex-end;width: 50%;}#sk-container-id-2 div.sk-parallel-item:last-child::after {align-self: flex-start;width: 50%;}#sk-container-id-2 div.sk-parallel-item:only-child::after {width: 0;}#sk-container-id-2 div.sk-dashed-wrapped {border: 1px dashed gray;margin: 0 0.4em 0.5em 0.4em;box-sizing: border-box;padding-bottom: 0.4em;background-color: white;}#sk-container-id-2 div.sk-label label {font-family: monospace;font-weight: bold;display: inline-block;line-height: 1.2em;}#sk-container-id-2 div.sk-label-container {text-align: center;}#sk-container-id-2 div.sk-container {/* jupyter's `normalize.less` sets `[hidden] { display: none; }` but bootstrap.min.css set `[hidden] { display: none !important; }` so we also need the `!important` here to be able to override the default hidden behavior on the sphinx rendered scikit-learn.org. See: https://github.com/scikit-learn/scikit-learn/issues/21755 */display: inline-block !important;position: relative;}#sk-container-id-2 div.sk-text-repr-fallback {display: none;}</style><div id=\"sk-container-id-2\" class=\"sk-top-container\"><div class=\"sk-text-repr-fallback\"><pre>ExtraTreesClassifier(max_depth=12, max_features=0.5, min_samples_leaf=2,\n",
       "                     n_estimators=200, n_jobs=16, random_state=0)</pre><b>In a Jupyter environment, please rerun this cell to show the HTML representation or trust the notebook. <br />On GitHub, the HTML representation is unable to render, please try loading this page with nbviewer.org.</b></div><div class=\"sk-container\" hidden><div class=\"sk-item\"><div class=\"sk-estimator sk-toggleable\"><input class=\"sk-toggleable__control sk-hidden--visually\" id=\"sk-estimator-id-2\" type=\"checkbox\" checked><label for=\"sk-estimator-id-2\" class=\"sk-toggleable__label sk-toggleable__label-arrow\">ExtraTreesClassifier</label><div class=\"sk-toggleable__content\"><pre>ExtraTreesClassifier(max_depth=12, max_features=0.5, min_samples_leaf=2,\n",
       "                     n_estimators=200, n_jobs=16, random_state=0)</pre></div></div></div></div></div>"
      ],
      "text/plain": [
       "ExtraTreesClassifier(max_depth=12, max_features=0.5, min_samples_leaf=2,\n",
       "                     n_estimators=200, n_jobs=16, random_state=0)"
      ]
     },
     "execution_count": 95,
     "metadata": {},
     "output_type": "execute_result"
    }
   ],
   "source": [
    "ETC = ExtraTreesClassifier(**et_params)\n",
    "ETC.fit(x_train, y_train)"
   ]
  },
  {
   "cell_type": "code",
   "execution_count": 96,
   "id": "c02fb9ba",
   "metadata": {},
   "outputs": [],
   "source": [
    "y_pred = ETC.predict(x_train)\n",
    "y_prob = ETC.predict_proba(x_train)[:,1]"
   ]
  },
  {
   "cell_type": "code",
   "execution_count": 97,
   "id": "fd2f6e5e",
   "metadata": {},
   "outputs": [
    {
     "data": {
      "text/plain": [
       "array([0, 0, 0, ..., 0, 0, 0], dtype=int8)"
      ]
     },
     "execution_count": 97,
     "metadata": {},
     "output_type": "execute_result"
    }
   ],
   "source": [
    "y_pred"
   ]
  },
  {
   "cell_type": "code",
   "execution_count": 98,
   "id": "dd892a2f",
   "metadata": {},
   "outputs": [
    {
     "data": {
      "text/plain": [
       "array([0.06163793, 0.03988874, 0.05960309, ..., 0.09010163, 0.0393106 ,\n",
       "       0.21154737])"
      ]
     },
     "execution_count": 98,
     "metadata": {},
     "output_type": "execute_result"
    }
   ],
   "source": [
    "y_prob"
   ]
  },
  {
   "cell_type": "code",
   "execution_count": 99,
   "id": "9f155bfa",
   "metadata": {},
   "outputs": [],
   "source": [
    "@scoring_func\n",
    "def score(model, request):\n",
    "    payload_dict = request.json[\"payload\"]\n",
    "    data = pd.DataFrame(payload_dict,index=[0])\n",
    "    y_pred = model.predict(data)\n",
    "    y_prob = model.predict_proba(data)[:,1]\n",
    "    temp_dict = {\"Prediction: \": np.round(y_pred), \"Probability: \": y_prob }\n",
    "    return temp_dict"
   ]
  },
  {
   "cell_type": "code",
   "execution_count": 100,
   "id": "6589672c",
   "metadata": {},
   "outputs": [
    {
     "name": "stdout",
     "output_type": "stream",
     "text": [
      "{ \"payload\":  {'NAME_CONTRACT_TYPE_x': 0.0, 'CODE_GENDER': 0.0, 'FLAG_OWN_CAR': 0.0, 'FLAG_OWN_REALTY': 0.0, 'CNT_CHILDREN': 1.0, 'AMT_INCOME_TOTAL': 270000.0, 'AMT_CREDIT_x': 1288350.0, 'AMT_ANNUITY_x': 37669.5, 'AMT_GOODS_PRICE_x': 1125000.0, 'NAME_TYPE_SUITE_x': 0.0, 'NAME_INCOME_TYPE': 0.0, 'NAME_EDUCATION_TYPE': 0.0, 'NAME_FAMILY_STATUS': 0.0, 'NAME_HOUSING_TYPE': 0.0, 'REGION_POPULATION_RELATIVE': 0.02461, 'DAYS_BIRTH': -13625.0, 'DAYS_EMPLOYED': -1725.0, 'DAYS_REGISTRATION': -3376.0, 'DAYS_ID_PUBLISH': -5593.0, 'OWN_CAR_AGE': 0.0, 'FLAG_MOBIL': 1.0, 'FLAG_EMP_PHONE': 1.0, 'FLAG_WORK_PHONE': 1.0, 'FLAG_CONT_MOBILE': 1.0, 'FLAG_PHONE': 0.0, 'FLAG_EMAIL': 0.0, 'OCCUPATION_TYPE': 0.0, 'CNT_FAM_MEMBERS': 3.0, 'REGION_RATING_CLIENT': 2.0, 'REGION_RATING_CLIENT_W_CITY': 2.0, 'WEEKDAY_APPR_PROCESS_START_x': 0.0, 'HOUR_APPR_PROCESS_START_x': 14.0, 'REG_REGION_NOT_LIVE_REGION': 0.0, 'REG_REGION_NOT_WORK_REGION': 0.0, 'LIVE_REGION_NOT_WORK_REGION': 0.0, 'REG_CITY_NOT_LIVE_CITY': 0.0, 'REG_CITY_NOT_WORK_CITY': 0.0, 'LIVE_CITY_NOT_WORK_CITY': 0.0, 'ORGANIZATION_TYPE': 0.0, 'EXT_SOURCE_1': 0.0, 'EXT_SOURCE_2': 0.6451581998707777, 'EXT_SOURCE_3': 0.4561097392782771, 'APARTMENTS_AVG': 0.0, 'BASEMENTAREA_AVG': 0.0, 'YEARS_BEGINEXPLUATATION_AVG': 0.0, 'YEARS_BUILD_AVG': 0.0, 'COMMONAREA_AVG': 0.0, 'ELEVATORS_AVG': 0.0, 'ENTRANCES_AVG': 0.0, 'FLOORSMAX_AVG': 0.0, 'FLOORSMIN_AVG': 0.0, 'LANDAREA_AVG': 0.0, 'LIVINGAPARTMENTS_AVG': 0.0, 'LIVINGAREA_AVG': 0.0, 'NONLIVINGAPARTMENTS_AVG': 0.0, 'NONLIVINGAREA_AVG': 0.0, 'APARTMENTS_MODE': 0.0, 'BASEMENTAREA_MODE': 0.0, 'YEARS_BEGINEXPLUATATION_MODE': 0.0, 'YEARS_BUILD_MODE': 0.0, 'COMMONAREA_MODE': 0.0, 'ELEVATORS_MODE': 0.0, 'ENTRANCES_MODE': 0.0, 'FLOORSMAX_MODE': 0.0, 'FLOORSMIN_MODE': 0.0, 'LANDAREA_MODE': 0.0, 'LIVINGAPARTMENTS_MODE': 0.0, 'LIVINGAREA_MODE': 0.0, 'NONLIVINGAPARTMENTS_MODE': 0.0, 'NONLIVINGAREA_MODE': 0.0, 'APARTMENTS_MEDI': 0.0, 'BASEMENTAREA_MEDI': 0.0, 'YEARS_BEGINEXPLUATATION_MEDI': 0.0, 'YEARS_BUILD_MEDI': 0.0, 'COMMONAREA_MEDI': 0.0, 'ELEVATORS_MEDI': 0.0, 'ENTRANCES_MEDI': 0.0, 'FLOORSMAX_MEDI': 0.0, 'FLOORSMIN_MEDI': 0.0, 'LANDAREA_MEDI': 0.0, 'LIVINGAPARTMENTS_MEDI': 0.0, 'LIVINGAREA_MEDI': 0.0, 'NONLIVINGAPARTMENTS_MEDI': 0.0, 'NONLIVINGAREA_MEDI': 0.0, 'FONDKAPREMONT_MODE': 0.0, 'HOUSETYPE_MODE': 0.0, 'TOTALAREA_MODE': 0.0, 'WALLSMATERIAL_MODE': 0.0, 'EMERGENCYSTATE_MODE': 0.0, 'OBS_30_CNT_SOCIAL_CIRCLE': 2.0, 'DEF_30_CNT_SOCIAL_CIRCLE': 0.0, 'OBS_60_CNT_SOCIAL_CIRCLE': 2.0, 'DEF_60_CNT_SOCIAL_CIRCLE': 0.0, 'DAYS_LAST_PHONE_CHANGE': -1424.0, 'FLAG_DOCUMENT_2': 0.0, 'FLAG_DOCUMENT_3': 1.0, 'FLAG_DOCUMENT_4': 0.0, 'FLAG_DOCUMENT_5': 0.0, 'FLAG_DOCUMENT_6': 0.0, 'FLAG_DOCUMENT_7': 0.0, 'FLAG_DOCUMENT_8': 0.0, 'FLAG_DOCUMENT_9': 0.0, 'FLAG_DOCUMENT_10': 0.0, 'FLAG_DOCUMENT_11': 0.0, 'FLAG_DOCUMENT_12': 0.0, 'FLAG_DOCUMENT_13': 0.0, 'FLAG_DOCUMENT_14': 0.0, 'FLAG_DOCUMENT_15': 0.0, 'FLAG_DOCUMENT_16': 0.0, 'FLAG_DOCUMENT_17': 0.0, 'FLAG_DOCUMENT_18': 0.0, 'FLAG_DOCUMENT_19': 0.0, 'FLAG_DOCUMENT_20': 0.0, 'FLAG_DOCUMENT_21': 0.0, 'AMT_REQ_CREDIT_BUREAU_HOUR': 0.0, 'AMT_REQ_CREDIT_BUREAU_DAY': 0.0, 'AMT_REQ_CREDIT_BUREAU_WEEK': 0.0, 'AMT_REQ_CREDIT_BUREAU_MON': 0.0, 'AMT_REQ_CREDIT_BUREAU_QRT': 0.0, 'AMT_REQ_CREDIT_BUREAU_YEAR': 0.0, 'NAME_CONTRACT_TYPE_y': 2.0, 'AMT_ANNUITY_y': 5830.927500000001, 'AMT_APPLICATION': 35964.0, 'AMT_CREDIT_y': 32982.42857142857, 'AMT_DOWN_PAYMENT': 3319.0714285714284, 'AMT_GOODS_PRICE_y': 35964.0, 'WEEKDAY_APPR_PROCESS_START_y': 2.7142857142857144, 'HOUR_APPR_PROCESS_START_y': 14.285714285714286, 'FLAG_LAST_APPL_PER_CONTRACT': 0.0, 'NFLAG_LAST_APPL_IN_DAY': 1.0, 'RATE_DOWN_PAYMENT': 0.1036883274097268, 'RATE_INTEREST_PRIMARY': 0.0, 'RATE_INTEREST_PRIVILEGED': 0.0, 'NAME_CASH_LOAN_PURPOSE': 1.0, 'NAME_CONTRACT_STATUS': 0.2857142857142857, 'DAYS_DECISION': -1509.142857142857, 'NAME_PAYMENT_TYPE': 0.5714285714285714, 'CODE_REJECT_REASON': 0.14285714285714285, 'NAME_TYPE_SUITE_y': 1.0, 'NAME_CLIENT_TYPE': 0.42857142857142855, 'NAME_GOODS_CATEGORY': 4.142857142857143, 'NAME_PORTFOLIO': 2.7142857142857144, 'NAME_PRODUCT_TYPE': 1.0, 'CHANNEL_TYPE': 1.7142857142857142, 'SELLERPLACE_AREA': 50.142857142857146, 'NAME_SELLER_INDUSTRY': 2.4285714285714284, 'CNT_PAYMENT': 6.5, 'NAME_YIELD_GROUP': 1.7142857142857142, 'PRODUCT_COMBINATION': 8.714285714285714, 'DAYS_FIRST_DRAWING': 365243.0, 'DAYS_FIRST_DUE': -1356.6666666666667, 'DAYS_LAST_DUE_1ST_VERSION': -1191.6666666666667, 'DAYS_LAST_DUE': -1226.6666666666667, 'DAYS_TERMINATION': -1220.5, 'NFLAG_INSURED_ON_APPROVAL': 0.0, 'nb_app': 7.0} }\n"
     ]
    }
   ],
   "source": [
    "payload  = x_train.iloc[0].to_dict()\n",
    "print ('{ \"payload\": ', payload, \"}\")"
   ]
  },
  {
   "cell_type": "code",
   "execution_count": 101,
   "id": "ed8d2ba1",
   "metadata": {},
   "outputs": [
    {
     "data": {
      "text/plain": [
       "{'Prediction: ': array([0], dtype=int8), 'Probability: ': array([0.06163793])}"
      ]
     },
     "execution_count": 101,
     "metadata": {},
     "output_type": "execute_result"
    }
   ],
   "source": [
    "req = requests.Request()\n",
    "req.json = {\"payload\":payload}\n",
    "y_req = req\n",
    "score(ETC, y_req)"
   ]
  },
  {
   "cell_type": "code",
   "execution_count": 102,
   "id": "a67461f4",
   "metadata": {},
   "outputs": [
    {
     "name": "stdout",
     "output_type": "stream",
     "text": [
      "Calculating build time metrics\n",
      "\n",
      "Progress: ██████████████████████████████████████████████████████████████████████ 100.0%\n"
     ]
    },
    {
     "data": {
      "application/vnd.jupyter.widget-view+json": {
       "model_id": "2616a703adf448819e673833c23c5934",
       "version_major": 2,
       "version_minor": 0
      },
      "text/plain": [
       "VBox(children=(HTML(value='<style>.grad_1{background: #2468a4;} .grad_2{ color:white; background: #2468a4;}</s…"
      ]
     },
     "metadata": {},
     "output_type": "display_data"
    }
   ],
   "source": [
    "## registering the model in refract.\n",
    "model_reg = register_model(ETC,\n",
    "               score, \n",
    "               name=\"CRA_ExtraTree_Model\", \n",
    "               description=\"Credit Risk ExtraTreeClassifier Model\",\n",
    "               flavour=MLModelFlavours.sklearn,\n",
    "               model_type=\"classification\",\n",
    "               init_script=\"pip install snowflake-ml-python==1.0.11\",\n",
    "               y_true=y_train,\n",
    "               y_pred=y_pred,\n",
    "               prob=y_prob,\n",
    "               features=x_train.columns,\n",
    "               input_type=\"json\", \n",
    "               explain_ai=True,\n",
    "               x_train=x_train, \n",
    "               x_test=x_train, \n",
    "               y_train=y_train.tolist(),\n",
    "               y_test=y_train.tolist(),\n",
    "               feature_names=x_train.columns.tolist(),\n",
    "               original_features=x_train.columns.tolist(),\n",
    "               feature_ids=x_train.columns,\n",
    "               kyd=True, kyd_score = True)"
   ]
  },
  {
   "cell_type": "markdown",
   "id": "47046d67",
   "metadata": {},
   "source": [
    "# CATBoost Classifier"
   ]
  },
  {
   "cell_type": "code",
   "execution_count": 103,
   "id": "1136b8a8",
   "metadata": {},
   "outputs": [
    {
     "name": "stdout",
     "output_type": "stream",
     "text": [
      "0:\ttotal: 221ms\tremaining: 44s\n",
      "1:\ttotal: 376ms\tremaining: 37.2s\n",
      "2:\ttotal: 519ms\tremaining: 34.1s\n",
      "3:\ttotal: 651ms\tremaining: 31.9s\n",
      "4:\ttotal: 800ms\tremaining: 31.2s\n",
      "5:\ttotal: 950ms\tremaining: 30.7s\n",
      "6:\ttotal: 1.08s\tremaining: 29.7s\n",
      "7:\ttotal: 1.24s\tremaining: 29.8s\n",
      "8:\ttotal: 1.4s\tremaining: 29.7s\n",
      "9:\ttotal: 1.51s\tremaining: 28.7s\n",
      "10:\ttotal: 1.67s\tremaining: 28.6s\n",
      "11:\ttotal: 1.81s\tremaining: 28.3s\n",
      "12:\ttotal: 1.97s\tremaining: 28.4s\n",
      "13:\ttotal: 2.12s\tremaining: 28.2s\n",
      "14:\ttotal: 2.25s\tremaining: 27.7s\n",
      "15:\ttotal: 2.38s\tremaining: 27.4s\n",
      "16:\ttotal: 2.53s\tremaining: 27.2s\n",
      "17:\ttotal: 2.69s\tremaining: 27.2s\n",
      "18:\ttotal: 2.86s\tremaining: 27.2s\n",
      "19:\ttotal: 3s\tremaining: 27s\n",
      "20:\ttotal: 3.13s\tremaining: 26.7s\n",
      "21:\ttotal: 3.27s\tremaining: 26.5s\n",
      "22:\ttotal: 3.4s\tremaining: 26.2s\n",
      "23:\ttotal: 3.54s\tremaining: 25.9s\n",
      "24:\ttotal: 3.71s\tremaining: 26s\n",
      "25:\ttotal: 3.85s\tremaining: 25.8s\n",
      "26:\ttotal: 3.98s\tremaining: 25.5s\n",
      "27:\ttotal: 4.14s\tremaining: 25.5s\n",
      "28:\ttotal: 4.28s\tremaining: 25.2s\n",
      "29:\ttotal: 4.42s\tremaining: 25.1s\n",
      "30:\ttotal: 4.53s\tremaining: 24.7s\n",
      "31:\ttotal: 4.71s\tremaining: 24.7s\n",
      "32:\ttotal: 4.82s\tremaining: 24.4s\n",
      "33:\ttotal: 4.95s\tremaining: 24.2s\n",
      "34:\ttotal: 5.06s\tremaining: 23.9s\n",
      "35:\ttotal: 5.18s\tremaining: 23.6s\n",
      "36:\ttotal: 5.31s\tremaining: 23.4s\n",
      "37:\ttotal: 5.48s\tremaining: 23.3s\n",
      "38:\ttotal: 5.61s\tremaining: 23.2s\n",
      "39:\ttotal: 5.72s\tremaining: 22.9s\n",
      "40:\ttotal: 5.84s\tremaining: 22.6s\n",
      "41:\ttotal: 5.96s\tremaining: 22.4s\n",
      "42:\ttotal: 6.07s\tremaining: 22.2s\n",
      "43:\ttotal: 6.25s\tremaining: 22.1s\n",
      "44:\ttotal: 6.39s\tremaining: 22s\n",
      "45:\ttotal: 6.53s\tremaining: 21.8s\n",
      "46:\ttotal: 6.64s\tremaining: 21.6s\n",
      "47:\ttotal: 6.77s\tremaining: 21.5s\n",
      "48:\ttotal: 6.92s\tremaining: 21.3s\n",
      "49:\ttotal: 7.05s\tremaining: 21.2s\n",
      "50:\ttotal: 7.22s\tremaining: 21.1s\n",
      "51:\ttotal: 7.37s\tremaining: 21s\n",
      "52:\ttotal: 7.59s\tremaining: 21s\n",
      "53:\ttotal: 7.71s\tremaining: 20.8s\n",
      "54:\ttotal: 7.86s\tremaining: 20.7s\n",
      "55:\ttotal: 8.02s\tremaining: 20.6s\n",
      "56:\ttotal: 8.14s\tremaining: 20.4s\n",
      "57:\ttotal: 8.32s\tremaining: 20.4s\n",
      "58:\ttotal: 8.5s\tremaining: 20.3s\n",
      "59:\ttotal: 8.65s\tremaining: 20.2s\n",
      "60:\ttotal: 8.76s\tremaining: 20s\n",
      "61:\ttotal: 8.88s\tremaining: 19.8s\n",
      "62:\ttotal: 8.99s\tremaining: 19.6s\n",
      "63:\ttotal: 9.1s\tremaining: 19.3s\n",
      "64:\ttotal: 9.23s\tremaining: 19.2s\n",
      "65:\ttotal: 9.4s\tremaining: 19.1s\n",
      "66:\ttotal: 9.53s\tremaining: 18.9s\n",
      "67:\ttotal: 9.65s\tremaining: 18.7s\n",
      "68:\ttotal: 9.75s\tremaining: 18.5s\n",
      "69:\ttotal: 9.89s\tremaining: 18.4s\n",
      "70:\ttotal: 10s\tremaining: 18.2s\n",
      "71:\ttotal: 10.1s\tremaining: 18s\n",
      "72:\ttotal: 10.3s\tremaining: 17.9s\n",
      "73:\ttotal: 10.4s\tremaining: 17.7s\n",
      "74:\ttotal: 10.5s\tremaining: 17.6s\n",
      "75:\ttotal: 10.7s\tremaining: 17.4s\n",
      "76:\ttotal: 10.8s\tremaining: 17.3s\n",
      "77:\ttotal: 10.9s\tremaining: 17.1s\n",
      "78:\ttotal: 11.1s\tremaining: 17s\n",
      "79:\ttotal: 11.2s\tremaining: 16.8s\n",
      "80:\ttotal: 11.3s\tremaining: 16.7s\n",
      "81:\ttotal: 11.5s\tremaining: 16.5s\n",
      "82:\ttotal: 11.6s\tremaining: 16.3s\n",
      "83:\ttotal: 11.7s\tremaining: 16.2s\n",
      "84:\ttotal: 11.9s\tremaining: 16s\n",
      "85:\ttotal: 12s\tremaining: 15.9s\n",
      "86:\ttotal: 12.1s\tremaining: 15.7s\n",
      "87:\ttotal: 12.2s\tremaining: 15.5s\n",
      "88:\ttotal: 12.3s\tremaining: 15.4s\n",
      "89:\ttotal: 12.5s\tremaining: 15.2s\n",
      "90:\ttotal: 12.6s\tremaining: 15.1s\n",
      "91:\ttotal: 12.7s\tremaining: 14.9s\n",
      "92:\ttotal: 12.9s\tremaining: 14.8s\n",
      "93:\ttotal: 13s\tremaining: 14.6s\n",
      "94:\ttotal: 13.1s\tremaining: 14.5s\n",
      "95:\ttotal: 13.3s\tremaining: 14.4s\n",
      "96:\ttotal: 13.4s\tremaining: 14.2s\n",
      "97:\ttotal: 13.5s\tremaining: 14.1s\n",
      "98:\ttotal: 13.7s\tremaining: 14s\n",
      "99:\ttotal: 13.8s\tremaining: 13.8s\n",
      "100:\ttotal: 14s\tremaining: 13.7s\n",
      "101:\ttotal: 14.1s\tremaining: 13.5s\n",
      "102:\ttotal: 14.2s\tremaining: 13.4s\n",
      "103:\ttotal: 14.4s\tremaining: 13.3s\n",
      "104:\ttotal: 14.5s\tremaining: 13.1s\n",
      "105:\ttotal: 14.6s\tremaining: 13s\n",
      "106:\ttotal: 14.8s\tremaining: 12.8s\n",
      "107:\ttotal: 14.9s\tremaining: 12.7s\n",
      "108:\ttotal: 15s\tremaining: 12.5s\n",
      "109:\ttotal: 15.1s\tremaining: 12.4s\n",
      "110:\ttotal: 15.3s\tremaining: 12.3s\n",
      "111:\ttotal: 15.5s\tremaining: 12.1s\n",
      "112:\ttotal: 15.6s\tremaining: 12s\n",
      "113:\ttotal: 15.7s\tremaining: 11.9s\n",
      "114:\ttotal: 15.8s\tremaining: 11.7s\n",
      "115:\ttotal: 15.9s\tremaining: 11.5s\n",
      "116:\ttotal: 16.1s\tremaining: 11.4s\n",
      "117:\ttotal: 16.2s\tremaining: 11.2s\n",
      "118:\ttotal: 16.3s\tremaining: 11.1s\n",
      "119:\ttotal: 16.5s\tremaining: 11s\n",
      "120:\ttotal: 16.6s\tremaining: 10.8s\n",
      "121:\ttotal: 16.7s\tremaining: 10.7s\n",
      "122:\ttotal: 16.8s\tremaining: 10.5s\n",
      "123:\ttotal: 17s\tremaining: 10.4s\n",
      "124:\ttotal: 17.1s\tremaining: 10.3s\n",
      "125:\ttotal: 17.2s\tremaining: 10.1s\n",
      "126:\ttotal: 17.3s\tremaining: 9.97s\n",
      "127:\ttotal: 17.6s\tremaining: 9.87s\n",
      "128:\ttotal: 17.7s\tremaining: 9.73s\n",
      "129:\ttotal: 17.8s\tremaining: 9.59s\n",
      "130:\ttotal: 18s\tremaining: 9.46s\n",
      "131:\ttotal: 18.1s\tremaining: 9.33s\n",
      "132:\ttotal: 18.3s\tremaining: 9.2s\n",
      "133:\ttotal: 18.4s\tremaining: 9.06s\n",
      "134:\ttotal: 18.5s\tremaining: 8.92s\n",
      "135:\ttotal: 18.6s\tremaining: 8.77s\n",
      "136:\ttotal: 18.8s\tremaining: 8.64s\n",
      "137:\ttotal: 18.9s\tremaining: 8.5s\n",
      "138:\ttotal: 19.1s\tremaining: 8.38s\n",
      "139:\ttotal: 19.3s\tremaining: 8.27s\n",
      "140:\ttotal: 19.4s\tremaining: 8.13s\n",
      "141:\ttotal: 19.5s\tremaining: 7.98s\n",
      "142:\ttotal: 19.7s\tremaining: 7.85s\n",
      "143:\ttotal: 19.8s\tremaining: 7.7s\n",
      "144:\ttotal: 19.9s\tremaining: 7.57s\n",
      "145:\ttotal: 20.1s\tremaining: 7.44s\n",
      "146:\ttotal: 20.3s\tremaining: 7.3s\n",
      "147:\ttotal: 20.4s\tremaining: 7.17s\n",
      "148:\ttotal: 20.6s\tremaining: 7.04s\n",
      "149:\ttotal: 20.7s\tremaining: 6.89s\n",
      "150:\ttotal: 20.8s\tremaining: 6.74s\n",
      "151:\ttotal: 20.9s\tremaining: 6.6s\n",
      "152:\ttotal: 21s\tremaining: 6.46s\n",
      "153:\ttotal: 21.2s\tremaining: 6.32s\n",
      "154:\ttotal: 21.3s\tremaining: 6.18s\n",
      "155:\ttotal: 21.4s\tremaining: 6.04s\n",
      "156:\ttotal: 21.5s\tremaining: 5.89s\n",
      "157:\ttotal: 21.6s\tremaining: 5.75s\n",
      "158:\ttotal: 21.8s\tremaining: 5.63s\n",
      "159:\ttotal: 22s\tremaining: 5.49s\n",
      "160:\ttotal: 22.1s\tremaining: 5.36s\n",
      "161:\ttotal: 22.3s\tremaining: 5.22s\n",
      "162:\ttotal: 22.4s\tremaining: 5.09s\n",
      "163:\ttotal: 22.6s\tremaining: 4.96s\n",
      "164:\ttotal: 22.7s\tremaining: 4.82s\n",
      "165:\ttotal: 22.8s\tremaining: 4.68s\n",
      "166:\ttotal: 23s\tremaining: 4.54s\n",
      "167:\ttotal: 23.1s\tremaining: 4.4s\n",
      "168:\ttotal: 23.2s\tremaining: 4.26s\n",
      "169:\ttotal: 23.3s\tremaining: 4.12s\n",
      "170:\ttotal: 23.4s\tremaining: 3.98s\n",
      "171:\ttotal: 23.6s\tremaining: 3.83s\n",
      "172:\ttotal: 23.7s\tremaining: 3.7s\n",
      "173:\ttotal: 23.9s\tremaining: 3.57s\n",
      "174:\ttotal: 24s\tremaining: 3.43s\n",
      "175:\ttotal: 24.1s\tremaining: 3.29s\n",
      "176:\ttotal: 24.3s\tremaining: 3.16s\n",
      "177:\ttotal: 24.4s\tremaining: 3.02s\n",
      "178:\ttotal: 24.5s\tremaining: 2.88s\n",
      "179:\ttotal: 24.7s\tremaining: 2.74s\n",
      "180:\ttotal: 24.8s\tremaining: 2.6s\n",
      "181:\ttotal: 24.9s\tremaining: 2.46s\n",
      "182:\ttotal: 25.1s\tremaining: 2.33s\n",
      "183:\ttotal: 25.2s\tremaining: 2.19s\n",
      "184:\ttotal: 25.4s\tremaining: 2.06s\n",
      "185:\ttotal: 25.5s\tremaining: 1.92s\n",
      "186:\ttotal: 25.6s\tremaining: 1.78s\n",
      "187:\ttotal: 25.7s\tremaining: 1.64s\n",
      "188:\ttotal: 25.9s\tremaining: 1.5s\n",
      "189:\ttotal: 26s\tremaining: 1.37s\n",
      "190:\ttotal: 26.1s\tremaining: 1.23s\n",
      "191:\ttotal: 26.2s\tremaining: 1.09s\n",
      "192:\ttotal: 26.3s\tremaining: 956ms\n",
      "193:\ttotal: 26.5s\tremaining: 818ms\n",
      "194:\ttotal: 26.6s\tremaining: 682ms\n",
      "195:\ttotal: 26.7s\tremaining: 546ms\n",
      "196:\ttotal: 26.9s\tremaining: 409ms\n",
      "197:\ttotal: 27s\tremaining: 273ms\n",
      "198:\ttotal: 27.2s\tremaining: 137ms\n",
      "199:\ttotal: 27.3s\tremaining: 0us\n"
     ]
    },
    {
     "data": {
      "text/plain": [
       "<catboost.core.CatBoostClassifier at 0x7f3dca18c190>"
      ]
     },
     "execution_count": 103,
     "metadata": {},
     "output_type": "execute_result"
    }
   ],
   "source": [
    "CBC = CatBoostClassifier(**catboost_params)\n",
    "CBC.fit(x_train, y_train)"
   ]
  },
  {
   "cell_type": "code",
   "execution_count": 104,
   "id": "19fd2c5a",
   "metadata": {},
   "outputs": [],
   "source": [
    "y_pred = CBC.predict(x_train)\n",
    "y_prob = CBC.predict_proba(x_train)[:,1]"
   ]
  },
  {
   "cell_type": "code",
   "execution_count": 105,
   "id": "bb78f64f",
   "metadata": {},
   "outputs": [
    {
     "data": {
      "text/plain": [
       "array([0, 0, 0, ..., 0, 0, 0])"
      ]
     },
     "execution_count": 105,
     "metadata": {},
     "output_type": "execute_result"
    }
   ],
   "source": [
    "y_pred"
   ]
  },
  {
   "cell_type": "code",
   "execution_count": 106,
   "id": "03c3f961",
   "metadata": {},
   "outputs": [
    {
     "data": {
      "text/plain": [
       "array([0.3475775 , 0.1148578 , 0.27544795, ..., 0.33424864, 0.18919138,\n",
       "       0.34681491])"
      ]
     },
     "execution_count": 106,
     "metadata": {},
     "output_type": "execute_result"
    }
   ],
   "source": [
    "y_prob"
   ]
  },
  {
   "cell_type": "code",
   "execution_count": 107,
   "id": "40631455",
   "metadata": {},
   "outputs": [],
   "source": [
    "@scoring_func\n",
    "def score(model, request):\n",
    "    payload_dict = request.json[\"payload\"]\n",
    "    data = pd.DataFrame(payload_dict,index=[0])\n",
    "    y_pred = model.predict(data)\n",
    "    y_prob = model.predict_proba(data)[:,1]\n",
    "    temp_dict = {\"Prediction: \": np.round(y_pred), \"Probability: \": y_prob }\n",
    "    return temp_dict"
   ]
  },
  {
   "cell_type": "code",
   "execution_count": 108,
   "id": "2af402fd",
   "metadata": {},
   "outputs": [
    {
     "name": "stdout",
     "output_type": "stream",
     "text": [
      "{ \"payload\":  {'NAME_CONTRACT_TYPE_x': 0.0, 'CODE_GENDER': 0.0, 'FLAG_OWN_CAR': 0.0, 'FLAG_OWN_REALTY': 0.0, 'CNT_CHILDREN': 1.0, 'AMT_INCOME_TOTAL': 270000.0, 'AMT_CREDIT_x': 1288350.0, 'AMT_ANNUITY_x': 37669.5, 'AMT_GOODS_PRICE_x': 1125000.0, 'NAME_TYPE_SUITE_x': 0.0, 'NAME_INCOME_TYPE': 0.0, 'NAME_EDUCATION_TYPE': 0.0, 'NAME_FAMILY_STATUS': 0.0, 'NAME_HOUSING_TYPE': 0.0, 'REGION_POPULATION_RELATIVE': 0.02461, 'DAYS_BIRTH': -13625.0, 'DAYS_EMPLOYED': -1725.0, 'DAYS_REGISTRATION': -3376.0, 'DAYS_ID_PUBLISH': -5593.0, 'OWN_CAR_AGE': 0.0, 'FLAG_MOBIL': 1.0, 'FLAG_EMP_PHONE': 1.0, 'FLAG_WORK_PHONE': 1.0, 'FLAG_CONT_MOBILE': 1.0, 'FLAG_PHONE': 0.0, 'FLAG_EMAIL': 0.0, 'OCCUPATION_TYPE': 0.0, 'CNT_FAM_MEMBERS': 3.0, 'REGION_RATING_CLIENT': 2.0, 'REGION_RATING_CLIENT_W_CITY': 2.0, 'WEEKDAY_APPR_PROCESS_START_x': 0.0, 'HOUR_APPR_PROCESS_START_x': 14.0, 'REG_REGION_NOT_LIVE_REGION': 0.0, 'REG_REGION_NOT_WORK_REGION': 0.0, 'LIVE_REGION_NOT_WORK_REGION': 0.0, 'REG_CITY_NOT_LIVE_CITY': 0.0, 'REG_CITY_NOT_WORK_CITY': 0.0, 'LIVE_CITY_NOT_WORK_CITY': 0.0, 'ORGANIZATION_TYPE': 0.0, 'EXT_SOURCE_1': 0.0, 'EXT_SOURCE_2': 0.6451581998707777, 'EXT_SOURCE_3': 0.4561097392782771, 'APARTMENTS_AVG': 0.0, 'BASEMENTAREA_AVG': 0.0, 'YEARS_BEGINEXPLUATATION_AVG': 0.0, 'YEARS_BUILD_AVG': 0.0, 'COMMONAREA_AVG': 0.0, 'ELEVATORS_AVG': 0.0, 'ENTRANCES_AVG': 0.0, 'FLOORSMAX_AVG': 0.0, 'FLOORSMIN_AVG': 0.0, 'LANDAREA_AVG': 0.0, 'LIVINGAPARTMENTS_AVG': 0.0, 'LIVINGAREA_AVG': 0.0, 'NONLIVINGAPARTMENTS_AVG': 0.0, 'NONLIVINGAREA_AVG': 0.0, 'APARTMENTS_MODE': 0.0, 'BASEMENTAREA_MODE': 0.0, 'YEARS_BEGINEXPLUATATION_MODE': 0.0, 'YEARS_BUILD_MODE': 0.0, 'COMMONAREA_MODE': 0.0, 'ELEVATORS_MODE': 0.0, 'ENTRANCES_MODE': 0.0, 'FLOORSMAX_MODE': 0.0, 'FLOORSMIN_MODE': 0.0, 'LANDAREA_MODE': 0.0, 'LIVINGAPARTMENTS_MODE': 0.0, 'LIVINGAREA_MODE': 0.0, 'NONLIVINGAPARTMENTS_MODE': 0.0, 'NONLIVINGAREA_MODE': 0.0, 'APARTMENTS_MEDI': 0.0, 'BASEMENTAREA_MEDI': 0.0, 'YEARS_BEGINEXPLUATATION_MEDI': 0.0, 'YEARS_BUILD_MEDI': 0.0, 'COMMONAREA_MEDI': 0.0, 'ELEVATORS_MEDI': 0.0, 'ENTRANCES_MEDI': 0.0, 'FLOORSMAX_MEDI': 0.0, 'FLOORSMIN_MEDI': 0.0, 'LANDAREA_MEDI': 0.0, 'LIVINGAPARTMENTS_MEDI': 0.0, 'LIVINGAREA_MEDI': 0.0, 'NONLIVINGAPARTMENTS_MEDI': 0.0, 'NONLIVINGAREA_MEDI': 0.0, 'FONDKAPREMONT_MODE': 0.0, 'HOUSETYPE_MODE': 0.0, 'TOTALAREA_MODE': 0.0, 'WALLSMATERIAL_MODE': 0.0, 'EMERGENCYSTATE_MODE': 0.0, 'OBS_30_CNT_SOCIAL_CIRCLE': 2.0, 'DEF_30_CNT_SOCIAL_CIRCLE': 0.0, 'OBS_60_CNT_SOCIAL_CIRCLE': 2.0, 'DEF_60_CNT_SOCIAL_CIRCLE': 0.0, 'DAYS_LAST_PHONE_CHANGE': -1424.0, 'FLAG_DOCUMENT_2': 0.0, 'FLAG_DOCUMENT_3': 1.0, 'FLAG_DOCUMENT_4': 0.0, 'FLAG_DOCUMENT_5': 0.0, 'FLAG_DOCUMENT_6': 0.0, 'FLAG_DOCUMENT_7': 0.0, 'FLAG_DOCUMENT_8': 0.0, 'FLAG_DOCUMENT_9': 0.0, 'FLAG_DOCUMENT_10': 0.0, 'FLAG_DOCUMENT_11': 0.0, 'FLAG_DOCUMENT_12': 0.0, 'FLAG_DOCUMENT_13': 0.0, 'FLAG_DOCUMENT_14': 0.0, 'FLAG_DOCUMENT_15': 0.0, 'FLAG_DOCUMENT_16': 0.0, 'FLAG_DOCUMENT_17': 0.0, 'FLAG_DOCUMENT_18': 0.0, 'FLAG_DOCUMENT_19': 0.0, 'FLAG_DOCUMENT_20': 0.0, 'FLAG_DOCUMENT_21': 0.0, 'AMT_REQ_CREDIT_BUREAU_HOUR': 0.0, 'AMT_REQ_CREDIT_BUREAU_DAY': 0.0, 'AMT_REQ_CREDIT_BUREAU_WEEK': 0.0, 'AMT_REQ_CREDIT_BUREAU_MON': 0.0, 'AMT_REQ_CREDIT_BUREAU_QRT': 0.0, 'AMT_REQ_CREDIT_BUREAU_YEAR': 0.0, 'NAME_CONTRACT_TYPE_y': 2.0, 'AMT_ANNUITY_y': 5830.927500000001, 'AMT_APPLICATION': 35964.0, 'AMT_CREDIT_y': 32982.42857142857, 'AMT_DOWN_PAYMENT': 3319.0714285714284, 'AMT_GOODS_PRICE_y': 35964.0, 'WEEKDAY_APPR_PROCESS_START_y': 2.7142857142857144, 'HOUR_APPR_PROCESS_START_y': 14.285714285714286, 'FLAG_LAST_APPL_PER_CONTRACT': 0.0, 'NFLAG_LAST_APPL_IN_DAY': 1.0, 'RATE_DOWN_PAYMENT': 0.1036883274097268, 'RATE_INTEREST_PRIMARY': 0.0, 'RATE_INTEREST_PRIVILEGED': 0.0, 'NAME_CASH_LOAN_PURPOSE': 1.0, 'NAME_CONTRACT_STATUS': 0.2857142857142857, 'DAYS_DECISION': -1509.142857142857, 'NAME_PAYMENT_TYPE': 0.5714285714285714, 'CODE_REJECT_REASON': 0.14285714285714285, 'NAME_TYPE_SUITE_y': 1.0, 'NAME_CLIENT_TYPE': 0.42857142857142855, 'NAME_GOODS_CATEGORY': 4.142857142857143, 'NAME_PORTFOLIO': 2.7142857142857144, 'NAME_PRODUCT_TYPE': 1.0, 'CHANNEL_TYPE': 1.7142857142857142, 'SELLERPLACE_AREA': 50.142857142857146, 'NAME_SELLER_INDUSTRY': 2.4285714285714284, 'CNT_PAYMENT': 6.5, 'NAME_YIELD_GROUP': 1.7142857142857142, 'PRODUCT_COMBINATION': 8.714285714285714, 'DAYS_FIRST_DRAWING': 365243.0, 'DAYS_FIRST_DUE': -1356.6666666666667, 'DAYS_LAST_DUE_1ST_VERSION': -1191.6666666666667, 'DAYS_LAST_DUE': -1226.6666666666667, 'DAYS_TERMINATION': -1220.5, 'NFLAG_INSURED_ON_APPROVAL': 0.0, 'nb_app': 7.0} }\n"
     ]
    }
   ],
   "source": [
    "payload  = x_train.iloc[0].to_dict()\n",
    "print ('{ \"payload\": ', payload, \"}\")"
   ]
  },
  {
   "cell_type": "code",
   "execution_count": 109,
   "id": "f00f1f4d",
   "metadata": {},
   "outputs": [
    {
     "data": {
      "text/plain": [
       "{'Prediction: ': array([0]), 'Probability: ': array([0.3475775])}"
      ]
     },
     "execution_count": 109,
     "metadata": {},
     "output_type": "execute_result"
    }
   ],
   "source": [
    "req = requests.Request()\n",
    "req.json = {\"payload\":payload}\n",
    "y_req = req\n",
    "score(CBC, y_req)"
   ]
  },
  {
   "cell_type": "code",
   "execution_count": 110,
   "id": "16c74270",
   "metadata": {},
   "outputs": [
    {
     "name": "stdout",
     "output_type": "stream",
     "text": [
      "Calculating build time metrics\n",
      "\n",
      "Progress: ██████████████████████████████████████████████████████████████████████ 100.0%\n"
     ]
    },
    {
     "data": {
      "application/vnd.jupyter.widget-view+json": {
       "model_id": "df23ca2da7064170866e532ac41ef4c5",
       "version_major": 2,
       "version_minor": 0
      },
      "text/plain": [
       "VBox(children=(HTML(value='<style>.grad_1{background: #2468a4;} .grad_2{ color:white; background: #2468a4;}</s…"
      ]
     },
     "metadata": {},
     "output_type": "display_data"
    }
   ],
   "source": [
    "## registering the model in refract.\n",
    "model_reg = register_model(CBC,\n",
    "               score, \n",
    "               name=\"CRA_CATBoost_Model\", \n",
    "               description=\"Credit Risk CATBoost Model\",\n",
    "               flavour=MLModelFlavours.sklearn,\n",
    "               model_type=\"classification\",\n",
    "               init_script=\"pip install snowflake-ml-python==1.0.11\",\n",
    "               y_true=y_train,\n",
    "               y_pred=y_pred,\n",
    "               prob=y_prob,\n",
    "               features=x_train.columns,\n",
    "               input_type=\"json\", \n",
    "               explain_ai=True,\n",
    "               x_train=x_train, \n",
    "               x_test=x_train, \n",
    "               y_train=y_train.tolist(),\n",
    "               y_test=y_train.tolist(),\n",
    "               feature_names=x_train.columns.tolist(),\n",
    "               original_features=x_train.columns.tolist(),\n",
    "               feature_ids=x_train.columns,\n",
    "               kyd=True, kyd_score = True)"
   ]
  },
  {
   "cell_type": "markdown",
   "id": "c7b26ca6",
   "metadata": {},
   "source": [
    "# STACKING Models"
   ]
  },
  {
   "cell_type": "code",
   "execution_count": 118,
   "id": "62630e70",
   "metadata": {},
   "outputs": [],
   "source": [
    "x_train_XGB = gbdt.predict(xgb.DMatrix(x_train))\n",
    "x_train_RFC = RFC.predict_proba(x_train)[:,1]\n",
    "x_train_ETC = ETC.predict_proba(x_train)[:,1]\n",
    "x_train_CBC = CBC.predict_proba(x_train)[:,1]"
   ]
  },
  {
   "cell_type": "code",
   "execution_count": 119,
   "id": "70a956f9",
   "metadata": {},
   "outputs": [],
   "source": [
    "x_test_XGB = gbdt.predict(xgb.DMatrix(x_test))\n",
    "x_test_RFC = RFC.predict_proba(x_test)[:,1]\n",
    "x_test_ETC = ETC.predict_proba(x_test)[:,1]\n",
    "x_test_CBC = CBC.predict_proba(x_test)[:,1]"
   ]
  },
  {
   "cell_type": "code",
   "execution_count": 125,
   "id": "57c6252d",
   "metadata": {},
   "outputs": [
    {
     "name": "stdout",
     "output_type": "stream",
     "text": [
      "<class 'numpy.ndarray'>\n"
     ]
    }
   ],
   "source": [
    "print(type(x_train_XGB)), print(type(x_train_XGB)),print(type(x_train_XGB)),print(type(x_train_XGB))"
   ]
  },
  {
   "cell_type": "code",
   "execution_count": 120,
   "id": "29974030",
   "metadata": {},
   "outputs": [
    {
     "ename": "AxisError",
     "evalue": "axis 1 is out of bounds for array of dimension 1",
     "output_type": "error",
     "traceback": [
      "\u001b[0;31m---------------------------------------------------------------------------\u001b[0m",
      "\u001b[0;31mAxisError\u001b[0m                                 Traceback (most recent call last)",
      "Cell \u001b[0;32mIn[120], line 1\u001b[0m\n\u001b[0;32m----> 1\u001b[0m x_train_stk \u001b[38;5;241m=\u001b[39m \u001b[43mnp\u001b[49m\u001b[38;5;241;43m.\u001b[39;49m\u001b[43mconcatenate\u001b[49m\u001b[43m(\u001b[49m\u001b[43m(\u001b[49m\u001b[43mx_train_XGB\u001b[49m\u001b[43m,\u001b[49m\u001b[43m \u001b[49m\u001b[43mx_train_RFC\u001b[49m\u001b[43m,\u001b[49m\u001b[43m \u001b[49m\u001b[43mx_train_ETC\u001b[49m\u001b[43m,\u001b[49m\u001b[43m \u001b[49m\u001b[43mx_train_CBC\u001b[49m\u001b[43m)\u001b[49m\u001b[43m,\u001b[49m\u001b[43m \u001b[49m\u001b[43maxis\u001b[49m\u001b[38;5;241;43m=\u001b[39;49m\u001b[38;5;241;43m1\u001b[39;49m\u001b[43m)\u001b[49m\n\u001b[1;32m      2\u001b[0m x_test_stk \u001b[38;5;241m=\u001b[39m np\u001b[38;5;241m.\u001b[39mconcatenate((x_test_XGB, x_test_RFC, x_test_ETC, x_test_CBC), axis\u001b[38;5;241m=\u001b[39m\u001b[38;5;241m1\u001b[39m)\n",
      "File \u001b[0;32m<__array_function__ internals>:200\u001b[0m, in \u001b[0;36mconcatenate\u001b[0;34m(*args, **kwargs)\u001b[0m\n",
      "\u001b[0;31mAxisError\u001b[0m: axis 1 is out of bounds for array of dimension 1"
     ]
    }
   ],
   "source": [
    "x_train_stk = np.concatenate((x_train_XGB, x_train_RFC, x_train_ETC, x_train_CBC), axis=1)\n",
    "x_test_stk = np.concatenate((x_test_XGB, x_test_RFC, x_test_ETC, x_test_CBC), axis=1)"
   ]
  },
  {
   "cell_type": "code",
   "execution_count": null,
   "id": "aebcc721",
   "metadata": {},
   "outputs": [],
   "source": [
    "print(\"{},{}\".format(x_train_stk.shape, x_test_stk.shape))"
   ]
  },
  {
   "cell_type": "code",
   "execution_count": 119,
   "id": "ac9a9b67",
   "metadata": {},
   "outputs": [
    {
     "data": {
      "text/html": [
       "<style>#sk-container-id-2 {color: black;}#sk-container-id-2 pre{padding: 0;}#sk-container-id-2 div.sk-toggleable {background-color: white;}#sk-container-id-2 label.sk-toggleable__label {cursor: pointer;display: block;width: 100%;margin-bottom: 0;padding: 0.3em;box-sizing: border-box;text-align: center;}#sk-container-id-2 label.sk-toggleable__label-arrow:before {content: \"▸\";float: left;margin-right: 0.25em;color: #696969;}#sk-container-id-2 label.sk-toggleable__label-arrow:hover:before {color: black;}#sk-container-id-2 div.sk-estimator:hover label.sk-toggleable__label-arrow:before {color: black;}#sk-container-id-2 div.sk-toggleable__content {max-height: 0;max-width: 0;overflow: hidden;text-align: left;background-color: #f0f8ff;}#sk-container-id-2 div.sk-toggleable__content pre {margin: 0.2em;color: black;border-radius: 0.25em;background-color: #f0f8ff;}#sk-container-id-2 input.sk-toggleable__control:checked~div.sk-toggleable__content {max-height: 200px;max-width: 100%;overflow: auto;}#sk-container-id-2 input.sk-toggleable__control:checked~label.sk-toggleable__label-arrow:before {content: \"▾\";}#sk-container-id-2 div.sk-estimator input.sk-toggleable__control:checked~label.sk-toggleable__label {background-color: #d4ebff;}#sk-container-id-2 div.sk-label input.sk-toggleable__control:checked~label.sk-toggleable__label {background-color: #d4ebff;}#sk-container-id-2 input.sk-hidden--visually {border: 0;clip: rect(1px 1px 1px 1px);clip: rect(1px, 1px, 1px, 1px);height: 1px;margin: -1px;overflow: hidden;padding: 0;position: absolute;width: 1px;}#sk-container-id-2 div.sk-estimator {font-family: monospace;background-color: #f0f8ff;border: 1px dotted black;border-radius: 0.25em;box-sizing: border-box;margin-bottom: 0.5em;}#sk-container-id-2 div.sk-estimator:hover {background-color: #d4ebff;}#sk-container-id-2 div.sk-parallel-item::after {content: \"\";width: 100%;border-bottom: 1px solid gray;flex-grow: 1;}#sk-container-id-2 div.sk-label:hover label.sk-toggleable__label {background-color: #d4ebff;}#sk-container-id-2 div.sk-serial::before {content: \"\";position: absolute;border-left: 1px solid gray;box-sizing: border-box;top: 0;bottom: 0;left: 50%;z-index: 0;}#sk-container-id-2 div.sk-serial {display: flex;flex-direction: column;align-items: center;background-color: white;padding-right: 0.2em;padding-left: 0.2em;position: relative;}#sk-container-id-2 div.sk-item {position: relative;z-index: 1;}#sk-container-id-2 div.sk-parallel {display: flex;align-items: stretch;justify-content: center;background-color: white;position: relative;}#sk-container-id-2 div.sk-item::before, #sk-container-id-2 div.sk-parallel-item::before {content: \"\";position: absolute;border-left: 1px solid gray;box-sizing: border-box;top: 0;bottom: 0;left: 50%;z-index: -1;}#sk-container-id-2 div.sk-parallel-item {display: flex;flex-direction: column;z-index: 1;position: relative;background-color: white;}#sk-container-id-2 div.sk-parallel-item:first-child::after {align-self: flex-end;width: 50%;}#sk-container-id-2 div.sk-parallel-item:last-child::after {align-self: flex-start;width: 50%;}#sk-container-id-2 div.sk-parallel-item:only-child::after {width: 0;}#sk-container-id-2 div.sk-dashed-wrapped {border: 1px dashed gray;margin: 0 0.4em 0.5em 0.4em;box-sizing: border-box;padding-bottom: 0.4em;background-color: white;}#sk-container-id-2 div.sk-label label {font-family: monospace;font-weight: bold;display: inline-block;line-height: 1.2em;}#sk-container-id-2 div.sk-label-container {text-align: center;}#sk-container-id-2 div.sk-container {/* jupyter's `normalize.less` sets `[hidden] { display: none; }` but bootstrap.min.css set `[hidden] { display: none !important; }` so we also need the `!important` here to be able to override the default hidden behavior on the sphinx rendered scikit-learn.org. See: https://github.com/scikit-learn/scikit-learn/issues/21755 */display: inline-block !important;position: relative;}#sk-container-id-2 div.sk-text-repr-fallback {display: none;}</style><div id=\"sk-container-id-2\" class=\"sk-top-container\"><div class=\"sk-text-repr-fallback\"><pre>RandomForestClassifier()</pre><b>In a Jupyter environment, please rerun this cell to show the HTML representation or trust the notebook. <br />On GitHub, the HTML representation is unable to render, please try loading this page with nbviewer.org.</b></div><div class=\"sk-container\" hidden><div class=\"sk-item\"><div class=\"sk-estimator sk-toggleable\"><input class=\"sk-toggleable__control sk-hidden--visually\" id=\"sk-estimator-id-2\" type=\"checkbox\" checked><label for=\"sk-estimator-id-2\" class=\"sk-toggleable__label sk-toggleable__label-arrow\">RandomForestClassifier</label><div class=\"sk-toggleable__content\"><pre>RandomForestClassifier()</pre></div></div></div></div></div>"
      ],
      "text/plain": [
       "RandomForestClassifier()"
      ]
     },
     "execution_count": 119,
     "metadata": {},
     "output_type": "execute_result"
    }
   ],
   "source": [
    "RFC_Stack = RandomForestClassifier()\n",
    "RFC_Stack.fit(x_train_stk,y_train_stk)"
   ]
  },
  {
   "cell_type": "code",
   "execution_count": 120,
   "id": "6f3aa01f",
   "metadata": {},
   "outputs": [],
   "source": [
    "y_pred_stk = RFC_Stack.predict(x_train_stk)\n",
    "y_prob_stk = RFC_Stack.predict_proba(x_train_stk)"
   ]
  },
  {
   "cell_type": "code",
   "execution_count": 124,
   "id": "2bacd8eb",
   "metadata": {},
   "outputs": [
    {
     "data": {
      "text/plain": [
       "24825"
      ]
     },
     "execution_count": 124,
     "metadata": {},
     "output_type": "execute_result"
    }
   ],
   "source": [
    "y_pred_stk"
   ]
  },
  {
   "cell_type": "code",
   "execution_count": 121,
   "id": "88f62f18",
   "metadata": {},
   "outputs": [
    {
     "data": {
      "text/plain": [
       "24803"
      ]
     },
     "execution_count": 121,
     "metadata": {},
     "output_type": "execute_result"
    }
   ],
   "source": [
    "y_prob_stk"
   ]
  },
  {
   "cell_type": "code",
   "execution_count": null,
   "id": "1ab53620",
   "metadata": {},
   "outputs": [],
   "source": [
    "@scoring_func\n",
    "def score(model, request):\n",
    "    payload_dict = request.json[\"payload\"]\n",
    "    data = pd.DataFrame(payload_dict,index=[0])\n",
    "    \n",
    "    data_XGB = XGB.predict(xgb.DMatrix(data))\n",
    "    data_RFC = RFC.predict_proba(data)\n",
    "    data_ETC = ETC.predict_proba(data)\n",
    "    data_CBC = CBC.predict_proba(data)\n",
    "    \n",
    "    data = np.concatenate((data_XGB, data_RFC, data_ETC, data_CBC), axis=1)\n",
    "    \n",
    "    y_pred = model.predict(data)\n",
    "    y_prob = model.predict_proba(data)[:,1]\n",
    "    temp_dict = {\"Prediction: \": np.round(y_pred), \"Probability: \": y_prob }\n",
    "    return temp_dict"
   ]
  },
  {
   "cell_type": "code",
   "execution_count": null,
   "id": "c1fbcb01",
   "metadata": {},
   "outputs": [],
   "source": [
    "payload  = x_train.iloc[0].to_dict()\n",
    "print ('{ \"payload\": ', payload, \"}\")"
   ]
  },
  {
   "cell_type": "code",
   "execution_count": null,
   "id": "bf9eddd0",
   "metadata": {},
   "outputs": [],
   "source": [
    "req = requests.Request()\n",
    "req.json = {\"payload\":payload}\n",
    "y_req = req\n",
    "score(RFC_Stack, y_req)"
   ]
  },
  {
   "cell_type": "code",
   "execution_count": null,
   "id": "8a726224",
   "metadata": {},
   "outputs": [],
   "source": [
    "## registering the model in refract.\n",
    "model_reg = register_model(RFC_Stack,\n",
    "               score, \n",
    "               name=\"CRA_Stacked_Model\", \n",
    "               description=\"Credit Risk Stacked RandomForest Model\",\n",
    "               flavour=MLModelFlavours.sklearn,\n",
    "               model_type=\"classification\",\n",
    "               init_script=\"pip install snowflake-ml-python==1.0.11\",\n",
    "               y_true=y_train,\n",
    "               y_pred=y_pred,\n",
    "               prob=y_prob,\n",
    "               features=x_train.columns,\n",
    "               input_type=\"json\", \n",
    "               explain_ai=True,\n",
    "               x_train=x_train, \n",
    "               x_test=x_train, \n",
    "               y_train=y_train.tolist(),\n",
    "               y_test=y_train.tolist(),\n",
    "               feature_names=x_train.columns.tolist(),\n",
    "               original_features=x_train.columns.tolist(),\n",
    "               feature_ids=x_train.columns,\n",
    "               kyd=True, kyd_score = True)"
   ]
  }
 ],
 "metadata": {
  "kernelspec": {
   "display_name": "Python 3",
   "language": "python",
   "name": "python3"
  },
  "language_info": {
   "codemirror_mode": {
    "name": "ipython",
    "version": 3
   },
   "file_extension": ".py",
   "mimetype": "text/x-python",
   "name": "python",
   "nbconvert_exporter": "python",
   "pygments_lexer": "ipython3",
   "version": "3.8.18"
  }
 },
 "nbformat": 4,
 "nbformat_minor": 5
}
