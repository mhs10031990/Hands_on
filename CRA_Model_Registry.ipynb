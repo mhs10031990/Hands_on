{
 "cells": [
  {
   "cell_type": "code",
   "execution_count": 1,
   "id": "dabae9d6",
   "metadata": {},
   "outputs": [
    {
     "name": "stdout",
     "output_type": "stream",
     "text": [
      "\u001b[33mWARNING: The directory '/home/mosaic-ai/.cache/pip/http' or its parent directory is not owned by the current user and the cache has been disabled. Please check the permissions and owner of that directory. If executing pip with sudo, you may want sudo's -H flag.\u001b[0m\n",
      "\u001b[33mWARNING: The directory '/home/mosaic-ai/.cache/pip' or its parent directory is not owned by the current user and caching wheels has been disabled. check the permissions and owner of that directory. If executing pip with sudo, you may want sudo's -H flag.\u001b[0m\n",
      "\u001b[31mERROR: tensorflow 2.13.1 has requirement numpy<=1.24.3,>=1.22, but you'll have numpy 1.24.4 which is incompatible.\u001b[0m\n",
      "\u001b[31mERROR: snowflake-ml-python 1.0.1 has requirement absl-py<2,>=0.15, but you'll have absl-py 2.1.0 which is incompatible.\u001b[0m\n",
      "\u001b[31mERROR: snowflake-ml-python 1.0.1 has requirement packaging<24,>=20.9, but you'll have packaging 24.0 which is incompatible.\u001b[0m\n",
      "\u001b[31mERROR: snowflake-ml-python 1.0.1 has requirement pandas<2,>=1.0.0, but you'll have pandas 2.0.3 which is incompatible.\u001b[0m\n",
      "\u001b[31mERROR: snowflake-ml-python 1.0.1 has requirement snowflake-snowpark-python<2,>=1.4.0, but you'll have snowflake-snowpark-python 1.0.0 which is incompatible.\u001b[0m\n",
      "\u001b[31mERROR: snowflake-connector-python 3.6.0 has requirement urllib3<2.0.0,>=1.21.1; python_version < \"3.10\", but you'll have urllib3 2.2.1 which is incompatible.\u001b[0m\n",
      "\u001b[31mERROR: openapi-spec-validator 0.7.1 has requirement jsonschema<5.0.0,>=4.18.0, but you'll have jsonschema 3.2.0 which is incompatible.\u001b[0m\n",
      "\u001b[31mERROR: openapi-schema-validator 0.6.2 has requirement jsonschema<5.0.0,>=4.19.1, but you'll have jsonschema 3.2.0 which is incompatible.\u001b[0m\n",
      "\u001b[31mERROR: mosaic-ai-serving 1.0.0 has requirement Flask==2.1.1; python_version >= \"3.7\", but you'll have flask 2.2.5 which is incompatible.\u001b[0m\n",
      "\u001b[31mERROR: mosaic-ai-serving 1.0.0 has requirement matplotlib==3.6.0; python_version >= \"3.8\", but you'll have matplotlib 3.7.5 which is incompatible.\u001b[0m\n",
      "\u001b[31mERROR: mosaic-ai-client 1.0.0 has requirement matplotlib==3.1.1, but you'll have matplotlib 3.7.5 which is incompatible.\u001b[0m\n",
      "\u001b[31mERROR: jupyterlab 3.2.4 has requirement jupyter-server~=1.4, but you'll have jupyter-server 2.0.0a1 which is incompatible.\u001b[0m\n",
      "\u001b[31mERROR: jupyterlab-server 2.25.4 has requirement jsonschema>=4.18.0, but you'll have jsonschema 3.2.0 which is incompatible.\u001b[0m\n",
      "\u001b[33mWARNING: Target directory /tmp/pip_packages/numpy.libs already exists. Specify --upgrade to force replacement.\u001b[0m\n",
      "\u001b[33mWARNING: Target directory /tmp/pip_packages/numpy already exists. Specify --upgrade to force replacement.\u001b[0m\n",
      "\u001b[33mWARNING: Target directory /tmp/pip_packages/zipp already exists. Specify --upgrade to force replacement.\u001b[0m\n",
      "\u001b[33mWARNING: Target directory /tmp/pip_packages/zipp-3.18.1.dist-info already exists. Specify --upgrade to force replacement.\u001b[0m\n",
      "\u001b[33mWARNING: Target directory /tmp/pip_packages/six.py already exists. Specify --upgrade to force replacement.\u001b[0m\n",
      "\u001b[33mWARNING: Target directory /tmp/pip_packages/six-1.16.0.dist-info already exists. Specify --upgrade to force replacement.\u001b[0m\n",
      "\u001b[33mWARNING: Target directory /tmp/pip_packages/__pycache__ already exists. Specify --upgrade to force replacement.\u001b[0m\n",
      "\u001b[33mWARNING: Target directory /tmp/pip_packages/packaging already exists. Specify --upgrade to force replacement.\u001b[0m\n",
      "\u001b[33mWARNING: Target directory /tmp/pip_packages/packaging-24.0.dist-info already exists. Specify --upgrade to force replacement.\u001b[0m\n",
      "\u001b[33mWARNING: Target directory /tmp/pip_packages/bin already exists. Specify --upgrade to force replacement.\u001b[0m\n",
      "\u001b[33mWARNING: You are using pip version 19.3.1; however, version 24.0 is available.\n",
      "You should consider upgrading via the 'pip install --upgrade pip' command.\u001b[0m\n"
     ]
    }
   ],
   "source": [
    "!pip install --q seaborn"
   ]
  },
  {
   "cell_type": "code",
   "execution_count": 2,
   "id": "fde7e6c9",
   "metadata": {},
   "outputs": [
    {
     "name": "stdout",
     "output_type": "stream",
     "text": [
      "\u001b[33mWARNING: The directory '/home/mosaic-ai/.cache/pip/http' or its parent directory is not owned by the current user and the cache has been disabled. Please check the permissions and owner of that directory. If executing pip with sudo, you may want sudo's -H flag.\u001b[0m\n",
      "\u001b[33mWARNING: The directory '/home/mosaic-ai/.cache/pip' or its parent directory is not owned by the current user and caching wheels has been disabled. check the permissions and owner of that directory. If executing pip with sudo, you may want sudo's -H flag.\u001b[0m\n",
      "\u001b[31mERROR: tensorflow 2.13.1 has requirement numpy<=1.24.3,>=1.22, but you'll have numpy 1.24.4 which is incompatible.\u001b[0m\n",
      "\u001b[31mERROR: snowflake-ml-python 1.0.1 has requirement absl-py<2,>=0.15, but you'll have absl-py 2.1.0 which is incompatible.\u001b[0m\n",
      "\u001b[31mERROR: snowflake-ml-python 1.0.1 has requirement packaging<24,>=20.9, but you'll have packaging 24.0 which is incompatible.\u001b[0m\n",
      "\u001b[31mERROR: snowflake-ml-python 1.0.1 has requirement pandas<2,>=1.0.0, but you'll have pandas 2.0.3 which is incompatible.\u001b[0m\n",
      "\u001b[31mERROR: snowflake-ml-python 1.0.1 has requirement snowflake-snowpark-python<2,>=1.4.0, but you'll have snowflake-snowpark-python 1.0.0 which is incompatible.\u001b[0m\n",
      "\u001b[31mERROR: snowflake-ml-python 1.0.1 has requirement xgboost<2,>=1.7.3, but you'll have xgboost 2.0.3 which is incompatible.\u001b[0m\n",
      "\u001b[31mERROR: mosaic-ai-serving 1.0.0 has requirement Flask==2.1.1; python_version >= \"3.7\", but you'll have flask 2.2.5 which is incompatible.\u001b[0m\n",
      "\u001b[31mERROR: mosaic-ai-serving 1.0.0 has requirement matplotlib==3.6.0; python_version >= \"3.8\", but you'll have matplotlib 3.7.5 which is incompatible.\u001b[0m\n",
      "\u001b[31mERROR: mosaic-ai-client 1.0.0 has requirement matplotlib==3.1.1, but you'll have matplotlib 3.7.5 which is incompatible.\u001b[0m\n",
      "\u001b[33mWARNING: Target directory /tmp/pip_packages/numpy.libs already exists. Specify --upgrade to force replacement.\u001b[0m\n",
      "\u001b[33mWARNING: Target directory /tmp/pip_packages/numpy-1.24.4.dist-info already exists. Specify --upgrade to force replacement.\u001b[0m\n",
      "\u001b[33mWARNING: Target directory /tmp/pip_packages/numpy already exists. Specify --upgrade to force replacement.\u001b[0m\n",
      "\u001b[33mWARNING: Target directory /tmp/pip_packages/bin already exists. Specify --upgrade to force replacement.\u001b[0m\n",
      "\u001b[33mWARNING: You are using pip version 19.3.1; however, version 24.0 is available.\n",
      "You should consider upgrading via the 'pip install --upgrade pip' command.\u001b[0m\n"
     ]
    }
   ],
   "source": [
    "!pip install --q xgboost"
   ]
  },
  {
   "cell_type": "code",
   "execution_count": 1,
   "id": "a999eda2",
   "metadata": {},
   "outputs": [
    {
     "name": "stderr",
     "output_type": "stream",
     "text": [
      "Matplotlib created a temporary cache directory at /tmp/matplotlib-jwbdtrrm because the default path (/home/mosaic-ai/.cache/matplotlib) is not a writable directory; it is highly recommended to set the MPLCONFIGDIR environment variable to a writable directory, in particular to speed up the import of Matplotlib and to better support multiprocessing.\n"
     ]
    }
   ],
   "source": [
    "import numpy as np \n",
    "import pandas as pd\n",
    "import matplotlib.pyplot as plt\n",
    "import seaborn as sns\n",
    "import scipy.stats as stats\n",
    "from numpy.random import randint\n",
    "from multiprocessing import cpu_count\n",
    "import os\n",
    "import warnings\n",
    "warnings.filterwarnings('ignore')\n",
    "\n",
    "from snowflake.snowpark import Session\n",
    "import configparser"
   ]
  },
  {
   "cell_type": "code",
   "execution_count": 3,
   "id": "1f6250e9",
   "metadata": {},
   "outputs": [],
   "source": [
    "from sklearn.linear_model import LogisticRegression ,SGDClassifier\n",
    "from sklearn.preprocessing import FunctionTransformer\n",
    "from sklearn.tree import DecisionTreeClassifier\n",
    "from sklearn.pipeline import Pipeline #pipeline\n",
    "from sklearn.impute import SimpleImputer\n",
    "from sklearn.model_selection import train_test_split\n",
    "from sklearn.feature_selection import RFE #for feature selection\n",
    "#from imblearn.over_sampling import SMOTE\n",
    "from sklearn.preprocessing import MinMaxScaler,LabelEncoder\n",
    "from sklearn.metrics import (f1_score,classification_report,\n",
    "                             roc_auc_score,confusion_matrix,roc_curve,auc) # evaluatin metrics\n",
    "from sklearn.model_selection import KFold,RandomizedSearchCV ,cross_val_score,RepeatedStratifiedKFold\n",
    "from sklearn.discriminant_analysis import LinearDiscriminantAnalysis\n",
    "from sklearn.naive_bayes import GaussianNB \n",
    "from sklearn.svm import SVC\n",
    "from sklearn.ensemble import GradientBoostingClassifier ,RandomForestClassifier\n",
    "from xgboost import XGBClassifier\n",
    "import gc"
   ]
  },
  {
   "cell_type": "markdown",
   "id": "485db4e3",
   "metadata": {},
   "source": [
    "### Code to establish connection and read data from Snowflake"
   ]
  },
  {
   "cell_type": "code",
   "execution_count": 4,
   "id": "e4276eba",
   "metadata": {},
   "outputs": [
    {
     "data": {
      "text/plain": [
       "['snowflake_connection.ini']"
      ]
     },
     "execution_count": 4,
     "metadata": {},
     "output_type": "execute_result"
    }
   ],
   "source": [
    "config = configparser.ConfigParser()\n",
    "config.read(\"snowflake_connection.ini\")"
   ]
  },
  {
   "cell_type": "code",
   "execution_count": 5,
   "id": "e106c459",
   "metadata": {},
   "outputs": [],
   "source": [
    "connection_parameters = {\n",
    "    \"user\": f'{config[\"Snowflake\"][\"user\"]}',\n",
    "    \"password\": f'{config[\"Snowflake\"][\"password\"]}',\n",
    "    #\"password\": os.getenv('snowflake_password'),\n",
    "    \"account\": f'{config[\"Snowflake\"][\"account\"]}',\n",
    "    #\"account\": os.getenv('snowflake_account'),\n",
    "    \"WAREHOUSE\": f'{config[\"Snowflake\"][\"WAREHOUSE\"]}',\n",
    "    \"DATABASE\": f'{config[\"Snowflake\"][\"DATABASE\"]}',\n",
    "    \"SCHEMA\": f'{config[\"Snowflake\"][\"SCHEMA\"]}'\n",
    "}"
   ]
  },
  {
   "cell_type": "code",
   "execution_count": 6,
   "id": "3d1c0bf0",
   "metadata": {},
   "outputs": [
    {
     "name": "stdout",
     "output_type": "stream",
     "text": [
      "connection successful!\n"
     ]
    }
   ],
   "source": [
    "def snowflake_connector(conn):\n",
    "    try:\n",
    "        session = Session.builder.configs(conn).create()\n",
    "        print(\"connection successful!\")\n",
    "    except:\n",
    "        raise ValueError(\"error while connecting with db\")\n",
    "    return session\n",
    "\n",
    "session = snowflake_connector(connection_parameters)"
   ]
  },
  {
   "cell_type": "code",
   "execution_count": 7,
   "id": "770578e1",
   "metadata": {},
   "outputs": [],
   "source": [
    "application_train_sf  = session.table(\"CRA_APPLICATION_TRAIN_DETAILS\")\n",
    "application_test_sf  = session.table(\"CRA_APPLICATION_TEST_DETAILS\")"
   ]
  },
  {
   "cell_type": "code",
   "execution_count": 8,
   "id": "c56c904a",
   "metadata": {},
   "outputs": [],
   "source": [
    "application_train = application_train_sf.to_pandas()"
   ]
  },
  {
   "cell_type": "code",
   "execution_count": 9,
   "id": "089f0e63",
   "metadata": {},
   "outputs": [],
   "source": [
    "application_test = application_test_sf.to_pandas()"
   ]
  },
  {
   "cell_type": "code",
   "execution_count": 10,
   "id": "93560965",
   "metadata": {},
   "outputs": [
    {
     "name": "stdout",
     "output_type": "stream",
     "text": [
      "\n",
      " the shape of the table is : \n",
      " (307511, 124)\n",
      "--------------------------------------------------------------------------------\n",
      "\n",
      " data types :  datetime64[ns]     1\n",
      "int32              2\n",
      "int16              2\n",
      "object            17\n",
      "int8              37\n",
      "float64           65\n",
      "Name: count, dtype: int64\n",
      "--------------------------------------------------------------------------------\n",
      "--------------------------------------------------------------------------------\n",
      "\n",
      " number of features having missing data :  61\n",
      "--------------------------------------------------------------------------------\n",
      "\n",
      " missing data in the table: \n",
      " COMMONAREA_MODE             0.698723\n",
      "COMMONAREA_MEDI             0.698723\n",
      "COMMONAREA_AVG              0.698723\n",
      "NONLIVINGAPARTMENTS_MODE    0.694330\n",
      "NONLIVINGAPARTMENTS_AVG     0.694330\n",
      "                              ...   \n",
      "EXT_SOURCE_2                0.002146\n",
      "AMT_GOODS_PRICE             0.000904\n",
      "AMT_ANNUITY                 0.000039\n",
      "CNT_FAM_MEMBERS             0.000007\n",
      "DAYS_LAST_PHONE_CHANGE      0.000003\n",
      "Length: 61, dtype: float64\n",
      "--------------------------------------------------------------------------------\n",
      "COMMONAREA_MODE             0.698723\n",
      "COMMONAREA_MEDI             0.698723\n",
      "COMMONAREA_AVG              0.698723\n",
      "NONLIVINGAPARTMENTS_MODE    0.694330\n",
      "NONLIVINGAPARTMENTS_AVG     0.694330\n",
      "                              ...   \n",
      "ENTRANCES_MEDI              0.503488\n",
      "ENTRANCES_MODE              0.503488\n",
      "LIVINGAREA_MEDI             0.501933\n",
      "LIVINGAREA_AVG              0.501933\n",
      "LIVINGAREA_MODE             0.501933\n",
      "Length: 38, dtype: float64\n",
      "--------------------------------------------------------------------------------\n",
      "\n",
      " missing data over 50% :  38\n"
     ]
    }
   ],
   "source": [
    "pd.set_option('display.max_rows', 30)\n",
    "def info(table):\n",
    "    print(f'\\n the shape of the table is : \\n',table.shape)\n",
    "    print('-' * 80)\n",
    "    print('\\n data types : ', table.dtypes.value_counts().sort_values())\n",
    "    print('-' * 80)\n",
    "    missings=table.isna().mean()[table.isna().mean().sort_values(ascending=False)!=0].sort_values(ascending=False)\n",
    "    print('-' * 80)\n",
    "    print('\\n number of features having missing data : ',len(missings))\n",
    "    print('-' * 80)\n",
    "    print('\\n missing data in the table: \\n',missings)\n",
    "    print('-' * 80)\n",
    "    print(missings[missings>0.5])\n",
    "    print('-' * 80)\n",
    "    print('\\n missing data over 50% : ',len(missings[missings>0.5]))\n",
    "info(application_train)"
   ]
  },
  {
   "cell_type": "markdown",
   "id": "f7de3176",
   "metadata": {},
   "source": [
    "The data we are working with contains307511 observations and 122 columns only 16 of them are categorical and the rest are numeric .\n",
    "But the problem we are facing here is the huge amout of missing data with 67 columns contains missing informations with proportion more than 60% exceed threshold of 50% of missingness .\n",
    "To tackle this problem we should do further analysis and select best strategies to handle them ,so let's start with the analysis first and keep this task to the processing step."
   ]
  },
  {
   "cell_type": "code",
   "execution_count": 11,
   "id": "b89b014e",
   "metadata": {},
   "outputs": [
    {
     "data": {
      "image/png": "[encoded data removed]",
      "text/plain": [
       "<Figure size 288x288 with 1 Axes>"
      ]
     },
     "metadata": {
      "needs_background": "light"
     },
     "output_type": "display_data"
    }
   ],
   "source": [
    "temp = application_train.TARGET.value_counts()\n",
    "df1 = pd.DataFrame({'labels': temp.index,\n",
    "                   'values': temp.values/len(application_train)})\n",
    "plt.figure(figsize = (4,4))\n",
    "plt.title('defaut')\n",
    "sns.set_color_codes(\"pastel\")\n",
    "sns.barplot(x = 'labels', y=\"values\", data=df1)\n",
    "locs, labels = plt.xticks()\n",
    "plt.show()"
   ]
  },
  {
   "cell_type": "markdown",
   "id": "eb6c4dbc",
   "metadata": {},
   "source": [
    "From the distribution plot of the TARGET column we notice than our data suffers from imbalanced classes , There are far more loans that were repaid on time than loans that were not repaid.This may affect the model and results in biased predictions toward the non default class.It's important to choose the right option to handle this issue before running model."
   ]
  },
  {
   "cell_type": "code",
   "execution_count": 12,
   "id": "2bf9945e",
   "metadata": {},
   "outputs": [],
   "source": [
    "NUMERIC_FEATURES = application_train.select_dtypes(['int8','int16','float16','int32','float32','int64','float64']).columns"
   ]
  },
  {
   "cell_type": "code",
   "execution_count": 13,
   "id": "277ae679",
   "metadata": {},
   "outputs": [
    {
     "data": {
      "text/html": [
       "<div>\n",
       "<style scoped>\n",
       "    .dataframe tbody tr th:only-of-type {\n",
       "        vertical-align: middle;\n",
       "    }\n",
       "\n",
       "    .dataframe tbody tr th {\n",
       "        vertical-align: top;\n",
       "    }\n",
       "\n",
       "    .dataframe thead th {\n",
       "        text-align: right;\n",
       "    }\n",
       "</style>\n",
       "<table border=\"1\" class=\"dataframe\">\n",
       "  <thead>\n",
       "    <tr style=\"text-align: right;\">\n",
       "      <th></th>\n",
       "      <th>SK_ID_CURR</th>\n",
       "      <th>TARGET</th>\n",
       "      <th>CNT_CHILDREN</th>\n",
       "      <th>AMT_INCOME_TOTAL</th>\n",
       "      <th>AMT_CREDIT</th>\n",
       "      <th>AMT_ANNUITY</th>\n",
       "      <th>AMT_GOODS_PRICE</th>\n",
       "      <th>REGION_POPULATION_RELATIVE</th>\n",
       "      <th>DAYS_BIRTH</th>\n",
       "      <th>DAYS_EMPLOYED</th>\n",
       "      <th>...</th>\n",
       "      <th>FLAG_DOCUMENT_18</th>\n",
       "      <th>FLAG_DOCUMENT_19</th>\n",
       "      <th>FLAG_DOCUMENT_20</th>\n",
       "      <th>FLAG_DOCUMENT_21</th>\n",
       "      <th>AMT_REQ_CREDIT_BUREAU_HOUR</th>\n",
       "      <th>AMT_REQ_CREDIT_BUREAU_DAY</th>\n",
       "      <th>AMT_REQ_CREDIT_BUREAU_WEEK</th>\n",
       "      <th>AMT_REQ_CREDIT_BUREAU_MON</th>\n",
       "      <th>AMT_REQ_CREDIT_BUREAU_QRT</th>\n",
       "      <th>AMT_REQ_CREDIT_BUREAU_YEAR</th>\n",
       "    </tr>\n",
       "  </thead>\n",
       "  <tbody>\n",
       "    <tr>\n",
       "      <th>count</th>\n",
       "      <td>307511.000000</td>\n",
       "      <td>307511.000000</td>\n",
       "      <td>307511.000000</td>\n",
       "      <td>3.075110e+05</td>\n",
       "      <td>3.075110e+05</td>\n",
       "      <td>307499.000000</td>\n",
       "      <td>3.072330e+05</td>\n",
       "      <td>307511.000000</td>\n",
       "      <td>307511.000000</td>\n",
       "      <td>307511.000000</td>\n",
       "      <td>...</td>\n",
       "      <td>307511.000000</td>\n",
       "      <td>307511.000000</td>\n",
       "      <td>307511.000000</td>\n",
       "      <td>307511.000000</td>\n",
       "      <td>265992.000000</td>\n",
       "      <td>265992.000000</td>\n",
       "      <td>265992.000000</td>\n",
       "      <td>265992.000000</td>\n",
       "      <td>265992.000000</td>\n",
       "      <td>265992.000000</td>\n",
       "    </tr>\n",
       "    <tr>\n",
       "      <th>mean</th>\n",
       "      <td>278180.518577</td>\n",
       "      <td>0.080729</td>\n",
       "      <td>0.417052</td>\n",
       "      <td>1.687979e+05</td>\n",
       "      <td>5.990260e+05</td>\n",
       "      <td>27108.573909</td>\n",
       "      <td>5.383962e+05</td>\n",
       "      <td>0.020868</td>\n",
       "      <td>-16036.995067</td>\n",
       "      <td>63815.045904</td>\n",
       "      <td>...</td>\n",
       "      <td>0.008130</td>\n",
       "      <td>0.000595</td>\n",
       "      <td>0.000507</td>\n",
       "      <td>0.000335</td>\n",
       "      <td>0.006402</td>\n",
       "      <td>0.007000</td>\n",
       "      <td>0.034362</td>\n",
       "      <td>0.267395</td>\n",
       "      <td>0.265474</td>\n",
       "      <td>1.899974</td>\n",
       "    </tr>\n",
       "    <tr>\n",
       "      <th>std</th>\n",
       "      <td>102790.175348</td>\n",
       "      <td>0.272419</td>\n",
       "      <td>0.722121</td>\n",
       "      <td>2.371231e+05</td>\n",
       "      <td>4.024908e+05</td>\n",
       "      <td>14493.737315</td>\n",
       "      <td>3.694465e+05</td>\n",
       "      <td>0.013831</td>\n",
       "      <td>4363.988632</td>\n",
       "      <td>141275.766519</td>\n",
       "      <td>...</td>\n",
       "      <td>0.089798</td>\n",
       "      <td>0.024387</td>\n",
       "      <td>0.022518</td>\n",
       "      <td>0.018299</td>\n",
       "      <td>0.083849</td>\n",
       "      <td>0.110757</td>\n",
       "      <td>0.204685</td>\n",
       "      <td>0.916002</td>\n",
       "      <td>0.794056</td>\n",
       "      <td>1.869295</td>\n",
       "    </tr>\n",
       "    <tr>\n",
       "      <th>min</th>\n",
       "      <td>100002.000000</td>\n",
       "      <td>0.000000</td>\n",
       "      <td>0.000000</td>\n",
       "      <td>2.565000e+04</td>\n",
       "      <td>4.500000e+04</td>\n",
       "      <td>1615.500000</td>\n",
       "      <td>4.050000e+04</td>\n",
       "      <td>0.000290</td>\n",
       "      <td>-25229.000000</td>\n",
       "      <td>-17912.000000</td>\n",
       "      <td>...</td>\n",
       "      <td>0.000000</td>\n",
       "      <td>0.000000</td>\n",
       "      <td>0.000000</td>\n",
       "      <td>0.000000</td>\n",
       "      <td>0.000000</td>\n",
       "      <td>0.000000</td>\n",
       "      <td>0.000000</td>\n",
       "      <td>0.000000</td>\n",
       "      <td>0.000000</td>\n",
       "      <td>0.000000</td>\n",
       "    </tr>\n",
       "    <tr>\n",
       "      <th>25%</th>\n",
       "      <td>189145.500000</td>\n",
       "      <td>0.000000</td>\n",
       "      <td>0.000000</td>\n",
       "      <td>1.125000e+05</td>\n",
       "      <td>2.700000e+05</td>\n",
       "      <td>16524.000000</td>\n",
       "      <td>2.385000e+05</td>\n",
       "      <td>0.010006</td>\n",
       "      <td>-19682.000000</td>\n",
       "      <td>-2760.000000</td>\n",
       "      <td>...</td>\n",
       "      <td>0.000000</td>\n",
       "      <td>0.000000</td>\n",
       "      <td>0.000000</td>\n",
       "      <td>0.000000</td>\n",
       "      <td>0.000000</td>\n",
       "      <td>0.000000</td>\n",
       "      <td>0.000000</td>\n",
       "      <td>0.000000</td>\n",
       "      <td>0.000000</td>\n",
       "      <td>0.000000</td>\n",
       "    </tr>\n",
       "    <tr>\n",
       "      <th>50%</th>\n",
       "      <td>278202.000000</td>\n",
       "      <td>0.000000</td>\n",
       "      <td>0.000000</td>\n",
       "      <td>1.471500e+05</td>\n",
       "      <td>5.135310e+05</td>\n",
       "      <td>24903.000000</td>\n",
       "      <td>4.500000e+05</td>\n",
       "      <td>0.018850</td>\n",
       "      <td>-15750.000000</td>\n",
       "      <td>-1213.000000</td>\n",
       "      <td>...</td>\n",
       "      <td>0.000000</td>\n",
       "      <td>0.000000</td>\n",
       "      <td>0.000000</td>\n",
       "      <td>0.000000</td>\n",
       "      <td>0.000000</td>\n",
       "      <td>0.000000</td>\n",
       "      <td>0.000000</td>\n",
       "      <td>0.000000</td>\n",
       "      <td>0.000000</td>\n",
       "      <td>1.000000</td>\n",
       "    </tr>\n",
       "    <tr>\n",
       "      <th>75%</th>\n",
       "      <td>367142.500000</td>\n",
       "      <td>0.000000</td>\n",
       "      <td>1.000000</td>\n",
       "      <td>2.025000e+05</td>\n",
       "      <td>8.086500e+05</td>\n",
       "      <td>34596.000000</td>\n",
       "      <td>6.795000e+05</td>\n",
       "      <td>0.028663</td>\n",
       "      <td>-12413.000000</td>\n",
       "      <td>-289.000000</td>\n",
       "      <td>...</td>\n",
       "      <td>0.000000</td>\n",
       "      <td>0.000000</td>\n",
       "      <td>0.000000</td>\n",
       "      <td>0.000000</td>\n",
       "      <td>0.000000</td>\n",
       "      <td>0.000000</td>\n",
       "      <td>0.000000</td>\n",
       "      <td>0.000000</td>\n",
       "      <td>0.000000</td>\n",
       "      <td>3.000000</td>\n",
       "    </tr>\n",
       "    <tr>\n",
       "      <th>max</th>\n",
       "      <td>456255.000000</td>\n",
       "      <td>1.000000</td>\n",
       "      <td>19.000000</td>\n",
       "      <td>1.170000e+08</td>\n",
       "      <td>4.050000e+06</td>\n",
       "      <td>258025.500000</td>\n",
       "      <td>4.050000e+06</td>\n",
       "      <td>0.072508</td>\n",
       "      <td>-7489.000000</td>\n",
       "      <td>365243.000000</td>\n",
       "      <td>...</td>\n",
       "      <td>1.000000</td>\n",
       "      <td>1.000000</td>\n",
       "      <td>1.000000</td>\n",
       "      <td>1.000000</td>\n",
       "      <td>4.000000</td>\n",
       "      <td>9.000000</td>\n",
       "      <td>8.000000</td>\n",
       "      <td>27.000000</td>\n",
       "      <td>261.000000</td>\n",
       "      <td>25.000000</td>\n",
       "    </tr>\n",
       "  </tbody>\n",
       "</table>\n",
       "<p>8 rows × 106 columns</p>\n",
       "</div>"
      ],
      "text/plain": [
       "          SK_ID_CURR         TARGET   CNT_CHILDREN  AMT_INCOME_TOTAL  \\\n",
       "count  307511.000000  307511.000000  307511.000000      3.075110e+05   \n",
       "mean   278180.518577       0.080729       0.417052      1.687979e+05   \n",
       "std    102790.175348       0.272419       0.722121      2.371231e+05   \n",
       "min    100002.000000       0.000000       0.000000      2.565000e+04   \n",
       "25%    189145.500000       0.000000       0.000000      1.125000e+05   \n",
       "50%    278202.000000       0.000000       0.000000      1.471500e+05   \n",
       "75%    367142.500000       0.000000       1.000000      2.025000e+05   \n",
       "max    456255.000000       1.000000      19.000000      1.170000e+08   \n",
       "\n",
       "         AMT_CREDIT    AMT_ANNUITY  AMT_GOODS_PRICE  \\\n",
       "count  3.075110e+05  307499.000000     3.072330e+05   \n",
       "mean   5.990260e+05   27108.573909     5.383962e+05   \n",
       "std    4.024908e+05   14493.737315     3.694465e+05   \n",
       "min    4.500000e+04    1615.500000     4.050000e+04   \n",
       "25%    2.700000e+05   16524.000000     2.385000e+05   \n",
       "50%    5.135310e+05   24903.000000     4.500000e+05   \n",
       "75%    8.086500e+05   34596.000000     6.795000e+05   \n",
       "max    4.050000e+06  258025.500000     4.050000e+06   \n",
       "\n",
       "       REGION_POPULATION_RELATIVE     DAYS_BIRTH  DAYS_EMPLOYED  ...  \\\n",
       "count               307511.000000  307511.000000  307511.000000  ...   \n",
       "mean                     0.020868  -16036.995067   63815.045904  ...   \n",
       "std                      0.013831    4363.988632  141275.766519  ...   \n",
       "min                      0.000290  -25229.000000  -17912.000000  ...   \n",
       "25%                      0.010006  -19682.000000   -2760.000000  ...   \n",
       "50%                      0.018850  -15750.000000   -1213.000000  ...   \n",
       "75%                      0.028663  -12413.000000    -289.000000  ...   \n",
       "max                      0.072508   -7489.000000  365243.000000  ...   \n",
       "\n",
       "       FLAG_DOCUMENT_18  FLAG_DOCUMENT_19  FLAG_DOCUMENT_20  FLAG_DOCUMENT_21  \\\n",
       "count     307511.000000     307511.000000     307511.000000     307511.000000   \n",
       "mean           0.008130          0.000595          0.000507          0.000335   \n",
       "std            0.089798          0.024387          0.022518          0.018299   \n",
       "min            0.000000          0.000000          0.000000          0.000000   \n",
       "25%            0.000000          0.000000          0.000000          0.000000   \n",
       "50%            0.000000          0.000000          0.000000          0.000000   \n",
       "75%            0.000000          0.000000          0.000000          0.000000   \n",
       "max            1.000000          1.000000          1.000000          1.000000   \n",
       "\n",
       "       AMT_REQ_CREDIT_BUREAU_HOUR  AMT_REQ_CREDIT_BUREAU_DAY  \\\n",
       "count               265992.000000              265992.000000   \n",
       "mean                     0.006402                   0.007000   \n",
       "std                      0.083849                   0.110757   \n",
       "min                      0.000000                   0.000000   \n",
       "25%                      0.000000                   0.000000   \n",
       "50%                      0.000000                   0.000000   \n",
       "75%                      0.000000                   0.000000   \n",
       "max                      4.000000                   9.000000   \n",
       "\n",
       "       AMT_REQ_CREDIT_BUREAU_WEEK  AMT_REQ_CREDIT_BUREAU_MON  \\\n",
       "count               265992.000000              265992.000000   \n",
       "mean                     0.034362                   0.267395   \n",
       "std                      0.204685                   0.916002   \n",
       "min                      0.000000                   0.000000   \n",
       "25%                      0.000000                   0.000000   \n",
       "50%                      0.000000                   0.000000   \n",
       "75%                      0.000000                   0.000000   \n",
       "max                      8.000000                  27.000000   \n",
       "\n",
       "       AMT_REQ_CREDIT_BUREAU_QRT  AMT_REQ_CREDIT_BUREAU_YEAR  \n",
       "count              265992.000000               265992.000000  \n",
       "mean                    0.265474                    1.899974  \n",
       "std                     0.794056                    1.869295  \n",
       "min                     0.000000                    0.000000  \n",
       "25%                     0.000000                    0.000000  \n",
       "50%                     0.000000                    1.000000  \n",
       "75%                     0.000000                    3.000000  \n",
       "max                   261.000000                   25.000000  \n",
       "\n",
       "[8 rows x 106 columns]"
      ]
     },
     "execution_count": 13,
     "metadata": {},
     "output_type": "execute_result"
    }
   ],
   "source": [
    "application_train[NUMERIC_FEATURES].describe()"
   ]
  },
  {
   "cell_type": "markdown",
   "id": "0a063100",
   "metadata": {},
   "source": [
    "From this dataframe numeric features are not well identified and contains categorical features representent as numerical ones and these are :\n",
    "\n",
    "SK_ID_CURR is an index not feature.\n",
    "TARGET ,children represents the number of children the applicant have.\n",
    "FLAG_DOCUMENT_2, FLAG_DOCUMENT_3, .... FLAG_DOCUMENT_20 ,FLAG_DOCUMENT_21 :These features are binary flags indicating the presence or absence of specific documents in the applicant's file. Each flag represents a different type of document (e.g., identification documents, income documents, etc.)\n",
    "\n",
    "another finding is that the group :\n",
    "AMT_REQ_CREDIT_BUREAU_HOUR,AMT_REQ_CREDIT_BUREAU_DAY,AMT_REQ_CREDIT_BUREAU_WEEK,AMT_REQ_CREDIT_BUREAU_MON, AMT_REQ_CREDIT_BUREAU_QRT,AMT_REQ_CREDIT_BUREAU_YEAR represent the number of inquiries or requests made to the Credit Bureau by the applicant within specific time intervals. Each feature corresponds to a different time unit (hour, day, week, month, quarter, year)."
   ]
  },
  {
   "cell_type": "code",
   "execution_count": 14,
   "id": "d829c839",
   "metadata": {},
   "outputs": [
    {
     "data": {
      "text/html": [
       "<style type=\"text/css\">\n",
       "#T_f312d_row0_col0, #T_f312d_row1_col1, #T_f312d_row2_col2, #T_f312d_row3_col3 {\n",
       "  background-color: #b40426;\n",
       "  color: #f1f1f1;\n",
       "}\n",
       "#T_f312d_row0_col1 {\n",
       "  background-color: #a5c3fe;\n",
       "  color: #000000;\n",
       "}\n",
       "#T_f312d_row0_col2 {\n",
       "  background-color: #9dbdff;\n",
       "  color: #000000;\n",
       "}\n",
       "#T_f312d_row0_col3, #T_f312d_row1_col3, #T_f312d_row2_col3, #T_f312d_row3_col2 {\n",
       "  background-color: #3b4cc0;\n",
       "  color: #f1f1f1;\n",
       "}\n",
       "#T_f312d_row1_col0 {\n",
       "  background-color: #a6c4fe;\n",
       "  color: #000000;\n",
       "}\n",
       "#T_f312d_row1_col2 {\n",
       "  background-color: #86a9fc;\n",
       "  color: #f1f1f1;\n",
       "}\n",
       "#T_f312d_row2_col0 {\n",
       "  background-color: #a2c1ff;\n",
       "  color: #000000;\n",
       "}\n",
       "#T_f312d_row2_col1 {\n",
       "  background-color: #8badfd;\n",
       "  color: #000000;\n",
       "}\n",
       "#T_f312d_row3_col0 {\n",
       "  background-color: #4055c8;\n",
       "  color: #f1f1f1;\n",
       "}\n",
       "#T_f312d_row3_col1 {\n",
       "  background-color: #3f53c6;\n",
       "  color: #f1f1f1;\n",
       "}\n",
       "</style>\n",
       "<table id=\"T_f312d\">\n",
       "  <thead>\n",
       "    <tr>\n",
       "      <th class=\"blank level0\" >&nbsp;</th>\n",
       "      <th id=\"T_f312d_level0_col0\" class=\"col_heading level0 col0\" >EXT_SOURCE_1</th>\n",
       "      <th id=\"T_f312d_level0_col1\" class=\"col_heading level0 col1\" >EXT_SOURCE_2</th>\n",
       "      <th id=\"T_f312d_level0_col2\" class=\"col_heading level0 col2\" >EXT_SOURCE_3</th>\n",
       "      <th id=\"T_f312d_level0_col3\" class=\"col_heading level0 col3\" >TARGET</th>\n",
       "    </tr>\n",
       "  </thead>\n",
       "  <tbody>\n",
       "    <tr>\n",
       "      <th id=\"T_f312d_level0_row0\" class=\"row_heading level0 row0\" >EXT_SOURCE_1</th>\n",
       "      <td id=\"T_f312d_row0_col0\" class=\"data row0 col0\" >1.0</td>\n",
       "      <td id=\"T_f312d_row0_col1\" class=\"data row0 col1\" >0.214</td>\n",
       "      <td id=\"T_f312d_row0_col2\" class=\"data row0 col2\" >0.1868</td>\n",
       "      <td id=\"T_f312d_row0_col3\" class=\"data row0 col3\" >-0.1553</td>\n",
       "    </tr>\n",
       "    <tr>\n",
       "      <th id=\"T_f312d_level0_row1\" class=\"row_heading level0 row1\" >EXT_SOURCE_2</th>\n",
       "      <td id=\"T_f312d_row1_col0\" class=\"data row1 col0\" >0.214</td>\n",
       "      <td id=\"T_f312d_row1_col1\" class=\"data row1 col1\" >1.0</td>\n",
       "      <td id=\"T_f312d_row1_col2\" class=\"data row1 col2\" >0.1092</td>\n",
       "      <td id=\"T_f312d_row1_col3\" class=\"data row1 col3\" >-0.1605</td>\n",
       "    </tr>\n",
       "    <tr>\n",
       "      <th id=\"T_f312d_level0_row2\" class=\"row_heading level0 row2\" >EXT_SOURCE_3</th>\n",
       "      <td id=\"T_f312d_row2_col0\" class=\"data row2 col0\" >0.1868</td>\n",
       "      <td id=\"T_f312d_row2_col1\" class=\"data row2 col1\" >0.1092</td>\n",
       "      <td id=\"T_f312d_row2_col2\" class=\"data row2 col2\" >1.0</td>\n",
       "      <td id=\"T_f312d_row2_col3\" class=\"data row2 col3\" >-0.1789</td>\n",
       "    </tr>\n",
       "    <tr>\n",
       "      <th id=\"T_f312d_level0_row3\" class=\"row_heading level0 row3\" >TARGET</th>\n",
       "      <td id=\"T_f312d_row3_col0\" class=\"data row3 col0\" >-0.1553</td>\n",
       "      <td id=\"T_f312d_row3_col1\" class=\"data row3 col1\" >-0.1605</td>\n",
       "      <td id=\"T_f312d_row3_col2\" class=\"data row3 col2\" >-0.1789</td>\n",
       "      <td id=\"T_f312d_row3_col3\" class=\"data row3 col3\" >1.0</td>\n",
       "    </tr>\n",
       "  </tbody>\n",
       "</table>\n"
      ],
      "text/plain": [
       "<pandas.io.formats.style.Styler at 0x7fd9f495a2b0>"
      ]
     },
     "execution_count": 14,
     "metadata": {},
     "output_type": "execute_result"
    }
   ],
   "source": [
    "EXT_SOURCE_TARGET=['EXT_SOURCE_1','EXT_SOURCE_2', 'EXT_SOURCE_3','TARGET']\n",
    "application_train[EXT_SOURCE_TARGET].corr().style.format(\"{:.4}\").background_gradient(cmap=plt.get_cmap('coolwarm'), axis=1)"
   ]
  },
  {
   "cell_type": "markdown",
   "id": "09c78d5b",
   "metadata": {},
   "source": [
    "EXT_SOURCE features have small correlation between each other and they have small negative correlatons with the target ."
   ]
  },
  {
   "cell_type": "code",
   "execution_count": 15,
   "id": "60fe062e",
   "metadata": {},
   "outputs": [],
   "source": [
    "def t_test(df):\n",
    "    t_stat_list=[]\n",
    "    p_val_list=[]\n",
    "    variable=[]\n",
    "\n",
    "    for var in df.columns:    \n",
    "        t_stat, p_val = stats.ttest_ind(application_train[application_train['TARGET'] == 0][var],\n",
    "                                        application_train[application_train['TARGET'] == 1][var])\n",
    "        if p_val < 0.05:\n",
    "            variable.append(var)\n",
    "            t_stat_list.append(t_stat)\n",
    "            p_val_list.append(p_val)\n",
    "\n",
    "    t_test = pd.DataFrame({'variable': variable, 't_stat': t_stat_list, 'p_val': p_val_list})\n",
    "    return t_test.sort_values(by='p_val',ascending=True)"
   ]
  },
  {
   "cell_type": "code",
   "execution_count": 16,
   "id": "af32c5cd",
   "metadata": {},
   "outputs": [
    {
     "data": {
      "text/html": [
       "<div>\n",
       "<style scoped>\n",
       "    .dataframe tbody tr th:only-of-type {\n",
       "        vertical-align: middle;\n",
       "    }\n",
       "\n",
       "    .dataframe tbody tr th {\n",
       "        vertical-align: top;\n",
       "    }\n",
       "\n",
       "    .dataframe thead th {\n",
       "        text-align: right;\n",
       "    }\n",
       "</style>\n",
       "<table border=\"1\" class=\"dataframe\">\n",
       "  <thead>\n",
       "    <tr style=\"text-align: right;\">\n",
       "      <th></th>\n",
       "      <th>variable</th>\n",
       "      <th>t_stat</th>\n",
       "      <th>p_val</th>\n",
       "    </tr>\n",
       "  </thead>\n",
       "  <tbody>\n",
       "    <tr>\n",
       "      <th>0</th>\n",
       "      <td>TARGET</td>\n",
       "      <td>-inf</td>\n",
       "      <td>0.000000e+00</td>\n",
       "    </tr>\n",
       "    <tr>\n",
       "      <th>5</th>\n",
       "      <td>DAYS_BIRTH</td>\n",
       "      <td>-43.519836</td>\n",
       "      <td>0.000000e+00</td>\n",
       "    </tr>\n",
       "    <tr>\n",
       "      <th>13</th>\n",
       "      <td>REGION_RATING_CLIENT_W_CITY</td>\n",
       "      <td>-33.829889</td>\n",
       "      <td>2.078455e-250</td>\n",
       "    </tr>\n",
       "    <tr>\n",
       "      <th>12</th>\n",
       "      <td>REGION_RATING_CLIENT</td>\n",
       "      <td>-32.718363</td>\n",
       "      <td>2.172433e-234</td>\n",
       "    </tr>\n",
       "    <tr>\n",
       "      <th>8</th>\n",
       "      <td>DAYS_ID_PUBLISH</td>\n",
       "      <td>-28.572653</td>\n",
       "      <td>2.527524e-179</td>\n",
       "    </tr>\n",
       "    <tr>\n",
       "      <th>...</th>\n",
       "      <td>...</td>\n",
       "      <td>...</td>\n",
       "      <td>...</td>\n",
       "    </tr>\n",
       "    <tr>\n",
       "      <th>20</th>\n",
       "      <td>FLAG_DOCUMENT_2</td>\n",
       "      <td>-3.004040</td>\n",
       "      <td>2.664419e-03</td>\n",
       "    </tr>\n",
       "    <tr>\n",
       "      <th>24</th>\n",
       "      <td>FLAG_DOCUMENT_9</td>\n",
       "      <td>2.413585</td>\n",
       "      <td>1.579700e-02</td>\n",
       "    </tr>\n",
       "    <tr>\n",
       "      <th>25</th>\n",
       "      <td>FLAG_DOCUMENT_11</td>\n",
       "      <td>2.345343</td>\n",
       "      <td>1.901021e-02</td>\n",
       "    </tr>\n",
       "    <tr>\n",
       "      <th>2</th>\n",
       "      <td>AMT_INCOME_TOTAL</td>\n",
       "      <td>2.208101</td>\n",
       "      <td>2.723796e-02</td>\n",
       "    </tr>\n",
       "    <tr>\n",
       "      <th>31</th>\n",
       "      <td>FLAG_DOCUMENT_21</td>\n",
       "      <td>-2.056576</td>\n",
       "      <td>3.972784e-02</td>\n",
       "    </tr>\n",
       "  </tbody>\n",
       "</table>\n",
       "<p>32 rows × 3 columns</p>\n",
       "</div>"
      ],
      "text/plain": [
       "                       variable     t_stat          p_val\n",
       "0                        TARGET       -inf   0.000000e+00\n",
       "5                    DAYS_BIRTH -43.519836   0.000000e+00\n",
       "13  REGION_RATING_CLIENT_W_CITY -33.829889  2.078455e-250\n",
       "12         REGION_RATING_CLIENT -32.718363  2.172433e-234\n",
       "8               DAYS_ID_PUBLISH -28.572653  2.527524e-179\n",
       "..                          ...        ...            ...\n",
       "20              FLAG_DOCUMENT_2  -3.004040   2.664419e-03\n",
       "24              FLAG_DOCUMENT_9   2.413585   1.579700e-02\n",
       "25             FLAG_DOCUMENT_11   2.345343   1.901021e-02\n",
       "2              AMT_INCOME_TOTAL   2.208101   2.723796e-02\n",
       "31             FLAG_DOCUMENT_21  -2.056576   3.972784e-02\n",
       "\n",
       "[32 rows x 3 columns]"
      ]
     },
     "execution_count": 16,
     "metadata": {},
     "output_type": "execute_result"
    }
   ],
   "source": [
    "t_test(application_train.select_dtypes(['int8','int16','float16','int32','float32','int64','float64']))"
   ]
  },
  {
   "cell_type": "markdown",
   "id": "c8666c38",
   "metadata": {},
   "source": [
    "DAYS_BIRTH,REGION_RATING_CLIENT_W_CITY,REGION_RATING_CLIENT, DAYS_ID_PUBLISH REGION_POPULATION_RELATIVE, LIVE_CITY_NOT_WORK_CITY,AMT_CREDIT, FLAG_DOCUMENT_6, FLAG_WORK_PHONE, HOUR_APPR_PROCESS_START, FLAG_PHONE, CNT_CHILDREN, FLAG_DOCUMENT_16, FLAG_DOCUMENT_13, FLAG_DOCUMENT_14, FLAG_DOCUMENT_8, FLAG_DOCUMENT_18, REG_REGION_NOT_WORK_REGION, FLAG_DOCUMENT_15, REG_REGION_NOT_LIVE_REGION, FLAG_DOCUMENT_2, FLAG_DOCUMENT_9, FLAG_DOCUMENT_11, AMT_INCOME_TOTAL, FLAG_DOCUMENT_21\n",
    "These features have been identified as important based on the specific analysis performed( ttest), considering their potential relevance to the credit default prediction. However, it's essential to note that the importance of features can vary depending on the context, and modeling approach. Further investigation and modeling can help validate their significance and contribution to the predictive power of the models,so we will keep all the features for now."
   ]
  },
  {
   "cell_type": "code",
   "execution_count": 17,
   "id": "5946ca59",
   "metadata": {},
   "outputs": [
    {
     "data": {
      "text/plain": [
       "CREATED_BY                     1\n",
       "FLAG_OWN_REALTY                2\n",
       "NAME_CONTRACT_TYPE             2\n",
       "FLAG_OWN_CAR                   2\n",
       "CODE_GENDER                    3\n",
       "EMERGENCYSTATE_MODE            3\n",
       "HOUSETYPE_MODE                 4\n",
       "NAME_EDUCATION_TYPE            5\n",
       "FONDKAPREMONT_MODE             5\n",
       "NAME_FAMILY_STATUS             6\n",
       "NAME_HOUSING_TYPE              6\n",
       "WEEKDAY_APPR_PROCESS_START     7\n",
       "NAME_TYPE_SUITE                8\n",
       "NAME_INCOME_TYPE               8\n",
       "WALLSMATERIAL_MODE             8\n",
       "OCCUPATION_TYPE               19\n",
       "ORGANIZATION_TYPE             58\n",
       "dtype: int64"
      ]
     },
     "execution_count": 17,
     "metadata": {},
     "output_type": "execute_result"
    }
   ],
   "source": [
    "application_train.select_dtypes('O').nunique().sort_values()"
   ]
  },
  {
   "cell_type": "code",
   "execution_count": 18,
   "id": "40b17334",
   "metadata": {},
   "outputs": [],
   "source": [
    "def cat_stats(df, FEATURES):\n",
    "    for feature in FEATURES:\n",
    "        temp = df[feature].value_counts()\n",
    "        df1 = pd.DataFrame({feature: temp.index, 'value': temp.values})\n",
    "        cat_perc_0 = df[df['TARGET'] == 0].groupby(feature).size().reset_index(name='Count_Target_0')\n",
    "        cat_perc_1 = df[df['TARGET'] == 1].groupby(feature).size().reset_index(name='Count_Target_1')\n",
    "        cat_perc = cat_perc_0.merge(cat_perc_1, how='left', on=feature).fillna(0)\n",
    "        cat_perc['Percentage_Target_0'] = cat_perc['Count_Target_0'] / (cat_perc['Count_Target_0'] + cat_perc['Count_Target_1']) * 100\n",
    "        cat_perc['Percentage_Target_1'] = cat_perc['Count_Target_1'] / (cat_perc['Count_Target_0'] + cat_perc['Count_Target_1']) * 100\n",
    "        cat_perc.sort_values(by=feature, inplace=True)\n",
    "        \n",
    "        fig, (ax1, ax2) = plt.subplots(ncols=2, figsize=(12, 6))\n",
    "        \n",
    "        sns.set_color_codes(\"pastel\")\n",
    "        \n",
    "        # Plot distribution for TARGET == 0\n",
    "        sns.barplot(ax=ax1, x=feature, y=\"Percentage_Target_0\", data=cat_perc)\n",
    "        ax1.set_xticklabels(ax1.get_xticklabels(), rotation=90)\n",
    "        \n",
    "        # Plot distribution for TARGET == 1\n",
    "        sns.barplot(ax=ax2, x=feature, y='Percentage_Target_1', data=cat_perc)\n",
    "        ax2.set_xticklabels(ax2.get_xticklabels(), rotation=90)\n",
    "        \n",
    "        \n",
    "        plt.tick_params(axis='both', which='major', labelsize=10)\n",
    "        plt.show()"
   ]
  },
  {
   "cell_type": "code",
   "execution_count": 19,
   "id": "297578fc",
   "metadata": {},
   "outputs": [],
   "source": [
    "important_features=['CODE_GENDER','NAME_EDUCATION_TYPE','NAME_FAMILY_STATUS','OCCUPATION_TYPE',\n",
    "'ORGANIZATION_TYPE']"
   ]
  },
  {
   "cell_type": "code",
   "execution_count": 20,
   "id": "d47ab135",
   "metadata": {},
   "outputs": [
    {
     "data": {
      "image/png": "[encoded data removed]",
      "text/plain": [
       "<Figure size 864x432 with 2 Axes>"
      ]
     },
     "metadata": {
      "needs_background": "light"
     },
     "output_type": "display_data"
    },
    {
     "data": {
      "image/png": "[encoded data removed]",
      "text/plain": [
       "<Figure size 864x432 with 2 Axes>"
      ]
     },
     "metadata": {
      "needs_background": "light"
     },
     "output_type": "display_data"
    },
    {
     "data": {
      "image/png": "[encoded data removed]",
      "text/plain": [
       "<Figure size 864x432 with 2 Axes>"
      ]
     },
     "metadata": {
      "needs_background": "light"
     },
     "output_type": "display_data"
    },
    {
     "data": {
      "image/png": "[encoded data removed]",
      "text/plain": [
       "<Figure size 864x432 with 2 Axes>"
      ]
     },
     "metadata": {
      "needs_background": "light"
     },
     "output_type": "display_data"
    },
    {
     "data": {
      "image/png": "[encoded data removed]",
      "text/plain": [
       "<Figure size 864x432 with 2 Axes>"
      ]
     },
     "metadata": {
      "needs_background": "light"
     },
     "output_type": "display_data"
    }
   ],
   "source": [
    "cat_stats(application_train,important_features)\n"
   ]
  },
  {
   "cell_type": "markdown",
   "id": "8fcdbdf4",
   "metadata": {},
   "source": [
    "for the first question, it seems that women are less defaulted than men and they are more repayable than men.So as a recommandation to the bank is to improve the procedure of repayment of loans given to men.\n",
    "\n",
    "for the second question, poeple with a low education level shows the most defaulters ,in the first place people with less than secondary school. Also people with a hight education level are less prone to default. This feature show a significative difference of the distributions of defaulter and non defaulter so it will be helpfull for the modeling task.\n",
    "\n",
    "for the third question, widow category are the least defaulder and the civil marriage category are the most defaulter category ,and this can be explained with the high amout of expences for families so they maight face problems in paying their annuity.\n",
    "\n",
    "for the forth question ,the most likely category that defaults is the low labores and the less category to default is accountant ,this is very logic .Another finding from this plot is that the all categories have uniform destribution in the non defaulter set ."
   ]
  },
  {
   "cell_type": "code",
   "execution_count": null,
   "id": "b1b37f16",
   "metadata": {},
   "outputs": [],
   "source": []
  },
  {
   "cell_type": "code",
   "execution_count": 21,
   "id": "b6525e3d",
   "metadata": {},
   "outputs": [],
   "source": [
    "# Perform chi-squared test\n",
    "def chi2_test(df):\n",
    "    chi2_stat_list=[]; p_val_list=[]; dof_list=[]; ex_list=[]\n",
    "    for var in df.columns:\n",
    "        chi2_stat, p_val, dof, ex = stats.chi2_contingency(pd.crosstab(application_train['TARGET'], application_train[var]))\n",
    "        chi2_stat_list.append(chi2_stat); p_val_list.append(p_val); dof_list.append(dof); ex_list.append(ex);\n",
    "    chi_squared=pd.DataFrame({'variable':df.columns,'dof':dof_list,'chi2_stat':chi2_stat_list,'p_val':p_val_list})\n",
    "    chi_squared.set_index('variable',inplace=True)\n",
    "    print(chi_squared.sort_values(by='p_val',ascending=True))"
   ]
  },
  {
   "cell_type": "code",
   "execution_count": 22,
   "id": "78949bf3",
   "metadata": {
    "scrolled": true
   },
   "outputs": [
    {
     "name": "stdout",
     "output_type": "stream",
     "text": [
      "                            dof    chi2_stat          p_val\n",
      "variable                                                   \n",
      "OCCUPATION_TYPE              18  1975.082752   0.000000e+00\n",
      "ORGANIZATION_TYPE            57  1609.240636  5.224541e-299\n",
      "NAME_INCOME_TYPE              7  1253.470808  1.928146e-266\n",
      "NAME_EDUCATION_TYPE           4  1019.213187  2.447681e-219\n",
      "CODE_GENDER                   2   920.791334  1.129022e-200\n",
      "WALLSMATERIAL_MODE            7   599.041379  3.916842e-125\n",
      "EMERGENCYSTATE_MODE           2   547.975997  1.019821e-119\n",
      "HOUSETYPE_MODE                3   509.405086  4.369310e-110\n",
      "NAME_FAMILY_STATUS            5   504.694083  7.744842e-107\n",
      "NAME_HOUSING_TYPE             5   420.556190   1.099089e-88\n",
      "NAME_CONTRACT_TYPE            1   293.150542   1.023515e-65\n",
      "FONDKAPREMONT_MODE            4   281.716375   9.504317e-60\n",
      "FLAG_OWN_CAR                  1   146.656018   9.330994e-34\n",
      "NAME_TYPE_SUITE               7    45.190054   1.256203e-07\n",
      "FLAG_OWN_REALTY               1    11.575827   6.681470e-04\n",
      "WEEKDAY_APPR_PROCESS_START    6    15.387557   1.744737e-02\n",
      "CREATED_BY                    0     0.000000   1.000000e+00\n"
     ]
    }
   ],
   "source": [
    "chi2_test(application_train.select_dtypes('O'))\n"
   ]
  },
  {
   "cell_type": "markdown",
   "id": "6193eef7",
   "metadata": {},
   "source": [
    "the features that we assumed to be important are the same the most significative one .This garante our approach and strategy.\n",
    "\n",
    "More than inatial ones ,features such as NAME_HOUSING_TYPE, FLAG_OWN_CAR , NAME_CONTRACT_TYPE tends to be significatif and helpful."
   ]
  },
  {
   "cell_type": "code",
   "execution_count": 23,
   "id": "803af69c",
   "metadata": {},
   "outputs": [],
   "source": [
    "application_train.drop(['SK_ID_CURR','CREATED_BY','CREATED_AT'],inplace=True,axis=1)\n",
    "SK_ID_CURR=application_test['SK_ID_CURR']\n",
    "application_test.drop(['SK_ID_CURR','CREATED_BY','CREATED_AT'],inplace=True,axis=1)\n",
    "application_train['DAYS_EMPLOYED'].replace(365243,np.nan,inplace=True)\n",
    "application_test['DAYS_EMPLOYED'].replace(365243,np.nan,inplace=True)\n",
    "application_train['CODE_GENDER'].replace('XNA',np.nan,inplace=True)\n",
    "application_test['CODE_GENDER'].replace('XNA',np.nan,inplace=True)"
   ]
  },
  {
   "cell_type": "markdown",
   "id": "4d615775",
   "metadata": {},
   "source": [
    "Aggregating the 20 flag document features into a single feature by summing the number of flag documents per applicant can be a useful approach. By creating a new aggregated feature, we can capture the overall count or presence of flag documents for each applicant and reduce sparsity of the data, which may provide valuable information for the analysis or modeling task."
   ]
  },
  {
   "cell_type": "code",
   "execution_count": 24,
   "id": "8de55b6e",
   "metadata": {},
   "outputs": [],
   "source": [
    "FLAG_DOCUMENT=['FLAG_DOCUMENT_2',\n",
    "'FLAG_DOCUMENT_3', 'FLAG_DOCUMENT_4', 'FLAG_DOCUMENT_5',\n",
    "'FLAG_DOCUMENT_6', 'FLAG_DOCUMENT_7', 'FLAG_DOCUMENT_8',\n",
    "'FLAG_DOCUMENT_9', 'FLAG_DOCUMENT_10', 'FLAG_DOCUMENT_11',\n",
    "'FLAG_DOCUMENT_12', 'FLAG_DOCUMENT_13', 'FLAG_DOCUMENT_14',\n",
    "'FLAG_DOCUMENT_15', 'FLAG_DOCUMENT_16', 'FLAG_DOCUMENT_17',\n",
    "'FLAG_DOCUMENT_18', 'FLAG_DOCUMENT_19', 'FLAG_DOCUMENT_20',\n",
    "'FLAG_DOCUMENT_21']\n",
    "application_train['FLAG_DOCUMENT']=application_train[FLAG_DOCUMENT].sum(axis=1)\n",
    "application_test['FLAG_DOCUMENT']=application_test[FLAG_DOCUMENT].sum(axis=1)\n",
    "application_train.drop(FLAG_DOCUMENT,axis=1,inplace=True)\n",
    "application_test.drop(FLAG_DOCUMENT,axis=1,inplace=True)"
   ]
  },
  {
   "cell_type": "markdown",
   "id": "faaf4489",
   "metadata": {},
   "source": [
    "we should drop the AMT_REQ_CREDIT features because of they have no impact to the target and this may cause model missleading."
   ]
  },
  {
   "cell_type": "code",
   "execution_count": 25,
   "id": "00c1abd5",
   "metadata": {},
   "outputs": [],
   "source": [
    "AMT_REQ_CREDIT=['AMT_REQ_CREDIT_BUREAU_HOUR','AMT_REQ_CREDIT_BUREAU_DAY',\n",
    "                'AMT_REQ_CREDIT_BUREAU_WEEK','AMT_REQ_CREDIT_BUREAU_MON', 'AMT_REQ_CREDIT_BUREAU_QRT']\n",
    "application_train.drop(AMT_REQ_CREDIT,axis=1,inplace=True)\n",
    "application_test.drop(AMT_REQ_CREDIT,axis=1,inplace=True)"
   ]
  },
  {
   "cell_type": "markdown",
   "id": "2b550471",
   "metadata": {},
   "source": [
    "Two new features, AGE and YEARS_EMPLOYED, were created to provide additional information about the applicants' age and years of employment, respectively.\n",
    "also DEBT_TO_INCOME_RATIO: This feature calculates the debt-to-income ratio by dividing the applicant's total credit amount by their total income."
   ]
  },
  {
   "cell_type": "code",
   "execution_count": 26,
   "id": "714583f6",
   "metadata": {},
   "outputs": [],
   "source": [
    "# Age Feature\n",
    "application_train['AGE']=application_train['DAYS_BIRTH']/(-365)\n",
    "application_test['AGE']=application_test['DAYS_BIRTH']/(-365)\n",
    "# MEAN_EXT_SOURCE\n",
    "application_train['MEAN_EXT_SOURCE'] = application_train[['EXT_SOURCE_1', 'EXT_SOURCE_2', 'EXT_SOURCE_3']].mean(axis=1)\n",
    "application_test['MEAN_EXT_SOURCE'] = application_test[['EXT_SOURCE_1', 'EXT_SOURCE_2', 'EXT_SOURCE_3']].mean(axis=1)\n",
    "# Generate YEARS_EMPLOYED\n",
    "application_train['YEARS_EMPLOYED']=application_train['DAYS_EMPLOYED']/(-365)\n",
    "application_test['YEARS_EMPLOYED']=application_test['DAYS_EMPLOYED']/(-365)\n",
    "# DAYS_BIRTH_SQUARED\n",
    "application_train['DAYS_BIRTH_SQUARED'] = application_train['DAYS_BIRTH'] ** 2\n",
    "application_test['DAYS_BIRTH_SQUARED'] = application_test['DAYS_BIRTH'] ** 2\n",
    "# Generate DEBT_TO_INCOME_RATIO \n",
    "application_train['DEBT_TO_INCOME_RATIO'] = application_train['AMT_CREDIT'] / application_train['AMT_INCOME_TOTAL']\n",
    "application_test['DEBT_TO_INCOME_RATIO'] = application_test['AMT_CREDIT'] / application_test['AMT_INCOME_TOTAL']\n",
    "# Generate INCOME_TO_CREDIT \n",
    "application_train['INCOME_TO_CREDIT'] = application_train['AMT_INCOME_TOTAL'] / application_train['AMT_CREDIT']\n",
    "application_test['INCOME_TO_CREDIT'] = application_test['AMT_INCOME_TOTAL'] / application_test['AMT_CREDIT']\n"
   ]
  },
  {
   "cell_type": "code",
   "execution_count": 27,
   "id": "d46bc33a",
   "metadata": {},
   "outputs": [],
   "source": [
    "new_numeric_features=['AGE','YEARS_EMPLOYED','DEBT_TO_INCOME_RATIO','INCOME_TO_CREDIT','DAYS_BIRTH_SQUARED']"
   ]
  },
  {
   "cell_type": "code",
   "execution_count": 28,
   "id": "41180142",
   "metadata": {},
   "outputs": [
    {
     "data": {
      "text/html": [
       "<div>\n",
       "<style scoped>\n",
       "    .dataframe tbody tr th:only-of-type {\n",
       "        vertical-align: middle;\n",
       "    }\n",
       "\n",
       "    .dataframe tbody tr th {\n",
       "        vertical-align: top;\n",
       "    }\n",
       "\n",
       "    .dataframe thead th {\n",
       "        text-align: right;\n",
       "    }\n",
       "</style>\n",
       "<table border=\"1\" class=\"dataframe\">\n",
       "  <thead>\n",
       "    <tr style=\"text-align: right;\">\n",
       "      <th></th>\n",
       "      <th>variable</th>\n",
       "      <th>t_stat</th>\n",
       "      <th>p_val</th>\n",
       "    </tr>\n",
       "  </thead>\n",
       "  <tbody>\n",
       "    <tr>\n",
       "      <th>0</th>\n",
       "      <td>AGE</td>\n",
       "      <td>43.519836</td>\n",
       "      <td>0.000000</td>\n",
       "    </tr>\n",
       "    <tr>\n",
       "      <th>1</th>\n",
       "      <td>DEBT_TO_INCOME_RATIO</td>\n",
       "      <td>4.284907</td>\n",
       "      <td>0.000018</td>\n",
       "    </tr>\n",
       "  </tbody>\n",
       "</table>\n",
       "</div>"
      ],
      "text/plain": [
       "               variable     t_stat     p_val\n",
       "0                   AGE  43.519836  0.000000\n",
       "1  DEBT_TO_INCOME_RATIO   4.284907  0.000018"
      ]
     },
     "execution_count": 28,
     "metadata": {},
     "output_type": "execute_result"
    }
   ],
   "source": [
    "t_test(application_train[new_numeric_features])"
   ]
  },
  {
   "cell_type": "markdown",
   "id": "976f803e",
   "metadata": {},
   "source": [
    "additional feature engineering was performed on both datasets. The following features were created based on patterns and analysis from EDA phase :\n",
    "\n",
    "_INCOME_CLASS: This feature categorizes the AMT_INCOME_TOTAL into three income classes: 'Low_INCOME', 'Medium_INCOME', and 'High_INCOME'.\n",
    "\n",
    "ANNUITY_CLASS: This feature divides the AMT_ANNUITY into three annuity classes: 'Low_ANNUITY', 'Medium_ANNUITY', and 'High_ANNUITY'.\n",
    "\n",
    "AMT_GOODS_PRICE_0.2_0.7: This binary feature indicates whether the AMT_GOODS_PRICE falls within the range of 20000 and 70000.\n",
    "\n",
    "DAYS_BIRTH_CLASS: This binary feature flags applicants with a DAYS_BIRTH value less than -15000, indicating older individuals.\n",
    "\n",
    "CREDIT_UNDER_100K: This binary feature identifies applicants with an AMT_CREDIT value below 100,000.\n",
    "\n",
    "YEARS_EMPLOYED_CLASS: This binary feature categorizes applicants based on their DAYS_EMPLOYED value, considering values less than 100,000."
   ]
  },
  {
   "cell_type": "code",
   "execution_count": 29,
   "id": "5c6cf7a1",
   "metadata": {},
   "outputs": [],
   "source": [
    "application_train['_INCOME_CLASS']=pd.qcut(application_train['AMT_INCOME_TOTAL'],3,labels=['Low_INCOME', 'Medium_INCOME', 'High_INCOME'])\n",
    "application_train['ANNUITY_CLASS']=pd.qcut(application_train['AMT_ANNUITY'],3,labels=['Low_ANNUITY', 'Medium_ANNUITY', 'High_ANNUITY'])\n",
    "application_train['AMT_GOODS_PRICE_0.2_0.7']=np.where((application_train['AMT_GOODS_PRICE']<= 70000) & (application_train['AMT_GOODS_PRICE']>=20000) ,1,0)\n",
    "application_train['DAYS_BIRTH_CLASS']=np.where(application_train['DAYS_BIRTH']<-15000,1,0)\n",
    "application_train['CREDIT_UNDER_100K']=np.where(application_train['AMT_CREDIT']<100000,1,0)\n",
    "application_train['YEARS_EMPLOYED_CLASS']=np.where(application_train['DAYS_EMPLOYED']<100000,1,0)\n",
    "\n",
    "application_test['_INCOME_CLASS']=pd.qcut(application_test['AMT_INCOME_TOTAL'],3,labels=['Low_INCOME', 'Medium_INCOME', 'High_INCOME'])\n",
    "application_test['ANNUITY_CLASS']=pd.qcut(application_test['AMT_ANNUITY'],3,labels=['Low_ANNUITY', 'Medium_ANNUITY', 'High_ANNUITY'])\n",
    "application_test['AMT_GOODS_PRICE_0.2_0.7']=np.where((application_test['AMT_GOODS_PRICE']<= 7000) & (application_test['AMT_GOODS_PRICE']>=2000) ,1,0)\n",
    "application_test['DAYS_BIRTH_CLASS']=np.where(application_test['DAYS_BIRTH']<-15000,1,0)\n",
    "application_test['CREDIT_UNDER_100K']=np.where(application_test['AMT_CREDIT']<100000,1,0)\n",
    "application_test['YEARS_EMPLOYED_CLASS']=np.where(application_test['DAYS_EMPLOYED']<100000,1,0)"
   ]
  },
  {
   "cell_type": "code",
   "execution_count": 30,
   "id": "771b2ebc",
   "metadata": {},
   "outputs": [],
   "source": [
    "new_categorical_features = ['_INCOME_CLASS','YEARS_EMPLOYED_CLASS','ANNUITY_CLASS',\n",
    "                            'AMT_GOODS_PRICE_0.2_0.7','DAYS_BIRTH_CLASS','CREDIT_UNDER_100K']"
   ]
  },
  {
   "cell_type": "markdown",
   "id": "f1ffa1f5",
   "metadata": {},
   "source": [
    "Let's test the statistical significance of the relationship between the new categorical features and the target variable, providing insights into their potential importance in predicting the target variable of interest"
   ]
  },
  {
   "cell_type": "code",
   "execution_count": 31,
   "id": "86c880f9",
   "metadata": {},
   "outputs": [
    {
     "name": "stdout",
     "output_type": "stream",
     "text": [
      "                         dof    chi2_stat          p_val\n",
      "variable                                                \n",
      "DAYS_BIRTH_CLASS           1  1344.950176  1.927723e-294\n",
      "YEARS_EMPLOYED_CLASS       1   649.888509  2.362427e-143\n",
      "ANNUITY_CLASS              2   157.760399   5.530502e-35\n",
      "_INCOME_CLASS              2   152.501899   7.667140e-34\n",
      "CREDIT_UNDER_100K          1    53.721017   2.310781e-13\n",
      "AMT_GOODS_PRICE_0.2_0.7    1    34.102392   5.228696e-09\n"
     ]
    }
   ],
   "source": [
    "chi2_test(application_train[new_categorical_features])"
   ]
  },
  {
   "cell_type": "markdown",
   "id": "0ebbcd80",
   "metadata": {},
   "source": [
    "Based on the chi-squared test conducted on the new categorical features, the results indicate that several of these features exhibit a significant association with the target variable. The DAYS_BIRTH_CLASS, ANNUITY_CLASS, _INCOME_CLASS,AMT_GOODS_PRICE_0.2_0.7 and CREDIT_UNDER_100K features show statistically significant relationships with the target variable, as evidenced by their low p-values. This suggests that these features may be informative in predicting the target variable and can potentially be valuable in the modeling process."
   ]
  },
  {
   "cell_type": "code",
   "execution_count": 32,
   "id": "4e55d769",
   "metadata": {},
   "outputs": [
    {
     "data": {
      "text/plain": [
       "Index(['OWN_CAR_AGE', 'YEARS_BUILD_AVG', 'COMMONAREA_AVG', 'FLOORSMIN_AVG',\n",
       "       'LIVINGAPARTMENTS_AVG', 'NONLIVINGAPARTMENTS_AVG', 'YEARS_BUILD_MODE',\n",
       "       'COMMONAREA_MODE', 'FLOORSMIN_MODE', 'LIVINGAPARTMENTS_MODE',\n",
       "       'NONLIVINGAPARTMENTS_MODE', 'YEARS_BUILD_MEDI', 'COMMONAREA_MEDI',\n",
       "       'FLOORSMIN_MEDI', 'LIVINGAPARTMENTS_MEDI', 'NONLIVINGAPARTMENTS_MEDI'],\n",
       "      dtype='object')"
      ]
     },
     "execution_count": 32,
     "metadata": {},
     "output_type": "execute_result"
    }
   ],
   "source": [
    "# Detect highly missing numeric features \n",
    "application_train_numeric= application_train.select_dtypes(include=['number'])\n",
    "missings=application_train_numeric.loc[:,application_train_numeric.isna().mean() >= 0.6]\n",
    "highly_missing_features = missings.columns\n",
    "missings.columns"
   ]
  },
  {
   "cell_type": "code",
   "execution_count": 33,
   "id": "f245e414",
   "metadata": {},
   "outputs": [],
   "source": [
    "#Remove highly missing features\n",
    "application_train.drop(highly_missing_features,axis=1,inplace=True)\n",
    "application_test.drop(highly_missing_features,axis=1,inplace=True)"
   ]
  },
  {
   "cell_type": "code",
   "execution_count": 34,
   "id": "9b2bc1c5",
   "metadata": {},
   "outputs": [],
   "source": [
    "target = application_train['TARGET']\n",
    "features_train = application_train.drop('TARGET', axis=1)\n",
    "\n",
    "# Impute numerical features using mean imputation\n",
    "numeric_imputer = SimpleImputer(strategy='median')\n",
    "numeric_features_train = features_train.select_dtypes(include='number')\n",
    "imputed_numeric_features_train = numeric_imputer.fit_transform(numeric_features_train)\n",
    "numeric_features_test = application_test.select_dtypes(include='number')\n",
    "imputed_numeric_features_test = numeric_imputer.transform(numeric_features_test)"
   ]
  },
  {
   "cell_type": "code",
   "execution_count": 35,
   "id": "35a1f447",
   "metadata": {},
   "outputs": [],
   "source": [
    "categorical_features_train = features_train.select_dtypes(include='object')\n",
    "# using dummy_na=False ,we perform onehot encoding without affecting data distribution\n",
    "dummy_categorical_features_train = pd.get_dummies(categorical_features_train,dummy_na=False)\n",
    "\n",
    "# Concatenate imputed numerical and categorical features Train\n",
    "imputed_features_train = pd.concat([pd.DataFrame(imputed_numeric_features_train, columns=numeric_features_train.columns),\n",
    "                              dummy_categorical_features_train] ,axis=1)\n",
    "\n",
    "# Impute categorical features Test using mode imputation and one-hot encoding\n",
    "\n",
    "categorical_features_test = application_test.select_dtypes(include='object')\n",
    "dummy_categorical_features_test = pd.get_dummies(categorical_features_test,dummy_na=False)\n",
    "\n",
    "# Concatenate imputed numerical and categorical features\n",
    "imputed_features_test = pd.concat([pd.DataFrame(imputed_numeric_features_test, columns=numeric_features_test.columns),\n",
    "                              dummy_categorical_features_test],\n",
    "                             axis=1)\n"
   ]
  },
  {
   "cell_type": "code",
   "execution_count": 36,
   "id": "43003c94",
   "metadata": {},
   "outputs": [],
   "source": [
    "imputed_features_train.drop('NAME_INCOME_TYPE_Maternity leave',axis=1,inplace=True)\n",
    "imputed_features_train.drop('NAME_FAMILY_STATUS_Unknown',axis=1,inplace=True)"
   ]
  },
  {
   "cell_type": "code",
   "execution_count": 37,
   "id": "a252f56b",
   "metadata": {},
   "outputs": [],
   "source": [
    "X=imputed_features_train.copy()\n",
    "y=target\n",
    "#splitting data to train and test sets\n",
    "X_train, X_test, y_train, y_test = train_test_split(X, y,stratify=y, test_size=0.25, random_state=27)"
   ]
  },
  {
   "cell_type": "code",
   "execution_count": 38,
   "id": "a1cbf272",
   "metadata": {},
   "outputs": [],
   "source": [
    "# Define class weights\n",
    "class_weights = {0: 1, 1: 9}\n",
    "\n",
    "simple_estimators = {'Logistic Regression':LogisticRegression(),\n",
    "                     'Decision Tree':DecisionTreeClassifier(),\n",
    "                     'Linear Discriminant Analysys': LinearDiscriminantAnalysis()}"
   ]
  },
  {
   "cell_type": "code",
   "execution_count": 41,
   "id": "a251d894",
   "metadata": {},
   "outputs": [],
   "source": [
    "def training_simple_models(estimators):\n",
    "    for name, model in estimators.items():\n",
    "        print(\"Running \" + name)\n",
    "\n",
    "        # Apply SMOTE oversampling to the training data\n",
    "        #smote = SMOTE()\n",
    "        #X_train_smt, y_train_smt = smote.fit_resample(X_train, y_train)\n",
    "        X_train_smt, y_train_smt = X_train, y_train\n",
    "        # Scaling data\n",
    "        scaler = MinMaxScaler()\n",
    "        X_train_scaled= scaler.fit_transform(X_train_smt)\n",
    "        X_test_scaled=scaler.transform(X_test)\n",
    "        \n",
    "        # Perform Recursive Feature Elimination (RFE)\n",
    "        selector = RFE(estimator=model)\n",
    "        X_train_selected = selector.fit_transform(X_train_scaled, y_train_smt)\n",
    "        X_test_selected = selector.transform(X_test_scaled)\n",
    "        \n",
    "        # Train the model on the selected features\n",
    "        model.fit(X_train_selected, y_train_smt)\n",
    "        \n",
    "        # Make predictions on the test data\n",
    "        y_pred = model.predict_proba(X_test_selected)[:, 1]\n",
    "        \n",
    "        # Calculate and print the ROC AUC score\n",
    "        roc_auc = roc_auc_score(y_test, y_pred)\n",
    "        print(\"roc_auc:\", roc_auc)\n",
    "        print('*' * 20)"
   ]
  },
  {
   "cell_type": "code",
   "execution_count": null,
   "id": "52d4b5a7",
   "metadata": {},
   "outputs": [
    {
     "name": "stdout",
     "output_type": "stream",
     "text": [
      "Running Logistic Regression\n"
     ]
    }
   ],
   "source": [
    "training_simple_models(simple_estimators)"
   ]
  },
  {
   "cell_type": "code",
   "execution_count": null,
   "id": "dda768ed",
   "metadata": {},
   "outputs": [],
   "source": [
    "# Create an instance of the GradientBoostingClassifier class\n",
    "clf = GradientBoostingClassifier(n_estimators=100, subsample=0.2, random_state=42, verbose = 1)\n",
    "\n",
    "# Fit the model to the training data\n",
    "clf.fit(X_train, y_train)\n",
    "\n",
    "# Make predictions on the test data\n",
    "y_pred = clf.predict_proba(X_test)[:,1]\n",
    "roc_GBC=roc_auc_score(y_test,y_pred)\n",
    "print(roc_GBC)"
   ]
  },
  {
   "cell_type": "code",
   "execution_count": null,
   "id": "0dbc3dfa",
   "metadata": {},
   "outputs": [],
   "source": [
    "# Running Xgboost\n",
    "# Define class weights\n",
    "class_weights = {0: 1, 1: 9}\n",
    "\n",
    "# Create an instance of the XGBClassifier class\n",
    "xgb = XGBClassifier(n_estimators=100, subsample=0.4, random_state=1, scale_pos_weight=class_weights[1]/class_weights[0])\n",
    "\n",
    "# Fit the model to the training data\n",
    "xgb.fit(X_train, y_train)\n",
    "\n",
    "# Make predictions on the test data\n",
    "y_pred = xgb.predict_proba(X_test)[:,1]\n",
    "roc_xgb=roc_auc_score(y_test,y_pred)\n",
    "print(roc_xgb)"
   ]
  },
  {
   "cell_type": "code",
   "execution_count": null,
   "id": "89a0d748",
   "metadata": {},
   "outputs": [],
   "source": [
    "# Running Random Forest \n",
    "rfc_100 = RandomForestClassifier(n_estimators=100, random_state=0)\n",
    "rfc_100.fit(X_train, y_train)\n",
    "y_pred_100 = rfc_100.predict_proba(X_test)[:,1]\n",
    "print('Model auc score with 100 decision-trees : {0:0.4f}'. format(roc_auc_score(y_test, y_pred_100)))"
   ]
  },
  {
   "cell_type": "code",
   "execution_count": null,
   "id": "b1d8085a",
   "metadata": {},
   "outputs": [],
   "source": [
    "# Tuning Gradient Boosting Classifier\n",
    "\n",
    "param_dist = {\n",
    "    'n_estimators': [50, 100, 200, 400],\n",
    "    'max_depth': [10, 20, 30, 40, 50, 60],\n",
    "    'min_samples_split': [5,10, 20, 30],\n",
    "    'min_samples_leaf':[10, 20, 30, 40, 50, 60],\n",
    "    'max_features': ['sqrt', 'log2', None],\n",
    "    'subsample': [0.8, 0.9, 1.0],\n",
    "    'learning_rate': [0.1, 0.01, 0.001]\n",
    "}\n",
    "\n",
    "cv = RepeatedStratifiedKFold(n_splits=5, n_repeats=1, random_state=1)\n",
    "gbc = RandomizedSearchCV(GradientBoostingClassifier(),\n",
    "                            param_distributions=param_dist,\n",
    "                            n_iter=10,\n",
    "                            cv=cv,\n",
    "                            scoring='roc_auc',\n",
    "                            random_state=1,\n",
    "                            verbose=True,\n",
    "                            n_jobs=cpu_count())\n",
    "\n",
    "# Handle class imbalance by setting sample weights\n",
    "sample_weights = [1 if label == 0 else 9 for label in y_train]\n",
    "\n",
    "gbc.fit(X_train, y_train, sample_weight=sample_weights)"
   ]
  },
  {
   "cell_type": "code",
   "execution_count": null,
   "id": "cdd85a01",
   "metadata": {},
   "outputs": [],
   "source": [
    "best_gbc\n",
    "print(\"Best parameter (CV score=%0.3f):\" % gbc.best_score_)\n",
    "print(gbc.best_params_)"
   ]
  },
  {
   "cell_type": "code",
   "execution_count": null,
   "id": "ad506ccb",
   "metadata": {},
   "outputs": [],
   "source": [
    "def roc_curve__confusion_matrix(model):\n",
    "    from sklearn.metrics import roc_curve, auc\n",
    "    y_prob_test = model.predict_proba(X_test)[:, 1]\n",
    "    y_prob_train  = model.predict_proba(X_train)[:, 1]\n",
    "    prediction=model.predict(X_test)\n",
    "    # calculate tpr ,fpr\n",
    "    fpr_test , tpr_test , thresholds = roc_curve(y_test, y_prob_test)\n",
    "    fpr_train , tpr_train , thresholds1 = roc_curve(y_train, y_prob_train)\n",
    "\n",
    "    # calculate AUC score\n",
    "    roc_auc_test  = auc(fpr_test, tpr_test)\n",
    "    roc_auc_train  = auc(fpr_train ,tpr_train)\n",
    "\n",
    "\n",
    "    # calculate confusion matrix for test set\n",
    "    confusion_matrix_test = confusion_matrix(y_test, prediction)\n",
    "\n",
    "    # create subplots\n",
    "    fig, axs = plt.subplots(1, 2, figsize=(12, 6))\n",
    "\n",
    "    # plot ROC curves on the first subplot\n",
    "    axs[0].plot(fpr_train, tpr_train, color='green', label='ROC curve train (AUC = %0.2f)' % roc_auc_train)\n",
    "    axs[0].plot(fpr_test, tpr_test, color='blue', label='ROC curve test (AUC = %0.2f)' % roc_auc_test)\n",
    "    axs[0].plot([0, 1], [0, 1], color='red', linestyle='--')\n",
    "    axs[0].set_xlabel('False Positive Rate')\n",
    "    axs[0].set_ylabel('True Positive Rate')\n",
    "    axs[0].set_title('Receiver Operating Characteristic (ROC) Curve')\n",
    "    axs[0].legend(loc=\"lower right\")\n",
    "\n",
    "    sns.set(font_scale=1.4)\n",
    "    sns.heatmap(confusion_matrix_test, annot=True, fmt='g', cmap='Blues', ax=axs[1])\n",
    "    axs[1].set_xlabel('Predicted label')\n",
    "    axs[1].set_ylabel('True label')\n",
    "    axs[1].set_title('Confusion Matrix (Test Set)model');\n",
    "\n",
    "    plt.tight_layout()\n",
    "    plt.show()"
   ]
  },
  {
   "cell_type": "code",
   "execution_count": null,
   "id": "9e4585ad",
   "metadata": {},
   "outputs": [],
   "source": [
    "roc_curve__confusion_matrix(best_LR)"
   ]
  },
  {
   "cell_type": "code",
   "execution_count": null,
   "id": "b6cdbefe",
   "metadata": {},
   "outputs": [],
   "source": [
    "roc_curve__confusion_matrix(best_gbc)"
   ]
  },
  {
   "cell_type": "code",
   "execution_count": null,
   "id": "3ab4793b",
   "metadata": {},
   "outputs": [],
   "source": [
    "def feature_importance(model):  \n",
    "    \n",
    "    # Extract features importance from model\n",
    "    importances = model.feature_importances_\n",
    "    sorted_idx = importances.argsort()[::-1]\n",
    "    feature_scores = pd.Series(importances, index=X_train.columns).sort_values(ascending=False)\n",
    "    important_features=feature_scores[:10]\n",
    "    \n",
    "    # Creating a seaborn bar plot for features importance\n",
    "    f, ax = plt.subplots(figsize=(30, 24))\n",
    "    ax = sns.barplot(x=feature_scores, y=feature_scores.index, data=feature_scores)\n",
    "    ax.set_title(\"Visualize feature scores of the features\")\n",
    "    ax.set_xticklabels(ax.get_xticklabels(), rotation=90)\n",
    "    ax.set_yticklabels(feature_scores.index)\n",
    "    ax.set_xlabel(\"Feature importance score\")\n",
    "    ax.set_ylabel(\"Features\")\n",
    "    plt.show()\n",
    "    print(important_features)"
   ]
  },
  {
   "cell_type": "code",
   "execution_count": null,
   "id": "82900a4d",
   "metadata": {},
   "outputs": [],
   "source": [
    "feature_importance(best_gbc)"
   ]
  },
  {
   "cell_type": "code",
   "execution_count": null,
   "id": "81353a0b",
   "metadata": {},
   "outputs": [],
   "source": [
    "# Make a submission for Logistic Regression\n",
    "submit = application_test[['SK_ID_CURR']]\n",
    "submit['TARGET'] = best_LR.predict_proba(imputed_features_test)[:,1]\n",
    "submit.to_csv('submission_LR.csv', index = False)"
   ]
  },
  {
   "cell_type": "code",
   "execution_count": null,
   "id": "025dcd73",
   "metadata": {},
   "outputs": [],
   "source": []
  },
  {
   "cell_type": "code",
   "execution_count": null,
   "id": "d37cc5e7",
   "metadata": {},
   "outputs": [],
   "source": []
  }
 ],
 "metadata": {
  "kernelspec": {
   "display_name": "Python 3",
   "language": "python",
   "name": "python3"
  },
  "language_info": {
   "codemirror_mode": {
    "name": "ipython",
    "version": 3
   },
   "file_extension": ".py",
   "mimetype": "text/x-python",
   "name": "python",
   "nbconvert_exporter": "python",
   "pygments_lexer": "ipython3",
   "version": "3.8.18"
  }
 },
 "nbformat": 4,
 "nbformat_minor": 5
}
