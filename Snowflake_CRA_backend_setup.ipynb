{
 "cells": [
  {
   "cell_type": "markdown",
   "id": "632503b3",
   "metadata": {},
   "source": [
    "# Use Credit Risk Analytics"
   ]
  },
  {
   "cell_type": "markdown",
   "id": "5b2b84af",
   "metadata": {},
   "source": [
    "## Import Snowpark Pandas for dumping csv to Snowflake table"
   ]
  },
  {
   "cell_type": "code",
   "execution_count": 2,
   "id": "5575101f",
   "metadata": {
    "scrolled": true
   },
   "outputs": [],
   "source": [
    "#!pip install \"snowflake-connector-python[pandas]\""
   ]
  },
  {
   "cell_type": "code",
   "execution_count": 1,
   "id": "6ac4e036",
   "metadata": {},
   "outputs": [],
   "source": [
    "from snowflake.snowpark.session import Session\n",
    "import pandas as pd\n",
    "import subprocess"
   ]
  },
  {
   "cell_type": "markdown",
   "id": "a467fcee",
   "metadata": {},
   "source": [
    "# Code to read Credit Risk Analytics local files and dump the same into Snowflake"
   ]
  },
  {
   "cell_type": "code",
   "execution_count": 3,
   "id": "c0e92f31",
   "metadata": {},
   "outputs": [],
   "source": [
    "df_install = pd.read_csv(\"/data/installments_payments.csv\")"
   ]
  },
  {
   "cell_type": "code",
   "execution_count": 4,
   "id": "1b2b1acb",
   "metadata": {},
   "outputs": [],
   "source": [
    "df_cc_balance = pd.read_csv(\"/data/credit_card_balance.csv\")"
   ]
  },
  {
   "cell_type": "code",
   "execution_count": 6,
   "id": "78156811",
   "metadata": {},
   "outputs": [],
   "source": [
    "df_prev_app = pd.read_csv(\"/data/previous_application.csv\")"
   ]
  },
  {
   "cell_type": "code",
   "execution_count": 7,
   "id": "0528a7ab",
   "metadata": {},
   "outputs": [],
   "source": [
    "df_bureau_bal = pd.read_csv(\"/data/bureau_balance.csv\")"
   ]
  },
  {
   "cell_type": "code",
   "execution_count": 8,
   "id": "dbd785f2",
   "metadata": {},
   "outputs": [],
   "source": [
    "df_bureau = pd.read_csv(\"/data/bureau.csv\")"
   ]
  },
  {
   "cell_type": "code",
   "execution_count": 9,
   "id": "3b0034a0",
   "metadata": {},
   "outputs": [],
   "source": [
    "df_POS_CASH = pd.read_csv(\"/data/POS_CASH_balance.csv\")"
   ]
  },
  {
   "cell_type": "code",
   "execution_count": 10,
   "id": "36b5208b",
   "metadata": {},
   "outputs": [
    {
     "name": "stdout",
     "output_type": "stream",
     "text": [
      "installments_payments  (13605401, 8)\n",
      "credit_card_balance  (3840312, 23)\n",
      "previous_application  (1670214, 37)\n",
      "bureau_balance  (27299925, 3)\n",
      "bureau  (1716428, 17)\n",
      "POS_CASH_balance  (10001358, 8)\n"
     ]
    }
   ],
   "source": [
    "print (\"installments_payments \", df_install.shape)\n",
    "print (\"credit_card_balance \", df_cc_balance.shape)\n",
    "print (\"previous_application \", df_prev_app.shape)\n",
    "print (\"bureau_balance \", df_bureau_bal.shape)\n",
    "print (\"bureau \", df_bureau.shape)\n",
    "print (\"POS_CASH_balance \", df_POS_CASH.shape)"
   ]
  },
  {
   "cell_type": "markdown",
   "id": "472a54e7",
   "metadata": {},
   "source": [
    "# Code to establish connection and  dump csv as a snowflake table in FDC setup"
   ]
  },
  {
   "cell_type": "code",
   "execution_count": 11,
   "id": "d2eb8f24",
   "metadata": {},
   "outputs": [],
   "source": [
    "#Import all snowflake connection details from template variables.\n",
    "db_user = 'MANISH'\n",
    "db_password = 'Password@2023'\n",
    "db_account = 'ug94937.us-east4.gcp'\n",
    "db_database =  'FDC_DATA_MANISH'\n",
    "db_role = 'MANISH'\n",
    "db_warehouse = 'FOSFOR_SOLUTIONS_WH'\n",
    "db_schema = 'PUBLIC'"
   ]
  },
  {
   "cell_type": "code",
   "execution_count": 12,
   "id": "e2e3edb6",
   "metadata": {},
   "outputs": [],
   "source": [
    "from snowflake.snowpark.session import Session\n",
    "connection_params = {\n",
    "    'user': db_user,\n",
    "    'password': db_password,\n",
    "    'account': db_account,\n",
    "    'warehouse': db_warehouse,\n",
    "    'database': db_database,\n",
    "    'schema': db_schema,\n",
    "    'role': db_role\n",
    "}\n",
    "session1 = Session.builder.configs(connection_params).create()"
   ]
  },
  {
   "cell_type": "code",
   "execution_count": 13,
   "id": "8f39118d",
   "metadata": {},
   "outputs": [
    {
     "data": {
      "text/plain": [
       "[Row(status='Statement executed successfully.')]"
      ]
     },
     "execution_count": 13,
     "metadata": {},
     "output_type": "execute_result"
    }
   ],
   "source": [
    "session1.sql('use warehouse FOSFOR_SOLUTIONS_WH;').collect()\n",
    "session1.sql('use database FDC_DATA_MANISH;').collect()\n",
    "session1.sql('use schema FDC_DATA_MANISH.PUBLIC;').collect()"
   ]
  },
  {
   "cell_type": "code",
   "execution_count": 14,
   "id": "aed81f8a",
   "metadata": {
    "scrolled": false
   },
   "outputs": [],
   "source": [
    "sf_df_install=session1.createDataFrame(\n",
    "        df_install.values.tolist(),\n",
    "        schema=df_install.columns.tolist())\n",
    "sf_df_install.write.mode(\"overwrite\").save_as_table(\"FDC_DATA_MANISH.PUBLIC.CRA_installments_payments\")"
   ]
  },
  {
   "cell_type": "code",
   "execution_count": 61,
   "id": "7f53ada2",
   "metadata": {},
   "outputs": [],
   "source": [
    "sf_df_cc_balance=session1.createDataFrame(\n",
    "        df_cc_balance.values.tolist(),\n",
    "        schema=df_cc_balance.columns.tolist())\n",
    "sf_df_cc_balance.write.mode(\"overwrite\").save_as_table(\"FDC_DATA_MANISH.PUBLIC.CRA_credit_card_balance\")"
   ]
  },
  {
   "cell_type": "code",
   "execution_count": 62,
   "id": "63f7a311",
   "metadata": {},
   "outputs": [],
   "source": [
    "sf_df_prev_app=session1.createDataFrame(\n",
    "        df_prev_app.values.tolist(),\n",
    "        schema=df_prev_app.columns.tolist())\n",
    "sf_df_prev_app.write.mode(\"overwrite\").save_as_table(\"FDC_DATA_MANISH.PUBLIC.CRA_previous_application\")"
   ]
  },
  {
   "cell_type": "code",
   "execution_count": 63,
   "id": "1b4fe132",
   "metadata": {},
   "outputs": [],
   "source": [
    "sf_df_bureau_bal=session1.createDataFrame(\n",
    "        df_bureau_bal.values.tolist(),\n",
    "        schema=df_bureau_bal.columns.tolist())\n",
    "sf_df_bureau_bal.write.mode(\"overwrite\").save_as_table(\"FDC_DATA_MANISH.PUBLIC.CRA_bureau_balance\")"
   ]
  },
  {
   "cell_type": "code",
   "execution_count": 64,
   "id": "ba2f62eb",
   "metadata": {},
   "outputs": [],
   "source": [
    "sf_df_bureau=session1.createDataFrame(\n",
    "        df_bureau.values.tolist(),\n",
    "        schema=df_bureau.columns.tolist())\n",
    "sf_df_bureau.write.mode(\"overwrite\").save_as_table(\"FDC_DATA_MANISH.PUBLIC.CRA_bureau\")"
   ]
  },
  {
   "cell_type": "code",
   "execution_count": 65,
   "id": "3b23e8da",
   "metadata": {},
   "outputs": [],
   "source": [
    "sf_df_POS_CASH=session1.createDataFrame(\n",
    "        df_POS_CASH.values.tolist(),\n",
    "        schema=df_POS_CASH.columns.tolist())\n",
    "sf_df_POS_CASH.write.mode(\"overwrite\").save_as_table(\"FDC_DATA_MANISH.PUBLIC.CRA_POS_CASH_balance\")"
   ]
  }
 ],
 "metadata": {
  "kernelspec": {
   "display_name": "Python 3",
   "language": "python",
   "name": "python3"
  },
  "language_info": {
   "codemirror_mode": {
    "name": "ipython",
    "version": 3
   },
   "file_extension": ".py",
   "mimetype": "text/x-python",
   "name": "python",
   "nbconvert_exporter": "python",
   "pygments_lexer": "ipython3",
   "version": "3.8.18"
  }
 },
 "nbformat": 4,
 "nbformat_minor": 5
}
