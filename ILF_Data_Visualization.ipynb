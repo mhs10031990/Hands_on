{
 "cells": [
  {
   "cell_type": "markdown",
   "id": "632503b3",
   "metadata": {},
   "source": [
    "# Use Claims_Modeling Notebook template"
   ]
  },
  {
   "cell_type": "markdown",
   "id": "5b2b84af",
   "metadata": {},
   "source": [
    "## Import Snowpark Pandas for dumping csv to Snowflake table"
   ]
  },
  {
   "cell_type": "code",
   "execution_count": 19,
   "id": "3f8dcc4e",
   "metadata": {},
   "outputs": [
    {
     "data": {
      "text/plain": [
       "'\\n! pip install \"snowflake-connector-python[pandas]\"\\n! sudo pip install snowflake-ml-python==1.0.11 -U\\n! pip install --upgrade snowflake-snowpark-python==1.9.0\\n! pip install --upgrade xgboost==1.7.3\\n! pip install --upgrade numpy==1.24.3\\n! pip install --upgrade pandas==1.5.3\\n! pip install --upgrade anyio==3.5.0\\n! pip install --upgrade packaging==23.1\\n! pip install --upgrade scikit-learn==1.3.0\\n! pip install --upgrade typing-extensions==4.7.1\\n! pip install --upgrade cryptography==39.0.0\\n! pip install --upgrade fsspec==2023.9.2\\n!pip install refractml\\n'"
      ]
     },
     "execution_count": 19,
     "metadata": {},
     "output_type": "execute_result"
    }
   ],
   "source": [
    "#Run only if not using Claims_Modeling Template for execution\n",
    "'''\n",
    "! pip install \"snowflake-connector-python[pandas]\"\n",
    "! sudo pip install snowflake-ml-python==1.0.11 -U\n",
    "! pip install --upgrade snowflake-snowpark-python==1.9.0\n",
    "! pip install --upgrade xgboost==1.7.3\n",
    "! pip install --upgrade numpy==1.24.3\n",
    "! pip install --upgrade pandas==1.5.3\n",
    "! pip install --upgrade anyio==3.5.0\n",
    "! pip install --upgrade packaging==23.1\n",
    "! pip install --upgrade scikit-learn==1.3.0\n",
    "! pip install --upgrade typing-extensions==4.7.1\n",
    "! pip install --upgrade cryptography==39.0.0\n",
    "! pip install --upgrade fsspec==2023.9.2\n",
    "!pip install refractml\n",
    "'''"
   ]
  },
  {
   "cell_type": "code",
   "execution_count": 1,
   "id": "4871a0ed",
   "metadata": {},
   "outputs": [],
   "source": [
    "from snowflake.snowpark import Session\n",
    "from snowflake.ml.modeling.pipeline import Pipeline\n",
    "from snowflake.ml.modeling.xgboost import XGBRegressor\n",
    "from snowflake.ml.modeling.preprocessing import MinMaxScaler, OrdinalEncoder, OneHotEncoder\n",
    "# import seaborn as sns\n",
    "from sklearn.metrics import mean_absolute_percentage_error\n",
    "# Pandas Tools\n",
    "from snowflake.connector.pandas_tools import write_pandas\n",
    "# Data Science Libs\n",
    "import numpy as np\n",
    "import pandas as pd\n",
    "import matplotlib.pyplot as plt\n",
    "# create_temp_table warning suppresion\n",
    "import warnings; warnings.simplefilter('ignore')\n",
    "import configparser"
   ]
  },
  {
   "cell_type": "markdown",
   "id": "6c5f49da",
   "metadata": {},
   "source": [
    "## Code to establish connection and read and dump csv as a snowflake table (handling null values before loading)"
   ]
  },
  {
   "cell_type": "code",
   "execution_count": 2,
   "id": "8a5fa270",
   "metadata": {},
   "outputs": [
    {
     "data": {
      "text/plain": [
       "['snowflake_connection.ini']"
      ]
     },
     "execution_count": 2,
     "metadata": {},
     "output_type": "execute_result"
    }
   ],
   "source": [
    "config = configparser.ConfigParser()\n",
    "config.read(\"snowflake_connection.ini\")"
   ]
  },
  {
   "cell_type": "code",
   "execution_count": 3,
   "id": "d933cdd5",
   "metadata": {},
   "outputs": [],
   "source": [
    "connection_parameters = {\n",
    "    \"user\": f'{config[\"Snowflake\"][\"user\"]}',\n",
    "    #\"password\": f'{config[\"Snowflake\"][\"password\"]}',\n",
    "    \"password\": os.getenv('snowflake_password'),\n",
    "    #\"account\": f'{config[\"Snowflake\"][\"account\"]}',\n",
    "    \"account\": os.getenv('snowflake_account'),\n",
    "    \"WAREHOUSE\": f'{config[\"Snowflake\"][\"WAREHOUSE\"]}',\n",
    "    \"DATABASE\": f'{config[\"Snowflake\"][\"DATABASE\"]}',\n",
    "    \"SCHEMA\": f'{config[\"Snowflake\"][\"SCHEMA\"]}'\n",
    "}"
   ]
  },
  {
   "cell_type": "code",
   "execution_count": 4,
   "id": "18e767bd",
   "metadata": {},
   "outputs": [
    {
     "name": "stdout",
     "output_type": "stream",
     "text": [
      "connection successful!\n"
     ]
    }
   ],
   "source": [
    "def snowflake_connector(conn):\n",
    "    try:\n",
    "        session = Session.builder.configs(conn).create()\n",
    "        print(\"connection successful!\")\n",
    "    except:\n",
    "        raise ValueError(\"error while connecting with db\")\n",
    "    return session\n",
    "\n",
    "session = snowflake_connector(connection_parameters)"
   ]
  },
  {
   "cell_type": "code",
   "execution_count": 5,
   "id": "c19cce94",
   "metadata": {},
   "outputs": [],
   "source": [
    "df = session.table(\"AUTO_INSURANCE_CLAIMS_DATA_PRODUCT\")"
   ]
  },
  {
   "cell_type": "code",
   "execution_count": 9,
   "id": "c6e2c021",
   "metadata": {},
   "outputs": [],
   "source": [
    "data = df.to_pandas()"
   ]
  },
  {
   "cell_type": "markdown",
   "id": "3f99ffe6",
   "metadata": {},
   "source": [
    "# Shape of Insurance claims data"
   ]
  },
  {
   "cell_type": "code",
   "execution_count": 10,
   "id": "a9448b55",
   "metadata": {},
   "outputs": [
    {
     "data": {
      "text/plain": [
       "(234265, 40)"
      ]
     },
     "execution_count": 10,
     "metadata": {},
     "output_type": "execute_result"
    }
   ],
   "source": [
    "data.shape"
   ]
  },
  {
   "cell_type": "markdown",
   "id": "30a1ae7f",
   "metadata": {},
   "source": [
    "# Generic Information of Insurance claims data"
   ]
  },
  {
   "cell_type": "code",
   "execution_count": 11,
   "id": "05bf2fa2",
   "metadata": {
    "scrolled": true
   },
   "outputs": [
    {
     "name": "stdout",
     "output_type": "stream",
     "text": [
      "<class 'pandas.core.frame.DataFrame'>\n",
      "RangeIndex: 234265 entries, 0 to 234264\n",
      "Data columns (total 40 columns):\n",
      " #   Column                       Non-Null Count   Dtype  \n",
      "---  ------                       --------------   -----  \n",
      " 0   MONTHS_AS_CUSTOMER           234265 non-null  int16  \n",
      " 1   CUSTOMER_AGE                 234265 non-null  object \n",
      " 2   POLICY_NUMBER                234265 non-null  int32  \n",
      " 3   POLICY_BIND_DATE             234265 non-null  object \n",
      " 4   POLICY_STATE                 234265 non-null  object \n",
      " 5   POLICY_CSL                   234265 non-null  object \n",
      " 6   POLICY_DEDUCTABLE            234265 non-null  int16  \n",
      " 7   POLICY_ANNUAL_PREMIUM        234265 non-null  int16  \n",
      " 8   UMBRELLA_LIMIT               234265 non-null  int32  \n",
      " 9   INSURED_ZIP                  234265 non-null  object \n",
      " 10  INSURED_SEX                  234265 non-null  object \n",
      " 11  INSURED_EDUCATION_LEVEL      234265 non-null  object \n",
      " 12  INSURED_OCCUPATION           234265 non-null  object \n",
      " 13  INSURED_HOBBIES              234265 non-null  object \n",
      " 14  INSURED_RELATIONSHIP         234265 non-null  object \n",
      " 15  CAPITAL_GAINS                234265 non-null  int32  \n",
      " 16  CAPITAL_LOSS                 234265 non-null  int32  \n",
      " 17  INCIDENT_DATE                234265 non-null  object \n",
      " 18  INCIDENT_TYPE                234265 non-null  object \n",
      " 19  COLLISION_TYPE               234265 non-null  object \n",
      " 20  INCIDENT_SEVERITY            234265 non-null  object \n",
      " 21  AUTHORITIES_CONTACTED        234265 non-null  object \n",
      " 22  INCIDENT_STATE               234265 non-null  object \n",
      " 23  INCIDENT_CITY                234265 non-null  object \n",
      " 24  INCIDENT_LOCATION            234265 non-null  object \n",
      " 25  INCIDENT_HOUR_OF_THE_DAY     234265 non-null  int8   \n",
      " 26  INCIDENT_TIME_OF_DAY         234265 non-null  object \n",
      " 27  NUMBER_OF_VEHICLES_INVOLVED  234265 non-null  int8   \n",
      " 28  PROPERTY_DAMAGE              234265 non-null  object \n",
      " 29  BODILY_INJURIES              234265 non-null  int8   \n",
      " 30  WITNESSES                    234265 non-null  int8   \n",
      " 31  POLICE_REPORT_AVAILABLE      234265 non-null  object \n",
      " 32  TOTAL_CLAIM_AMOUNT_PAID      234265 non-null  float64\n",
      " 33  INJURY_CLAIM                 234265 non-null  float64\n",
      " 34  PROPERTY_CLAIM               234265 non-null  float64\n",
      " 35  VEHICLE_CLAIM                234265 non-null  float64\n",
      " 36  AUTO_MAKE                    234265 non-null  object \n",
      " 37  AUTO_MODEL                   234265 non-null  object \n",
      " 38  AUTO_YEAR                    234265 non-null  int16  \n",
      " 39  FRAUD_REPORTED               234265 non-null  object \n",
      "dtypes: float64(4), int16(4), int32(4), int8(4), object(24)\n",
      "memory usage: 56.3+ MB\n"
     ]
    }
   ],
   "source": [
    "data.info()"
   ]
  },
  {
   "cell_type": "markdown",
   "id": "d313cc16",
   "metadata": {},
   "source": [
    "# Description of Insurance claims data"
   ]
  },
  {
   "cell_type": "code",
   "execution_count": 14,
   "id": "8d4c2b11",
   "metadata": {},
   "outputs": [
    {
     "data": {
      "text/html": [
       "<div>\n",
       "<style scoped>\n",
       "    .dataframe tbody tr th:only-of-type {\n",
       "        vertical-align: middle;\n",
       "    }\n",
       "\n",
       "    .dataframe tbody tr th {\n",
       "        vertical-align: top;\n",
       "    }\n",
       "\n",
       "    .dataframe thead th {\n",
       "        text-align: right;\n",
       "    }\n",
       "</style>\n",
       "<table border=\"1\" class=\"dataframe\">\n",
       "  <thead>\n",
       "    <tr style=\"text-align: right;\">\n",
       "      <th></th>\n",
       "      <th>CUSTOMER_AGE</th>\n",
       "      <th>POLICY_BIND_DATE</th>\n",
       "      <th>POLICY_STATE</th>\n",
       "      <th>POLICY_CSL</th>\n",
       "      <th>INSURED_ZIP</th>\n",
       "      <th>INSURED_SEX</th>\n",
       "      <th>INSURED_EDUCATION_LEVEL</th>\n",
       "      <th>INSURED_OCCUPATION</th>\n",
       "      <th>INSURED_HOBBIES</th>\n",
       "      <th>INSURED_RELATIONSHIP</th>\n",
       "      <th>...</th>\n",
       "      <th>AUTHORITIES_CONTACTED</th>\n",
       "      <th>INCIDENT_STATE</th>\n",
       "      <th>INCIDENT_CITY</th>\n",
       "      <th>INCIDENT_LOCATION</th>\n",
       "      <th>INCIDENT_TIME_OF_DAY</th>\n",
       "      <th>PROPERTY_DAMAGE</th>\n",
       "      <th>POLICE_REPORT_AVAILABLE</th>\n",
       "      <th>AUTO_MAKE</th>\n",
       "      <th>AUTO_MODEL</th>\n",
       "      <th>FRAUD_REPORTED</th>\n",
       "    </tr>\n",
       "  </thead>\n",
       "  <tbody>\n",
       "    <tr>\n",
       "      <th>count</th>\n",
       "      <td>234265</td>\n",
       "      <td>234265</td>\n",
       "      <td>234265</td>\n",
       "      <td>234265</td>\n",
       "      <td>234265</td>\n",
       "      <td>234265</td>\n",
       "      <td>234265</td>\n",
       "      <td>234265</td>\n",
       "      <td>234265</td>\n",
       "      <td>234265</td>\n",
       "      <td>...</td>\n",
       "      <td>234265</td>\n",
       "      <td>234265</td>\n",
       "      <td>234265</td>\n",
       "      <td>234265</td>\n",
       "      <td>234265</td>\n",
       "      <td>234265</td>\n",
       "      <td>234265</td>\n",
       "      <td>234265</td>\n",
       "      <td>234265</td>\n",
       "      <td>234265</td>\n",
       "    </tr>\n",
       "    <tr>\n",
       "      <th>unique</th>\n",
       "      <td>51</td>\n",
       "      <td>10044</td>\n",
       "      <td>1</td>\n",
       "      <td>3</td>\n",
       "      <td>995</td>\n",
       "      <td>2</td>\n",
       "      <td>7</td>\n",
       "      <td>14</td>\n",
       "      <td>20</td>\n",
       "      <td>6</td>\n",
       "      <td>...</td>\n",
       "      <td>5</td>\n",
       "      <td>1</td>\n",
       "      <td>10</td>\n",
       "      <td>1032</td>\n",
       "      <td>4</td>\n",
       "      <td>3</td>\n",
       "      <td>3</td>\n",
       "      <td>14</td>\n",
       "      <td>39</td>\n",
       "      <td>2</td>\n",
       "    </tr>\n",
       "    <tr>\n",
       "      <th>top</th>\n",
       "      <td>33</td>\n",
       "      <td>20-02-2010</td>\n",
       "      <td>CT</td>\n",
       "      <td>100/300</td>\n",
       "      <td>431532</td>\n",
       "      <td>MALE</td>\n",
       "      <td>JD</td>\n",
       "      <td>prof-specialty</td>\n",
       "      <td>kayaking</td>\n",
       "      <td>unmarried</td>\n",
       "      <td>...</td>\n",
       "      <td>Police</td>\n",
       "      <td>CT</td>\n",
       "      <td>Hartford</td>\n",
       "      <td>St</td>\n",
       "      <td>Night Time</td>\n",
       "      <td>Property Damage</td>\n",
       "      <td>Police Report Available</td>\n",
       "      <td>Nissan</td>\n",
       "      <td>RAM</td>\n",
       "      <td>No Fraud Reported</td>\n",
       "    </tr>\n",
       "    <tr>\n",
       "      <th>freq</th>\n",
       "      <td>4910</td>\n",
       "      <td>67</td>\n",
       "      <td>234265</td>\n",
       "      <td>78564</td>\n",
       "      <td>337</td>\n",
       "      <td>117455</td>\n",
       "      <td>38426</td>\n",
       "      <td>27637</td>\n",
       "      <td>12104</td>\n",
       "      <td>39357</td>\n",
       "      <td>...</td>\n",
       "      <td>47433</td>\n",
       "      <td>234265</td>\n",
       "      <td>55768</td>\n",
       "      <td>13547</td>\n",
       "      <td>104477</td>\n",
       "      <td>132025</td>\n",
       "      <td>101965</td>\n",
       "      <td>20119</td>\n",
       "      <td>7953</td>\n",
       "      <td>199657</td>\n",
       "    </tr>\n",
       "  </tbody>\n",
       "</table>\n",
       "<p>4 rows × 24 columns</p>\n",
       "</div>"
      ],
      "text/plain": [
       "       CUSTOMER_AGE POLICY_BIND_DATE POLICY_STATE POLICY_CSL INSURED_ZIP  \\\n",
       "count        234265           234265       234265     234265      234265   \n",
       "unique           51            10044            1          3         995   \n",
       "top              33       20-02-2010           CT    100/300      431532   \n",
       "freq           4910               67       234265      78564         337   \n",
       "\n",
       "       INSURED_SEX INSURED_EDUCATION_LEVEL INSURED_OCCUPATION INSURED_HOBBIES  \\\n",
       "count       234265                  234265             234265          234265   \n",
       "unique           2                       7                 14              20   \n",
       "top           MALE                      JD     prof-specialty        kayaking   \n",
       "freq        117455                   38426              27637           12104   \n",
       "\n",
       "       INSURED_RELATIONSHIP  ... AUTHORITIES_CONTACTED INCIDENT_STATE  \\\n",
       "count                234265  ...                234265         234265   \n",
       "unique                    6  ...                     5              1   \n",
       "top               unmarried  ...                Police             CT   \n",
       "freq                  39357  ...                 47433         234265   \n",
       "\n",
       "       INCIDENT_CITY INCIDENT_LOCATION INCIDENT_TIME_OF_DAY  PROPERTY_DAMAGE  \\\n",
       "count         234265            234265               234265           234265   \n",
       "unique            10              1032                    4                3   \n",
       "top         Hartford                St           Night Time  Property Damage   \n",
       "freq           55768             13547               104477           132025   \n",
       "\n",
       "        POLICE_REPORT_AVAILABLE AUTO_MAKE AUTO_MODEL     FRAUD_REPORTED  \n",
       "count                    234265    234265     234265             234265  \n",
       "unique                        3        14         39                  2  \n",
       "top     Police Report Available    Nissan        RAM  No Fraud Reported  \n",
       "freq                     101965     20119       7953             199657  \n",
       "\n",
       "[4 rows x 24 columns]"
      ]
     },
     "execution_count": 14,
     "metadata": {},
     "output_type": "execute_result"
    }
   ],
   "source": [
    "data.describe(include='O')"
   ]
  },
  {
   "cell_type": "code",
   "execution_count": 10,
   "id": "15a4c2f7",
   "metadata": {},
   "outputs": [],
   "source": [
    "df = df.na.drop()\n",
    "df = df.drop(['POLICY_NUMBER','MONTHS_AS_CUSTOMER','CUSTOMER_AGE','POLICY_BIND_DATE','POLICY_STATE','POLICY_CSL','UMBRELLA_LIMIT',\n",
    " 'INSURED_ZIP','INSURED_SEX','INSURED_EDUCATION_LEVEL','INSURED_OCCUPATION','INSURED_HOBBIES','INSURED_RELATIONSHIP',\n",
    " 'capital-gains','capital-loss', 'INCIDENT_DATE', 'AUTHORITIES_CONTACTED', 'INCIDENT_STATE', 'INCIDENT_CITY',\n",
    " 'INCIDENT_LOCATION', 'INCIDENT_HOUR_OF_THE_DAY', 'INCIDENT_TIME_OF_DAY', 'WITNESSES', 'POLICE_REPORT_AVAILABLE',\n",
    " 'INJURY_CLAIM', 'PROPERTY_CLAIM', 'VEHICLE_CLAIM', 'FRAUD_REPORTED'])"
   ]
  },
  {
   "cell_type": "code",
   "execution_count": 11,
   "id": "711acffc",
   "metadata": {
    "scrolled": true
   },
   "outputs": [
    {
     "name": "stdout",
     "output_type": "stream",
     "text": [
      "-----------------------------------------------------------------------------------------------------------------------------------------------------------------------------------------------------------------------------------------------------------------------------------------------------------\n",
      "|\"POLICY_DEDUCTABLE\"  |\"POLICY_ANNUAL_PREMIUM\"  |\"CAPITAL_GAINS\"  |\"CAPITAL_LOSS\"  |\"INCIDENT_TYPE\"           |\"COLLISION_TYPE\"  |\"INCIDENT_SEVERITY\"  |\"NUMBER_OF_VEHICLES_INVOLVED\"  |\"PROPERTY_DAMAGE\"      |\"BODILY_INJURIES\"  |\"TOTAL_CLAIM_AMOUNT_PAID\"  |\"AUTO_MAKE\"  |\"AUTO_MODEL\"  |\"AUTO_YEAR\"  |\n",
      "-----------------------------------------------------------------------------------------------------------------------------------------------------------------------------------------------------------------------------------------------------------------------------------------------------------\n",
      "|1509                 |2067                     |69030            |-20687          |Single Vehicle Collision  |Rear Collision    |Minor Damage         |1                              |No Property Damage     |1                  |46044.0                    |Nissan       |Maxima        |1995         |\n",
      "|1004                 |1413                     |49747            |-32224          |Single Vehicle Collision  |Rear Collision    |Minor Damage         |1                              |Property Damage        |1                  |53886.0                    |Nissan       |Maxima        |2002         |\n",
      "|1003                 |1222                     |32473            |-16592          |Multi-vehicle Collision   |Front Collision   |Major Damage         |2                              |No Property Damage     |1                  |68880.0                    |Volkswagen   |Jetta         |1997         |\n",
      "|2053                 |2332                     |64501            |-56208          |Multi-vehicle Collision   |Rear Collision    |Major Damage         |2                              |Property Damage        |0                  |75099.0                    |Chevrolet    |Silverado     |2008         |\n",
      "|1586                 |2033                     |89313            |-14151          |Single Vehicle Collision  |Front Collision   |Minor Damage         |1                              |Property Damage        |0                  |29555.0                    |Chevrolet    |Silverado     |2001         |\n",
      "|378                  |524                      |9283             |-20023          |Single Vehicle Collision  |Side Collision    |Major Damage         |1                              |No Property Damage     |2                  |59380.0                    |Chevrolet    |Tahoe         |2013         |\n",
      "|1823                 |2531                     |81343            |-23165          |Multi-vehicle Collision   |Side Collision    |Major Damage         |2                              |No Property Damage     |2                  |57328.0                    |Toyota       |Highlander    |2011         |\n",
      "|715                  |803                      |89905            |-64489          |Single Vehicle Collision  |Rear Collision    |Minor Damage         |1                              |Details not Available  |1                  |41776.0                    |Nissan       |Pathfinder    |2000         |\n",
      "|377                  |471                      |82076            |-49204          |Multi-vehicle Collision   |Side Collision    |Major Damage         |2                              |Property Damage        |2                  |69094.0                    |Suburu       |Impreza       |2010         |\n",
      "|583                  |821                      |4565             |-77932          |Parked Car                |Side Collision    |Minor Damage         |1                              |No Property Damage     |2                  |48090.0                    |Toyota       |Highlander    |2000         |\n",
      "-----------------------------------------------------------------------------------------------------------------------------------------------------------------------------------------------------------------------------------------------------------------------------------------------------------\n",
      "\n"
     ]
    }
   ],
   "source": [
    "df.show()"
   ]
  },
  {
   "cell_type": "code",
   "execution_count": 15,
   "id": "5efe9f80",
   "metadata": {},
   "outputs": [],
   "source": [
    "train_df, test_df = df.random_split([0.8,0.2], seed=69) #seed=60 for Model version 2\n",
    "CATEGORICAL_COLUMNS = [\"INCIDENT_TYPE\", \"COLLISION_TYPE\",\"INCIDENT_SEVERITY\", \"PROPERTY_DAMAGE\",\n",
    "                       \"AUTO_MAKE\",\"AUTO_MODEL\",\"AUTO_YEAR\",]\n",
    "NUMERICAL_COLUMNS = [\"POLICY_DEDUCTABLE\", \"POLICY_ANNUAL_PREMIUM\",\"NUMBER_OF_VEHICLES_INVOLVED\", \"BODILY_INJURIES\"]\n",
    "LABEL_COLUMNS = [\"TOTAL_CLAIM_AMOUNT_PAID\"]\n",
    "OUTPUT_COLUMNS = [\"PREDICTION\"]"
   ]
  },
  {
   "cell_type": "code",
   "execution_count": 16,
   "id": "c7d5eb6f",
   "metadata": {},
   "outputs": [],
   "source": [
    "## train_df and test_df are both snowpark dataframes\n",
    "pipeline = Pipeline(\n",
    "    steps=[(\n",
    "                \"OE\",\n",
    "                OrdinalEncoder(\n",
    "                input_cols=CATEGORICAL_COLUMNS,\n",
    "                output_cols=CATEGORICAL_COLUMNS,\n",
    "                handle_unknown='use_encoded_value',\n",
    "                unknown_value=-1\n",
    "                )),\n",
    "               (\"MMS\",\n",
    "                MinMaxScaler(\n",
    "                clip=True,\n",
    "                input_cols=NUMERICAL_COLUMNS,\n",
    "                output_cols=NUMERICAL_COLUMNS,\n",
    "                )),\n",
    "               (\"classification\",\n",
    "                XGBRegressor(\n",
    "                input_cols=CATEGORICAL_COLUMNS+NUMERICAL_COLUMNS,\n",
    "                label_cols=LABEL_COLUMNS,\n",
    "                output_cols=OUTPUT_COLUMNS\n",
    "                ))])\n",
    "\n",
    "pipeline.fit(train_df) ## fiting the dataset\n",
    "result = pipeline.predict(test_df)"
   ]
  },
  {
   "cell_type": "code",
   "execution_count": 17,
   "id": "5c4d5612",
   "metadata": {},
   "outputs": [
    {
     "data": {
      "text/plain": [
       "['ILF_XGB_Model.joblib']"
      ]
     },
     "execution_count": 17,
     "metadata": {},
     "output_type": "execute_result"
    }
   ],
   "source": [
    "from joblib import dump, load\n",
    "filename = \"ILF_XGB_Model.joblib\" #Model version 1\n",
    "#filename = \"ILF_XGB_Model_v2.joblib\" #Model version 2\n",
    "dump(pipeline, filename)"
   ]
  },
  {
   "cell_type": "code",
   "execution_count": 18,
   "id": "3b78e64f",
   "metadata": {},
   "outputs": [],
   "source": [
    "model = load(filename)"
   ]
  },
  {
   "cell_type": "code",
   "execution_count": 14,
   "id": "a5cd8079",
   "metadata": {},
   "outputs": [],
   "source": [
    "from refractml import *\n",
    "from refractml.constants import MLModelFlavours\n",
    "import requests\n",
    "import numpy as np"
   ]
  },
  {
   "cell_type": "code",
   "execution_count": 15,
   "id": "79fac1af",
   "metadata": {},
   "outputs": [],
   "source": [
    "test = test_df.to_pandas().replace(np.nan, pd.isna)\n",
    "train = train_df.to_pandas().replace(np.nan, pd.isna)\n",
    "test[\"AUTO_YEAR\"] = test[\"AUTO_YEAR\"].astype(str)\n",
    "train[\"AUTO_YEAR\"] = train[\"AUTO_YEAR\"].astype(str)"
   ]
  },
  {
   "cell_type": "code",
   "execution_count": 16,
   "id": "b1c944a3",
   "metadata": {},
   "outputs": [],
   "source": [
    "@scoring_func\n",
    "def score(model, request):\n",
    "    payload_dict = request.json[\"payload\"]\n",
    "    data = pd.DataFrame(payload_dict,index=[0])\n",
    "    data = data.replace(np.nan, pd.isna)\n",
    "    data[\"AUTO_YEAR\"] = data[\"AUTO_YEAR\"].astype(str)\n",
    "    prediction = str(model.predict(data)[\"PREDICTION\"][0])\n",
    "    return prediction"
   ]
  },
  {
   "cell_type": "code",
   "execution_count": 17,
   "id": "b3017730",
   "metadata": {},
   "outputs": [],
   "source": [
    "pred = model.predict(test)\n",
    "test[\"PREDICTION\"] = pred[\"PREDICTION\"]"
   ]
  },
  {
   "cell_type": "code",
   "execution_count": 18,
   "id": "9b030bd1",
   "metadata": {},
   "outputs": [],
   "source": [
    "X_train = train.drop([\"TOTAL_CLAIM_AMOUNT_PAID\"], axis=1)\n",
    "y_train = train[\"TOTAL_CLAIM_AMOUNT_PAID\"]\n",
    "\n",
    "X_test = pred.drop([\"TOTAL_CLAIM_AMOUNT_PAID\", \"PREDICTION\"], axis=1)\n",
    "y_test = pred[\"TOTAL_CLAIM_AMOUNT_PAID\"]\n",
    "\n",
    "y_pred = pred[\"PREDICTION\"]"
   ]
  },
  {
   "cell_type": "code",
   "execution_count": 19,
   "id": "5bf30c30",
   "metadata": {},
   "outputs": [
    {
     "data": {
      "text/plain": [
       "{'POLICY_DEDUCTABLE': 1545,\n",
       " 'POLICY_ANNUAL_PREMIUM': 1861,\n",
       " 'CAPITAL_GAINS': 48627,\n",
       " 'CAPITAL_LOSS': -13390,\n",
       " 'INCIDENT_TYPE': 'Multi-vehicle Collision',\n",
       " 'COLLISION_TYPE': 'Front Collision',\n",
       " 'INCIDENT_SEVERITY': 'Minor Damage',\n",
       " 'NUMBER_OF_VEHICLES_INVOLVED': 2,\n",
       " 'PROPERTY_DAMAGE': 'No Property Damage',\n",
       " 'BODILY_INJURIES': 2,\n",
       " 'AUTO_MAKE': 'Ford',\n",
       " 'AUTO_MODEL': 'Escape',\n",
       " 'AUTO_YEAR': '1997'}"
      ]
     },
     "execution_count": 19,
     "metadata": {},
     "output_type": "execute_result"
    }
   ],
   "source": [
    "payload  = test.iloc[0].to_dict()\n",
    "del payload[\"TOTAL_CLAIM_AMOUNT_PAID\"]\n",
    "del payload[\"PREDICTION\"]\n",
    "payload"
   ]
  },
  {
   "cell_type": "code",
   "execution_count": 20,
   "id": "a4a60820",
   "metadata": {},
   "outputs": [
    {
     "data": {
      "text/plain": [
       "'45137.13'"
      ]
     },
     "execution_count": 20,
     "metadata": {},
     "output_type": "execute_result"
    }
   ],
   "source": [
    "req = requests.Request()\n",
    "req.json = {\"payload\":payload}\n",
    "y_req = req\n",
    "y_out = score(model, y_req)\n",
    "y_out"
   ]
  },
  {
   "cell_type": "code",
   "execution_count": 21,
   "id": "6248d1cb",
   "metadata": {},
   "outputs": [],
   "source": [
    "## SAMPLE PAYLOAD\n",
    "data = {\n",
    "  \"payload\": {\n",
    "    \"POLICY_DEDUCTABLE\": 500,\n",
    "    \"POLICY_ANNUAL_PREMIUM\": 938,\n",
    "    \"INCIDENT_TYPE\": \"Vehicle Theft\",\n",
    "    \"COLLISION_TYPE\": \"Details not Available\",\n",
    "    \"INCIDENT_SEVERITY\": \"Total Loss\",\n",
    "    \"NUMBER_OF_VEHICLES_INVOLVED\": 1,\n",
    "    \"PROPERTY_DAMAGE\": \"Property Damage\",\n",
    "    \"BODILY_INJURIES\": 0,\n",
    "    \"AUTO_MAKE\": \"Honda\",\n",
    "    \"AUTO_MODEL\": \"Civic\",\n",
    "    \"AUTO_YEAR\": \"2002\"\n",
    "  }\n",
    "}"
   ]
  },
  {
   "cell_type": "code",
   "execution_count": 22,
   "id": "6ce34b9f",
   "metadata": {},
   "outputs": [
    {
     "name": "stdout",
     "output_type": "stream",
     "text": [
      "Calculating build time metrics\n",
      "\n",
      "Progress: ██████████████████████████████████████████████████████████████████████ 100.0%\n"
     ]
    },
    {
     "data": {
      "application/vnd.jupyter.widget-view+json": {
       "model_id": "e2e9e1e33e2b4f6c9e6b3ecdac118b3b",
       "version_major": 2,
       "version_minor": 0
      },
      "text/plain": [
       "VBox(children=(HTML(value='<style>.grad_1{background: #2468a4;} .grad_2{ color:white; background: #2468a4;}</s…"
      ]
     },
     "metadata": {},
     "output_type": "display_data"
    }
   ],
   "source": [
    "## registering the model in refract.\n",
    "model_reg = register_model(model, \n",
    "               score, \n",
    "               name=\"ILF_XGB_Model\", \n",
    "               description=\"Insurance claim's model trained using SnowflakeML XGB\",\n",
    "               flavour=MLModelFlavours.sklearn,\n",
    "               model_type=\"regression\",\n",
    "               init_script=\"pip install snowflake-ml-python==1.0.11\",\n",
    "               y_true=y_test,\n",
    "               y_pred=y_pred, \n",
    "               features=X_train.columns,\n",
    "               input_type=\"json\", \n",
    "               explain_ai=True,\n",
    "               x_train=X_train, \n",
    "               x_test=X_test, \n",
    "               y_train=y_train.tolist(),\n",
    "               y_test=y_test.tolist(),\n",
    "               feature_names=X_train.columns.tolist(),\n",
    "               original_features=X_train.columns.tolist(),\n",
    "               feature_ids=X_train.columns,\n",
    "               kyd=True, kyd_score = True)"
   ]
  },
  {
   "cell_type": "markdown",
   "id": "f94a9d6b",
   "metadata": {},
   "source": [
    "# Code to call ILF XGB Model internally using Insight Designer Notebook"
   ]
  },
  {
   "cell_type": "code",
   "execution_count": 39,
   "id": "04bea903",
   "metadata": {},
   "outputs": [],
   "source": [
    "def model_prediction(data):\n",
    "    model = load('ILF_XGB_Model.joblib', mmap_mode='r')\n",
    "    data = data.replace(np.nan, pd.isna)\n",
    "    data[\"AUTO_YEAR\"] = data[\"AUTO_YEAR\"].astype(str)\n",
    "    return model.predict(data)['PREDICTION'] #Only returns Prediction\n",
    "    #return model.predict(data) #Returns Complete input data along with Prediction"
   ]
  },
  {
   "cell_type": "code",
   "execution_count": 40,
   "id": "ff4a0c46",
   "metadata": {},
   "outputs": [],
   "source": [
    "test['PREDICTION'] = model_prediction(test) #If only Prediction is expected from the score function output\n",
    "#test = model_prediction(test) #If complete input data along with Prediction is expected from the score function output"
   ]
  },
  {
   "cell_type": "code",
   "execution_count": 43,
   "id": "a53adc6b",
   "metadata": {},
   "outputs": [
    {
     "data": {
      "text/html": [
       "<div>\n",
       "<style scoped>\n",
       "    .dataframe tbody tr th:only-of-type {\n",
       "        vertical-align: middle;\n",
       "    }\n",
       "\n",
       "    .dataframe tbody tr th {\n",
       "        vertical-align: top;\n",
       "    }\n",
       "\n",
       "    .dataframe thead th {\n",
       "        text-align: right;\n",
       "    }\n",
       "</style>\n",
       "<table border=\"1\" class=\"dataframe\">\n",
       "  <thead>\n",
       "    <tr style=\"text-align: right;\">\n",
       "      <th></th>\n",
       "      <th>POLICY_DEDUCTABLE</th>\n",
       "      <th>POLICY_ANNUAL_PREMIUM</th>\n",
       "      <th>CAPITAL_GAINS</th>\n",
       "      <th>CAPITAL_LOSS</th>\n",
       "      <th>INCIDENT_TYPE</th>\n",
       "      <th>COLLISION_TYPE</th>\n",
       "      <th>INCIDENT_SEVERITY</th>\n",
       "      <th>NUMBER_OF_VEHICLES_INVOLVED</th>\n",
       "      <th>PROPERTY_DAMAGE</th>\n",
       "      <th>BODILY_INJURIES</th>\n",
       "      <th>TOTAL_CLAIM_AMOUNT_PAID</th>\n",
       "      <th>AUTO_MAKE</th>\n",
       "      <th>AUTO_MODEL</th>\n",
       "      <th>AUTO_YEAR</th>\n",
       "      <th>PREDICTION</th>\n",
       "    </tr>\n",
       "  </thead>\n",
       "  <tbody>\n",
       "    <tr>\n",
       "      <th>0</th>\n",
       "      <td>1545</td>\n",
       "      <td>1861</td>\n",
       "      <td>48627</td>\n",
       "      <td>-13390</td>\n",
       "      <td>Multi-vehicle Collision</td>\n",
       "      <td>Front Collision</td>\n",
       "      <td>Minor Damage</td>\n",
       "      <td>2</td>\n",
       "      <td>No Property Damage</td>\n",
       "      <td>2</td>\n",
       "      <td>38325.0</td>\n",
       "      <td>Ford</td>\n",
       "      <td>Escape</td>\n",
       "      <td>1997</td>\n",
       "      <td>45004.199219</td>\n",
       "    </tr>\n",
       "    <tr>\n",
       "      <th>1</th>\n",
       "      <td>1422</td>\n",
       "      <td>1871</td>\n",
       "      <td>3050</td>\n",
       "      <td>-1639</td>\n",
       "      <td>Single Vehicle Collision</td>\n",
       "      <td>Details not Available</td>\n",
       "      <td>Major Damage</td>\n",
       "      <td>1</td>\n",
       "      <td>Property Damage</td>\n",
       "      <td>2</td>\n",
       "      <td>71290.0</td>\n",
       "      <td>Volkswagen</td>\n",
       "      <td>Jetta</td>\n",
       "      <td>2007</td>\n",
       "      <td>73125.117188</td>\n",
       "    </tr>\n",
       "    <tr>\n",
       "      <th>2</th>\n",
       "      <td>1113</td>\n",
       "      <td>1391</td>\n",
       "      <td>32285</td>\n",
       "      <td>-45249</td>\n",
       "      <td>Parked Car</td>\n",
       "      <td>Side Collision</td>\n",
       "      <td>Minor Damage</td>\n",
       "      <td>2</td>\n",
       "      <td>No Property Damage</td>\n",
       "      <td>2</td>\n",
       "      <td>53007.0</td>\n",
       "      <td>Suburu</td>\n",
       "      <td>Forrestor</td>\n",
       "      <td>2007</td>\n",
       "      <td>45793.187500</td>\n",
       "    </tr>\n",
       "    <tr>\n",
       "      <th>3</th>\n",
       "      <td>406</td>\n",
       "      <td>548</td>\n",
       "      <td>79600</td>\n",
       "      <td>-53718</td>\n",
       "      <td>Multi-vehicle Collision</td>\n",
       "      <td>Rear Collision</td>\n",
       "      <td>Minor Damage</td>\n",
       "      <td>3</td>\n",
       "      <td>No Property Damage</td>\n",
       "      <td>2</td>\n",
       "      <td>52112.0</td>\n",
       "      <td>Suburu</td>\n",
       "      <td>Impreza</td>\n",
       "      <td>2015</td>\n",
       "      <td>43414.093750</td>\n",
       "    </tr>\n",
       "    <tr>\n",
       "      <th>4</th>\n",
       "      <td>1886</td>\n",
       "      <td>2119</td>\n",
       "      <td>16195</td>\n",
       "      <td>-5303</td>\n",
       "      <td>Multi-vehicle Collision</td>\n",
       "      <td>Front Collision</td>\n",
       "      <td>Total Loss</td>\n",
       "      <td>2</td>\n",
       "      <td>Property Damage</td>\n",
       "      <td>0</td>\n",
       "      <td>91874.0</td>\n",
       "      <td>Accura</td>\n",
       "      <td>RSX</td>\n",
       "      <td>2003</td>\n",
       "      <td>91049.640625</td>\n",
       "    </tr>\n",
       "  </tbody>\n",
       "</table>\n",
       "</div>"
      ],
      "text/plain": [
       "   POLICY_DEDUCTABLE  POLICY_ANNUAL_PREMIUM  CAPITAL_GAINS  CAPITAL_LOSS  \\\n",
       "0               1545                   1861          48627        -13390   \n",
       "1               1422                   1871           3050         -1639   \n",
       "2               1113                   1391          32285        -45249   \n",
       "3                406                    548          79600        -53718   \n",
       "4               1886                   2119          16195         -5303   \n",
       "\n",
       "              INCIDENT_TYPE         COLLISION_TYPE INCIDENT_SEVERITY  \\\n",
       "0   Multi-vehicle Collision        Front Collision      Minor Damage   \n",
       "1  Single Vehicle Collision  Details not Available      Major Damage   \n",
       "2                Parked Car         Side Collision      Minor Damage   \n",
       "3   Multi-vehicle Collision         Rear Collision      Minor Damage   \n",
       "4   Multi-vehicle Collision        Front Collision        Total Loss   \n",
       "\n",
       "   NUMBER_OF_VEHICLES_INVOLVED     PROPERTY_DAMAGE  BODILY_INJURIES  \\\n",
       "0                            2  No Property Damage                2   \n",
       "1                            1     Property Damage                2   \n",
       "2                            2  No Property Damage                2   \n",
       "3                            3  No Property Damage                2   \n",
       "4                            2     Property Damage                0   \n",
       "\n",
       "   TOTAL_CLAIM_AMOUNT_PAID   AUTO_MAKE AUTO_MODEL AUTO_YEAR    PREDICTION  \n",
       "0                  38325.0        Ford     Escape      1997  45004.199219  \n",
       "1                  71290.0  Volkswagen      Jetta      2007  73125.117188  \n",
       "2                  53007.0      Suburu  Forrestor      2007  45793.187500  \n",
       "3                  52112.0      Suburu    Impreza      2015  43414.093750  \n",
       "4                  91874.0      Accura        RSX      2003  91049.640625  "
      ]
     },
     "execution_count": 43,
     "metadata": {},
     "output_type": "execute_result"
    }
   ],
   "source": [
    "test.head()"
   ]
  },
  {
   "cell_type": "code",
   "execution_count": 44,
   "id": "2a85b957",
   "metadata": {},
   "outputs": [],
   "source": [
    "#Drift files to be setup using snowflake\n",
    "drift_old = test.head(10000)\n",
    "drift_old.to_csv(\"/data/ILF_Claims_Output_v1.csv\", index=False)\n",
    "\n",
    "drift_new = test.tail(10000)\n",
    "drift_new.to_csv(\"/data/ILF_Claims_Output_v2.csv\", index=False)"
   ]
  },
  {
   "cell_type": "markdown",
   "id": "7533fb8a",
   "metadata": {},
   "source": [
    "# Code to call ILF XGB Model in external/3rd party application"
   ]
  },
  {
   "cell_type": "code",
   "execution_count": null,
   "id": "dff5bbb3",
   "metadata": {},
   "outputs": [],
   "source": [
    "access_token = \"eyJhbGciOiJSUzI1NiIsInR5cCIgOiAiSldUIiwia2lkIiA6ICJ4WTdTd3k5UE1xaXRDQmNSMm5qcVl6bmoxS3NqZzV3TmdOV0xDVzdyUkhvIn0.eyJleHAiOjE3MzA4ODM3MzgsImlhdCI6MTY5OTI2MTMzOCwiYXV0aF90aW1lIjoxNjk5MjUyMDQ0LCJqdGkiOiJmN2EzMzQwYy1kNDQwLTRlMzUtYjk2ZS04YzBiMTc0Y2RhODAiLCJpc3MiOiJodHRwczovL3JlZnJhY3QtbG9naW4uZm9zZm9yLmNvbS9hdXRoL3JlYWxtcy9tb3NhaWMiLCJhdWQiOlsibW9zYWljLWdhdGVrZWVwZXIiLCJhY2NvdW50Il0sInN1YiI6IjZjMjU4MWU3LWZmMTItNDljNy04MDJmLWI2ZjQzOWQxZDIwMSIsInR5cCI6IkJlYXJlciIsImF6cCI6Im1vc2FpYy1nYXRla2VlcGVyIiwic2Vzc2lvbl9zdGF0ZSI6IjBhY2Y3YWZhLTVmMzMtNGRhZS05OGM3LTQyZDQwYTdlZTM2NiIsImFsbG93ZWQtb3JpZ2lucyI6WyIqIl0sInJlYWxtX2FjY2VzcyI6eyJyb2xlcyI6WyJNTE9QUyIsImxvbmdfbGl2ZWRfdG9rZW4iLCJzcGVjdHJhLWRldmVsb3BlciIsImRlZmF1bHQtcm9sZXMtbW9zYWljIiwicmVmcmFjdC1kZXZlbG9wZXIiLCJvZmZsaW5lX2FjY2VzcyIsImFkbWluIiwidW1hX2F1dGhvcml6YXRpb24iLCJyZWZyYWN0LWFkbWluIl19LCJyZXNvdXJjZV9hY2Nlc3MiOnsiYWNjb3VudCI6eyJyb2xlcyI6WyJtYW5hZ2UtYWNjb3VudCIsIm1hbmFnZS1hY2NvdW50LWxpbmtzIiwidmlldy1wcm9maWxlIl19fSwic2NvcGUiOiJvcGVuaWQgZW1haWwgcHJvZmlsZSIsInNpZCI6IjBhY2Y3YWZhLTVmMzMtNGRhZS05OGM3LTQyZDQwYTdlZTM2NiIsImVtYWlsX3ZlcmlmaWVkIjp0cnVlLCJuYW1lIjoiUmVmcmFjdCBCRlNJIiwicHJlZmVycmVkX3VzZXJuYW1lIjoicmVmcmFjdC5iZnNpQGZvc2Zvci5jb20iLCJnaXZlbl9uYW1lIjoiUmVmcmFjdCIsImZhbWlseV9uYW1lIjoiQkZTSSIsImVtYWlsIjoicmVmcmFjdC5iZnNpQGZvc2Zvci5jb20ifQ.b6SYLgjo9Veo3GmJ8eZjCTNupQjpfMhzsoXdYjWwRtvRnNjBfx0gOqcugO9OcGn-mm8wwpSGI5uiL30-I6SdWBjsf1ur6GztoX7j-nP_3SrJJn3UhNNqIO8LbsPi5gGRTzWtnfjz92BF1YaCXxQwPY0P_aa8vJ6JxZz5Uctn9aIPIJZZnnjC_GPXtXurmshM_tEN2kwCjhEyr7wYzRqUoMtBGfpLjZREBzgZY-x6JyYiXNtycb1d6PFcCXf7nJVV8ienEC_x7OuciDzfeqd-SQnImvAHH7rqFdi9smBN08AbkDS2uAbMrokHrmbiBpaimrR013VwCWz2KL5QYlWleA\"\n",
    "\n",
    "def model(payload, access_token):\n",
    "    headers = {'Content-Type': 'application/json',\n",
    "               'Authorization': 'Bearer ' + access_token}\n",
    "    url = \"https://qa.fdc.leni.ai/ilfxgbmodel/4f549c4b-0bca-491a-8c45-5fe870838fcc/score\"\n",
    "    # payload = str(payload.to_dict())\n",
    "    data = {\"payload\": payload}\n",
    "    print(\"***********************************\")\n",
    "    print(data)\n",
    "    print(\"***************************\")\n",
    "    response = requests.post(url, json=data, headers=headers)\n",
    "    return response #pd.DataFrame(eval(response.json()[\"data\"]))\n"
   ]
  },
  {
   "cell_type": "code",
   "execution_count": null,
   "id": "aa5a7269",
   "metadata": {},
   "outputs": [],
   "source": [
    "# data_1 = pd.DataFrame(payload, index=[0])\n",
    "output1 = model(payload, access_token)"
   ]
  },
  {
   "cell_type": "code",
   "execution_count": null,
   "id": "9c1ebc3e",
   "metadata": {},
   "outputs": [],
   "source": [
    "output1.json()[\"data\"]"
   ]
  }
 ],
 "metadata": {
  "kernelspec": {
   "display_name": "Python 3",
   "language": "python",
   "name": "python3"
  },
  "language_info": {
   "codemirror_mode": {
    "name": "ipython",
    "version": 3
   },
   "file_extension": ".py",
   "mimetype": "text/x-python",
   "name": "python",
   "nbconvert_exporter": "python",
   "pygments_lexer": "ipython3",
   "version": "3.9.18"
  }
 },
 "nbformat": 4,
 "nbformat_minor": 5
}
