{
 "cells": [
  {
   "cell_type": "code",
   "execution_count": null,
   "id": "92258265",
   "metadata": {
    "scrolled": true
   },
   "outputs": [
    {
     "name": "stdout",
     "output_type": "stream",
     "text": [
      "\u001b[33mWARNING: The directory '/home/mosaic-ai/.cache/pip/http' or its parent directory is not owned by the current user and the cache has been disabled. Please check the permissions and owner of that directory. If executing pip with sudo, you may want sudo's -H flag.\u001b[0m\n",
      "\u001b[33mWARNING: The directory '/home/mosaic-ai/.cache/pip' or its parent directory is not owned by the current user and caching wheels has been disabled. check the permissions and owner of that directory. If executing pip with sudo, you may want sudo's -H flag.\u001b[0m\n",
      "^C\n",
      "\u001b[31mERROR: Operation cancelled by user\u001b[0m\n",
      "\u001b[33mWARNING: You are using pip version 19.3.1; however, version 24.0 is available.\n",
      "You should consider upgrading via the 'pip install --upgrade pip' command.\u001b[0m\n",
      "\u001b[33mWARNING: The directory '/home/mosaic-ai/.cache/pip/http' or its parent directory is not owned by the current user and the cache has been disabled. Please check the permissions and owner of that directory. If executing pip with sudo, you may want sudo's -H flag.\u001b[0m\n",
      "\u001b[33mWARNING: The directory '/home/mosaic-ai/.cache/pip' or its parent directory is not owned by the current user and caching wheels has been disabled. check the permissions and owner of that directory. If executing pip with sudo, you may want sudo's -H flag.\u001b[0m\n"
     ]
    }
   ],
   "source": [
    "!pip install --q \"snowflake-connector-python[pandas]\"\n",
    "!sudo pip install --q  snowflake-ml-python==1.0.11 -U\n",
    "!pip install --upgrade --q snowflake-snowpark-python==1.9.0\n",
    "!pip install --q seaborn\n",
    "!pip install --upgrade --q xgboost==1.7.3\n",
    "!pip install --upgrade --q numpy==1.24.3\n",
    "!pip install --upgrade --q pandas==1.5.3\n",
    "!pip install --upgrade --q anyio==3.5.0\n",
    "!pip install --upgrade --q packaging==23.1\n",
    "!pip install --upgrade --q scikit-learn==1.3.0\n",
    "!pip install --upgrade --q typing-extensions==4.7.1\n",
    "!pip install --upgrade --q cryptography==39.0.0\n",
    "!pip install --upgrade --q fsspec==2023.9.2\n",
    "!pip install --q xgboost\n",
    "!pip install --q catboost\n",
    "!pip install --q refractml"
   ]
  },
  {
   "cell_type": "code",
   "execution_count": 1,
   "id": "12eb34cf",
   "metadata": {},
   "outputs": [
    {
     "name": "stderr",
     "output_type": "stream",
     "text": [
      "Matplotlib created a temporary cache directory at /tmp/matplotlib-fuofdask because the default path (/home/mosaic-ai/.cache/matplotlib) is not a writable directory; it is highly recommended to set the MPLCONFIGDIR environment variable to a writable directory, in particular to speed up the import of Matplotlib and to better support multiprocessing.\n"
     ]
    }
   ],
   "source": [
    "from snowflake.snowpark import Session\n",
    "\n",
    "# Data Science Libs\n",
    "import numpy as np\n",
    "import pandas as pd\n",
    "import matplotlib.pyplot as plt\n",
    "import seaborn as sns\n",
    "\n",
    "# create_temp_table warning suppresion\n",
    "import warnings; warnings.simplefilter('ignore')\n",
    "import configparser\n",
    "\n",
    "from sklearn.model_selection import train_test_split\n",
    "from sklearn.preprocessing import StandardScaler\n",
    "from sklearn.svm import SVC\n",
    "from sklearn.metrics import accuracy_score, confusion_matrix, classification_report\n",
    "from sklearn.neighbors import KNeighborsClassifier\n",
    "from sklearn.metrics import accuracy_score, confusion_matrix, classification_report\n",
    "from sklearn.tree import DecisionTreeClassifier\n",
    "from sklearn.model_selection import GridSearchCV\n",
    "from sklearn.ensemble import RandomForestClassifier\n",
    "from sklearn.ensemble import AdaBoostClassifier\n",
    "from sklearn.ensemble import GradientBoostingClassifier\n",
    "from sklearn.ensemble import ExtraTreesClassifier\n",
    "from sklearn.ensemble import VotingClassifier\n",
    "\n",
    "\n",
    "from xgboost import XGBClassifier\n",
    "from catboost import CatBoostClassifier"
   ]
  },
  {
   "cell_type": "code",
   "execution_count": 2,
   "id": "ffed10a7",
   "metadata": {},
   "outputs": [
    {
     "data": {
      "text/plain": [
       "['snowflake_connection.ini']"
      ]
     },
     "execution_count": 2,
     "metadata": {},
     "output_type": "execute_result"
    }
   ],
   "source": [
    "config = configparser.ConfigParser()\n",
    "config.read(\"snowflake_connection.ini\")"
   ]
  },
  {
   "cell_type": "code",
   "execution_count": 3,
   "id": "d4a0035d",
   "metadata": {},
   "outputs": [],
   "source": [
    "connection_parameters = {\n",
    "    \"user\": f'{config[\"Snowflake\"][\"user\"]}',\n",
    "    \"password\": f'{config[\"Snowflake\"][\"password\"]}',\n",
    "    #\"password\": os.getenv('snowflake_password'),\n",
    "    \"account\": f'{config[\"Snowflake\"][\"account\"]}',\n",
    "    #\"account\": os.getenv('snowflake_account'),\n",
    "    \"WAREHOUSE\": f'{config[\"Snowflake\"][\"WAREHOUSE\"]}',\n",
    "    \"DATABASE\": f'{config[\"Snowflake\"][\"DATABASE\"]}',\n",
    "    \"SCHEMA\": f'{config[\"Snowflake\"][\"SCHEMA\"]}'\n",
    "}"
   ]
  },
  {
   "cell_type": "code",
   "execution_count": 4,
   "id": "9b959986",
   "metadata": {},
   "outputs": [
    {
     "name": "stdout",
     "output_type": "stream",
     "text": [
      "connection successful!\n"
     ]
    }
   ],
   "source": [
    "def snowflake_connector(conn):\n",
    "    try:\n",
    "        session = Session.builder.configs(conn).create()\n",
    "        print(\"connection successful!\")\n",
    "    except:\n",
    "        raise ValueError(\"error while connecting with db\")\n",
    "    return session\n",
    "\n",
    "session = snowflake_connector(connection_parameters)"
   ]
  },
  {
   "cell_type": "code",
   "execution_count": 5,
   "id": "7c86b744",
   "metadata": {},
   "outputs": [],
   "source": [
    "df = session.table(\"AUTO_INSURANCE_CLAIMS_DATA_PRODUCT\")\n",
    "insurance_claim = df.to_pandas()"
   ]
  },
  {
   "cell_type": "code",
   "execution_count": 6,
   "id": "0ee58ee8",
   "metadata": {},
   "outputs": [],
   "source": [
    "insurance_claim.columns = insurance_claim.columns.str.lower()"
   ]
  },
  {
   "cell_type": "code",
   "execution_count": 7,
   "id": "dea96c64",
   "metadata": {},
   "outputs": [
    {
     "data": {
      "text/plain": [
       "Index(['months_as_customer', 'customer_age', 'policy_number',\n",
       "       'policy_bind_date', 'policy_state', 'policy_csl', 'policy_deductable',\n",
       "       'policy_annual_premium', 'umbrella_limit', 'insured_zip', 'insured_sex',\n",
       "       'insured_education_level', 'insured_occupation', 'insured_hobbies',\n",
       "       'insured_relationship', 'capital_gains', 'capital_loss',\n",
       "       'incident_date', 'incident_type', 'collision_type', 'incident_severity',\n",
       "       'authorities_contacted', 'incident_state', 'incident_city',\n",
       "       'incident_location', 'incident_hour_of_the_day', 'incident_time_of_day',\n",
       "       'number_of_vehicles_involved', 'property_damage', 'bodily_injuries',\n",
       "       'witnesses', 'police_report_available', 'total_claim_amount_paid',\n",
       "       'injury_claim', 'property_claim', 'vehicle_claim', 'auto_make',\n",
       "       'auto_model', 'auto_year', 'fraud_reported'],\n",
       "      dtype='object')"
      ]
     },
     "execution_count": 7,
     "metadata": {},
     "output_type": "execute_result"
    }
   ],
   "source": [
    "insurance_claim.columns"
   ]
  },
  {
   "cell_type": "code",
   "execution_count": 8,
   "id": "dd34e207",
   "metadata": {},
   "outputs": [],
   "source": [
    "insurance_claim.rename(columns = {'total_claim_amount_paid': 'total_claim_amount'}, inplace=True)"
   ]
  },
  {
   "cell_type": "code",
   "execution_count": 9,
   "id": "044dd5de",
   "metadata": {},
   "outputs": [],
   "source": [
    "insurance_claim=insurance_claim.replace(\"?\",np.NaN)"
   ]
  },
  {
   "cell_type": "code",
   "execution_count": 10,
   "id": "0c04c757",
   "metadata": {},
   "outputs": [],
   "source": [
    "df = insurance_claim.copy()"
   ]
  },
  {
   "cell_type": "code",
   "execution_count": 11,
   "id": "5fa9b530",
   "metadata": {},
   "outputs": [],
   "source": [
    "# dropping columns which are not necessary for prediction\n",
    "\n",
    "to_drop = ['policy_number','policy_bind_date','policy_state','insured_zip','incident_location','incident_date',\n",
    "           'incident_state','incident_city','insured_hobbies','auto_make','auto_model','auto_year']\n",
    "\n",
    "df.drop(to_drop, inplace=True, axis=1)"
   ]
  },
  {
   "cell_type": "code",
   "execution_count": 12,
   "id": "9b2aec4c",
   "metadata": {},
   "outputs": [],
   "source": [
    "# separating the feature and target columns\n",
    "\n",
    "X = df.drop('fraud_reported', axis = 1)\n",
    "y = df['fraud_reported']"
   ]
  },
  {
   "cell_type": "code",
   "execution_count": 13,
   "id": "6e41ff62",
   "metadata": {},
   "outputs": [],
   "source": [
    "# extracting categorical columns\n",
    "cat_df = X.select_dtypes(include = ['object'])"
   ]
  },
  {
   "cell_type": "code",
   "execution_count": 14,
   "id": "0b248b0d",
   "metadata": {},
   "outputs": [
    {
     "data": {
      "text/plain": [
       "Index(['customer_age', 'policy_csl', 'insured_sex', 'insured_education_level',\n",
       "       'insured_occupation', 'insured_relationship', 'incident_type',\n",
       "       'collision_type', 'incident_severity', 'authorities_contacted',\n",
       "       'incident_time_of_day', 'property_damage', 'police_report_available'],\n",
       "      dtype='object')"
      ]
     },
     "execution_count": 14,
     "metadata": {},
     "output_type": "execute_result"
    }
   ],
   "source": [
    "cat_df.columns"
   ]
  },
  {
   "cell_type": "code",
   "execution_count": 15,
   "id": "00bc0322",
   "metadata": {},
   "outputs": [
    {
     "name": "stdout",
     "output_type": "stream",
     "text": [
      "customer_age: \n",
      "['58' '31' '54' '61' '41' '32' '48' '24' '66' '57' '62' '56' '68' '26'\n",
      " '28' '64' '43' '46' '42' '21' '49' '59' '52' '47' '22' '63' '65' '69'\n",
      " '35' '37' '60' '30' '40' '20' '39' '45' '19' '67' '33' '29' '44' '34'\n",
      " '23' '53' '38' '27' '50' '55' '36' '25' '51']\n",
      "\n",
      "policy_csl: \n",
      "['250/500' '100/300' '500/1000']\n",
      "\n",
      "insured_sex: \n",
      "['FEMALE' 'MALE']\n",
      "\n",
      "insured_education_level: \n",
      "['MD' 'College' 'Masters' 'Associate' 'High School' 'PhD' 'JD']\n",
      "\n",
      "insured_occupation: \n",
      "['tech-support' 'adm-clerical' 'sales' 'machine-op-inspct'\n",
      " 'prof-specialty' 'farming-fishing' 'exec-managerial' 'priv-house-serv'\n",
      " 'handlers-cleaners' 'other-service' 'armed-forces' 'craft-repair'\n",
      " 'transport-moving' 'protective-serv']\n",
      "\n",
      "insured_relationship: \n",
      "['other-relative' 'husband' 'wife' 'own-child' 'not-in-family' 'unmarried']\n",
      "\n",
      "incident_type: \n",
      "['Multi-vehicle Collision' 'Single Vehicle Collision' 'Parked Car'\n",
      " 'Vehicle Theft']\n",
      "\n",
      "collision_type: \n",
      "['Details not Available' 'Front Collision' 'Rear Collision'\n",
      " 'Side Collision']\n",
      "\n",
      "incident_severity: \n",
      "['Major Damage' 'Minor Damage' 'Total Loss']\n",
      "\n",
      "authorities_contacted: \n",
      "['None' 'Police' 'Other' 'Ambulance' 'Fire']\n",
      "\n",
      "incident_time_of_day: \n",
      "['Night Time' 'Afternoon Hours' 'Morning to Noon' 'Early Morning Hours']\n",
      "\n",
      "property_damage: \n",
      "['No Property Damage' 'Property Damage' 'Details not Available']\n",
      "\n",
      "police_report_available: \n",
      "['Police Report Available' 'No Police Report Available' 'Unknown']\n",
      "\n"
     ]
    }
   ],
   "source": [
    "# printing unique values of each column\n",
    "for col in cat_df.columns:\n",
    "    print(f\"{col}: \\n{cat_df[col].unique()}\\n\")"
   ]
  },
  {
   "cell_type": "code",
   "execution_count": 16,
   "id": "44eeac43",
   "metadata": {},
   "outputs": [],
   "source": [
    "cat_df = pd.get_dummies(cat_df, drop_first = True)"
   ]
  },
  {
   "cell_type": "code",
   "execution_count": 17,
   "id": "ff74a5da",
   "metadata": {},
   "outputs": [],
   "source": [
    "num_df = df.select_dtypes(include = ['int16','int8','int32','float64'])"
   ]
  },
  {
   "cell_type": "code",
   "execution_count": 18,
   "id": "91f64b39",
   "metadata": {},
   "outputs": [
    {
     "data": {
      "text/plain": [
       "Index(['months_as_customer', 'policy_deductable', 'policy_annual_premium',\n",
       "       'umbrella_limit', 'capital_gains', 'capital_loss',\n",
       "       'incident_hour_of_the_day', 'number_of_vehicles_involved',\n",
       "       'bodily_injuries', 'witnesses', 'total_claim_amount', 'injury_claim',\n",
       "       'property_claim', 'vehicle_claim'],\n",
       "      dtype='object')"
      ]
     },
     "execution_count": 18,
     "metadata": {},
     "output_type": "execute_result"
    }
   ],
   "source": [
    "num_df.columns"
   ]
  },
  {
   "cell_type": "code",
   "execution_count": 19,
   "id": "5fd84c4c",
   "metadata": {},
   "outputs": [],
   "source": [
    "# combining the Numerical and Categorical dataframes to get the final dataset\n",
    "\n",
    "X = pd.concat([num_df, cat_df], axis = 1)"
   ]
  },
  {
   "cell_type": "code",
   "execution_count": 20,
   "id": "e5dc17e2",
   "metadata": {},
   "outputs": [],
   "source": [
    "# splitting data into training set and test set\n",
    "\n",
    "from sklearn.model_selection import train_test_split\n",
    "\n",
    "X_train, X_test, y_train, y_test = train_test_split(X, y, test_size = 0.25)"
   ]
  },
  {
   "cell_type": "code",
   "execution_count": 21,
   "id": "36da7ae2",
   "metadata": {},
   "outputs": [],
   "source": [
    "num_df = X_train[['months_as_customer', 'policy_deductable', 'umbrella_limit',\n",
    "       'capital_gains', 'capital_loss', 'incident_hour_of_the_day',\n",
    "       'number_of_vehicles_involved', 'bodily_injuries', 'witnesses', 'injury_claim', 'property_claim',\n",
    "       'vehicle_claim']]"
   ]
  },
  {
   "cell_type": "code",
   "execution_count": 22,
   "id": "4f94a7d3",
   "metadata": {},
   "outputs": [],
   "source": [
    "num_df_test = X_test[['months_as_customer', 'policy_deductable', 'umbrella_limit',\n",
    "       'capital_gains', 'capital_loss', 'incident_hour_of_the_day',\n",
    "       'number_of_vehicles_involved', 'bodily_injuries', 'witnesses', 'injury_claim', 'property_claim',\n",
    "       'vehicle_claim']]"
   ]
  },
  {
   "cell_type": "code",
   "execution_count": 23,
   "id": "4eac05ce",
   "metadata": {},
   "outputs": [],
   "source": [
    "# Scaling the numeric values in the dataset\n",
    "\n",
    "from sklearn.preprocessing import StandardScaler\n",
    "\n",
    "scaler = StandardScaler()\n",
    "scaled_data = scaler.fit_transform(num_df)"
   ]
  },
  {
   "cell_type": "code",
   "execution_count": 24,
   "id": "dd265d84",
   "metadata": {},
   "outputs": [],
   "source": [
    "scaled_data_test = scaler.transform(num_df_test)"
   ]
  },
  {
   "cell_type": "code",
   "execution_count": 25,
   "id": "fc7b669b",
   "metadata": {
    "scrolled": true
   },
   "outputs": [
    {
     "data": {
      "text/html": [
       "<div>\n",
       "<style scoped>\n",
       "    .dataframe tbody tr th:only-of-type {\n",
       "        vertical-align: middle;\n",
       "    }\n",
       "\n",
       "    .dataframe tbody tr th {\n",
       "        vertical-align: top;\n",
       "    }\n",
       "\n",
       "    .dataframe thead th {\n",
       "        text-align: right;\n",
       "    }\n",
       "</style>\n",
       "<table border=\"1\" class=\"dataframe\">\n",
       "  <thead>\n",
       "    <tr style=\"text-align: right;\">\n",
       "      <th></th>\n",
       "      <th>months_as_customer</th>\n",
       "      <th>policy_deductable</th>\n",
       "      <th>umbrella_limit</th>\n",
       "      <th>capital_gains</th>\n",
       "      <th>capital_loss</th>\n",
       "      <th>incident_hour_of_the_day</th>\n",
       "      <th>number_of_vehicles_involved</th>\n",
       "      <th>bodily_injuries</th>\n",
       "      <th>witnesses</th>\n",
       "      <th>injury_claim</th>\n",
       "      <th>property_claim</th>\n",
       "      <th>vehicle_claim</th>\n",
       "    </tr>\n",
       "  </thead>\n",
       "  <tbody>\n",
       "    <tr>\n",
       "      <th>227851</th>\n",
       "      <td>-0.074015</td>\n",
       "      <td>1.509635</td>\n",
       "      <td>0.944327</td>\n",
       "      <td>-0.038324</td>\n",
       "      <td>-0.542885</td>\n",
       "      <td>-0.008837</td>\n",
       "      <td>-0.678438</td>\n",
       "      <td>1.225009</td>\n",
       "      <td>-0.447918</td>\n",
       "      <td>0.808158</td>\n",
       "      <td>-0.980915</td>\n",
       "      <td>1.099058</td>\n",
       "    </tr>\n",
       "    <tr>\n",
       "      <th>16455</th>\n",
       "      <td>0.013966</td>\n",
       "      <td>-0.894916</td>\n",
       "      <td>-0.174544</td>\n",
       "      <td>1.303799</td>\n",
       "      <td>-1.182794</td>\n",
       "      <td>-1.033236</td>\n",
       "      <td>-0.678438</td>\n",
       "      <td>1.225009</td>\n",
       "      <td>0.448980</td>\n",
       "      <td>1.944948</td>\n",
       "      <td>-0.592532</td>\n",
       "      <td>0.175680</td>\n",
       "    </tr>\n",
       "    <tr>\n",
       "      <th>160610</th>\n",
       "      <td>0.156934</td>\n",
       "      <td>-0.378854</td>\n",
       "      <td>0.436487</td>\n",
       "      <td>-1.560858</td>\n",
       "      <td>-0.523430</td>\n",
       "      <td>1.186295</td>\n",
       "      <td>-0.678438</td>\n",
       "      <td>0.003227</td>\n",
       "      <td>-0.447918</td>\n",
       "      <td>0.311380</td>\n",
       "      <td>-0.162477</td>\n",
       "      <td>-1.230429</td>\n",
       "    </tr>\n",
       "    <tr>\n",
       "      <th>97651</th>\n",
       "      <td>-0.524915</td>\n",
       "      <td>0.088594</td>\n",
       "      <td>0.570497</td>\n",
       "      <td>1.709654</td>\n",
       "      <td>-0.335269</td>\n",
       "      <td>0.674095</td>\n",
       "      <td>-0.678438</td>\n",
       "      <td>-1.218555</td>\n",
       "      <td>1.345877</td>\n",
       "      <td>-1.021606</td>\n",
       "      <td>0.200878</td>\n",
       "      <td>-0.115323</td>\n",
       "    </tr>\n",
       "    <tr>\n",
       "      <th>203050</th>\n",
       "      <td>0.409878</td>\n",
       "      <td>0.097943</td>\n",
       "      <td>1.223808</td>\n",
       "      <td>0.781013</td>\n",
       "      <td>0.415781</td>\n",
       "      <td>-2.569833</td>\n",
       "      <td>-0.678438</td>\n",
       "      <td>0.003227</td>\n",
       "      <td>-0.447918</td>\n",
       "      <td>1.949279</td>\n",
       "      <td>-0.975706</td>\n",
       "      <td>-0.447642</td>\n",
       "    </tr>\n",
       "  </tbody>\n",
       "</table>\n",
       "</div>"
      ],
      "text/plain": [
       "        months_as_customer  policy_deductable  umbrella_limit  capital_gains   \n",
       "227851           -0.074015           1.509635        0.944327      -0.038324  \\\n",
       "16455             0.013966          -0.894916       -0.174544       1.303799   \n",
       "160610            0.156934          -0.378854        0.436487      -1.560858   \n",
       "97651            -0.524915           0.088594        0.570497       1.709654   \n",
       "203050            0.409878           0.097943        1.223808       0.781013   \n",
       "\n",
       "        capital_loss  incident_hour_of_the_day  number_of_vehicles_involved   \n",
       "227851     -0.542885                 -0.008837                    -0.678438  \\\n",
       "16455      -1.182794                 -1.033236                    -0.678438   \n",
       "160610     -0.523430                  1.186295                    -0.678438   \n",
       "97651      -0.335269                  0.674095                    -0.678438   \n",
       "203050      0.415781                 -2.569833                    -0.678438   \n",
       "\n",
       "        bodily_injuries  witnesses  injury_claim  property_claim   \n",
       "227851         1.225009  -0.447918      0.808158       -0.980915  \\\n",
       "16455          1.225009   0.448980      1.944948       -0.592532   \n",
       "160610         0.003227  -0.447918      0.311380       -0.162477   \n",
       "97651         -1.218555   1.345877     -1.021606        0.200878   \n",
       "203050         0.003227  -0.447918      1.949279       -0.975706   \n",
       "\n",
       "        vehicle_claim  \n",
       "227851       1.099058  \n",
       "16455        0.175680  \n",
       "160610      -1.230429  \n",
       "97651       -0.115323  \n",
       "203050      -0.447642  "
      ]
     },
     "execution_count": 25,
     "metadata": {},
     "output_type": "execute_result"
    }
   ],
   "source": [
    "scaled_num_df = pd.DataFrame(data = scaled_data, columns = num_df.columns, index = X_train.index)\n",
    "scaled_num_df.head()"
   ]
  },
  {
   "cell_type": "code",
   "execution_count": 26,
   "id": "2c749cfd",
   "metadata": {},
   "outputs": [
    {
     "data": {
      "text/html": [
       "<div>\n",
       "<style scoped>\n",
       "    .dataframe tbody tr th:only-of-type {\n",
       "        vertical-align: middle;\n",
       "    }\n",
       "\n",
       "    .dataframe tbody tr th {\n",
       "        vertical-align: top;\n",
       "    }\n",
       "\n",
       "    .dataframe thead th {\n",
       "        text-align: right;\n",
       "    }\n",
       "</style>\n",
       "<table border=\"1\" class=\"dataframe\">\n",
       "  <thead>\n",
       "    <tr style=\"text-align: right;\">\n",
       "      <th></th>\n",
       "      <th>months_as_customer</th>\n",
       "      <th>policy_deductable</th>\n",
       "      <th>umbrella_limit</th>\n",
       "      <th>capital_gains</th>\n",
       "      <th>capital_loss</th>\n",
       "      <th>incident_hour_of_the_day</th>\n",
       "      <th>number_of_vehicles_involved</th>\n",
       "      <th>bodily_injuries</th>\n",
       "      <th>witnesses</th>\n",
       "      <th>injury_claim</th>\n",
       "      <th>property_claim</th>\n",
       "      <th>vehicle_claim</th>\n",
       "    </tr>\n",
       "  </thead>\n",
       "  <tbody>\n",
       "    <tr>\n",
       "      <th>60108</th>\n",
       "      <td>1.355669</td>\n",
       "      <td>-1.065067</td>\n",
       "      <td>1.054285</td>\n",
       "      <td>0.887260</td>\n",
       "      <td>-1.534116</td>\n",
       "      <td>-1.033236</td>\n",
       "      <td>0.747760</td>\n",
       "      <td>1.225009</td>\n",
       "      <td>-1.344815</td>\n",
       "      <td>1.443977</td>\n",
       "      <td>-0.961731</td>\n",
       "      <td>1.590332</td>\n",
       "    </tr>\n",
       "    <tr>\n",
       "      <th>126304</th>\n",
       "      <td>-0.271971</td>\n",
       "      <td>-1.538124</td>\n",
       "      <td>-0.695601</td>\n",
       "      <td>-1.096628</td>\n",
       "      <td>-1.112496</td>\n",
       "      <td>0.503362</td>\n",
       "      <td>-0.678438</td>\n",
       "      <td>1.225009</td>\n",
       "      <td>-1.344815</td>\n",
       "      <td>-0.495203</td>\n",
       "      <td>-0.988411</td>\n",
       "      <td>1.312847</td>\n",
       "    </tr>\n",
       "    <tr>\n",
       "      <th>227854</th>\n",
       "      <td>1.410656</td>\n",
       "      <td>0.875776</td>\n",
       "      <td>-0.960052</td>\n",
       "      <td>-1.092851</td>\n",
       "      <td>-1.367763</td>\n",
       "      <td>0.503362</td>\n",
       "      <td>-0.678438</td>\n",
       "      <td>-1.218555</td>\n",
       "      <td>1.345877</td>\n",
       "      <td>-1.013082</td>\n",
       "      <td>-0.760234</td>\n",
       "      <td>1.106709</td>\n",
       "    </tr>\n",
       "    <tr>\n",
       "      <th>8517</th>\n",
       "      <td>-0.238978</td>\n",
       "      <td>-0.156348</td>\n",
       "      <td>-0.599682</td>\n",
       "      <td>0.646998</td>\n",
       "      <td>-1.179559</td>\n",
       "      <td>0.674095</td>\n",
       "      <td>-0.678438</td>\n",
       "      <td>1.225009</td>\n",
       "      <td>1.345877</td>\n",
       "      <td>-0.589388</td>\n",
       "      <td>-0.978755</td>\n",
       "      <td>-0.207903</td>\n",
       "    </tr>\n",
       "    <tr>\n",
       "      <th>110335</th>\n",
       "      <td>0.233917</td>\n",
       "      <td>-0.674281</td>\n",
       "      <td>0.463903</td>\n",
       "      <td>0.992465</td>\n",
       "      <td>-0.081389</td>\n",
       "      <td>-0.179570</td>\n",
       "      <td>0.747760</td>\n",
       "      <td>0.003227</td>\n",
       "      <td>0.448980</td>\n",
       "      <td>0.540275</td>\n",
       "      <td>1.396393</td>\n",
       "      <td>-1.564916</td>\n",
       "    </tr>\n",
       "  </tbody>\n",
       "</table>\n",
       "</div>"
      ],
      "text/plain": [
       "        months_as_customer  policy_deductable  umbrella_limit  capital_gains   \n",
       "60108             1.355669          -1.065067        1.054285       0.887260  \\\n",
       "126304           -0.271971          -1.538124       -0.695601      -1.096628   \n",
       "227854            1.410656           0.875776       -0.960052      -1.092851   \n",
       "8517             -0.238978          -0.156348       -0.599682       0.646998   \n",
       "110335            0.233917          -0.674281        0.463903       0.992465   \n",
       "\n",
       "        capital_loss  incident_hour_of_the_day  number_of_vehicles_involved   \n",
       "60108      -1.534116                 -1.033236                     0.747760  \\\n",
       "126304     -1.112496                  0.503362                    -0.678438   \n",
       "227854     -1.367763                  0.503362                    -0.678438   \n",
       "8517       -1.179559                  0.674095                    -0.678438   \n",
       "110335     -0.081389                 -0.179570                     0.747760   \n",
       "\n",
       "        bodily_injuries  witnesses  injury_claim  property_claim   \n",
       "60108          1.225009  -1.344815      1.443977       -0.961731  \\\n",
       "126304         1.225009  -1.344815     -0.495203       -0.988411   \n",
       "227854        -1.218555   1.345877     -1.013082       -0.760234   \n",
       "8517           1.225009   1.345877     -0.589388       -0.978755   \n",
       "110335         0.003227   0.448980      0.540275        1.396393   \n",
       "\n",
       "        vehicle_claim  \n",
       "60108        1.590332  \n",
       "126304       1.312847  \n",
       "227854       1.106709  \n",
       "8517        -0.207903  \n",
       "110335      -1.564916  "
      ]
     },
     "execution_count": 26,
     "metadata": {},
     "output_type": "execute_result"
    }
   ],
   "source": [
    "scaled_num_df_test = pd.DataFrame(data = scaled_data_test, columns = num_df_test.columns, index = X_test.index)\n",
    "scaled_num_df_test.head()"
   ]
  },
  {
   "cell_type": "code",
   "execution_count": 27,
   "id": "279e8a95",
   "metadata": {},
   "outputs": [],
   "source": [
    "X_train.drop(columns = scaled_num_df.columns, inplace = True)"
   ]
  },
  {
   "cell_type": "code",
   "execution_count": 28,
   "id": "c3f18e4c",
   "metadata": {},
   "outputs": [],
   "source": [
    "X_train = pd.concat([scaled_num_df, X_train], axis = 1)"
   ]
  },
  {
   "cell_type": "code",
   "execution_count": 29,
   "id": "11159f53",
   "metadata": {},
   "outputs": [],
   "source": [
    "X_test.drop(columns = scaled_num_df_test.columns, inplace = True)"
   ]
  },
  {
   "cell_type": "code",
   "execution_count": 30,
   "id": "6899602c",
   "metadata": {},
   "outputs": [],
   "source": [
    "X_test = pd.concat([scaled_num_df_test, X_test], axis = 1)"
   ]
  },
  {
   "cell_type": "markdown",
   "id": "3e398039",
   "metadata": {},
   "source": [
    "# Extra Tree Classifier"
   ]
  },
  {
   "cell_type": "code",
   "execution_count": 31,
   "id": "c47dde4e",
   "metadata": {},
   "outputs": [
    {
     "data": {
      "text/html": [
       "<style>#sk-container-id-1 {color: black;}#sk-container-id-1 pre{padding: 0;}#sk-container-id-1 div.sk-toggleable {background-color: white;}#sk-container-id-1 label.sk-toggleable__label {cursor: pointer;display: block;width: 100%;margin-bottom: 0;padding: 0.3em;box-sizing: border-box;text-align: center;}#sk-container-id-1 label.sk-toggleable__label-arrow:before {content: \"▸\";float: left;margin-right: 0.25em;color: #696969;}#sk-container-id-1 label.sk-toggleable__label-arrow:hover:before {color: black;}#sk-container-id-1 div.sk-estimator:hover label.sk-toggleable__label-arrow:before {color: black;}#sk-container-id-1 div.sk-toggleable__content {max-height: 0;max-width: 0;overflow: hidden;text-align: left;background-color: #f0f8ff;}#sk-container-id-1 div.sk-toggleable__content pre {margin: 0.2em;color: black;border-radius: 0.25em;background-color: #f0f8ff;}#sk-container-id-1 input.sk-toggleable__control:checked~div.sk-toggleable__content {max-height: 200px;max-width: 100%;overflow: auto;}#sk-container-id-1 input.sk-toggleable__control:checked~label.sk-toggleable__label-arrow:before {content: \"▾\";}#sk-container-id-1 div.sk-estimator input.sk-toggleable__control:checked~label.sk-toggleable__label {background-color: #d4ebff;}#sk-container-id-1 div.sk-label input.sk-toggleable__control:checked~label.sk-toggleable__label {background-color: #d4ebff;}#sk-container-id-1 input.sk-hidden--visually {border: 0;clip: rect(1px 1px 1px 1px);clip: rect(1px, 1px, 1px, 1px);height: 1px;margin: -1px;overflow: hidden;padding: 0;position: absolute;width: 1px;}#sk-container-id-1 div.sk-estimator {font-family: monospace;background-color: #f0f8ff;border: 1px dotted black;border-radius: 0.25em;box-sizing: border-box;margin-bottom: 0.5em;}#sk-container-id-1 div.sk-estimator:hover {background-color: #d4ebff;}#sk-container-id-1 div.sk-parallel-item::after {content: \"\";width: 100%;border-bottom: 1px solid gray;flex-grow: 1;}#sk-container-id-1 div.sk-label:hover label.sk-toggleable__label {background-color: #d4ebff;}#sk-container-id-1 div.sk-serial::before {content: \"\";position: absolute;border-left: 1px solid gray;box-sizing: border-box;top: 0;bottom: 0;left: 50%;z-index: 0;}#sk-container-id-1 div.sk-serial {display: flex;flex-direction: column;align-items: center;background-color: white;padding-right: 0.2em;padding-left: 0.2em;position: relative;}#sk-container-id-1 div.sk-item {position: relative;z-index: 1;}#sk-container-id-1 div.sk-parallel {display: flex;align-items: stretch;justify-content: center;background-color: white;position: relative;}#sk-container-id-1 div.sk-item::before, #sk-container-id-1 div.sk-parallel-item::before {content: \"\";position: absolute;border-left: 1px solid gray;box-sizing: border-box;top: 0;bottom: 0;left: 50%;z-index: -1;}#sk-container-id-1 div.sk-parallel-item {display: flex;flex-direction: column;z-index: 1;position: relative;background-color: white;}#sk-container-id-1 div.sk-parallel-item:first-child::after {align-self: flex-end;width: 50%;}#sk-container-id-1 div.sk-parallel-item:last-child::after {align-self: flex-start;width: 50%;}#sk-container-id-1 div.sk-parallel-item:only-child::after {width: 0;}#sk-container-id-1 div.sk-dashed-wrapped {border: 1px dashed gray;margin: 0 0.4em 0.5em 0.4em;box-sizing: border-box;padding-bottom: 0.4em;background-color: white;}#sk-container-id-1 div.sk-label label {font-family: monospace;font-weight: bold;display: inline-block;line-height: 1.2em;}#sk-container-id-1 div.sk-label-container {text-align: center;}#sk-container-id-1 div.sk-container {/* jupyter's `normalize.less` sets `[hidden] { display: none; }` but bootstrap.min.css set `[hidden] { display: none !important; }` so we also need the `!important` here to be able to override the default hidden behavior on the sphinx rendered scikit-learn.org. See: https://github.com/scikit-learn/scikit-learn/issues/21755 */display: inline-block !important;position: relative;}#sk-container-id-1 div.sk-text-repr-fallback {display: none;}</style><div id=\"sk-container-id-1\" class=\"sk-top-container\"><div class=\"sk-text-repr-fallback\"><pre>ExtraTreesClassifier()</pre><b>In a Jupyter environment, please rerun this cell to show the HTML representation or trust the notebook. <br />On GitHub, the HTML representation is unable to render, please try loading this page with nbviewer.org.</b></div><div class=\"sk-container\" hidden><div class=\"sk-item\"><div class=\"sk-estimator sk-toggleable\"><input class=\"sk-toggleable__control sk-hidden--visually\" id=\"sk-estimator-id-1\" type=\"checkbox\" checked><label for=\"sk-estimator-id-1\" class=\"sk-toggleable__label sk-toggleable__label-arrow\">ExtraTreesClassifier</label><div class=\"sk-toggleable__content\"><pre>ExtraTreesClassifier()</pre></div></div></div></div></div>"
      ],
      "text/plain": [
       "ExtraTreesClassifier()"
      ]
     },
     "execution_count": 31,
     "metadata": {},
     "output_type": "execute_result"
    }
   ],
   "source": [
    "etc = ExtraTreesClassifier()\n",
    "etc.fit(X_train, y_train)"
   ]
  },
  {
   "cell_type": "code",
   "execution_count": 32,
   "id": "797d22a1",
   "metadata": {},
   "outputs": [],
   "source": [
    "y_pred = etc.predict(X_test)"
   ]
  },
  {
   "cell_type": "code",
   "execution_count": 33,
   "id": "75a550c9",
   "metadata": {},
   "outputs": [],
   "source": [
    "y_prob = etc.predict_proba(X_test)[:,1]"
   ]
  },
  {
   "cell_type": "code",
   "execution_count": 34,
   "id": "9b41528c",
   "metadata": {
    "scrolled": true
   },
   "outputs": [
    {
     "name": "stdout",
     "output_type": "stream",
     "text": [
      "Training accuracy of Extra Tree is : 1.0\n",
      "Test accuracy of Extra Tree is : 0.9968412245803951\n",
      "[[ 8419   181]\n",
      " [    4 49963]]\n",
      "                   precision    recall  f1-score   support\n",
      "\n",
      "   Fraud Reported       1.00      0.98      0.99      8600\n",
      "No Fraud Reported       1.00      1.00      1.00     49967\n",
      "\n",
      "         accuracy                           1.00     58567\n",
      "        macro avg       1.00      0.99      0.99     58567\n",
      "     weighted avg       1.00      1.00      1.00     58567\n",
      "\n"
     ]
    }
   ],
   "source": [
    "etc_train_acc = accuracy_score(y_train, etc.predict(X_train))\n",
    "etc_test_acc = accuracy_score(y_test, y_pred)\n",
    "\n",
    "print(f\"Training accuracy of Extra Tree is : {etc_train_acc}\")\n",
    "print(f\"Test accuracy of Extra Tree is : {etc_test_acc}\")\n",
    "\n",
    "print(confusion_matrix(y_test, y_pred))\n",
    "print(classification_report(y_test, y_pred))"
   ]
  },
  {
   "cell_type": "code",
   "execution_count": 35,
   "id": "5794fbde",
   "metadata": {},
   "outputs": [],
   "source": [
    "from refractml import *\n",
    "from refractml.constants import MLModelFlavours\n",
    "import requests"
   ]
  },
  {
   "cell_type": "code",
   "execution_count": 36,
   "id": "40a70645",
   "metadata": {},
   "outputs": [],
   "source": [
    "actual_model_columns = ['months_as_customer',\n",
    " 'policy_deductable',\n",
    " 'umbrella_limit',\n",
    " 'capital_gains',\n",
    " 'capital_loss',\n",
    " 'incident_hour_of_the_day',\n",
    " 'number_of_vehicles_involved',\n",
    " 'bodily_injuries',\n",
    " 'witnesses',\n",
    " 'injury_claim',\n",
    " 'property_claim',\n",
    " 'vehicle_claim',\n",
    " 'policy_annual_premium',\n",
    " 'total_claim_amount',\n",
    " 'customer_age_20',\n",
    " 'customer_age_21',\n",
    " 'customer_age_22',\n",
    " 'customer_age_23',\n",
    " 'customer_age_24',\n",
    " 'customer_age_25',\n",
    " 'customer_age_26',\n",
    " 'customer_age_27',\n",
    " 'customer_age_28',\n",
    " 'customer_age_29',\n",
    " 'customer_age_30',\n",
    " 'customer_age_31',\n",
    " 'customer_age_32',\n",
    " 'customer_age_33',\n",
    " 'customer_age_34',\n",
    " 'customer_age_35',\n",
    " 'customer_age_36',\n",
    " 'customer_age_37',\n",
    " 'customer_age_38',\n",
    " 'customer_age_39',\n",
    " 'customer_age_40',\n",
    " 'customer_age_41',\n",
    " 'customer_age_42',\n",
    " 'customer_age_43',\n",
    " 'customer_age_44',\n",
    " 'customer_age_45',\n",
    " 'customer_age_46',\n",
    " 'customer_age_47',\n",
    " 'customer_age_48',\n",
    " 'customer_age_49',\n",
    " 'customer_age_50',\n",
    " 'customer_age_51',\n",
    " 'customer_age_52',\n",
    " 'customer_age_53',\n",
    " 'customer_age_54',\n",
    " 'customer_age_55',\n",
    " 'customer_age_56',\n",
    " 'customer_age_57',\n",
    " 'customer_age_58',\n",
    " 'customer_age_59',\n",
    " 'customer_age_60',\n",
    " 'customer_age_61',\n",
    " 'customer_age_62',\n",
    " 'customer_age_63',\n",
    " 'customer_age_64',\n",
    " 'customer_age_65',\n",
    " 'customer_age_66',\n",
    " 'customer_age_67',\n",
    " 'customer_age_68',\n",
    " 'customer_age_69',\n",
    " 'policy_csl_250/500',\n",
    " 'policy_csl_500/1000',\n",
    " 'insured_sex_MALE',\n",
    " 'insured_education_level_College',\n",
    " 'insured_education_level_High School',\n",
    " 'insured_education_level_JD',\n",
    " 'insured_education_level_MD',\n",
    " 'insured_education_level_Masters',\n",
    " 'insured_education_level_PhD',\n",
    " 'insured_occupation_armed-forces',\n",
    " 'insured_occupation_craft-repair',\n",
    " 'insured_occupation_exec-managerial',\n",
    " 'insured_occupation_farming-fishing',\n",
    " 'insured_occupation_handlers-cleaners',\n",
    " 'insured_occupation_machine-op-inspct',\n",
    " 'insured_occupation_other-service',\n",
    " 'insured_occupation_priv-house-serv',\n",
    " 'insured_occupation_prof-specialty',\n",
    " 'insured_occupation_protective-serv',\n",
    " 'insured_occupation_sales',\n",
    " 'insured_occupation_tech-support',\n",
    " 'insured_occupation_transport-moving',\n",
    " 'insured_relationship_not-in-family',\n",
    " 'insured_relationship_other-relative',\n",
    " 'insured_relationship_own-child',\n",
    " 'insured_relationship_unmarried',\n",
    " 'insured_relationship_wife',\n",
    " 'incident_type_Parked Car',\n",
    " 'incident_type_Single Vehicle Collision',\n",
    " 'incident_type_Vehicle Theft',\n",
    " 'collision_type_Front Collision',\n",
    " 'collision_type_Rear Collision',\n",
    " 'collision_type_Side Collision',\n",
    " 'incident_severity_Minor Damage',\n",
    " 'incident_severity_Total Loss',\n",
    " 'authorities_contacted_Fire',\n",
    " 'authorities_contacted_None',\n",
    " 'authorities_contacted_Other',\n",
    " 'authorities_contacted_Police',\n",
    " 'incident_time_of_day_Early Morning Hours',\n",
    " 'incident_time_of_day_Morning to Noon',\n",
    " 'incident_time_of_day_Night Time',\n",
    " 'property_damage_No Property Damage',\n",
    " 'property_damage_Property Damage',\n",
    " 'police_report_available_Police Report Available',\n",
    " 'police_report_available_Unknown']"
   ]
  },
  {
   "cell_type": "code",
   "execution_count": 37,
   "id": "293e583a",
   "metadata": {},
   "outputs": [],
   "source": [
    "@scoring_func\n",
    "def score(model, request):\n",
    "    payload_dict = request.json[\"payload\"]\n",
    "    df = pd.DataFrame(payload_dict,index=[0])\n",
    "    df = df.fillna(0)\n",
    "    df.columns = df.columns.str.lower()\n",
    "    df.drop(to_drop, inplace=True, axis=1)\n",
    "    \n",
    "    # extracting categorical columns\n",
    "    cat_df = df[['customer_age','policy_csl','insured_sex','insured_education_level','insured_occupation','insured_relationship','incident_type','collision_type','incident_severity','authorities_contacted','incident_time_of_day','property_damage','police_report_available']]\n",
    "    cat_df = pd.get_dummies(cat_df, drop_first = True)\n",
    "\n",
    "    num_df = df[['months_as_customer', 'policy_deductable', 'policy_annual_premium',\n",
    "       'umbrella_limit', 'capital_gains', 'capital_loss',\n",
    "       'incident_hour_of_the_day', 'number_of_vehicles_involved',\n",
    "       'bodily_injuries', 'witnesses', 'total_claim_amount', 'injury_claim',\n",
    "       'property_claim', 'vehicle_claim']]\n",
    "    \n",
    "    X = pd.concat([num_df, cat_df], axis = 1)\n",
    "    \n",
    "    num_df_test = X[['months_as_customer', 'policy_deductable', 'umbrella_limit',\n",
    "       'capital_gains', 'capital_loss', 'incident_hour_of_the_day',\n",
    "       'number_of_vehicles_involved', 'bodily_injuries', 'witnesses', 'injury_claim', 'property_claim',\n",
    "       'vehicle_claim']]\n",
    "\n",
    "    scaled_data_test = scaler.transform(num_df_test)\n",
    "    scaled_num_df_test = pd.DataFrame(data = scaled_data_test, columns = num_df_test.columns, index = X.index)\n",
    "    \n",
    "    X.drop(columns = scaled_num_df_test.columns, inplace = True)\n",
    "    X = pd.concat([scaled_num_df_test, X], axis = 1)\n",
    "    \n",
    "    missing_features = [missing_col for missing_col in actual_model_columns if missing_col not in X.columns]\n",
    "    X[missing_features] = 0\n",
    "    \n",
    "    prediction = model.predict(X[actual_model_columns])\n",
    "    probability = model.predict_proba(X)[:,1]\n",
    "    return {\"prediction\" : prediction, \"probability\" : probability}"
   ]
  },
  {
   "cell_type": "code",
   "execution_count": 38,
   "id": "4027c115",
   "metadata": {},
   "outputs": [],
   "source": [
    "insurance_claim.columns = insurance_claim.columns.str.upper()\n",
    "insurance_claims = insurance_claim.copy()\n",
    "insurance_claims.drop('FRAUD_REPORTED', axis = 1, inplace=True)\n",
    "payload = insurance_claims.iloc[0].to_dict()"
   ]
  },
  {
   "cell_type": "code",
   "execution_count": 40,
   "id": "4c06046d",
   "metadata": {},
   "outputs": [
    {
     "data": {
      "text/plain": [
       "{'prediction': array(['No Fraud Reported'], dtype=object),\n",
       " 'probability': array([1.])}"
      ]
     },
     "execution_count": 40,
     "metadata": {},
     "output_type": "execute_result"
    }
   ],
   "source": [
    "req = requests.Request()\n",
    "req.json = {\"payload\":payload}\n",
    "y_req = req\n",
    "y_out = score(etc, y_req)\n",
    "y_out"
   ]
  },
  {
   "cell_type": "code",
   "execution_count": 41,
   "id": "0cdbb6de",
   "metadata": {},
   "outputs": [
    {
     "data": {
      "text/plain": [
       "{'payload': {'MONTHS_AS_CUSTOMER': 37,\n",
       "  'CUSTOMER_AGE': '58',\n",
       "  'POLICY_NUMBER': 459791,\n",
       "  'POLICY_BIND_DATE': '27-04-2010',\n",
       "  'POLICY_STATE': 'CT',\n",
       "  'POLICY_CSL': '250/500',\n",
       "  'POLICY_DEDUCTABLE': 1171,\n",
       "  'POLICY_ANNUAL_PREMIUM': 1394,\n",
       "  'UMBRELLA_LIMIT': 4344805,\n",
       "  'INSURED_ZIP': '444558',\n",
       "  'INSURED_SEX': 'FEMALE',\n",
       "  'INSURED_EDUCATION_LEVEL': 'MD',\n",
       "  'INSURED_OCCUPATION': 'tech-support',\n",
       "  'INSURED_HOBBIES': 'board-games',\n",
       "  'INSURED_RELATIONSHIP': 'other-relative',\n",
       "  'CAPITAL_GAINS': 77256,\n",
       "  'CAPITAL_LOSS': -9989,\n",
       "  'INCIDENT_DATE': datetime.date(2022, 5, 13),\n",
       "  'INCIDENT_TYPE': 'Multi-vehicle Collision',\n",
       "  'COLLISION_TYPE': 'Details not Available',\n",
       "  'INCIDENT_SEVERITY': 'Major Damage',\n",
       "  'AUTHORITIES_CONTACTED': 'None',\n",
       "  'INCIDENT_STATE': 'CT',\n",
       "  'INCIDENT_CITY': 'Vernon',\n",
       "  'INCIDENT_LOCATION': 'Lane',\n",
       "  'INCIDENT_HOUR_OF_THE_DAY': 22,\n",
       "  'INCIDENT_TIME_OF_DAY': 'Night Time',\n",
       "  'NUMBER_OF_VEHICLES_INVOLVED': 3,\n",
       "  'PROPERTY_DAMAGE': 'No Property Damage',\n",
       "  'BODILY_INJURIES': 1,\n",
       "  'WITNESSES': 2,\n",
       "  'POLICE_REPORT_AVAILABLE': 'Police Report Available',\n",
       "  'TOTAL_CLAIM_AMOUNT': 77586.0,\n",
       "  'INJURY_CLAIM': 13159.0,\n",
       "  'PROPERTY_CLAIM': 888.0,\n",
       "  'VEHICLE_CLAIM': 63539.0,\n",
       "  'AUTO_MAKE': 'BMW',\n",
       "  'AUTO_MODEL': '3 Series',\n",
       "  'AUTO_YEAR': 2010}}"
      ]
     },
     "execution_count": 41,
     "metadata": {},
     "output_type": "execute_result"
    }
   ],
   "source": [
    "req.json"
   ]
  },
  {
   "cell_type": "code",
   "execution_count": null,
   "id": "26e0a320",
   "metadata": {},
   "outputs": [],
   "source": [
    "## registering the model in refract.\n",
    "model_reg = register_model(etc, \n",
    "               score, \n",
    "               name=\"ILF_ExtraTree_FraudClassifier\", \n",
    "               description=\"Insurance claim's model trained for Fraud Classification\",\n",
    "               flavour=MLModelFlavours.sklearn,\n",
    "               model_type=\"classification\",\n",
    "               init_script=\"snowflake-connector-python[pandas]\",\n",
    "               y_true=y_test,\n",
    "               y_pred=y_pred, \n",
    "               prob=y_prob,\n",
    "               features=X_train.columns,\n",
    "               input_type=\"json\", \n",
    "               explain_ai=True,\n",
    "               x_train=X_train, \n",
    "               x_test=X_test, \n",
    "               y_train=y_train.tolist(),\n",
    "               y_test=y_test.tolist(),\n",
    "               feature_names=X_train.columns.tolist(),\n",
    "               original_features=X_train.columns.tolist(),\n",
    "               feature_ids=X_train.columns,\n",
    "               kyd=True, kyd_score = True)"
   ]
  }
 ],
 "metadata": {
  "kernelspec": {
   "display_name": "Python 3",
   "language": "python",
   "name": "python3"
  },
  "language_info": {
   "codemirror_mode": {
    "name": "ipython",
    "version": 3
   },
   "file_extension": ".py",
   "mimetype": "text/x-python",
   "name": "python",
   "nbconvert_exporter": "python",
   "pygments_lexer": "ipython3",
   "version": "3.8.18"
  }
 },
 "nbformat": 4,
 "nbformat_minor": 5
}
