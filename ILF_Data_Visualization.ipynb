{
 "cells": [
  {
   "cell_type": "markdown",
   "id": "632503b3",
   "metadata": {},
   "source": [
    "# Use Claims_Modeling Notebook template"
   ]
  },
  {
   "cell_type": "markdown",
   "id": "5b2b84af",
   "metadata": {},
   "source": [
    "## Import Snowpark Pandas for dumping csv to Snowflake table"
   ]
  },
  {
   "cell_type": "code",
   "execution_count": 13,
   "id": "31e7ad4a",
   "metadata": {},
   "outputs": [
    {
     "name": "stdout",
     "output_type": "stream",
     "text": [
      "\u001b[33mWARNING: The directory '/home/mosaic-ai/.cache/pip/http' or its parent directory is not owned by the current user and the cache has been disabled. Please check the permissions and owner of that directory. If executing pip with sudo, you may want sudo's -H flag.\u001b[0m\n",
      "\u001b[33mWARNING: The directory '/home/mosaic-ai/.cache/pip' or its parent directory is not owned by the current user and caching wheels has been disabled. check the permissions and owner of that directory. If executing pip with sudo, you may want sudo's -H flag.\u001b[0m\n",
      "\u001b[31mERROR: refractio 2.1.5.5 has requirement pandas==2.0.0, but you'll have pandas 2.0.3 which is incompatible.\u001b[0m\n",
      "\u001b[31mERROR: mlflow 2.6.0 has requirement packaging<24, but you'll have packaging 24.0 which is incompatible.\u001b[0m\n",
      "\u001b[31mERROR: mlflow 2.6.0 has requirement pyarrow<13,>=4.0.0, but you'll have pyarrow 16.0.0 which is incompatible.\u001b[0m\n",
      "\u001b[31mERROR: mlflow 2.6.0 has requirement pytz<2024, but you'll have pytz 2024.1 which is incompatible.\u001b[0m\n",
      "\u001b[31mERROR: snowflake-snowpark-python 1.9.0 has requirement cloudpickle<=2.0.0,>=1.6.0; python_version < \"3.11\", but you'll have cloudpickle 2.2.1 which is incompatible.\u001b[0m\n",
      "\u001b[31mERROR: refractml 1.0.4 has requirement cloudpickle==1.6.0, but you'll have cloudpickle 2.2.1 which is incompatible.\u001b[0m\n",
      "\u001b[31mERROR: refractml 1.0.4 has requirement PyYAML==6.0, but you'll have pyyaml 6.0.1 which is incompatible.\u001b[0m\n",
      "\u001b[31mERROR: refractml 1.0.4 has requirement urllib3==1.26.15, but you'll have urllib3 1.26.18 which is incompatible.\u001b[0m\n",
      "\u001b[31mERROR: mosaic-utils 1.0.2 has requirement scikit-learn==1.2.1; python_version >= \"3.8\", but you'll have scikit-learn 1.3.2 which is incompatible.\u001b[0m\n",
      "\u001b[31mERROR: snowflake-ml-python 1.0.11 has requirement packaging<24,>=20.9, but you'll have packaging 24.0 which is incompatible.\u001b[0m\n",
      "\u001b[31mERROR: snowflake-ml-python 1.0.11 has requirement pandas<2,>=1.0.0, but you'll have pandas 2.0.3 which is incompatible.\u001b[0m\n",
      "\u001b[31mERROR: snowflake-ml-python 1.0.11 has requirement xgboost<2,>=1.7.3, but you'll have xgboost 2.0.3 which is incompatible.\u001b[0m\n",
      "\u001b[31mERROR: openapi-schema-validator 0.6.2 has requirement jsonschema<5.0.0,>=4.19.1, but you'll have jsonschema 3.2.0 which is incompatible.\u001b[0m\n",
      "\u001b[31mERROR: mosaic-ai-serving 1.0.0 has requirement Flask==2.1.1; python_version >= \"3.7\", but you'll have flask 2.3.3 which is incompatible.\u001b[0m\n",
      "\u001b[31mERROR: mosaic-ai-serving 1.0.0 has requirement itsdangerous==2.0.1, but you'll have itsdangerous 2.1.2 which is incompatible.\u001b[0m\n",
      "\u001b[31mERROR: mosaic-ai-serving 1.0.0 has requirement Jinja2==3.0.3, but you'll have jinja2 3.1.3 which is incompatible.\u001b[0m\n",
      "\u001b[31mERROR: mosaic-ai-serving 1.0.0 has requirement matplotlib==3.6.0; python_version >= \"3.8\", but you'll have matplotlib 3.7.5 which is incompatible.\u001b[0m\n",
      "\u001b[31mERROR: mosaic-ai-client 1.0.0 has requirement matplotlib==3.1.1, but you'll have matplotlib 3.7.5 which is incompatible.\u001b[0m\n",
      "\u001b[31mERROR: jupyterlab 3.2.4 has requirement jupyter-server~=1.4, but you'll have jupyter-server 2.0.0a1 which is incompatible.\u001b[0m\n",
      "\u001b[31mERROR: jupyterlab-server 2.25.4 has requirement jsonschema>=4.18.0, but you'll have jsonschema 3.2.0 which is incompatible.\u001b[0m\n",
      "\u001b[33mWARNING: Target directory /tmp/pip_packages/typing_extensions.py already exists. Specify --upgrade to force replacement.\u001b[0m\n",
      "\u001b[33mWARNING: Target directory /tmp/pip_packages/typing_extensions-4.11.0.dist-info already exists. Specify --upgrade to force replacement.\u001b[0m\n",
      "\u001b[33mWARNING: Target directory /tmp/pip_packages/__pycache__ already exists. Specify --upgrade to force replacement.\u001b[0m\n",
      "\u001b[33mWARNING: Target directory /tmp/pip_packages/pytz already exists. Specify --upgrade to force replacement.\u001b[0m\n",
      "\u001b[33mWARNING: Target directory /tmp/pip_packages/pytz-2024.1.dist-info already exists. Specify --upgrade to force replacement.\u001b[0m\n",
      "\u001b[33mWARNING: Target directory /tmp/pip_packages/pycparser already exists. Specify --upgrade to force replacement.\u001b[0m\n",
      "\u001b[33mWARNING: Target directory /tmp/pip_packages/pycparser-2.22.dist-info already exists. Specify --upgrade to force replacement.\u001b[0m\n",
      "\u001b[33mWARNING: Target directory /tmp/pip_packages/_cffi_backend.cpython-38-x86_64-linux-gnu.so already exists. Specify --upgrade to force replacement.\u001b[0m\n",
      "\u001b[33mWARNING: Target directory /tmp/pip_packages/cffi already exists. Specify --upgrade to force replacement.\u001b[0m\n",
      "\u001b[33mWARNING: Target directory /tmp/pip_packages/cffi-1.16.0.dist-info already exists. Specify --upgrade to force replacement.\u001b[0m\n",
      "\u001b[33mWARNING: Target directory /tmp/pip_packages/asn1crypto already exists. Specify --upgrade to force replacement.\u001b[0m\n",
      "\u001b[33mWARNING: Target directory /tmp/pip_packages/asn1crypto-1.5.1.dist-info already exists. Specify --upgrade to force replacement.\u001b[0m\n",
      "\u001b[33mWARNING: Target directory /tmp/pip_packages/urllib3 already exists. Specify --upgrade to force replacement.\u001b[0m\n",
      "\u001b[33mWARNING: Target directory /tmp/pip_packages/urllib3-1.26.18.dist-info already exists. Specify --upgrade to force replacement.\u001b[0m\n",
      "\u001b[33mWARNING: Target directory /tmp/pip_packages/charset_normalizer already exists. Specify --upgrade to force replacement.\u001b[0m\n",
      "\u001b[33mWARNING: Target directory /tmp/pip_packages/charset_normalizer-3.3.2.dist-info already exists. Specify --upgrade to force replacement.\u001b[0m\n",
      "\u001b[33mWARNING: Target directory /tmp/pip_packages/certifi already exists. Specify --upgrade to force replacement.\u001b[0m\n",
      "\u001b[33mWARNING: Target directory /tmp/pip_packages/certifi-2024.2.2.dist-info already exists. Specify --upgrade to force replacement.\u001b[0m\n",
      "\u001b[33mWARNING: Target directory /tmp/pip_packages/idna already exists. Specify --upgrade to force replacement.\u001b[0m\n",
      "\u001b[33mWARNING: Target directory /tmp/pip_packages/idna-3.7.dist-info already exists. Specify --upgrade to force replacement.\u001b[0m\n",
      "\u001b[33mWARNING: Target directory /tmp/pip_packages/requests already exists. Specify --upgrade to force replacement.\u001b[0m\n",
      "\u001b[33mWARNING: Target directory /tmp/pip_packages/requests-2.31.0.dist-info already exists. Specify --upgrade to force replacement.\u001b[0m\n",
      "\u001b[33mWARNING: Target directory /tmp/pip_packages/tomlkit already exists. Specify --upgrade to force replacement.\u001b[0m\n",
      "\u001b[33mWARNING: Target directory /tmp/pip_packages/tomlkit-0.12.4.dist-info already exists. Specify --upgrade to force replacement.\u001b[0m\n",
      "\u001b[33mWARNING: Target directory /tmp/pip_packages/cryptography-42.0.6.dist-info already exists. Specify --upgrade to force replacement.\u001b[0m\n",
      "\u001b[33mWARNING: Target directory /tmp/pip_packages/cryptography already exists. Specify --upgrade to force replacement.\u001b[0m\n",
      "\u001b[33mWARNING: Target directory /tmp/pip_packages/packaging already exists. Specify --upgrade to force replacement.\u001b[0m\n",
      "\u001b[33mWARNING: Target directory /tmp/pip_packages/packaging-24.0.dist-info already exists. Specify --upgrade to force replacement.\u001b[0m\n",
      "\u001b[33mWARNING: Target directory /tmp/pip_packages/OpenSSL already exists. Specify --upgrade to force replacement.\u001b[0m\n",
      "\u001b[33mWARNING: Target directory /tmp/pip_packages/pyOpenSSL-24.1.0.dist-info already exists. Specify --upgrade to force replacement.\u001b[0m\n",
      "\u001b[33mWARNING: Target directory /tmp/pip_packages/filelock already exists. Specify --upgrade to force replacement.\u001b[0m\n",
      "\u001b[33mWARNING: Target directory /tmp/pip_packages/filelock-3.14.0.dist-info already exists. Specify --upgrade to force replacement.\u001b[0m\n",
      "\u001b[33mWARNING: Target directory /tmp/pip_packages/jwt already exists. Specify --upgrade to force replacement.\u001b[0m\n",
      "\u001b[33mWARNING: Target directory /tmp/pip_packages/PyJWT-2.8.0.dist-info already exists. Specify --upgrade to force replacement.\u001b[0m\n",
      "\u001b[33mWARNING: Target directory /tmp/pip_packages/platformdirs already exists. Specify --upgrade to force replacement.\u001b[0m\n",
      "\u001b[33mWARNING: Target directory /tmp/pip_packages/platformdirs-4.2.1.dist-info already exists. Specify --upgrade to force replacement.\u001b[0m\n",
      "\u001b[33mWARNING: Target directory /tmp/pip_packages/sortedcontainers already exists. Specify --upgrade to force replacement.\u001b[0m\n",
      "\u001b[33mWARNING: Target directory /tmp/pip_packages/sortedcontainers-2.4.0.dist-info already exists. Specify --upgrade to force replacement.\u001b[0m\n",
      "\u001b[33mWARNING: Target directory /tmp/pip_packages/numpy.libs already exists. Specify --upgrade to force replacement.\u001b[0m\n",
      "\u001b[33mWARNING: Target directory /tmp/pip_packages/numpy-1.24.4.dist-info already exists. Specify --upgrade to force replacement.\u001b[0m\n",
      "\u001b[33mWARNING: Target directory /tmp/pip_packages/numpy already exists. Specify --upgrade to force replacement.\u001b[0m\n",
      "\u001b[33mWARNING: Target directory /tmp/pip_packages/six.py already exists. Specify --upgrade to force replacement.\u001b[0m\n",
      "\u001b[33mWARNING: Target directory /tmp/pip_packages/six-1.16.0.dist-info already exists. Specify --upgrade to force replacement.\u001b[0m\n",
      "\u001b[33mWARNING: Target directory /tmp/pip_packages/dateutil already exists. Specify --upgrade to force replacement.\u001b[0m\n",
      "\u001b[33mWARNING: Target directory /tmp/pip_packages/python_dateutil-2.9.0.post0.dist-info already exists. Specify --upgrade to force replacement.\u001b[0m\n",
      "\u001b[33mWARNING: Target directory /tmp/pip_packages/tzdata already exists. Specify --upgrade to force replacement.\u001b[0m\n",
      "\u001b[33mWARNING: Target directory /tmp/pip_packages/tzdata-2024.1.dist-info already exists. Specify --upgrade to force replacement.\u001b[0m\n",
      "\u001b[33mWARNING: Target directory /tmp/pip_packages/pandas-2.0.3.dist-info already exists. Specify --upgrade to force replacement.\u001b[0m\n",
      "\u001b[33mWARNING: Target directory /tmp/pip_packages/pandas already exists. Specify --upgrade to force replacement.\u001b[0m\n",
      "\u001b[33mWARNING: Target directory /tmp/pip_packages/pyarrow-16.0.0.dist-info already exists. Specify --upgrade to force replacement.\u001b[0m\n",
      "\u001b[33mWARNING: Target directory /tmp/pip_packages/pyarrow already exists. Specify --upgrade to force replacement.\u001b[0m\n",
      "\u001b[33mWARNING: Target directory /tmp/pip_packages/snowflake already exists. Specify --upgrade to force replacement.\u001b[0m\n",
      "\u001b[33mWARNING: Target directory /tmp/pip_packages/snowflake_connector_python-3.10.0.dist-info already exists. Specify --upgrade to force replacement.\u001b[0m\n",
      "\u001b[33mWARNING: Target directory /tmp/pip_packages/bin already exists. Specify --upgrade to force replacement.\u001b[0m\n"
     ]
    },
    {
     "name": "stdout",
     "output_type": "stream",
     "text": [
      "\u001b[33mWARNING: You are using pip version 19.3.1; however, version 24.0 is available.\n",
      "You should consider upgrading via the 'pip install --upgrade pip' command.\u001b[0m\n",
      "\u001b[33mWARNING: You are using pip version 19.3.1; however, version 24.0 is available.\n",
      "You should consider upgrading via the 'pip install --upgrade pip' command.\u001b[0m\n",
      "\u001b[33mWARNING: The directory '/home/mosaic-ai/.cache/pip/http' or its parent directory is not owned by the current user and the cache has been disabled. Please check the permissions and owner of that directory. If executing pip with sudo, you may want sudo's -H flag.\u001b[0m\n",
      "\u001b[33mWARNING: The directory '/home/mosaic-ai/.cache/pip' or its parent directory is not owned by the current user and caching wheels has been disabled. check the permissions and owner of that directory. If executing pip with sudo, you may want sudo's -H flag.\u001b[0m\n",
      "\u001b[31mERROR: mlflow 2.6.0 has requirement packaging<24, but you'll have packaging 24.0 which is incompatible.\u001b[0m\n",
      "\u001b[31mERROR: mlflow 2.6.0 has requirement pytz<2024, but you'll have pytz 2024.1 which is incompatible.\u001b[0m\n",
      "\u001b[31mERROR: refractml 1.0.4 has requirement cloudpickle==1.6.0, but you'll have cloudpickle 2.0.0 which is incompatible.\u001b[0m\n",
      "\u001b[31mERROR: refractml 1.0.4 has requirement PyYAML==6.0, but you'll have pyyaml 6.0.1 which is incompatible.\u001b[0m\n",
      "\u001b[31mERROR: refractml 1.0.4 has requirement urllib3==1.26.15, but you'll have urllib3 1.26.18 which is incompatible.\u001b[0m\n",
      "\u001b[31mERROR: snowflake-ml-python 1.0.11 has requirement packaging<24,>=20.9, but you'll have packaging 24.0 which is incompatible.\u001b[0m\n",
      "\u001b[31mERROR: snowflake-ml-python 1.0.11 has requirement pandas<2,>=1.0.0, but you'll have pandas 2.0.3 which is incompatible.\u001b[0m\n",
      "\u001b[31mERROR: snowflake-ml-python 1.0.11 has requirement xgboost<2,>=1.7.3, but you'll have xgboost 2.0.3 which is incompatible.\u001b[0m\n",
      "\u001b[31mERROR: mosaic-ai-serving 1.0.0 has requirement Flask==2.1.1; python_version >= \"3.7\", but you'll have flask 2.3.3 which is incompatible.\u001b[0m\n",
      "\u001b[31mERROR: mosaic-ai-serving 1.0.0 has requirement itsdangerous==2.0.1, but you'll have itsdangerous 2.1.2 which is incompatible.\u001b[0m\n",
      "\u001b[31mERROR: mosaic-ai-serving 1.0.0 has requirement Jinja2==3.0.3, but you'll have jinja2 3.1.3 which is incompatible.\u001b[0m\n",
      "\u001b[31mERROR: mosaic-ai-serving 1.0.0 has requirement matplotlib==3.6.0; python_version >= \"3.8\", but you'll have matplotlib 3.7.5 which is incompatible.\u001b[0m\n",
      "\u001b[31mERROR: mosaic-ai-client 1.0.0 has requirement matplotlib==3.1.1, but you'll have matplotlib 3.7.5 which is incompatible.\u001b[0m\n",
      "\u001b[31mERROR: jupyterlab 3.2.4 has requirement jupyter-server~=1.4, but you'll have jupyter-server 2.0.0a1 which is incompatible.\u001b[0m\n",
      "\u001b[31mERROR: jupyterlab-server 2.25.4 has requirement jsonschema>=4.18.0, but you'll have jsonschema 3.2.0 which is incompatible.\u001b[0m\n",
      "\u001b[33mWARNING: You are using pip version 19.3.1; however, version 24.0 is available.\n",
      "You should consider upgrading via the 'pip install --upgrade pip' command.\u001b[0m\n",
      "\u001b[33mWARNING: The directory '/home/mosaic-ai/.cache/pip/http' or its parent directory is not owned by the current user and the cache has been disabled. Please check the permissions and owner of that directory. If executing pip with sudo, you may want sudo's -H flag.\u001b[0m\n",
      "\u001b[33mWARNING: The directory '/home/mosaic-ai/.cache/pip' or its parent directory is not owned by the current user and caching wheels has been disabled. check the permissions and owner of that directory. If executing pip with sudo, you may want sudo's -H flag.\u001b[0m\n",
      "\u001b[31mERROR: refractio 2.1.5.5 has requirement pandas==2.0.0, but you'll have pandas 2.0.3 which is incompatible.\u001b[0m\n",
      "\u001b[31mERROR: mlflow 2.6.0 has requirement packaging<24, but you'll have packaging 24.0 which is incompatible.\u001b[0m\n",
      "\u001b[31mERROR: mlflow 2.6.0 has requirement pytz<2024, but you'll have pytz 2024.1 which is incompatible.\u001b[0m\n",
      "\u001b[31mERROR: mosaic-utils 1.0.2 has requirement scikit-learn==1.2.1; python_version >= \"3.8\", but you'll have scikit-learn 1.3.2 which is incompatible.\u001b[0m\n",
      "\u001b[31mERROR: snowflake-ml-python 1.0.11 has requirement packaging<24,>=20.9, but you'll have packaging 24.0 which is incompatible.\u001b[0m\n",
      "\u001b[31mERROR: snowflake-ml-python 1.0.11 has requirement pandas<2,>=1.0.0, but you'll have pandas 2.0.3 which is incompatible.\u001b[0m\n",
      "\u001b[31mERROR: snowflake-ml-python 1.0.11 has requirement xgboost<2,>=1.7.3, but you'll have xgboost 2.0.3 which is incompatible.\u001b[0m\n",
      "\u001b[31mERROR: openapi-spec-validator 0.7.1 has requirement jsonschema<5.0.0,>=4.18.0, but you'll have jsonschema 3.2.0 which is incompatible.\u001b[0m\n",
      "\u001b[31mERROR: openapi-schema-validator 0.6.2 has requirement jsonschema<5.0.0,>=4.19.1, but you'll have jsonschema 3.2.0 which is incompatible.\u001b[0m\n",
      "\u001b[31mERROR: mosaic-ai-serving 1.0.0 has requirement Flask==2.1.1; python_version >= \"3.7\", but you'll have flask 2.3.3 which is incompatible.\u001b[0m\n",
      "\u001b[31mERROR: mosaic-ai-serving 1.0.0 has requirement itsdangerous==2.0.1, but you'll have itsdangerous 2.1.2 which is incompatible.\u001b[0m\n",
      "\u001b[31mERROR: mosaic-ai-serving 1.0.0 has requirement Jinja2==3.0.3, but you'll have jinja2 3.1.3 which is incompatible.\u001b[0m\n",
      "\u001b[31mERROR: mosaic-ai-serving 1.0.0 has requirement matplotlib==3.6.0; python_version >= \"3.8\", but you'll have matplotlib 3.7.5 which is incompatible.\u001b[0m\n",
      "\u001b[31mERROR: mosaic-ai-client 1.0.0 has requirement matplotlib==3.1.1, but you'll have matplotlib 3.7.5 which is incompatible.\u001b[0m\n",
      "\u001b[31mERROR: jupyterlab 3.2.4 has requirement jupyter-server~=1.4, but you'll have jupyter-server 2.0.0a1 which is incompatible.\u001b[0m\n",
      "\u001b[31mERROR: jupyterlab-server 2.25.4 has requirement jsonschema>=4.18.0, but you'll have jsonschema 3.2.0 which is incompatible.\u001b[0m\n",
      "\u001b[33mWARNING: Target directory /tmp/pip_packages/six.py already exists. Specify --upgrade to force replacement.\u001b[0m\n",
      "\u001b[33mWARNING: Target directory /tmp/pip_packages/six-1.16.0.dist-info already exists. Specify --upgrade to force replacement.\u001b[0m\n",
      "\u001b[33mWARNING: Target directory /tmp/pip_packages/__pycache__ already exists. Specify --upgrade to force replacement.\u001b[0m\n",
      "\u001b[33mWARNING: Target directory /tmp/pip_packages/dateutil already exists. Specify --upgrade to force replacement.\u001b[0m\n",
      "\u001b[33mWARNING: Target directory /tmp/pip_packages/python_dateutil-2.9.0.post0.dist-info already exists. Specify --upgrade to force replacement.\u001b[0m\n",
      "\u001b[33mWARNING: Target directory /tmp/pip_packages/packaging already exists. Specify --upgrade to force replacement.\u001b[0m\n",
      "\u001b[33mWARNING: Target directory /tmp/pip_packages/packaging-24.0.dist-info already exists. Specify --upgrade to force replacement.\u001b[0m\n",
      "\u001b[33mWARNING: Target directory /tmp/pip_packages/numpy.libs already exists. Specify --upgrade to force replacement.\u001b[0m\n",
      "\u001b[33mWARNING: Target directory /tmp/pip_packages/numpy-1.24.4.dist-info already exists. Specify --upgrade to force replacement.\u001b[0m\n",
      "\u001b[33mWARNING: Target directory /tmp/pip_packages/numpy already exists. Specify --upgrade to force replacement.\u001b[0m\n",
      "\u001b[33mWARNING: Target directory /tmp/pip_packages/pytz already exists. Specify --upgrade to force replacement.\u001b[0m\n",
      "\u001b[33mWARNING: Target directory /tmp/pip_packages/pytz-2024.1.dist-info already exists. Specify --upgrade to force replacement.\u001b[0m\n",
      "\u001b[33mWARNING: Target directory /tmp/pip_packages/tzdata already exists. Specify --upgrade to force replacement.\u001b[0m\n",
      "\u001b[33mWARNING: Target directory /tmp/pip_packages/tzdata-2024.1.dist-info already exists. Specify --upgrade to force replacement.\u001b[0m\n",
      "\u001b[33mWARNING: Target directory /tmp/pip_packages/pandas-2.0.3.dist-info already exists. Specify --upgrade to force replacement.\u001b[0m\n",
      "\u001b[33mWARNING: Target directory /tmp/pip_packages/pandas already exists. Specify --upgrade to force replacement.\u001b[0m\n",
      "\u001b[33mWARNING: Target directory /tmp/pip_packages/bin already exists. Specify --upgrade to force replacement.\u001b[0m\n",
      "\u001b[33mWARNING: You are using pip version 19.3.1; however, version 24.0 is available.\n",
      "You should consider upgrading via the 'pip install --upgrade pip' command.\u001b[0m\n",
      "\u001b[33mWARNING: The directory '/home/mosaic-ai/.cache/pip/http' or its parent directory is not owned by the current user and the cache has been disabled. Please check the permissions and owner of that directory. If executing pip with sudo, you may want sudo's -H flag.\u001b[0m\n",
      "\u001b[33mWARNING: The directory '/home/mosaic-ai/.cache/pip' or its parent directory is not owned by the current user and caching wheels has been disabled. check the permissions and owner of that directory. If executing pip with sudo, you may want sudo's -H flag.\u001b[0m\n"
     ]
    },
    {
     "name": "stdout",
     "output_type": "stream",
     "text": [
      "\u001b[31mERROR: mlflow 2.6.0 has requirement packaging<24, but you'll have packaging 24.0 which is incompatible.\u001b[0m\n",
      "\u001b[31mERROR: mlflow 2.6.0 has requirement pytz<2024, but you'll have pytz 2024.1 which is incompatible.\u001b[0m\n",
      "\u001b[31mERROR: snowflake-ml-python 1.0.11 has requirement packaging<24,>=20.9, but you'll have packaging 24.0 which is incompatible.\u001b[0m\n",
      "\u001b[31mERROR: snowflake-ml-python 1.0.11 has requirement pandas<2,>=1.0.0, but you'll have pandas 2.0.3 which is incompatible.\u001b[0m\n",
      "\u001b[31mERROR: snowflake-ml-python 1.0.11 has requirement xgboost<2,>=1.7.3, but you'll have xgboost 2.0.3 which is incompatible.\u001b[0m\n",
      "\u001b[31mERROR: mosaic-ai-serving 1.0.0 has requirement Flask==2.1.1; python_version >= \"3.7\", but you'll have flask 2.3.3 which is incompatible.\u001b[0m\n",
      "\u001b[31mERROR: mosaic-ai-serving 1.0.0 has requirement itsdangerous==2.0.1, but you'll have itsdangerous 2.1.2 which is incompatible.\u001b[0m\n",
      "\u001b[31mERROR: mosaic-ai-serving 1.0.0 has requirement Jinja2==3.0.3, but you'll have jinja2 3.1.3 which is incompatible.\u001b[0m\n",
      "\u001b[31mERROR: mosaic-ai-serving 1.0.0 has requirement matplotlib==3.6.0; python_version >= \"3.8\", but you'll have matplotlib 3.7.5 which is incompatible.\u001b[0m\n",
      "\u001b[31mERROR: mosaic-ai-client 1.0.0 has requirement matplotlib==3.1.1, but you'll have matplotlib 3.7.5 which is incompatible.\u001b[0m\n",
      "\u001b[31mERROR: jupyterlab 3.2.4 has requirement jupyter-server~=1.4, but you'll have jupyter-server 2.0.0a1 which is incompatible.\u001b[0m\n",
      "\u001b[31mERROR: jupyterlab-server 2.25.4 has requirement jsonschema>=4.18.0, but you'll have jsonschema 3.2.0 which is incompatible.\u001b[0m\n",
      "\u001b[33mWARNING: Target directory /tmp/pip_packages/packaging already exists. Specify --upgrade to force replacement.\u001b[0m\n",
      "\u001b[33mWARNING: Target directory /tmp/pip_packages/packaging-24.0.dist-info already exists. Specify --upgrade to force replacement.\u001b[0m\n",
      "\u001b[33mWARNING: Target directory /tmp/pip_packages/share already exists. Specify --upgrade to force replacement.\u001b[0m\n",
      "\u001b[33mWARNING: You are using pip version 19.3.1; however, version 24.0 is available.\n",
      "You should consider upgrading via the 'pip install --upgrade pip' command.\u001b[0m\n",
      "\u001b[33mWARNING: The directory '/home/mosaic-ai/.cache/pip/http' or its parent directory is not owned by the current user and the cache has been disabled. Please check the permissions and owner of that directory. If executing pip with sudo, you may want sudo's -H flag.\u001b[0m\n",
      "\u001b[33mWARNING: The directory '/home/mosaic-ai/.cache/pip' or its parent directory is not owned by the current user and caching wheels has been disabled. check the permissions and owner of that directory. If executing pip with sudo, you may want sudo's -H flag.\u001b[0m\n",
      "\u001b[31mERROR: mlflow 2.6.0 has requirement pytz<2024, but you'll have pytz 2024.1 which is incompatible.\u001b[0m\n",
      "\u001b[31mERROR: mosaic-utils 1.0.2 has requirement scikit-learn==1.2.1; python_version >= \"3.8\", but you'll have scikit-learn 1.3.2 which is incompatible.\u001b[0m\n",
      "\u001b[31mERROR: snowflake-ml-python 1.0.11 has requirement pandas<2,>=1.0.0, but you'll have pandas 2.0.3 which is incompatible.\u001b[0m\n",
      "\u001b[31mERROR: mosaic-ai-serving 1.0.0 has requirement Flask==2.1.1; python_version >= \"3.7\", but you'll have flask 2.3.3 which is incompatible.\u001b[0m\n",
      "\u001b[31mERROR: mosaic-ai-serving 1.0.0 has requirement itsdangerous==2.0.1, but you'll have itsdangerous 2.1.2 which is incompatible.\u001b[0m\n",
      "\u001b[31mERROR: mosaic-ai-serving 1.0.0 has requirement Jinja2==3.0.3, but you'll have jinja2 3.1.3 which is incompatible.\u001b[0m\n",
      "\u001b[31mERROR: mosaic-ai-serving 1.0.0 has requirement matplotlib==3.6.0; python_version >= \"3.8\", but you'll have matplotlib 3.7.5 which is incompatible.\u001b[0m\n",
      "\u001b[31mERROR: mosaic-ai-client 1.0.0 has requirement matplotlib==3.1.1, but you'll have matplotlib 3.7.5 which is incompatible.\u001b[0m\n",
      "\u001b[33mWARNING: You are using pip version 19.3.1; however, version 24.0 is available.\n",
      "You should consider upgrading via the 'pip install --upgrade pip' command.\u001b[0m\n",
      "\u001b[33mWARNING: The directory '/home/mosaic-ai/.cache/pip/http' or its parent directory is not owned by the current user and the cache has been disabled. Please check the permissions and owner of that directory. If executing pip with sudo, you may want sudo's -H flag.\u001b[0m\n",
      "\u001b[33mWARNING: The directory '/home/mosaic-ai/.cache/pip' or its parent directory is not owned by the current user and caching wheels has been disabled. check the permissions and owner of that directory. If executing pip with sudo, you may want sudo's -H flag.\u001b[0m\n",
      "\u001b[31mERROR: mlflow 2.6.0 has requirement pytz<2024, but you'll have pytz 2024.1 which is incompatible.\u001b[0m\n",
      "\u001b[31mERROR: mosaic-utils 1.0.2 has requirement scikit-learn==1.2.1; python_version >= \"3.8\", but you'll have scikit-learn 1.3.2 which is incompatible.\u001b[0m\n",
      "\u001b[31mERROR: snowflake-ml-python 1.0.11 has requirement pandas<2,>=1.0.0, but you'll have pandas 2.0.3 which is incompatible.\u001b[0m\n",
      "\u001b[31mERROR: snowflake-ml-python 1.0.11 has requirement xgboost<2,>=1.7.3, but you'll have xgboost 2.0.3 which is incompatible.\u001b[0m\n",
      "\u001b[31mERROR: mosaic-ai-serving 1.0.0 has requirement Flask==2.1.1; python_version >= \"3.7\", but you'll have flask 2.3.3 which is incompatible.\u001b[0m\n",
      "\u001b[31mERROR: mosaic-ai-serving 1.0.0 has requirement itsdangerous==2.0.1, but you'll have itsdangerous 2.1.2 which is incompatible.\u001b[0m\n",
      "\u001b[31mERROR: mosaic-ai-serving 1.0.0 has requirement Jinja2==3.0.3, but you'll have jinja2 3.1.3 which is incompatible.\u001b[0m\n",
      "\u001b[31mERROR: mosaic-ai-serving 1.0.0 has requirement matplotlib==3.6.0; python_version >= \"3.8\", but you'll have matplotlib 3.7.5 which is incompatible.\u001b[0m\n",
      "\u001b[31mERROR: mosaic-ai-client 1.0.0 has requirement matplotlib==3.1.1, but you'll have matplotlib 3.7.5 which is incompatible.\u001b[0m\n",
      "\u001b[33mWARNING: You are using pip version 19.3.1; however, version 24.0 is available.\n",
      "You should consider upgrading via the 'pip install --upgrade pip' command.\u001b[0m\n",
      "\u001b[33mWARNING: The directory '/home/mosaic-ai/.cache/pip/http' or its parent directory is not owned by the current user and the cache has been disabled. Please check the permissions and owner of that directory. If executing pip with sudo, you may want sudo's -H flag.\u001b[0m\n",
      "\u001b[33mWARNING: The directory '/home/mosaic-ai/.cache/pip' or its parent directory is not owned by the current user and caching wheels has been disabled. check the permissions and owner of that directory. If executing pip with sudo, you may want sudo's -H flag.\u001b[0m\n",
      "\u001b[31mERROR: refractio 2.1.5.5 has requirement pandas==2.0.0, but you'll have pandas 1.5.3 which is incompatible.\u001b[0m\n",
      "\u001b[31mERROR: mlflow 2.6.0 has requirement pytz<2024, but you'll have pytz 2024.1 which is incompatible.\u001b[0m\n",
      "\u001b[31mERROR: mosaic-utils 1.0.2 has requirement scikit-learn==1.2.1; python_version >= \"3.8\", but you'll have scikit-learn 1.3.2 which is incompatible.\u001b[0m\n",
      "\u001b[31mERROR: snowflake-ml-python 1.0.11 has requirement xgboost<2,>=1.7.3, but you'll have xgboost 2.0.3 which is incompatible.\u001b[0m\n",
      "\u001b[31mERROR: openapi-schema-validator 0.6.2 has requirement jsonschema<5.0.0,>=4.19.1, but you'll have jsonschema 3.2.0 which is incompatible.\u001b[0m\n",
      "\u001b[31mERROR: mosaic-ai-serving 1.0.0 has requirement Flask==2.1.1; python_version >= \"3.7\", but you'll have flask 2.3.3 which is incompatible.\u001b[0m\n",
      "\u001b[31mERROR: mosaic-ai-serving 1.0.0 has requirement itsdangerous==2.0.1, but you'll have itsdangerous 2.1.2 which is incompatible.\u001b[0m\n",
      "\u001b[31mERROR: mosaic-ai-serving 1.0.0 has requirement Jinja2==3.0.3, but you'll have jinja2 3.1.3 which is incompatible.\u001b[0m\n",
      "\u001b[31mERROR: mosaic-ai-serving 1.0.0 has requirement matplotlib==3.6.0; python_version >= \"3.8\", but you'll have matplotlib 3.7.5 which is incompatible.\u001b[0m\n",
      "\u001b[31mERROR: mosaic-ai-client 1.0.0 has requirement matplotlib==3.1.1, but you'll have matplotlib 3.7.5 which is incompatible.\u001b[0m\n",
      "\u001b[33mWARNING: You are using pip version 19.3.1; however, version 24.0 is available.\n",
      "You should consider upgrading via the 'pip install --upgrade pip' command.\u001b[0m\n",
      "\u001b[33mWARNING: The directory '/home/mosaic-ai/.cache/pip/http' or its parent directory is not owned by the current user and the cache has been disabled. Please check the permissions and owner of that directory. If executing pip with sudo, you may want sudo's -H flag.\u001b[0m\n",
      "\u001b[33mWARNING: The directory '/home/mosaic-ai/.cache/pip' or its parent directory is not owned by the current user and caching wheels has been disabled. check the permissions and owner of that directory. If executing pip with sudo, you may want sudo's -H flag.\u001b[0m\n"
     ]
    },
    {
     "name": "stdout",
     "output_type": "stream",
     "text": [
      "\u001b[31mERROR: mlflow 2.6.0 has requirement pytz<2024, but you'll have pytz 2024.1 which is incompatible.\u001b[0m\n",
      "\u001b[31mERROR: refractml 1.0.4 has requirement cloudpickle==1.6.0, but you'll have cloudpickle 2.2.1 which is incompatible.\u001b[0m\n",
      "\u001b[31mERROR: refractml 1.0.4 has requirement PyYAML==6.0, but you'll have pyyaml 6.0.1 which is incompatible.\u001b[0m\n",
      "\u001b[31mERROR: refractml 1.0.4 has requirement urllib3==1.26.15, but you'll have urllib3 1.26.18 which is incompatible.\u001b[0m\n",
      "\u001b[31mERROR: snowflake-ml-python 1.0.11 has requirement pandas<2,>=1.0.0, but you'll have pandas 2.0.3 which is incompatible.\u001b[0m\n",
      "\u001b[31mERROR: snowflake-ml-python 1.0.11 has requirement xgboost<2,>=1.7.3, but you'll have xgboost 2.0.3 which is incompatible.\u001b[0m\n",
      "\u001b[31mERROR: mosaic-ai-client 1.0.0 has requirement matplotlib==3.1.1, but you'll have matplotlib 3.7.5 which is incompatible.\u001b[0m\n",
      "\u001b[31mERROR: jupyterlab-server 2.25.4 has requirement jsonschema>=4.18.0, but you'll have jsonschema 3.2.0 which is incompatible.\u001b[0m\n",
      "\u001b[33mWARNING: You are using pip version 19.3.1; however, version 24.0 is available.\n",
      "You should consider upgrading via the 'pip install --upgrade pip' command.\u001b[0m\n",
      "\u001b[33mWARNING: The directory '/home/mosaic-ai/.cache/pip/http' or its parent directory is not owned by the current user and the cache has been disabled. Please check the permissions and owner of that directory. If executing pip with sudo, you may want sudo's -H flag.\u001b[0m\n",
      "\u001b[33mWARNING: The directory '/home/mosaic-ai/.cache/pip' or its parent directory is not owned by the current user and caching wheels has been disabled. check the permissions and owner of that directory. If executing pip with sudo, you may want sudo's -H flag.\u001b[0m\n",
      "\u001b[31mERROR: mlflow 2.6.0 has requirement pytz<2024, but you'll have pytz 2024.1 which is incompatible.\u001b[0m\n",
      "\u001b[31mERROR: snowflake-ml-python 1.0.11 has requirement pandas<2,>=1.0.0, but you'll have pandas 2.0.3 which is incompatible.\u001b[0m\n",
      "\u001b[31mERROR: snowflake-ml-python 1.0.11 has requirement xgboost<2,>=1.7.3, but you'll have xgboost 2.0.3 which is incompatible.\u001b[0m\n",
      "\u001b[31mERROR: mosaic-ai-serving 1.0.0 has requirement Flask==2.1.1; python_version >= \"3.7\", but you'll have flask 2.3.3 which is incompatible.\u001b[0m\n",
      "\u001b[31mERROR: mosaic-ai-serving 1.0.0 has requirement itsdangerous==2.0.1, but you'll have itsdangerous 2.1.2 which is incompatible.\u001b[0m\n",
      "\u001b[31mERROR: mosaic-ai-serving 1.0.0 has requirement Jinja2==3.0.3, but you'll have jinja2 3.1.3 which is incompatible.\u001b[0m\n",
      "\u001b[31mERROR: mosaic-ai-serving 1.0.0 has requirement matplotlib==3.6.0; python_version >= \"3.8\", but you'll have matplotlib 3.7.5 which is incompatible.\u001b[0m\n",
      "\u001b[31mERROR: mosaic-ai-client 1.0.0 has requirement matplotlib==3.1.1, but you'll have matplotlib 3.7.5 which is incompatible.\u001b[0m\n",
      "\u001b[31mERROR: jupyterlab 3.2.4 has requirement jupyter-server~=1.4, but you'll have jupyter-server 2.0.0a1 which is incompatible.\u001b[0m\n",
      "\u001b[31mERROR: jupyterlab-server 2.25.4 has requirement jsonschema>=4.18.0, but you'll have jsonschema 3.2.0 which is incompatible.\u001b[0m\n",
      "\u001b[33mWARNING: You are using pip version 19.3.1; however, version 24.0 is available.\n",
      "You should consider upgrading via the 'pip install --upgrade pip' command.\u001b[0m\n",
      "\u001b[33mWARNING: The directory '/home/mosaic-ai/.cache/pip/http' or its parent directory is not owned by the current user and the cache has been disabled. Please check the permissions and owner of that directory. If executing pip with sudo, you may want sudo's -H flag.\u001b[0m\n",
      "\u001b[33mWARNING: The directory '/home/mosaic-ai/.cache/pip' or its parent directory is not owned by the current user and caching wheels has been disabled. check the permissions and owner of that directory. If executing pip with sudo, you may want sudo's -H flag.\u001b[0m\n",
      "\u001b[31mERROR: mlflow 2.6.0 has requirement pytz<2024, but you'll have pytz 2024.1 which is incompatible.\u001b[0m\n",
      "\u001b[31mERROR: mosaic-utils 1.0.2 has requirement scikit-learn==1.2.1; python_version >= \"3.8\", but you'll have scikit-learn 1.3.0 which is incompatible.\u001b[0m\n",
      "\u001b[31mERROR: snowflake-ml-python 1.0.11 has requirement pandas<2,>=1.0.0, but you'll have pandas 2.0.3 which is incompatible.\u001b[0m\n",
      "\u001b[31mERROR: snowflake-ml-python 1.0.11 has requirement xgboost<2,>=1.7.3, but you'll have xgboost 2.0.3 which is incompatible.\u001b[0m\n",
      "\u001b[31mERROR: mosaic-ai-serving 1.0.0 has requirement Flask==2.1.1; python_version >= \"3.7\", but you'll have flask 2.3.3 which is incompatible.\u001b[0m\n",
      "\u001b[31mERROR: mosaic-ai-serving 1.0.0 has requirement itsdangerous==2.0.1, but you'll have itsdangerous 2.1.2 which is incompatible.\u001b[0m\n",
      "\u001b[31mERROR: mosaic-ai-serving 1.0.0 has requirement Jinja2==3.0.3, but you'll have jinja2 3.1.3 which is incompatible.\u001b[0m\n",
      "\u001b[31mERROR: mosaic-ai-serving 1.0.0 has requirement matplotlib==3.6.0; python_version >= \"3.8\", but you'll have matplotlib 3.7.5 which is incompatible.\u001b[0m\n",
      "\u001b[31mERROR: mosaic-ai-client 1.0.0 has requirement matplotlib==3.1.1, but you'll have matplotlib 3.7.5 which is incompatible.\u001b[0m\n",
      "\u001b[33mWARNING: You are using pip version 19.3.1; however, version 24.0 is available.\n",
      "You should consider upgrading via the 'pip install --upgrade pip' command.\u001b[0m\n",
      "\u001b[33mWARNING: The directory '/home/mosaic-ai/.cache/pip/http' or its parent directory is not owned by the current user and the cache has been disabled. Please check the permissions and owner of that directory. If executing pip with sudo, you may want sudo's -H flag.\u001b[0m\n",
      "\u001b[33mWARNING: The directory '/home/mosaic-ai/.cache/pip' or its parent directory is not owned by the current user and caching wheels has been disabled. check the permissions and owner of that directory. If executing pip with sudo, you may want sudo's -H flag.\u001b[0m\n",
      "\u001b[31mERROR: mlflow 2.6.0 has requirement pytz<2024, but you'll have pytz 2024.1 which is incompatible.\u001b[0m\n",
      "\u001b[31mERROR: snowflake-snowpark-python 1.9.0 has requirement cloudpickle<=2.0.0,>=1.6.0; python_version < \"3.11\", but you'll have cloudpickle 2.2.1 which is incompatible.\u001b[0m\n",
      "\u001b[31mERROR: snowflake-ml-python 1.0.11 has requirement pandas<2,>=1.0.0, but you'll have pandas 2.0.3 which is incompatible.\u001b[0m\n",
      "\u001b[31mERROR: snowflake-ml-python 1.0.11 has requirement xgboost<2,>=1.7.3, but you'll have xgboost 2.0.3 which is incompatible.\u001b[0m\n",
      "\u001b[33mWARNING: You are using pip version 19.3.1; however, version 24.0 is available.\n",
      "You should consider upgrading via the 'pip install --upgrade pip' command.\u001b[0m\n",
      "\u001b[33mWARNING: The directory '/home/mosaic-ai/.cache/pip/http' or its parent directory is not owned by the current user and the cache has been disabled. Please check the permissions and owner of that directory. If executing pip with sudo, you may want sudo's -H flag.\u001b[0m\n",
      "\u001b[33mWARNING: The directory '/home/mosaic-ai/.cache/pip' or its parent directory is not owned by the current user and caching wheels has been disabled. check the permissions and owner of that directory. If executing pip with sudo, you may want sudo's -H flag.\u001b[0m\n",
      "\u001b[31mERROR: pyopenssl 24.1.0 has requirement cryptography<43,>=41.0.5, but you'll have cryptography 39.0.0 which is incompatible.\u001b[0m\n",
      "\u001b[31mERROR: snowflake-ml-python 1.0.11 has requirement pandas<2,>=1.0.0, but you'll have pandas 2.0.3 which is incompatible.\u001b[0m\n",
      "\u001b[31mERROR: snowflake-ml-python 1.0.11 has requirement xgboost<2,>=1.7.3, but you'll have xgboost 2.0.3 which is incompatible.\u001b[0m\n",
      "\u001b[33mWARNING: You are using pip version 19.3.1; however, version 24.0 is available.\n",
      "You should consider upgrading via the 'pip install --upgrade pip' command.\u001b[0m\n",
      "\u001b[33mWARNING: The directory '/home/mosaic-ai/.cache/pip/http' or its parent directory is not owned by the current user and the cache has been disabled. Please check the permissions and owner of that directory. If executing pip with sudo, you may want sudo's -H flag.\u001b[0m\n",
      "\u001b[33mWARNING: The directory '/home/mosaic-ai/.cache/pip' or its parent directory is not owned by the current user and caching wheels has been disabled. check the permissions and owner of that directory. If executing pip with sudo, you may want sudo's -H flag.\u001b[0m\n",
      "\u001b[31mERROR: snowflake-ml-python 1.0.11 has requirement pandas<2,>=1.0.0, but you'll have pandas 2.0.3 which is incompatible.\u001b[0m\n",
      "\u001b[31mERROR: snowflake-ml-python 1.0.11 has requirement xgboost<2,>=1.7.3, but you'll have xgboost 2.0.3 which is incompatible.\u001b[0m\n",
      "\u001b[31mERROR: s3fs 2023.12.2 has requirement fsspec==2023.12.2, but you'll have fsspec 2023.9.2 which is incompatible.\u001b[0m\n"
     ]
    },
    {
     "name": "stdout",
     "output_type": "stream",
     "text": [
      "\u001b[33mWARNING: You are using pip version 19.3.1; however, version 24.0 is available.\r\n",
      "You should consider upgrading via the 'pip install --upgrade pip' command.\u001b[0m\r\n"
     ]
    }
   ],
   "source": [
    "!pip install --q \"snowflake-connector-python[pandas]\"\n",
    "!sudo pip install --q  snowflake-ml-python==1.0.11 -U\n",
    "!pip install --upgrade --q snowflake-snowpark-python==1.9.0\n",
    "!pip install --q seaborn\n",
    "!pip install --q plotly \n",
    "!pip install --upgrade --q xgboost==1.7.3\n",
    "!pip install --upgrade --q numpy==1.24.3\n",
    "!pip install --upgrade --q pandas==1.5.3\n",
    "!pip install --upgrade --q anyio==3.5.0\n",
    "!pip install --upgrade --q packaging==23.1\n",
    "!pip install --upgrade --q scikit-learn==1.3.0\n",
    "!pip install --upgrade --q typing-extensions==4.7.1\n",
    "!pip install --upgrade --q cryptography==39.0.0\n",
    "!pip install --upgrade --q fsspec==2023.9.2"
   ]
  },
  {
   "cell_type": "code",
   "execution_count": 1,
   "id": "4871a0ed",
   "metadata": {},
   "outputs": [
    {
     "name": "stderr",
     "output_type": "stream",
     "text": [
      "Matplotlib created a temporary cache directory at /tmp/matplotlib-xeg0jcby because the default path (/home/mosaic-ai/.cache/matplotlib) is not a writable directory; it is highly recommended to set the MPLCONFIGDIR environment variable to a writable directory, in particular to speed up the import of Matplotlib and to better support multiprocessing.\n",
      "Matplotlib is building the font cache; this may take a moment.\n"
     ]
    }
   ],
   "source": [
    "from snowflake.snowpark import Session\n",
    "from snowflake.ml.modeling.pipeline import Pipeline\n",
    "from snowflake.ml.modeling.xgboost import XGBRegressor\n",
    "from snowflake.ml.modeling.preprocessing import MinMaxScaler, OrdinalEncoder, OneHotEncoder\n",
    "# import seaborn as sns\n",
    "from sklearn.metrics import mean_absolute_percentage_error\n",
    "# Pandas Tools\n",
    "from snowflake.connector.pandas_tools import write_pandas\n",
    "# Data Science Libs\n",
    "import numpy as np\n",
    "import pandas as pd\n",
    "import matplotlib.pyplot as plt\n",
    "import seaborn as sns\n",
    "# create_temp_table warning suppresion\n",
    "import warnings; warnings.simplefilter('ignore')\n",
    "import configparser\n",
    "\n",
    "import plotly.express as px\n",
    "from plotly.subplots import make_subplots\n",
    "import plotly.figure_factory as ff "
   ]
  },
  {
   "cell_type": "markdown",
   "id": "6c5f49da",
   "metadata": {},
   "source": [
    "## Code to establish connection and read and dump csv as a snowflake table (handling null values before loading)"
   ]
  },
  {
   "cell_type": "code",
   "execution_count": 2,
   "id": "8a5fa270",
   "metadata": {},
   "outputs": [
    {
     "data": {
      "text/plain": [
       "['snowflake_connection.ini']"
      ]
     },
     "execution_count": 2,
     "metadata": {},
     "output_type": "execute_result"
    }
   ],
   "source": [
    "config = configparser.ConfigParser()\n",
    "config.read(\"snowflake_connection.ini\")"
   ]
  },
  {
   "cell_type": "code",
   "execution_count": 3,
   "id": "d933cdd5",
   "metadata": {},
   "outputs": [],
   "source": [
    "connection_parameters = {\n",
    "    \"user\": f'{config[\"Snowflake\"][\"user\"]}',\n",
    "    \"password\": f'{config[\"Snowflake\"][\"password\"]}',\n",
    "    #\"password\": os.getenv('snowflake_password'),\n",
    "    \"account\": f'{config[\"Snowflake\"][\"account\"]}',\n",
    "    #\"account\": os.getenv('snowflake_account'),\n",
    "    \"WAREHOUSE\": f'{config[\"Snowflake\"][\"WAREHOUSE\"]}',\n",
    "    \"DATABASE\": f'{config[\"Snowflake\"][\"DATABASE\"]}',\n",
    "    \"SCHEMA\": f'{config[\"Snowflake\"][\"SCHEMA\"]}'\n",
    "}"
   ]
  },
  {
   "cell_type": "code",
   "execution_count": 4,
   "id": "18e767bd",
   "metadata": {},
   "outputs": [
    {
     "name": "stdout",
     "output_type": "stream",
     "text": [
      "connection successful!\n"
     ]
    }
   ],
   "source": [
    "def snowflake_connector(conn):\n",
    "    try:\n",
    "        session = Session.builder.configs(conn).create()\n",
    "        print(\"connection successful!\")\n",
    "    except:\n",
    "        raise ValueError(\"error while connecting with db\")\n",
    "    return session\n",
    "\n",
    "session = snowflake_connector(connection_parameters)"
   ]
  },
  {
   "cell_type": "code",
   "execution_count": 5,
   "id": "c19cce94",
   "metadata": {},
   "outputs": [],
   "source": [
    "df = session.table(\"AUTO_INSURANCE_CLAIMS_DATA_PRODUCT\")"
   ]
  },
  {
   "cell_type": "code",
   "execution_count": 6,
   "id": "718222a3",
   "metadata": {},
   "outputs": [],
   "source": [
    "insurance_claim = df.to_pandas()"
   ]
  },
  {
   "cell_type": "markdown",
   "id": "9f35150b",
   "metadata": {},
   "source": [
    "# Shape of Insurance claims data"
   ]
  },
  {
   "cell_type": "code",
   "execution_count": 7,
   "id": "76652e4a",
   "metadata": {},
   "outputs": [
    {
     "data": {
      "text/plain": [
       "(234265, 40)"
      ]
     },
     "execution_count": 7,
     "metadata": {},
     "output_type": "execute_result"
    }
   ],
   "source": [
    "insurance_claim.shape"
   ]
  },
  {
   "cell_type": "markdown",
   "id": "6460a3d4",
   "metadata": {},
   "source": [
    "# Generic Information of Insurance claims data"
   ]
  },
  {
   "cell_type": "code",
   "execution_count": 8,
   "id": "0892eaca",
   "metadata": {
    "scrolled": true
   },
   "outputs": [
    {
     "name": "stdout",
     "output_type": "stream",
     "text": [
      "<class 'pandas.core.frame.DataFrame'>\n",
      "RangeIndex: 234265 entries, 0 to 234264\n",
      "Data columns (total 40 columns):\n",
      " #   Column                       Non-Null Count   Dtype  \n",
      "---  ------                       --------------   -----  \n",
      " 0   MONTHS_AS_CUSTOMER           234265 non-null  int16  \n",
      " 1   CUSTOMER_AGE                 234265 non-null  object \n",
      " 2   POLICY_NUMBER                234265 non-null  int32  \n",
      " 3   POLICY_BIND_DATE             234265 non-null  object \n",
      " 4   POLICY_STATE                 234265 non-null  object \n",
      " 5   POLICY_CSL                   234265 non-null  object \n",
      " 6   POLICY_DEDUCTABLE            234265 non-null  int16  \n",
      " 7   POLICY_ANNUAL_PREMIUM        234265 non-null  int16  \n",
      " 8   UMBRELLA_LIMIT               234265 non-null  int32  \n",
      " 9   INSURED_ZIP                  234265 non-null  object \n",
      " 10  INSURED_SEX                  234265 non-null  object \n",
      " 11  INSURED_EDUCATION_LEVEL      234265 non-null  object \n",
      " 12  INSURED_OCCUPATION           234265 non-null  object \n",
      " 13  INSURED_HOBBIES              234265 non-null  object \n",
      " 14  INSURED_RELATIONSHIP         234265 non-null  object \n",
      " 15  CAPITAL_GAINS                234265 non-null  int32  \n",
      " 16  CAPITAL_LOSS                 234265 non-null  int32  \n",
      " 17  INCIDENT_DATE                234265 non-null  object \n",
      " 18  INCIDENT_TYPE                234265 non-null  object \n",
      " 19  COLLISION_TYPE               234265 non-null  object \n",
      " 20  INCIDENT_SEVERITY            234265 non-null  object \n",
      " 21  AUTHORITIES_CONTACTED        234265 non-null  object \n",
      " 22  INCIDENT_STATE               234265 non-null  object \n",
      " 23  INCIDENT_CITY                234265 non-null  object \n",
      " 24  INCIDENT_LOCATION            234265 non-null  object \n",
      " 25  INCIDENT_HOUR_OF_THE_DAY     234265 non-null  int8   \n",
      " 26  INCIDENT_TIME_OF_DAY         234265 non-null  object \n",
      " 27  NUMBER_OF_VEHICLES_INVOLVED  234265 non-null  int8   \n",
      " 28  PROPERTY_DAMAGE              234265 non-null  object \n",
      " 29  BODILY_INJURIES              234265 non-null  int8   \n",
      " 30  WITNESSES                    234265 non-null  int8   \n",
      " 31  POLICE_REPORT_AVAILABLE      234265 non-null  object \n",
      " 32  TOTAL_CLAIM_AMOUNT_PAID      234265 non-null  float64\n",
      " 33  INJURY_CLAIM                 234265 non-null  float64\n",
      " 34  PROPERTY_CLAIM               234265 non-null  float64\n",
      " 35  VEHICLE_CLAIM                234265 non-null  float64\n",
      " 36  AUTO_MAKE                    234265 non-null  object \n",
      " 37  AUTO_MODEL                   234265 non-null  object \n",
      " 38  AUTO_YEAR                    234265 non-null  int16  \n",
      " 39  FRAUD_REPORTED               234265 non-null  object \n",
      "dtypes: float64(4), int16(4), int32(4), int8(4), object(24)\n",
      "memory usage: 56.3+ MB\n"
     ]
    }
   ],
   "source": [
    "insurance_claim.info()"
   ]
  },
  {
   "cell_type": "markdown",
   "id": "db57fa4f",
   "metadata": {},
   "source": [
    "# Description of Insurance claims data"
   ]
  },
  {
   "cell_type": "code",
   "execution_count": 9,
   "id": "5e7d8aaf",
   "metadata": {},
   "outputs": [
    {
     "data": {
      "text/html": [
       "<div>\n",
       "<style scoped>\n",
       "    .dataframe tbody tr th:only-of-type {\n",
       "        vertical-align: middle;\n",
       "    }\n",
       "\n",
       "    .dataframe tbody tr th {\n",
       "        vertical-align: top;\n",
       "    }\n",
       "\n",
       "    .dataframe thead th {\n",
       "        text-align: right;\n",
       "    }\n",
       "</style>\n",
       "<table border=\"1\" class=\"dataframe\">\n",
       "  <thead>\n",
       "    <tr style=\"text-align: right;\">\n",
       "      <th></th>\n",
       "      <th>MONTHS_AS_CUSTOMER</th>\n",
       "      <th>POLICY_NUMBER</th>\n",
       "      <th>POLICY_DEDUCTABLE</th>\n",
       "      <th>POLICY_ANNUAL_PREMIUM</th>\n",
       "      <th>UMBRELLA_LIMIT</th>\n",
       "      <th>CAPITAL_GAINS</th>\n",
       "      <th>CAPITAL_LOSS</th>\n",
       "      <th>INCIDENT_HOUR_OF_THE_DAY</th>\n",
       "      <th>NUMBER_OF_VEHICLES_INVOLVED</th>\n",
       "      <th>BODILY_INJURIES</th>\n",
       "      <th>WITNESSES</th>\n",
       "      <th>TOTAL_CLAIM_AMOUNT_PAID</th>\n",
       "      <th>INJURY_CLAIM</th>\n",
       "      <th>PROPERTY_CLAIM</th>\n",
       "      <th>VEHICLE_CLAIM</th>\n",
       "      <th>AUTO_YEAR</th>\n",
       "    </tr>\n",
       "  </thead>\n",
       "  <tbody>\n",
       "    <tr>\n",
       "      <th>count</th>\n",
       "      <td>234265.000000</td>\n",
       "      <td>234265.000000</td>\n",
       "      <td>234265.000000</td>\n",
       "      <td>234265.000000</td>\n",
       "      <td>2.342650e+05</td>\n",
       "      <td>234265.000000</td>\n",
       "      <td>234265.000000</td>\n",
       "      <td>234265.000000</td>\n",
       "      <td>234265.000000</td>\n",
       "      <td>234265.000000</td>\n",
       "      <td>234265.000000</td>\n",
       "      <td>234265.000000</td>\n",
       "      <td>234265.000000</td>\n",
       "      <td>234265.000000</td>\n",
       "      <td>234265.000000</td>\n",
       "      <td>234265.000000</td>\n",
       "    </tr>\n",
       "    <tr>\n",
       "      <th>mean</th>\n",
       "      <td>126.935091</td>\n",
       "      <td>455855.966764</td>\n",
       "      <td>1253.716919</td>\n",
       "      <td>1566.581397</td>\n",
       "      <td>5.196103e+06</td>\n",
       "      <td>47683.270121</td>\n",
       "      <td>-41024.589448</td>\n",
       "      <td>15.049657</td>\n",
       "      <td>1.476256</td>\n",
       "      <td>0.996500</td>\n",
       "      <td>1.500758</td>\n",
       "      <td>67245.407389</td>\n",
       "      <td>7735.250861</td>\n",
       "      <td>8539.701462</td>\n",
       "      <td>50970.455066</td>\n",
       "      <td>2004.857341</td>\n",
       "    </tr>\n",
       "    <tr>\n",
       "      <th>std</th>\n",
       "      <td>91.045672</td>\n",
       "      <td>17736.367557</td>\n",
       "      <td>534.953165</td>\n",
       "      <td>656.303803</td>\n",
       "      <td>2.963737e+06</td>\n",
       "      <td>27788.588777</td>\n",
       "      <td>23817.898425</td>\n",
       "      <td>5.858884</td>\n",
       "      <td>0.701641</td>\n",
       "      <td>0.817618</td>\n",
       "      <td>1.115194</td>\n",
       "      <td>18860.146419</td>\n",
       "      <td>7150.204814</td>\n",
       "      <td>7872.342302</td>\n",
       "      <td>15684.477045</td>\n",
       "      <td>6.058393</td>\n",
       "    </tr>\n",
       "    <tr>\n",
       "      <th>min</th>\n",
       "      <td>6.000000</td>\n",
       "      <td>425150.000000</td>\n",
       "      <td>301.000000</td>\n",
       "      <td>430.000000</td>\n",
       "      <td>0.000000e+00</td>\n",
       "      <td>0.000000</td>\n",
       "      <td>-111100.000000</td>\n",
       "      <td>0.000000</td>\n",
       "      <td>1.000000</td>\n",
       "      <td>0.000000</td>\n",
       "      <td>0.000000</td>\n",
       "      <td>21214.000000</td>\n",
       "      <td>300.000000</td>\n",
       "      <td>0.000000</td>\n",
       "      <td>20004.000000</td>\n",
       "      <td>1995.000000</td>\n",
       "    </tr>\n",
       "    <tr>\n",
       "      <th>25%</th>\n",
       "      <td>43.000000</td>\n",
       "      <td>440492.000000</td>\n",
       "      <td>794.000000</td>\n",
       "      <td>996.000000</td>\n",
       "      <td>3.074314e+06</td>\n",
       "      <td>23592.000000</td>\n",
       "      <td>-61528.000000</td>\n",
       "      <td>11.000000</td>\n",
       "      <td>1.000000</td>\n",
       "      <td>0.000000</td>\n",
       "      <td>1.000000</td>\n",
       "      <td>53424.000000</td>\n",
       "      <td>523.000000</td>\n",
       "      <td>1025.000000</td>\n",
       "      <td>37618.000000</td>\n",
       "      <td>2000.000000</td>\n",
       "    </tr>\n",
       "    <tr>\n",
       "      <th>50%</th>\n",
       "      <td>112.000000</td>\n",
       "      <td>455846.000000</td>\n",
       "      <td>1250.000000</td>\n",
       "      <td>1569.000000</td>\n",
       "      <td>5.367228e+06</td>\n",
       "      <td>47857.000000</td>\n",
       "      <td>-41248.000000</td>\n",
       "      <td>16.000000</td>\n",
       "      <td>1.000000</td>\n",
       "      <td>1.000000</td>\n",
       "      <td>2.000000</td>\n",
       "      <td>67752.000000</td>\n",
       "      <td>6064.000000</td>\n",
       "      <td>6218.000000</td>\n",
       "      <td>50923.000000</td>\n",
       "      <td>2005.000000</td>\n",
       "    </tr>\n",
       "    <tr>\n",
       "      <th>75%</th>\n",
       "      <td>197.000000</td>\n",
       "      <td>471213.000000</td>\n",
       "      <td>1698.000000</td>\n",
       "      <td>2134.000000</td>\n",
       "      <td>7.682851e+06</td>\n",
       "      <td>71510.000000</td>\n",
       "      <td>-20363.000000</td>\n",
       "      <td>20.000000</td>\n",
       "      <td>2.000000</td>\n",
       "      <td>2.000000</td>\n",
       "      <td>2.000000</td>\n",
       "      <td>81090.000000</td>\n",
       "      <td>14012.000000</td>\n",
       "      <td>15323.000000</td>\n",
       "      <td>64362.000000</td>\n",
       "      <td>2010.000000</td>\n",
       "    </tr>\n",
       "    <tr>\n",
       "      <th>max</th>\n",
       "      <td>328.000000</td>\n",
       "      <td>486590.000000</td>\n",
       "      <td>2430.000000</td>\n",
       "      <td>2700.000000</td>\n",
       "      <td>9.999929e+06</td>\n",
       "      <td>100500.000000</td>\n",
       "      <td>0.000000</td>\n",
       "      <td>23.000000</td>\n",
       "      <td>4.000000</td>\n",
       "      <td>2.000000</td>\n",
       "      <td>3.000000</td>\n",
       "      <td>121412.000000</td>\n",
       "      <td>21899.000000</td>\n",
       "      <td>26490.000000</td>\n",
       "      <td>81998.000000</td>\n",
       "      <td>2015.000000</td>\n",
       "    </tr>\n",
       "  </tbody>\n",
       "</table>\n",
       "</div>"
      ],
      "text/plain": [
       "       MONTHS_AS_CUSTOMER  POLICY_NUMBER  POLICY_DEDUCTABLE   \n",
       "count       234265.000000  234265.000000      234265.000000  \\\n",
       "mean           126.935091  455855.966764        1253.716919   \n",
       "std             91.045672   17736.367557         534.953165   \n",
       "min              6.000000  425150.000000         301.000000   \n",
       "25%             43.000000  440492.000000         794.000000   \n",
       "50%            112.000000  455846.000000        1250.000000   \n",
       "75%            197.000000  471213.000000        1698.000000   \n",
       "max            328.000000  486590.000000        2430.000000   \n",
       "\n",
       "       POLICY_ANNUAL_PREMIUM  UMBRELLA_LIMIT  CAPITAL_GAINS   CAPITAL_LOSS   \n",
       "count          234265.000000    2.342650e+05  234265.000000  234265.000000  \\\n",
       "mean             1566.581397    5.196103e+06   47683.270121  -41024.589448   \n",
       "std               656.303803    2.963737e+06   27788.588777   23817.898425   \n",
       "min               430.000000    0.000000e+00       0.000000 -111100.000000   \n",
       "25%               996.000000    3.074314e+06   23592.000000  -61528.000000   \n",
       "50%              1569.000000    5.367228e+06   47857.000000  -41248.000000   \n",
       "75%              2134.000000    7.682851e+06   71510.000000  -20363.000000   \n",
       "max              2700.000000    9.999929e+06  100500.000000       0.000000   \n",
       "\n",
       "       INCIDENT_HOUR_OF_THE_DAY  NUMBER_OF_VEHICLES_INVOLVED  BODILY_INJURIES   \n",
       "count             234265.000000                234265.000000    234265.000000  \\\n",
       "mean                  15.049657                     1.476256         0.996500   \n",
       "std                    5.858884                     0.701641         0.817618   \n",
       "min                    0.000000                     1.000000         0.000000   \n",
       "25%                   11.000000                     1.000000         0.000000   \n",
       "50%                   16.000000                     1.000000         1.000000   \n",
       "75%                   20.000000                     2.000000         2.000000   \n",
       "max                   23.000000                     4.000000         2.000000   \n",
       "\n",
       "           WITNESSES  TOTAL_CLAIM_AMOUNT_PAID   INJURY_CLAIM  PROPERTY_CLAIM   \n",
       "count  234265.000000            234265.000000  234265.000000   234265.000000  \\\n",
       "mean        1.500758             67245.407389    7735.250861     8539.701462   \n",
       "std         1.115194             18860.146419    7150.204814     7872.342302   \n",
       "min         0.000000             21214.000000     300.000000        0.000000   \n",
       "25%         1.000000             53424.000000     523.000000     1025.000000   \n",
       "50%         2.000000             67752.000000    6064.000000     6218.000000   \n",
       "75%         2.000000             81090.000000   14012.000000    15323.000000   \n",
       "max         3.000000            121412.000000   21899.000000    26490.000000   \n",
       "\n",
       "       VEHICLE_CLAIM      AUTO_YEAR  \n",
       "count  234265.000000  234265.000000  \n",
       "mean    50970.455066    2004.857341  \n",
       "std     15684.477045       6.058393  \n",
       "min     20004.000000    1995.000000  \n",
       "25%     37618.000000    2000.000000  \n",
       "50%     50923.000000    2005.000000  \n",
       "75%     64362.000000    2010.000000  \n",
       "max     81998.000000    2015.000000  "
      ]
     },
     "execution_count": 9,
     "metadata": {},
     "output_type": "execute_result"
    }
   ],
   "source": [
    "insurance_claim.describe()"
   ]
  },
  {
   "cell_type": "code",
   "execution_count": 10,
   "id": "569c3083",
   "metadata": {
    "scrolled": false
   },
   "outputs": [
    {
     "data": {
      "text/html": [
       "<div>\n",
       "<style scoped>\n",
       "    .dataframe tbody tr th:only-of-type {\n",
       "        vertical-align: middle;\n",
       "    }\n",
       "\n",
       "    .dataframe tbody tr th {\n",
       "        vertical-align: top;\n",
       "    }\n",
       "\n",
       "    .dataframe thead th {\n",
       "        text-align: right;\n",
       "    }\n",
       "</style>\n",
       "<table border=\"1\" class=\"dataframe\">\n",
       "  <thead>\n",
       "    <tr style=\"text-align: right;\">\n",
       "      <th></th>\n",
       "      <th>CUSTOMER_AGE</th>\n",
       "      <th>POLICY_BIND_DATE</th>\n",
       "      <th>POLICY_STATE</th>\n",
       "      <th>POLICY_CSL</th>\n",
       "      <th>INSURED_ZIP</th>\n",
       "      <th>INSURED_SEX</th>\n",
       "      <th>INSURED_EDUCATION_LEVEL</th>\n",
       "      <th>INSURED_OCCUPATION</th>\n",
       "      <th>INSURED_HOBBIES</th>\n",
       "      <th>INSURED_RELATIONSHIP</th>\n",
       "      <th>...</th>\n",
       "      <th>AUTHORITIES_CONTACTED</th>\n",
       "      <th>INCIDENT_STATE</th>\n",
       "      <th>INCIDENT_CITY</th>\n",
       "      <th>INCIDENT_LOCATION</th>\n",
       "      <th>INCIDENT_TIME_OF_DAY</th>\n",
       "      <th>PROPERTY_DAMAGE</th>\n",
       "      <th>POLICE_REPORT_AVAILABLE</th>\n",
       "      <th>AUTO_MAKE</th>\n",
       "      <th>AUTO_MODEL</th>\n",
       "      <th>FRAUD_REPORTED</th>\n",
       "    </tr>\n",
       "  </thead>\n",
       "  <tbody>\n",
       "    <tr>\n",
       "      <th>count</th>\n",
       "      <td>234265</td>\n",
       "      <td>234265</td>\n",
       "      <td>234265</td>\n",
       "      <td>234265</td>\n",
       "      <td>234265</td>\n",
       "      <td>234265</td>\n",
       "      <td>234265</td>\n",
       "      <td>234265</td>\n",
       "      <td>234265</td>\n",
       "      <td>234265</td>\n",
       "      <td>...</td>\n",
       "      <td>234265</td>\n",
       "      <td>234265</td>\n",
       "      <td>234265</td>\n",
       "      <td>234265</td>\n",
       "      <td>234265</td>\n",
       "      <td>234265</td>\n",
       "      <td>234265</td>\n",
       "      <td>234265</td>\n",
       "      <td>234265</td>\n",
       "      <td>234265</td>\n",
       "    </tr>\n",
       "    <tr>\n",
       "      <th>unique</th>\n",
       "      <td>51</td>\n",
       "      <td>10044</td>\n",
       "      <td>1</td>\n",
       "      <td>3</td>\n",
       "      <td>995</td>\n",
       "      <td>2</td>\n",
       "      <td>7</td>\n",
       "      <td>14</td>\n",
       "      <td>20</td>\n",
       "      <td>6</td>\n",
       "      <td>...</td>\n",
       "      <td>5</td>\n",
       "      <td>1</td>\n",
       "      <td>10</td>\n",
       "      <td>1032</td>\n",
       "      <td>4</td>\n",
       "      <td>3</td>\n",
       "      <td>3</td>\n",
       "      <td>14</td>\n",
       "      <td>39</td>\n",
       "      <td>2</td>\n",
       "    </tr>\n",
       "    <tr>\n",
       "      <th>top</th>\n",
       "      <td>33</td>\n",
       "      <td>11-06-2013</td>\n",
       "      <td>CT</td>\n",
       "      <td>100/300</td>\n",
       "      <td>431532</td>\n",
       "      <td>MALE</td>\n",
       "      <td>JD</td>\n",
       "      <td>prof-specialty</td>\n",
       "      <td>kayaking</td>\n",
       "      <td>unmarried</td>\n",
       "      <td>...</td>\n",
       "      <td>Police</td>\n",
       "      <td>CT</td>\n",
       "      <td>Hartford</td>\n",
       "      <td>St</td>\n",
       "      <td>Night Time</td>\n",
       "      <td>Property Damage</td>\n",
       "      <td>Police Report Available</td>\n",
       "      <td>Nissan</td>\n",
       "      <td>RAM</td>\n",
       "      <td>No Fraud Reported</td>\n",
       "    </tr>\n",
       "    <tr>\n",
       "      <th>freq</th>\n",
       "      <td>4910</td>\n",
       "      <td>67</td>\n",
       "      <td>234265</td>\n",
       "      <td>78564</td>\n",
       "      <td>337</td>\n",
       "      <td>117455</td>\n",
       "      <td>38426</td>\n",
       "      <td>27637</td>\n",
       "      <td>12104</td>\n",
       "      <td>39357</td>\n",
       "      <td>...</td>\n",
       "      <td>47433</td>\n",
       "      <td>234265</td>\n",
       "      <td>55768</td>\n",
       "      <td>13547</td>\n",
       "      <td>104477</td>\n",
       "      <td>132025</td>\n",
       "      <td>101965</td>\n",
       "      <td>20119</td>\n",
       "      <td>7953</td>\n",
       "      <td>199657</td>\n",
       "    </tr>\n",
       "  </tbody>\n",
       "</table>\n",
       "<p>4 rows × 24 columns</p>\n",
       "</div>"
      ],
      "text/plain": [
       "       CUSTOMER_AGE POLICY_BIND_DATE POLICY_STATE POLICY_CSL INSURED_ZIP   \n",
       "count        234265           234265       234265     234265      234265  \\\n",
       "unique           51            10044            1          3         995   \n",
       "top              33       11-06-2013           CT    100/300      431532   \n",
       "freq           4910               67       234265      78564         337   \n",
       "\n",
       "       INSURED_SEX INSURED_EDUCATION_LEVEL INSURED_OCCUPATION INSURED_HOBBIES   \n",
       "count       234265                  234265             234265          234265  \\\n",
       "unique           2                       7                 14              20   \n",
       "top           MALE                      JD     prof-specialty        kayaking   \n",
       "freq        117455                   38426              27637           12104   \n",
       "\n",
       "       INSURED_RELATIONSHIP  ... AUTHORITIES_CONTACTED INCIDENT_STATE   \n",
       "count                234265  ...                234265         234265  \\\n",
       "unique                    6  ...                     5              1   \n",
       "top               unmarried  ...                Police             CT   \n",
       "freq                  39357  ...                 47433         234265   \n",
       "\n",
       "       INCIDENT_CITY INCIDENT_LOCATION INCIDENT_TIME_OF_DAY  PROPERTY_DAMAGE   \n",
       "count         234265            234265               234265           234265  \\\n",
       "unique            10              1032                    4                3   \n",
       "top         Hartford                St           Night Time  Property Damage   \n",
       "freq           55768             13547               104477           132025   \n",
       "\n",
       "        POLICE_REPORT_AVAILABLE AUTO_MAKE AUTO_MODEL     FRAUD_REPORTED  \n",
       "count                    234265    234265     234265             234265  \n",
       "unique                        3        14         39                  2  \n",
       "top     Police Report Available    Nissan        RAM  No Fraud Reported  \n",
       "freq                     101965     20119       7953             199657  \n",
       "\n",
       "[4 rows x 24 columns]"
      ]
     },
     "execution_count": 10,
     "metadata": {},
     "output_type": "execute_result"
    }
   ],
   "source": [
    "insurance_claim.describe(include='O')"
   ]
  },
  {
   "cell_type": "markdown",
   "id": "d2fc0e30",
   "metadata": {},
   "source": [
    "# Check Null Values"
   ]
  },
  {
   "cell_type": "code",
   "execution_count": 11,
   "id": "73b0f3b9",
   "metadata": {
    "scrolled": true
   },
   "outputs": [
    {
     "data": {
      "text/plain": [
       "MONTHS_AS_CUSTOMER             0\n",
       "CUSTOMER_AGE                   0\n",
       "POLICY_NUMBER                  0\n",
       "POLICY_BIND_DATE               0\n",
       "POLICY_STATE                   0\n",
       "POLICY_CSL                     0\n",
       "POLICY_DEDUCTABLE              0\n",
       "POLICY_ANNUAL_PREMIUM          0\n",
       "UMBRELLA_LIMIT                 0\n",
       "INSURED_ZIP                    0\n",
       "INSURED_SEX                    0\n",
       "INSURED_EDUCATION_LEVEL        0\n",
       "INSURED_OCCUPATION             0\n",
       "INSURED_HOBBIES                0\n",
       "INSURED_RELATIONSHIP           0\n",
       "CAPITAL_GAINS                  0\n",
       "CAPITAL_LOSS                   0\n",
       "INCIDENT_DATE                  0\n",
       "INCIDENT_TYPE                  0\n",
       "COLLISION_TYPE                 0\n",
       "INCIDENT_SEVERITY              0\n",
       "AUTHORITIES_CONTACTED          0\n",
       "INCIDENT_STATE                 0\n",
       "INCIDENT_CITY                  0\n",
       "INCIDENT_LOCATION              0\n",
       "INCIDENT_HOUR_OF_THE_DAY       0\n",
       "INCIDENT_TIME_OF_DAY           0\n",
       "NUMBER_OF_VEHICLES_INVOLVED    0\n",
       "PROPERTY_DAMAGE                0\n",
       "BODILY_INJURIES                0\n",
       "WITNESSES                      0\n",
       "POLICE_REPORT_AVAILABLE        0\n",
       "TOTAL_CLAIM_AMOUNT_PAID        0\n",
       "INJURY_CLAIM                   0\n",
       "PROPERTY_CLAIM                 0\n",
       "VEHICLE_CLAIM                  0\n",
       "AUTO_MAKE                      0\n",
       "AUTO_MODEL                     0\n",
       "AUTO_YEAR                      0\n",
       "FRAUD_REPORTED                 0\n",
       "dtype: int64"
      ]
     },
     "execution_count": 11,
     "metadata": {},
     "output_type": "execute_result"
    }
   ],
   "source": [
    "insurance_claim.isnull().sum()"
   ]
  },
  {
   "cell_type": "markdown",
   "id": "b29f6c80",
   "metadata": {},
   "source": [
    "### Visualization "
   ]
  },
  {
   "cell_type": "code",
   "execution_count": 12,
   "id": "7794709d",
   "metadata": {},
   "outputs": [
    {
     "data": {
      "text/plain": [
       "MONTHS_AS_CUSTOMER             0.0\n",
       "CUSTOMER_AGE                   0.0\n",
       "POLICY_NUMBER                  0.0\n",
       "POLICY_BIND_DATE               0.0\n",
       "POLICY_STATE                   0.0\n",
       "POLICY_CSL                     0.0\n",
       "POLICY_DEDUCTABLE              0.0\n",
       "POLICY_ANNUAL_PREMIUM          0.0\n",
       "UMBRELLA_LIMIT                 0.0\n",
       "INSURED_ZIP                    0.0\n",
       "INSURED_SEX                    0.0\n",
       "INSURED_EDUCATION_LEVEL        0.0\n",
       "INSURED_OCCUPATION             0.0\n",
       "INSURED_HOBBIES                0.0\n",
       "INSURED_RELATIONSHIP           0.0\n",
       "CAPITAL_GAINS                  0.0\n",
       "CAPITAL_LOSS                   0.0\n",
       "INCIDENT_DATE                  0.0\n",
       "INCIDENT_TYPE                  0.0\n",
       "COLLISION_TYPE                 0.0\n",
       "INCIDENT_SEVERITY              0.0\n",
       "AUTHORITIES_CONTACTED          0.0\n",
       "INCIDENT_STATE                 0.0\n",
       "INCIDENT_CITY                  0.0\n",
       "INCIDENT_LOCATION              0.0\n",
       "INCIDENT_HOUR_OF_THE_DAY       0.0\n",
       "INCIDENT_TIME_OF_DAY           0.0\n",
       "NUMBER_OF_VEHICLES_INVOLVED    0.0\n",
       "PROPERTY_DAMAGE                0.0\n",
       "BODILY_INJURIES                0.0\n",
       "WITNESSES                      0.0\n",
       "POLICE_REPORT_AVAILABLE        0.0\n",
       "TOTAL_CLAIM_AMOUNT_PAID        0.0\n",
       "INJURY_CLAIM                   0.0\n",
       "PROPERTY_CLAIM                 0.0\n",
       "VEHICLE_CLAIM                  0.0\n",
       "AUTO_MAKE                      0.0\n",
       "AUTO_MODEL                     0.0\n",
       "AUTO_YEAR                      0.0\n",
       "FRAUD_REPORTED                 0.0\n",
       "dtype: float64"
      ]
     },
     "execution_count": 12,
     "metadata": {},
     "output_type": "execute_result"
    }
   ],
   "source": [
    "insurance_claim=insurance_claim.replace(\"?\",np.NaN)\n",
    "round(100*(insurance_claim.isnull().sum()/len(insurance_claim.index)),2)"
   ]
  },
  {
   "cell_type": "code",
   "execution_count": 14,
   "id": "9b606027",
   "metadata": {},
   "outputs": [
    {
     "data": {
      "text/plain": [
       "COLLISION_TYPE\n",
       "Rear Collision           36.71\n",
       "Front Collision          24.47\n",
       "Side Collision           24.41\n",
       "Details not Available    14.41\n",
       "Name: proportion, dtype: float64"
      ]
     },
     "execution_count": 14,
     "metadata": {},
     "output_type": "execute_result"
    }
   ],
   "source": [
    "### Checking unique values for collosion type\n",
    "round(100*(insurance_claim['COLLISION_TYPE'].value_counts(normalize=True,dropna=False)),2)"
   ]
  },
  {
   "cell_type": "code",
   "execution_count": 15,
   "id": "7d77d55f",
   "metadata": {},
   "outputs": [],
   "source": [
    "### We can impute collosion type with mode i.e most occuring collosion type\n",
    "### imputing\n",
    "\n",
    "insurance_claim['COLLISION_TYPE']=insurance_claim['COLLISION_TYPE'].fillna(insurance_claim['COLLISION_TYPE'].mode()[0])"
   ]
  },
  {
   "cell_type": "code",
   "execution_count": 16,
   "id": "dd865d0e",
   "metadata": {},
   "outputs": [
    {
     "data": {
      "text/plain": [
       "PROPERTY_DAMAGE\n",
       "Property Damage          56.36\n",
       "No Property Damage       37.84\n",
       "Details not Available     5.80\n",
       "Name: proportion, dtype: float64"
      ]
     },
     "execution_count": 16,
     "metadata": {},
     "output_type": "execute_result"
    }
   ],
   "source": [
    "### Checking unique values for collosion type\n",
    "\n",
    "round(100*(insurance_claim['PROPERTY_DAMAGE'].value_counts(normalize=True,dropna=False)),2)"
   ]
  },
  {
   "cell_type": "code",
   "execution_count": 17,
   "id": "5350db32",
   "metadata": {},
   "outputs": [],
   "source": [
    "### If there was property loss,then the report would have been filed.So,we can consider missing value as \"NO\"\n",
    "###Imputing with \"NO\"\n",
    "\n",
    "insurance_claim['PROPERTY_DAMAGE']=insurance_claim['PROPERTY_DAMAGE'].fillna(\"NO\")"
   ]
  },
  {
   "cell_type": "code",
   "execution_count": 18,
   "id": "6ee927e4",
   "metadata": {},
   "outputs": [
    {
     "data": {
      "text/plain": [
       "POLICE_REPORT_AVAILABLE\n",
       "Police Report Available       43.53\n",
       "No Police Report Available    40.27\n",
       "Unknown                       16.20\n",
       "Name: proportion, dtype: float64"
      ]
     },
     "execution_count": 18,
     "metadata": {},
     "output_type": "execute_result"
    }
   ],
   "source": [
    "### Checking unique values for collosion type\n",
    "\n",
    "round(100*(insurance_claim['POLICE_REPORT_AVAILABLE'].value_counts(normalize=True,dropna=False)),2)"
   ]
  },
  {
   "cell_type": "code",
   "execution_count": 19,
   "id": "eca1aebf",
   "metadata": {},
   "outputs": [],
   "source": [
    "### If there was police reported,then the report would have been filed.So,we can consider missing value as \"NO\"\n",
    "###Imputing with \"NO\"\n",
    "\n",
    "insurance_claim['POLICE_REPORT_AVAILABLE']=insurance_claim['PROPERTY_DAMAGE'].fillna(\"NO\")"
   ]
  },
  {
   "cell_type": "code",
   "execution_count": 20,
   "id": "02ba453e",
   "metadata": {},
   "outputs": [
    {
     "data": {
      "text/plain": [
       "MONTHS_AS_CUSTOMER             0.0\n",
       "CUSTOMER_AGE                   0.0\n",
       "POLICY_NUMBER                  0.0\n",
       "POLICY_BIND_DATE               0.0\n",
       "POLICY_STATE                   0.0\n",
       "POLICY_CSL                     0.0\n",
       "POLICY_DEDUCTABLE              0.0\n",
       "POLICY_ANNUAL_PREMIUM          0.0\n",
       "UMBRELLA_LIMIT                 0.0\n",
       "INSURED_ZIP                    0.0\n",
       "INSURED_SEX                    0.0\n",
       "INSURED_EDUCATION_LEVEL        0.0\n",
       "INSURED_OCCUPATION             0.0\n",
       "INSURED_HOBBIES                0.0\n",
       "INSURED_RELATIONSHIP           0.0\n",
       "CAPITAL_GAINS                  0.0\n",
       "CAPITAL_LOSS                   0.0\n",
       "INCIDENT_DATE                  0.0\n",
       "INCIDENT_TYPE                  0.0\n",
       "COLLISION_TYPE                 0.0\n",
       "INCIDENT_SEVERITY              0.0\n",
       "AUTHORITIES_CONTACTED          0.0\n",
       "INCIDENT_STATE                 0.0\n",
       "INCIDENT_CITY                  0.0\n",
       "INCIDENT_LOCATION              0.0\n",
       "INCIDENT_HOUR_OF_THE_DAY       0.0\n",
       "INCIDENT_TIME_OF_DAY           0.0\n",
       "NUMBER_OF_VEHICLES_INVOLVED    0.0\n",
       "PROPERTY_DAMAGE                0.0\n",
       "BODILY_INJURIES                0.0\n",
       "WITNESSES                      0.0\n",
       "POLICE_REPORT_AVAILABLE        0.0\n",
       "TOTAL_CLAIM_AMOUNT_PAID        0.0\n",
       "INJURY_CLAIM                   0.0\n",
       "PROPERTY_CLAIM                 0.0\n",
       "VEHICLE_CLAIM                  0.0\n",
       "AUTO_MAKE                      0.0\n",
       "AUTO_MODEL                     0.0\n",
       "AUTO_YEAR                      0.0\n",
       "FRAUD_REPORTED                 0.0\n",
       "dtype: float64"
      ]
     },
     "execution_count": 20,
     "metadata": {},
     "output_type": "execute_result"
    }
   ],
   "source": [
    "### Checking missing value again\n",
    "\n",
    "round(100*(insurance_claim.isnull().sum()/len(insurance_claim.index)),2)"
   ]
  },
  {
   "cell_type": "code",
   "execution_count": 22,
   "id": "d1c4c63a",
   "metadata": {},
   "outputs": [],
   "source": [
    "### Dropping those column which are not much sighnificance in oir analysis\n",
    "\n",
    "insurance_claim.drop([\"INCIDENT_HOUR_OF_THE_DAY\",'INSURED_ZIP','POLICY_BIND_DATE','INCIDENT_LOCATION'],axis=1,inplace=True)"
   ]
  },
  {
   "cell_type": "code",
   "execution_count": 23,
   "id": "b7ae4da9",
   "metadata": {},
   "outputs": [
    {
     "data": {
      "text/plain": [
       "(234265, 36)"
      ]
     },
     "execution_count": 23,
     "metadata": {},
     "output_type": "execute_result"
    }
   ],
   "source": [
    "### Checking shape of dataset again\n",
    "\n",
    "insurance_claim.shape"
   ]
  },
  {
   "cell_type": "code",
   "execution_count": 24,
   "id": "33964bca",
   "metadata": {},
   "outputs": [
    {
     "data": {
      "text/plain": [
       "MONTHS_AS_CUSTOMER               323\n",
       "CUSTOMER_AGE                      51\n",
       "POLICY_NUMBER                  61441\n",
       "POLICY_STATE                       1\n",
       "POLICY_CSL                         3\n",
       "POLICY_DEDUCTABLE               2121\n",
       "POLICY_ANNUAL_PREMIUM           2271\n",
       "UMBRELLA_LIMIT                 53101\n",
       "INSURED_SEX                        2\n",
       "INSURED_EDUCATION_LEVEL            7\n",
       "INSURED_OCCUPATION                14\n",
       "INSURED_HOBBIES                   20\n",
       "INSURED_RELATIONSHIP               6\n",
       "CAPITAL_GAINS                  45174\n",
       "CAPITAL_LOSS                   42927\n",
       "INCIDENT_DATE                   1003\n",
       "INCIDENT_TYPE                      4\n",
       "COLLISION_TYPE                     4\n",
       "INCIDENT_SEVERITY                  3\n",
       "AUTHORITIES_CONTACTED              5\n",
       "INCIDENT_STATE                     1\n",
       "INCIDENT_CITY                     10\n",
       "INCIDENT_TIME_OF_DAY               4\n",
       "NUMBER_OF_VEHICLES_INVOLVED        4\n",
       "PROPERTY_DAMAGE                    3\n",
       "BODILY_INJURIES                    3\n",
       "WITNESSES                          4\n",
       "POLICE_REPORT_AVAILABLE            3\n",
       "TOTAL_CLAIM_AMOUNT_PAID        41219\n",
       "INJURY_CLAIM                   18218\n",
       "PROPERTY_CLAIM                 19191\n",
       "VEHICLE_CLAIM                  37558\n",
       "AUTO_MAKE                         14\n",
       "AUTO_MODEL                        39\n",
       "AUTO_YEAR                         21\n",
       "FRAUD_REPORTED                     2\n",
       "dtype: int64"
      ]
     },
     "execution_count": 24,
     "metadata": {},
     "output_type": "execute_result"
    }
   ],
   "source": [
    "### Checking values for each column\n",
    "\n",
    "insurance_claim.nunique()"
   ]
  },
  {
   "cell_type": "code",
   "execution_count": 25,
   "id": "b7700d9c",
   "metadata": {},
   "outputs": [
    {
     "data": {
      "text/plain": [
       "0"
      ]
     },
     "execution_count": 25,
     "metadata": {},
     "output_type": "execute_result"
    }
   ],
   "source": [
    "### SANITY CHECK - Total claim must be equal to sum of \"injury_claim\",\"property_claim\",\"vehicle_claim\"\n",
    "\n",
    "insurance_claim[insurance_claim['TOTAL_CLAIM_AMOUNT_PAID'] != insurance_claim['INJURY_CLAIM']+insurance_claim['PROPERTY_CLAIM']+insurance_claim['VEHICLE_CLAIM']].shape[0]"
   ]
  },
  {
   "cell_type": "code",
   "execution_count": 29,
   "id": "1f8b4447",
   "metadata": {},
   "outputs": [
    {
     "data": {
      "text/plain": [
       "CUSTOMER_AGE\n",
       "33    4910\n",
       "26    4877\n",
       "30    4852\n",
       "43    4823\n",
       "37    4802\n",
       "34    4790\n",
       "22    4781\n",
       "47    4730\n",
       "31    4712\n",
       "29    4711\n",
       "40    4698\n",
       "53    4693\n",
       "38    4652\n",
       "45    4649\n",
       "39    4644\n",
       "52    4638\n",
       "28    4635\n",
       "63    4633\n",
       "41    4628\n",
       "42    4625\n",
       "25    4618\n",
       "32    4612\n",
       "19    4606\n",
       "24    4594\n",
       "58    4591\n",
       "59    4591\n",
       "50    4587\n",
       "44    4585\n",
       "27    4583\n",
       "48    4577\n",
       "64    4575\n",
       "65    4574\n",
       "35    4567\n",
       "55    4556\n",
       "67    4552\n",
       "51    4542\n",
       "60    4518\n",
       "46    4518\n",
       "36    4511\n",
       "69    4496\n",
       "49    4494\n",
       "54    4492\n",
       "21    4491\n",
       "23    4456\n",
       "20    4443\n",
       "66    4432\n",
       "61    4379\n",
       "56    4375\n",
       "68    4349\n",
       "57    4322\n",
       "62    4196\n",
       "Name: count, dtype: int64"
      ]
     },
     "execution_count": 29,
     "metadata": {},
     "output_type": "execute_result"
    }
   ],
   "source": [
    "insurance_claim['CUSTOMER_AGE'].value_counts()"
   ]
  },
  {
   "cell_type": "code",
   "execution_count": 28,
   "id": "9cfdddea",
   "metadata": {},
   "outputs": [
    {
     "name": "stdout",
     "output_type": "stream",
     "text": [
      "0\n"
     ]
    },
    {
     "ename": "TypeError",
     "evalue": "'<' not supported between instances of 'str' and 'int'",
     "output_type": "error",
     "traceback": [
      "\u001b[0;31m---------------------------------------------------------------------------\u001b[0m",
      "\u001b[0;31mTypeError\u001b[0m                                 Traceback (most recent call last)",
      "Cell \u001b[0;32mIn[28], line 3\u001b[0m\n\u001b[1;32m      1\u001b[0m \u001b[38;5;66;03m### Others sanity check\u001b[39;00m\n\u001b[1;32m      2\u001b[0m \u001b[38;5;28mprint\u001b[39m(insurance_claim[insurance_claim[\u001b[38;5;124m'\u001b[39m\u001b[38;5;124mMONTHS_AS_CUSTOMER\u001b[39m\u001b[38;5;124m'\u001b[39m]\u001b[38;5;241m<\u001b[39m\u001b[38;5;241m0\u001b[39m]\u001b[38;5;241m.\u001b[39mshape[\u001b[38;5;241m0\u001b[39m])\n\u001b[0;32m----> 3\u001b[0m \u001b[38;5;28mprint\u001b[39m(insurance_claim[\u001b[43minsurance_claim\u001b[49m\u001b[43m[\u001b[49m\u001b[38;5;124;43m'\u001b[39;49m\u001b[38;5;124;43mCUSTOMER_AGE\u001b[39;49m\u001b[38;5;124;43m'\u001b[39;49m\u001b[43m]\u001b[49m\u001b[38;5;241;43m<\u001b[39;49m\u001b[38;5;241;43m0\u001b[39;49m]\u001b[38;5;241m.\u001b[39mshape[\u001b[38;5;241m0\u001b[39m])\n\u001b[1;32m      4\u001b[0m \u001b[38;5;28mprint\u001b[39m(insurance_claim[insurance_claim[\u001b[38;5;124m'\u001b[39m\u001b[38;5;124mPOLICY_DEDUCTABLE\u001b[39m\u001b[38;5;124m'\u001b[39m]\u001b[38;5;241m<\u001b[39m\u001b[38;5;241m0\u001b[39m]\u001b[38;5;241m.\u001b[39mshape[\u001b[38;5;241m0\u001b[39m])\n\u001b[1;32m      5\u001b[0m \u001b[38;5;28mprint\u001b[39m(insurance_claim[insurance_claim[\u001b[38;5;124m'\u001b[39m\u001b[38;5;124mTOTAL_CLAIM_AMOUNT_PAID\u001b[39m\u001b[38;5;124m'\u001b[39m]\u001b[38;5;241m<\u001b[39m\u001b[38;5;241m0\u001b[39m]\u001b[38;5;241m.\u001b[39mshape[\u001b[38;5;241m0\u001b[39m])\n",
      "File \u001b[0;32m/packages/Python-3.8-Snowpark/012b6c48-0652-40b7-adcf-cab27e6d11d7/3.8/pandas/core/ops/common.py:81\u001b[0m, in \u001b[0;36m_unpack_zerodim_and_defer.<locals>.new_method\u001b[0;34m(self, other)\u001b[0m\n\u001b[1;32m     77\u001b[0m             \u001b[38;5;28;01mreturn\u001b[39;00m \u001b[38;5;28mNotImplemented\u001b[39m\n\u001b[1;32m     79\u001b[0m other \u001b[38;5;241m=\u001b[39m item_from_zerodim(other)\n\u001b[0;32m---> 81\u001b[0m \u001b[38;5;28;01mreturn\u001b[39;00m \u001b[43mmethod\u001b[49m\u001b[43m(\u001b[49m\u001b[38;5;28;43mself\u001b[39;49m\u001b[43m,\u001b[49m\u001b[43m \u001b[49m\u001b[43mother\u001b[49m\u001b[43m)\u001b[49m\n",
      "File \u001b[0;32m/packages/Python-3.8-Snowpark/012b6c48-0652-40b7-adcf-cab27e6d11d7/3.8/pandas/core/arraylike.py:48\u001b[0m, in \u001b[0;36mOpsMixin.__lt__\u001b[0;34m(self, other)\u001b[0m\n\u001b[1;32m     46\u001b[0m \u001b[38;5;129m@unpack_zerodim_and_defer\u001b[39m(\u001b[38;5;124m\"\u001b[39m\u001b[38;5;124m__lt__\u001b[39m\u001b[38;5;124m\"\u001b[39m)\n\u001b[1;32m     47\u001b[0m \u001b[38;5;28;01mdef\u001b[39;00m \u001b[38;5;21m__lt__\u001b[39m(\u001b[38;5;28mself\u001b[39m, other):\n\u001b[0;32m---> 48\u001b[0m     \u001b[38;5;28;01mreturn\u001b[39;00m \u001b[38;5;28;43mself\u001b[39;49m\u001b[38;5;241;43m.\u001b[39;49m\u001b[43m_cmp_method\u001b[49m\u001b[43m(\u001b[49m\u001b[43mother\u001b[49m\u001b[43m,\u001b[49m\u001b[43m \u001b[49m\u001b[43moperator\u001b[49m\u001b[38;5;241;43m.\u001b[39;49m\u001b[43mlt\u001b[49m\u001b[43m)\u001b[49m\n",
      "File \u001b[0;32m/packages/Python-3.8-Snowpark/012b6c48-0652-40b7-adcf-cab27e6d11d7/3.8/pandas/core/series.py:6097\u001b[0m, in \u001b[0;36mSeries._cmp_method\u001b[0;34m(self, other, op)\u001b[0m\n\u001b[1;32m   6094\u001b[0m rvalues \u001b[38;5;241m=\u001b[39m extract_array(other, extract_numpy\u001b[38;5;241m=\u001b[39m\u001b[38;5;28;01mTrue\u001b[39;00m, extract_range\u001b[38;5;241m=\u001b[39m\u001b[38;5;28;01mTrue\u001b[39;00m)\n\u001b[1;32m   6096\u001b[0m \u001b[38;5;28;01mwith\u001b[39;00m np\u001b[38;5;241m.\u001b[39merrstate(\u001b[38;5;28mall\u001b[39m\u001b[38;5;241m=\u001b[39m\u001b[38;5;124m\"\u001b[39m\u001b[38;5;124mignore\u001b[39m\u001b[38;5;124m\"\u001b[39m):\n\u001b[0;32m-> 6097\u001b[0m     res_values \u001b[38;5;241m=\u001b[39m \u001b[43mops\u001b[49m\u001b[38;5;241;43m.\u001b[39;49m\u001b[43mcomparison_op\u001b[49m\u001b[43m(\u001b[49m\u001b[43mlvalues\u001b[49m\u001b[43m,\u001b[49m\u001b[43m \u001b[49m\u001b[43mrvalues\u001b[49m\u001b[43m,\u001b[49m\u001b[43m \u001b[49m\u001b[43mop\u001b[49m\u001b[43m)\u001b[49m\n\u001b[1;32m   6099\u001b[0m \u001b[38;5;28;01mreturn\u001b[39;00m \u001b[38;5;28mself\u001b[39m\u001b[38;5;241m.\u001b[39m_construct_result(res_values, name\u001b[38;5;241m=\u001b[39mres_name)\n",
      "File \u001b[0;32m/packages/Python-3.8-Snowpark/012b6c48-0652-40b7-adcf-cab27e6d11d7/3.8/pandas/core/ops/array_ops.py:286\u001b[0m, in \u001b[0;36mcomparison_op\u001b[0;34m(left, right, op)\u001b[0m\n\u001b[1;32m    283\u001b[0m     \u001b[38;5;28;01mreturn\u001b[39;00m invalid_comparison(lvalues, rvalues, op)\n\u001b[1;32m    285\u001b[0m \u001b[38;5;28;01melif\u001b[39;00m is_object_dtype(lvalues\u001b[38;5;241m.\u001b[39mdtype) \u001b[38;5;129;01mor\u001b[39;00m \u001b[38;5;28misinstance\u001b[39m(rvalues, \u001b[38;5;28mstr\u001b[39m):\n\u001b[0;32m--> 286\u001b[0m     res_values \u001b[38;5;241m=\u001b[39m \u001b[43mcomp_method_OBJECT_ARRAY\u001b[49m\u001b[43m(\u001b[49m\u001b[43mop\u001b[49m\u001b[43m,\u001b[49m\u001b[43m \u001b[49m\u001b[43mlvalues\u001b[49m\u001b[43m,\u001b[49m\u001b[43m \u001b[49m\u001b[43mrvalues\u001b[49m\u001b[43m)\u001b[49m\n\u001b[1;32m    288\u001b[0m \u001b[38;5;28;01melse\u001b[39;00m:\n\u001b[1;32m    289\u001b[0m     res_values \u001b[38;5;241m=\u001b[39m _na_arithmetic_op(lvalues, rvalues, op, is_cmp\u001b[38;5;241m=\u001b[39m\u001b[38;5;28;01mTrue\u001b[39;00m)\n",
      "File \u001b[0;32m/packages/Python-3.8-Snowpark/012b6c48-0652-40b7-adcf-cab27e6d11d7/3.8/pandas/core/ops/array_ops.py:75\u001b[0m, in \u001b[0;36mcomp_method_OBJECT_ARRAY\u001b[0;34m(op, x, y)\u001b[0m\n\u001b[1;32m     73\u001b[0m     result \u001b[38;5;241m=\u001b[39m libops\u001b[38;5;241m.\u001b[39mvec_compare(x\u001b[38;5;241m.\u001b[39mravel(), y\u001b[38;5;241m.\u001b[39mravel(), op)\n\u001b[1;32m     74\u001b[0m \u001b[38;5;28;01melse\u001b[39;00m:\n\u001b[0;32m---> 75\u001b[0m     result \u001b[38;5;241m=\u001b[39m \u001b[43mlibops\u001b[49m\u001b[38;5;241;43m.\u001b[39;49m\u001b[43mscalar_compare\u001b[49m\u001b[43m(\u001b[49m\u001b[43mx\u001b[49m\u001b[38;5;241;43m.\u001b[39;49m\u001b[43mravel\u001b[49m\u001b[43m(\u001b[49m\u001b[43m)\u001b[49m\u001b[43m,\u001b[49m\u001b[43m \u001b[49m\u001b[43my\u001b[49m\u001b[43m,\u001b[49m\u001b[43m \u001b[49m\u001b[43mop\u001b[49m\u001b[43m)\u001b[49m\n\u001b[1;32m     76\u001b[0m \u001b[38;5;28;01mreturn\u001b[39;00m result\u001b[38;5;241m.\u001b[39mreshape(x\u001b[38;5;241m.\u001b[39mshape)\n",
      "File \u001b[0;32m/packages/Python-3.8-Snowpark/012b6c48-0652-40b7-adcf-cab27e6d11d7/3.8/pandas/_libs/ops.pyx:107\u001b[0m, in \u001b[0;36mpandas._libs.ops.scalar_compare\u001b[0;34m()\u001b[0m\n",
      "\u001b[0;31mTypeError\u001b[0m: '<' not supported between instances of 'str' and 'int'"
     ]
    }
   ],
   "source": [
    "### Others sanity check\n",
    "print(insurance_claim[insurance_claim['MONTHS_AS_CUSTOMER']<0].shape[0])\n",
    "print(insurance_claim[insurance_claim['CUSTOMER_AGE']<0].shape[0])\n",
    "print(insurance_claim[insurance_claim['POLICY_DEDUCTABLE']<0].shape[0])\n",
    "print(insurance_claim[insurance_claim['TOTAL_CLAIM_AMOUNT_PAID']<0].shape[0])\n",
    "print(insurance_claim[insurance_claim['UMBRELLA_LIMIT']<0].shape[0])\n",
    "print(insurance_claim[insurance_claim['CAPITAL_GAINS']<0].shape[0])\n",
    "print(insurance_claim[insurance_claim['NUMBER_OF_VEHICLES_INVOLVED']<0].shape[0])\n",
    "print(insurance_claim[insurance_claim['INJURY_CLAIM']<0].shape[0])\n",
    "print(insurance_claim[insurance_claim['PROPERTY_CLAIM']<0].shape[0])\n",
    "print(insurance_claim[insurance_claim['VEHICLE_CLAIM']<0].shape[0])"
   ]
  },
  {
   "cell_type": "code",
   "execution_count": null,
   "id": "37aa3da8",
   "metadata": {},
   "outputs": [],
   "source": [
    "#There is 1 row which has negative umbrella limit\n",
    "### Fetching that row\n",
    "\n",
    "insurance_claim[insurance_claim['umbrella_limit']<0]"
   ]
  },
  {
   "cell_type": "code",
   "execution_count": null,
   "id": "39394c41",
   "metadata": {},
   "outputs": [],
   "source": [
    "### dropping above row\n",
    "\n",
    "insurance_claim.drop(insurance_claim.index[290],inplace=True)"
   ]
  },
  {
   "cell_type": "code",
   "execution_count": null,
   "id": "196c9a9e",
   "metadata": {},
   "outputs": [],
   "source": [
    "### Checking datatypes\n",
    "insurance_claim.dtypes"
   ]
  },
  {
   "cell_type": "code",
   "execution_count": null,
   "id": "3b71b5b0",
   "metadata": {},
   "outputs": [],
   "source": [
    "### changing Incident date into datetime format\n",
    "insurance_claim['incident_date']=pd.to_datetime(insurance_claim['incident_date'],format='%Y-%m-%d')\n",
    "\n",
    "### changing auto_year date into datetime format\n",
    "insurance_claim['auto_year']=pd.to_datetime(insurance_claim['auto_year'],format='%Y')"
   ]
  },
  {
   "cell_type": "code",
   "execution_count": null,
   "id": "6b49b10d",
   "metadata": {},
   "outputs": [],
   "source": [
    "# OUTLIER DETECTION\n",
    "insurance_claim.describe().columns.to_list()"
   ]
  },
  {
   "cell_type": "code",
   "execution_count": null,
   "id": "27704522",
   "metadata": {},
   "outputs": [],
   "source": [
    "plt.figure(figsize=[20,20])\n",
    "\n",
    "\n",
    "num_col= ['months_as_customer','age','policy_deductable','policy_annual_premium','umbrella_limit','capital-gains','capital-loss','number_of_vehicles_involved','bodily_injuries','witnesses','total_claim_amount','injury_claim','property_claim','vehicle_claim']\n",
    "\n",
    "c=1\n",
    "\n",
    "for i in num_col:\n",
    "    plt.subplot(4, 4, c)\n",
    "    plt.xlabel(i)\n",
    "    sns.boxplot(insurance_claim[i] , palette=\"Set2\")\n",
    "    c = c + 1\n",
    "    \n",
    "plt.show()\n"
   ]
  },
  {
   "cell_type": "code",
   "execution_count": null,
   "id": "4138ebfc",
   "metadata": {},
   "outputs": [],
   "source": [
    "insurance_claim['police_report_available'].value_counts(normalize=True,dropna=False)"
   ]
  },
  {
   "cell_type": "code",
   "execution_count": null,
   "id": "58685bc2",
   "metadata": {},
   "outputs": [],
   "source": [
    "### Intialize \"count\" column\n",
    "\n",
    "insurance_claim['count']=1"
   ]
  },
  {
   "cell_type": "markdown",
   "id": "504f0274",
   "metadata": {},
   "source": [
    "# Exploratory Data Analysis"
   ]
  },
  {
   "cell_type": "code",
   "execution_count": null,
   "id": "1abee73f",
   "metadata": {},
   "outputs": [],
   "source": [
    "#plt.figure(figsize=[5,4])\n",
    "fig = px.pie(insurance_claim,names='fraud_reported')\n",
    "fig.show()"
   ]
  },
  {
   "cell_type": "code",
   "execution_count": null,
   "id": "ed7501f7",
   "metadata": {},
   "outputs": [],
   "source": [
    "### Datasplitting into fraud and not fraud category\n",
    "\n",
    "insurance_claim_f=insurance_claim[insurance_claim['fraud_reported']=='Y']\n",
    "insurance_claim_nf=insurance_claim[insurance_claim['fraud_reported']=='N']"
   ]
  },
  {
   "cell_type": "code",
   "execution_count": null,
   "id": "2d23b127",
   "metadata": {},
   "outputs": [],
   "source": [
    "plt.figure(figsize=[15,20])\n",
    "num_col=insurance_claim.describe().columns.to_list()\n",
    "\n",
    "c=1\n",
    "\n",
    "for i in num_col:\n",
    "    plt.subplot(4, 4, c)\n",
    "    sns.distplot(insurance_claim_f[i],hist=False,label='Fraud')\n",
    "    sns.distplot(insurance_claim_nf[i],hist=False,label='Not-Fraud')\n",
    "    c = c + 1\n",
    "    plt.legend()    \n",
    "plt.show()"
   ]
  },
  {
   "cell_type": "code",
   "execution_count": null,
   "id": "03f2a535",
   "metadata": {},
   "outputs": [],
   "source": [
    "fig = px.box(insurance_claim, x=\"policy_state\", y=\"total_claim_amount\", color=\"fraud_reported\")\n",
    "fig.show()"
   ]
  },
  {
   "cell_type": "code",
   "execution_count": null,
   "id": "287c10ad",
   "metadata": {},
   "outputs": [],
   "source": [
    "fig=px.scatter(insurance_claim,x='policy_annual_premium',y='total_claim_amount',color='fraud_reported',marginal_x='histogram',marginal_y='histogram',trendline='ols')\n",
    "fig.show()"
   ]
  },
  {
   "cell_type": "code",
   "execution_count": null,
   "id": "a7588c4f",
   "metadata": {},
   "outputs": [],
   "source": [
    "fig=px.scatter(insurance_claim,x='policy_annual_premium',y='property_claim',color='fraud_reported')\n",
    "fig.show()"
   ]
  },
  {
   "cell_type": "code",
   "execution_count": null,
   "id": "94f8ef94",
   "metadata": {},
   "outputs": [],
   "source": [
    "fig=px.scatter(insurance_claim,x='policy_annual_premium',y='vehicle_claim',color='fraud_reported')\n",
    "fig.show()"
   ]
  },
  {
   "cell_type": "code",
   "execution_count": null,
   "id": "c0e399cc",
   "metadata": {},
   "outputs": [],
   "source": [
    "fig=px.scatter(insurance_claim,x='policy_annual_premium',y='injury_claim',color='fraud_reported')\n",
    "fig.show()"
   ]
  },
  {
   "cell_type": "code",
   "execution_count": null,
   "id": "3d8a30d3",
   "metadata": {},
   "outputs": [],
   "source": [
    "fig=px.scatter(insurance_claim,x='age',y='total_claim_amount',color='fraud_reported',marginal_x='box',marginal_y='violin',trendline='ols')\n",
    "fig.show()"
   ]
  },
  {
   "cell_type": "code",
   "execution_count": null,
   "id": "0d5912bf",
   "metadata": {},
   "outputs": [],
   "source": [
    "groupdf_is=insurance_claim.groupby(by=['insured_sex','fraud_reported']).count()\n",
    "groupdf_is.reset_index(inplace=True)\n",
    "groupdf_is=groupdf_is[['insured_sex','fraud_reported','count']]\n",
    "groupdf_is.head()"
   ]
  },
  {
   "cell_type": "code",
   "execution_count": null,
   "id": "ccf72e12",
   "metadata": {},
   "outputs": [],
   "source": [
    "fig=px.bar(groupdf_is,x='insured_sex',y='count',color='fraud_reported',text='count',pattern_shape_sequence=['|','/'],pattern_shape='fraud_reported')\n",
    "fig.show()"
   ]
  },
  {
   "cell_type": "code",
   "execution_count": null,
   "id": "8cd2a308",
   "metadata": {},
   "outputs": [],
   "source": [
    "groupdf_uu=insurance_claim.groupby(by=['umbrella_limit','fraud_reported']).count()\n",
    "groupdf_uu.reset_index(inplace=True)\n",
    "groupdf_uu=groupdf_uu[['umbrella_limit','fraud_reported','count']]\n",
    "groupdf_uu.head(3)"
   ]
  },
  {
   "cell_type": "code",
   "execution_count": null,
   "id": "2bc13809",
   "metadata": {},
   "outputs": [],
   "source": [
    "fig=px.bar(groupdf_uu,x='umbrella_limit',y='count',color='fraud_reported',text='count')\n",
    "fig.show()"
   ]
  },
  {
   "cell_type": "code",
   "execution_count": null,
   "id": "530e7b59",
   "metadata": {},
   "outputs": [],
   "source": [
    "groupdf_el=insurance_claim.groupby(by=['insured_education_level','fraud_reported']).count()\n",
    "groupdf_el.reset_index(inplace=True)\n",
    "groupdf_el=groupdf_el[['insured_education_level','fraud_reported','count']]\n",
    "groupdf_el.head()"
   ]
  },
  {
   "cell_type": "code",
   "execution_count": null,
   "id": "7ca948a6",
   "metadata": {},
   "outputs": [],
   "source": [
    "fig=px.bar(groupdf_el,x='insured_education_level',y='count',color='fraud_reported',text='count',title=\"Insurance Claim for different education Level\")\n",
    "fig.show()"
   ]
  },
  {
   "cell_type": "code",
   "execution_count": null,
   "id": "e22e1155",
   "metadata": {},
   "outputs": [],
   "source": [
    "groupdf_ic=insurance_claim.groupby(by=['insured_occupation','fraud_reported']).count()\n",
    "groupdf_ic.reset_index(inplace=True)\n",
    "groupdf_ic=groupdf_ic[['insured_occupation','fraud_reported','count']]\n",
    "groupdf_ic.head()"
   ]
  },
  {
   "cell_type": "code",
   "execution_count": null,
   "id": "34c285a2",
   "metadata": {},
   "outputs": [],
   "source": [
    "fig=px.bar(groupdf_ic,x='insured_occupation',y='count',color='fraud_reported',text='count',title='Number of Claims diffrent Occupation')\n",
    "fig.show()"
   ]
  },
  {
   "cell_type": "code",
   "execution_count": null,
   "id": "b028b44e",
   "metadata": {},
   "outputs": [],
   "source": [
    "groupdf_h=insurance_claim.groupby(by=['insured_hobbies','fraud_reported']).count()\n",
    "groupdf_h.reset_index(inplace=True)\n",
    "groupdf_h=groupdf_h[['insured_hobbies','fraud_reported','count']]\n",
    "groupdf_h.head()"
   ]
  },
  {
   "cell_type": "code",
   "execution_count": null,
   "id": "26da419a",
   "metadata": {},
   "outputs": [],
   "source": [
    "fig=px.bar(groupdf_h,x='insured_hobbies',y='count',color='fraud_reported',text='count',title=\"Hobby Wise claim\")\n",
    "fig.show()"
   ]
  },
  {
   "cell_type": "code",
   "execution_count": null,
   "id": "c5233bac",
   "metadata": {},
   "outputs": [],
   "source": [
    "groupdf_rl=insurance_claim.groupby(by=['insured_relationship','fraud_reported']).count()\n",
    "groupdf_rl.reset_index(inplace=True)\n",
    "groupdf_rl=groupdf_rl[['insured_relationship','fraud_reported','count']]\n",
    "groupdf_rl.head()"
   ]
  },
  {
   "cell_type": "code",
   "execution_count": null,
   "id": "9188aab8",
   "metadata": {},
   "outputs": [],
   "source": [
    "fig=px.bar(groupdf_rl,x='insured_relationship',y='count',color='fraud_reported',text='count')\n",
    "fig.show()"
   ]
  },
  {
   "cell_type": "code",
   "execution_count": null,
   "id": "839cd7e6",
   "metadata": {},
   "outputs": [],
   "source": [
    "groupdf_it=insurance_claim.groupby(by=['incident_type','fraud_reported']).count()\n",
    "groupdf_it.reset_index(inplace=True)\n",
    "groupdf_it=groupdf_it[['incident_type','fraud_reported','count']]\n",
    "groupdf_it.head()"
   ]
  },
  {
   "cell_type": "code",
   "execution_count": null,
   "id": "8cb2d447",
   "metadata": {},
   "outputs": [],
   "source": [
    "fig=px.bar(groupdf_it,x='incident_type',y='count',color='fraud_reported',text='count',title=\"Number of claims Vs. Incident type\")\n",
    "fig.show()"
   ]
  },
  {
   "cell_type": "code",
   "execution_count": null,
   "id": "64c0860a",
   "metadata": {},
   "outputs": [],
   "source": [
    "groupdf_ct=insurance_claim.groupby(by=['collision_type','fraud_reported']).count()\n",
    "groupdf_ct.reset_index(inplace=True)\n",
    "groupdf_ct=groupdf_ct[['collision_type','fraud_reported','count']]\n",
    "groupdf_ct.head()"
   ]
  },
  {
   "cell_type": "code",
   "execution_count": null,
   "id": "36305235",
   "metadata": {},
   "outputs": [],
   "source": [
    "fig=px.bar(groupdf_ct,x='collision_type',y='count',color='fraud_reported',text='count',title=\"Nos. of Claim for different type of collision\")\n",
    "fig.show()"
   ]
  },
  {
   "cell_type": "code",
   "execution_count": null,
   "id": "5face5ce",
   "metadata": {},
   "outputs": [],
   "source": [
    "groupdf_ins=insurance_claim.groupby(by=['incident_severity','fraud_reported']).count()\n",
    "groupdf_ins.reset_index(inplace=True)\n",
    "groupdf_ins=groupdf_ins[['incident_severity','fraud_reported','count']]\n",
    "groupdf_ins.head()"
   ]
  },
  {
   "cell_type": "code",
   "execution_count": null,
   "id": "9f4cd0f4",
   "metadata": {},
   "outputs": [],
   "source": [
    "fig=px.bar(groupdf_ins,x='incident_severity',y='count',color='fraud_reported',text='count',title=\"Number of claim Vs. Incident severity\")\n",
    "fig.show()"
   ]
  },
  {
   "cell_type": "code",
   "execution_count": null,
   "id": "9ca5edab",
   "metadata": {},
   "outputs": [],
   "source": [
    "groupdf_ac=insurance_claim.groupby(by=['authorities_contacted','fraud_reported']).count()\n",
    "groupdf_ac.reset_index(inplace=True)\n",
    "groupdf_ac=groupdf_ac[['authorities_contacted','fraud_reported','count']]\n",
    "groupdf_ac.head()"
   ]
  },
  {
   "cell_type": "code",
   "execution_count": null,
   "id": "ee0ba873",
   "metadata": {},
   "outputs": [],
   "source": [
    "fig=px.bar(groupdf_ac,x='authorities_contacted',y='count',color='fraud_reported',text='count')\n",
    "fig.show()"
   ]
  },
  {
   "cell_type": "code",
   "execution_count": null,
   "id": "b4f5e442",
   "metadata": {},
   "outputs": [],
   "source": [
    "groupdf_st=insurance_claim.groupby(by=['incident_state','fraud_reported']).count()\n",
    "groupdf_st.reset_index(inplace=True)\n",
    "groupdf_st=groupdf_st[['incident_state','fraud_reported','count']]\n",
    "groupdf_st.head()"
   ]
  },
  {
   "cell_type": "code",
   "execution_count": null,
   "id": "bd7e48cd",
   "metadata": {},
   "outputs": [],
   "source": [
    "fig=px.bar(groupdf_st,x='incident_state',y='count',color='fraud_reported',text='count',title=\"Claims for different state\")\n",
    "fig.show()"
   ]
  },
  {
   "cell_type": "code",
   "execution_count": null,
   "id": "ac028689",
   "metadata": {},
   "outputs": [],
   "source": [
    "groupdf_pd=insurance_claim.groupby(by=['property_damage','fraud_reported']).count()\n",
    "groupdf_pd.reset_index(inplace=True)\n",
    "groupdf_pd=groupdf_pd[['property_damage','fraud_reported','count']]\n",
    "groupdf_pd.head()"
   ]
  },
  {
   "cell_type": "code",
   "execution_count": null,
   "id": "62c6275b",
   "metadata": {},
   "outputs": [],
   "source": [
    "fig=px.bar(groupdf_pd,x='property_damage',y='count',color='fraud_reported',text='count')\n",
    "fig.show()"
   ]
  },
  {
   "cell_type": "code",
   "execution_count": null,
   "id": "7ab83d70",
   "metadata": {},
   "outputs": [],
   "source": [
    "groupdf_w=insurance_claim.groupby(by=['witnesses','fraud_reported']).count()\n",
    "groupdf_w.reset_index(inplace=True)\n",
    "groupdf_w=groupdf_w[['witnesses','fraud_reported','count']]\n",
    "groupdf_w.head()"
   ]
  },
  {
   "cell_type": "code",
   "execution_count": null,
   "id": "3906b545",
   "metadata": {},
   "outputs": [],
   "source": [
    "fig=px.bar(groupdf_w,x='witnesses',y='count',color='fraud_reported',text='count',title=\"Nos. of claims vs No. of witnesses\")\n",
    "fig.show()"
   ]
  },
  {
   "cell_type": "code",
   "execution_count": null,
   "id": "b09d2990",
   "metadata": {},
   "outputs": [],
   "source": [
    "groupdf_am=insurance_claim.groupby(by=['auto_make','fraud_reported']).count()\n",
    "groupdf_am.reset_index(inplace=True)\n",
    "groupdf_am=groupdf_am[['auto_make','fraud_reported','count']]\n",
    "groupdf_am.head()"
   ]
  },
  {
   "cell_type": "code",
   "execution_count": null,
   "id": "97096982",
   "metadata": {},
   "outputs": [],
   "source": [
    "fig=px.bar(groupdf_am,x='auto_make',y='count',color='fraud_reported',text='count',title=\"Claims for different auto make\")\n",
    "fig.show()"
   ]
  },
  {
   "cell_type": "code",
   "execution_count": null,
   "id": "445916ae",
   "metadata": {},
   "outputs": [],
   "source": [
    "groupdf_atm=insurance_claim.groupby(by=['auto_model','fraud_reported']).count()\n",
    "groupdf_atm.reset_index(inplace=True)\n",
    "groupdf_atm=groupdf_atm[['auto_model','fraud_reported','count']]\n",
    "groupdf_atm.head()"
   ]
  },
  {
   "cell_type": "code",
   "execution_count": null,
   "id": "5af2bf6f",
   "metadata": {},
   "outputs": [],
   "source": [
    "fig=px.bar(groupdf_atm,x='auto_model',y='count',color='fraud_reported',text='count',title=\"Claims for diiferent auto model\")\n",
    "fig.show()"
   ]
  },
  {
   "cell_type": "code",
   "execution_count": null,
   "id": "51f7e38b",
   "metadata": {},
   "outputs": [],
   "source": [
    "groupdf_atmm=insurance_claim.groupby(by=['auto_make','auto_model','fraud_reported']).count()\n",
    "groupdf_atmm.reset_index(inplace=True)\n",
    "groupdf_atmm=groupdf_atmm[['auto_make','auto_model','fraud_reported','count']]\n",
    "groupdf_atmm['fraud_reported']=groupdf_atmm['fraud_reported'].apply(lambda x: 'Fraud Reported :YES' if x == 'Y' else 'Fraud Reported :NO')\n",
    "groupdf_atmm.head()"
   ]
  },
  {
   "cell_type": "code",
   "execution_count": null,
   "id": "a21b0294",
   "metadata": {},
   "outputs": [],
   "source": [
    "fig=px.bar(groupdf_atmm,x='auto_make',y='count',color='auto_model',text='count',hover_name='fraud_reported',title=\"Claims by Auto make amd Auto model\")\n",
    "fig.show()"
   ]
  },
  {
   "cell_type": "code",
   "execution_count": null,
   "id": "5e776fec",
   "metadata": {},
   "outputs": [],
   "source": [
    "plt.figure(figsize=[20,12])\n",
    "sns.heatmap(insurance_claim.corr(),annot=True,cmap=\"PiYG\")\n",
    "plt.show()"
   ]
  },
  {
   "cell_type": "code",
   "execution_count": null,
   "id": "16db9957",
   "metadata": {},
   "outputs": [],
   "source": [
    "### Some feature showing strong correltion.\n",
    "### Plotting scatter plot for those\n",
    "\n",
    "plt.figure(figsize=[20,15])\n",
    "\n",
    "corr_df=insurance_claim[['months_as_customer', 'age','total_claim_amount', 'injury_claim','property_claim', 'vehicle_claim','fraud_reported']]\n",
    "sns.pairplot(corr_df,hue='fraud_reported',corner=True)\n",
    "plt.show()"
   ]
  },
  {
   "cell_type": "code",
   "execution_count": null,
   "id": "b7263c1c",
   "metadata": {},
   "outputs": [],
   "source": [
    "fig=px.box(insurance_claim,x='insured_sex',y='total_claim_amount',color='fraud_reported',notched=True,template='plotly_dark')\n",
    "fig.show()"
   ]
  },
  {
   "cell_type": "code",
   "execution_count": null,
   "id": "405717e2",
   "metadata": {},
   "outputs": [],
   "source": [
    "fig=px.box(insurance_claim,x='insured_education_level',y='total_claim_amount',color='fraud_reported',notched=True,template='plotly_dark')\n",
    "fig.show()"
   ]
  },
  {
   "cell_type": "code",
   "execution_count": null,
   "id": "b1c4a3e6",
   "metadata": {},
   "outputs": [],
   "source": [
    "fig=px.box(insurance_claim,x='insured_occupation',y='total_claim_amount',color='fraud_reported',notched=True,template='plotly_dark')\n",
    "fig.show()"
   ]
  },
  {
   "cell_type": "code",
   "execution_count": null,
   "id": "d766e338",
   "metadata": {},
   "outputs": [],
   "source": [
    "fig=px.box(insurance_claim,x='insured_hobbies',y='total_claim_amount',color='fraud_reported',notched=True,template='plotly_dark')\n",
    "fig.show()"
   ]
  },
  {
   "cell_type": "code",
   "execution_count": null,
   "id": "c9b8467a",
   "metadata": {},
   "outputs": [],
   "source": [
    "fig=px.box(insurance_claim,x='incident_type',y='total_claim_amount',color='fraud_reported',notched=True,template='plotly_dark')\n",
    "fig.show()"
   ]
  },
  {
   "cell_type": "code",
   "execution_count": null,
   "id": "42853ea8",
   "metadata": {},
   "outputs": [],
   "source": [
    "fig=px.box(insurance_claim,x='incident_severity',y='total_claim_amount',color='fraud_reported',notched=True,template='plotly_dark')\n",
    "fig.show()"
   ]
  },
  {
   "cell_type": "code",
   "execution_count": null,
   "id": "5cc76d32",
   "metadata": {},
   "outputs": [],
   "source": [
    "fig=px.box(insurance_claim,x='number_of_vehicles_involved',y='total_claim_amount',color='fraud_reported',notched=True,template='plotly_dark')\n",
    "fig.show()"
   ]
  },
  {
   "cell_type": "code",
   "execution_count": null,
   "id": "bca2b5cc",
   "metadata": {},
   "outputs": [],
   "source": [
    "fig=px.box(insurance_claim,x='bodily_injuries',y='total_claim_amount',color='fraud_reported',notched=True,template='plotly_dark')\n",
    "fig.show()"
   ]
  },
  {
   "cell_type": "code",
   "execution_count": null,
   "id": "63cb7686",
   "metadata": {},
   "outputs": [],
   "source": [
    "fig=px.box(insurance_claim,x='auto_make',y='total_claim_amount',color='fraud_reported',notched=True,template='plotly_dark')\n",
    "fig.show()"
   ]
  },
  {
   "cell_type": "code",
   "execution_count": null,
   "id": "9ada48f2",
   "metadata": {},
   "outputs": [],
   "source": [
    "fig=px.box(insurance_claim,x='auto_model',y='total_claim_amount',color='fraud_reported',notched=False,template='plotly_dark')\n",
    "fig.show()"
   ]
  },
  {
   "cell_type": "code",
   "execution_count": null,
   "id": "c73f73ec",
   "metadata": {},
   "outputs": [],
   "source": [
    "fig=px.box(insurance_claim,x='auto_year',y='total_claim_amount',color='fraud_reported',notched=False,template='plotly_dark')\n",
    "fig.show()"
   ]
  },
  {
   "cell_type": "code",
   "execution_count": null,
   "id": "d3a57f07",
   "metadata": {},
   "outputs": [],
   "source": [
    "fig=px.box(insurance_claim,x='fraud_reported',y='total_claim_amount',notched=True,template='plotly_dark',points='all')\n",
    "fig.show()"
   ]
  },
  {
   "cell_type": "code",
   "execution_count": null,
   "id": "9be847d1",
   "metadata": {},
   "outputs": [],
   "source": [
    "fig=px.box(insurance_claim,x='fraud_reported',y='vehicle_claim',notched=True,template='plotly_dark',points='all')\n",
    "fig.show()"
   ]
  },
  {
   "cell_type": "code",
   "execution_count": null,
   "id": "ef46149f",
   "metadata": {},
   "outputs": [],
   "source": [
    "fig=px.box(insurance_claim,x='fraud_reported',y='total_claim_amount',color='insured_education_level',notched=True,template='plotly_dark')\n",
    "fig.show()"
   ]
  },
  {
   "cell_type": "code",
   "execution_count": null,
   "id": "a9e2d8ee",
   "metadata": {},
   "outputs": [],
   "source": [
    "fig=px.box(insurance_claim,x='fraud_reported',y='total_claim_amount',color='insured_occupation',notched=True,template='plotly_dark')\n",
    "fig.show()"
   ]
  },
  {
   "cell_type": "code",
   "execution_count": null,
   "id": "f705459b",
   "metadata": {},
   "outputs": [],
   "source": [
    "### Make column \"fraud flag\" i.e 1 for yes and 0 for no\n",
    "\n",
    "insurance_claim['fraud_flag']=insurance_claim['fraud_reported'].apply(lambda x: 1 if x=='Y' else 0)"
   ]
  },
  {
   "cell_type": "code",
   "execution_count": null,
   "id": "fc090924",
   "metadata": {},
   "outputs": [],
   "source": [
    "grp1=insurance_claim.groupby(['insured_occupation'])['fraud_flag'].mean()\n",
    "grp1=pd.DataFrame(grp1)\n",
    "grp1.reset_index(inplace=True)\n",
    "grp1['fraud_flag']=grp1['fraud_flag'].apply(lambda x: 100*x)\n",
    "grp1['fraud_flag']=grp1['fraud_flag'].apply(lambda x: round(x,2))\n",
    "grp1['fraud_flag'] = grp1['fraud_flag'].apply(lambda x: \"{}{}\".format(x,'%'))\n",
    "grp1.rename(columns={'fraud_flag':'Fraud percentage'},inplace=True)\n",
    "grp1.head(10)"
   ]
  },
  {
   "cell_type": "code",
   "execution_count": null,
   "id": "f8b6976a",
   "metadata": {},
   "outputs": [],
   "source": [
    "fig=px.bar(grp1,x='insured_occupation',y='Fraud percentage',color='insured_occupation',log_y=True,title='Fraud percentage:Occupation wise',text='Fraud percentage')\n",
    "fig.update_traces(textposition='outside')\n",
    "fig.show()"
   ]
  },
  {
   "cell_type": "code",
   "execution_count": null,
   "id": "c303fce6",
   "metadata": {},
   "outputs": [],
   "source": [
    "grp2=insurance_claim.groupby(['insured_education_level'])['fraud_flag'].mean()\n",
    "grp2=pd.DataFrame(grp2)\n",
    "grp2.reset_index(inplace=True)\n",
    "grp2['fraud_flag']=grp2['fraud_flag'].apply(lambda x: 100*x)\n",
    "grp2['fraud_flag']=grp2['fraud_flag'].apply(lambda x: round(x,2))\n",
    "grp2['fraud_flag'] = grp2['fraud_flag'].apply(lambda x: \"{}{}\".format(x,'%'))\n",
    "grp2.rename(columns={'fraud_flag':'Fraud percentage'},inplace=True)\n",
    "grp2.head()"
   ]
  },
  {
   "cell_type": "code",
   "execution_count": null,
   "id": "cab786b2",
   "metadata": {},
   "outputs": [],
   "source": [
    "fig=px.bar(grp2,x='insured_education_level',y='Fraud percentage',color='insured_education_level',log_y=True,title='Fraud percentage:Education-Level wise',text='Fraud percentage')\n",
    "fig.update_traces(textposition='outside')\n",
    "fig.show()"
   ]
  },
  {
   "cell_type": "code",
   "execution_count": null,
   "id": "79b69ab7",
   "metadata": {},
   "outputs": [],
   "source": [
    "grp3=insurance_claim.groupby(['insured_sex'])['fraud_flag'].mean()\n",
    "grp3=pd.DataFrame(grp3)\n",
    "grp3.reset_index(inplace=True)\n",
    "grp3['fraud_flag']=grp3['fraud_flag'].apply(lambda x: 100*x)\n",
    "grp3['fraud_flag']=grp3['fraud_flag'].apply(lambda x: round(x,2))\n",
    "grp3['fraud_flag'] = grp3['fraud_flag'].apply(lambda x: \"{}{}\".format(x,'%'))\n",
    "grp3.rename(columns={'fraud_flag':'Fraud percentage'},inplace=True)\n",
    "grp3.head()"
   ]
  },
  {
   "cell_type": "code",
   "execution_count": null,
   "id": "f61b0215",
   "metadata": {},
   "outputs": [],
   "source": [
    "fig=px.bar(grp3,x='insured_sex',y='Fraud percentage',color='insured_sex',log_y=True,title='Fraud percentage:State wise',text='Fraud percentage')\n",
    "fig.update_traces(textposition='outside')\n",
    "fig.show()"
   ]
  },
  {
   "cell_type": "code",
   "execution_count": null,
   "id": "51afdfad",
   "metadata": {},
   "outputs": [],
   "source": [
    "grp4=insurance_claim.groupby(['auto_make'])['fraud_flag'].mean()\n",
    "grp4=pd.DataFrame(grp4)\n",
    "grp4.reset_index(inplace=True)\n",
    "grp4['fraud_flag']=grp4['fraud_flag'].apply(lambda x: 100*x)\n",
    "grp4['fraud_flag']=grp4['fraud_flag'].apply(lambda x: round(x,2))\n",
    "grp4['fraud_flag'] = grp4['fraud_flag'].apply(lambda x: \"{}{}\".format(x,'%'))\n",
    "grp4.rename(columns={'fraud_flag':'Fraud percentage'},inplace=True)\n",
    "grp4.head()"
   ]
  },
  {
   "cell_type": "code",
   "execution_count": null,
   "id": "45331de2",
   "metadata": {},
   "outputs": [],
   "source": [
    "fig=px.bar(grp4,x='auto_make',y='Fraud percentage',color='auto_make',log_y=True,title='Fraud percentage:Auto_Make wise',text='Fraud percentage')\n",
    "fig.update_traces(textposition='outside')\n",
    "fig.show()"
   ]
  },
  {
   "cell_type": "code",
   "execution_count": null,
   "id": "eb4d9744",
   "metadata": {},
   "outputs": [],
   "source": [
    "grp5=insurance_claim.groupby(['auto_model'])['fraud_flag'].mean()\n",
    "grp5=pd.DataFrame(grp5)\n",
    "grp5.reset_index(inplace=True)\n",
    "grp5['fraud_flag']=grp5['fraud_flag'].apply(lambda x: 100*x)\n",
    "grp5['fraud_flag']=grp5['fraud_flag'].apply(lambda x: round(x,2))\n",
    "grp5['fraud_flag'] = grp5['fraud_flag'].apply(lambda x: \"{}{}\".format(x,'%'))\n",
    "grp5.rename(columns={'fraud_flag':'Fraud percentage'},inplace=True)\n",
    "grp5.head()"
   ]
  },
  {
   "cell_type": "code",
   "execution_count": null,
   "id": "5c222ceb",
   "metadata": {},
   "outputs": [],
   "source": [
    "fig=px.bar(grp5,x='auto_model',y='Fraud percentage',color='auto_model',log_y=True,title='Fraud percentage:Auto_Model wise',text='Fraud percentage')\n",
    "fig.update_traces(textposition='outside',textfont_size=20)\n",
    "fig.show()"
   ]
  },
  {
   "cell_type": "code",
   "execution_count": null,
   "id": "51a46fd9",
   "metadata": {},
   "outputs": [],
   "source": [
    "fig=px.sunburst(insurance_claim,path=['auto_make','auto_model'])\n",
    "fig.show()"
   ]
  },
  {
   "cell_type": "code",
   "execution_count": null,
   "id": "955da86b",
   "metadata": {},
   "outputs": [],
   "source": [
    "fig=px.treemap(insurance_claim,path=[px.Constant(\"All Car Brand\"),'auto_make','auto_model'],values='count')\n",
    "fig.show()"
   ]
  },
  {
   "cell_type": "code",
   "execution_count": null,
   "id": "85166963",
   "metadata": {},
   "outputs": [],
   "source": [
    "claim_sex_edu=pd.pivot_table(data=insurance_claim,index='insured_sex',columns='insured_education_level',values='fraud_flag')\n",
    "claim_sex_edu"
   ]
  },
  {
   "cell_type": "code",
   "execution_count": null,
   "id": "259f5c5d",
   "metadata": {},
   "outputs": [],
   "source": [
    "plt.figure(figsize=[11,7])\n",
    "sns.heatmap(claim_sex_edu,annot=True,cmap='RdYlGn_r')\n",
    "plt.title(\"Fraud correlaton between betwwen insured_sex and insured_education_level\")\n",
    "plt.show()"
   ]
  },
  {
   "cell_type": "code",
   "execution_count": null,
   "id": "ad4bbae4",
   "metadata": {},
   "outputs": [],
   "source": [
    "claim_sex_ocu=pd.pivot_table(data=insurance_claim,index='insured_sex',columns='insured_occupation',values='fraud_flag')\n",
    "claim_sex_ocu"
   ]
  },
  {
   "cell_type": "code",
   "execution_count": null,
   "id": "148ccf69",
   "metadata": {},
   "outputs": [],
   "source": [
    "plt.figure(figsize=[15,9])\n",
    "sns.heatmap(claim_sex_ocu,annot=True,cmap='RdYlGn_r')\n",
    "plt.title(\"Fraud correlaton between betwwen insured_sex and insured_occupation_level\")\n",
    "plt.show()"
   ]
  },
  {
   "cell_type": "code",
   "execution_count": null,
   "id": "dc07721a",
   "metadata": {},
   "outputs": [],
   "source": [
    "claim_edu_ocu=pd.pivot_table(data=insurance_claim,index='insured_education_level',columns='insured_occupation',values='fraud_flag')\n",
    "claim_edu_ocu"
   ]
  },
  {
   "cell_type": "code",
   "execution_count": null,
   "id": "692fe3f4",
   "metadata": {},
   "outputs": [],
   "source": [
    "plt.figure(figsize=[15,9])\n",
    "sns.heatmap(claim_edu_ocu,annot=True,cmap='RdYlGn_r')\n",
    "plt.title(\"Fraud correlaton between betwwen insured_occupation and insured_education_level\")\n",
    "plt.show()"
   ]
  }
 ],
 "metadata": {
  "kernelspec": {
   "display_name": "Python 3",
   "language": "python",
   "name": "python3"
  },
  "language_info": {
   "codemirror_mode": {
    "name": "ipython",
    "version": 3
   },
   "file_extension": ".py",
   "mimetype": "text/x-python",
   "name": "python",
   "nbconvert_exporter": "python",
   "pygments_lexer": "ipython3",
   "version": "3.8.18"
  }
 },
 "nbformat": 4,
 "nbformat_minor": 5
}
