{
 "cells": [
  {
   "cell_type": "markdown",
   "id": "632503b3",
   "metadata": {},
   "source": [
    "# Use Snowpark_OpenAI Notebook template"
   ]
  },
  {
   "cell_type": "markdown",
   "id": "5b2b84af",
   "metadata": {},
   "source": [
    "## Import Snowpark Pandas for dumping csv to Snowflake table"
   ]
  },
  {
   "cell_type": "code",
   "execution_count": null,
   "id": "81be8e7e",
   "metadata": {},
   "outputs": [
    {
     "name": "stdout",
     "output_type": "stream",
     "text": [
      "Collecting snowflake-connector-python[pandas]\n",
      "  Using cached https://files.pythonhosted.org/packages/7a/36/d01948e9b486e40e4988db00455bf30718139d9dc98d10536f1e68385039/snowflake_connector_python-3.9.1-cp39-cp39-manylinux_2_17_x86_64.manylinux2014_x86_64.whl\n",
      "Collecting idna<4,>=2.5\n",
      "  Using cached https://files.pythonhosted.org/packages/e5/3e/741d8c82801c347547f8a2a06aa57dbb1992be9e948df2ea0eda2c8b79e8/idna-3.7-py3-none-any.whl\n",
      "Collecting cryptography<43.0.0,>=3.1.0\n",
      "  Using cached https://files.pythonhosted.org/packages/d4/fa/057f9d7a5364c86ccb6a4bd4e5c58920dcb66532be0cc21da3f9c7617ec3/cryptography-42.0.5-cp39-abi3-manylinux_2_17_x86_64.manylinux2014_x86_64.whl\n",
      "Collecting pyOpenSSL<25.0.0,>=16.2.0\n",
      "  Using cached https://files.pythonhosted.org/packages/54/a7/2104f674a5a6845b04c8ff01659becc6b8978ca410b82b94287e0b1e018b/pyOpenSSL-24.1.0-py3-none-any.whl\n",
      "Collecting typing-extensions<5,>=4.3\n",
      "  Using cached https://files.pythonhosted.org/packages/01/f3/936e209267d6ef7510322191003885de524fc48d1b43269810cd589ceaf5/typing_extensions-4.11.0-py3-none-any.whl\n",
      "Collecting pyjwt<3.0.0\n",
      "  Using cached https://files.pythonhosted.org/packages/2b/4f/e04a8067c7c96c364cef7ef73906504e2f40d690811c021e1a1901473a19/PyJWT-2.8.0-py3-none-any.whl\n",
      "Collecting cffi<2.0.0,>=1.9\n",
      "  Using cached https://files.pythonhosted.org/packages/ea/ac/e9e77bc385729035143e54cc8c4785bd480eaca9df17565963556b0b7a93/cffi-1.16.0-cp39-cp39-manylinux_2_17_x86_64.manylinux2014_x86_64.whl\n",
      "Collecting requests<3.0.0\n",
      "  Using cached https://files.pythonhosted.org/packages/70/8e/0e2d847013cb52cd35b38c009bb167a1a26b2ce6cd6965bf26b47bc0bf44/requests-2.31.0-py3-none-any.whl\n",
      "Collecting platformdirs<5.0.0,>=2.6.0\n",
      "  Using cached https://files.pythonhosted.org/packages/55/72/4898c44ee9ea6f43396fbc23d9bfaf3d06e01b83698bdf2e4c919deceb7c/platformdirs-4.2.0-py3-none-any.whl\n",
      "Collecting asn1crypto<2.0.0,>0.24.0\n",
      "  Using cached https://files.pythonhosted.org/packages/c9/7f/09065fd9e27da0eda08b4d6897f1c13535066174cc023af248fc2a8d5e5a/asn1crypto-1.5.1-py2.py3-none-any.whl\n",
      "Collecting certifi>=2017.4.17\n",
      "  Using cached https://files.pythonhosted.org/packages/ba/06/a07f096c664aeb9f01624f858c3add0a4e913d6c96257acb4fce61e7de14/certifi-2024.2.2-py3-none-any.whl\n",
      "Collecting filelock<4,>=3.5\n",
      "  Using cached https://files.pythonhosted.org/packages/6e/b5/15b3b36f298bcbc0be82a371ac744f4f5a10309ade0b8bbde286598dd612/filelock-3.13.4-py3-none-any.whl\n",
      "Collecting sortedcontainers>=2.4.0\n",
      "  Using cached https://files.pythonhosted.org/packages/32/46/9cb0e58b2deb7f82b84065f37f3bffeb12413f947f9388e4cac22c4621ce/sortedcontainers-2.4.0-py2.py3-none-any.whl\n",
      "Collecting pytz\n",
      "  Using cached https://files.pythonhosted.org/packages/9c/3d/a121f284241f08268b21359bd425f7d4825cffc5ac5cd0e1b3d82ffd2b10/pytz-2024.1-py2.py3-none-any.whl\n",
      "Collecting tomlkit\n",
      "  Using cached https://files.pythonhosted.org/packages/07/fa/c96545d741f2fd47f565e4e06bfef0962add790cb9c2289d900102b55eca/tomlkit-0.12.4-py3-none-any.whl\n",
      "Collecting packaging\n",
      "  Using cached https://files.pythonhosted.org/packages/49/df/1fceb2f8900f8639e278b056416d49134fb8d84c5942ffaa01ad34782422/packaging-24.0-py3-none-any.whl\n",
      "Collecting urllib3<2.0.0,>=1.21.1; python_version < \"3.10\"\n",
      "  Using cached https://files.pythonhosted.org/packages/b0/53/aa91e163dcfd1e5b82d8a890ecf13314e3e149c05270cc644581f77f17fd/urllib3-1.26.18-py2.py3-none-any.whl\n",
      "Collecting charset-normalizer<4,>=2\n",
      "  Using cached https://files.pythonhosted.org/packages/98/69/5d8751b4b670d623aa7a47bef061d69c279e9f922f6705147983aa76c3ce/charset_normalizer-3.3.2-cp39-cp39-manylinux_2_17_x86_64.manylinux2014_x86_64.whl\n",
      "Collecting pyarrow; extra == \"pandas\"\n",
      "  Using cached https://files.pythonhosted.org/packages/6c/19/7341bca1e89cb36588d24e59e0823c41da599d919fbfd9343f875ffab495/pyarrow-16.0.0-cp39-cp39-manylinux_2_17_x86_64.manylinux2014_x86_64.whl\n",
      "Collecting pandas<3.0.0,>=1.0.0; extra == \"pandas\"\n",
      "  Using cached https://files.pythonhosted.org/packages/bb/30/f6f1f1ac36250f50c421b1b6af08c35e5a8b5a84385ef928625336b93e6f/pandas-2.2.2-cp39-cp39-manylinux_2_17_x86_64.manylinux2014_x86_64.whl\n",
      "Collecting pycparser\n",
      "  Using cached https://files.pythonhosted.org/packages/13/a3/a812df4e2dd5696d1f351d58b8fe16a405b234ad2886a0dab9183fb78109/pycparser-2.22-py3-none-any.whl\n",
      "Collecting numpy>=1.16.6\n",
      "  Using cached https://files.pythonhosted.org/packages/54/30/c2a907b9443cf42b90c17ad10c1e8fa801975f01cb9764f3f8eb8aea638b/numpy-1.26.4-cp39-cp39-manylinux_2_17_x86_64.manylinux2014_x86_64.whl\n",
      "Collecting tzdata>=2022.7\n",
      "  Using cached https://files.pythonhosted.org/packages/65/58/f9c9e6be752e9fcb8b6a0ee9fb87e6e7a1f6bcab2cdc73f02bb7ba91ada0/tzdata-2024.1-py2.py3-none-any.whl\n",
      "Collecting python-dateutil>=2.8.2\n",
      "  Using cached https://files.pythonhosted.org/packages/ec/57/56b9bcc3c9c6a792fcbaf139543cee77261f3651ca9da0c93f5c1221264b/python_dateutil-2.9.0.post0-py2.py3-none-any.whl\n",
      "Collecting six>=1.5\n",
      "  Using cached https://files.pythonhosted.org/packages/d9/5a/e7c31adbe875f2abbb91bd84cf2dc52d792b5a01506781dbcf25c91daf11/six-1.16.0-py2.py3-none-any.whl\n",
      "\u001b[31mERROR: snowflake-ml-python 1.0.10 has requirement packaging<24,>=20.9, but you'll have packaging 24.0 which is incompatible.\u001b[0m\n",
      "\u001b[31mERROR: snowflake-ml-python 1.0.10 has requirement pandas<2,>=1.0.0, but you'll have pandas 2.2.2 which is incompatible.\u001b[0m\n",
      "\u001b[31mERROR: snowflake-ml-python 1.0.10 has requirement snowflake-snowpark-python<2,>=1.5.1, but you'll have snowflake-snowpark-python 1.5.0 which is incompatible.\u001b[0m\n",
      "\u001b[31mERROR: jupyterlab 3.2.4 has requirement jupyter-server~=1.4, but you'll have jupyter-server 2.0.0a1 which is incompatible.\u001b[0m\n",
      "\u001b[31mERROR: jupyterlab-server 2.25.3 has requirement jsonschema>=4.18.0, but you'll have jsonschema 3.2.0 which is incompatible.\u001b[0m\n",
      "Installing collected packages: idna, pycparser, cffi, cryptography, pyOpenSSL, typing-extensions, pyjwt, urllib3, certifi, charset-normalizer, requests, platformdirs, asn1crypto, filelock, sortedcontainers, pytz, tomlkit, packaging, numpy, pyarrow, tzdata, six, python-dateutil, pandas, snowflake-connector-python\n",
      "Successfully installed asn1crypto-1.5.1 certifi-2024.2.2 cffi-1.16.0 charset-normalizer-3.3.2 cryptography-42.0.5 filelock-3.13.4 idna-3.7 numpy-1.26.4 packaging-24.0 pandas-2.2.2 platformdirs-4.2.0 pyOpenSSL-24.1.0 pyarrow-16.0.0 pycparser-2.22 pyjwt-2.8.0 python-dateutil-2.9.0.post0 pytz-2024.1 requests-2.31.0 six-1.16.0 snowflake-connector-python-3.9.1 sortedcontainers-2.4.0 tomlkit-0.12.4 typing-extensions-4.11.0 tzdata-2024.1 urllib3-1.26.18\n",
      "\u001b[33mWARNING: Target directory /tmp/pip_packages/idna already exists. Specify --upgrade to force replacement.\u001b[0m\n",
      "\u001b[33mWARNING: Target directory /tmp/pip_packages/idna-3.7.dist-info already exists. Specify --upgrade to force replacement.\u001b[0m\n",
      "\u001b[33mWARNING: Target directory /tmp/pip_packages/pycparser already exists. Specify --upgrade to force replacement.\u001b[0m\n",
      "\u001b[33mWARNING: Target directory /tmp/pip_packages/pycparser-2.22.dist-info already exists. Specify --upgrade to force replacement.\u001b[0m\n",
      "\u001b[33mWARNING: Target directory /tmp/pip_packages/_cffi_backend.cpython-39-x86_64-linux-gnu.so already exists. Specify --upgrade to force replacement.\u001b[0m\n",
      "\u001b[33mWARNING: Target directory /tmp/pip_packages/cffi already exists. Specify --upgrade to force replacement.\u001b[0m\n",
      "\u001b[33mWARNING: Target directory /tmp/pip_packages/cffi-1.16.0.dist-info already exists. Specify --upgrade to force replacement.\u001b[0m\n",
      "\u001b[33mWARNING: Target directory /tmp/pip_packages/cryptography-42.0.5.dist-info already exists. Specify --upgrade to force replacement.\u001b[0m\n",
      "\u001b[33mWARNING: Target directory /tmp/pip_packages/cryptography already exists. Specify --upgrade to force replacement.\u001b[0m\n",
      "\u001b[33mWARNING: Target directory /tmp/pip_packages/OpenSSL already exists. Specify --upgrade to force replacement.\u001b[0m\n",
      "\u001b[33mWARNING: Target directory /tmp/pip_packages/pyOpenSSL-24.1.0.dist-info already exists. Specify --upgrade to force replacement.\u001b[0m\n",
      "\u001b[33mWARNING: Target directory /tmp/pip_packages/typing_extensions.py already exists. Specify --upgrade to force replacement.\u001b[0m\n",
      "\u001b[33mWARNING: Target directory /tmp/pip_packages/typing_extensions-4.11.0.dist-info already exists. Specify --upgrade to force replacement.\u001b[0m\n",
      "\u001b[33mWARNING: Target directory /tmp/pip_packages/__pycache__ already exists. Specify --upgrade to force replacement.\u001b[0m\n",
      "\u001b[33mWARNING: Target directory /tmp/pip_packages/jwt already exists. Specify --upgrade to force replacement.\u001b[0m\n",
      "\u001b[33mWARNING: Target directory /tmp/pip_packages/PyJWT-2.8.0.dist-info already exists. Specify --upgrade to force replacement.\u001b[0m\n",
      "\u001b[33mWARNING: Target directory /tmp/pip_packages/urllib3 already exists. Specify --upgrade to force replacement.\u001b[0m\n",
      "\u001b[33mWARNING: Target directory /tmp/pip_packages/urllib3-1.26.18.dist-info already exists. Specify --upgrade to force replacement.\u001b[0m\n",
      "\u001b[33mWARNING: Target directory /tmp/pip_packages/certifi already exists. Specify --upgrade to force replacement.\u001b[0m\n",
      "\u001b[33mWARNING: Target directory /tmp/pip_packages/certifi-2024.2.2.dist-info already exists. Specify --upgrade to force replacement.\u001b[0m\n",
      "\u001b[33mWARNING: Target directory /tmp/pip_packages/charset_normalizer already exists. Specify --upgrade to force replacement.\u001b[0m\n",
      "\u001b[33mWARNING: Target directory /tmp/pip_packages/charset_normalizer-3.3.2.dist-info already exists. Specify --upgrade to force replacement.\u001b[0m\n",
      "\u001b[33mWARNING: Target directory /tmp/pip_packages/requests already exists. Specify --upgrade to force replacement.\u001b[0m\n",
      "\u001b[33mWARNING: Target directory /tmp/pip_packages/requests-2.31.0.dist-info already exists. Specify --upgrade to force replacement.\u001b[0m\n",
      "\u001b[33mWARNING: Target directory /tmp/pip_packages/platformdirs already exists. Specify --upgrade to force replacement.\u001b[0m\n",
      "\u001b[33mWARNING: Target directory /tmp/pip_packages/platformdirs-4.2.0.dist-info already exists. Specify --upgrade to force replacement.\u001b[0m\n",
      "\u001b[33mWARNING: Target directory /tmp/pip_packages/asn1crypto already exists. Specify --upgrade to force replacement.\u001b[0m\n",
      "\u001b[33mWARNING: Target directory /tmp/pip_packages/asn1crypto-1.5.1.dist-info already exists. Specify --upgrade to force replacement.\u001b[0m\n",
      "\u001b[33mWARNING: Target directory /tmp/pip_packages/filelock already exists. Specify --upgrade to force replacement.\u001b[0m\n",
      "\u001b[33mWARNING: Target directory /tmp/pip_packages/filelock-3.13.4.dist-info already exists. Specify --upgrade to force replacement.\u001b[0m\n",
      "\u001b[33mWARNING: Target directory /tmp/pip_packages/sortedcontainers already exists. Specify --upgrade to force replacement.\u001b[0m\n",
      "\u001b[33mWARNING: Target directory /tmp/pip_packages/sortedcontainers-2.4.0.dist-info already exists. Specify --upgrade to force replacement.\u001b[0m\n",
      "\u001b[33mWARNING: Target directory /tmp/pip_packages/pytz already exists. Specify --upgrade to force replacement.\u001b[0m\n",
      "\u001b[33mWARNING: Target directory /tmp/pip_packages/pytz-2024.1.dist-info already exists. Specify --upgrade to force replacement.\u001b[0m\n",
      "\u001b[33mWARNING: Target directory /tmp/pip_packages/tomlkit already exists. Specify --upgrade to force replacement.\u001b[0m\n",
      "\u001b[33mWARNING: Target directory /tmp/pip_packages/tomlkit-0.12.4.dist-info already exists. Specify --upgrade to force replacement.\u001b[0m\n",
      "\u001b[33mWARNING: Target directory /tmp/pip_packages/packaging already exists. Specify --upgrade to force replacement.\u001b[0m\n",
      "\u001b[33mWARNING: Target directory /tmp/pip_packages/packaging-24.0.dist-info already exists. Specify --upgrade to force replacement.\u001b[0m\n",
      "\u001b[33mWARNING: Target directory /tmp/pip_packages/numpy already exists. Specify --upgrade to force replacement.\u001b[0m\n",
      "\u001b[33mWARNING: Target directory /tmp/pip_packages/numpy-1.26.4.dist-info already exists. Specify --upgrade to force replacement.\u001b[0m\n",
      "\u001b[33mWARNING: Target directory /tmp/pip_packages/numpy.libs already exists. Specify --upgrade to force replacement.\u001b[0m\n",
      "\u001b[33mWARNING: Target directory /tmp/pip_packages/pyarrow already exists. Specify --upgrade to force replacement.\u001b[0m\n",
      "\u001b[33mWARNING: Target directory /tmp/pip_packages/pyarrow-16.0.0.dist-info already exists. Specify --upgrade to force replacement.\u001b[0m\n",
      "\u001b[33mWARNING: Target directory /tmp/pip_packages/tzdata already exists. Specify --upgrade to force replacement.\u001b[0m\n",
      "\u001b[33mWARNING: Target directory /tmp/pip_packages/tzdata-2024.1.dist-info already exists. Specify --upgrade to force replacement.\u001b[0m\n",
      "\u001b[33mWARNING: Target directory /tmp/pip_packages/six.py already exists. Specify --upgrade to force replacement.\u001b[0m\n",
      "\u001b[33mWARNING: Target directory /tmp/pip_packages/six-1.16.0.dist-info already exists. Specify --upgrade to force replacement.\u001b[0m\n",
      "\u001b[33mWARNING: Target directory /tmp/pip_packages/dateutil already exists. Specify --upgrade to force replacement.\u001b[0m\n",
      "\u001b[33mWARNING: Target directory /tmp/pip_packages/python_dateutil-2.9.0.post0.dist-info already exists. Specify --upgrade to force replacement.\u001b[0m\n",
      "\u001b[33mWARNING: Target directory /tmp/pip_packages/pandas already exists. Specify --upgrade to force replacement.\u001b[0m\n",
      "\u001b[33mWARNING: Target directory /tmp/pip_packages/pandas-2.2.2.dist-info already exists. Specify --upgrade to force replacement.\u001b[0m\n",
      "\u001b[33mWARNING: Target directory /tmp/pip_packages/snowflake already exists. Specify --upgrade to force replacement.\u001b[0m\n",
      "\u001b[33mWARNING: Target directory /tmp/pip_packages/snowflake_connector_python-3.9.1.dist-info already exists. Specify --upgrade to force replacement.\u001b[0m\n",
      "\u001b[33mWARNING: Target directory /tmp/pip_packages/bin already exists. Specify --upgrade to force replacement.\u001b[0m\n"
     ]
    },
    {
     "name": "stdout",
     "output_type": "stream",
     "text": [
      "\u001b[33mWARNING: You are using pip version 19.3.1; however, version 24.0 is available.\n",
      "You should consider upgrading via the 'pip install --upgrade pip' command.\u001b[0m\n",
      "Collecting snowflake-ml-python==1.0.11\n",
      "\u001b[?25l  Downloading https://files.pythonhosted.org/packages/06/10/ae953f9fa88722e29cdf2dce1a811afedc32fb2af2878a11373e78de62a1/snowflake_ml_python-1.0.11-py3-none-any.whl (1.6MB)\n",
      "\u001b[K     |████████████████████████████████| 1.6MB 4.7MB/s eta 0:00:01\n",
      "\u001b[?25hRequirement already satisfied, skipping upgrade: typing-extensions<5,>=4.1.0 in /opt/conda/lib/python3.9/site-packages (from snowflake-ml-python==1.0.11) (4.3.0)\n",
      "Requirement already satisfied, skipping upgrade: fsspec[http]<2024,>=2022.11 in /opt/conda/lib/python3.9/site-packages (from snowflake-ml-python==1.0.11) (2023.12.2)\n",
      "Requirement already satisfied, skipping upgrade: anyio<4,>=3.5.0 in /opt/conda/lib/python3.9/site-packages (from snowflake-ml-python==1.0.11) (3.7.1)\n",
      "Requirement already satisfied, skipping upgrade: pyyaml<7,>=6.0 in /opt/conda/lib/python3.9/site-packages (from snowflake-ml-python==1.0.11) (6.0.1)\n",
      "Requirement already satisfied, skipping upgrade: snowflake-connector-python[pandas]<4,>=3.0.4 in /opt/conda/lib/python3.9/site-packages (from snowflake-ml-python==1.0.11) (3.7.1)\n",
      "Collecting snowflake-snowpark-python<2,>=1.5.1\n",
      "\u001b[?25l  Downloading https://files.pythonhosted.org/packages/e8/64/78013f54adc402424e980c94c7e8c9d69dc4648649796c8b2ba8fdddb09b/snowflake_snowpark_python-1.14.0-py3-none-any.whl (419kB)\n",
      "\u001b[K     |████████████████████████████████| 419kB 69.0MB/s eta 0:00:01\n",
      "\u001b[?25hRequirement already satisfied, skipping upgrade: pytimeparse<2,>=1.1.8 in /opt/conda/lib/python3.9/site-packages (from snowflake-ml-python==1.0.11) (1.1.8)\n",
      "Requirement already satisfied, skipping upgrade: scipy<2,>=1.9 in /opt/conda/lib/python3.9/site-packages (from snowflake-ml-python==1.0.11) (1.12.0)\n",
      "Requirement already satisfied, skipping upgrade: sqlparse<1,>=0.4 in /opt/conda/lib/python3.9/site-packages (from snowflake-ml-python==1.0.11) (0.4.4)\n",
      "Collecting pandas<2,>=1.0.0\n",
      "\u001b[?25l  Downloading https://files.pythonhosted.org/packages/e1/4d/3eb96e53a9208350ee21615f850c4be9a246d32bf1d34cd36682cb58c3b7/pandas-1.5.3-cp39-cp39-manylinux_2_17_x86_64.manylinux2014_x86_64.whl (12.2MB)\n",
      "\u001b[K     |████████████████████████████████| 12.2MB 73.5MB/s eta 0:00:01\n",
      "\u001b[?25hRequirement already satisfied, skipping upgrade: scikit-learn<1.4,>=1.2.1 in /opt/conda/lib/python3.9/site-packages (from snowflake-ml-python==1.0.11) (1.3.2)\n",
      "Collecting numpy<2,>=1.23\n",
      "\u001b[?25l  Downloading https://files.pythonhosted.org/packages/54/30/c2a907b9443cf42b90c17ad10c1e8fa801975f01cb9764f3f8eb8aea638b/numpy-1.26.4-cp39-cp39-manylinux_2_17_x86_64.manylinux2014_x86_64.whl (18.2MB)\n",
      "\u001b[K     |████████████████████████████████| 18.3MB 68.6MB/s eta 0:00:01     |████████████████████████▎       | 13.9MB 68.6MB/s eta 0:00:01\n",
      "\u001b[?25hRequirement already satisfied, skipping upgrade: packaging<24,>=20.9 in /opt/conda/lib/python3.9/site-packages (from snowflake-ml-python==1.0.11) (23.1)\n",
      "Requirement already satisfied, skipping upgrade: cachetools<5,>=3.1.1 in /opt/conda/lib/python3.9/site-packages (from snowflake-ml-python==1.0.11) (4.2.4)\n",
      "Requirement already satisfied, skipping upgrade: s3fs<2024,>=2022.11 in /opt/conda/lib/python3.9/site-packages (from snowflake-ml-python==1.0.11) (2023.12.2)\n",
      "Requirement already satisfied, skipping upgrade: absl-py<2,>=0.15 in /opt/conda/lib/python3.9/site-packages (from snowflake-ml-python==1.0.11) (1.4.0)\n",
      "Requirement already satisfied, skipping upgrade: cloudpickle>=2.0.0 in /opt/conda/lib/python3.9/site-packages (from snowflake-ml-python==1.0.11) (2.0.0)\n",
      "Requirement already satisfied, skipping upgrade: xgboost<2,>=1.7.3 in /opt/conda/lib/python3.9/site-packages (from snowflake-ml-python==1.0.11) (1.7.6)\n",
      "Requirement already satisfied, skipping upgrade: requests; extra == \"http\" in /opt/conda/lib/python3.9/site-packages (from fsspec[http]<2024,>=2022.11->snowflake-ml-python==1.0.11) (2.31.0)\n",
      "Requirement already satisfied, skipping upgrade: aiohttp!=4.0.0a0,!=4.0.0a1; extra == \"http\" in /opt/conda/lib/python3.9/site-packages (from fsspec[http]<2024,>=2022.11->snowflake-ml-python==1.0.11) (3.9.3)\n",
      "Requirement already satisfied, skipping upgrade: sniffio>=1.1 in /opt/conda/lib/python3.9/site-packages (from anyio<4,>=3.5.0->snowflake-ml-python==1.0.11) (1.3.1)\n",
      "Requirement already satisfied, skipping upgrade: exceptiongroup; python_version < \"3.11\" in /opt/conda/lib/python3.9/site-packages (from anyio<4,>=3.5.0->snowflake-ml-python==1.0.11) (1.2.0)\n",
      "Requirement already satisfied, skipping upgrade: idna>=2.8 in /opt/conda/lib/python3.9/site-packages (from anyio<4,>=3.5.0->snowflake-ml-python==1.0.11) (3.4)\n",
      "Requirement already satisfied, skipping upgrade: asn1crypto<2.0.0,>0.24.0 in /opt/conda/lib/python3.9/site-packages (from snowflake-connector-python[pandas]<4,>=3.0.4->snowflake-ml-python==1.0.11) (1.5.1)\n",
      "Requirement already satisfied, skipping upgrade: cryptography<43.0.0,>=3.1.0 in /opt/conda/lib/python3.9/site-packages (from snowflake-connector-python[pandas]<4,>=3.0.4->snowflake-ml-python==1.0.11) (42.0.2)\n",
      "Requirement already satisfied, skipping upgrade: filelock<4,>=3.5 in /opt/conda/lib/python3.9/site-packages (from snowflake-connector-python[pandas]<4,>=3.0.4->snowflake-ml-python==1.0.11) (3.13.1)\n",
      "Requirement already satisfied, skipping upgrade: tomlkit in /opt/conda/lib/python3.9/site-packages (from snowflake-connector-python[pandas]<4,>=3.0.4->snowflake-ml-python==1.0.11) (0.12.4)\n",
      "Requirement already satisfied, skipping upgrade: pyOpenSSL<25.0.0,>=16.2.0 in /opt/conda/lib/python3.9/site-packages (from snowflake-connector-python[pandas]<4,>=3.0.4->snowflake-ml-python==1.0.11) (24.0.0)\n",
      "Requirement already satisfied, skipping upgrade: charset-normalizer<4,>=2 in /opt/conda/lib/python3.9/site-packages (from snowflake-connector-python[pandas]<4,>=3.0.4->snowflake-ml-python==1.0.11) (2.0.4)\n",
      "Collecting urllib3<2.0.0,>=1.21.1; python_version < \"3.10\"\n",
      "\u001b[?25l  Downloading https://files.pythonhosted.org/packages/b0/53/aa91e163dcfd1e5b82d8a890ecf13314e3e149c05270cc644581f77f17fd/urllib3-1.26.18-py2.py3-none-any.whl (143kB)\n",
      "\u001b[K     |████████████████████████████████| 153kB 81.1MB/s eta 0:00:01\n",
      "\u001b[?25hRequirement already satisfied, skipping upgrade: cffi<2.0.0,>=1.9 in /opt/conda/lib/python3.9/site-packages (from snowflake-connector-python[pandas]<4,>=3.0.4->snowflake-ml-python==1.0.11) (1.16.0)\n",
      "Requirement already satisfied, skipping upgrade: pytz in /opt/conda/lib/python3.9/site-packages (from snowflake-connector-python[pandas]<4,>=3.0.4->snowflake-ml-python==1.0.11) (2024.1)\n",
      "Requirement already satisfied, skipping upgrade: sortedcontainers>=2.4.0 in /opt/conda/lib/python3.9/site-packages (from snowflake-connector-python[pandas]<4,>=3.0.4->snowflake-ml-python==1.0.11) (2.4.0)\n",
      "Requirement already satisfied, skipping upgrade: platformdirs<4.0.0,>=2.6.0 in /opt/conda/lib/python3.9/site-packages (from snowflake-connector-python[pandas]<4,>=3.0.4->snowflake-ml-python==1.0.11) (3.10.0)\n",
      "Requirement already satisfied, skipping upgrade: pyjwt<3.0.0 in /opt/conda/lib/python3.9/site-packages (from snowflake-connector-python[pandas]<4,>=3.0.4->snowflake-ml-python==1.0.11) (2.8.0)\n",
      "Requirement already satisfied, skipping upgrade: certifi>=2017.4.17 in /opt/conda/lib/python3.9/site-packages (from snowflake-connector-python[pandas]<4,>=3.0.4->snowflake-ml-python==1.0.11) (2024.2.2)\n",
      "Collecting pyarrow; extra == \"pandas\"\n",
      "\u001b[?25l  Downloading https://files.pythonhosted.org/packages/6c/19/7341bca1e89cb36588d24e59e0823c41da599d919fbfd9343f875ffab495/pyarrow-16.0.0-cp39-cp39-manylinux_2_17_x86_64.manylinux2014_x86_64.whl (40.9MB)\n",
      "\u001b[K     |████████████████████████████████| 40.9MB 98kB/s s eta 0:00:01\n",
      "\u001b[?25hRequirement already satisfied, skipping upgrade: setuptools>=40.6.0 in /opt/conda/lib/python3.9/site-packages (from snowflake-snowpark-python<2,>=1.5.1->snowflake-ml-python==1.0.11) (65.6.3)\n",
      "Requirement already satisfied, skipping upgrade: wheel in /opt/conda/lib/python3.9/site-packages (from snowflake-snowpark-python<2,>=1.5.1->snowflake-ml-python==1.0.11) (0.38.1)\n",
      "Requirement already satisfied, skipping upgrade: python-dateutil>=2.8.1 in /opt/conda/lib/python3.9/site-packages (from pandas<2,>=1.0.0->snowflake-ml-python==1.0.11) (2.9.0.post0)\n",
      "Requirement already satisfied, skipping upgrade: joblib>=1.1.1 in /opt/conda/lib/python3.9/site-packages (from scikit-learn<1.4,>=1.2.1->snowflake-ml-python==1.0.11) (1.3.2)\n",
      "Requirement already satisfied, skipping upgrade: threadpoolctl>=2.0.0 in /opt/conda/lib/python3.9/site-packages (from scikit-learn<1.4,>=1.2.1->snowflake-ml-python==1.0.11) (3.3.0)\n",
      "Requirement already satisfied, skipping upgrade: aiobotocore<3.0.0,>=2.5.4 in /opt/conda/lib/python3.9/site-packages (from s3fs<2024,>=2022.11->snowflake-ml-python==1.0.11) (2.12.1)\n",
      "Requirement already satisfied, skipping upgrade: yarl<2.0,>=1.0 in /opt/conda/lib/python3.9/site-packages (from aiohttp!=4.0.0a0,!=4.0.0a1; extra == \"http\"->fsspec[http]<2024,>=2022.11->snowflake-ml-python==1.0.11) (1.9.4)\n",
      "Requirement already satisfied, skipping upgrade: aiosignal>=1.1.2 in /opt/conda/lib/python3.9/site-packages (from aiohttp!=4.0.0a0,!=4.0.0a1; extra == \"http\"->fsspec[http]<2024,>=2022.11->snowflake-ml-python==1.0.11) (1.3.1)\n",
      "Requirement already satisfied, skipping upgrade: attrs>=17.3.0 in /opt/conda/lib/python3.9/site-packages (from aiohttp!=4.0.0a0,!=4.0.0a1; extra == \"http\"->fsspec[http]<2024,>=2022.11->snowflake-ml-python==1.0.11) (23.2.0)\n"
     ]
    },
    {
     "name": "stdout",
     "output_type": "stream",
     "text": [
      "Requirement already satisfied, skipping upgrade: async-timeout<5.0,>=4.0; python_version < \"3.11\" in /opt/conda/lib/python3.9/site-packages (from aiohttp!=4.0.0a0,!=4.0.0a1; extra == \"http\"->fsspec[http]<2024,>=2022.11->snowflake-ml-python==1.0.11) (4.0.3)\n",
      "Requirement already satisfied, skipping upgrade: frozenlist>=1.1.1 in /opt/conda/lib/python3.9/site-packages (from aiohttp!=4.0.0a0,!=4.0.0a1; extra == \"http\"->fsspec[http]<2024,>=2022.11->snowflake-ml-python==1.0.11) (1.4.1)\n",
      "Requirement already satisfied, skipping upgrade: multidict<7.0,>=4.5 in /opt/conda/lib/python3.9/site-packages (from aiohttp!=4.0.0a0,!=4.0.0a1; extra == \"http\"->fsspec[http]<2024,>=2022.11->snowflake-ml-python==1.0.11) (6.0.5)\n",
      "Requirement already satisfied, skipping upgrade: pycparser in /opt/conda/lib/python3.9/site-packages (from cffi<2.0.0,>=1.9->snowflake-connector-python[pandas]<4,>=3.0.4->snowflake-ml-python==1.0.11) (2.21)\n",
      "Requirement already satisfied, skipping upgrade: six>=1.5 in /opt/conda/lib/python3.9/site-packages (from python-dateutil>=2.8.1->pandas<2,>=1.0.0->snowflake-ml-python==1.0.11) (1.16.0)\n",
      "Requirement already satisfied, skipping upgrade: wrapt<2.0.0,>=1.10.10 in /opt/conda/lib/python3.9/site-packages (from aiobotocore<3.0.0,>=2.5.4->s3fs<2024,>=2022.11->snowflake-ml-python==1.0.11) (1.16.0)\n",
      "Requirement already satisfied, skipping upgrade: aioitertools<1.0.0,>=0.5.1 in /opt/conda/lib/python3.9/site-packages (from aiobotocore<3.0.0,>=2.5.4->s3fs<2024,>=2022.11->snowflake-ml-python==1.0.11) (0.11.0)\n",
      "Requirement already satisfied, skipping upgrade: botocore<1.34.52,>=1.34.41 in /opt/conda/lib/python3.9/site-packages (from aiobotocore<3.0.0,>=2.5.4->s3fs<2024,>=2022.11->snowflake-ml-python==1.0.11) (1.34.51)\n",
      "Requirement already satisfied, skipping upgrade: jmespath<2.0.0,>=0.7.1 in /opt/conda/lib/python3.9/site-packages (from botocore<1.34.52,>=1.34.41->aiobotocore<3.0.0,>=2.5.4->s3fs<2024,>=2022.11->snowflake-ml-python==1.0.11) (1.0.1)\n",
      "\u001b[31mERROR: jupyterlab-server 2.25.3 has requirement jsonschema>=4.18.0, but you'll have jsonschema 3.2.0 which is incompatible.\u001b[0m\n",
      "Installing collected packages: snowflake-snowpark-python, numpy, pandas, snowflake-ml-python, urllib3, pyarrow\n",
      "  Found existing installation: snowflake-snowpark-python 1.5.0\n",
      "    Uninstalling snowflake-snowpark-python-1.5.0:\n"
     ]
    }
   ],
   "source": [
    "! pip install \"snowflake-connector-python[pandas]\"\n",
    "! sudo pip install snowflake-ml-python==1.0.11 -U\n",
    "! pip install --upgrade snowflake-snowpark-python==1.9.0\n",
    "! pip install --upgrade xgboost==1.7.3\n",
    "! pip install --upgrade numpy==1.24.3\n",
    "! pip install --upgrade pandas==1.5.3\n",
    "! pip install --upgrade anyio==3.5.0\n",
    "! pip install --upgrade packaging==23.1\n",
    "! pip install --upgrade scikit-learn==1.3.0\n",
    "! pip install --upgrade typing-extensions==4.7.1\n",
    "! pip install --upgrade cryptography==39.0.0\n",
    "! pip install --upgrade fsspec==2023.9.2\n",
    "!pip install refractml"
   ]
  },
  {
   "cell_type": "code",
   "execution_count": 1,
   "id": "6ac4e036",
   "metadata": {},
   "outputs": [],
   "source": [
    "from snowflake.snowpark.session import Session\n",
    "import pandas as pd\n",
    "import subprocess"
   ]
  },
  {
   "cell_type": "markdown",
   "id": "6c5f49da",
   "metadata": {},
   "source": [
    "## Code to establish connection and read and dump csv as a snowflake table (handling null values before loading)"
   ]
  },
  {
   "cell_type": "code",
   "execution_count": 2,
   "id": "13ebb748",
   "metadata": {},
   "outputs": [],
   "source": [
    "#Import all snowflake connection details from template variables.\n",
    "\n",
    "db_user = 'SPECTRA_DEMO_USER'\n",
    "db_password = 'Spectra@2023'\n",
    "db_account = 'fya62509.us-east-1'\n",
    "db_database =  'SPECTRA_DEMO'\n",
    "db_role = 'RL_TEST_FOSFOR_SPECTRA'\n",
    "db_warehouse = 'WH_TEST_FOSFOR_SPECTRA'\n",
    "db_schema = 'AUTO_INSURANCE_CLAIMS_DW'"
   ]
  },
  {
   "cell_type": "code",
   "execution_count": 3,
   "id": "13ea3c91",
   "metadata": {},
   "outputs": [],
   "source": [
    "from snowflake.snowpark.session import Session\n",
    "connection_params = {\n",
    "    'user': db_user,\n",
    "    'password': db_password,\n",
    "    'account': db_account,\n",
    "    'warehouse': db_warehouse,\n",
    "    'database': db_database,\n",
    "    'schema': db_schema,\n",
    "    'role': db_role\n",
    "}\n",
    "session = Session.builder.configs(connection_params).create()"
   ]
  },
  {
   "cell_type": "code",
   "execution_count": 4,
   "id": "8781db8a",
   "metadata": {},
   "outputs": [],
   "source": [
    "import pandas as pd\n",
    "session.sql('use warehouse WH_TEST_FOSFOR_SPECTRA;').collect()\n",
    "session.sql('use database SPECTRA_DEMO;').collect()\n",
    "session.sql('use schema SPECTRA_DEMO.AUTO_INSURANCE_CLAIMS_DW;').collect()\n",
    "\n",
    "STG_CUSTOMER = session.table('SPECTRA_DEMO.AUTO_INSURANCE_CLAIMS_DW.STG_CUSTOMER').to_pandas()\n",
    "STG_CLAIM = session.table('SPECTRA_DEMO.AUTO_INSURANCE_CLAIMS_DW.STG_CLAIM').to_pandas()\n",
    "STG_INCIDENT = session.table('SPECTRA_DEMO.AUTO_INSURANCE_CLAIMS_DW.STG_INCIDENT').to_pandas()\n",
    "STG_HARMONIZE_AI_CLAIMS = session.table('SPECTRA_DEMO.AUTO_INSURANCE_CLAIMS_DW.STG_HARMONIZE_AI_CLAIMS').to_pandas()\n",
    "STG_POLICY = session.table('SPECTRA_DEMO.AUTO_INSURANCE_CLAIMS_DW.STG_POLICY').to_pandas()"
   ]
  },
  {
   "cell_type": "code",
   "execution_count": 5,
   "id": "1098f8ad",
   "metadata": {},
   "outputs": [],
   "source": [
    "STG_CUSTOMER.to_csv('/data/ILF_STG_CUSTOMER.csv')\n",
    "STG_CLAIM.to_csv('/data/ILF_STG_CLAIM.csv')\n",
    "STG_INCIDENT.to_csv('/data/ILF_STG_INCIDENT.csv')\n",
    "STG_HARMONIZE_AI_CLAIMS.to_csv('/data/ILF_STG_HARMONIZE_AI_CLAIMS.csv')\n",
    "STG_POLICY.to_csv('/data/ILF_STG_POLICY.csv')"
   ]
  },
  {
   "cell_type": "markdown",
   "id": "472a54e7",
   "metadata": {},
   "source": [
    "# Code to establish connection and  dump csv as a snowflake table in FDC setup"
   ]
  },
  {
   "cell_type": "code",
   "execution_count": 56,
   "id": "d2eb8f24",
   "metadata": {},
   "outputs": [],
   "source": [
    "#Import all snowflake connection details from template variables.\n",
    "db_user = 'MANISH'\n",
    "db_password = 'Password@2023'\n",
    "db_account = 'ug94937.us-east4.gcp'\n",
    "db_database =  'FDC_DATA_MANISH'\n",
    "db_role = 'MANISH'\n",
    "db_warehouse = 'FOSFOR_SOLUTIONS_WH'\n",
    "db_schema = 'PUBLIC'"
   ]
  },
  {
   "cell_type": "code",
   "execution_count": 57,
   "id": "e2e3edb6",
   "metadata": {},
   "outputs": [],
   "source": [
    "from snowflake.snowpark.session import Session\n",
    "connection_params = {\n",
    "    'user': db_user,\n",
    "    'password': db_password,\n",
    "    'account': db_account,\n",
    "    'warehouse': db_warehouse,\n",
    "    'database': db_database,\n",
    "    'schema': db_schema,\n",
    "    'role': db_role\n",
    "}\n",
    "session1 = Session.builder.configs(connection_params).create()"
   ]
  },
  {
   "cell_type": "code",
   "execution_count": 58,
   "id": "8f39118d",
   "metadata": {},
   "outputs": [
    {
     "data": {
      "text/plain": [
       "[Row(status='Statement executed successfully.')]"
      ]
     },
     "execution_count": 58,
     "metadata": {},
     "output_type": "execute_result"
    }
   ],
   "source": [
    "session1.sql('use warehouse FOSFOR_SOLUTIONS_WH;').collect()\n",
    "session1.sql('use database FDC_DATA_MANISH;').collect()\n",
    "session1.sql('use schema FDC_DATA_MANISH.PUBLIC;').collect()"
   ]
  },
  {
   "cell_type": "code",
   "execution_count": 59,
   "id": "aed81f8a",
   "metadata": {
    "scrolled": false
   },
   "outputs": [],
   "source": [
    "DF_STG_CUSTOMER=session1.createDataFrame(\n",
    "        STG_CUSTOMER.values.tolist(),\n",
    "        schema=STG_CUSTOMER.columns.tolist())\n",
    "DF_STG_CUSTOMER.write.mode(\"overwrite\").save_as_table(\"FDC_DATA_MANISH.PUBLIC.ILF_STG_CUSTOMER\")"
   ]
  },
  {
   "cell_type": "code",
   "execution_count": 61,
   "id": "7f53ada2",
   "metadata": {},
   "outputs": [],
   "source": [
    "DF_STG_CLAIM=session1.createDataFrame(\n",
    "        STG_CLAIM.values.tolist(),\n",
    "        schema=STG_CLAIM.columns.tolist())\n",
    "DF_STG_CLAIM.write.mode(\"overwrite\").save_as_table(\"FDC_DATA_MANISH.PUBLIC.ILF_STG_CLAIM\")"
   ]
  },
  {
   "cell_type": "code",
   "execution_count": 62,
   "id": "63f7a311",
   "metadata": {},
   "outputs": [],
   "source": [
    "DF_STG_INCIDENT=session1.createDataFrame(\n",
    "        STG_INCIDENT.values.tolist(),\n",
    "        schema=STG_INCIDENT.columns.tolist())\n",
    "DF_STG_INCIDENT.write.mode(\"overwrite\").save_as_table(\"FDC_DATA_MANISH.PUBLIC.ILF_STG_INCIDENT\")"
   ]
  },
  {
   "cell_type": "code",
   "execution_count": 63,
   "id": "1b4fe132",
   "metadata": {},
   "outputs": [],
   "source": [
    "DF_STG_HARMONIZE_AI_CLAIMS=session1.createDataFrame(\n",
    "        STG_HARMONIZE_AI_CLAIMS.values.tolist(),\n",
    "        schema=STG_HARMONIZE_AI_CLAIMS.columns.tolist())\n",
    "DF_STG_HARMONIZE_AI_CLAIMS.write.mode(\"overwrite\").save_as_table(\"FDC_DATA_MANISH.PUBLIC.ILF_STG_HARMONIZE_AI_CLAIMS\")"
   ]
  },
  {
   "cell_type": "code",
   "execution_count": 64,
   "id": "ba2f62eb",
   "metadata": {},
   "outputs": [],
   "source": [
    "DF_STG_POLICY=session1.createDataFrame(\n",
    "        STG_POLICY.values.tolist(),\n",
    "        schema=STG_POLICY.columns.tolist())\n",
    "DF_STG_POLICY.write.mode(\"overwrite\").save_as_table(\"FDC_DATA_MANISH.PUBLIC.STG_POLICY\")"
   ]
  },
  {
   "cell_type": "code",
   "execution_count": 65,
   "id": "3b23e8da",
   "metadata": {},
   "outputs": [],
   "source": [
    "DF_STG_CLAIM=session1.createDataFrame(\n",
    "        STG_CLAIM.values.tolist(),\n",
    "        schema=STG_CLAIM.columns.tolist())\n",
    "DF_STG_CLAIM.write.mode(\"overwrite\").save_as_table(\"FDC_DATA_MANISH.PUBLIC.STG_CLAIM\")"
   ]
  }
 ],
 "metadata": {
  "kernelspec": {
   "display_name": "Python 3",
   "language": "python",
   "name": "python3"
  },
  "language_info": {
   "codemirror_mode": {
    "name": "ipython",
    "version": 3
   },
   "file_extension": ".py",
   "mimetype": "text/x-python",
   "name": "python",
   "nbconvert_exporter": "python",
   "pygments_lexer": "ipython3",
   "version": "3.9.18"
  }
 },
 "nbformat": 4,
 "nbformat_minor": 5
}
