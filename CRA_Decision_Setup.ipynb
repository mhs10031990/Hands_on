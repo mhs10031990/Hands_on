{
 "cells": [
  {
   "cell_type": "code",
   "execution_count": 1,
   "id": "03c0732b",
   "metadata": {},
   "outputs": [],
   "source": [
    "from snowflake.snowpark import Session\n",
    "# create_temp_table warning suppresion\n",
    "import warnings; warnings.simplefilter('ignore')\n",
    "import configparser\n",
    "\n",
    "import pandas as pd"
   ]
  },
  {
   "cell_type": "code",
   "execution_count": 32,
   "id": "85feb505",
   "metadata": {},
   "outputs": [
    {
     "data": {
      "text/plain": [
       "['snowflake_connection.ini']"
      ]
     },
     "execution_count": 32,
     "metadata": {},
     "output_type": "execute_result"
    }
   ],
   "source": [
    "config = configparser.ConfigParser()\n",
    "config.read(\"snowflake_connection.ini\")"
   ]
  },
  {
   "cell_type": "code",
   "execution_count": 33,
   "id": "d38bcb21",
   "metadata": {},
   "outputs": [],
   "source": [
    "connection_parameters = {\n",
    "    \"user\": f'{config[\"Snowflake\"][\"user\"]}',\n",
    "    \"password\": f'{config[\"Snowflake\"][\"password\"]}',\n",
    "    #\"password\": os.getenv('snowflake_password'),\n",
    "    \"account\": f'{config[\"Snowflake\"][\"account\"]}',\n",
    "    #\"account\": os.getenv('snowflake_account'),\n",
    "    \"WAREHOUSE\": f'{config[\"Snowflake\"][\"WAREHOUSE\"]}',\n",
    "    \"DATABASE\": f'{config[\"Snowflake\"][\"DATABASE\"]}',\n",
    "    \"SCHEMA\": f'{config[\"Snowflake\"][\"SCHEMA\"]}'\n",
    "}"
   ]
  },
  {
   "cell_type": "code",
   "execution_count": 34,
   "id": "365eaf3b",
   "metadata": {},
   "outputs": [
    {
     "name": "stdout",
     "output_type": "stream",
     "text": [
      "connection successful!\n"
     ]
    }
   ],
   "source": [
    "def snowflake_connector(conn):\n",
    "    try:\n",
    "        session = Session.builder.configs(conn).create()\n",
    "        print(\"connection successful!\")\n",
    "    except:\n",
    "        raise ValueError(\"error while connecting with db\")\n",
    "    return session\n",
    "\n",
    "session = snowflake_connector(connection_parameters)"
   ]
  },
  {
   "cell_type": "code",
   "execution_count": 48,
   "id": "76fac771",
   "metadata": {},
   "outputs": [],
   "source": [
    "df =  pd.read_csv('/data/Lumin_Dump_CreditRiskAnalytics_v1.csv')"
   ]
  },
  {
   "cell_type": "code",
   "execution_count": 49,
   "id": "a414491b",
   "metadata": {},
   "outputs": [],
   "source": [
    "df['APPL_MONTH'] = pd.to_datetime(df['APPL_MONTH'], format='ISO8601')"
   ]
  },
  {
   "cell_type": "code",
   "execution_count": 50,
   "id": "281e18ad",
   "metadata": {},
   "outputs": [],
   "source": [
    "df['HOUSETYPE_MODE'].fillna('Missing', inplace=True)\n",
    "df['WALLSMATERIAL_MODE'].fillna('Missing', inplace=True)\n",
    "df['EMERGENCYSTATE_MODE'].fillna('Missing', inplace=True)\n",
    "df['OCCUPATION_TYPE'].fillna('Missing', inplace=True)\n",
    "df['FONDKAPREMONT_MODE'].fillna('Missing', inplace=True)\n",
    "df['NAME_TYPE_SUITE'].fillna('Missing', inplace=True)"
   ]
  },
  {
   "cell_type": "code",
   "execution_count": 51,
   "id": "5581acf0",
   "metadata": {},
   "outputs": [],
   "source": [
    "df['RECORD_COUNT'] = df['RECORD_COUNT'].apply(str)\n",
    "df['APPL_MONTH'] = df['APPL_MONTH'].apply(str)\n",
    "df['SK_ID_CURR'] = df['SK_ID_CURR'].apply(str)\n",
    "df['TARGET'] = df['TARGET'].apply(str)\n",
    "df['FLAG_MOBIL'] = df['FLAG_MOBIL'].apply(str)\n",
    "df['FLAG_EMP_PHONE'] = df['FLAG_EMP_PHONE'].apply(str)\n",
    "df['FLAG_WORK_PHONE'] = df['FLAG_WORK_PHONE'].apply(str)\n",
    "df['FLAG_CONT_MOBILE'] = df['FLAG_CONT_MOBILE'].apply(str)\n",
    "df['FLAG_PHONE'] = df['FLAG_PHONE'].apply(str)\n",
    "df['FLAG_EMAIL'] = df['FLAG_EMAIL'].apply(str)\n",
    "df['REGION_RATING_CLIENT_W_CITY'] = df['REGION_RATING_CLIENT_W_CITY'].apply(str)\n",
    "df['HOUR_APPR_PROCESS_START'] = df['HOUR_APPR_PROCESS_START'].apply(str)\n",
    "df['REG_REGION_NOT_LIVE_REGION'] = df['REG_REGION_NOT_LIVE_REGION'].apply(str)\n",
    "df['REG_REGION_NOT_WORK_REGION'] = df['REG_REGION_NOT_WORK_REGION'].apply(str)\n",
    "df['LIVE_REGION_NOT_WORK_REGION'] = df['LIVE_REGION_NOT_WORK_REGION'].apply(str)\n",
    "df['REG_CITY_NOT_LIVE_CITY'] = df['REG_CITY_NOT_LIVE_CITY'].apply(str)\n",
    "df['REG_CITY_NOT_WORK_CITY'] = df['REG_CITY_NOT_WORK_CITY'].apply(str)\n",
    "df['LIVE_CITY_NOT_WORK_CITY'] = df['LIVE_CITY_NOT_WORK_CITY'].apply(str)\n",
    "df['EXT_SOURCE_1'] = df['EXT_SOURCE_1'].apply(str)\n",
    "df['EXT_SOURCE_2'] = df['EXT_SOURCE_2'].apply(str)\n",
    "df['YEARS_BUILD_MEDI'] = df['YEARS_BUILD_MEDI'].apply(str)\n",
    "df['COMMONAREA_MEDI'] = df['COMMONAREA_MEDI'].apply(str)\n",
    "df['ELEVATORS_MEDI'] = df['ELEVATORS_MEDI'].apply(str)\n",
    "df['ENTRANCES_MEDI'] = df['ENTRANCES_MEDI'].apply(str)\n",
    "df['FLOORSMAX_MEDI'] = df['FLOORSMAX_MEDI'].apply(str)\n",
    "df['FLOORSMIN_MEDI'] = df['FLOORSMIN_MEDI'].apply(str)\n",
    "df['LANDAREA_MEDI'] = df['LANDAREA_MEDI'].apply(str)\n",
    "df['LIVINGAPARTMENTS_MEDI'] = df['LIVINGAPARTMENTS_MEDI'].apply(str)\n",
    "df['LIVINGAREA_MEDI'] = df['LIVINGAREA_MEDI'].apply(str)\n",
    "df['NONLIVINGAPARTMENTS_MEDI'] = df['NONLIVINGAPARTMENTS_MEDI'].apply(str)\n",
    "df['NONLIVINGAREA_MEDI'] = df['NONLIVINGAREA_MEDI'].apply(str)\n",
    "df['TOTALAREA_MODE'] = df['TOTALAREA_MODE'].apply(str)\n",
    "df['DAYS_LAST_PHONE_CHANGE'] = df['DAYS_LAST_PHONE_CHANGE'].apply(str)\n",
    "df['AMT_REQ_CREDIT_BUREAU_HOUR'] = df['AMT_REQ_CREDIT_BUREAU_HOUR'].apply(str)\n",
    "df['AMT_REQ_CREDIT_BUREAU_DAY'] = df['AMT_REQ_CREDIT_BUREAU_DAY'].apply(str)\n",
    "df['AMT_REQ_CREDIT_BUREAU_WEEK'] = df['AMT_REQ_CREDIT_BUREAU_WEEK'].apply(str)\n",
    "df['AMT_REQ_CREDIT_BUREAU_MON'] = df['AMT_REQ_CREDIT_BUREAU_MON'].apply(str)\n",
    "df['AMT_REQ_CREDIT_BUREAU_QRT'] = df['AMT_REQ_CREDIT_BUREAU_QRT'].apply(str)\n",
    "df['OBS_30_CNT_SOCIAL_CIRCLE'] = df['OBS_30_CNT_SOCIAL_CIRCLE'].apply(str)\n",
    "df['DEF_30_CNT_SOCIAL_CIRCLE'] = df['DEF_30_CNT_SOCIAL_CIRCLE'].apply(str)"
   ]
  },
  {
   "cell_type": "code",
   "execution_count": 52,
   "id": "39aac89a",
   "metadata": {},
   "outputs": [],
   "source": [
    "df_snowflake=session.createDataFrame(\n",
    "        df.values.tolist(),\n",
    "        schema=df.columns.tolist())\n",
    "df_snowflake.write.mode(\"overwrite\").save_as_table(\"FDC_DATA_MANISH.PUBLIC.CRA_APPLICATION_OUTPUT_DECISION_V1\")"
   ]
  },
  {
   "cell_type": "code",
   "execution_count": 53,
   "id": "6d77cd6e",
   "metadata": {},
   "outputs": [],
   "source": [
    "df =  pd.read_csv('/data/Lumin_Dump_CreditRiskAnalytics_v2.csv')"
   ]
  },
  {
   "cell_type": "code",
   "execution_count": 54,
   "id": "270e82a3",
   "metadata": {},
   "outputs": [],
   "source": [
    "df['APPL_MONTH'] = pd.to_datetime(df['APPL_MONTH'], format='ISO8601')"
   ]
  },
  {
   "cell_type": "code",
   "execution_count": 55,
   "id": "ceb790c9",
   "metadata": {},
   "outputs": [],
   "source": [
    "df['HOUSETYPE_MODE'].fillna('Missing', inplace=True)\n",
    "df['WALLSMATERIAL_MODE'].fillna('Missing', inplace=True)\n",
    "df['EMERGENCYSTATE_MODE'].fillna('Missing', inplace=True)\n",
    "df['OCCUPATION_TYPE'].fillna('Missing', inplace=True)\n",
    "df['FONDKAPREMONT_MODE'].fillna('Missing', inplace=True)\n",
    "df['NAME_TYPE_SUITE'].fillna('Missing', inplace=True)"
   ]
  },
  {
   "cell_type": "code",
   "execution_count": 56,
   "id": "42c7789e",
   "metadata": {},
   "outputs": [],
   "source": [
    "df['RECORD_COUNT'] = df['RECORD_COUNT'].apply(str)\n",
    "df['APPL_MONTH'] = df['APPL_MONTH'].apply(str)\n",
    "df['SK_ID_CURR'] = df['SK_ID_CURR'].apply(str)\n",
    "df['TARGET'] = df['TARGET'].apply(str)\n",
    "df['FLAG_MOBIL'] = df['FLAG_MOBIL'].apply(str)\n",
    "df['FLAG_EMP_PHONE'] = df['FLAG_EMP_PHONE'].apply(str)\n",
    "df['FLAG_WORK_PHONE'] = df['FLAG_WORK_PHONE'].apply(str)\n",
    "df['FLAG_CONT_MOBILE'] = df['FLAG_CONT_MOBILE'].apply(str)\n",
    "df['FLAG_PHONE'] = df['FLAG_PHONE'].apply(str)\n",
    "df['FLAG_EMAIL'] = df['FLAG_EMAIL'].apply(str)\n",
    "df['REGION_RATING_CLIENT_W_CITY'] = df['REGION_RATING_CLIENT_W_CITY'].apply(str)\n",
    "df['HOUR_APPR_PROCESS_START'] = df['HOUR_APPR_PROCESS_START'].apply(str)\n",
    "df['REG_REGION_NOT_LIVE_REGION'] = df['REG_REGION_NOT_LIVE_REGION'].apply(str)\n",
    "df['REG_REGION_NOT_WORK_REGION'] = df['REG_REGION_NOT_WORK_REGION'].apply(str)\n",
    "df['LIVE_REGION_NOT_WORK_REGION'] = df['LIVE_REGION_NOT_WORK_REGION'].apply(str)\n",
    "df['REG_CITY_NOT_LIVE_CITY'] = df['REG_CITY_NOT_LIVE_CITY'].apply(str)\n",
    "df['REG_CITY_NOT_WORK_CITY'] = df['REG_CITY_NOT_WORK_CITY'].apply(str)\n",
    "df['LIVE_CITY_NOT_WORK_CITY'] = df['LIVE_CITY_NOT_WORK_CITY'].apply(str)\n",
    "df['EXT_SOURCE_1'] = df['EXT_SOURCE_1'].apply(str)\n",
    "df['EXT_SOURCE_2'] = df['EXT_SOURCE_2'].apply(str)\n",
    "df['YEARS_BUILD_MEDI'] = df['YEARS_BUILD_MEDI'].apply(str)\n",
    "df['COMMONAREA_MEDI'] = df['COMMONAREA_MEDI'].apply(str)\n",
    "df['ELEVATORS_MEDI'] = df['ELEVATORS_MEDI'].apply(str)\n",
    "df['ENTRANCES_MEDI'] = df['ENTRANCES_MEDI'].apply(str)\n",
    "df['FLOORSMAX_MEDI'] = df['FLOORSMAX_MEDI'].apply(str)\n",
    "df['FLOORSMIN_MEDI'] = df['FLOORSMIN_MEDI'].apply(str)\n",
    "df['LANDAREA_MEDI'] = df['LANDAREA_MEDI'].apply(str)\n",
    "df['LIVINGAPARTMENTS_MEDI'] = df['LIVINGAPARTMENTS_MEDI'].apply(str)\n",
    "df['LIVINGAREA_MEDI'] = df['LIVINGAREA_MEDI'].apply(str)\n",
    "df['NONLIVINGAPARTMENTS_MEDI'] = df['NONLIVINGAPARTMENTS_MEDI'].apply(str)\n",
    "df['NONLIVINGAREA_MEDI'] = df['NONLIVINGAREA_MEDI'].apply(str)\n",
    "df['TOTALAREA_MODE'] = df['TOTALAREA_MODE'].apply(str)\n",
    "df['DAYS_LAST_PHONE_CHANGE'] = df['DAYS_LAST_PHONE_CHANGE'].apply(str)\n",
    "df['AMT_REQ_CREDIT_BUREAU_HOUR'] = df['AMT_REQ_CREDIT_BUREAU_HOUR'].apply(str)\n",
    "df['AMT_REQ_CREDIT_BUREAU_DAY'] = df['AMT_REQ_CREDIT_BUREAU_DAY'].apply(str)\n",
    "df['AMT_REQ_CREDIT_BUREAU_WEEK'] = df['AMT_REQ_CREDIT_BUREAU_WEEK'].apply(str)\n",
    "df['AMT_REQ_CREDIT_BUREAU_MON'] = df['AMT_REQ_CREDIT_BUREAU_MON'].apply(str)\n",
    "df['AMT_REQ_CREDIT_BUREAU_QRT'] = df['AMT_REQ_CREDIT_BUREAU_QRT'].apply(str)\n",
    "df['OBS_30_CNT_SOCIAL_CIRCLE'] = df['OBS_30_CNT_SOCIAL_CIRCLE'].apply(str)\n",
    "df['DEF_30_CNT_SOCIAL_CIRCLE'] = df['DEF_30_CNT_SOCIAL_CIRCLE'].apply(str)"
   ]
  },
  {
   "cell_type": "code",
   "execution_count": 57,
   "id": "2448989e",
   "metadata": {},
   "outputs": [],
   "source": [
    "df_snowflake=session.createDataFrame(\n",
    "        df.values.tolist(),\n",
    "        schema=df.columns.tolist())\n",
    "df_snowflake.write.mode(\"overwrite\").save_as_table(\"FDC_DATA_MANISH.PUBLIC.CRA_APPLICATION_OUTPUT_DECISION_v2\")"
   ]
  },
  {
   "cell_type": "code",
   "execution_count": 58,
   "id": "653b872c",
   "metadata": {},
   "outputs": [],
   "source": [
    "df =  pd.read_csv('/data/Lumin_Dump_CreditRiskAnalytics_v2.csv')"
   ]
  },
  {
   "cell_type": "code",
   "execution_count": 59,
   "id": "e5affe56",
   "metadata": {},
   "outputs": [
    {
     "data": {
      "text/plain": [
       "dtype('<M8[ns]')"
      ]
     },
     "execution_count": 59,
     "metadata": {},
     "output_type": "execute_result"
    }
   ],
   "source": [
    "df['APPL_MONTH_1'] = pd.to_datetime(df['APPL_MONTH'], format='ISO8601')\n",
    "df['APPL_MONTH_1'].dtype"
   ]
  },
  {
   "cell_type": "code",
   "execution_count": 60,
   "id": "e5660177",
   "metadata": {},
   "outputs": [
    {
     "data": {
      "text/plain": [
       "dtype('<M8[ns]')"
      ]
     },
     "execution_count": 60,
     "metadata": {},
     "output_type": "execute_result"
    }
   ],
   "source": [
    "df['APPL_MONTH_2'] = pd.to_datetime(df['APPL_MONTH'], format='mixed')\n",
    "df['APPL_MONTH_2'].dtype"
   ]
  },
  {
   "cell_type": "code",
   "execution_count": 61,
   "id": "49b44af2",
   "metadata": {},
   "outputs": [
    {
     "ename": "TypeError",
     "evalue": "Casting to unit-less dtype 'datetime64' is not supported. Pass e.g. 'datetime64[ns]' instead.",
     "output_type": "error",
     "traceback": [
      "\u001b[0;31m---------------------------------------------------------------------------\u001b[0m",
      "\u001b[0;31mTypeError\u001b[0m                                 Traceback (most recent call last)",
      "Cell \u001b[0;32mIn[61], line 1\u001b[0m\n\u001b[0;32m----> 1\u001b[0m df[\u001b[38;5;124m'\u001b[39m\u001b[38;5;124mAPPL_MONTH_1\u001b[39m\u001b[38;5;124m'\u001b[39m] \u001b[38;5;241m=\u001b[39m \u001b[43mdf\u001b[49m\u001b[43m[\u001b[49m\u001b[38;5;124;43m'\u001b[39;49m\u001b[38;5;124;43mAPPL_MONTH_1\u001b[39;49m\u001b[38;5;124;43m'\u001b[39;49m\u001b[43m]\u001b[49m\u001b[38;5;241;43m.\u001b[39;49m\u001b[43mastype\u001b[49m\u001b[43m(\u001b[49m\u001b[38;5;124;43m'\u001b[39;49m\u001b[38;5;124;43mdatetime64\u001b[39;49m\u001b[38;5;124;43m'\u001b[39;49m\u001b[43m)\u001b[49m\n\u001b[1;32m      2\u001b[0m df[\u001b[38;5;124m'\u001b[39m\u001b[38;5;124mAPPL_MONTH_1\u001b[39m\u001b[38;5;124m'\u001b[39m]\u001b[38;5;241m.\u001b[39mdtype\n",
      "File \u001b[0;32m/opt/conda/lib/python3.8/site-packages/pandas/core/generic.py:6324\u001b[0m, in \u001b[0;36mNDFrame.astype\u001b[0;34m(self, dtype, copy, errors)\u001b[0m\n\u001b[1;32m   6317\u001b[0m     results \u001b[38;5;241m=\u001b[39m [\n\u001b[1;32m   6318\u001b[0m         \u001b[38;5;28mself\u001b[39m\u001b[38;5;241m.\u001b[39miloc[:, i]\u001b[38;5;241m.\u001b[39mastype(dtype, copy\u001b[38;5;241m=\u001b[39mcopy)\n\u001b[1;32m   6319\u001b[0m         \u001b[38;5;28;01mfor\u001b[39;00m i \u001b[38;5;129;01min\u001b[39;00m \u001b[38;5;28mrange\u001b[39m(\u001b[38;5;28mlen\u001b[39m(\u001b[38;5;28mself\u001b[39m\u001b[38;5;241m.\u001b[39mcolumns))\n\u001b[1;32m   6320\u001b[0m     ]\n\u001b[1;32m   6322\u001b[0m \u001b[38;5;28;01melse\u001b[39;00m:\n\u001b[1;32m   6323\u001b[0m     \u001b[38;5;66;03m# else, only a single dtype is given\u001b[39;00m\n\u001b[0;32m-> 6324\u001b[0m     new_data \u001b[38;5;241m=\u001b[39m \u001b[38;5;28;43mself\u001b[39;49m\u001b[38;5;241;43m.\u001b[39;49m\u001b[43m_mgr\u001b[49m\u001b[38;5;241;43m.\u001b[39;49m\u001b[43mastype\u001b[49m\u001b[43m(\u001b[49m\u001b[43mdtype\u001b[49m\u001b[38;5;241;43m=\u001b[39;49m\u001b[43mdtype\u001b[49m\u001b[43m,\u001b[49m\u001b[43m \u001b[49m\u001b[43mcopy\u001b[49m\u001b[38;5;241;43m=\u001b[39;49m\u001b[43mcopy\u001b[49m\u001b[43m,\u001b[49m\u001b[43m \u001b[49m\u001b[43merrors\u001b[49m\u001b[38;5;241;43m=\u001b[39;49m\u001b[43merrors\u001b[49m\u001b[43m)\u001b[49m\n\u001b[1;32m   6325\u001b[0m     \u001b[38;5;28;01mreturn\u001b[39;00m \u001b[38;5;28mself\u001b[39m\u001b[38;5;241m.\u001b[39m_constructor(new_data)\u001b[38;5;241m.\u001b[39m__finalize__(\u001b[38;5;28mself\u001b[39m, method\u001b[38;5;241m=\u001b[39m\u001b[38;5;124m\"\u001b[39m\u001b[38;5;124mastype\u001b[39m\u001b[38;5;124m\"\u001b[39m)\n\u001b[1;32m   6327\u001b[0m \u001b[38;5;66;03m# GH 33113: handle empty frame or series\u001b[39;00m\n",
      "File \u001b[0;32m/opt/conda/lib/python3.8/site-packages/pandas/core/internals/managers.py:451\u001b[0m, in \u001b[0;36mBaseBlockManager.astype\u001b[0;34m(self, dtype, copy, errors)\u001b[0m\n\u001b[1;32m    448\u001b[0m \u001b[38;5;28;01melif\u001b[39;00m using_copy_on_write():\n\u001b[1;32m    449\u001b[0m     copy \u001b[38;5;241m=\u001b[39m \u001b[38;5;28;01mFalse\u001b[39;00m\n\u001b[0;32m--> 451\u001b[0m \u001b[38;5;28;01mreturn\u001b[39;00m \u001b[38;5;28;43mself\u001b[39;49m\u001b[38;5;241;43m.\u001b[39;49m\u001b[43mapply\u001b[49m\u001b[43m(\u001b[49m\n\u001b[1;32m    452\u001b[0m \u001b[43m    \u001b[49m\u001b[38;5;124;43m\"\u001b[39;49m\u001b[38;5;124;43mastype\u001b[39;49m\u001b[38;5;124;43m\"\u001b[39;49m\u001b[43m,\u001b[49m\n\u001b[1;32m    453\u001b[0m \u001b[43m    \u001b[49m\u001b[43mdtype\u001b[49m\u001b[38;5;241;43m=\u001b[39;49m\u001b[43mdtype\u001b[49m\u001b[43m,\u001b[49m\n\u001b[1;32m    454\u001b[0m \u001b[43m    \u001b[49m\u001b[43mcopy\u001b[49m\u001b[38;5;241;43m=\u001b[39;49m\u001b[43mcopy\u001b[49m\u001b[43m,\u001b[49m\n\u001b[1;32m    455\u001b[0m \u001b[43m    \u001b[49m\u001b[43merrors\u001b[49m\u001b[38;5;241;43m=\u001b[39;49m\u001b[43merrors\u001b[49m\u001b[43m,\u001b[49m\n\u001b[1;32m    456\u001b[0m \u001b[43m    \u001b[49m\u001b[43musing_cow\u001b[49m\u001b[38;5;241;43m=\u001b[39;49m\u001b[43musing_copy_on_write\u001b[49m\u001b[43m(\u001b[49m\u001b[43m)\u001b[49m\u001b[43m,\u001b[49m\n\u001b[1;32m    457\u001b[0m \u001b[43m\u001b[49m\u001b[43m)\u001b[49m\n",
      "File \u001b[0;32m/opt/conda/lib/python3.8/site-packages/pandas/core/internals/managers.py:352\u001b[0m, in \u001b[0;36mBaseBlockManager.apply\u001b[0;34m(self, f, align_keys, **kwargs)\u001b[0m\n\u001b[1;32m    350\u001b[0m         applied \u001b[38;5;241m=\u001b[39m b\u001b[38;5;241m.\u001b[39mapply(f, \u001b[38;5;241m*\u001b[39m\u001b[38;5;241m*\u001b[39mkwargs)\n\u001b[1;32m    351\u001b[0m     \u001b[38;5;28;01melse\u001b[39;00m:\n\u001b[0;32m--> 352\u001b[0m         applied \u001b[38;5;241m=\u001b[39m \u001b[38;5;28;43mgetattr\u001b[39;49m\u001b[43m(\u001b[49m\u001b[43mb\u001b[49m\u001b[43m,\u001b[49m\u001b[43m \u001b[49m\u001b[43mf\u001b[49m\u001b[43m)\u001b[49m\u001b[43m(\u001b[49m\u001b[38;5;241;43m*\u001b[39;49m\u001b[38;5;241;43m*\u001b[39;49m\u001b[43mkwargs\u001b[49m\u001b[43m)\u001b[49m\n\u001b[1;32m    353\u001b[0m     result_blocks \u001b[38;5;241m=\u001b[39m extend_blocks(applied, result_blocks)\n\u001b[1;32m    355\u001b[0m out \u001b[38;5;241m=\u001b[39m \u001b[38;5;28mtype\u001b[39m(\u001b[38;5;28mself\u001b[39m)\u001b[38;5;241m.\u001b[39mfrom_blocks(result_blocks, \u001b[38;5;28mself\u001b[39m\u001b[38;5;241m.\u001b[39maxes)\n",
      "File \u001b[0;32m/opt/conda/lib/python3.8/site-packages/pandas/core/internals/blocks.py:511\u001b[0m, in \u001b[0;36mBlock.astype\u001b[0;34m(self, dtype, copy, errors, using_cow)\u001b[0m\n\u001b[1;32m    491\u001b[0m \u001b[38;5;250m\u001b[39m\u001b[38;5;124;03m\"\"\"\u001b[39;00m\n\u001b[1;32m    492\u001b[0m \u001b[38;5;124;03mCoerce to the new dtype.\u001b[39;00m\n\u001b[1;32m    493\u001b[0m \n\u001b[0;32m   (...)\u001b[0m\n\u001b[1;32m    507\u001b[0m \u001b[38;5;124;03mBlock\u001b[39;00m\n\u001b[1;32m    508\u001b[0m \u001b[38;5;124;03m\"\"\"\u001b[39;00m\n\u001b[1;32m    509\u001b[0m values \u001b[38;5;241m=\u001b[39m \u001b[38;5;28mself\u001b[39m\u001b[38;5;241m.\u001b[39mvalues\n\u001b[0;32m--> 511\u001b[0m new_values \u001b[38;5;241m=\u001b[39m \u001b[43mastype_array_safe\u001b[49m\u001b[43m(\u001b[49m\u001b[43mvalues\u001b[49m\u001b[43m,\u001b[49m\u001b[43m \u001b[49m\u001b[43mdtype\u001b[49m\u001b[43m,\u001b[49m\u001b[43m \u001b[49m\u001b[43mcopy\u001b[49m\u001b[38;5;241;43m=\u001b[39;49m\u001b[43mcopy\u001b[49m\u001b[43m,\u001b[49m\u001b[43m \u001b[49m\u001b[43merrors\u001b[49m\u001b[38;5;241;43m=\u001b[39;49m\u001b[43merrors\u001b[49m\u001b[43m)\u001b[49m\n\u001b[1;32m    513\u001b[0m new_values \u001b[38;5;241m=\u001b[39m maybe_coerce_values(new_values)\n\u001b[1;32m    515\u001b[0m refs \u001b[38;5;241m=\u001b[39m \u001b[38;5;28;01mNone\u001b[39;00m\n",
      "File \u001b[0;32m/opt/conda/lib/python3.8/site-packages/pandas/core/dtypes/astype.py:242\u001b[0m, in \u001b[0;36mastype_array_safe\u001b[0;34m(values, dtype, copy, errors)\u001b[0m\n\u001b[1;32m    239\u001b[0m     dtype \u001b[38;5;241m=\u001b[39m dtype\u001b[38;5;241m.\u001b[39mnumpy_dtype\n\u001b[1;32m    241\u001b[0m \u001b[38;5;28;01mtry\u001b[39;00m:\n\u001b[0;32m--> 242\u001b[0m     new_values \u001b[38;5;241m=\u001b[39m \u001b[43mastype_array\u001b[49m\u001b[43m(\u001b[49m\u001b[43mvalues\u001b[49m\u001b[43m,\u001b[49m\u001b[43m \u001b[49m\u001b[43mdtype\u001b[49m\u001b[43m,\u001b[49m\u001b[43m \u001b[49m\u001b[43mcopy\u001b[49m\u001b[38;5;241;43m=\u001b[39;49m\u001b[43mcopy\u001b[49m\u001b[43m)\u001b[49m\n\u001b[1;32m    243\u001b[0m \u001b[38;5;28;01mexcept\u001b[39;00m (\u001b[38;5;167;01mValueError\u001b[39;00m, \u001b[38;5;167;01mTypeError\u001b[39;00m):\n\u001b[1;32m    244\u001b[0m     \u001b[38;5;66;03m# e.g. _astype_nansafe can fail on object-dtype of strings\u001b[39;00m\n\u001b[1;32m    245\u001b[0m     \u001b[38;5;66;03m#  trying to convert to float\u001b[39;00m\n\u001b[1;32m    246\u001b[0m     \u001b[38;5;28;01mif\u001b[39;00m errors \u001b[38;5;241m==\u001b[39m \u001b[38;5;124m\"\u001b[39m\u001b[38;5;124mignore\u001b[39m\u001b[38;5;124m\"\u001b[39m:\n",
      "File \u001b[0;32m/opt/conda/lib/python3.8/site-packages/pandas/core/dtypes/astype.py:184\u001b[0m, in \u001b[0;36mastype_array\u001b[0;34m(values, dtype, copy)\u001b[0m\n\u001b[1;32m    180\u001b[0m     \u001b[38;5;28;01mreturn\u001b[39;00m values\n\u001b[1;32m    182\u001b[0m \u001b[38;5;28;01mif\u001b[39;00m \u001b[38;5;129;01mnot\u001b[39;00m \u001b[38;5;28misinstance\u001b[39m(values, np\u001b[38;5;241m.\u001b[39mndarray):\n\u001b[1;32m    183\u001b[0m     \u001b[38;5;66;03m# i.e. ExtensionArray\u001b[39;00m\n\u001b[0;32m--> 184\u001b[0m     values \u001b[38;5;241m=\u001b[39m \u001b[43mvalues\u001b[49m\u001b[38;5;241;43m.\u001b[39;49m\u001b[43mastype\u001b[49m\u001b[43m(\u001b[49m\u001b[43mdtype\u001b[49m\u001b[43m,\u001b[49m\u001b[43m \u001b[49m\u001b[43mcopy\u001b[49m\u001b[38;5;241;43m=\u001b[39;49m\u001b[43mcopy\u001b[49m\u001b[43m)\u001b[49m\n\u001b[1;32m    186\u001b[0m \u001b[38;5;28;01melse\u001b[39;00m:\n\u001b[1;32m    187\u001b[0m     values \u001b[38;5;241m=\u001b[39m _astype_nansafe(values, dtype, copy\u001b[38;5;241m=\u001b[39mcopy)\n",
      "File \u001b[0;32m/opt/conda/lib/python3.8/site-packages/pandas/core/arrays/datetimes.py:694\u001b[0m, in \u001b[0;36mDatetimeArray.astype\u001b[0;34m(self, dtype, copy)\u001b[0m\n\u001b[1;32m    682\u001b[0m     \u001b[38;5;28;01mraise\u001b[39;00m \u001b[38;5;167;01mTypeError\u001b[39;00m(\n\u001b[1;32m    683\u001b[0m         \u001b[38;5;124m\"\u001b[39m\u001b[38;5;124mCannot use .astype to convert from timezone-aware dtype to \u001b[39m\u001b[38;5;124m\"\u001b[39m\n\u001b[1;32m    684\u001b[0m         \u001b[38;5;124m\"\u001b[39m\u001b[38;5;124mtimezone-naive dtype. Use obj.tz_localize(None) or \u001b[39m\u001b[38;5;124m\"\u001b[39m\n\u001b[1;32m    685\u001b[0m         \u001b[38;5;124m\"\u001b[39m\u001b[38;5;124mobj.tz_convert(\u001b[39m\u001b[38;5;124m'\u001b[39m\u001b[38;5;124mUTC\u001b[39m\u001b[38;5;124m'\u001b[39m\u001b[38;5;124m).tz_localize(None) instead.\u001b[39m\u001b[38;5;124m\"\u001b[39m\n\u001b[1;32m    686\u001b[0m     )\n\u001b[1;32m    688\u001b[0m \u001b[38;5;28;01melif\u001b[39;00m (\n\u001b[1;32m    689\u001b[0m     \u001b[38;5;28mself\u001b[39m\u001b[38;5;241m.\u001b[39mtz \u001b[38;5;129;01mis\u001b[39;00m \u001b[38;5;28;01mNone\u001b[39;00m\n\u001b[1;32m    690\u001b[0m     \u001b[38;5;129;01mand\u001b[39;00m is_datetime64_dtype(dtype)\n\u001b[1;32m    691\u001b[0m     \u001b[38;5;129;01mand\u001b[39;00m dtype \u001b[38;5;241m!=\u001b[39m \u001b[38;5;28mself\u001b[39m\u001b[38;5;241m.\u001b[39mdtype\n\u001b[1;32m    692\u001b[0m     \u001b[38;5;129;01mand\u001b[39;00m is_unitless(dtype)\n\u001b[1;32m    693\u001b[0m ):\n\u001b[0;32m--> 694\u001b[0m     \u001b[38;5;28;01mraise\u001b[39;00m \u001b[38;5;167;01mTypeError\u001b[39;00m(\n\u001b[1;32m    695\u001b[0m         \u001b[38;5;124m\"\u001b[39m\u001b[38;5;124mCasting to unit-less dtype \u001b[39m\u001b[38;5;124m'\u001b[39m\u001b[38;5;124mdatetime64\u001b[39m\u001b[38;5;124m'\u001b[39m\u001b[38;5;124m is not supported. \u001b[39m\u001b[38;5;124m\"\u001b[39m\n\u001b[1;32m    696\u001b[0m         \u001b[38;5;124m\"\u001b[39m\u001b[38;5;124mPass e.g. \u001b[39m\u001b[38;5;124m'\u001b[39m\u001b[38;5;124mdatetime64[ns]\u001b[39m\u001b[38;5;124m'\u001b[39m\u001b[38;5;124m instead.\u001b[39m\u001b[38;5;124m\"\u001b[39m\n\u001b[1;32m    697\u001b[0m     )\n\u001b[1;32m    699\u001b[0m \u001b[38;5;28;01melif\u001b[39;00m is_period_dtype(dtype):\n\u001b[1;32m    700\u001b[0m     \u001b[38;5;28;01mreturn\u001b[39;00m \u001b[38;5;28mself\u001b[39m\u001b[38;5;241m.\u001b[39mto_period(freq\u001b[38;5;241m=\u001b[39mdtype\u001b[38;5;241m.\u001b[39mfreq)\n",
      "\u001b[0;31mTypeError\u001b[0m: Casting to unit-less dtype 'datetime64' is not supported. Pass e.g. 'datetime64[ns]' instead."
     ]
    }
   ],
   "source": [
    "df['APPL_MONTH_1'] = df['APPL_MONTH_1'].astype('datetime64')\n",
    "df['APPL_MONTH_1'].dtype"
   ]
  },
  {
   "cell_type": "code",
   "execution_count": null,
   "id": "bf440e75",
   "metadata": {},
   "outputs": [],
   "source": [
    "df['APPL_MONTH_2'] = df['APPL_MONTH_2'].astype('datetime64')\n",
    "df['APPL_MONTH_2'].dtype"
   ]
  },
  {
   "cell_type": "code",
   "execution_count": null,
   "id": "6cf2274a",
   "metadata": {},
   "outputs": [],
   "source": []
  }
 ],
 "metadata": {
  "kernelspec": {
   "display_name": "Python 3",
   "language": "python",
   "name": "python3"
  },
  "language_info": {
   "codemirror_mode": {
    "name": "ipython",
    "version": 3
   },
   "file_extension": ".py",
   "mimetype": "text/x-python",
   "name": "python",
   "nbconvert_exporter": "python",
   "pygments_lexer": "ipython3",
   "version": "3.8.18"
  }
 },
 "nbformat": 4,
 "nbformat_minor": 5
}
