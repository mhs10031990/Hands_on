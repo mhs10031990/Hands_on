{
 "cells": [
  {
   "cell_type": "code",
   "execution_count": 7,
   "id": "4999da38",
   "metadata": {},
   "outputs": [],
   "source": [
    "#!pip install openai langchain"
   ]
  },
  {
   "cell_type": "code",
   "execution_count": 2,
   "id": "de985a78",
   "metadata": {},
   "outputs": [],
   "source": [
    "import os"
   ]
  },
  {
   "cell_type": "code",
   "execution_count": 4,
   "id": "ef8ac1a7",
   "metadata": {},
   "outputs": [],
   "source": [
    "import openai\n",
    "from langchain.llms import AzureOpenAI\n",
    "\n",
    "import warnings\n",
    "warnings.filterwarnings(\"ignore\")\n",
    "\n",
    "openai.api_type = \"azure\"\n",
    "openai.api_key = os.getenv(\"openai_key\")\n",
    "openai.api_base = os.getenv(\"openai_url\")\n",
    "openai.api_version = \"2023-03-15-preview\"\n",
    "\n",
    "dep_name=\"refract-gpt-35-turbo\"\n",
    "model_name=\"refract-gpt-35-turbo\"\n",
    "\n",
    "os.environ['TORCH_HOME'] = \"torch\"\n",
    "os.environ[\"OPENAI_API_TYPE\"] = \"azure\"\n",
    "os.environ[\"OPENAI_API_VERSION\"] = \"2023-03-15-preview\"\n",
    "os.environ[\"OPENAI_API_BASE\"] = openai.api_base\n",
    "os.environ[\"DEPLOYMENT_NAME\"] = dep_name\n",
    "os.environ[\"OPENAI_API_KEY\"] = openai.api_key"
   ]
  },
  {
   "cell_type": "code",
   "execution_count": 5,
   "id": "6c528a69",
   "metadata": {},
   "outputs": [],
   "source": [
    "llm = AzureOpenAI(deployment_name=dep_name, model_name=model_name, temperature=0,max_tokens=1000, frequency_penalty=1)\n",
    "template = \"list of new blog title for Insurance using AI\" \n",
    "response = llm(template)"
   ]
  },
  {
   "cell_type": "code",
   "execution_count": 6,
   "id": "3854f7f2",
   "metadata": {},
   "outputs": [
    {
     "name": "stdout",
     "output_type": "stream",
     "text": [
      "\n",
      "\n",
      "1. AI in Insurance: The Future of Risk Management\n",
      "\n",
      "2. How AI is Revolutionizing the Insurance Industry\n",
      "\n",
      "3. The Benefits of Using AI for Insurance Companies\n",
      "\n",
      "4. How Machine Learning is Changing the Face of Insurance\n",
      "\n",
      "5. The Role of Artificial Intelligence in Predicting and Preventing Claims Fraud\n",
      "\n",
      "6. Why Insurers are Turning to AI to Improve Customer Experience and Retention Rates\n",
      "\n",
      "7. Can AI Help Insurers Better Understand and Manage Risk?\n",
      "\n",
      "8. Exploring the Potential of AI for Underwriting and Pricing Policies in Insurance Industry.\n",
      "\n",
      "9.How Artificial Intelligence is Helping Insurers Make Better Decisions.\n",
      "\n",
      "10.The Impact of Machine Learning on Claims Processing in the Insurance Industry.\n",
      "\n",
      "11.How Big Data Analytics and Artificial Intelligence are Transforming Actuarial Science.\n",
      "\n",
      "12.The Future of Auto-Insurance: Self-Driving Cars, IoT, and Predictive Analytics.\n",
      "\n",
      "13.How Chatbots are Enhancing Customer Service for Insurers using Natural Language Processing (NLP).\n",
      "\n",
      "14.The Ethics of Using Artificial Intelligence in Decision-Making Processes within the Insurance Industry.\n",
      "\n",
      "15.What Does the Future Hold for Insurtech Startups Leveraging Machine Learning? 0 Comments Leave a Comment Cancel reply Your email address will not be published.Required fields are marked * Save my name,email,and website in this browser for the next time I comment.\n",
      "\n"
     ]
    }
   ],
   "source": [
    "print (response)"
   ]
  }
 ],
 "metadata": {
  "kernelspec": {
   "display_name": "Python 3",
   "language": "python",
   "name": "python3"
  },
  "language_info": {
   "codemirror_mode": {
    "name": "ipython",
    "version": 3
   },
   "file_extension": ".py",
   "mimetype": "text/x-python",
   "name": "python",
   "nbconvert_exporter": "python",
   "pygments_lexer": "ipython3",
   "version": "3.9.18"
  }
 },
 "nbformat": 4,
 "nbformat_minor": 5
}
