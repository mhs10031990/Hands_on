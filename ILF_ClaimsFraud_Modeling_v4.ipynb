{
 "cells": [
  {
   "cell_type": "code",
   "execution_count": null,
   "id": "92258265",
   "metadata": {
    "scrolled": true
   },
   "outputs": [
    {
     "name": "stdout",
     "output_type": "stream",
     "text": [
      "\u001b[33mWARNING: The directory '/home/mosaic-ai/.cache/pip/http' or its parent directory is not owned by the current user and the cache has been disabled. Please check the permissions and owner of that directory. If executing pip with sudo, you may want sudo's -H flag.\u001b[0m\n",
      "\u001b[33mWARNING: The directory '/home/mosaic-ai/.cache/pip' or its parent directory is not owned by the current user and caching wheels has been disabled. check the permissions and owner of that directory. If executing pip with sudo, you may want sudo's -H flag.\u001b[0m\n",
      "^C\n",
      "\u001b[31mERROR: Operation cancelled by user\u001b[0m\n",
      "\u001b[33mWARNING: You are using pip version 19.3.1; however, version 24.0 is available.\n",
      "You should consider upgrading via the 'pip install --upgrade pip' command.\u001b[0m\n",
      "\u001b[33mWARNING: The directory '/home/mosaic-ai/.cache/pip/http' or its parent directory is not owned by the current user and the cache has been disabled. Please check the permissions and owner of that directory. If executing pip with sudo, you may want sudo's -H flag.\u001b[0m\n",
      "\u001b[33mWARNING: The directory '/home/mosaic-ai/.cache/pip' or its parent directory is not owned by the current user and caching wheels has been disabled. check the permissions and owner of that directory. If executing pip with sudo, you may want sudo's -H flag.\u001b[0m\n"
     ]
    }
   ],
   "source": [
    "!pip install --q \"snowflake-connector-python[pandas]\"\n",
    "!sudo pip install --q  snowflake-ml-python==1.0.11 -U\n",
    "!pip install --upgrade --q snowflake-snowpark-python==1.9.0\n",
    "!pip install --q seaborn\n",
    "!pip install --upgrade --q xgboost==1.7.3\n",
    "!pip install --upgrade --q numpy==1.24.3\n",
    "!pip install --upgrade --q pandas==1.5.3\n",
    "!pip install --upgrade --q anyio==3.5.0\n",
    "!pip install --upgrade --q packaging==23.1\n",
    "!pip install --upgrade --q scikit-learn==1.3.0\n",
    "!pip install --upgrade --q typing-extensions==4.7.1\n",
    "!pip install --upgrade --q cryptography==39.0.0\n",
    "!pip install --upgrade --q fsspec==2023.9.2\n",
    "!pip install --q xgboost\n",
    "!pip install --q catboost\n",
    "!pip install --q refractml"
   ]
  },
  {
   "cell_type": "code",
   "execution_count": 4,
   "id": "12eb34cf",
   "metadata": {},
   "outputs": [
    {
     "name": "stderr",
     "output_type": "stream",
     "text": [
      "Matplotlib created a temporary cache directory at /tmp/matplotlib-ej_1pi4c because the default path (/home/mosaic-ai/.cache/matplotlib) is not a writable directory; it is highly recommended to set the MPLCONFIGDIR environment variable to a writable directory, in particular to speed up the import of Matplotlib and to better support multiprocessing.\n"
     ]
    }
   ],
   "source": [
    "from snowflake.snowpark import Session\n",
    "\n",
    "# Data Science Libs\n",
    "import numpy as np\n",
    "import pandas as pd\n",
    "import matplotlib.pyplot as plt\n",
    "import seaborn as sns\n",
    "\n",
    "# create_temp_table warning suppresion\n",
    "import warnings; warnings.simplefilter('ignore')\n",
    "import configparser\n",
    "\n",
    "from sklearn.model_selection import train_test_split\n",
    "from sklearn.preprocessing import StandardScaler\n",
    "from sklearn.svm import SVC\n",
    "from sklearn.metrics import accuracy_score, confusion_matrix, classification_report\n",
    "from sklearn.neighbors import KNeighborsClassifier\n",
    "from sklearn.metrics import accuracy_score, confusion_matrix, classification_report\n",
    "from sklearn.tree import DecisionTreeClassifier\n",
    "from sklearn.model_selection import GridSearchCV\n",
    "from sklearn.ensemble import RandomForestClassifier\n",
    "from sklearn.ensemble import AdaBoostClassifier\n",
    "from sklearn.ensemble import GradientBoostingClassifier\n",
    "from sklearn.ensemble import ExtraTreesClassifier\n",
    "from sklearn.ensemble import VotingClassifier\n",
    "\n",
    "\n",
    "from xgboost import XGBClassifier\n",
    "from catboost import CatBoostClassifier"
   ]
  },
  {
   "cell_type": "code",
   "execution_count": 5,
   "id": "ffed10a7",
   "metadata": {},
   "outputs": [
    {
     "data": {
      "text/plain": [
       "['snowflake_connection.ini']"
      ]
     },
     "execution_count": 5,
     "metadata": {},
     "output_type": "execute_result"
    }
   ],
   "source": [
    "config = configparser.ConfigParser()\n",
    "config.read(\"snowflake_connection.ini\")"
   ]
  },
  {
   "cell_type": "code",
   "execution_count": 6,
   "id": "d4a0035d",
   "metadata": {},
   "outputs": [],
   "source": [
    "connection_parameters = {\n",
    "    \"user\": f'{config[\"Snowflake\"][\"user\"]}',\n",
    "    \"password\": f'{config[\"Snowflake\"][\"password\"]}',\n",
    "    #\"password\": os.getenv('snowflake_password'),\n",
    "    \"account\": f'{config[\"Snowflake\"][\"account\"]}',\n",
    "    #\"account\": os.getenv('snowflake_account'),\n",
    "    \"WAREHOUSE\": f'{config[\"Snowflake\"][\"WAREHOUSE\"]}',\n",
    "    \"DATABASE\": f'{config[\"Snowflake\"][\"DATABASE\"]}',\n",
    "    \"SCHEMA\": f'{config[\"Snowflake\"][\"SCHEMA\"]}'\n",
    "}"
   ]
  },
  {
   "cell_type": "code",
   "execution_count": 7,
   "id": "9b959986",
   "metadata": {},
   "outputs": [
    {
     "name": "stdout",
     "output_type": "stream",
     "text": [
      "connection successful!\n"
     ]
    }
   ],
   "source": [
    "def snowflake_connector(conn):\n",
    "    try:\n",
    "        session = Session.builder.configs(conn).create()\n",
    "        print(\"connection successful!\")\n",
    "    except:\n",
    "        raise ValueError(\"error while connecting with db\")\n",
    "    return session\n",
    "\n",
    "session = snowflake_connector(connection_parameters)"
   ]
  },
  {
   "cell_type": "code",
   "execution_count": 8,
   "id": "7c86b744",
   "metadata": {},
   "outputs": [],
   "source": [
    "df = session.table(\"AUTO_INSURANCE_CLAIMS_DATA_PRODUCT\")\n",
    "insurance_claim = df.to_pandas()"
   ]
  },
  {
   "cell_type": "code",
   "execution_count": 9,
   "id": "0ee58ee8",
   "metadata": {},
   "outputs": [],
   "source": [
    "insurance_claim.columns = insurance_claim.columns.str.lower()"
   ]
  },
  {
   "cell_type": "code",
   "execution_count": 10,
   "id": "dea96c64",
   "metadata": {},
   "outputs": [
    {
     "data": {
      "text/plain": [
       "Index(['months_as_customer', 'customer_age', 'policy_number',\n",
       "       'policy_bind_date', 'policy_state', 'policy_csl', 'policy_deductable',\n",
       "       'policy_annual_premium', 'umbrella_limit', 'insured_zip', 'insured_sex',\n",
       "       'insured_education_level', 'insured_occupation', 'insured_hobbies',\n",
       "       'insured_relationship', 'capital_gains', 'capital_loss',\n",
       "       'incident_date', 'incident_type', 'collision_type', 'incident_severity',\n",
       "       'authorities_contacted', 'incident_state', 'incident_city',\n",
       "       'incident_location', 'incident_hour_of_the_day', 'incident_time_of_day',\n",
       "       'number_of_vehicles_involved', 'property_damage', 'bodily_injuries',\n",
       "       'witnesses', 'police_report_available', 'total_claim_amount_paid',\n",
       "       'injury_claim', 'property_claim', 'vehicle_claim', 'auto_make',\n",
       "       'auto_model', 'auto_year', 'fraud_reported'],\n",
       "      dtype='object')"
      ]
     },
     "execution_count": 10,
     "metadata": {},
     "output_type": "execute_result"
    }
   ],
   "source": [
    "insurance_claim.columns"
   ]
  },
  {
   "cell_type": "code",
   "execution_count": 11,
   "id": "dd34e207",
   "metadata": {},
   "outputs": [],
   "source": [
    "insurance_claim.rename(columns = {'total_claim_amount_paid': 'total_claim_amount'}, inplace=True)"
   ]
  },
  {
   "cell_type": "code",
   "execution_count": 12,
   "id": "044dd5de",
   "metadata": {},
   "outputs": [],
   "source": [
    "insurance_claim=insurance_claim.replace(\"?\",np.NaN)"
   ]
  },
  {
   "cell_type": "code",
   "execution_count": 13,
   "id": "0c04c757",
   "metadata": {},
   "outputs": [],
   "source": [
    "df = insurance_claim.copy()"
   ]
  },
  {
   "cell_type": "code",
   "execution_count": 14,
   "id": "5fa9b530",
   "metadata": {},
   "outputs": [],
   "source": [
    "# dropping columns which are not necessary for prediction\n",
    "\n",
    "to_drop = ['policy_number','policy_bind_date','policy_state','insured_zip','incident_location','incident_date',\n",
    "           'incident_state','incident_city','insured_hobbies','auto_make','auto_model','auto_year']\n",
    "\n",
    "df.drop(to_drop, inplace=True, axis=1)"
   ]
  },
  {
   "cell_type": "code",
   "execution_count": 15,
   "id": "9b2aec4c",
   "metadata": {},
   "outputs": [],
   "source": [
    "# separating the feature and target columns\n",
    "\n",
    "X = df.drop('fraud_reported', axis = 1)\n",
    "y = df['fraud_reported']"
   ]
  },
  {
   "cell_type": "code",
   "execution_count": 16,
   "id": "6e41ff62",
   "metadata": {},
   "outputs": [],
   "source": [
    "# extracting categorical columns\n",
    "cat_df = X.select_dtypes(include = ['object'])"
   ]
  },
  {
   "cell_type": "code",
   "execution_count": 17,
   "id": "0b248b0d",
   "metadata": {},
   "outputs": [
    {
     "data": {
      "text/plain": [
       "Index(['customer_age', 'policy_csl', 'insured_sex', 'insured_education_level',\n",
       "       'insured_occupation', 'insured_relationship', 'incident_type',\n",
       "       'collision_type', 'incident_severity', 'authorities_contacted',\n",
       "       'incident_time_of_day', 'property_damage', 'police_report_available'],\n",
       "      dtype='object')"
      ]
     },
     "execution_count": 17,
     "metadata": {},
     "output_type": "execute_result"
    }
   ],
   "source": [
    "cat_df.columns"
   ]
  },
  {
   "cell_type": "code",
   "execution_count": 18,
   "id": "00bc0322",
   "metadata": {},
   "outputs": [
    {
     "name": "stdout",
     "output_type": "stream",
     "text": [
      "customer_age: \n",
      "['58' '31' '54' '61' '41' '32' '48' '24' '66' '57' '62' '56' '68' '26'\n",
      " '28' '64' '43' '46' '42' '21' '49' '59' '52' '47' '22' '63' '65' '69'\n",
      " '35' '37' '60' '30' '40' '20' '39' '45' '19' '67' '33' '29' '44' '34'\n",
      " '23' '53' '38' '27' '50' '55' '36' '25' '51']\n",
      "\n",
      "policy_csl: \n",
      "['250/500' '100/300' '500/1000']\n",
      "\n",
      "insured_sex: \n",
      "['FEMALE' 'MALE']\n",
      "\n",
      "insured_education_level: \n",
      "['MD' 'College' 'Masters' 'Associate' 'High School' 'PhD' 'JD']\n",
      "\n",
      "insured_occupation: \n",
      "['tech-support' 'adm-clerical' 'sales' 'machine-op-inspct'\n",
      " 'prof-specialty' 'farming-fishing' 'exec-managerial' 'priv-house-serv'\n",
      " 'handlers-cleaners' 'other-service' 'armed-forces' 'craft-repair'\n",
      " 'transport-moving' 'protective-serv']\n",
      "\n",
      "insured_relationship: \n",
      "['other-relative' 'husband' 'wife' 'own-child' 'not-in-family' 'unmarried']\n",
      "\n",
      "incident_type: \n",
      "['Multi-vehicle Collision' 'Single Vehicle Collision' 'Parked Car'\n",
      " 'Vehicle Theft']\n",
      "\n",
      "collision_type: \n",
      "['Details not Available' 'Front Collision' 'Rear Collision'\n",
      " 'Side Collision']\n",
      "\n",
      "incident_severity: \n",
      "['Major Damage' 'Minor Damage' 'Total Loss']\n",
      "\n",
      "authorities_contacted: \n",
      "['None' 'Police' 'Other' 'Ambulance' 'Fire']\n",
      "\n",
      "incident_time_of_day: \n",
      "['Night Time' 'Afternoon Hours' 'Morning to Noon' 'Early Morning Hours']\n",
      "\n",
      "property_damage: \n",
      "['No Property Damage' 'Property Damage' 'Details not Available']\n",
      "\n",
      "police_report_available: \n",
      "['Police Report Available' 'No Police Report Available' 'Unknown']\n",
      "\n"
     ]
    }
   ],
   "source": [
    "# printing unique values of each column\n",
    "for col in cat_df.columns:\n",
    "    print(f\"{col}: \\n{cat_df[col].unique()}\\n\")"
   ]
  },
  {
   "cell_type": "code",
   "execution_count": 19,
   "id": "44eeac43",
   "metadata": {},
   "outputs": [],
   "source": [
    "cat_df = pd.get_dummies(cat_df, drop_first = True)"
   ]
  },
  {
   "cell_type": "code",
   "execution_count": 20,
   "id": "ff74a5da",
   "metadata": {},
   "outputs": [],
   "source": [
    "num_df = df.select_dtypes(include = ['int16','int8','int32','float64'])"
   ]
  },
  {
   "cell_type": "code",
   "execution_count": 21,
   "id": "91f64b39",
   "metadata": {},
   "outputs": [
    {
     "data": {
      "text/plain": [
       "Index(['months_as_customer', 'policy_deductable', 'policy_annual_premium',\n",
       "       'umbrella_limit', 'capital_gains', 'capital_loss',\n",
       "       'incident_hour_of_the_day', 'number_of_vehicles_involved',\n",
       "       'bodily_injuries', 'witnesses', 'total_claim_amount', 'injury_claim',\n",
       "       'property_claim', 'vehicle_claim'],\n",
       "      dtype='object')"
      ]
     },
     "execution_count": 21,
     "metadata": {},
     "output_type": "execute_result"
    }
   ],
   "source": [
    "num_df.columns"
   ]
  },
  {
   "cell_type": "code",
   "execution_count": 22,
   "id": "5fd84c4c",
   "metadata": {},
   "outputs": [],
   "source": [
    "# combining the Numerical and Categorical dataframes to get the final dataset\n",
    "\n",
    "X = pd.concat([num_df, cat_df], axis = 1)"
   ]
  },
  {
   "cell_type": "code",
   "execution_count": 23,
   "id": "e5dc17e2",
   "metadata": {},
   "outputs": [],
   "source": [
    "# splitting data into training set and test set\n",
    "\n",
    "from sklearn.model_selection import train_test_split\n",
    "\n",
    "X_train, X_test, y_train, y_test = train_test_split(X, y, test_size = 0.25)"
   ]
  },
  {
   "cell_type": "code",
   "execution_count": 24,
   "id": "36da7ae2",
   "metadata": {},
   "outputs": [],
   "source": [
    "num_df = X_train[['months_as_customer', 'policy_deductable', 'umbrella_limit',\n",
    "       'capital_gains', 'capital_loss', 'incident_hour_of_the_day',\n",
    "       'number_of_vehicles_involved', 'bodily_injuries', 'witnesses', 'injury_claim', 'property_claim',\n",
    "       'vehicle_claim']]"
   ]
  },
  {
   "cell_type": "code",
   "execution_count": 25,
   "id": "4f94a7d3",
   "metadata": {},
   "outputs": [],
   "source": [
    "num_df_test = X_test[['months_as_customer', 'policy_deductable', 'umbrella_limit',\n",
    "       'capital_gains', 'capital_loss', 'incident_hour_of_the_day',\n",
    "       'number_of_vehicles_involved', 'bodily_injuries', 'witnesses', 'injury_claim', 'property_claim',\n",
    "       'vehicle_claim']]"
   ]
  },
  {
   "cell_type": "code",
   "execution_count": 26,
   "id": "4eac05ce",
   "metadata": {},
   "outputs": [],
   "source": [
    "# Scaling the numeric values in the dataset\n",
    "\n",
    "from sklearn.preprocessing import StandardScaler\n",
    "\n",
    "scaler = StandardScaler()\n",
    "scaled_data = scaler.fit_transform(num_df)"
   ]
  },
  {
   "cell_type": "code",
   "execution_count": 27,
   "id": "dd265d84",
   "metadata": {},
   "outputs": [],
   "source": [
    "scaled_data_test = scaler.transform(num_df_test)"
   ]
  },
  {
   "cell_type": "code",
   "execution_count": 28,
   "id": "fc7b669b",
   "metadata": {
    "scrolled": true
   },
   "outputs": [
    {
     "data": {
      "text/html": [
       "<div>\n",
       "<style scoped>\n",
       "    .dataframe tbody tr th:only-of-type {\n",
       "        vertical-align: middle;\n",
       "    }\n",
       "\n",
       "    .dataframe tbody tr th {\n",
       "        vertical-align: top;\n",
       "    }\n",
       "\n",
       "    .dataframe thead th {\n",
       "        text-align: right;\n",
       "    }\n",
       "</style>\n",
       "<table border=\"1\" class=\"dataframe\">\n",
       "  <thead>\n",
       "    <tr style=\"text-align: right;\">\n",
       "      <th></th>\n",
       "      <th>months_as_customer</th>\n",
       "      <th>policy_deductable</th>\n",
       "      <th>umbrella_limit</th>\n",
       "      <th>capital_gains</th>\n",
       "      <th>capital_loss</th>\n",
       "      <th>incident_hour_of_the_day</th>\n",
       "      <th>number_of_vehicles_involved</th>\n",
       "      <th>bodily_injuries</th>\n",
       "      <th>witnesses</th>\n",
       "      <th>injury_claim</th>\n",
       "      <th>property_claim</th>\n",
       "      <th>vehicle_claim</th>\n",
       "    </tr>\n",
       "  </thead>\n",
       "  <tbody>\n",
       "    <tr>\n",
       "      <th>78260</th>\n",
       "      <td>-0.922218</td>\n",
       "      <td>-1.286837</td>\n",
       "      <td>1.014694</td>\n",
       "      <td>-0.712308</td>\n",
       "      <td>-0.455184</td>\n",
       "      <td>-0.008822</td>\n",
       "      <td>-0.678643</td>\n",
       "      <td>1.227446</td>\n",
       "      <td>1.343199</td>\n",
       "      <td>0.050396</td>\n",
       "      <td>1.700563</td>\n",
       "      <td>0.835867</td>\n",
       "    </tr>\n",
       "    <tr>\n",
       "      <th>193891</th>\n",
       "      <td>1.980096</td>\n",
       "      <td>0.252036</td>\n",
       "      <td>1.369086</td>\n",
       "      <td>1.131135</td>\n",
       "      <td>0.123003</td>\n",
       "      <td>0.503033</td>\n",
       "      <td>0.747867</td>\n",
       "      <td>0.004975</td>\n",
       "      <td>1.343199</td>\n",
       "      <td>0.066058</td>\n",
       "      <td>0.403058</td>\n",
       "      <td>-0.466528</td>\n",
       "    </tr>\n",
       "    <tr>\n",
       "      <th>114736</th>\n",
       "      <td>-0.911224</td>\n",
       "      <td>-1.260659</td>\n",
       "      <td>0.710815</td>\n",
       "      <td>-0.872429</td>\n",
       "      <td>-0.554963</td>\n",
       "      <td>1.014889</td>\n",
       "      <td>2.174376</td>\n",
       "      <td>0.004975</td>\n",
       "      <td>0.446423</td>\n",
       "      <td>1.957127</td>\n",
       "      <td>-0.984640</td>\n",
       "      <td>1.321046</td>\n",
       "    </tr>\n",
       "    <tr>\n",
       "      <th>225365</th>\n",
       "      <td>-0.779301</td>\n",
       "      <td>-0.217292</td>\n",
       "      <td>-0.395344</td>\n",
       "      <td>0.072997</td>\n",
       "      <td>-0.797714</td>\n",
       "      <td>-0.008822</td>\n",
       "      <td>-0.678643</td>\n",
       "      <td>-1.217496</td>\n",
       "      <td>-0.450353</td>\n",
       "      <td>-1.009878</td>\n",
       "      <td>-0.940178</td>\n",
       "      <td>0.112690</td>\n",
       "    </tr>\n",
       "    <tr>\n",
       "      <th>122050</th>\n",
       "      <td>0.056214</td>\n",
       "      <td>0.758761</td>\n",
       "      <td>0.632595</td>\n",
       "      <td>-0.155629</td>\n",
       "      <td>0.827875</td>\n",
       "      <td>0.332415</td>\n",
       "      <td>-0.678643</td>\n",
       "      <td>1.227446</td>\n",
       "      <td>1.343199</td>\n",
       "      <td>1.981180</td>\n",
       "      <td>-0.948562</td>\n",
       "      <td>-0.543544</td>\n",
       "    </tr>\n",
       "  </tbody>\n",
       "</table>\n",
       "</div>"
      ],
      "text/plain": [
       "        months_as_customer  policy_deductable  umbrella_limit  capital_gains   \n",
       "78260            -0.922218          -1.286837        1.014694      -0.712308  \\\n",
       "193891            1.980096           0.252036        1.369086       1.131135   \n",
       "114736           -0.911224          -1.260659        0.710815      -0.872429   \n",
       "225365           -0.779301          -0.217292       -0.395344       0.072997   \n",
       "122050            0.056214           0.758761        0.632595      -0.155629   \n",
       "\n",
       "        capital_loss  incident_hour_of_the_day  number_of_vehicles_involved   \n",
       "78260      -0.455184                 -0.008822                    -0.678643  \\\n",
       "193891      0.123003                  0.503033                     0.747867   \n",
       "114736     -0.554963                  1.014889                     2.174376   \n",
       "225365     -0.797714                 -0.008822                    -0.678643   \n",
       "122050      0.827875                  0.332415                    -0.678643   \n",
       "\n",
       "        bodily_injuries  witnesses  injury_claim  property_claim   \n",
       "78260          1.227446   1.343199      0.050396        1.700563  \\\n",
       "193891         0.004975   1.343199      0.066058        0.403058   \n",
       "114736         0.004975   0.446423      1.957127       -0.984640   \n",
       "225365        -1.217496  -0.450353     -1.009878       -0.940178   \n",
       "122050         1.227446   1.343199      1.981180       -0.948562   \n",
       "\n",
       "        vehicle_claim  \n",
       "78260        0.835867  \n",
       "193891      -0.466528  \n",
       "114736       1.321046  \n",
       "225365       0.112690  \n",
       "122050      -0.543544  "
      ]
     },
     "execution_count": 28,
     "metadata": {},
     "output_type": "execute_result"
    }
   ],
   "source": [
    "scaled_num_df = pd.DataFrame(data = scaled_data, columns = num_df.columns, index = X_train.index)\n",
    "scaled_num_df.head()"
   ]
  },
  {
   "cell_type": "code",
   "execution_count": 29,
   "id": "2c749cfd",
   "metadata": {},
   "outputs": [
    {
     "data": {
      "text/html": [
       "<div>\n",
       "<style scoped>\n",
       "    .dataframe tbody tr th:only-of-type {\n",
       "        vertical-align: middle;\n",
       "    }\n",
       "\n",
       "    .dataframe tbody tr th {\n",
       "        vertical-align: top;\n",
       "    }\n",
       "\n",
       "    .dataframe thead th {\n",
       "        text-align: right;\n",
       "    }\n",
       "</style>\n",
       "<table border=\"1\" class=\"dataframe\">\n",
       "  <thead>\n",
       "    <tr style=\"text-align: right;\">\n",
       "      <th></th>\n",
       "      <th>months_as_customer</th>\n",
       "      <th>policy_deductable</th>\n",
       "      <th>umbrella_limit</th>\n",
       "      <th>capital_gains</th>\n",
       "      <th>capital_loss</th>\n",
       "      <th>incident_hour_of_the_day</th>\n",
       "      <th>number_of_vehicles_involved</th>\n",
       "      <th>bodily_injuries</th>\n",
       "      <th>witnesses</th>\n",
       "      <th>injury_claim</th>\n",
       "      <th>property_claim</th>\n",
       "      <th>vehicle_claim</th>\n",
       "    </tr>\n",
       "  </thead>\n",
       "  <tbody>\n",
       "    <tr>\n",
       "      <th>125868</th>\n",
       "      <td>1.067626</td>\n",
       "      <td>1.200041</td>\n",
       "      <td>-0.113806</td>\n",
       "      <td>1.578596</td>\n",
       "      <td>0.193146</td>\n",
       "      <td>1.185507</td>\n",
       "      <td>-0.678643</td>\n",
       "      <td>0.004975</td>\n",
       "      <td>-1.347129</td>\n",
       "      <td>1.486423</td>\n",
       "      <td>-0.970920</td>\n",
       "      <td>-1.329138</td>\n",
       "    </tr>\n",
       "    <tr>\n",
       "      <th>121180</th>\n",
       "      <td>1.782211</td>\n",
       "      <td>0.482025</td>\n",
       "      <td>-0.386623</td>\n",
       "      <td>0.445437</td>\n",
       "      <td>1.383184</td>\n",
       "      <td>-0.179441</td>\n",
       "      <td>0.747867</td>\n",
       "      <td>0.004975</td>\n",
       "      <td>-1.347129</td>\n",
       "      <td>1.209258</td>\n",
       "      <td>-0.977526</td>\n",
       "      <td>-1.454928</td>\n",
       "    </tr>\n",
       "    <tr>\n",
       "      <th>54606</th>\n",
       "      <td>-0.856256</td>\n",
       "      <td>0.798027</td>\n",
       "      <td>-0.623614</td>\n",
       "      <td>-0.966745</td>\n",
       "      <td>1.199452</td>\n",
       "      <td>-0.691297</td>\n",
       "      <td>2.174376</td>\n",
       "      <td>-1.217496</td>\n",
       "      <td>-1.347129</td>\n",
       "      <td>-1.023862</td>\n",
       "      <td>-0.958725</td>\n",
       "      <td>1.539727</td>\n",
       "    </tr>\n",
       "    <tr>\n",
       "      <th>120570</th>\n",
       "      <td>-0.834269</td>\n",
       "      <td>1.839524</td>\n",
       "      <td>-0.994375</td>\n",
       "      <td>-0.414241</td>\n",
       "      <td>0.205781</td>\n",
       "      <td>1.356126</td>\n",
       "      <td>-0.678643</td>\n",
       "      <td>1.227446</td>\n",
       "      <td>-0.450353</td>\n",
       "      <td>-0.865702</td>\n",
       "      <td>-0.979812</td>\n",
       "      <td>-1.289546</td>\n",
       "    </tr>\n",
       "    <tr>\n",
       "      <th>50824</th>\n",
       "      <td>1.034646</td>\n",
       "      <td>1.987241</td>\n",
       "      <td>1.391252</td>\n",
       "      <td>-1.715945</td>\n",
       "      <td>-0.333242</td>\n",
       "      <td>1.014889</td>\n",
       "      <td>2.174376</td>\n",
       "      <td>0.004975</td>\n",
       "      <td>0.446423</td>\n",
       "      <td>0.601649</td>\n",
       "      <td>-0.946149</td>\n",
       "      <td>-0.806153</td>\n",
       "    </tr>\n",
       "  </tbody>\n",
       "</table>\n",
       "</div>"
      ],
      "text/plain": [
       "        months_as_customer  policy_deductable  umbrella_limit  capital_gains   \n",
       "125868            1.067626           1.200041       -0.113806       1.578596  \\\n",
       "121180            1.782211           0.482025       -0.386623       0.445437   \n",
       "54606            -0.856256           0.798027       -0.623614      -0.966745   \n",
       "120570           -0.834269           1.839524       -0.994375      -0.414241   \n",
       "50824             1.034646           1.987241        1.391252      -1.715945   \n",
       "\n",
       "        capital_loss  incident_hour_of_the_day  number_of_vehicles_involved   \n",
       "125868      0.193146                  1.185507                    -0.678643  \\\n",
       "121180      1.383184                 -0.179441                     0.747867   \n",
       "54606       1.199452                 -0.691297                     2.174376   \n",
       "120570      0.205781                  1.356126                    -0.678643   \n",
       "50824      -0.333242                  1.014889                     2.174376   \n",
       "\n",
       "        bodily_injuries  witnesses  injury_claim  property_claim   \n",
       "125868         0.004975  -1.347129      1.486423       -0.970920  \\\n",
       "121180         0.004975  -1.347129      1.209258       -0.977526   \n",
       "54606         -1.217496  -1.347129     -1.023862       -0.958725   \n",
       "120570         1.227446  -0.450353     -0.865702       -0.979812   \n",
       "50824          0.004975   0.446423      0.601649       -0.946149   \n",
       "\n",
       "        vehicle_claim  \n",
       "125868      -1.329138  \n",
       "121180      -1.454928  \n",
       "54606        1.539727  \n",
       "120570      -1.289546  \n",
       "50824       -0.806153  "
      ]
     },
     "execution_count": 29,
     "metadata": {},
     "output_type": "execute_result"
    }
   ],
   "source": [
    "scaled_num_df_test = pd.DataFrame(data = scaled_data_test, columns = num_df_test.columns, index = X_test.index)\n",
    "scaled_num_df_test.head()"
   ]
  },
  {
   "cell_type": "code",
   "execution_count": 30,
   "id": "279e8a95",
   "metadata": {},
   "outputs": [],
   "source": [
    "X_train.drop(columns = scaled_num_df.columns, inplace = True)"
   ]
  },
  {
   "cell_type": "code",
   "execution_count": 31,
   "id": "c3f18e4c",
   "metadata": {},
   "outputs": [],
   "source": [
    "X_train = pd.concat([scaled_num_df, X_train], axis = 1)"
   ]
  },
  {
   "cell_type": "code",
   "execution_count": 32,
   "id": "11159f53",
   "metadata": {},
   "outputs": [],
   "source": [
    "X_test.drop(columns = scaled_num_df_test.columns, inplace = True)"
   ]
  },
  {
   "cell_type": "code",
   "execution_count": 33,
   "id": "6899602c",
   "metadata": {},
   "outputs": [],
   "source": [
    "X_test = pd.concat([scaled_num_df_test, X_test], axis = 1)"
   ]
  },
  {
   "cell_type": "markdown",
   "id": "3e398039",
   "metadata": {},
   "source": [
    "# Stochastic Gradient Boosting"
   ]
  },
  {
   "cell_type": "code",
   "execution_count": 55,
   "id": "c47dde4e",
   "metadata": {
    "scrolled": true
   },
   "outputs": [
    {
     "data": {
      "text/html": [
       "<style>#sk-container-id-1 {color: black;}#sk-container-id-1 pre{padding: 0;}#sk-container-id-1 div.sk-toggleable {background-color: white;}#sk-container-id-1 label.sk-toggleable__label {cursor: pointer;display: block;width: 100%;margin-bottom: 0;padding: 0.3em;box-sizing: border-box;text-align: center;}#sk-container-id-1 label.sk-toggleable__label-arrow:before {content: \"▸\";float: left;margin-right: 0.25em;color: #696969;}#sk-container-id-1 label.sk-toggleable__label-arrow:hover:before {color: black;}#sk-container-id-1 div.sk-estimator:hover label.sk-toggleable__label-arrow:before {color: black;}#sk-container-id-1 div.sk-toggleable__content {max-height: 0;max-width: 0;overflow: hidden;text-align: left;background-color: #f0f8ff;}#sk-container-id-1 div.sk-toggleable__content pre {margin: 0.2em;color: black;border-radius: 0.25em;background-color: #f0f8ff;}#sk-container-id-1 input.sk-toggleable__control:checked~div.sk-toggleable__content {max-height: 200px;max-width: 100%;overflow: auto;}#sk-container-id-1 input.sk-toggleable__control:checked~label.sk-toggleable__label-arrow:before {content: \"▾\";}#sk-container-id-1 div.sk-estimator input.sk-toggleable__control:checked~label.sk-toggleable__label {background-color: #d4ebff;}#sk-container-id-1 div.sk-label input.sk-toggleable__control:checked~label.sk-toggleable__label {background-color: #d4ebff;}#sk-container-id-1 input.sk-hidden--visually {border: 0;clip: rect(1px 1px 1px 1px);clip: rect(1px, 1px, 1px, 1px);height: 1px;margin: -1px;overflow: hidden;padding: 0;position: absolute;width: 1px;}#sk-container-id-1 div.sk-estimator {font-family: monospace;background-color: #f0f8ff;border: 1px dotted black;border-radius: 0.25em;box-sizing: border-box;margin-bottom: 0.5em;}#sk-container-id-1 div.sk-estimator:hover {background-color: #d4ebff;}#sk-container-id-1 div.sk-parallel-item::after {content: \"\";width: 100%;border-bottom: 1px solid gray;flex-grow: 1;}#sk-container-id-1 div.sk-label:hover label.sk-toggleable__label {background-color: #d4ebff;}#sk-container-id-1 div.sk-serial::before {content: \"\";position: absolute;border-left: 1px solid gray;box-sizing: border-box;top: 0;bottom: 0;left: 50%;z-index: 0;}#sk-container-id-1 div.sk-serial {display: flex;flex-direction: column;align-items: center;background-color: white;padding-right: 0.2em;padding-left: 0.2em;position: relative;}#sk-container-id-1 div.sk-item {position: relative;z-index: 1;}#sk-container-id-1 div.sk-parallel {display: flex;align-items: stretch;justify-content: center;background-color: white;position: relative;}#sk-container-id-1 div.sk-item::before, #sk-container-id-1 div.sk-parallel-item::before {content: \"\";position: absolute;border-left: 1px solid gray;box-sizing: border-box;top: 0;bottom: 0;left: 50%;z-index: -1;}#sk-container-id-1 div.sk-parallel-item {display: flex;flex-direction: column;z-index: 1;position: relative;background-color: white;}#sk-container-id-1 div.sk-parallel-item:first-child::after {align-self: flex-end;width: 50%;}#sk-container-id-1 div.sk-parallel-item:last-child::after {align-self: flex-start;width: 50%;}#sk-container-id-1 div.sk-parallel-item:only-child::after {width: 0;}#sk-container-id-1 div.sk-dashed-wrapped {border: 1px dashed gray;margin: 0 0.4em 0.5em 0.4em;box-sizing: border-box;padding-bottom: 0.4em;background-color: white;}#sk-container-id-1 div.sk-label label {font-family: monospace;font-weight: bold;display: inline-block;line-height: 1.2em;}#sk-container-id-1 div.sk-label-container {text-align: center;}#sk-container-id-1 div.sk-container {/* jupyter's `normalize.less` sets `[hidden] { display: none; }` but bootstrap.min.css set `[hidden] { display: none !important; }` so we also need the `!important` here to be able to override the default hidden behavior on the sphinx rendered scikit-learn.org. See: https://github.com/scikit-learn/scikit-learn/issues/21755 */display: inline-block !important;position: relative;}#sk-container-id-1 div.sk-text-repr-fallback {display: none;}</style><div id=\"sk-container-id-1\" class=\"sk-top-container\"><div class=\"sk-text-repr-fallback\"><pre>GradientBoostingClassifier(max_features=0.7, subsample=0.9)</pre><b>In a Jupyter environment, please rerun this cell to show the HTML representation or trust the notebook. <br />On GitHub, the HTML representation is unable to render, please try loading this page with nbviewer.org.</b></div><div class=\"sk-container\" hidden><div class=\"sk-item\"><div class=\"sk-estimator sk-toggleable\"><input class=\"sk-toggleable__control sk-hidden--visually\" id=\"sk-estimator-id-1\" type=\"checkbox\" checked><label for=\"sk-estimator-id-1\" class=\"sk-toggleable__label sk-toggleable__label-arrow\">GradientBoostingClassifier</label><div class=\"sk-toggleable__content\"><pre>GradientBoostingClassifier(max_features=0.7, subsample=0.9)</pre></div></div></div></div></div>"
      ],
      "text/plain": [
       "GradientBoostingClassifier(max_features=0.7, subsample=0.9)"
      ]
     },
     "execution_count": 55,
     "metadata": {},
     "output_type": "execute_result"
    }
   ],
   "source": [
    "sgb = GradientBoostingClassifier(subsample = 0.90, max_features = 0.70)\n",
    "sgb.fit(X_train, y_train)"
   ]
  },
  {
   "cell_type": "code",
   "execution_count": 51,
   "id": "797d22a1",
   "metadata": {},
   "outputs": [],
   "source": [
    "y_pred = sgb.predict(X_test)"
   ]
  },
  {
   "cell_type": "code",
   "execution_count": 52,
   "id": "9c502a0c",
   "metadata": {},
   "outputs": [],
   "source": [
    "y_prob = sgb.predict_proba(X_test)[:,1]"
   ]
  },
  {
   "cell_type": "code",
   "execution_count": 53,
   "id": "9b41528c",
   "metadata": {
    "scrolled": false
   },
   "outputs": [
    {
     "name": "stdout",
     "output_type": "stream",
     "text": [
      "Training accuracy of CatBoost is : 0.8528554679051554\n",
      "Test accuracy of CatBoost is : 0.8529376611402325\n",
      "[[   14  8613]\n",
      " [    0 49940]]\n",
      "                   precision    recall  f1-score   support\n",
      "\n",
      "   Fraud Reported       1.00      0.00      0.00      8627\n",
      "No Fraud Reported       0.85      1.00      0.92     49940\n",
      "\n",
      "         accuracy                           0.85     58567\n",
      "        macro avg       0.93      0.50      0.46     58567\n",
      "     weighted avg       0.87      0.85      0.79     58567\n",
      "\n"
     ]
    }
   ],
   "source": [
    "sgb_train_acc = accuracy_score(y_train, sgb.predict(X_train))\n",
    "sgb_test_acc = accuracy_score(y_test, y_pred)\n",
    "\n",
    "print(f\"Training accuracy of CatBoost is : {sgb_train_acc}\")\n",
    "print(f\"Test accuracy of CatBoost is : {sgb_test_acc}\")\n",
    "\n",
    "print(confusion_matrix(y_test, y_pred))\n",
    "print(classification_report(y_test, y_pred))"
   ]
  },
  {
   "cell_type": "markdown",
   "id": "b0d14c3a",
   "metadata": {},
   "source": [
    "# CATBoost"
   ]
  },
  {
   "cell_type": "code",
   "execution_count": 56,
   "id": "21b815fc",
   "metadata": {},
   "outputs": [
    {
     "name": "stdout",
     "output_type": "stream",
     "text": [
      "Learning rate set to 0.5\n",
      "0:\tlearn: 0.4773611\ttotal: 90.8ms\tremaining: 817ms\n",
      "1:\tlearn: 0.4262490\ttotal: 179ms\tremaining: 717ms\n",
      "2:\tlearn: 0.4163634\ttotal: 264ms\tremaining: 616ms\n",
      "3:\tlearn: 0.4134074\ttotal: 292ms\tremaining: 438ms\n",
      "4:\tlearn: 0.4113457\ttotal: 368ms\tremaining: 368ms\n",
      "5:\tlearn: 0.4106672\ttotal: 394ms\tremaining: 263ms\n",
      "6:\tlearn: 0.4093667\ttotal: 473ms\tremaining: 203ms\n",
      "7:\tlearn: 0.4086592\ttotal: 555ms\tremaining: 139ms\n",
      "8:\tlearn: 0.4080474\ttotal: 586ms\tremaining: 65.2ms\n",
      "9:\tlearn: 0.4075486\ttotal: 670ms\tremaining: 0us\n"
     ]
    },
    {
     "data": {
      "text/plain": [
       "<catboost.core.CatBoostClassifier at 0x7fc6cac73220>"
      ]
     },
     "execution_count": 56,
     "metadata": {},
     "output_type": "execute_result"
    }
   ],
   "source": [
    "cat = CatBoostClassifier(iterations=10)\n",
    "cat.fit(X_train, y_train)"
   ]
  },
  {
   "cell_type": "code",
   "execution_count": 57,
   "id": "8438b5b8",
   "metadata": {},
   "outputs": [],
   "source": [
    "cat_acc = accuracy_score(y_test, cat.predict(X_test))"
   ]
  },
  {
   "cell_type": "code",
   "execution_count": 58,
   "id": "97450d4e",
   "metadata": {},
   "outputs": [
    {
     "name": "stdout",
     "output_type": "stream",
     "text": [
      "Training Accuracy of Cat Boost Classifier is 0.8525424307618755\n",
      "Test Accuracy of Cat Boost Classifier is 0.8528522888315946 \n",
      "\n",
      "Confusion Matrix :- \n",
      "[[    9  8618]\n",
      " [    0 49940]]\n",
      "\n",
      "Classification Report :- \n",
      "                    precision    recall  f1-score   support\n",
      "\n",
      "   Fraud Reported       1.00      0.00      0.00      8627\n",
      "No Fraud Reported       0.85      1.00      0.92     49940\n",
      "\n",
      "         accuracy                           0.85     58567\n",
      "        macro avg       0.93      0.50      0.46     58567\n",
      "     weighted avg       0.87      0.85      0.79     58567\n",
      "\n"
     ]
    }
   ],
   "source": [
    "print(f\"Training Accuracy of Cat Boost Classifier is {accuracy_score(y_train, cat.predict(X_train))}\")\n",
    "print(f\"Test Accuracy of Cat Boost Classifier is {cat_acc} \\n\")\n",
    "\n",
    "print(f\"Confusion Matrix :- \\n{confusion_matrix(y_test, cat.predict(X_test))}\\n\")\n",
    "print(f\"Classification Report :- \\n {classification_report(y_test, cat.predict(X_test))}\")"
   ]
  },
  {
   "cell_type": "markdown",
   "id": "a35ef797",
   "metadata": {},
   "source": [
    "# Gradient Boosting"
   ]
  },
  {
   "cell_type": "code",
   "execution_count": 59,
   "id": "e09457bf",
   "metadata": {},
   "outputs": [
    {
     "data": {
      "text/html": [
       "<style>#sk-container-id-2 {color: black;}#sk-container-id-2 pre{padding: 0;}#sk-container-id-2 div.sk-toggleable {background-color: white;}#sk-container-id-2 label.sk-toggleable__label {cursor: pointer;display: block;width: 100%;margin-bottom: 0;padding: 0.3em;box-sizing: border-box;text-align: center;}#sk-container-id-2 label.sk-toggleable__label-arrow:before {content: \"▸\";float: left;margin-right: 0.25em;color: #696969;}#sk-container-id-2 label.sk-toggleable__label-arrow:hover:before {color: black;}#sk-container-id-2 div.sk-estimator:hover label.sk-toggleable__label-arrow:before {color: black;}#sk-container-id-2 div.sk-toggleable__content {max-height: 0;max-width: 0;overflow: hidden;text-align: left;background-color: #f0f8ff;}#sk-container-id-2 div.sk-toggleable__content pre {margin: 0.2em;color: black;border-radius: 0.25em;background-color: #f0f8ff;}#sk-container-id-2 input.sk-toggleable__control:checked~div.sk-toggleable__content {max-height: 200px;max-width: 100%;overflow: auto;}#sk-container-id-2 input.sk-toggleable__control:checked~label.sk-toggleable__label-arrow:before {content: \"▾\";}#sk-container-id-2 div.sk-estimator input.sk-toggleable__control:checked~label.sk-toggleable__label {background-color: #d4ebff;}#sk-container-id-2 div.sk-label input.sk-toggleable__control:checked~label.sk-toggleable__label {background-color: #d4ebff;}#sk-container-id-2 input.sk-hidden--visually {border: 0;clip: rect(1px 1px 1px 1px);clip: rect(1px, 1px, 1px, 1px);height: 1px;margin: -1px;overflow: hidden;padding: 0;position: absolute;width: 1px;}#sk-container-id-2 div.sk-estimator {font-family: monospace;background-color: #f0f8ff;border: 1px dotted black;border-radius: 0.25em;box-sizing: border-box;margin-bottom: 0.5em;}#sk-container-id-2 div.sk-estimator:hover {background-color: #d4ebff;}#sk-container-id-2 div.sk-parallel-item::after {content: \"\";width: 100%;border-bottom: 1px solid gray;flex-grow: 1;}#sk-container-id-2 div.sk-label:hover label.sk-toggleable__label {background-color: #d4ebff;}#sk-container-id-2 div.sk-serial::before {content: \"\";position: absolute;border-left: 1px solid gray;box-sizing: border-box;top: 0;bottom: 0;left: 50%;z-index: 0;}#sk-container-id-2 div.sk-serial {display: flex;flex-direction: column;align-items: center;background-color: white;padding-right: 0.2em;padding-left: 0.2em;position: relative;}#sk-container-id-2 div.sk-item {position: relative;z-index: 1;}#sk-container-id-2 div.sk-parallel {display: flex;align-items: stretch;justify-content: center;background-color: white;position: relative;}#sk-container-id-2 div.sk-item::before, #sk-container-id-2 div.sk-parallel-item::before {content: \"\";position: absolute;border-left: 1px solid gray;box-sizing: border-box;top: 0;bottom: 0;left: 50%;z-index: -1;}#sk-container-id-2 div.sk-parallel-item {display: flex;flex-direction: column;z-index: 1;position: relative;background-color: white;}#sk-container-id-2 div.sk-parallel-item:first-child::after {align-self: flex-end;width: 50%;}#sk-container-id-2 div.sk-parallel-item:last-child::after {align-self: flex-start;width: 50%;}#sk-container-id-2 div.sk-parallel-item:only-child::after {width: 0;}#sk-container-id-2 div.sk-dashed-wrapped {border: 1px dashed gray;margin: 0 0.4em 0.5em 0.4em;box-sizing: border-box;padding-bottom: 0.4em;background-color: white;}#sk-container-id-2 div.sk-label label {font-family: monospace;font-weight: bold;display: inline-block;line-height: 1.2em;}#sk-container-id-2 div.sk-label-container {text-align: center;}#sk-container-id-2 div.sk-container {/* jupyter's `normalize.less` sets `[hidden] { display: none; }` but bootstrap.min.css set `[hidden] { display: none !important; }` so we also need the `!important` here to be able to override the default hidden behavior on the sphinx rendered scikit-learn.org. See: https://github.com/scikit-learn/scikit-learn/issues/21755 */display: inline-block !important;position: relative;}#sk-container-id-2 div.sk-text-repr-fallback {display: none;}</style><div id=\"sk-container-id-2\" class=\"sk-top-container\"><div class=\"sk-text-repr-fallback\"><pre>GradientBoostingClassifier()</pre><b>In a Jupyter environment, please rerun this cell to show the HTML representation or trust the notebook. <br />On GitHub, the HTML representation is unable to render, please try loading this page with nbviewer.org.</b></div><div class=\"sk-container\" hidden><div class=\"sk-item\"><div class=\"sk-estimator sk-toggleable\"><input class=\"sk-toggleable__control sk-hidden--visually\" id=\"sk-estimator-id-2\" type=\"checkbox\" checked><label for=\"sk-estimator-id-2\" class=\"sk-toggleable__label sk-toggleable__label-arrow\">GradientBoostingClassifier</label><div class=\"sk-toggleable__content\"><pre>GradientBoostingClassifier()</pre></div></div></div></div></div>"
      ],
      "text/plain": [
       "GradientBoostingClassifier()"
      ]
     },
     "execution_count": 59,
     "metadata": {},
     "output_type": "execute_result"
    }
   ],
   "source": [
    "gb = GradientBoostingClassifier()\n",
    "gb.fit(X_train, y_train)"
   ]
  },
  {
   "cell_type": "code",
   "execution_count": 60,
   "id": "32da3fce",
   "metadata": {},
   "outputs": [],
   "source": [
    "gb_acc = accuracy_score(y_test, gb.predict(X_test))"
   ]
  },
  {
   "cell_type": "code",
   "execution_count": 61,
   "id": "78947ce7",
   "metadata": {},
   "outputs": [
    {
     "name": "stdout",
     "output_type": "stream",
     "text": [
      "Training Accuracy of Gradient Boosting Classifier is 0.8523261505537911\n",
      "Test Accuracy of Gradient Boosting Classifier is 0.8527669165229567 \n",
      "\n",
      "Confusion Matrix :- \n",
      "[[    4  8623]\n",
      " [    0 49940]]\n",
      "\n",
      "Classification Report :- \n",
      "                    precision    recall  f1-score   support\n",
      "\n",
      "   Fraud Reported       1.00      0.00      0.00      8627\n",
      "No Fraud Reported       0.85      1.00      0.92     49940\n",
      "\n",
      "         accuracy                           0.85     58567\n",
      "        macro avg       0.93      0.50      0.46     58567\n",
      "     weighted avg       0.87      0.85      0.79     58567\n",
      "\n"
     ]
    }
   ],
   "source": [
    "print(f\"Training Accuracy of Gradient Boosting Classifier is {accuracy_score(y_train, gb.predict(X_train))}\")\n",
    "print(f\"Test Accuracy of Gradient Boosting Classifier is {gb_acc} \\n\")\n",
    "\n",
    "print(f\"Confusion Matrix :- \\n{confusion_matrix(y_test, gb.predict(X_test))}\\n\")\n",
    "print(f\"Classification Report :- \\n {classification_report(y_test, gb.predict(X_test))}\")"
   ]
  },
  {
   "cell_type": "markdown",
   "id": "fe78a2d9",
   "metadata": {},
   "source": [
    "# Adaboost"
   ]
  },
  {
   "cell_type": "code",
   "execution_count": null,
   "id": "c8bbf5dd",
   "metadata": {},
   "outputs": [],
   "source": [
    "ada = AdaBoostClassifier(n_estimators=100, random_state=0)\n",
    "ada.fit(X_train, y_train)"
   ]
  },
  {
   "cell_type": "code",
   "execution_count": null,
   "id": "05a075ad",
   "metadata": {},
   "outputs": [],
   "source": [
    "ada_acc = accuracy_score(y_test, ada.predict(X_test))"
   ]
  },
  {
   "cell_type": "code",
   "execution_count": null,
   "id": "bf015496",
   "metadata": {},
   "outputs": [],
   "source": [
    "print(f\"Training Accuracy of Adaboosting Classifier is {accuracy_score(y_train, ada.predict(X_train))}\")\n",
    "print(f\"Test Accuracy of Adaboosting Classifier is {ad_acc} \\n\")\n",
    "\n",
    "print(f\"Confusion Matrix :- \\n{confusion_matrix(y_test, ada.predict(X_test))}\\n\")\n",
    "print(f\"Classification Report :- \\n {classification_report(y_test, ada.predict(X_test))}\")"
   ]
  },
  {
   "cell_type": "code",
   "execution_count": null,
   "id": "28bed937",
   "metadata": {},
   "outputs": [],
   "source": []
  },
  {
   "cell_type": "code",
   "execution_count": 35,
   "id": "5794fbde",
   "metadata": {},
   "outputs": [],
   "source": [
    "from refractml import *\n",
    "from refractml.constants import MLModelFlavours\n",
    "import requests"
   ]
  },
  {
   "cell_type": "code",
   "execution_count": 36,
   "id": "40a70645",
   "metadata": {},
   "outputs": [],
   "source": [
    "actual_model_columns = ['months_as_customer',\n",
    " 'policy_deductable',\n",
    " 'umbrella_limit',\n",
    " 'capital_gains',\n",
    " 'capital_loss',\n",
    " 'incident_hour_of_the_day',\n",
    " 'number_of_vehicles_involved',\n",
    " 'bodily_injuries',\n",
    " 'witnesses',\n",
    " 'injury_claim',\n",
    " 'property_claim',\n",
    " 'vehicle_claim',\n",
    " 'policy_annual_premium',\n",
    " 'total_claim_amount',\n",
    " 'customer_age_20',\n",
    " 'customer_age_21',\n",
    " 'customer_age_22',\n",
    " 'customer_age_23',\n",
    " 'customer_age_24',\n",
    " 'customer_age_25',\n",
    " 'customer_age_26',\n",
    " 'customer_age_27',\n",
    " 'customer_age_28',\n",
    " 'customer_age_29',\n",
    " 'customer_age_30',\n",
    " 'customer_age_31',\n",
    " 'customer_age_32',\n",
    " 'customer_age_33',\n",
    " 'customer_age_34',\n",
    " 'customer_age_35',\n",
    " 'customer_age_36',\n",
    " 'customer_age_37',\n",
    " 'customer_age_38',\n",
    " 'customer_age_39',\n",
    " 'customer_age_40',\n",
    " 'customer_age_41',\n",
    " 'customer_age_42',\n",
    " 'customer_age_43',\n",
    " 'customer_age_44',\n",
    " 'customer_age_45',\n",
    " 'customer_age_46',\n",
    " 'customer_age_47',\n",
    " 'customer_age_48',\n",
    " 'customer_age_49',\n",
    " 'customer_age_50',\n",
    " 'customer_age_51',\n",
    " 'customer_age_52',\n",
    " 'customer_age_53',\n",
    " 'customer_age_54',\n",
    " 'customer_age_55',\n",
    " 'customer_age_56',\n",
    " 'customer_age_57',\n",
    " 'customer_age_58',\n",
    " 'customer_age_59',\n",
    " 'customer_age_60',\n",
    " 'customer_age_61',\n",
    " 'customer_age_62',\n",
    " 'customer_age_63',\n",
    " 'customer_age_64',\n",
    " 'customer_age_65',\n",
    " 'customer_age_66',\n",
    " 'customer_age_67',\n",
    " 'customer_age_68',\n",
    " 'customer_age_69',\n",
    " 'policy_csl_250/500',\n",
    " 'policy_csl_500/1000',\n",
    " 'insured_sex_MALE',\n",
    " 'insured_education_level_College',\n",
    " 'insured_education_level_High School',\n",
    " 'insured_education_level_JD',\n",
    " 'insured_education_level_MD',\n",
    " 'insured_education_level_Masters',\n",
    " 'insured_education_level_PhD',\n",
    " 'insured_occupation_armed-forces',\n",
    " 'insured_occupation_craft-repair',\n",
    " 'insured_occupation_exec-managerial',\n",
    " 'insured_occupation_farming-fishing',\n",
    " 'insured_occupation_handlers-cleaners',\n",
    " 'insured_occupation_machine-op-inspct',\n",
    " 'insured_occupation_other-service',\n",
    " 'insured_occupation_priv-house-serv',\n",
    " 'insured_occupation_prof-specialty',\n",
    " 'insured_occupation_protective-serv',\n",
    " 'insured_occupation_sales',\n",
    " 'insured_occupation_tech-support',\n",
    " 'insured_occupation_transport-moving',\n",
    " 'insured_relationship_not-in-family',\n",
    " 'insured_relationship_other-relative',\n",
    " 'insured_relationship_own-child',\n",
    " 'insured_relationship_unmarried',\n",
    " 'insured_relationship_wife',\n",
    " 'incident_type_Parked Car',\n",
    " 'incident_type_Single Vehicle Collision',\n",
    " 'incident_type_Vehicle Theft',\n",
    " 'collision_type_Front Collision',\n",
    " 'collision_type_Rear Collision',\n",
    " 'collision_type_Side Collision',\n",
    " 'incident_severity_Minor Damage',\n",
    " 'incident_severity_Total Loss',\n",
    " 'authorities_contacted_Fire',\n",
    " 'authorities_contacted_None',\n",
    " 'authorities_contacted_Other',\n",
    " 'authorities_contacted_Police',\n",
    " 'incident_time_of_day_Early Morning Hours',\n",
    " 'incident_time_of_day_Morning to Noon',\n",
    " 'incident_time_of_day_Night Time',\n",
    " 'property_damage_No Property Damage',\n",
    " 'property_damage_Property Damage',\n",
    " 'police_report_available_Police Report Available',\n",
    " 'police_report_available_Unknown']"
   ]
  },
  {
   "cell_type": "code",
   "execution_count": 37,
   "id": "293e583a",
   "metadata": {},
   "outputs": [],
   "source": [
    "@scoring_func\n",
    "def score(model, request):\n",
    "    payload_dict = request.json[\"payload\"]\n",
    "    df = pd.DataFrame(payload_dict,index=[0])\n",
    "    df = df.fillna(0)\n",
    "    df.columns = df.columns.str.lower()\n",
    "    df.drop(to_drop, inplace=True, axis=1)\n",
    "    \n",
    "    # extracting categorical columns\n",
    "    cat_df = df[['customer_age','policy_csl','insured_sex','insured_education_level','insured_occupation','insured_relationship','incident_type','collision_type','incident_severity','authorities_contacted','incident_time_of_day','property_damage','police_report_available']]\n",
    "    cat_df = pd.get_dummies(cat_df, drop_first = True)\n",
    "\n",
    "    num_df = df[['months_as_customer', 'policy_deductable', 'policy_annual_premium',\n",
    "       'umbrella_limit', 'capital_gains', 'capital_loss',\n",
    "       'incident_hour_of_the_day', 'number_of_vehicles_involved',\n",
    "       'bodily_injuries', 'witnesses', 'total_claim_amount', 'injury_claim',\n",
    "       'property_claim', 'vehicle_claim']]\n",
    "    \n",
    "    X = pd.concat([num_df, cat_df], axis = 1)\n",
    "    \n",
    "    num_df_test = X[['months_as_customer', 'policy_deductable', 'umbrella_limit',\n",
    "       'capital_gains', 'capital_loss', 'incident_hour_of_the_day',\n",
    "       'number_of_vehicles_involved', 'bodily_injuries', 'witnesses', 'injury_claim', 'property_claim',\n",
    "       'vehicle_claim']]\n",
    "\n",
    "    scaled_data_test = scaler.transform(num_df_test)\n",
    "    scaled_num_df_test = pd.DataFrame(data = scaled_data_test, columns = num_df_test.columns, index = X.index)\n",
    "    \n",
    "    X.drop(columns = scaled_num_df_test.columns, inplace = True)\n",
    "    X = pd.concat([scaled_num_df_test, X], axis = 1)\n",
    "    \n",
    "    missing_features = [missing_col for missing_col in actual_model_columns if missing_col not in X.columns]\n",
    "    X[missing_features] = 0\n",
    "    \n",
    "    prediction = model.predict(X[actual_model_columns])\n",
    "    probability = model.predict_proba(X)[:,1]\n",
    "    return {\"prediction\" : prediction, \"probability\" : probability}"
   ]
  },
  {
   "cell_type": "code",
   "execution_count": 38,
   "id": "4027c115",
   "metadata": {},
   "outputs": [],
   "source": [
    "insurance_claim.columns = insurance_claim.columns.str.upper()\n",
    "insurance_claims = insurance_claim.copy()\n",
    "insurance_claims.drop('FRAUD_REPORTED', axis = 1, inplace=True)\n",
    "payload = insurance_claims.iloc[0].to_dict()"
   ]
  },
  {
   "cell_type": "code",
   "execution_count": 40,
   "id": "4c06046d",
   "metadata": {},
   "outputs": [
    {
     "data": {
      "text/plain": [
       "{'prediction': array(['No Fraud Reported'], dtype=object),\n",
       " 'probability': array([1.])}"
      ]
     },
     "execution_count": 40,
     "metadata": {},
     "output_type": "execute_result"
    }
   ],
   "source": [
    "req = requests.Request()\n",
    "req.json = {\"payload\":payload}\n",
    "y_req = req\n",
    "y_out = score(etc, y_req)\n",
    "y_out"
   ]
  },
  {
   "cell_type": "code",
   "execution_count": 41,
   "id": "0cdbb6de",
   "metadata": {},
   "outputs": [
    {
     "data": {
      "text/plain": [
       "{'payload': {'MONTHS_AS_CUSTOMER': 37,\n",
       "  'CUSTOMER_AGE': '58',\n",
       "  'POLICY_NUMBER': 459791,\n",
       "  'POLICY_BIND_DATE': '27-04-2010',\n",
       "  'POLICY_STATE': 'CT',\n",
       "  'POLICY_CSL': '250/500',\n",
       "  'POLICY_DEDUCTABLE': 1171,\n",
       "  'POLICY_ANNUAL_PREMIUM': 1394,\n",
       "  'UMBRELLA_LIMIT': 4344805,\n",
       "  'INSURED_ZIP': '444558',\n",
       "  'INSURED_SEX': 'FEMALE',\n",
       "  'INSURED_EDUCATION_LEVEL': 'MD',\n",
       "  'INSURED_OCCUPATION': 'tech-support',\n",
       "  'INSURED_HOBBIES': 'board-games',\n",
       "  'INSURED_RELATIONSHIP': 'other-relative',\n",
       "  'CAPITAL_GAINS': 77256,\n",
       "  'CAPITAL_LOSS': -9989,\n",
       "  'INCIDENT_DATE': datetime.date(2022, 5, 13),\n",
       "  'INCIDENT_TYPE': 'Multi-vehicle Collision',\n",
       "  'COLLISION_TYPE': 'Details not Available',\n",
       "  'INCIDENT_SEVERITY': 'Major Damage',\n",
       "  'AUTHORITIES_CONTACTED': 'None',\n",
       "  'INCIDENT_STATE': 'CT',\n",
       "  'INCIDENT_CITY': 'Vernon',\n",
       "  'INCIDENT_LOCATION': 'Lane',\n",
       "  'INCIDENT_HOUR_OF_THE_DAY': 22,\n",
       "  'INCIDENT_TIME_OF_DAY': 'Night Time',\n",
       "  'NUMBER_OF_VEHICLES_INVOLVED': 3,\n",
       "  'PROPERTY_DAMAGE': 'No Property Damage',\n",
       "  'BODILY_INJURIES': 1,\n",
       "  'WITNESSES': 2,\n",
       "  'POLICE_REPORT_AVAILABLE': 'Police Report Available',\n",
       "  'TOTAL_CLAIM_AMOUNT': 77586.0,\n",
       "  'INJURY_CLAIM': 13159.0,\n",
       "  'PROPERTY_CLAIM': 888.0,\n",
       "  'VEHICLE_CLAIM': 63539.0,\n",
       "  'AUTO_MAKE': 'BMW',\n",
       "  'AUTO_MODEL': '3 Series',\n",
       "  'AUTO_YEAR': 2010}}"
      ]
     },
     "execution_count": 41,
     "metadata": {},
     "output_type": "execute_result"
    }
   ],
   "source": [
    "req.json"
   ]
  },
  {
   "cell_type": "code",
   "execution_count": 42,
   "id": "26e0a320",
   "metadata": {},
   "outputs": [
    {
     "name": "stdout",
     "output_type": "stream",
     "text": [
      "Calculating build time metrics\n",
      "\n",
      "Progress: ██████████████████████████████████████████████████████████████████████ 100.0%\n"
     ]
    },
    {
     "data": {
      "application/vnd.jupyter.widget-view+json": {
       "model_id": "2f21a54ee301404dbae14eb050ce07d1",
       "version_major": 2,
       "version_minor": 0
      },
      "text/plain": [
       "VBox(children=(HTML(value='<style>.grad_1{background: #2468a4;} .grad_2{ color:white; background: #2468a4;}</s…"
      ]
     },
     "metadata": {},
     "output_type": "display_data"
    }
   ],
   "source": [
    "## registering the model in refract.\n",
    "model_reg = register_model(etc, \n",
    "               score, \n",
    "               name=\"ILF_ExtraTree_FraudClassifier\", \n",
    "               description=\"Insurance claim's model trained for Fraud Classification\",\n",
    "               flavour=MLModelFlavours.sklearn,\n",
    "               model_type=\"classification\",\n",
    "               init_script=\"snowflake-connector-python[pandas]\",\n",
    "               y_true=y_test,\n",
    "               y_pred=y_pred, \n",
    "               prob=y_prob,\n",
    "               features=X_train.columns,\n",
    "               input_type=\"json\", \n",
    "               explain_ai=True,\n",
    "               x_train=X_train, \n",
    "               x_test=X_test, \n",
    "               y_train=y_train.tolist(),\n",
    "               y_test=y_test.tolist(),\n",
    "               feature_names=X_train.columns.tolist(),\n",
    "               original_features=X_train.columns.tolist(),\n",
    "               feature_ids=X_train.columns,\n",
    "               kyd=True, kyd_score = True)"
   ]
  }
 ],
 "metadata": {
  "kernelspec": {
   "display_name": "Python 3",
   "language": "python",
   "name": "python3"
  },
  "language_info": {
   "codemirror_mode": {
    "name": "ipython",
    "version": 3
   },
   "file_extension": ".py",
   "mimetype": "text/x-python",
   "name": "python",
   "nbconvert_exporter": "python",
   "pygments_lexer": "ipython3",
   "version": "3.8.18"
  }
 },
 "nbformat": 4,
 "nbformat_minor": 5
}
