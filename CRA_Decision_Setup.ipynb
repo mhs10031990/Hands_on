{
 "cells": [
  {
   "cell_type": "code",
   "execution_count": 1,
   "id": "b908537c",
   "metadata": {},
   "outputs": [],
   "source": [
    "from snowflake.snowpark import Session\n",
    "# create_temp_table warning suppresion\n",
    "import warnings; warnings.simplefilter('ignore')\n",
    "import configparser\n",
    "\n",
    "import pandas as pd"
   ]
  },
  {
   "cell_type": "code",
   "execution_count": 32,
   "id": "dcd64749",
   "metadata": {},
   "outputs": [
    {
     "data": {
      "text/plain": [
       "['snowflake_connection.ini']"
      ]
     },
     "execution_count": 32,
     "metadata": {},
     "output_type": "execute_result"
    }
   ],
   "source": [
    "config = configparser.ConfigParser()\n",
    "config.read(\"snowflake_connection.ini\")"
   ]
  },
  {
   "cell_type": "code",
   "execution_count": 33,
   "id": "0df6781a",
   "metadata": {},
   "outputs": [],
   "source": [
    "connection_parameters = {\n",
    "    \"user\": f'{config[\"Snowflake\"][\"user\"]}',\n",
    "    \"password\": f'{config[\"Snowflake\"][\"password\"]}',\n",
    "    #\"password\": os.getenv('snowflake_password'),\n",
    "    \"account\": f'{config[\"Snowflake\"][\"account\"]}',\n",
    "    #\"account\": os.getenv('snowflake_account'),\n",
    "    \"WAREHOUSE\": f'{config[\"Snowflake\"][\"WAREHOUSE\"]}',\n",
    "    \"DATABASE\": f'{config[\"Snowflake\"][\"DATABASE\"]}',\n",
    "    \"SCHEMA\": f'{config[\"Snowflake\"][\"SCHEMA\"]}'\n",
    "}"
   ]
  },
  {
   "cell_type": "code",
   "execution_count": 34,
   "id": "9a4497b2",
   "metadata": {},
   "outputs": [
    {
     "name": "stdout",
     "output_type": "stream",
     "text": [
      "connection successful!\n"
     ]
    }
   ],
   "source": [
    "def snowflake_connector(conn):\n",
    "    try:\n",
    "        session = Session.builder.configs(conn).create()\n",
    "        print(\"connection successful!\")\n",
    "    except:\n",
    "        raise ValueError(\"error while connecting with db\")\n",
    "    return session\n",
    "\n",
    "session = snowflake_connector(connection_parameters)"
   ]
  },
  {
   "cell_type": "code",
   "execution_count": 48,
   "id": "0dc468b6",
   "metadata": {},
   "outputs": [],
   "source": [
    "df =  pd.read_csv('/data/Lumin_Dump_CreditRiskAnalytics_v1.csv')"
   ]
  },
  {
   "cell_type": "code",
   "execution_count": 49,
   "id": "35cc6cc2",
   "metadata": {},
   "outputs": [],
   "source": [
    "df['APPL_MONTH'] = pd.to_datetime(df['APPL_MONTH'], format='ISO8601')"
   ]
  },
  {
   "cell_type": "code",
   "execution_count": 50,
   "id": "4e2b6795",
   "metadata": {},
   "outputs": [],
   "source": [
    "df['HOUSETYPE_MODE'].fillna('Missing', inplace=True)\n",
    "df['WALLSMATERIAL_MODE'].fillna('Missing', inplace=True)\n",
    "df['EMERGENCYSTATE_MODE'].fillna('Missing', inplace=True)\n",
    "df['OCCUPATION_TYPE'].fillna('Missing', inplace=True)\n",
    "df['FONDKAPREMONT_MODE'].fillna('Missing', inplace=True)\n",
    "df['NAME_TYPE_SUITE'].fillna('Missing', inplace=True)"
   ]
  },
  {
   "cell_type": "code",
   "execution_count": 51,
   "id": "88e51ac1",
   "metadata": {},
   "outputs": [],
   "source": [
    "df['RECORD_COUNT'] = df['RECORD_COUNT'].apply(str)\n",
    "df['APPL_MONTH'] = df['APPL_MONTH'].apply(str)\n",
    "df['SK_ID_CURR'] = df['SK_ID_CURR'].apply(str)\n",
    "df['TARGET'] = df['TARGET'].apply(str)\n",
    "df['FLAG_MOBIL'] = df['FLAG_MOBIL'].apply(str)\n",
    "df['FLAG_EMP_PHONE'] = df['FLAG_EMP_PHONE'].apply(str)\n",
    "df['FLAG_WORK_PHONE'] = df['FLAG_WORK_PHONE'].apply(str)\n",
    "df['FLAG_CONT_MOBILE'] = df['FLAG_CONT_MOBILE'].apply(str)\n",
    "df['FLAG_PHONE'] = df['FLAG_PHONE'].apply(str)\n",
    "df['FLAG_EMAIL'] = df['FLAG_EMAIL'].apply(str)\n",
    "df['REGION_RATING_CLIENT_W_CITY'] = df['REGION_RATING_CLIENT_W_CITY'].apply(str)\n",
    "df['HOUR_APPR_PROCESS_START'] = df['HOUR_APPR_PROCESS_START'].apply(str)\n",
    "df['REG_REGION_NOT_LIVE_REGION'] = df['REG_REGION_NOT_LIVE_REGION'].apply(str)\n",
    "df['REG_REGION_NOT_WORK_REGION'] = df['REG_REGION_NOT_WORK_REGION'].apply(str)\n",
    "df['LIVE_REGION_NOT_WORK_REGION'] = df['LIVE_REGION_NOT_WORK_REGION'].apply(str)\n",
    "df['REG_CITY_NOT_LIVE_CITY'] = df['REG_CITY_NOT_LIVE_CITY'].apply(str)\n",
    "df['REG_CITY_NOT_WORK_CITY'] = df['REG_CITY_NOT_WORK_CITY'].apply(str)\n",
    "df['LIVE_CITY_NOT_WORK_CITY'] = df['LIVE_CITY_NOT_WORK_CITY'].apply(str)\n",
    "df['EXT_SOURCE_1'] = df['EXT_SOURCE_1'].apply(str)\n",
    "df['EXT_SOURCE_2'] = df['EXT_SOURCE_2'].apply(str)\n",
    "df['YEARS_BUILD_MEDI'] = df['YEARS_BUILD_MEDI'].apply(str)\n",
    "df['COMMONAREA_MEDI'] = df['COMMONAREA_MEDI'].apply(str)\n",
    "df['ELEVATORS_MEDI'] = df['ELEVATORS_MEDI'].apply(str)\n",
    "df['ENTRANCES_MEDI'] = df['ENTRANCES_MEDI'].apply(str)\n",
    "df['FLOORSMAX_MEDI'] = df['FLOORSMAX_MEDI'].apply(str)\n",
    "df['FLOORSMIN_MEDI'] = df['FLOORSMIN_MEDI'].apply(str)\n",
    "df['LANDAREA_MEDI'] = df['LANDAREA_MEDI'].apply(str)\n",
    "df['LIVINGAPARTMENTS_MEDI'] = df['LIVINGAPARTMENTS_MEDI'].apply(str)\n",
    "df['LIVINGAREA_MEDI'] = df['LIVINGAREA_MEDI'].apply(str)\n",
    "df['NONLIVINGAPARTMENTS_MEDI'] = df['NONLIVINGAPARTMENTS_MEDI'].apply(str)\n",
    "df['NONLIVINGAREA_MEDI'] = df['NONLIVINGAREA_MEDI'].apply(str)\n",
    "df['TOTALAREA_MODE'] = df['TOTALAREA_MODE'].apply(str)\n",
    "df['DAYS_LAST_PHONE_CHANGE'] = df['DAYS_LAST_PHONE_CHANGE'].apply(str)\n",
    "df['AMT_REQ_CREDIT_BUREAU_HOUR'] = df['AMT_REQ_CREDIT_BUREAU_HOUR'].apply(str)\n",
    "df['AMT_REQ_CREDIT_BUREAU_DAY'] = df['AMT_REQ_CREDIT_BUREAU_DAY'].apply(str)\n",
    "df['AMT_REQ_CREDIT_BUREAU_WEEK'] = df['AMT_REQ_CREDIT_BUREAU_WEEK'].apply(str)\n",
    "df['AMT_REQ_CREDIT_BUREAU_MON'] = df['AMT_REQ_CREDIT_BUREAU_MON'].apply(str)\n",
    "df['AMT_REQ_CREDIT_BUREAU_QRT'] = df['AMT_REQ_CREDIT_BUREAU_QRT'].apply(str)\n",
    "df['OBS_30_CNT_SOCIAL_CIRCLE'] = df['OBS_30_CNT_SOCIAL_CIRCLE'].apply(str)\n",
    "df['DEF_30_CNT_SOCIAL_CIRCLE'] = df['DEF_30_CNT_SOCIAL_CIRCLE'].apply(str)"
   ]
  },
  {
   "cell_type": "code",
   "execution_count": 52,
   "id": "d2d9c8cc",
   "metadata": {},
   "outputs": [],
   "source": [
    "df_snowflake=session.createDataFrame(\n",
    "        df.values.tolist(),\n",
    "        schema=df.columns.tolist())\n",
    "df_snowflake.write.mode(\"overwrite\").save_as_table(\"FDC_DATA_MANISH.PUBLIC.CRA_APPLICATION_OUTPUT_DECISION_V1\")"
   ]
  },
  {
   "cell_type": "code",
   "execution_count": 53,
   "id": "4f54f13e",
   "metadata": {},
   "outputs": [],
   "source": [
    "df =  pd.read_csv('/data/Lumin_Dump_CreditRiskAnalytics_v2.csv')"
   ]
  },
  {
   "cell_type": "code",
   "execution_count": 54,
   "id": "4b1410f8",
   "metadata": {},
   "outputs": [],
   "source": [
    "df['APPL_MONTH'] = pd.to_datetime(df['APPL_MONTH'], format='ISO8601')"
   ]
  },
  {
   "cell_type": "code",
   "execution_count": 55,
   "id": "b902f978",
   "metadata": {},
   "outputs": [],
   "source": [
    "df['HOUSETYPE_MODE'].fillna('Missing', inplace=True)\n",
    "df['WALLSMATERIAL_MODE'].fillna('Missing', inplace=True)\n",
    "df['EMERGENCYSTATE_MODE'].fillna('Missing', inplace=True)\n",
    "df['OCCUPATION_TYPE'].fillna('Missing', inplace=True)\n",
    "df['FONDKAPREMONT_MODE'].fillna('Missing', inplace=True)\n",
    "df['NAME_TYPE_SUITE'].fillna('Missing', inplace=True)"
   ]
  },
  {
   "cell_type": "code",
   "execution_count": 56,
   "id": "7f7195a8",
   "metadata": {},
   "outputs": [],
   "source": [
    "df['RECORD_COUNT'] = df['RECORD_COUNT'].apply(str)\n",
    "df['APPL_MONTH'] = df['APPL_MONTH'].apply(str)\n",
    "df['SK_ID_CURR'] = df['SK_ID_CURR'].apply(str)\n",
    "df['TARGET'] = df['TARGET'].apply(str)\n",
    "df['FLAG_MOBIL'] = df['FLAG_MOBIL'].apply(str)\n",
    "df['FLAG_EMP_PHONE'] = df['FLAG_EMP_PHONE'].apply(str)\n",
    "df['FLAG_WORK_PHONE'] = df['FLAG_WORK_PHONE'].apply(str)\n",
    "df['FLAG_CONT_MOBILE'] = df['FLAG_CONT_MOBILE'].apply(str)\n",
    "df['FLAG_PHONE'] = df['FLAG_PHONE'].apply(str)\n",
    "df['FLAG_EMAIL'] = df['FLAG_EMAIL'].apply(str)\n",
    "df['REGION_RATING_CLIENT_W_CITY'] = df['REGION_RATING_CLIENT_W_CITY'].apply(str)\n",
    "df['HOUR_APPR_PROCESS_START'] = df['HOUR_APPR_PROCESS_START'].apply(str)\n",
    "df['REG_REGION_NOT_LIVE_REGION'] = df['REG_REGION_NOT_LIVE_REGION'].apply(str)\n",
    "df['REG_REGION_NOT_WORK_REGION'] = df['REG_REGION_NOT_WORK_REGION'].apply(str)\n",
    "df['LIVE_REGION_NOT_WORK_REGION'] = df['LIVE_REGION_NOT_WORK_REGION'].apply(str)\n",
    "df['REG_CITY_NOT_LIVE_CITY'] = df['REG_CITY_NOT_LIVE_CITY'].apply(str)\n",
    "df['REG_CITY_NOT_WORK_CITY'] = df['REG_CITY_NOT_WORK_CITY'].apply(str)\n",
    "df['LIVE_CITY_NOT_WORK_CITY'] = df['LIVE_CITY_NOT_WORK_CITY'].apply(str)\n",
    "df['EXT_SOURCE_1'] = df['EXT_SOURCE_1'].apply(str)\n",
    "df['EXT_SOURCE_2'] = df['EXT_SOURCE_2'].apply(str)\n",
    "df['YEARS_BUILD_MEDI'] = df['YEARS_BUILD_MEDI'].apply(str)\n",
    "df['COMMONAREA_MEDI'] = df['COMMONAREA_MEDI'].apply(str)\n",
    "df['ELEVATORS_MEDI'] = df['ELEVATORS_MEDI'].apply(str)\n",
    "df['ENTRANCES_MEDI'] = df['ENTRANCES_MEDI'].apply(str)\n",
    "df['FLOORSMAX_MEDI'] = df['FLOORSMAX_MEDI'].apply(str)\n",
    "df['FLOORSMIN_MEDI'] = df['FLOORSMIN_MEDI'].apply(str)\n",
    "df['LANDAREA_MEDI'] = df['LANDAREA_MEDI'].apply(str)\n",
    "df['LIVINGAPARTMENTS_MEDI'] = df['LIVINGAPARTMENTS_MEDI'].apply(str)\n",
    "df['LIVINGAREA_MEDI'] = df['LIVINGAREA_MEDI'].apply(str)\n",
    "df['NONLIVINGAPARTMENTS_MEDI'] = df['NONLIVINGAPARTMENTS_MEDI'].apply(str)\n",
    "df['NONLIVINGAREA_MEDI'] = df['NONLIVINGAREA_MEDI'].apply(str)\n",
    "df['TOTALAREA_MODE'] = df['TOTALAREA_MODE'].apply(str)\n",
    "df['DAYS_LAST_PHONE_CHANGE'] = df['DAYS_LAST_PHONE_CHANGE'].apply(str)\n",
    "df['AMT_REQ_CREDIT_BUREAU_HOUR'] = df['AMT_REQ_CREDIT_BUREAU_HOUR'].apply(str)\n",
    "df['AMT_REQ_CREDIT_BUREAU_DAY'] = df['AMT_REQ_CREDIT_BUREAU_DAY'].apply(str)\n",
    "df['AMT_REQ_CREDIT_BUREAU_WEEK'] = df['AMT_REQ_CREDIT_BUREAU_WEEK'].apply(str)\n",
    "df['AMT_REQ_CREDIT_BUREAU_MON'] = df['AMT_REQ_CREDIT_BUREAU_MON'].apply(str)\n",
    "df['AMT_REQ_CREDIT_BUREAU_QRT'] = df['AMT_REQ_CREDIT_BUREAU_QRT'].apply(str)\n",
    "df['OBS_30_CNT_SOCIAL_CIRCLE'] = df['OBS_30_CNT_SOCIAL_CIRCLE'].apply(str)\n",
    "df['DEF_30_CNT_SOCIAL_CIRCLE'] = df['DEF_30_CNT_SOCIAL_CIRCLE'].apply(str)"
   ]
  },
  {
   "cell_type": "code",
   "execution_count": 57,
   "id": "d9b8cede",
   "metadata": {},
   "outputs": [],
   "source": [
    "df_snowflake=session.createDataFrame(\n",
    "        df.values.tolist(),\n",
    "        schema=df.columns.tolist())\n",
    "df_snowflake.write.mode(\"overwrite\").save_as_table(\"FDC_DATA_MANISH.PUBLIC.CRA_APPLICATION_OUTPUT_DECISION_v2\")"
   ]
  },
  {
   "cell_type": "markdown",
   "id": "994b26c4",
   "metadata": {},
   "source": [
    "## Once the tables are ready, please execute below query on snowflake to create APPLICATION_DATE as DATE\n",
    "\n",
    "ALTER TABLE FDC_DATA_MANISH.PUBLIC.CRA_APPLICATION_OUTPUT_DECISION_v1 ADD COLUMN APPLICATION_DATE DATE\n",
    "UPDATE FDC_DATA_MANISH.PUBLIC.CRA_APPLICATION_OUTPUT_DECISION_v1 SET APPLICATION_DATE = TRY_TO_DATE(APPL_MONTH, 'dd-mm-yyyy')\n",
    "\n",
    "ALTER TABLE FDC_DATA_MANISH.PUBLIC.CRA_APPLICATION_OUTPUT_DECISION_v2 ADD COLUMN APPLICATION_DATE DATE;\n",
    "UPDATE FDC_DATA_MANISH.PUBLIC.CRA_APPLICATION_OUTPUT_DECISION_v2 SET APPLICATION_DATE = TRY_TO_DATE(APPL_MONTH, 'dd-mm-yyyy');"
   ]
  }
 ],
 "metadata": {
  "kernelspec": {
   "display_name": "Python 3",
   "language": "python",
   "name": "python3"
  },
  "language_info": {
   "codemirror_mode": {
    "name": "ipython",
    "version": 3
   },
   "file_extension": ".py",
   "mimetype": "text/x-python",
   "name": "python",
   "nbconvert_exporter": "python",
   "pygments_lexer": "ipython3",
   "version": "3.8.18"
  }
 },
 "nbformat": 4,
 "nbformat_minor": 5
}
